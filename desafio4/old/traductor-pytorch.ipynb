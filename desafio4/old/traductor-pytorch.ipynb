{
 "cells": [
  {
   "cell_type": "markdown",
   "metadata": {
    "id": "pfa39F4lsLf3"
   },
   "source": [
    "<img src=\"https://github.com/hernancontigiani/ceia_memorias_especializacion/raw/master/Figures/logoFIUBA.jpg\" width=\"500\" align=\"center\">\n",
    "\n",
    "\n",
    "# Procesamiento de lenguaje natural\n",
    "## LSTM Traductor\n",
    "Ejemplo basado en [LINK](https://stackabuse.com/python-for-nlp-neural-machine-translation-with-seq2seq-in-keras/)"
   ]
  },
  {
   "cell_type": "markdown",
   "metadata": {
    "id": "ZqO0PRcFsPTe"
   },
   "source": [
    "### Datos\n",
    "El objecto es utilizar datos disponibles de Anki de traducciones de texto en diferentes idiomas. Se construirá un modelo traductor seq2seq utilizando encoder-decoder.\\\n",
    "[LINK](https://www.manythings.org/anki/)"
   ]
  },
  {
   "cell_type": "code",
   "execution_count": 1,
   "metadata": {
    "id": "cq3YXak9sGHd"
   },
   "outputs": [
    {
     "data": {
      "text/plain": [
       "device(type='cuda')"
      ]
     },
     "execution_count": 1,
     "metadata": {},
     "output_type": "execute_result"
    }
   ],
   "source": [
    "import re\n",
    "\n",
    "import numpy as np\n",
    "import pandas as pd\n",
    "import matplotlib.pyplot as plt\n",
    "import seaborn as sns\n",
    "\n",
    "import torch\n",
    "import torch.nn.functional as F\n",
    "import torch.nn as nn\n",
    "from torch.utils.data import Dataset, DataLoader\n",
    "from torchinfo import summary\n",
    "\n",
    "cuda = torch.cuda.is_available()\n",
    "device = torch.device('cuda' if torch.cuda.is_available() else 'cpu')\n",
    "device"
   ]
  },
  {
   "cell_type": "code",
   "execution_count": null,
   "metadata": {},
   "outputs": [],
   "source": [
    "# Métrica de accuracy con máscara de padding\n",
    "def sequence_acc(logits, tgt_idx, pad_idx=0):\n",
    "    \"\"\"\n",
    "    logits : [B, L, V]  salida del modelo\n",
    "    tgt_idx: [B, L]     índices ground-truth\n",
    "    \"\"\"\n",
    "    pred_idx = logits.argmax(dim=-1)\n",
    "    mask     = tgt_idx.ne(pad_idx)            # True donde hay palabra\n",
    "    correct  = (pred_idx.eq(tgt_idx) & mask).float()\n",
    "    total = mask.sum()\n",
    "    return correct.sum() / total if total > 0 else torch.tensor(0.0)\n",
    "\n",
    "# Función de entrenamiento\n",
    "def train(model,\n",
    "          train_loader,\n",
    "          valid_loader,\n",
    "          optimizer,\n",
    "          criterion,              \n",
    "          epochs     = 50,\n",
    "          patience   = 7,\n",
    "          min_delta  = 1e-4,\n",
    "          device     = \"cuda\",\n",
    "          pad_idx    = 0):\n",
    "    model.to(device)\n",
    "    best_val_loss = float(\"inf\")\n",
    "    wait          = 0\n",
    "    best_state    = None\n",
    "    history = {\"loss\": [], \"accuracy\": [], \"val_loss\": [], \"val_accuracy\": []}\n",
    "\n",
    "    for epoch in range(1, epochs + 1):\n",
    "        # ----- TRAIN -----\n",
    "        model.train()\n",
    "        tot_loss, tot_acc = 0, 0\n",
    "        for enc_in, dec_in, tgt_idx in train_loader:\n",
    "            enc_in   = enc_in.to(device)\n",
    "            dec_in   = dec_in.to(device)\n",
    "            tgt_idx  = tgt_idx.to(device)\n",
    "            optimizer.zero_grad()\n",
    "            logits = model(enc_in, dec_in)            # [B, L, V]\n",
    "            B, L, V = logits.shape\n",
    "            loss = criterion(logits.view(-1, V), tgt_idx.view(-1))\n",
    "            loss.backward()\n",
    "            optimizer.step()\n",
    "            tot_loss += loss.item()\n",
    "            tot_acc  += sequence_acc(logits, tgt_idx, pad_idx).item()\n",
    "        train_loss = tot_loss / len(train_loader)\n",
    "        train_acc  = tot_acc  / len(train_loader)\n",
    "\n",
    "        # ----- VALID -----\n",
    "        model.eval()\n",
    "        val_loss, val_acc = 0, 0\n",
    "        with torch.no_grad():\n",
    "            for enc_in, dec_in, tgt_idx in valid_loader:\n",
    "                enc_in  = enc_in.to(device)\n",
    "                dec_in  = dec_in.to(device)\n",
    "                tgt_idx = tgt_idx.to(device)\n",
    "                logits = model(enc_in, dec_in)\n",
    "                B, L, V = logits.shape\n",
    "                loss = criterion(logits.view(-1, V), tgt_idx.view(-1))\n",
    "                val_loss += loss.item()\n",
    "                val_acc  += sequence_acc(logits, tgt_idx, pad_idx).item()\n",
    "        val_loss /= len(valid_loader)\n",
    "        val_acc  /= len(valid_loader)\n",
    "        history[\"loss\"].append(train_loss)\n",
    "        history[\"accuracy\"].append(train_acc)\n",
    "        history[\"val_loss\"].append(val_loss)\n",
    "        history[\"val_accuracy\"].append(val_acc)\n",
    "\n",
    "        print(f\"Epoch {epoch:3d}: \"\n",
    "              f\"Train L={train_loss:.4f} A={train_acc:.4f} | \"\n",
    "              f\"Val L={val_loss:.4f} A={val_acc:.4f}\")\n",
    "\n",
    "        # ----- EARLY STOPPING -----\n",
    "        if val_loss + min_delta < best_val_loss:\n",
    "            best_val_loss = val_loss\n",
    "            best_state    = model.state_dict()\n",
    "            wait = 0\n",
    "        else:\n",
    "            wait += 1\n",
    "            if wait >= patience:\n",
    "                print(\"Early stopping triggered\")\n",
    "                break\n",
    "\n",
    "    if best_state is not None:\n",
    "        model.load_state_dict(best_state)\n",
    "\n",
    "    return history, model"
   ]
  },
  {
   "cell_type": "markdown",
   "metadata": {
    "id": "5BFiCH8nxoIY"
   },
   "source": [
    "### 1 - Datos"
   ]
  },
  {
   "cell_type": "code",
   "execution_count": null,
   "metadata": {
    "colab": {
     "base_uri": "https://localhost:8080/"
    },
    "executionInfo": {
     "elapsed": 318,
     "status": "ok",
     "timestamp": 1655153154355,
     "user": {
      "displayName": "Hernán Contigiani",
      "userId": "01142101934719343059"
     },
     "user_tz": 180
    },
    "id": "-9aNLZBDtA5J",
    "outputId": "68de3ded-aa96-40fe-fab5-8083525e8c67"
   },
   "outputs": [
    {
     "name": "stdout",
     "output_type": "stream",
     "text": [
      "Cantidad de rows disponibles: 118964\n",
      "Cantidad de rows utilizadas: 118964\n"
     ]
    }
   ],
   "source": [
    "# dataset_file\n",
    "text_file = \"./clase/spa-eng/spa.txt\"\n",
    "with open(text_file, encoding=\"utf8\") as f:\n",
    "    lines = f.read().split(\"\\n\")[:-1]\n",
    "\n",
    "# Por limitaciones de RAM no se leen todas las filas\n",
    "MAX_NUM_SENTENCES = 0\n",
    "\n",
    "# Mezclar el dataset, forzar semilla siempre igual\n",
    "np.random.seed([40])\n",
    "np.random.shuffle(lines)\n",
    "\n",
    "input_sentences = []\n",
    "output_sentences = []\n",
    "output_sentences_inputs = []\n",
    "count = 0\n",
    "\n",
    "if MAX_NUM_SENTENCES == 0:\n",
    "    MAX_NUM_SENTENCES = len(lines)\n",
    "for line in lines:\n",
    "    count += 1\n",
    "    if count > MAX_NUM_SENTENCES:\n",
    "        break\n",
    "\n",
    "    if '\\t' not in line:\n",
    "        continue\n",
    "\n",
    "    # Input sentence --> eng\n",
    "    # output --> spa\n",
    "    input_sentence, output = line.rstrip().split('\\t')\n",
    "\n",
    "    # output sentence (decoder_output) tiene <eos>\n",
    "    output_sentence = output + ' <eos>'\n",
    "    # output sentence input (decoder_input) tiene <sos>\n",
    "    output_sentence_input = '<sos> ' + output\n",
    "\n",
    "    input_sentences.append(input_sentence)\n",
    "    output_sentences.append(output_sentence)\n",
    "    output_sentences_inputs.append(output_sentence_input)\n",
    "\n",
    "print(\"Cantidad de rows disponibles:\", len(lines))\n",
    "print(\"Cantidad de rows utilizadas:\", len(input_sentences))\n",
    "print(input_sentences[0], output_sentences[0], output_sentences_inputs[0])"
   ]
  },
  {
   "cell_type": "markdown",
   "metadata": {
    "id": "8P-ynUNP5xp6"
   },
   "source": [
    "### 2 - Preprocesamiento"
   ]
  },
  {
   "cell_type": "code",
   "execution_count": 6,
   "metadata": {
    "id": "5WAZGOTfGyha"
   },
   "outputs": [],
   "source": [
    "# Definir el tamaño máximo del vocabulario\n",
    "MAX_VOCAB_SIZE = 30000"
   ]
  },
  {
   "cell_type": "code",
   "execution_count": 7,
   "metadata": {
    "colab": {
     "base_uri": "https://localhost:8080/"
    },
    "executionInfo": {
     "elapsed": 8,
     "status": "ok",
     "timestamp": 1655153154356,
     "user": {
      "displayName": "Hernán Contigiani",
      "userId": "01142101934719343059"
     },
     "user_tz": 180
    },
    "id": "eF1W6peoFGXA",
    "outputId": "e748ad10-0c8d-4bca-ab4c-76f1974e12cc"
   },
   "outputs": [
    {
     "name": "stdout",
     "output_type": "stream",
     "text": [
      "Palabras en el vocabulario: 13524\n",
      "Sentencia de entrada más larga: 47\n"
     ]
    }
   ],
   "source": [
    "# Tokenizar las palabras con el Tokenizer de Keras\n",
    "# Definir una máxima cantidad de palabras a utilizar:\n",
    "# - num_words --> the maximum number of words to keep, based on word frequency.\n",
    "# - Only the most common num_words-1 words will be kept.\n",
    "from clase.torch_helpers import Tokenizer\n",
    "input_tokenizer = Tokenizer(num_words=MAX_VOCAB_SIZE)\n",
    "input_tokenizer.fit_on_texts(input_sentences)\n",
    "input_integer_seq = input_tokenizer.texts_to_sequences(input_sentences)\n",
    "\n",
    "word2idx_inputs = input_tokenizer.word_index\n",
    "print(\"Palabras en el vocabulario:\", len(word2idx_inputs))\n",
    "\n",
    "max_input_len = max(len(sen) for sen in input_integer_seq)\n",
    "print(\"Sentencia de entrada más larga:\", max_input_len)"
   ]
  },
  {
   "cell_type": "code",
   "execution_count": 8,
   "metadata": {
    "colab": {
     "base_uri": "https://localhost:8080/"
    },
    "executionInfo": {
     "elapsed": 584,
     "status": "ok",
     "timestamp": 1655153154936,
     "user": {
      "displayName": "Hernán Contigiani",
      "userId": "01142101934719343059"
     },
     "user_tz": 180
    },
    "id": "zBzdKiTVIBYY",
    "outputId": "f313cf87-642e-4671-b88d-90ecd0e80c28"
   },
   "outputs": [
    {
     "name": "stdout",
     "output_type": "stream",
     "text": [
      "Palabras en el vocabulario: 26341\n",
      "Sentencia de salida más larga: 50\n"
     ]
    }
   ],
   "source": [
    "# A los filtros de símbolos del Tokenizer agregamos el \"¿\",\n",
    "# sacamos los \"<>\" para que no afectar nuestros tokens\n",
    "output_tokenizer = Tokenizer(num_words=MAX_VOCAB_SIZE, filters='!\"#$%&()*+,-./:;=¿?@[\\\\]^_`{|}~\\t\\n')\n",
    "output_tokenizer.fit_on_texts([\"<sos>\", \"<eos>\"] + output_sentences)\n",
    "output_integer_seq = output_tokenizer.texts_to_sequences(output_sentences)\n",
    "output_input_integer_seq = output_tokenizer.texts_to_sequences(output_sentences_inputs)\n",
    "\n",
    "word2idx_outputs = output_tokenizer.word_index\n",
    "print(\"Palabras en el vocabulario:\", len(word2idx_outputs))\n",
    "\n",
    "num_words_output = min(len(word2idx_outputs) + 1, MAX_VOCAB_SIZE) # Se suma 1 por el primer <sos>\n",
    "max_out_len = max(len(sen) for sen in output_integer_seq)\n",
    "print(\"Sentencia de salida más larga:\", max_out_len)"
   ]
  },
  {
   "cell_type": "markdown",
   "metadata": {
    "id": "Xqb8ZJ4sJHgv"
   },
   "source": [
    "Como era de esperarse, las sentencias en castellano son más largas que en inglés, y lo mismo sucede con su vocabulario."
   ]
  },
  {
   "cell_type": "markdown",
   "metadata": {
    "id": "hGOn9N57IuYz"
   },
   "source": [
    "A la hora de realiza padding es importante teneer en cuenta que en el encoder los ceros se agregan al comienoz y en el decoder al final. Esto es porque la salida del encoder está basado en las últimas palabras de la sentencia (son las más importantes), mientras que en el decoder está basado en el comienzo de la secuencia de salida ya que es la realimentación del sistema y termina con fin de sentencia."
   ]
  },
  {
   "cell_type": "code",
   "execution_count": null,
   "metadata": {
    "colab": {
     "base_uri": "https://localhost:8080/"
    },
    "executionInfo": {
     "elapsed": 23,
     "status": "ok",
     "timestamp": 1655153154937,
     "user": {
      "displayName": "Hernán Contigiani",
      "userId": "01142101934719343059"
     },
     "user_tz": 180
    },
    "id": "q0Ob4hAWJkcv",
    "outputId": "9152d151-b863-49c9-e527-940d37a85385"
   },
   "outputs": [
    {
     "name": "stdout",
     "output_type": "stream",
     "text": [
      "Cantidad de rows del dataset: 118964\n",
      "encoder_input_sequences shape: (118964, 47)\n",
      "decoder_input_sequences shape: (118964, 50)\n"
     ]
    }
   ],
   "source": [
    "from clase.torch_helpers import pad_sequences\n",
    "print(\"Cantidad de rows del dataset:\", len(input_integer_seq))\n",
    "\n",
    "encoder_input_sequences = pad_sequences(input_integer_seq, maxlen=max_input_len)\n",
    "print(\"encoder_input_sequences shape:\", encoder_input_sequences.shape)\n",
    "\n",
    "decoder_input_sequences = pad_sequences(output_input_integer_seq, maxlen=max_out_len, padding='post')\n",
    "print(\"decoder_input_sequences shape:\", decoder_input_sequences.shape)\n",
    "\n",
    "decoder_output_sequences = pad_sequences(output_integer_seq, maxlen=max_out_len, padding='post')\n",
    "print(\"decoder_output_sequences shape:\", decoder_output_sequences.shape)"
   ]
  },
  {
   "cell_type": "markdown",
   "metadata": {},
   "source": [
    "Cargamos un dataset sin one_hot encoding para ocupar menos memoria"
   ]
  },
  {
   "cell_type": "code",
   "execution_count": 14,
   "metadata": {},
   "outputs": [
    {
     "name": "stdout",
     "output_type": "stream",
     "text": [
      "encoder_input_size: 47\n",
      "decoder_input_size: 50\n",
      "Output dim 50\n"
     ]
    }
   ],
   "source": [
    "class Seq2SeqDataset(Dataset):\n",
    "    \"\"\"\n",
    "    Devuelve tensores int64 con PAD=0.\n",
    "    ─ encoder_inputs : [N, T_enc]\n",
    "    ─ decoder_inputs : [N, T_dec]   (<sos> + frase)\n",
    "    ─ decoder_outputs: [N, T_dec]   (frase + <eos>)\n",
    "    \"\"\"\n",
    "    def __init__(self, enc_arr: np.ndarray,\n",
    "                       dec_in_arr: np.ndarray,\n",
    "                       dec_out_arr: np.ndarray):\n",
    "\n",
    "        # Convertir a tensores int64\n",
    "        self.encoder_inputs  = torch.from_numpy(enc_arr    .astype(np.int64))\n",
    "        self.decoder_inputs  = torch.from_numpy(dec_in_arr .astype(np.int64))\n",
    "        self.decoder_outputs = torch.from_numpy(dec_out_arr.astype(np.int64))\n",
    "\n",
    "        assert len(self.encoder_inputs) == len(self.decoder_inputs) == len(self.decoder_outputs), \\\n",
    "            \"Los tres arrays deben tener la misma longitud\"\n",
    "\n",
    "    def __getitem__(self, idx):\n",
    "        return (self.encoder_inputs [idx],\n",
    "                self.decoder_inputs [idx],\n",
    "                self.decoder_outputs[idx])\n",
    "\n",
    "    def __len__(self):\n",
    "        return len(self.encoder_inputs)\n",
    "    \n",
    "# Construcción\n",
    "data_set = Seq2SeqDataset(encoder_input_sequences,\n",
    "                          decoder_input_sequences,\n",
    "                          decoder_output_sequences)\n",
    "\n",
    "encoder_input_size = data_set.encoder_inputs.shape[1]\n",
    "print(\"encoder_input_size:\", encoder_input_size)\n",
    "\n",
    "decoder_input_size = data_set.decoder_inputs.shape[1]\n",
    "print(\"decoder_input_size:\", decoder_input_size)\n",
    "\n",
    "output_dim = data_set.decoder_outputs.shape[1]\n",
    "print(\"Output dim\", output_dim)"
   ]
  },
  {
   "cell_type": "code",
   "execution_count": null,
   "metadata": {
    "colab": {
     "base_uri": "https://localhost:8080/"
    },
    "executionInfo": {
     "elapsed": 268,
     "status": "ok",
     "timestamp": 1655153159536,
     "user": {
      "displayName": "Hernán Contigiani",
      "userId": "01142101934719343059"
     },
     "user_tz": 180
    },
    "id": "sUDPZeuAU1RI",
    "outputId": "f19e0632-7cfd-4671-dddc-edbcf715788f"
   },
   "outputs": [
    {
     "name": "stdout",
     "output_type": "stream",
     "text": [
      "Tamaño del conjunto de entrenamiento: 95172\n",
      "Tamaño del conjunto de validacion: 23792\n"
     ]
    }
   ],
   "source": [
    "torch.manual_seed(42)\n",
    "valid_set_size = int(len(data_set) * 0.2)\n",
    "train_set_size = len(data_set) - valid_set_size\n",
    "\n",
    "train_set = torch.utils.data.Subset(data_set, range(train_set_size))\n",
    "valid_set = torch.utils.data.Subset(data_set, range(train_set_size, len(data_set)))\n",
    "\n",
    "print(\"Tamaño del conjunto de entrenamiento:\", len(train_set))\n",
    "print(\"Tamaño del conjunto de validacion:\", len(valid_set))\n",
    "\n",
    "train_loader = torch.utils.data.DataLoader(train_set, batch_size=128, shuffle=True, num_workers=0, pin_memory=True)\n",
    "valid_loader = torch.utils.data.DataLoader(valid_set, batch_size=128, shuffle=True, num_workers=0, pin_memory=True)"
   ]
  },
  {
   "cell_type": "markdown",
   "metadata": {
    "id": "_CJIsLBbj6rg"
   },
   "source": [
    "### 3 - Preparar los embeddings"
   ]
  },
  {
   "cell_type": "markdown",
   "metadata": {},
   "source": [
    "Se utilizan dos embeddings pre entrenados de Fastext para el ingles y el español"
   ]
  },
  {
   "cell_type": "code",
   "execution_count": 16,
   "metadata": {
    "id": "Mosj2-x-kXBK"
   },
   "outputs": [],
   "source": [
    "from gensim.models.fasttext import load_facebook_vectors\n",
    "model_embeddings = load_facebook_vectors(\"clase/cc.en.300.bin\")  \n",
    "from gensim.models.fasttext import load_facebook_vectors\n",
    "model_embeddings_es = load_facebook_vectors(\"clase/cc.es.300.bin\")"
   ]
  },
  {
   "cell_type": "code",
   "execution_count": 17,
   "metadata": {},
   "outputs": [
    {
     "name": "stdout",
     "output_type": "stream",
     "text": [
      "(13525, 300)\n",
      "(26342, 300)\n"
     ]
    }
   ],
   "source": [
    "vocab_size_in  = max(word2idx_inputs .values()) + 1   \n",
    "vocab_size_out = max(word2idx_outputs.values()) + 1   \n",
    "embed_dim = 300\n",
    "# Inglés\n",
    "embedding_matrix = np.zeros((vocab_size_in, embed_dim), dtype=np.float32)\n",
    "for w, idx in word2idx_inputs.items():\n",
    "    # idx incluye todos los valores hasta max_index\n",
    "    if w in model_embeddings:\n",
    "        embedding_matrix[idx] = model_embeddings[w]\n",
    "# Español\n",
    "embedding_matrix_es = np.zeros((vocab_size_out, embed_dim), dtype=np.float32)\n",
    "for w, idx in word2idx_outputs.items():\n",
    "    if w in model_embeddings_es:\n",
    "        embedding_matrix_es[idx] = model_embeddings_es[w]\n",
    "print(embedding_matrix.shape)\n",
    "print(embedding_matrix_es.shape)\n",
    "nb_words = embedding_matrix.shape[0]\n",
    "num_words_output = embedding_matrix_es.shape[0]"
   ]
  },
  {
   "cell_type": "markdown",
   "metadata": {
    "id": "3vKbhjtIwPgM"
   },
   "source": [
    "### 4 - Entrenar el modelo"
   ]
  },
  {
   "cell_type": "code",
   "execution_count": null,
   "metadata": {
    "colab": {
     "base_uri": "https://localhost:8080/"
    },
    "executionInfo": {
     "elapsed": 14732,
     "status": "ok",
     "timestamp": 1655153181107,
     "user": {
      "displayName": "Hernán Contigiani",
      "userId": "01142101934719343059"
     },
     "user_tz": 180
    },
    "id": "3fm3HCLMPSG-",
    "outputId": "39be3183-0a69-49a5-8aa1-9f24026edf32"
   },
   "outputs": [],
   "source": [
    "class Encoder(nn.Module):\n",
    "    def __init__(self, vocab_size):\n",
    "        super().__init__()\n",
    "        self.lstm_size = 256\n",
    "        self.num_layers = 2\n",
    "        self.embedding_dim = embed_dim\n",
    "        self.embedding = nn.Embedding(num_embeddings=vocab_size, embedding_dim=self.embedding_dim, padding_idx=0)\n",
    "        self.embedding.weight.data.copy_(torch.from_numpy(embedding_matrix))\n",
    "        self.embedding.weight.requires_grad = False  # marcar como layer no entrenable (freeze)\n",
    "        self.lstm = nn.LSTM(input_size=self.embedding_dim, hidden_size=self.lstm_size, batch_first=True,\n",
    "                            num_layers=self.num_layers, dropout=0.2) # LSTM layer\n",
    "\n",
    "    def forward(self, x):\n",
    "        out = self.embedding(x)\n",
    "        lstm_output, (ht, ct) = self.lstm(out)\n",
    "        return (ht, ct)\n",
    "\n",
    "class Decoder(nn.Module):\n",
    "    def __init__(self, vocab_size, output_dim):\n",
    "        super().__init__()\n",
    "        self.lstm_size = 256\n",
    "        self.num_layers = 2\n",
    "        self.embedding_dim = embed_dim\n",
    "        self.output_dim = output_dim\n",
    "        self.embedding = nn.Embedding(num_embeddings=vocab_size, embedding_dim=embed_dim, padding_idx=0)\n",
    "        self.embedding.weight.data.copy_(torch.from_numpy(embedding_matrix_es))\n",
    "        self.embedding.weight.requires_grad = True  # Opcional: Freezar\n",
    "        self.lstm = nn.LSTM(input_size=self.embedding_dim, hidden_size=self.lstm_size, batch_first=True,\n",
    "                            num_layers=self.num_layers, dropout=0.2) # LSTM layer\n",
    "        self.fc1 = nn.Linear(in_features=self.lstm_size, out_features=self.output_dim) # Fully connected layer\n",
    "\n",
    "    def forward(self, x, prev_state):\n",
    "        out = self.embedding(x)\n",
    "        lstm_output, (ht, ct) = self.lstm(out, prev_state)\n",
    "        out = self.fc1(lstm_output)  # conserva la dimensión de secuencia\n",
    "        return out, (ht, ct)\n",
    "\n",
    "class Seq2Seq(nn.Module):\n",
    "    def __init__(self, encoder, decoder):\n",
    "        super().__init__()\n",
    "        self.encoder = encoder\n",
    "        self.decoder = decoder\n",
    "        \n",
    "    def forward(self, encoder_input, decoder_input):\n",
    "        batch_size = decoder_input.shape[0]\n",
    "        decoder_input_len = decoder_input.shape[1]\n",
    "        vocab_size = self.decoder.output_dim\n",
    "        outputs = torch.zeros(batch_size, decoder_input_len, vocab_size, device=encoder_input.device)\n",
    "        # ultimo hidden state del encoder, primer estado oculto del decoder\n",
    "        prev_state = self.encoder(encoder_input)\n",
    "        # En la primera iteracion se toma el primer token de target (<sos>)\n",
    "        input = decoder_input[:, 0:1]\n",
    "        for t in range(decoder_input_len):\n",
    "            input = decoder_input[:, t:t+1]\n",
    "            output, prev_state = self.decoder(input, prev_state)\n",
    "            # top1 = output.argmax(1).view(-1, 1)\n",
    "            top1 = output[:, -1, :].argmax(1).view(-1, 1)\n",
    "            # guardar cada salida (softmax)\n",
    "            outputs[:, t, :] = output.squeeze(1)\n",
    "            # outputs[:, t, :] = output\n",
    "        return outputs"
   ]
  },
  {
   "cell_type": "code",
   "execution_count": null,
   "metadata": {},
   "outputs": [
    {
     "data": {
      "text/plain": [
       "==========================================================================================\n",
       "Layer (type:depth-idx)                   Output Shape              Param #\n",
       "==========================================================================================\n",
       "Seq2Seq                                  [1, 50, 26342]            --\n",
       "├─Encoder: 1-1                           [2, 1, 128]               --\n",
       "│    └─Embedding: 2-1                    [1, 47, 300]              (4,057,500)\n",
       "│    └─LSTM: 2-2                         [1, 47, 128]              352,256\n",
       "├─Decoder: 1-2                           [1, 1, 26342]             --\n",
       "│    └─Embedding: 2-3                    [1, 1, 300]               7,902,600\n",
       "│    └─LSTM: 2-4                         [1, 1, 128]               352,256\n",
       "│    └─Linear: 2-5                       [1, 1, 26342]             3,398,118\n",
       "├─Decoder: 1-3                           [1, 1, 26342]             (recursive)\n",
       "│    └─Embedding: 2-6                    [1, 1, 300]               (recursive)\n",
       "│    └─LSTM: 2-7                         [1, 1, 128]               (recursive)\n",
       "│    └─Linear: 2-8                       [1, 1, 26342]             (recursive)\n",
       "├─Decoder: 1-4                           [1, 1, 26342]             (recursive)\n",
       "│    └─Embedding: 2-9                    [1, 1, 300]               (recursive)\n",
       "│    └─LSTM: 2-10                        [1, 1, 128]               (recursive)\n",
       "│    └─Linear: 2-11                      [1, 1, 26342]             (recursive)\n",
       "├─Decoder: 1-5                           [1, 1, 26342]             (recursive)\n",
       "│    └─Embedding: 2-12                   [1, 1, 300]               (recursive)\n",
       "│    └─LSTM: 2-13                        [1, 1, 128]               (recursive)\n",
       "│    └─Linear: 2-14                      [1, 1, 26342]             (recursive)\n",
       "├─Decoder: 1-6                           [1, 1, 26342]             (recursive)\n",
       "│    └─Embedding: 2-15                   [1, 1, 300]               (recursive)\n",
       "│    └─LSTM: 2-16                        [1, 1, 128]               (recursive)\n",
       "│    └─Linear: 2-17                      [1, 1, 26342]             (recursive)\n",
       "├─Decoder: 1-7                           [1, 1, 26342]             (recursive)\n",
       "│    └─Embedding: 2-18                   [1, 1, 300]               (recursive)\n",
       "│    └─LSTM: 2-19                        [1, 1, 128]               (recursive)\n",
       "│    └─Linear: 2-20                      [1, 1, 26342]             (recursive)\n",
       "├─Decoder: 1-8                           [1, 1, 26342]             (recursive)\n",
       "│    └─Embedding: 2-21                   [1, 1, 300]               (recursive)\n",
       "│    └─LSTM: 2-22                        [1, 1, 128]               (recursive)\n",
       "│    └─Linear: 2-23                      [1, 1, 26342]             (recursive)\n",
       "├─Decoder: 1-9                           [1, 1, 26342]             (recursive)\n",
       "│    └─Embedding: 2-24                   [1, 1, 300]               (recursive)\n",
       "│    └─LSTM: 2-25                        [1, 1, 128]               (recursive)\n",
       "│    └─Linear: 2-26                      [1, 1, 26342]             (recursive)\n",
       "├─Decoder: 1-10                          [1, 1, 26342]             (recursive)\n",
       "│    └─Embedding: 2-27                   [1, 1, 300]               (recursive)\n",
       "│    └─LSTM: 2-28                        [1, 1, 128]               (recursive)\n",
       "│    └─Linear: 2-29                      [1, 1, 26342]             (recursive)\n",
       "├─Decoder: 1-11                          [1, 1, 26342]             (recursive)\n",
       "│    └─Embedding: 2-30                   [1, 1, 300]               (recursive)\n",
       "│    └─LSTM: 2-31                        [1, 1, 128]               (recursive)\n",
       "│    └─Linear: 2-32                      [1, 1, 26342]             (recursive)\n",
       "├─Decoder: 1-12                          [1, 1, 26342]             (recursive)\n",
       "│    └─Embedding: 2-33                   [1, 1, 300]               (recursive)\n",
       "│    └─LSTM: 2-34                        [1, 1, 128]               (recursive)\n",
       "│    └─Linear: 2-35                      [1, 1, 26342]             (recursive)\n",
       "├─Decoder: 1-13                          [1, 1, 26342]             (recursive)\n",
       "│    └─Embedding: 2-36                   [1, 1, 300]               (recursive)\n",
       "│    └─LSTM: 2-37                        [1, 1, 128]               (recursive)\n",
       "│    └─Linear: 2-38                      [1, 1, 26342]             (recursive)\n",
       "├─Decoder: 1-14                          [1, 1, 26342]             (recursive)\n",
       "│    └─Embedding: 2-39                   [1, 1, 300]               (recursive)\n",
       "│    └─LSTM: 2-40                        [1, 1, 128]               (recursive)\n",
       "│    └─Linear: 2-41                      [1, 1, 26342]             (recursive)\n",
       "├─Decoder: 1-15                          [1, 1, 26342]             (recursive)\n",
       "│    └─Embedding: 2-42                   [1, 1, 300]               (recursive)\n",
       "│    └─LSTM: 2-43                        [1, 1, 128]               (recursive)\n",
       "│    └─Linear: 2-44                      [1, 1, 26342]             (recursive)\n",
       "├─Decoder: 1-16                          [1, 1, 26342]             (recursive)\n",
       "│    └─Embedding: 2-45                   [1, 1, 300]               (recursive)\n",
       "│    └─LSTM: 2-46                        [1, 1, 128]               (recursive)\n",
       "│    └─Linear: 2-47                      [1, 1, 26342]             (recursive)\n",
       "├─Decoder: 1-17                          [1, 1, 26342]             (recursive)\n",
       "│    └─Embedding: 2-48                   [1, 1, 300]               (recursive)\n",
       "│    └─LSTM: 2-49                        [1, 1, 128]               (recursive)\n",
       "│    └─Linear: 2-50                      [1, 1, 26342]             (recursive)\n",
       "├─Decoder: 1-18                          [1, 1, 26342]             (recursive)\n",
       "│    └─Embedding: 2-51                   [1, 1, 300]               (recursive)\n",
       "│    └─LSTM: 2-52                        [1, 1, 128]               (recursive)\n",
       "│    └─Linear: 2-53                      [1, 1, 26342]             (recursive)\n",
       "├─Decoder: 1-19                          [1, 1, 26342]             (recursive)\n",
       "│    └─Embedding: 2-54                   [1, 1, 300]               (recursive)\n",
       "│    └─LSTM: 2-55                        [1, 1, 128]               (recursive)\n",
       "│    └─Linear: 2-56                      [1, 1, 26342]             (recursive)\n",
       "├─Decoder: 1-20                          [1, 1, 26342]             (recursive)\n",
       "│    └─Embedding: 2-57                   [1, 1, 300]               (recursive)\n",
       "│    └─LSTM: 2-58                        [1, 1, 128]               (recursive)\n",
       "│    └─Linear: 2-59                      [1, 1, 26342]             (recursive)\n",
       "├─Decoder: 1-21                          [1, 1, 26342]             (recursive)\n",
       "│    └─Embedding: 2-60                   [1, 1, 300]               (recursive)\n",
       "│    └─LSTM: 2-61                        [1, 1, 128]               (recursive)\n",
       "│    └─Linear: 2-62                      [1, 1, 26342]             (recursive)\n",
       "├─Decoder: 1-22                          [1, 1, 26342]             (recursive)\n",
       "│    └─Embedding: 2-63                   [1, 1, 300]               (recursive)\n",
       "│    └─LSTM: 2-64                        [1, 1, 128]               (recursive)\n",
       "│    └─Linear: 2-65                      [1, 1, 26342]             (recursive)\n",
       "├─Decoder: 1-23                          [1, 1, 26342]             (recursive)\n",
       "│    └─Embedding: 2-66                   [1, 1, 300]               (recursive)\n",
       "│    └─LSTM: 2-67                        [1, 1, 128]               (recursive)\n",
       "│    └─Linear: 2-68                      [1, 1, 26342]             (recursive)\n",
       "├─Decoder: 1-24                          [1, 1, 26342]             (recursive)\n",
       "│    └─Embedding: 2-69                   [1, 1, 300]               (recursive)\n",
       "│    └─LSTM: 2-70                        [1, 1, 128]               (recursive)\n",
       "│    └─Linear: 2-71                      [1, 1, 26342]             (recursive)\n",
       "├─Decoder: 1-25                          [1, 1, 26342]             (recursive)\n",
       "│    └─Embedding: 2-72                   [1, 1, 300]               (recursive)\n",
       "│    └─LSTM: 2-73                        [1, 1, 128]               (recursive)\n",
       "│    └─Linear: 2-74                      [1, 1, 26342]             (recursive)\n",
       "├─Decoder: 1-26                          [1, 1, 26342]             (recursive)\n",
       "│    └─Embedding: 2-75                   [1, 1, 300]               (recursive)\n",
       "│    └─LSTM: 2-76                        [1, 1, 128]               (recursive)\n",
       "│    └─Linear: 2-77                      [1, 1, 26342]             (recursive)\n",
       "├─Decoder: 1-27                          [1, 1, 26342]             (recursive)\n",
       "│    └─Embedding: 2-78                   [1, 1, 300]               (recursive)\n",
       "│    └─LSTM: 2-79                        [1, 1, 128]               (recursive)\n",
       "│    └─Linear: 2-80                      [1, 1, 26342]             (recursive)\n",
       "├─Decoder: 1-28                          [1, 1, 26342]             (recursive)\n",
       "│    └─Embedding: 2-81                   [1, 1, 300]               (recursive)\n",
       "│    └─LSTM: 2-82                        [1, 1, 128]               (recursive)\n",
       "│    └─Linear: 2-83                      [1, 1, 26342]             (recursive)\n",
       "├─Decoder: 1-29                          [1, 1, 26342]             (recursive)\n",
       "│    └─Embedding: 2-84                   [1, 1, 300]               (recursive)\n",
       "│    └─LSTM: 2-85                        [1, 1, 128]               (recursive)\n",
       "│    └─Linear: 2-86                      [1, 1, 26342]             (recursive)\n",
       "├─Decoder: 1-30                          [1, 1, 26342]             (recursive)\n",
       "│    └─Embedding: 2-87                   [1, 1, 300]               (recursive)\n",
       "│    └─LSTM: 2-88                        [1, 1, 128]               (recursive)\n",
       "│    └─Linear: 2-89                      [1, 1, 26342]             (recursive)\n",
       "├─Decoder: 1-31                          [1, 1, 26342]             (recursive)\n",
       "│    └─Embedding: 2-90                   [1, 1, 300]               (recursive)\n",
       "│    └─LSTM: 2-91                        [1, 1, 128]               (recursive)\n",
       "│    └─Linear: 2-92                      [1, 1, 26342]             (recursive)\n",
       "├─Decoder: 1-32                          [1, 1, 26342]             (recursive)\n",
       "│    └─Embedding: 2-93                   [1, 1, 300]               (recursive)\n",
       "│    └─LSTM: 2-94                        [1, 1, 128]               (recursive)\n",
       "│    └─Linear: 2-95                      [1, 1, 26342]             (recursive)\n",
       "├─Decoder: 1-33                          [1, 1, 26342]             (recursive)\n",
       "│    └─Embedding: 2-96                   [1, 1, 300]               (recursive)\n",
       "│    └─LSTM: 2-97                        [1, 1, 128]               (recursive)\n",
       "│    └─Linear: 2-98                      [1, 1, 26342]             (recursive)\n",
       "├─Decoder: 1-34                          [1, 1, 26342]             (recursive)\n",
       "│    └─Embedding: 2-99                   [1, 1, 300]               (recursive)\n",
       "│    └─LSTM: 2-100                       [1, 1, 128]               (recursive)\n",
       "│    └─Linear: 2-101                     [1, 1, 26342]             (recursive)\n",
       "├─Decoder: 1-35                          [1, 1, 26342]             (recursive)\n",
       "│    └─Embedding: 2-102                  [1, 1, 300]               (recursive)\n",
       "│    └─LSTM: 2-103                       [1, 1, 128]               (recursive)\n",
       "│    └─Linear: 2-104                     [1, 1, 26342]             (recursive)\n",
       "├─Decoder: 1-36                          [1, 1, 26342]             (recursive)\n",
       "│    └─Embedding: 2-105                  [1, 1, 300]               (recursive)\n",
       "│    └─LSTM: 2-106                       [1, 1, 128]               (recursive)\n",
       "│    └─Linear: 2-107                     [1, 1, 26342]             (recursive)\n",
       "├─Decoder: 1-37                          [1, 1, 26342]             (recursive)\n",
       "│    └─Embedding: 2-108                  [1, 1, 300]               (recursive)\n",
       "│    └─LSTM: 2-109                       [1, 1, 128]               (recursive)\n",
       "│    └─Linear: 2-110                     [1, 1, 26342]             (recursive)\n",
       "├─Decoder: 1-38                          [1, 1, 26342]             (recursive)\n",
       "│    └─Embedding: 2-111                  [1, 1, 300]               (recursive)\n",
       "│    └─LSTM: 2-112                       [1, 1, 128]               (recursive)\n",
       "│    └─Linear: 2-113                     [1, 1, 26342]             (recursive)\n",
       "├─Decoder: 1-39                          [1, 1, 26342]             (recursive)\n",
       "│    └─Embedding: 2-114                  [1, 1, 300]               (recursive)\n",
       "│    └─LSTM: 2-115                       [1, 1, 128]               (recursive)\n",
       "│    └─Linear: 2-116                     [1, 1, 26342]             (recursive)\n",
       "├─Decoder: 1-40                          [1, 1, 26342]             (recursive)\n",
       "│    └─Embedding: 2-117                  [1, 1, 300]               (recursive)\n",
       "│    └─LSTM: 2-118                       [1, 1, 128]               (recursive)\n",
       "│    └─Linear: 2-119                     [1, 1, 26342]             (recursive)\n",
       "├─Decoder: 1-41                          [1, 1, 26342]             (recursive)\n",
       "│    └─Embedding: 2-120                  [1, 1, 300]               (recursive)\n",
       "│    └─LSTM: 2-121                       [1, 1, 128]               (recursive)\n",
       "│    └─Linear: 2-122                     [1, 1, 26342]             (recursive)\n",
       "├─Decoder: 1-42                          [1, 1, 26342]             (recursive)\n",
       "│    └─Embedding: 2-123                  [1, 1, 300]               (recursive)\n",
       "│    └─LSTM: 2-124                       [1, 1, 128]               (recursive)\n",
       "│    └─Linear: 2-125                     [1, 1, 26342]             (recursive)\n",
       "├─Decoder: 1-43                          [1, 1, 26342]             (recursive)\n",
       "│    └─Embedding: 2-126                  [1, 1, 300]               (recursive)\n",
       "│    └─LSTM: 2-127                       [1, 1, 128]               (recursive)\n",
       "│    └─Linear: 2-128                     [1, 1, 26342]             (recursive)\n",
       "├─Decoder: 1-44                          [1, 1, 26342]             (recursive)\n",
       "│    └─Embedding: 2-129                  [1, 1, 300]               (recursive)\n",
       "│    └─LSTM: 2-130                       [1, 1, 128]               (recursive)\n",
       "│    └─Linear: 2-131                     [1, 1, 26342]             (recursive)\n",
       "├─Decoder: 1-45                          [1, 1, 26342]             (recursive)\n",
       "│    └─Embedding: 2-132                  [1, 1, 300]               (recursive)\n",
       "│    └─LSTM: 2-133                       [1, 1, 128]               (recursive)\n",
       "│    └─Linear: 2-134                     [1, 1, 26342]             (recursive)\n",
       "├─Decoder: 1-46                          [1, 1, 26342]             (recursive)\n",
       "│    └─Embedding: 2-135                  [1, 1, 300]               (recursive)\n",
       "│    └─LSTM: 2-136                       [1, 1, 128]               (recursive)\n",
       "│    └─Linear: 2-137                     [1, 1, 26342]             (recursive)\n",
       "├─Decoder: 1-47                          [1, 1, 26342]             (recursive)\n",
       "│    └─Embedding: 2-138                  [1, 1, 300]               (recursive)\n",
       "│    └─LSTM: 2-139                       [1, 1, 128]               (recursive)\n",
       "│    └─Linear: 2-140                     [1, 1, 26342]             (recursive)\n",
       "├─Decoder: 1-48                          [1, 1, 26342]             (recursive)\n",
       "│    └─Embedding: 2-141                  [1, 1, 300]               (recursive)\n",
       "│    └─LSTM: 2-142                       [1, 1, 128]               (recursive)\n",
       "│    └─Linear: 2-143                     [1, 1, 26342]             (recursive)\n",
       "├─Decoder: 1-49                          [1, 1, 26342]             (recursive)\n",
       "│    └─Embedding: 2-144                  [1, 1, 300]               (recursive)\n",
       "│    └─LSTM: 2-145                       [1, 1, 128]               (recursive)\n",
       "│    └─Linear: 2-146                     [1, 1, 26342]             (recursive)\n",
       "├─Decoder: 1-50                          [1, 1, 26342]             (recursive)\n",
       "│    └─Embedding: 2-147                  [1, 1, 300]               (recursive)\n",
       "│    └─LSTM: 2-148                       [1, 1, 128]               (recursive)\n",
       "│    └─Linear: 2-149                     [1, 1, 26342]             (recursive)\n",
       "├─Decoder: 1-51                          [1, 1, 26342]             (recursive)\n",
       "│    └─Embedding: 2-150                  [1, 1, 300]               (recursive)\n",
       "│    └─LSTM: 2-151                       [1, 1, 128]               (recursive)\n",
       "│    └─Linear: 2-152                     [1, 1, 26342]             (recursive)\n",
       "==========================================================================================\n",
       "Total params: 16,062,730\n",
       "Trainable params: 12,005,230\n",
       "Non-trainable params: 4,057,500\n",
       "Total mult-adds (Units.MEGABYTES): 603.26\n",
       "==========================================================================================\n",
       "Input size (MB): 0.00\n",
       "Forward/backward pass size (MB): 10.87\n",
       "Params size (MB): 64.25\n",
       "Estimated Total Size (MB): 75.12\n",
       "=========================================================================================="
      ]
     },
     "execution_count": 137,
     "metadata": {},
     "output_type": "execute_result"
    }
   ],
   "source": [
    "encoder = Encoder(vocab_size=nb_words)\n",
    "if cuda: encoder.cuda()\n",
    "decoder = Decoder(vocab_size=num_words_output, output_dim=num_words_output)\n",
    "if cuda: decoder.cuda()\n",
    "seq2seq = Seq2Seq(encoder, decoder).to(device)\n",
    "if cuda: seq2seq.cuda()\n",
    "\n",
    "# Diferentes learning rates para hacer fine tuning al embedding en español de Fasttext\n",
    "emb_params   = list(decoder.embedding.parameters())            # solo embedding ES\n",
    "other_params = [p for n, p in seq2seq.named_parameters()\n",
    "                if \"decoder.embedding\" not in n]               # resto de la red\n",
    "lr = 0.01\n",
    "optimizer = torch.optim.AdamW(\n",
    "    [\n",
    "        {\"params\": emb_params,   \"lr\": lr*0.01},   # LR pequeño para embedding\n",
    "        {\"params\": other_params, \"lr\": lr},   # LR normal resto\n",
    "    ],\n",
    "    betas=(0.9, 0.98),\n",
    "    weight_decay=1e-4\n",
    ")\n",
    "\n",
    "criterion = torch.nn.CrossEntropyLoss(ignore_index=0)  # Omito el padding para que no falsee la metrica\n",
    "\n",
    "x_enc = data_set[0:1][0]\n",
    "x_dec = data_set[0:1][1]\n",
    "summary(seq2seq,\n",
    "        input_data=(x_enc.to(device).long(), x_dec.to(device).long()),\n",
    "        device=device)"
   ]
  },
  {
   "cell_type": "code",
   "execution_count": null,
   "metadata": {
    "colab": {
     "base_uri": "https://localhost:8080/"
    },
    "executionInfo": {
     "elapsed": 597334,
     "status": "ok",
     "timestamp": 1655153778405,
     "user": {
      "displayName": "Hernán Contigiani",
      "userId": "01142101934719343059"
     },
     "user_tz": 180
    },
    "id": "VDB0KWIegt8s",
    "outputId": "d1e002a8-fa8e-4dfc-f144-a95732026f94"
   },
   "outputs": [
    {
     "name": "stdout",
     "output_type": "stream",
     "text": [
      "Epoch   1: Train L=6.2033 A=0.1779 | Val L=5.7144 A=0.1995\n",
      "Epoch   2: Train L=5.2496 A=0.2163 | Val L=4.9122 A=0.2481\n",
      "Epoch   3: Train L=4.3242 A=0.2918 | Val L=4.1632 A=0.3234\n",
      "Epoch   4: Train L=3.7008 A=0.3478 | Val L=3.8181 A=0.3664\n",
      "Epoch   5: Train L=3.2961 A=0.3854 | Val L=3.6525 A=0.3906\n",
      "Epoch   6: Train L=3.0076 A=0.4145 | Val L=3.5323 A=0.4099\n",
      "Epoch   7: Train L=2.7864 A=0.4384 | Val L=3.4545 A=0.4264\n",
      "Epoch   8: Train L=2.6082 A=0.4587 | Val L=3.4089 A=0.4375\n",
      "Epoch   9: Train L=2.4689 A=0.4758 | Val L=3.3868 A=0.4475\n",
      "Epoch  10: Train L=2.3569 A=0.4898 | Val L=3.3991 A=0.4493\n",
      "Epoch  11: Train L=2.2644 A=0.5029 | Val L=3.3795 A=0.4573\n",
      "Epoch  12: Train L=2.1928 A=0.5130 | Val L=3.3780 A=0.4583\n",
      "Epoch  13: Train L=2.1235 A=0.5238 | Val L=3.4021 A=0.4613\n",
      "Epoch  14: Train L=2.0659 A=0.5327 | Val L=3.3886 A=0.4676\n",
      "Epoch  15: Train L=2.0163 A=0.5407 | Val L=3.4090 A=0.4669\n",
      "Epoch  16: Train L=1.9841 A=0.5465 | Val L=3.4239 A=0.4728\n",
      "Epoch  17: Train L=1.9444 A=0.5530 | Val L=3.4333 A=0.4728\n",
      "Epoch  18: Train L=1.9036 A=0.5602 | Val L=3.4371 A=0.4722\n",
      "Epoch  19: Train L=1.8708 A=0.5655 | Val L=3.4722 A=0.4737\n",
      "Epoch  20: Train L=1.8454 A=0.5699 | Val L=3.4428 A=0.4787\n",
      "Epoch  21: Train L=1.8146 A=0.5749 | Val L=3.4860 A=0.4783\n",
      "Epoch  22: Train L=1.7909 A=0.5798 | Val L=3.4760 A=0.4787\n",
      "Early stopping triggered\n"
     ]
    }
   ],
   "source": [
    "history, model = train(seq2seq,\n",
    "                train_loader,\n",
    "                valid_loader,\n",
    "                optimizer,\n",
    "                criterion,\n",
    "                epochs=100,\n",
    "                device=device,\n",
    "                patience=8\n",
    "                )"
   ]
  },
  {
   "cell_type": "code",
   "execution_count": null,
   "metadata": {
    "colab": {
     "base_uri": "https://localhost:8080/",
     "height": 265
    },
    "executionInfo": {
     "elapsed": 800,
     "status": "ok",
     "timestamp": 1655154657801,
     "user": {
      "displayName": "Hernán Contigiani",
      "userId": "01142101934719343059"
     },
     "user_tz": 180
    },
    "id": "pZzm3tx059Zv",
    "outputId": "b7a08ad6-392e-4e40-8491-fb707d23254c"
   },
   "outputs": [
    {
     "data": {
      "image/png": "[encoded data removed]",
      "text/plain": [
       "<Figure size 640x480 with 1 Axes>"
      ]
     },
     "metadata": {},
     "output_type": "display_data"
    }
   ],
   "source": [
    "epoch_count = range(1, len(history['accuracy']) + 1)\n",
    "sns.lineplot(x=epoch_count,  y=history['accuracy'], label='train')\n",
    "sns.lineplot(x=epoch_count,  y=history['val_accuracy'], label='valid')\n",
    "plt.show()"
   ]
  },
  {
   "cell_type": "markdown",
   "metadata": {
    "id": "Zbwn0ekDy_s2"
   },
   "source": [
    "### 5 - Inferencia"
   ]
  },
  {
   "cell_type": "code",
   "execution_count": 147,
   "metadata": {
    "id": "71XeCtfYmOFx"
   },
   "outputs": [],
   "source": [
    "# Armar lo conversores de indice a palabra:\n",
    "idx2word_input = {v:k for k, v in word2idx_inputs.items()}\n",
    "idx2word_target = {v:k for k, v in word2idx_outputs.items()}"
   ]
  },
  {
   "cell_type": "code",
   "execution_count": null,
   "metadata": {},
   "outputs": [],
   "source": [
    "def translate_sentence(input_text, \n",
    "                       model, \n",
    "                       input_tokenizer, \n",
    "                       word2idx_outputs, \n",
    "                       idx2word_target,\n",
    "                       max_input_len,\n",
    "                       max_output_len,\n",
    "                       device):\n",
    "    model.eval()\n",
    "    # 1) Tokenizar y paddear\n",
    "    seq = input_tokenizer.texts_to_sequences([input_text.lower()])[0]\n",
    "    seq = pad_sequences([seq], maxlen=max_input_len, padding='post')\n",
    "    encoder_input = torch.tensor(seq, dtype=torch.long).to(device)      # [1, max_input_len]\n",
    "    # 2) Pasar por el encoder\n",
    "    prev_state = model.encoder(encoder_input)                           # (h, c)\n",
    "    # 3) Iniciar decoder con <sos>\n",
    "    sos = word2idx_outputs['<sos>']\n",
    "    eos = word2idx_outputs['<eos>']\n",
    "    decoder_input = torch.tensor([[sos]], dtype=torch.long).to(device)  # [1, 1]\n",
    "    output_words = []\n",
    "    # 4) Loop hasta max_output_len o hasta <eos>\n",
    "    for _ in range(max_output_len):\n",
    "        logits, prev_state = model.decoder(decoder_input, prev_state)\n",
    "        # logits: [1, 1, vocab_size]\n",
    "        logits = logits.squeeze(1)           # [1, vocab_size]\n",
    "        topi = logits.argmax(dim=1)          # [1]\n",
    "        idx = topi.item()                    # entero\n",
    "        if idx == eos:\n",
    "            break\n",
    "        output_words.append(idx2word_target[idx])\n",
    "        # re-alimentar al decoder\n",
    "        decoder_input = topi.unsqueeze(1)    # [1, 1]\n",
    "    return ' '.join(output_words)\n",
    "\n"
   ]
  },
  {
   "cell_type": "code",
   "execution_count": 149,
   "metadata": {},
   "outputs": [
    {
     "name": "stdout",
     "output_type": "stream",
     "text": [
      "Input:    My mother say hi.\n",
      "Output:   él decidió hilo dental a la velocidad de tom y olviden que visitara boston\n"
     ]
    }
   ],
   "source": [
    "input_test = \"My mother say hi.\"\n",
    "translation = translate_sentence(\n",
    "    input_text=input_test,\n",
    "    model=model,\n",
    "    input_tokenizer=input_tokenizer,\n",
    "    word2idx_outputs=word2idx_outputs,\n",
    "    idx2word_target=idx2word_target,\n",
    "    max_input_len=max_input_len,\n",
    "    max_output_len=max_out_len,  \n",
    "    device=device\n",
    ")\n",
    "\n",
    "print(\"Input:   \", input_test)\n",
    "print(\"Output:  \", translation)"
   ]
  },
  {
   "cell_type": "code",
   "execution_count": 176,
   "metadata": {},
   "outputs": [
    {
     "name": "stdout",
     "output_type": "stream",
     "text": [
      "Input:    This movie is politically incorrect.\n",
      "Output:   espero que tom gane el concierto antes de que se le ocurra matar a un canadiense\n"
     ]
    }
   ],
   "source": [
    "i = np.random.choice(len(input_sentences))\n",
    "input_test = input_sentences[i:i+1][0]\n",
    "translation = translate_sentence(\n",
    "    input_text=input_test,\n",
    "    model=model,\n",
    "    input_tokenizer=input_tokenizer,\n",
    "    word2idx_outputs=word2idx_outputs,\n",
    "    idx2word_target=idx2word_target,\n",
    "    max_input_len=max_input_len,\n",
    "    max_output_len=max_out_len,   \n",
    "    device=device\n",
    ")\n",
    "\n",
    "print(\"Input:   \", input_test)\n",
    "print(\"Output:  \", translation)"
   ]
  },
  {
   "cell_type": "markdown",
   "metadata": {},
   "source": [
    "# Notas"
   ]
  },
  {
   "cell_type": "markdown",
   "metadata": {},
   "source": [
    "- Se probó con redes más chicas de una capa, dos y tres. \n",
    "- Ampliando el estado oculto, con y sin dropout. \n",
    "- Sin filtrar le token de padding en el crossEntropy, el modelo daba mucho mejor accuracy, pero traducia muy mal. \n",
    "- Filtrando el padding, el accuracy da extremadamente bajo y sigue traduciendo igual de mal."
   ]
  }
 ],
 "metadata": {
  "accelerator": "GPU",
  "colab": {
   "authorship_tag": "ABX9TyMniDMuqoKT0lLVAJWxpRSt",
   "collapsed_sections": [],
   "name": "6c - traductor.ipynb",
   "provenance": []
  },
  "kernelspec": {
   "display_name": "venv",
   "language": "python",
   "name": "python3"
  },
  "language_info": {
   "codemirror_mode": {
    "name": "ipython",
    "version": 3
   },
   "file_extension": ".py",
   "mimetype": "text/x-python",
   "name": "python",
   "nbconvert_exporter": "python",
   "pygments_lexer": "ipython3",
   "version": "3.12.10"
  }
 },
 "nbformat": 4,
 "nbformat_minor": 0
}
