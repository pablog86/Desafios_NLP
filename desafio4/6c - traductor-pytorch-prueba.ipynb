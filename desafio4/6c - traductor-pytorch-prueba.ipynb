{
 "cells": [
  {
   "cell_type": "markdown",
   "metadata": {
    "id": "pfa39F4lsLf3"
   },
   "source": [
    "<img src=\"https://github.com/hernancontigiani/ceia_memorias_especializacion/raw/master/Figures/logoFIUBA.jpg\" width=\"500\" align=\"center\">\n",
    "\n",
    "\n",
    "# Procesamiento de lenguaje natural\n",
    "## LSTM Traductor\n",
    "Ejemplo basado en [LINK](https://stackabuse.com/python-for-nlp-neural-machine-translation-with-seq2seq-in-keras/)"
   ]
  },
  {
   "cell_type": "markdown",
   "metadata": {
    "id": "ZqO0PRcFsPTe"
   },
   "source": [
    "### Datos\n",
    "El objecto es utilizar datos disponibles de Anki de traducciones de texto en diferentes idiomas. Se construirá un modelo traductor seq2seq utilizando encoder-decoder.\\\n",
    "[LINK](https://www.manythings.org/anki/)"
   ]
  },
  {
   "cell_type": "code",
   "execution_count": 1,
   "metadata": {
    "id": "cq3YXak9sGHd"
   },
   "outputs": [
    {
     "data": {
      "text/plain": [
       "device(type='cuda')"
      ]
     },
     "execution_count": 1,
     "metadata": {},
     "output_type": "execute_result"
    }
   ],
   "source": [
    "import re\n",
    "\n",
    "import numpy as np\n",
    "import pandas as pd\n",
    "import matplotlib.pyplot as plt\n",
    "import seaborn as sns\n",
    "\n",
    "import torch\n",
    "import torch.nn.functional as F\n",
    "import torch.nn as nn\n",
    "from torch.utils.data import Dataset, DataLoader\n",
    "from torchinfo import summary\n",
    "\n",
    "cuda = torch.cuda.is_available()\n",
    "device = torch.device('cuda' if torch.cuda.is_available() else 'cpu')\n",
    "device"
   ]
  },
  {
   "cell_type": "code",
   "execution_count": 2,
   "metadata": {},
   "outputs": [],
   "source": [
    "def sequence_acc(y_pred_logits, y_true_idx):\n",
    "    # 1) Predicción token a token\n",
    "    y_pred_tags = y_pred_logits.argmax(dim=-1)  # [batch, seq_len]\n",
    "    # 2) Comparar\n",
    "    correct = (y_pred_tags == y_true_idx).float()  # [batch, seq_len]\n",
    "    # 3) Accuracy global\n",
    "    return correct.mean()  # escalar\n",
    "\n",
    "def train(model,\n",
    "          train_loader,\n",
    "          valid_loader,\n",
    "          optimizer,\n",
    "          criterion,\n",
    "          epochs=100,\n",
    "          patience=5,\n",
    "          min_delta=1e-4,\n",
    "          device='cuda'):\n",
    "    # 1) Llevar modelo a device\n",
    "    model = model.to(device)\n",
    "\n",
    "    train_loss, train_acc = [], []\n",
    "    valid_loss, valid_acc = [], []\n",
    "\n",
    "    best_val_loss = float('inf')\n",
    "    patience_ctr = 0\n",
    "    best_state = None\n",
    "\n",
    "    for epoch in range(1, epochs+1):\n",
    "        # --- Entrenamiento ---\n",
    "        model.train()\n",
    "        running_loss, running_acc = 0.0, 0.0\n",
    "\n",
    "        for enc_in, dec_in, target in train_loader:\n",
    "            # 2) Datos al device y cast a long\n",
    "            enc_in = enc_in.to(device).long()\n",
    "            dec_in = dec_in.to(device).long()\n",
    "\n",
    "            # Si target viene one-hot (3D), convertimos a índices 2D\n",
    "            if target.dim() == 3:\n",
    "                target_idx = target.argmax(dim=-1).to(device)\n",
    "            else:\n",
    "                target_idx = target.to(device).long()\n",
    "\n",
    "            optimizer.zero_grad()\n",
    "\n",
    "            # 3) Forward\n",
    "            logits = model(enc_in, dec_in)  # [B, L, V]\n",
    "\n",
    "            # 4) Vectorizar loss\n",
    "            B, L, V = logits.shape\n",
    "            logits_flat = logits.view(-1, V)            # [B*L, V]\n",
    "            target_flat = target_idx.view(-1)           # [B*L]\n",
    "\n",
    "            loss = criterion(logits_flat, target_flat)\n",
    "            loss.backward()\n",
    "            optimizer.step()\n",
    "\n",
    "            running_loss += loss.item()\n",
    "            running_acc += sequence_acc(logits, target_idx).item()\n",
    "\n",
    "        avg_train_loss = running_loss / len(train_loader)\n",
    "        avg_train_acc  = running_acc  / len(train_loader)\n",
    "        train_loss.append(avg_train_loss)\n",
    "        train_acc .append(avg_train_acc)\n",
    "\n",
    "        # --- Validación Completa ---\n",
    "        model.eval()\n",
    "        val_loss, val_acc = 0.0, 0.0\n",
    "        with torch.no_grad():\n",
    "            for enc_in, dec_in, target in valid_loader:\n",
    "                enc_in = enc_in.to(device).long()\n",
    "                dec_in = dec_in.to(device).long()\n",
    "                if target.dim() == 3:\n",
    "                    target_idx = target.argmax(dim=-1).to(device)\n",
    "                else:\n",
    "                    target_idx = target.to(device).long()\n",
    "\n",
    "                logits = model(enc_in, dec_in)\n",
    "                B, L, V = logits.shape\n",
    "                logits_flat = logits.view(-1, V)\n",
    "                target_flat = target_idx.view(-1)\n",
    "\n",
    "                loss = criterion(logits_flat, target_flat)\n",
    "                val_loss += loss.item()\n",
    "                val_acc  += sequence_acc(logits, target_idx).item()\n",
    "\n",
    "        avg_val_loss = val_loss / len(valid_loader)\n",
    "        avg_val_acc  = val_acc  / len(valid_loader)\n",
    "        valid_loss.append(avg_val_loss)\n",
    "        valid_acc .append(avg_val_acc)\n",
    "\n",
    "        print(f\"Epoch {epoch}/{epochs} — \"\n",
    "              f\"Train Loss: {avg_train_loss:.4f}, Acc: {avg_train_acc:.4f} | \"\n",
    "              f\"Val Loss: {avg_val_loss:.4f}, Acc: {avg_val_acc:.4f}\")\n",
    "\n",
    "        # --- Early Stopping ---\n",
    "        if avg_val_loss + min_delta < best_val_loss:\n",
    "            best_val_loss = avg_val_loss\n",
    "            patience_ctr = 0\n",
    "            best_state   = model.state_dict()\n",
    "        else:\n",
    "            patience_ctr += 1\n",
    "            if patience_ctr >= patience:\n",
    "                print(f\"\\nEarly stopping at epoch {epoch}\")\n",
    "                break\n",
    "\n",
    "    # 5) Restaurar mejor modelo\n",
    "    if best_state is not None:\n",
    "        model.load_state_dict(best_state)\n",
    "\n",
    "    history = {\n",
    "        \"loss\": train_loss,\n",
    "        \"accuracy\": train_acc,\n",
    "        \"val_loss\": valid_loss,\n",
    "        \"val_accuracy\": valid_acc,\n",
    "    }\n",
    "    return history, model\n"
   ]
  },
  {
   "cell_type": "markdown",
   "metadata": {
    "id": "5BFiCH8nxoIY"
   },
   "source": [
    "### 1 - Datos"
   ]
  },
  {
   "cell_type": "code",
   "execution_count": 3,
   "metadata": {
    "colab": {
     "base_uri": "https://localhost:8080/"
    },
    "executionInfo": {
     "elapsed": 318,
     "status": "ok",
     "timestamp": 1655153154355,
     "user": {
      "displayName": "Hernán Contigiani",
      "userId": "01142101934719343059"
     },
     "user_tz": 180
    },
    "id": "-9aNLZBDtA5J",
    "outputId": "68de3ded-aa96-40fe-fab5-8083525e8c67"
   },
   "outputs": [
    {
     "name": "stdout",
     "output_type": "stream",
     "text": [
      "Cantidad de rows disponibles: 118964\n",
      "Cantidad de rows utilizadas: 25000\n"
     ]
    }
   ],
   "source": [
    "# dataset_file\n",
    "\n",
    "text_file = \"./clase/spa-eng/spa.txt\"\n",
    "with open(text_file, encoding=\"utf8\") as f:\n",
    "    lines = f.read().split(\"\\n\")[:-1]\n",
    "\n",
    "# Por limitaciones de RAM no se leen todas las filas\n",
    "MAX_NUM_SENTENCES = 25000\n",
    "\n",
    "# Mezclar el dataset, forzar semilla siempre igual\n",
    "np.random.seed([40])\n",
    "np.random.shuffle(lines)\n",
    "\n",
    "input_sentences = []\n",
    "output_sentences = []\n",
    "output_sentences_inputs = []\n",
    "count = 0\n",
    "\n",
    "if MAX_NUM_SENTENCES == 0:\n",
    "    MAX_NUM_SENTENCES = len(lines)\n",
    "for line in lines:\n",
    "    count += 1\n",
    "    if count > MAX_NUM_SENTENCES:\n",
    "        break\n",
    "\n",
    "    if '\\t' not in line:\n",
    "        continue\n",
    "\n",
    "    # Input sentence --> eng\n",
    "    # output --> spa\n",
    "    input_sentence, output = line.rstrip().split('\\t')\n",
    "\n",
    "    # output sentence (decoder_output) tiene <eos>\n",
    "    output_sentence = output + ' <eos>'\n",
    "    # output sentence input (decoder_input) tiene <sos>\n",
    "    output_sentence_input = '<sos> ' + output\n",
    "\n",
    "    input_sentences.append(input_sentence)\n",
    "    output_sentences.append(output_sentence)\n",
    "    output_sentences_inputs.append(output_sentence_input)\n",
    "\n",
    "print(\"Cantidad de rows disponibles:\", len(lines))\n",
    "print(\"Cantidad de rows utilizadas:\", len(input_sentences))"
   ]
  },
  {
   "cell_type": "code",
   "execution_count": 4,
   "metadata": {
    "colab": {
     "base_uri": "https://localhost:8080/"
    },
    "executionInfo": {
     "elapsed": 13,
     "status": "ok",
     "timestamp": 1655153154355,
     "user": {
      "displayName": "Hernán Contigiani",
      "userId": "01142101934719343059"
     },
     "user_tz": 180
    },
    "id": "93IGMKFb73q7",
    "outputId": "a86baec0-a710-4da5-e2fd-478c60c769bc"
   },
   "outputs": [
    {
     "data": {
      "text/plain": [
       "('A deal is a deal.',\n",
       " 'Un trato es un trato. <eos>',\n",
       " '<sos> Un trato es un trato.')"
      ]
     },
     "execution_count": 4,
     "metadata": {},
     "output_type": "execute_result"
    }
   ],
   "source": [
    "input_sentences[0], output_sentences[0], output_sentences_inputs[0]"
   ]
  },
  {
   "cell_type": "markdown",
   "metadata": {
    "id": "8P-ynUNP5xp6"
   },
   "source": [
    "### 2 - Preprocesamiento"
   ]
  },
  {
   "cell_type": "code",
   "execution_count": 5,
   "metadata": {
    "id": "5WAZGOTfGyha"
   },
   "outputs": [],
   "source": [
    "# Definir el tamaño máximo del vocabulario\n",
    "MAX_VOCAB_SIZE = 30000"
   ]
  },
  {
   "cell_type": "code",
   "execution_count": 6,
   "metadata": {
    "colab": {
     "base_uri": "https://localhost:8080/"
    },
    "executionInfo": {
     "elapsed": 8,
     "status": "ok",
     "timestamp": 1655153154356,
     "user": {
      "displayName": "Hernán Contigiani",
      "userId": "01142101934719343059"
     },
     "user_tz": 180
    },
    "id": "eF1W6peoFGXA",
    "outputId": "e748ad10-0c8d-4bca-ab4c-76f1974e12cc"
   },
   "outputs": [
    {
     "name": "stdout",
     "output_type": "stream",
     "text": [
      "Palabras en el vocabulario: 7515\n",
      "Sentencia de entrada más larga: 32\n"
     ]
    }
   ],
   "source": [
    "# Tokenizar las palabras con el Tokenizer de Keras\n",
    "# Definir una máxima cantidad de palabras a utilizar:\n",
    "# - num_words --> the maximum number of words to keep, based on word frequency.\n",
    "# - Only the most common num_words-1 words will be kept.\n",
    "from clase.torch_helpers import Tokenizer\n",
    "input_tokenizer = Tokenizer(num_words=MAX_VOCAB_SIZE)\n",
    "input_tokenizer.fit_on_texts(input_sentences)\n",
    "input_integer_seq = input_tokenizer.texts_to_sequences(input_sentences)\n",
    "\n",
    "word2idx_inputs = input_tokenizer.word_index\n",
    "print(\"Palabras en el vocabulario:\", len(word2idx_inputs))\n",
    "\n",
    "max_input_len = max(len(sen) for sen in input_integer_seq)\n",
    "print(\"Sentencia de entrada más larga:\", max_input_len)"
   ]
  },
  {
   "cell_type": "code",
   "execution_count": 7,
   "metadata": {
    "colab": {
     "base_uri": "https://localhost:8080/"
    },
    "executionInfo": {
     "elapsed": 584,
     "status": "ok",
     "timestamp": 1655153154936,
     "user": {
      "displayName": "Hernán Contigiani",
      "userId": "01142101934719343059"
     },
     "user_tz": 180
    },
    "id": "zBzdKiTVIBYY",
    "outputId": "f313cf87-642e-4671-b88d-90ecd0e80c28"
   },
   "outputs": [
    {
     "name": "stdout",
     "output_type": "stream",
     "text": [
      "Palabras en el vocabulario: 12709\n",
      "Sentencia de salida más larga: 36\n"
     ]
    }
   ],
   "source": [
    "# A los filtros de símbolos del Tokenizer agregamos el \"¿\",\n",
    "# sacamos los \"<>\" para que no afectar nuestros tokens\n",
    "output_tokenizer = Tokenizer(num_words=MAX_VOCAB_SIZE, filters='!\"#$%&()*+,-./:;=¿?@[\\\\]^_`{|}~\\t\\n')\n",
    "output_tokenizer.fit_on_texts([\"<sos>\", \"<eos>\"] + output_sentences)\n",
    "output_integer_seq = output_tokenizer.texts_to_sequences(output_sentences)\n",
    "output_input_integer_seq = output_tokenizer.texts_to_sequences(output_sentences_inputs)\n",
    "\n",
    "word2idx_outputs = output_tokenizer.word_index\n",
    "print(\"Palabras en el vocabulario:\", len(word2idx_outputs))\n",
    "\n",
    "num_words_output = min(len(word2idx_outputs) + 1, MAX_VOCAB_SIZE) # Se suma 1 por el primer <sos>\n",
    "max_out_len = max(len(sen) for sen in output_integer_seq)\n",
    "print(\"Sentencia de salida más larga:\", max_out_len)"
   ]
  },
  {
   "cell_type": "markdown",
   "metadata": {
    "id": "Xqb8ZJ4sJHgv"
   },
   "source": [
    "Como era de esperarse, las sentencias en castellano son más largas que en inglés, y lo mismo sucede con su vocabulario."
   ]
  },
  {
   "cell_type": "code",
   "execution_count": 8,
   "metadata": {
    "id": "pgLC706EQx3p"
   },
   "outputs": [],
   "source": [
    "# Por una cuestion de que no explote la RAM se limitará el tamaño de las sentencias de entrada\n",
    "# a la mitad:\n",
    "max_input_len = 20#30#50\n",
    "max_out_len = 22#30#54"
   ]
  },
  {
   "cell_type": "markdown",
   "metadata": {
    "id": "hGOn9N57IuYz"
   },
   "source": [
    "A la hora de realiza padding es importante teneer en cuenta que en el encoder los ceros se agregan al comienoz y en el decoder al final. Esto es porque la salida del encoder está basado en las últimas palabras de la sentencia (son las más importantes), mientras que en el decoder está basado en el comienzo de la secuencia de salida ya que es la realimentación del sistema y termina con fin de sentencia."
   ]
  },
  {
   "cell_type": "code",
   "execution_count": 9,
   "metadata": {
    "colab": {
     "base_uri": "https://localhost:8080/"
    },
    "executionInfo": {
     "elapsed": 23,
     "status": "ok",
     "timestamp": 1655153154937,
     "user": {
      "displayName": "Hernán Contigiani",
      "userId": "01142101934719343059"
     },
     "user_tz": 180
    },
    "id": "q0Ob4hAWJkcv",
    "outputId": "9152d151-b863-49c9-e527-940d37a85385"
   },
   "outputs": [
    {
     "name": "stdout",
     "output_type": "stream",
     "text": [
      "Cantidad de rows del dataset: 25000\n",
      "encoder_input_sequences shape: (25000, 20)\n",
      "decoder_input_sequences shape: (25000, 22)\n"
     ]
    }
   ],
   "source": [
    "from clase.torch_helpers import pad_sequences\n",
    "print(\"Cantidad de rows del dataset:\", len(input_integer_seq))\n",
    "\n",
    "encoder_input_sequences = pad_sequences(input_integer_seq, maxlen=max_input_len)\n",
    "print(\"encoder_input_sequences shape:\", encoder_input_sequences.shape)\n",
    "\n",
    "decoder_input_sequences = pad_sequences(output_input_integer_seq, maxlen=max_out_len, padding='post')\n",
    "print(\"decoder_input_sequences shape:\", decoder_input_sequences.shape)"
   ]
  },
  {
   "cell_type": "code",
   "execution_count": 10,
   "metadata": {
    "colab": {
     "base_uri": "https://localhost:8080/"
    },
    "executionInfo": {
     "elapsed": 16,
     "status": "ok",
     "timestamp": 1655153154937,
     "user": {
      "displayName": "Hernán Contigiani",
      "userId": "01142101934719343059"
     },
     "user_tz": 180
    },
    "id": "3VySR1pzx9UG",
    "outputId": "3dfeac8e-beed-4069-ffe9-1420bd7bfaa2"
   },
   "outputs": [
    {
     "name": "stdout",
     "output_type": "stream",
     "text": [
      "decoder_output_sequences shape: (25000, 22)\n"
     ]
    }
   ],
   "source": [
    "decoder_output_sequences = pad_sequences(output_integer_seq, maxlen=max_out_len, padding='post')\n",
    "print(\"decoder_output_sequences shape:\", decoder_output_sequences.shape)"
   ]
  },
  {
   "cell_type": "markdown",
   "metadata": {
    "id": "wK4blEEsRQv3"
   },
   "source": [
    "La última capa del modelo (softmax) necesita que los valores de salida\n",
    "del decoder (decoder_sequences) estén en formato oneHotEncoder.\\\n",
    "Se utiliza \"decoder_output_sequences\" con la misma estrategía que se transformó la entrada del decoder."
   ]
  },
  {
   "cell_type": "code",
   "execution_count": 11,
   "metadata": {
    "colab": {
     "base_uri": "https://localhost:8080/"
    },
    "executionInfo": {
     "elapsed": 11,
     "status": "ok",
     "timestamp": 1655153154938,
     "user": {
      "displayName": "Hernán Contigiani",
      "userId": "01142101934719343059"
     },
     "user_tz": 180
    },
    "id": "ANTOqJ0WWw-q",
    "outputId": "eba76a92-1e3c-4380-8e60-761ee7e43746"
   },
   "outputs": [
    {
     "data": {
      "text/plain": [
       "torch.Size([25000, 22])"
      ]
     },
     "execution_count": 11,
     "metadata": {},
     "output_type": "execute_result"
    }
   ],
   "source": [
    "torch.from_numpy(decoder_output_sequences).shape"
   ]
  },
  {
   "cell_type": "code",
   "execution_count": 12,
   "metadata": {
    "colab": {
     "base_uri": "https://localhost:8080/"
    },
    "executionInfo": {
     "elapsed": 4345,
     "status": "ok",
     "timestamp": 1655153159276,
     "user": {
      "displayName": "Hernán Contigiani",
      "userId": "01142101934719343059"
     },
     "user_tz": 180
    },
    "id": "SD0bpM32yWfB",
    "outputId": "f7b48899-43d3-4b7b-fd59-0bdbae7bc2bd"
   },
   "outputs": [
    {
     "name": "stdout",
     "output_type": "stream",
     "text": [
      "encoder_input_size: 20\n",
      "decoder_input_size: 22\n",
      "Output dim 12710\n"
     ]
    }
   ],
   "source": [
    "class Data(Dataset):\n",
    "    def __init__(self, encoder_input, decoder_input, decoder_output):\n",
    "        # Convertir los arrays de numpy a tensores. \n",
    "        # pytorch espera en general entradas 32bits\n",
    "        self.encoder_inputs = torch.from_numpy(encoder_input.astype(np.int32))\n",
    "        self.decoder_inputs = torch.from_numpy(decoder_input.astype(np.int32))\n",
    "        # Transformar los datos a oneHotEncoding\n",
    "        # la loss function esperan la salida float\n",
    "        self.decoder_outputs = F.one_hot(torch.from_numpy(decoder_output).to(torch.int64), num_classes=num_words_output).float()\n",
    "\n",
    "        self.len = self.decoder_outputs.shape[0]\n",
    "\n",
    "    def __getitem__(self,index):\n",
    "        return self.encoder_inputs[index], self.decoder_inputs[index], self.decoder_outputs[index]\n",
    "\n",
    "    def __len__(self):\n",
    "        return self.len\n",
    "\n",
    "data_set = Data(encoder_input_sequences, decoder_input_sequences, decoder_output_sequences)\n",
    "\n",
    "encoder_input_size = data_set.encoder_inputs.shape[1]\n",
    "print(\"encoder_input_size:\", encoder_input_size)\n",
    "\n",
    "decoder_input_size = data_set.decoder_inputs.shape[1]\n",
    "print(\"decoder_input_size:\", decoder_input_size)\n",
    "\n",
    "output_dim = data_set.decoder_outputs.shape[2]\n",
    "print(\"Output dim\", output_dim)"
   ]
  },
  {
   "cell_type": "code",
   "execution_count": 13,
   "metadata": {
    "colab": {
     "base_uri": "https://localhost:8080/"
    },
    "executionInfo": {
     "elapsed": 268,
     "status": "ok",
     "timestamp": 1655153159536,
     "user": {
      "displayName": "Hernán Contigiani",
      "userId": "01142101934719343059"
     },
     "user_tz": 180
    },
    "id": "sUDPZeuAU1RI",
    "outputId": "f19e0632-7cfd-4671-dddc-edbcf715788f"
   },
   "outputs": [
    {
     "name": "stdout",
     "output_type": "stream",
     "text": [
      "Tamaño del conjunto de entrenamiento: 20000\n",
      "Tamaño del conjunto de validacion: 5000\n"
     ]
    }
   ],
   "source": [
    "torch.manual_seed(42)\n",
    "valid_set_size = int(data_set.len * 0.2)\n",
    "train_set_size = data_set.len - valid_set_size\n",
    "\n",
    "train_set = torch.utils.data.Subset(data_set, range(train_set_size))\n",
    "valid_set = torch.utils.data.Subset(data_set, range(train_set_size, data_set.len))\n",
    "\n",
    "print(\"Tamaño del conjunto de entrenamiento:\", len(train_set))\n",
    "print(\"Tamaño del conjunto de validacion:\", len(valid_set))\n",
    "\n",
    "# train_loader = torch.utils.data.DataLoader(train_set, batch_size=32, shuffle=True)\n",
    "# valid_loader = torch.utils.data.DataLoader(valid_set, batch_size=32, shuffle=False)\n",
    "train_loader = torch.utils.data.DataLoader(train_set, batch_size=128, shuffle=True, num_workers=0, pin_memory=True)\n",
    "valid_loader = torch.utils.data.DataLoader(valid_set, batch_size=128, shuffle=True, num_workers=0, pin_memory=True)"
   ]
  },
  {
   "cell_type": "markdown",
   "metadata": {
    "id": "_CJIsLBbj6rg"
   },
   "source": [
    "### 3 - Preparar los embeddings"
   ]
  },
  {
   "cell_type": "code",
   "execution_count": 14,
   "metadata": {
    "id": "Mosj2-x-kXBK"
   },
   "outputs": [],
   "source": [
    "from gensim.models.fasttext import load_facebook_vectors\n",
    "model_embeddings = load_facebook_vectors(\"clase/cc.en.300.bin\")  \n",
    "from gensim.models.fasttext import load_facebook_vectors\n",
    "model_embeddings_es = load_facebook_vectors(\"clase/cc.es.300.bin\")"
   ]
  },
  {
   "cell_type": "code",
   "execution_count": 15,
   "metadata": {},
   "outputs": [
    {
     "name": "stdout",
     "output_type": "stream",
     "text": [
      "(7516, 300)\n",
      "(12710, 300)\n"
     ]
    }
   ],
   "source": [
    "vocab_size_in  = max(word2idx_inputs .values()) + 1   \n",
    "vocab_size_out = max(word2idx_outputs.values()) + 1   \n",
    "embed_dim = 300\n",
    "# Inglés\n",
    "embedding_matrix = np.zeros((vocab_size_in, embed_dim), dtype=np.float32)\n",
    "for w, idx in word2idx_inputs.items():\n",
    "    # idx incluye todos los valores hasta max_index\n",
    "    if w in model_embeddings:\n",
    "        embedding_matrix[idx] = model_embeddings[w]\n",
    "# Español\n",
    "embedding_matrix_es = np.zeros((vocab_size_out, embed_dim), dtype=np.float32)\n",
    "for w, idx in word2idx_outputs.items():\n",
    "    if w in model_embeddings_es:\n",
    "        embedding_matrix_es[idx] = model_embeddings_es[w]\n",
    "print(embedding_matrix.shape)\n",
    "print(embedding_matrix_es.shape)\n",
    "nb_words = embedding_matrix.shape[0]\n",
    "num_words_output = embedding_matrix_es.shape[0]"
   ]
  },
  {
   "cell_type": "markdown",
   "metadata": {
    "id": "3vKbhjtIwPgM"
   },
   "source": [
    "### 4 - Entrenar el modelo"
   ]
  },
  {
   "cell_type": "code",
   "execution_count": 23,
   "metadata": {
    "colab": {
     "base_uri": "https://localhost:8080/"
    },
    "executionInfo": {
     "elapsed": 14732,
     "status": "ok",
     "timestamp": 1655153181107,
     "user": {
      "displayName": "Hernán Contigiani",
      "userId": "01142101934719343059"
     },
     "user_tz": 180
    },
    "id": "3fm3HCLMPSG-",
    "outputId": "39be3183-0a69-49a5-8aa1-9f24026edf32"
   },
   "outputs": [],
   "source": [
    "class Encoder(nn.Module):\n",
    "    def __init__(self, vocab_size):\n",
    "        super().__init__()\n",
    "        self.lstm_size = 256\n",
    "        self.num_layers = 2\n",
    "        self.embedding_dim = embed_dim\n",
    "        self.embedding = nn.Embedding(num_embeddings=vocab_size, embedding_dim=self.embedding_dim, padding_idx=0)\n",
    "        self.embedding.weight.data.copy_(torch.from_numpy(embedding_matrix))\n",
    "        self.embedding.weight.requires_grad = False  # marcar como layer no entrenable (freeze)\n",
    "        self.lstm = nn.LSTM(input_size=self.embedding_dim, hidden_size=self.lstm_size, batch_first=True,\n",
    "                            num_layers=self.num_layers, dropout=0.1) # LSTM layer\n",
    "\n",
    "    def forward(self, x):\n",
    "        out = self.embedding(x)\n",
    "        lstm_output, (ht, ct) = self.lstm(out)\n",
    "        return (ht, ct)\n",
    "\n",
    "class Decoder(nn.Module):\n",
    "    def __init__(self, vocab_size, output_dim):\n",
    "        super().__init__()\n",
    "        self.lstm_size = 256\n",
    "        self.num_layers = 2\n",
    "        self.embedding_dim = embed_dim\n",
    "        self.output_dim = output_dim\n",
    "\n",
    "        self.embedding = nn.Embedding(num_embeddings=vocab_size, embedding_dim=embed_dim, padding_idx=0)\n",
    "        self.embedding.weight.data.copy_(torch.from_numpy(embedding_matrix_es))\n",
    "        self.embedding.weight.requires_grad = False  # Opcional: Freezar\n",
    "\n",
    "        self.lstm = nn.LSTM(input_size=self.embedding_dim, hidden_size=self.lstm_size, batch_first=True,\n",
    "                            num_layers=self.num_layers, dropout=0.1) # LSTM layer\n",
    "        self.fc1 = nn.Linear(in_features=self.lstm_size, out_features=self.output_dim) # Fully connected layer\n",
    "\n",
    "        # self.softmax = nn.Softmax(dim=1) # normalize in dim 1\n",
    "\n",
    "    def forward(self, x, prev_state):\n",
    "        out = self.embedding(x)\n",
    "        lstm_output, (ht, ct) = self.lstm(out, prev_state)\n",
    "        # out = self.softmax(self.fc1(lstm_output[:,-1,:])) # take last output (last seq)\n",
    "        out = self.fc1(lstm_output)  # conserva la dimensión de secuencia\n",
    "        # out = self.softmax(out.squeeze(1))  # quita dimensión de secuencia = 1\n",
    "        return out, (ht, ct)\n",
    "\n",
    "class Seq2Seq(nn.Module):\n",
    "    def __init__(self, encoder, decoder):\n",
    "        super().__init__()\n",
    "        \n",
    "        self.encoder = encoder\n",
    "        self.decoder = decoder\n",
    "        \n",
    "        assert encoder.lstm_size == decoder.lstm_size, \"Hidden dimensions of encoder and decoder must be equal!\"\n",
    "        assert encoder.num_layers == decoder.num_layers, \"Encoder and decoder must have equal number of layers!\"\n",
    "        \n",
    "    def forward(self, encoder_input, decoder_input):\n",
    "        batch_size = decoder_input.shape[0]\n",
    "        decoder_input_len = decoder_input.shape[1]\n",
    "        vocab_size = self.decoder.output_dim\n",
    "        \n",
    "        outputs = torch.zeros(batch_size, decoder_input_len, vocab_size, device=encoder_input.device)\n",
    "\n",
    "        # ultimo hidden state del encoder, primer estado oculto del decoder\n",
    "        prev_state = self.encoder(encoder_input)\n",
    "        # En la primera iteracion se toma el primer token de target (<sos>)\n",
    "        input = decoder_input[:, 0:1]\n",
    "\n",
    "        for t in range(decoder_input_len):\n",
    "            input = decoder_input[:, t:t+1]\n",
    "            output, prev_state = self.decoder(input, prev_state)\n",
    "            # top1 = output.argmax(1).view(-1, 1)\n",
    "            top1 = output[:, -1, :].argmax(1).view(-1, 1)\n",
    "            # guardar cada salida (softmax)\n",
    "            outputs[:, t, :] = output.squeeze(1)\n",
    "            # outputs[:, t, :] = output\n",
    "\n",
    "        return outputs"
   ]
  },
  {
   "cell_type": "code",
   "execution_count": 24,
   "metadata": {},
   "outputs": [
    {
     "data": {
      "text/plain": [
       "==========================================================================================\n",
       "Layer (type:depth-idx)                   Output Shape              Param #\n",
       "==========================================================================================\n",
       "Seq2Seq                                  [1, 22, 12710]            --\n",
       "├─Encoder: 1-1                           [2, 1, 256]               --\n",
       "│    └─Embedding: 2-1                    [1, 20, 300]              (2,254,800)\n",
       "│    └─LSTM: 2-2                         [1, 20, 256]              1,097,728\n",
       "├─Decoder: 1-2                           [1, 1, 12710]             --\n",
       "│    └─Embedding: 2-3                    [1, 1, 300]               (3,813,000)\n",
       "│    └─LSTM: 2-4                         [1, 1, 256]               1,097,728\n",
       "│    └─Linear: 2-5                       [1, 1, 12710]             3,266,470\n",
       "├─Decoder: 1-3                           [1, 1, 12710]             (recursive)\n",
       "│    └─Embedding: 2-6                    [1, 1, 300]               (recursive)\n",
       "│    └─LSTM: 2-7                         [1, 1, 256]               (recursive)\n",
       "│    └─Linear: 2-8                       [1, 1, 12710]             (recursive)\n",
       "├─Decoder: 1-4                           [1, 1, 12710]             (recursive)\n",
       "│    └─Embedding: 2-9                    [1, 1, 300]               (recursive)\n",
       "│    └─LSTM: 2-10                        [1, 1, 256]               (recursive)\n",
       "│    └─Linear: 2-11                      [1, 1, 12710]             (recursive)\n",
       "├─Decoder: 1-5                           [1, 1, 12710]             (recursive)\n",
       "│    └─Embedding: 2-12                   [1, 1, 300]               (recursive)\n",
       "│    └─LSTM: 2-13                        [1, 1, 256]               (recursive)\n",
       "│    └─Linear: 2-14                      [1, 1, 12710]             (recursive)\n",
       "├─Decoder: 1-6                           [1, 1, 12710]             (recursive)\n",
       "│    └─Embedding: 2-15                   [1, 1, 300]               (recursive)\n",
       "│    └─LSTM: 2-16                        [1, 1, 256]               (recursive)\n",
       "│    └─Linear: 2-17                      [1, 1, 12710]             (recursive)\n",
       "├─Decoder: 1-7                           [1, 1, 12710]             (recursive)\n",
       "│    └─Embedding: 2-18                   [1, 1, 300]               (recursive)\n",
       "│    └─LSTM: 2-19                        [1, 1, 256]               (recursive)\n",
       "│    └─Linear: 2-20                      [1, 1, 12710]             (recursive)\n",
       "├─Decoder: 1-8                           [1, 1, 12710]             (recursive)\n",
       "│    └─Embedding: 2-21                   [1, 1, 300]               (recursive)\n",
       "│    └─LSTM: 2-22                        [1, 1, 256]               (recursive)\n",
       "│    └─Linear: 2-23                      [1, 1, 12710]             (recursive)\n",
       "├─Decoder: 1-9                           [1, 1, 12710]             (recursive)\n",
       "│    └─Embedding: 2-24                   [1, 1, 300]               (recursive)\n",
       "│    └─LSTM: 2-25                        [1, 1, 256]               (recursive)\n",
       "│    └─Linear: 2-26                      [1, 1, 12710]             (recursive)\n",
       "├─Decoder: 1-10                          [1, 1, 12710]             (recursive)\n",
       "│    └─Embedding: 2-27                   [1, 1, 300]               (recursive)\n",
       "│    └─LSTM: 2-28                        [1, 1, 256]               (recursive)\n",
       "│    └─Linear: 2-29                      [1, 1, 12710]             (recursive)\n",
       "├─Decoder: 1-11                          [1, 1, 12710]             (recursive)\n",
       "│    └─Embedding: 2-30                   [1, 1, 300]               (recursive)\n",
       "│    └─LSTM: 2-31                        [1, 1, 256]               (recursive)\n",
       "│    └─Linear: 2-32                      [1, 1, 12710]             (recursive)\n",
       "├─Decoder: 1-12                          [1, 1, 12710]             (recursive)\n",
       "│    └─Embedding: 2-33                   [1, 1, 300]               (recursive)\n",
       "│    └─LSTM: 2-34                        [1, 1, 256]               (recursive)\n",
       "│    └─Linear: 2-35                      [1, 1, 12710]             (recursive)\n",
       "├─Decoder: 1-13                          [1, 1, 12710]             (recursive)\n",
       "│    └─Embedding: 2-36                   [1, 1, 300]               (recursive)\n",
       "│    └─LSTM: 2-37                        [1, 1, 256]               (recursive)\n",
       "│    └─Linear: 2-38                      [1, 1, 12710]             (recursive)\n",
       "├─Decoder: 1-14                          [1, 1, 12710]             (recursive)\n",
       "│    └─Embedding: 2-39                   [1, 1, 300]               (recursive)\n",
       "│    └─LSTM: 2-40                        [1, 1, 256]               (recursive)\n",
       "│    └─Linear: 2-41                      [1, 1, 12710]             (recursive)\n",
       "├─Decoder: 1-15                          [1, 1, 12710]             (recursive)\n",
       "│    └─Embedding: 2-42                   [1, 1, 300]               (recursive)\n",
       "│    └─LSTM: 2-43                        [1, 1, 256]               (recursive)\n",
       "│    └─Linear: 2-44                      [1, 1, 12710]             (recursive)\n",
       "├─Decoder: 1-16                          [1, 1, 12710]             (recursive)\n",
       "│    └─Embedding: 2-45                   [1, 1, 300]               (recursive)\n",
       "│    └─LSTM: 2-46                        [1, 1, 256]               (recursive)\n",
       "│    └─Linear: 2-47                      [1, 1, 12710]             (recursive)\n",
       "├─Decoder: 1-17                          [1, 1, 12710]             (recursive)\n",
       "│    └─Embedding: 2-48                   [1, 1, 300]               (recursive)\n",
       "│    └─LSTM: 2-49                        [1, 1, 256]               (recursive)\n",
       "│    └─Linear: 2-50                      [1, 1, 12710]             (recursive)\n",
       "├─Decoder: 1-18                          [1, 1, 12710]             (recursive)\n",
       "│    └─Embedding: 2-51                   [1, 1, 300]               (recursive)\n",
       "│    └─LSTM: 2-52                        [1, 1, 256]               (recursive)\n",
       "│    └─Linear: 2-53                      [1, 1, 12710]             (recursive)\n",
       "├─Decoder: 1-19                          [1, 1, 12710]             (recursive)\n",
       "│    └─Embedding: 2-54                   [1, 1, 300]               (recursive)\n",
       "│    └─LSTM: 2-55                        [1, 1, 256]               (recursive)\n",
       "│    └─Linear: 2-56                      [1, 1, 12710]             (recursive)\n",
       "├─Decoder: 1-20                          [1, 1, 12710]             (recursive)\n",
       "│    └─Embedding: 2-57                   [1, 1, 300]               (recursive)\n",
       "│    └─LSTM: 2-58                        [1, 1, 256]               (recursive)\n",
       "│    └─Linear: 2-59                      [1, 1, 12710]             (recursive)\n",
       "├─Decoder: 1-21                          [1, 1, 12710]             (recursive)\n",
       "│    └─Embedding: 2-60                   [1, 1, 300]               (recursive)\n",
       "│    └─LSTM: 2-61                        [1, 1, 256]               (recursive)\n",
       "│    └─Linear: 2-62                      [1, 1, 12710]             (recursive)\n",
       "├─Decoder: 1-22                          [1, 1, 12710]             (recursive)\n",
       "│    └─Embedding: 2-63                   [1, 1, 300]               (recursive)\n",
       "│    └─LSTM: 2-64                        [1, 1, 256]               (recursive)\n",
       "│    └─Linear: 2-65                      [1, 1, 12710]             (recursive)\n",
       "├─Decoder: 1-23                          [1, 1, 12710]             (recursive)\n",
       "│    └─Embedding: 2-66                   [1, 1, 300]               (recursive)\n",
       "│    └─LSTM: 2-67                        [1, 1, 256]               (recursive)\n",
       "│    └─Linear: 2-68                      [1, 1, 12710]             (recursive)\n",
       "==========================================================================================\n",
       "Total params: 11,529,726\n",
       "Trainable params: 5,461,926\n",
       "Non-trainable params: 6,067,800\n",
       "Total mult-adds (Units.MEGABYTES): 204.11\n",
       "==========================================================================================\n",
       "Input size (MB): 0.00\n",
       "Forward/backward pass size (MB): 2.42\n",
       "Params size (MB): 46.12\n",
       "Estimated Total Size (MB): 48.54\n",
       "=========================================================================================="
      ]
     },
     "execution_count": 24,
     "metadata": {},
     "output_type": "execute_result"
    }
   ],
   "source": [
    "encoder = Encoder(vocab_size=nb_words)\n",
    "if cuda: encoder.cuda()\n",
    "# decoder --> vocab_size == output_dim --> porque recibe y devuelve palabras en el mismo vocabulario\n",
    "decoder = Decoder(vocab_size=num_words_output, output_dim=num_words_output)\n",
    "if cuda: decoder.cuda()\n",
    "\n",
    "seq2seq = Seq2Seq(encoder, decoder).to(device)\n",
    "if cuda: seq2seq.cuda()\n",
    "\n",
    "# Crear el optimizador la una función de error\n",
    "optimizer = torch.optim.Adam(seq2seq.parameters(), lr=0.01)\n",
    "criterion = torch.nn.CrossEntropyLoss(ignore_index=0)  # Omito el padding para que no falsee la metrica\n",
    "\n",
    "x_enc = data_set[0:1][0]\n",
    "x_dec = data_set[0:1][1]\n",
    "summary(seq2seq,\n",
    "        input_data=(x_enc.to(device).long(), x_dec.to(device).long()),\n",
    "        device=device)"
   ]
  },
  {
   "cell_type": "code",
   "execution_count": 25,
   "metadata": {
    "colab": {
     "base_uri": "https://localhost:8080/"
    },
    "executionInfo": {
     "elapsed": 597334,
     "status": "ok",
     "timestamp": 1655153778405,
     "user": {
      "displayName": "Hernán Contigiani",
      "userId": "01142101934719343059"
     },
     "user_tz": 180
    },
    "id": "VDB0KWIegt8s",
    "outputId": "d1e002a8-fa8e-4dfc-f144-a95732026f94"
   },
   "outputs": [
    {
     "name": "stdout",
     "output_type": "stream",
     "text": [
      "Epoch 1/100 — Train Loss: 6.1560, Acc: 0.0553 | Val Loss: 5.4990, Acc: 0.0624\n",
      "Epoch 2/100 — Train Loss: 5.1015, Acc: 0.0663 | Val Loss: 5.1227, Acc: 0.0694\n",
      "Epoch 3/100 — Train Loss: 4.6584, Acc: 0.0731 | Val Loss: 4.9633, Acc: 0.0756\n",
      "Epoch 4/100 — Train Loss: 4.3245, Acc: 0.0792 | Val Loss: 4.8347, Acc: 0.0828\n",
      "Epoch 5/100 — Train Loss: 4.0226, Acc: 0.0857 | Val Loss: 4.7857, Acc: 0.0854\n",
      "Epoch 6/100 — Train Loss: 3.7837, Acc: 0.0899 | Val Loss: 4.8427, Acc: 0.0867\n",
      "Epoch 7/100 — Train Loss: 3.5691, Acc: 0.0948 | Val Loss: 4.8894, Acc: 0.0864\n",
      "Epoch 8/100 — Train Loss: 3.3761, Acc: 0.1012 | Val Loss: 4.9356, Acc: 0.0893\n",
      "Epoch 9/100 — Train Loss: 3.1953, Acc: 0.1086 | Val Loss: 4.9791, Acc: 0.0885\n",
      "Epoch 10/100 — Train Loss: 3.0399, Acc: 0.1154 | Val Loss: 5.0716, Acc: 0.0915\n",
      "Epoch 11/100 — Train Loss: 2.9004, Acc: 0.1225 | Val Loss: 5.1489, Acc: 0.0900\n",
      "Epoch 12/100 — Train Loss: 2.7736, Acc: 0.1289 | Val Loss: 5.1967, Acc: 0.0908\n",
      "Epoch 13/100 — Train Loss: 2.6619, Acc: 0.1349 | Val Loss: 5.3044, Acc: 0.0913\n",
      "Epoch 14/100 — Train Loss: 2.5681, Acc: 0.1409 | Val Loss: 5.3465, Acc: 0.0934\n",
      "Epoch 15/100 — Train Loss: 2.4620, Acc: 0.1473 | Val Loss: 5.3861, Acc: 0.0950\n",
      "\n",
      "Early stopping at epoch 15\n"
     ]
    }
   ],
   "source": [
    "history1, model = train(seq2seq,\n",
    "                train_loader,\n",
    "                valid_loader,\n",
    "                optimizer,\n",
    "                criterion,\n",
    "                epochs=100,\n",
    "                device=device,\n",
    "                patience=10\n",
    "                )"
   ]
  },
  {
   "cell_type": "code",
   "execution_count": null,
   "metadata": {
    "colab": {
     "base_uri": "https://localhost:8080/",
     "height": 265
    },
    "executionInfo": {
     "elapsed": 800,
     "status": "ok",
     "timestamp": 1655154657801,
     "user": {
      "displayName": "Hernán Contigiani",
      "userId": "01142101934719343059"
     },
     "user_tz": 180
    },
    "id": "pZzm3tx059Zv",
    "outputId": "b7a08ad6-392e-4e40-8491-fb707d23254c"
   },
   "outputs": [
    {
     "data": {
      "image/png": "[encoded data removed]",
      "text/plain": [
       "<Figure size 640x480 with 1 Axes>"
      ]
     },
     "metadata": {},
     "output_type": "display_data"
    }
   ],
   "source": [
    "epoch_count = range(1, len(history1['accuracy']) + 1)\n",
    "sns.lineplot(x=epoch_count,  y=history1['accuracy'], label='train')\n",
    "sns.lineplot(x=epoch_count,  y=history1['val_accuracy'], label='valid')\n",
    "plt.show()"
   ]
  },
  {
   "cell_type": "markdown",
   "metadata": {
    "id": "Zbwn0ekDy_s2"
   },
   "source": [
    "### 5 - Inferencia"
   ]
  },
  {
   "cell_type": "code",
   "execution_count": 26,
   "metadata": {
    "id": "jnkl3mSpsU_7"
   },
   "outputs": [
    {
     "data": {
      "text/plain": [
       "'\\nStep 1:\\nA deal is a deal -> Encoder -> enc(h1,c1)\\n\\nenc(h1,c1) + <sos> -> Decoder -> Un + dec(h1,c1)\\n\\nstep 2:\\ndec(h1,c1) + Un -> Decoder -> trato + dec(h2,c2)\\n\\nstep 3:\\ndec(h2,c2) + trato -> Decoder -> es + dec(h3,c3)\\n\\nstep 4:\\ndec(h3,c3) + es -> Decoder -> un + dec(h4,c4)\\n\\nstep 5:\\ndec(h4,c4) + un -> Decoder -> trato + dec(h5,c5)\\n\\nstep 6:\\ndec(h5,c5) + trato. -> Decoder -> <eos> + dec(h6,c6)\\n'"
      ]
     },
     "execution_count": 26,
     "metadata": {},
     "output_type": "execute_result"
    }
   ],
   "source": [
    "'''\n",
    "Step 1:\n",
    "A deal is a deal -> Encoder -> enc(h1,c1)\n",
    "\n",
    "enc(h1,c1) + <sos> -> Decoder -> Un + dec(h1,c1)\n",
    "\n",
    "step 2:\n",
    "dec(h1,c1) + Un -> Decoder -> trato + dec(h2,c2)\n",
    "\n",
    "step 3:\n",
    "dec(h2,c2) + trato -> Decoder -> es + dec(h3,c3)\n",
    "\n",
    "step 4:\n",
    "dec(h3,c3) + es -> Decoder -> un + dec(h4,c4)\n",
    "\n",
    "step 5:\n",
    "dec(h4,c4) + un -> Decoder -> trato + dec(h5,c5)\n",
    "\n",
    "step 6:\n",
    "dec(h5,c5) + trato. -> Decoder -> <eos> + dec(h6,c6)\n",
    "'''"
   ]
  },
  {
   "cell_type": "code",
   "execution_count": 27,
   "metadata": {
    "id": "71XeCtfYmOFx"
   },
   "outputs": [],
   "source": [
    "# Armar lo conversores de indice a palabra:\n",
    "idx2word_input = {v:k for k, v in word2idx_inputs.items()}\n",
    "idx2word_target = {v:k for k, v in word2idx_outputs.items()}"
   ]
  },
  {
   "cell_type": "code",
   "execution_count": 28,
   "metadata": {},
   "outputs": [],
   "source": [
    "def translate_sentence(input_text, \n",
    "                       model, \n",
    "                       input_tokenizer, \n",
    "                       word2idx_outputs, \n",
    "                       idx2word_target,\n",
    "                       max_input_len,\n",
    "                       max_output_len,\n",
    "                       device):\n",
    "    model.eval()\n",
    "    \n",
    "    # 1) Tokenizar y paddear\n",
    "    seq = input_tokenizer.texts_to_sequences([input_text.lower()])[0]\n",
    "    seq = pad_sequences([seq], maxlen=max_input_len, padding='post')\n",
    "    \n",
    "    encoder_input = torch.tensor(seq, dtype=torch.long).to(device)      # [1, max_input_len]\n",
    "    # 2) Pasar por el encoder\n",
    "    prev_state = model.encoder(encoder_input)                           # (h, c)\n",
    "    \n",
    "    # 3) Iniciar decoder con <sos>\n",
    "    sos = word2idx_outputs['<sos>']\n",
    "    eos = word2idx_outputs['<eos>']\n",
    "    decoder_input = torch.tensor([[sos]], dtype=torch.long).to(device)  # [1, 1]\n",
    "    \n",
    "    output_words = []\n",
    "    # 4) Loop hasta max_output_len o hasta <eos>\n",
    "    for _ in range(max_output_len):\n",
    "        logits, prev_state = model.decoder(decoder_input, prev_state)\n",
    "        # logits: [1, 1, vocab_size]\n",
    "        \n",
    "        logits = logits.squeeze(1)           # [1, vocab_size]\n",
    "        topi = logits.argmax(dim=1)          # [1]\n",
    "        idx = topi.item()                    # entero\n",
    "        \n",
    "        if idx == eos:\n",
    "            break\n",
    "        output_words.append(idx2word_target[idx])\n",
    "        \n",
    "        # re-alimentar al decoder\n",
    "        decoder_input = topi.unsqueeze(1)    # [1, 1]\n",
    "    \n",
    "    return ' '.join(output_words)\n",
    "\n"
   ]
  },
  {
   "cell_type": "code",
   "execution_count": 30,
   "metadata": {},
   "outputs": [
    {
     "name": "stdout",
     "output_type": "stream",
     "text": [
      "Input:    My mother say hi.\n",
      "Output:   tom se paró a la sombra y se acostó y se raspó y se raspó y se raspó\n"
     ]
    }
   ],
   "source": [
    "input_test = \"My mother say hi.\"\n",
    "translation = translate_sentence(\n",
    "    input_text=input_test,\n",
    "    model=model,\n",
    "    input_tokenizer=input_tokenizer,\n",
    "    word2idx_outputs=word2idx_outputs,\n",
    "    idx2word_target=idx2word_target,\n",
    "    max_input_len=max_input_len,\n",
    "    max_output_len=max_out_len,  \n",
    "    device=device\n",
    ")\n",
    "\n",
    "print(\"Input:   \", input_test)\n",
    "print(\"Output:  \", translation)"
   ]
  },
  {
   "cell_type": "code",
   "execution_count": 44,
   "metadata": {},
   "outputs": [
    {
     "name": "stdout",
     "output_type": "stream",
     "text": [
      "Input:    Summer has just begun.\n",
      "Output:   el niño se puso roja\n"
     ]
    }
   ],
   "source": [
    "i = np.random.choice(len(input_sentences))\n",
    "input_test = input_sentences[i:i+1][0]\n",
    "translation = translate_sentence(\n",
    "    input_text=input_test,\n",
    "    model=model,\n",
    "    input_tokenizer=input_tokenizer,\n",
    "    word2idx_outputs=word2idx_outputs,\n",
    "    idx2word_target=idx2word_target,\n",
    "    max_input_len=max_input_len,\n",
    "    max_output_len=max_out_len,   \n",
    "    device=device\n",
    ")\n",
    "\n",
    "print(\"Input:   \", input_test)\n",
    "print(\"Output:  \", translation)"
   ]
  },
  {
   "cell_type": "code",
   "execution_count": 45,
   "metadata": {},
   "outputs": [],
   "source": [
    "import torch\n",
    "import math\n",
    "from copy import deepcopy\n",
    "\n",
    "def translate_beam_search(\n",
    "    input_text: str,\n",
    "    model: Seq2Seq,\n",
    "    input_tokenizer,\n",
    "    word2idx_outputs: dict,\n",
    "    idx2word_target: dict,\n",
    "    max_input_len: int,\n",
    "    max_output_len: int,\n",
    "    device: torch.device,\n",
    "    beam_width: int = 3,\n",
    "):\n",
    "\n",
    "    model.eval()\n",
    "\n",
    "    # 1) Prepara encoder input\n",
    "    seq = input_tokenizer.texts_to_sequences([input_text.lower()])[0]\n",
    "    seq = pad_sequences([seq], maxlen=max_input_len, padding='post')\n",
    "    encoder_input = torch.tensor(seq, dtype=torch.long).to(device)\n",
    "    prev_state = model.encoder(encoder_input)  # (h, c)\n",
    "\n",
    "    sos = word2idx_outputs['<sos>']\n",
    "    eos = word2idx_outputs['<eos>']\n",
    "\n",
    "    # Cada hipótesis es (tokens: List[int], state, score: float)\n",
    "    hypotheses = [([sos], prev_state, 0.0)]\n",
    "\n",
    "    for _ in range(max_output_len):\n",
    "        all_candidates = []\n",
    "\n",
    "        # Extender cada hipótesis\n",
    "        for tokens, state, score in hypotheses:\n",
    "            last_token = torch.tensor([[tokens[-1]]], dtype=torch.long).to(device)\n",
    "            logits, new_state = model.decoder(last_token, state)  # [1,1,V]\n",
    "            log_probs = torch.log_softmax(logits.squeeze(1), dim=-1)  # [1, V]\n",
    "            topk_logps, topk_idxs = log_probs.topk(beam_width, dim=-1)\n",
    "\n",
    "            for logp, idx in zip(topk_logps[0], topk_idxs[0]):\n",
    "                new_tokens = tokens + [idx.item()]\n",
    "                new_score  = score + logp.item()\n",
    "                all_candidates.append((new_tokens, new_state, new_score))\n",
    "\n",
    "        # Ordenar y quedarnos con beam_width mejores\n",
    "        ordered = sorted(all_candidates, key=lambda tup: tup[2], reverse=True)\n",
    "        hypotheses = ordered[:beam_width]\n",
    "\n",
    "        # Si todas terminan en <eos>, interrumpir\n",
    "        if all(h[0][-1] == eos for h in hypotheses):\n",
    "            break\n",
    "\n",
    "    # Elegir la hipótesis con mayor score que termine en <eos> (o la mejor si ninguna termina)\n",
    "    best = None\n",
    "    for tokens, state, score in hypotheses:\n",
    "        if tokens[-1] == eos:\n",
    "            best = (tokens, score)\n",
    "            break\n",
    "    if best is None:\n",
    "        best = (hypotheses[0][0], hypotheses[0][2])\n",
    "\n",
    "    # Convertir ids a palabras, quitando <sos> y todo lo que venga tras <eos>\n",
    "    best_tokens = best[0]\n",
    "    words = []\n",
    "    for idx in best_tokens:\n",
    "        if idx == sos:\n",
    "            continue\n",
    "        if idx == eos:\n",
    "            break\n",
    "        words.append(idx2word_target.get(idx, '<unk>'))\n",
    "\n",
    "    return ' '.join(words)\n"
   ]
  },
  {
   "cell_type": "code",
   "execution_count": 53,
   "metadata": {},
   "outputs": [
    {
     "name": "stdout",
     "output_type": "stream",
     "text": [
      "Input:  Leave the room.\n",
      "Output: ella se levantó y caminó en el banco\n"
     ]
    }
   ],
   "source": [
    "i = np.random.choice(len(input_sentences))\n",
    "input_test = input_sentences[i:i+1][0]\n",
    "translation = translate_beam_search(\n",
    "    input_text=input_test,\n",
    "    model=model,\n",
    "    input_tokenizer=input_tokenizer,\n",
    "    word2idx_outputs=word2idx_outputs,\n",
    "    idx2word_target=idx2word_target,\n",
    "    max_input_len=max_input_len,\n",
    "    max_output_len=max_out_len,\n",
    "    device=device,\n",
    "    beam_width=5  \n",
    ")\n",
    "print(\"Input: \", input_test)\n",
    "print(\"Output:\", translation)\n"
   ]
  },
  {
   "cell_type": "markdown",
   "metadata": {},
   "source": [
    "---------"
   ]
  },
  {
   "cell_type": "markdown",
   "metadata": {},
   "source": [
    "#### Sin filtrar padding en crossEntropy"
   ]
  },
  {
   "cell_type": "code",
   "execution_count": 54,
   "metadata": {},
   "outputs": [
    {
     "name": "stdout",
     "output_type": "stream",
     "text": [
      "Epoch 1/100 — Train Loss: 1.4052, Acc: 0.7717 | Val Loss: 1.7177, Acc: 0.7673\n",
      "Epoch 2/100 — Train Loss: 0.7547, Acc: 0.8331 | Val Loss: 1.7235, Acc: 0.7718\n",
      "Epoch 3/100 — Train Loss: 0.7102, Acc: 0.8416 | Val Loss: 1.7695, Acc: 0.7733\n",
      "Epoch 4/100 — Train Loss: 0.6765, Acc: 0.8478 | Val Loss: 1.7907, Acc: 0.7736\n",
      "Epoch 5/100 — Train Loss: 0.6474, Acc: 0.8527 | Val Loss: 1.7971, Acc: 0.7769\n",
      "Epoch 6/100 — Train Loss: 0.6218, Acc: 0.8571 | Val Loss: 1.8247, Acc: 0.7765\n",
      "Epoch 7/100 — Train Loss: 0.5984, Acc: 0.8606 | Val Loss: 1.8541, Acc: 0.7770\n",
      "Epoch 8/100 — Train Loss: 0.5771, Acc: 0.8641 | Val Loss: 1.8570, Acc: 0.7804\n",
      "Epoch 9/100 — Train Loss: 0.5599, Acc: 0.8665 | Val Loss: 1.8707, Acc: 0.7815\n",
      "Epoch 10/100 — Train Loss: 0.5416, Acc: 0.8699 | Val Loss: 1.8912, Acc: 0.7819\n",
      "Epoch 11/100 — Train Loss: 0.5274, Acc: 0.8719 | Val Loss: 1.9047, Acc: 0.7816\n",
      "\n",
      "Early stopping at epoch 11\n"
     ]
    },
    {
     "data": {
      "image/png": "[encoded data removed]",
      "text/plain": [
       "<Figure size 640x480 with 1 Axes>"
      ]
     },
     "metadata": {},
     "output_type": "display_data"
    }
   ],
   "source": [
    "optimizer = torch.optim.Adam(seq2seq.parameters(), lr=0.01)\n",
    "criterion = torch.nn.CrossEntropyLoss()\n",
    "history2, model2 = train(seq2seq,\n",
    "                train_loader,\n",
    "                valid_loader,\n",
    "                optimizer,\n",
    "                criterion,\n",
    "                epochs=100,\n",
    "                device=device,\n",
    "                patience=10\n",
    "                )\n",
    "epoch_count = range(1, len(history2['accuracy']) + 1)\n",
    "sns.lineplot(x=epoch_count,  y=history2['accuracy'], label='train')\n",
    "sns.lineplot(x=epoch_count,  y=history2['val_accuracy'], label='valid')\n",
    "plt.show()"
   ]
  },
  {
   "cell_type": "code",
   "execution_count": 55,
   "metadata": {},
   "outputs": [
    {
     "name": "stdout",
     "output_type": "stream",
     "text": [
      "Input:    Tom was struck by lightning.\n",
      "Output:   tom se quitó la mano y se comió toda la noche y se echó a un amigo de vuelta\n"
     ]
    }
   ],
   "source": [
    "i = np.random.choice(len(input_sentences))\n",
    "input_test = input_sentences[i:i+1][0]\n",
    "translation = translate_sentence(\n",
    "    input_text=input_test,\n",
    "    model=model2,\n",
    "    input_tokenizer=input_tokenizer,\n",
    "    word2idx_outputs=word2idx_outputs,\n",
    "    idx2word_target=idx2word_target,\n",
    "    max_input_len=max_input_len,\n",
    "    max_output_len=max_out_len,   \n",
    "    device=device\n",
    ")\n",
    "\n",
    "print(\"Input:   \", input_test)\n",
    "print(\"Output:  \", translation)"
   ]
  },
  {
   "cell_type": "markdown",
   "metadata": {},
   "source": [
    "---------------"
   ]
  },
  {
   "cell_type": "markdown",
   "metadata": {},
   "source": [
    "## Pruebas con mas datos"
   ]
  },
  {
   "cell_type": "code",
   "execution_count": 5,
   "metadata": {},
   "outputs": [],
   "source": [
    "import re\n",
    "\n",
    "import numpy as np\n",
    "import pandas as pd\n",
    "import matplotlib.pyplot as plt\n",
    "import seaborn as sns\n",
    "\n",
    "import torch\n",
    "import torch.nn.functional as F\n",
    "import torch.nn as nn\n",
    "from torch.utils.data import Dataset, DataLoader\n",
    "from torchinfo import summary\n",
    "\n",
    "cuda = torch.cuda.is_available()\n",
    "device = torch.device('cuda' if torch.cuda.is_available() else 'cpu')\n",
    "device\n",
    "\n",
    "text_file = \"./clase/spa-eng/spa.txt\"\n",
    "with open(text_file, encoding=\"utf8\") as f:\n",
    "    lines = f.read().split(\"\\n\")[:-1]\n",
    "\n",
    "# Por limitaciones de RAM no se leen todas las filas\n",
    "MAX_NUM_SENTENCES = 0\n",
    "\n",
    "# Mezclar el dataset, forzar semilla siempre igual\n",
    "np.random.seed([40])\n",
    "np.random.shuffle(lines)\n",
    "\n",
    "input_sentences = []\n",
    "output_sentences = []\n",
    "output_sentences_inputs = []\n",
    "count = 0\n",
    "\n",
    "if MAX_NUM_SENTENCES == 0:\n",
    "    MAX_NUM_SENTENCES = len(lines)\n",
    "for line in lines:\n",
    "    count += 1\n",
    "    if count > MAX_NUM_SENTENCES:\n",
    "        break\n",
    "\n",
    "    if '\\t' not in line:\n",
    "        continue\n",
    "\n",
    "    # Input sentence --> eng\n",
    "    # output --> spa\n",
    "    input_sentence, output = line.rstrip().split('\\t')\n",
    "\n",
    "    # output sentence (decoder_output) tiene <eos>\n",
    "    output_sentence = output + ' <eos>'\n",
    "    # output sentence input (decoder_input) tiene <sos>\n",
    "    output_sentence_input = '<sos> ' + output\n",
    "\n",
    "    input_sentences.append(input_sentence)\n",
    "    output_sentences.append(output_sentence)\n",
    "    output_sentences_inputs.append(output_sentence_input)\n"
   ]
  },
  {
   "cell_type": "code",
   "execution_count": 9,
   "metadata": {},
   "outputs": [
    {
     "name": "stdout",
     "output_type": "stream",
     "text": [
      "Palabras en el vocabulario: 13524\n",
      "Sentencia de entrada más larga: 47\n",
      "Palabras en el vocabulario: 26341\n",
      "Sentencia de salida más larga: 50\n",
      "Cantidad de rows disponibles: 118964\n",
      "Cantidad de rows utilizadas: 118964\n",
      "Cantidad de rows del dataset: 118964\n",
      "encoder_input_sequences shape: (118964, 47)\n",
      "decoder_input_sequences shape: (118964, 50)\n"
     ]
    }
   ],
   "source": [
    "from clase.torch_helpers import Tokenizer\n",
    "from clase.torch_helpers import pad_sequences\n",
    "\n",
    "MAX_VOCAB_SIZE = 30000\n",
    "input_tokenizer = Tokenizer(num_words=MAX_VOCAB_SIZE)\n",
    "input_tokenizer.fit_on_texts(input_sentences)\n",
    "input_integer_seq = input_tokenizer.texts_to_sequences(input_sentences)\n",
    "word2idx_inputs = input_tokenizer.word_index\n",
    "print(\"Palabras en el vocabulario:\", len(word2idx_inputs))\n",
    "max_input_len = max(len(sen) for sen in input_integer_seq)\n",
    "print(\"Sentencia de entrada más larga:\", max_input_len)\n",
    "output_tokenizer = Tokenizer(num_words=MAX_VOCAB_SIZE, filters='!\"#$%&()*+,-./:;=¿?@[\\\\]^_`{|}~\\t\\n')\n",
    "output_tokenizer.fit_on_texts([\"<sos>\", \"<eos>\"] + output_sentences)\n",
    "output_integer_seq = output_tokenizer.texts_to_sequences(output_sentences)\n",
    "output_input_integer_seq = output_tokenizer.texts_to_sequences(output_sentences_inputs)\n",
    "word2idx_outputs = output_tokenizer.word_index\n",
    "print(\"Palabras en el vocabulario:\", len(word2idx_outputs))\n",
    "num_words_output = min(len(word2idx_outputs) + 1, MAX_VOCAB_SIZE) \n",
    "max_out_len = max(len(sen) for sen in output_integer_seq)\n",
    "print(\"Sentencia de salida más larga:\", max_out_len)\n",
    "print(\"Cantidad de rows disponibles:\", len(lines))\n",
    "print(\"Cantidad de rows utilizadas:\", len(input_sentences))\n",
    "print(\"Cantidad de rows del dataset:\", len(input_integer_seq))\n",
    "encoder_input_sequences = pad_sequences(input_integer_seq, maxlen=max_input_len)\n",
    "print(\"encoder_input_sequences shape:\", encoder_input_sequences.shape)\n",
    "decoder_input_sequences = pad_sequences(output_input_integer_seq, maxlen=max_out_len, padding='post')\n",
    "print(\"decoder_input_sequences shape:\", decoder_input_sequences.shape)"
   ]
  },
  {
   "cell_type": "code",
   "execution_count": 11,
   "metadata": {},
   "outputs": [],
   "source": [
    "from gensim.models.fasttext import load_facebook_vectors\n",
    "model_embeddings = load_facebook_vectors(\"clase/cc.en.300.bin\")  \n",
    "from gensim.models.fasttext import load_facebook_vectors\n",
    "model_embeddings_es = load_facebook_vectors(\"clase/cc.es.300.bin\")"
   ]
  },
  {
   "cell_type": "code",
   "execution_count": 16,
   "metadata": {},
   "outputs": [
    {
     "name": "stdout",
     "output_type": "stream",
     "text": [
      "(13525, 300)\n",
      "(26342, 300)\n"
     ]
    }
   ],
   "source": [
    "vocab_size_in  = max(word2idx_inputs .values()) + 1   \n",
    "vocab_size_out = max(word2idx_outputs.values()) + 1   \n",
    "embed_dim = 300\n",
    "# Inglés\n",
    "embedding_matrix = np.zeros((vocab_size_in, embed_dim), dtype=np.float32)\n",
    "for w, idx in word2idx_inputs.items():\n",
    "    # idx incluye todos los valores hasta max_index\n",
    "    if w in model_embeddings:\n",
    "        embedding_matrix[idx] = model_embeddings[w]\n",
    "# Español\n",
    "embedding_matrix_es = np.zeros((vocab_size_out, embed_dim), dtype=np.float32)\n",
    "for w, idx in word2idx_outputs.items():\n",
    "    if w in model_embeddings_es:\n",
    "        embedding_matrix_es[idx] = model_embeddings_es[w]\n",
    "print(embedding_matrix.shape)\n",
    "print(embedding_matrix_es.shape)\n",
    "nb_words = embedding_matrix.shape[0]\n",
    "num_words_output = embedding_matrix_es.shape[0]"
   ]
  },
  {
   "cell_type": "code",
   "execution_count": 23,
   "metadata": {},
   "outputs": [
    {
     "name": "stdout",
     "output_type": "stream",
     "text": [
      "Cantidad de rows del dataset: 118964\n",
      "encoder_input_sequences shape: (118964, 20)\n",
      "decoder_input_sequences shape: (118964, 22)\n",
      "decoder_output_sequences shape: (118964, 22)\n"
     ]
    }
   ],
   "source": [
    "from clase.torch_helpers import pad_sequences\n",
    "print(\"Cantidad de rows del dataset:\", len(input_integer_seq))\n",
    "encoder_input_sequences = pad_sequences(input_integer_seq, maxlen=max_input_len)\n",
    "print(\"encoder_input_sequences shape:\", encoder_input_sequences.shape)\n",
    "decoder_input_sequences = pad_sequences(output_input_integer_seq, maxlen=max_out_len, padding='post')\n",
    "print(\"decoder_input_sequences shape:\", decoder_input_sequences.shape)\n",
    "decoder_output_sequences = pad_sequences(output_integer_seq, maxlen=max_out_len, padding='post')\n",
    "print(\"decoder_output_sequences shape:\", decoder_output_sequences.shape)"
   ]
  },
  {
   "cell_type": "code",
   "execution_count": 17,
   "metadata": {},
   "outputs": [],
   "source": [
    "import numpy as np\n",
    "import torch\n",
    "from torch.utils.data import Dataset, DataLoader, Subset\n",
    "import torch.nn.functional as F\n",
    "\n",
    "class Data(Dataset):\n",
    "    def __init__(self, enc_in, dec_in, dec_out, num_words_output):\n",
    "        self.encoder_inputs = torch.from_numpy(enc_in.astype(np.int32))\n",
    "        self.decoder_inputs = torch.from_numpy(dec_in.astype(np.int32))\n",
    "        # one-hot de salida\n",
    "        self.decoder_outputs = F.one_hot(\n",
    "            torch.from_numpy(dec_out).to(torch.int64),\n",
    "            num_classes=num_words_output\n",
    "        ).float()\n",
    "        self.len = self.encoder_inputs.shape[0]\n",
    "\n",
    "    def __getitem__(self, idx):\n",
    "        return (\n",
    "            self.encoder_inputs[idx],\n",
    "            self.decoder_inputs[idx],\n",
    "            self.decoder_outputs[idx]\n",
    "        )\n",
    "\n",
    "    def __len__(self):\n",
    "        return self.len\n",
    "\n",
    "\n",
    "def train_on_chunks(\n",
    "    model,\n",
    "    encoder_input_sequences,   # numpy array (N, T_enc)\n",
    "    decoder_input_sequences,   # numpy array (N, T_dec)\n",
    "    decoder_output_sequences,  # numpy array (N, T_dec) with indices\n",
    "    num_words_output,\n",
    "    optimizer,\n",
    "    criterion,\n",
    "    chunk_size=2000,\n",
    "    batch_size=128,\n",
    "    device='cuda',\n",
    "    **train_kwargs\n",
    "):\n",
    "    model = model.to(device)\n",
    "    N = encoder_input_sequences.shape[0]\n",
    "\n",
    "    # Creamos valid set una sola vez (p.ej. los últimos 20%)\n",
    "    valid_split = int(0.9 * N)\n",
    "    valid_enc = encoder_input_sequences[valid_split:]\n",
    "    valid_dec = decoder_input_sequences[valid_split:]\n",
    "    valid_out = decoder_output_sequences[valid_split:]\n",
    "    valid_ds = Data(valid_enc, valid_dec, valid_out, num_words_output)\n",
    "    valid_loader = DataLoader(valid_ds, batch_size=batch_size, shuffle=False, pin_memory=True)\n",
    "\n",
    "    histories = []\n",
    "    for start in range(0, valid_split, chunk_size):\n",
    "        end = min(start + chunk_size, valid_split)\n",
    "\n",
    "        # 1) Extraer numpy arrays del chunk\n",
    "        chunk_enc = encoder_input_sequences[start:end]\n",
    "        chunk_dec_in = decoder_input_sequences[start:end]\n",
    "        chunk_dec_out = decoder_output_sequences[start:end]\n",
    "\n",
    "        # 2) Instanciar Data y DataLoader\n",
    "        train_ds = Data(chunk_enc, chunk_dec_in, chunk_dec_out, num_words_output)\n",
    "        train_loader = DataLoader(train_ds, batch_size=batch_size, shuffle=True, pin_memory=True)\n",
    "\n",
    "        print(f\"\\n=== Entrenando chunk {start}:{end} size={len(train_ds)} ===\")\n",
    "        history, _ = train(\n",
    "            model,\n",
    "            train_loader=train_loader,\n",
    "            valid_loader=valid_loader,\n",
    "            optimizer=optimizer,\n",
    "            criterion=criterion,\n",
    "            device=device,\n",
    "            **train_kwargs\n",
    "        )\n",
    "        histories.append(history)\n",
    "\n",
    "    return model, histories\n",
    "\n",
    "encoder = Encoder(vocab_size=nb_words)\n",
    "decoder = Decoder(vocab_size=num_words_output, output_dim=num_words_output)\n",
    "Seq2Seq  = Seq2Seq(encoder, decoder)"
   ]
  },
  {
   "cell_type": "code",
   "execution_count": 24,
   "metadata": {},
   "outputs": [
    {
     "name": "stdout",
     "output_type": "stream",
     "text": [
      "\n",
      "=== Entrenando chunk 0:8000 size=8000 ===\n",
      "Epoch 1/100 — Train Loss: 6.6163, Acc: 0.0508 | Val Loss: 6.1816, Acc: 0.0523\n",
      "Epoch 2/100 — Train Loss: 5.8138, Acc: 0.0543 | Val Loss: 5.9654, Acc: 0.0580\n",
      "Epoch 3/100 — Train Loss: 5.4586, Acc: 0.0593 | Val Loss: 5.7394, Acc: 0.0598\n",
      "Epoch 4/100 — Train Loss: 5.1867, Acc: 0.0616 | Val Loss: 5.6812, Acc: 0.0616\n",
      "Epoch 5/100 — Train Loss: 4.9988, Acc: 0.0635 | Val Loss: 5.6151, Acc: 0.0644\n",
      "Epoch 6/100 — Train Loss: 4.8554, Acc: 0.0653 | Val Loss: 5.6049, Acc: 0.0656\n",
      "Epoch 7/100 — Train Loss: 4.7193, Acc: 0.0674 | Val Loss: 5.6060, Acc: 0.0659\n",
      "Epoch 8/100 — Train Loss: 4.5980, Acc: 0.0688 | Val Loss: 5.5876, Acc: 0.0672\n",
      "Epoch 9/100 — Train Loss: 4.4804, Acc: 0.0703 | Val Loss: 5.5390, Acc: 0.0685\n",
      "Epoch 10/100 — Train Loss: 4.3591, Acc: 0.0719 | Val Loss: 5.5492, Acc: 0.0700\n",
      "Epoch 11/100 — Train Loss: 4.2468, Acc: 0.0734 | Val Loss: 5.5397, Acc: 0.0712\n",
      "Epoch 12/100 — Train Loss: 4.1295, Acc: 0.0752 | Val Loss: 5.5571, Acc: 0.0713\n",
      "Epoch 13/100 — Train Loss: 4.0159, Acc: 0.0772 | Val Loss: 5.6131, Acc: 0.0727\n",
      "Epoch 14/100 — Train Loss: 3.9084, Acc: 0.0792 | Val Loss: 5.6211, Acc: 0.0732\n",
      "Epoch 15/100 — Train Loss: 3.8038, Acc: 0.0818 | Val Loss: 5.6366, Acc: 0.0741\n",
      "Epoch 16/100 — Train Loss: 3.7084, Acc: 0.0841 | Val Loss: 5.6843, Acc: 0.0744\n",
      "Epoch 17/100 — Train Loss: 3.6050, Acc: 0.0872 | Val Loss: 5.7197, Acc: 0.0745\n",
      "\n",
      "Early stopping at epoch 17\n",
      "\n",
      "=== Entrenando chunk 8000:16000 size=8000 ===\n",
      "Epoch 1/100 — Train Loss: 5.2550, Acc: 0.0720 | Val Loss: 5.0398, Acc: 0.0740\n",
      "Epoch 2/100 — Train Loss: 4.5420, Acc: 0.0767 | Val Loss: 5.0226, Acc: 0.0773\n",
      "Epoch 3/100 — Train Loss: 4.1922, Acc: 0.0798 | Val Loss: 5.0635, Acc: 0.0782\n",
      "Epoch 4/100 — Train Loss: 3.9326, Acc: 0.0833 | Val Loss: 5.1230, Acc: 0.0790\n",
      "Epoch 5/100 — Train Loss: 3.7240, Acc: 0.0874 | Val Loss: 5.2071, Acc: 0.0788\n",
      "Epoch 6/100 — Train Loss: 3.5497, Acc: 0.0924 | Val Loss: 5.2707, Acc: 0.0781\n",
      "Epoch 7/100 — Train Loss: 3.3947, Acc: 0.0975 | Val Loss: 5.3576, Acc: 0.0793\n",
      "Epoch 8/100 — Train Loss: 3.2556, Acc: 0.1013 | Val Loss: 5.4139, Acc: 0.0786\n",
      "Epoch 9/100 — Train Loss: 3.1337, Acc: 0.1074 | Val Loss: 5.5079, Acc: 0.0794\n",
      "Epoch 10/100 — Train Loss: 3.0318, Acc: 0.1118 | Val Loss: 5.5665, Acc: 0.0777\n",
      "\n",
      "Early stopping at epoch 10\n",
      "\n",
      "=== Entrenando chunk 16000:24000 size=8000 ===\n",
      "Epoch 1/100 — Train Loss: 5.1024, Acc: 0.0766 | Val Loss: 4.8588, Acc: 0.0810\n",
      "Epoch 2/100 — Train Loss: 4.4087, Acc: 0.0826 | Val Loss: 4.8494, Acc: 0.0822\n",
      "Epoch 3/100 — Train Loss: 4.0165, Acc: 0.0858 | Val Loss: 4.9086, Acc: 0.0831\n",
      "Epoch 4/100 — Train Loss: 3.7053, Acc: 0.0911 | Val Loss: 5.0224, Acc: 0.0825\n",
      "Epoch 5/100 — Train Loss: 3.4533, Acc: 0.0980 | Val Loss: 5.1217, Acc: 0.0816\n",
      "Epoch 6/100 — Train Loss: 3.2540, Acc: 0.1050 | Val Loss: 5.2203, Acc: 0.0818\n",
      "Epoch 7/100 — Train Loss: 3.0890, Acc: 0.1116 | Val Loss: 5.3097, Acc: 0.0815\n",
      "Epoch 8/100 — Train Loss: 2.9495, Acc: 0.1175 | Val Loss: 5.3979, Acc: 0.0813\n",
      "Epoch 9/100 — Train Loss: 2.8215, Acc: 0.1240 | Val Loss: 5.5103, Acc: 0.0809\n",
      "Epoch 10/100 — Train Loss: 2.7282, Acc: 0.1291 | Val Loss: 5.5786, Acc: 0.0816\n",
      "\n",
      "Early stopping at epoch 10\n",
      "\n",
      "=== Entrenando chunk 24000:32000 size=8000 ===\n",
      "Epoch 1/100 — Train Loss: 4.9911, Acc: 0.0809 | Val Loss: 4.7660, Acc: 0.0832\n",
      "Epoch 2/100 — Train Loss: 4.3355, Acc: 0.0874 | Val Loss: 4.7357, Acc: 0.0854\n",
      "Epoch 3/100 — Train Loss: 3.9513, Acc: 0.0906 | Val Loss: 4.8319, Acc: 0.0852\n",
      "Epoch 4/100 — Train Loss: 3.6141, Acc: 0.0964 | Val Loss: 4.9115, Acc: 0.0854\n",
      "Epoch 5/100 — Train Loss: 3.3451, Acc: 0.1037 | Val Loss: 5.0156, Acc: 0.0850\n",
      "Epoch 6/100 — Train Loss: 3.1251, Acc: 0.1114 | Val Loss: 5.1333, Acc: 0.0849\n",
      "Epoch 7/100 — Train Loss: 2.9498, Acc: 0.1193 | Val Loss: 5.2241, Acc: 0.0844\n",
      "Epoch 8/100 — Train Loss: 2.8064, Acc: 0.1261 | Val Loss: 5.3202, Acc: 0.0841\n",
      "Epoch 9/100 — Train Loss: 2.6811, Acc: 0.1323 | Val Loss: 5.3961, Acc: 0.0837\n",
      "Epoch 10/100 — Train Loss: 2.5768, Acc: 0.1386 | Val Loss: 5.4947, Acc: 0.0825\n",
      "\n",
      "Early stopping at epoch 10\n",
      "\n",
      "=== Entrenando chunk 32000:40000 size=8000 ===\n",
      "Epoch 1/100 — Train Loss: 4.9288, Acc: 0.0826 | Val Loss: 4.6753, Acc: 0.0858\n",
      "Epoch 2/100 — Train Loss: 4.3010, Acc: 0.0893 | Val Loss: 4.6467, Acc: 0.0879\n",
      "Epoch 3/100 — Train Loss: 3.9216, Acc: 0.0931 | Val Loss: 4.7047, Acc: 0.0875\n",
      "Epoch 4/100 — Train Loss: 3.5805, Acc: 0.0993 | Val Loss: 4.7965, Acc: 0.0884\n",
      "Epoch 5/100 — Train Loss: 3.3094, Acc: 0.1059 | Val Loss: 4.9201, Acc: 0.0878\n",
      "Epoch 6/100 — Train Loss: 3.0859, Acc: 0.1140 | Val Loss: 5.0224, Acc: 0.0870\n",
      "Epoch 7/100 — Train Loss: 2.9096, Acc: 0.1211 | Val Loss: 5.1309, Acc: 0.0872\n",
      "Epoch 8/100 — Train Loss: 2.7527, Acc: 0.1298 | Val Loss: 5.2333, Acc: 0.0869\n",
      "Epoch 9/100 — Train Loss: 2.6164, Acc: 0.1362 | Val Loss: 5.3267, Acc: 0.0869\n",
      "Epoch 10/100 — Train Loss: 2.5012, Acc: 0.1430 | Val Loss: 5.4090, Acc: 0.0854\n",
      "\n",
      "Early stopping at epoch 10\n",
      "\n",
      "=== Entrenando chunk 40000:48000 size=8000 ===\n",
      "Epoch 1/100 — Train Loss: 4.8706, Acc: 0.0835 | Val Loss: 4.5984, Acc: 0.0881\n",
      "Epoch 2/100 — Train Loss: 4.2457, Acc: 0.0916 | Val Loss: 4.5775, Acc: 0.0885\n",
      "Epoch 3/100 — Train Loss: 3.8900, Acc: 0.0955 | Val Loss: 4.6059, Acc: 0.0903\n",
      "Epoch 4/100 — Train Loss: 3.5781, Acc: 0.1008 | Val Loss: 4.7321, Acc: 0.0901\n",
      "Epoch 5/100 — Train Loss: 3.3032, Acc: 0.1069 | Val Loss: 4.8144, Acc: 0.0906\n",
      "Epoch 6/100 — Train Loss: 3.0759, Acc: 0.1156 | Val Loss: 4.9337, Acc: 0.0896\n",
      "Epoch 7/100 — Train Loss: 2.8753, Acc: 0.1239 | Val Loss: 5.0263, Acc: 0.0892\n",
      "Epoch 8/100 — Train Loss: 2.7129, Acc: 0.1321 | Val Loss: 5.1242, Acc: 0.0887\n",
      "Epoch 9/100 — Train Loss: 2.5779, Acc: 0.1389 | Val Loss: 5.2201, Acc: 0.0884\n",
      "Epoch 10/100 — Train Loss: 2.4681, Acc: 0.1450 | Val Loss: 5.3124, Acc: 0.0878\n",
      "\n",
      "Early stopping at epoch 10\n",
      "\n",
      "=== Entrenando chunk 48000:56000 size=8000 ===\n",
      "Epoch 1/100 — Train Loss: 4.7954, Acc: 0.0858 | Val Loss: 4.5372, Acc: 0.0905\n",
      "Epoch 2/100 — Train Loss: 4.1912, Acc: 0.0934 | Val Loss: 4.5122, Acc: 0.0922\n",
      "Epoch 3/100 — Train Loss: 3.8401, Acc: 0.0988 | Val Loss: 4.5440, Acc: 0.0921\n",
      "Epoch 4/100 — Train Loss: 3.5458, Acc: 0.1028 | Val Loss: 4.6507, Acc: 0.0917\n",
      "Epoch 5/100 — Train Loss: 3.2654, Acc: 0.1093 | Val Loss: 4.7487, Acc: 0.0919\n",
      "Epoch 6/100 — Train Loss: 3.0337, Acc: 0.1182 | Val Loss: 4.8511, Acc: 0.0909\n",
      "Epoch 7/100 — Train Loss: 2.8323, Acc: 0.1267 | Val Loss: 4.9613, Acc: 0.0912\n",
      "Epoch 8/100 — Train Loss: 2.6759, Acc: 0.1342 | Val Loss: 5.0761, Acc: 0.0901\n",
      "Epoch 9/100 — Train Loss: 2.5285, Acc: 0.1417 | Val Loss: 5.2093, Acc: 0.0900\n",
      "Epoch 10/100 — Train Loss: 2.4237, Acc: 0.1475 | Val Loss: 5.2969, Acc: 0.0902\n",
      "\n",
      "Early stopping at epoch 10\n",
      "\n",
      "=== Entrenando chunk 56000:64000 size=8000 ===\n",
      "Epoch 1/100 — Train Loss: 4.7481, Acc: 0.0864 | Val Loss: 4.4850, Acc: 0.0922\n",
      "Epoch 2/100 — Train Loss: 4.1469, Acc: 0.0952 | Val Loss: 4.4440, Acc: 0.0938\n",
      "Epoch 3/100 — Train Loss: 3.8147, Acc: 0.0999 | Val Loss: 4.4911, Acc: 0.0945\n",
      "Epoch 4/100 — Train Loss: 3.5352, Acc: 0.1047 | Val Loss: 4.5612, Acc: 0.0945\n",
      "Epoch 5/100 — Train Loss: 3.2695, Acc: 0.1115 | Val Loss: 4.6506, Acc: 0.0940\n",
      "Epoch 6/100 — Train Loss: 3.0410, Acc: 0.1188 | Val Loss: 4.7709, Acc: 0.0922\n",
      "Epoch 7/100 — Train Loss: 2.8443, Acc: 0.1273 | Val Loss: 4.9082, Acc: 0.0930\n",
      "Epoch 8/100 — Train Loss: 2.6757, Acc: 0.1352 | Val Loss: 5.0089, Acc: 0.0922\n",
      "Epoch 9/100 — Train Loss: 2.5257, Acc: 0.1435 | Val Loss: 5.0933, Acc: 0.0918\n",
      "Epoch 10/100 — Train Loss: 2.4058, Acc: 0.1504 | Val Loss: 5.2329, Acc: 0.0916\n",
      "\n",
      "Early stopping at epoch 10\n",
      "\n",
      "=== Entrenando chunk 64000:72000 size=8000 ===\n",
      "Epoch 1/100 — Train Loss: 4.6608, Acc: 0.0887 | Val Loss: 4.4391, Acc: 0.0937\n",
      "Epoch 2/100 — Train Loss: 4.0795, Acc: 0.0971 | Val Loss: 4.4020, Acc: 0.0952\n",
      "Epoch 3/100 — Train Loss: 3.7475, Acc: 0.1033 | Val Loss: 4.4506, Acc: 0.0956\n",
      "Epoch 4/100 — Train Loss: 3.4755, Acc: 0.1078 | Val Loss: 4.5172, Acc: 0.0950\n",
      "Epoch 5/100 — Train Loss: 3.2168, Acc: 0.1145 | Val Loss: 4.6391, Acc: 0.0946\n",
      "Epoch 6/100 — Train Loss: 2.9836, Acc: 0.1222 | Val Loss: 4.7481, Acc: 0.0935\n",
      "Epoch 7/100 — Train Loss: 2.7840, Acc: 0.1304 | Val Loss: 4.8435, Acc: 0.0934\n",
      "Epoch 8/100 — Train Loss: 2.6194, Acc: 0.1395 | Val Loss: 4.9497, Acc: 0.0931\n",
      "Epoch 9/100 — Train Loss: 2.4805, Acc: 0.1458 | Val Loss: 5.0371, Acc: 0.0913\n",
      "Epoch 10/100 — Train Loss: 2.3662, Acc: 0.1528 | Val Loss: 5.1460, Acc: 0.0919\n",
      "\n",
      "Early stopping at epoch 10\n",
      "\n",
      "=== Entrenando chunk 72000:80000 size=8000 ===\n",
      "Epoch 1/100 — Train Loss: 4.6519, Acc: 0.0889 | Val Loss: 4.3905, Acc: 0.0950\n",
      "Epoch 2/100 — Train Loss: 4.0617, Acc: 0.0979 | Val Loss: 4.3582, Acc: 0.0970\n",
      "Epoch 3/100 — Train Loss: 3.7397, Acc: 0.1029 | Val Loss: 4.3863, Acc: 0.0967\n",
      "Epoch 4/100 — Train Loss: 3.4617, Acc: 0.1079 | Val Loss: 4.4578, Acc: 0.0967\n",
      "Epoch 5/100 — Train Loss: 3.1924, Acc: 0.1145 | Val Loss: 4.5967, Acc: 0.0965\n",
      "Epoch 6/100 — Train Loss: 2.9587, Acc: 0.1224 | Val Loss: 4.6908, Acc: 0.0943\n",
      "Epoch 7/100 — Train Loss: 2.7565, Acc: 0.1307 | Val Loss: 4.8051, Acc: 0.0953\n",
      "Epoch 8/100 — Train Loss: 2.5920, Acc: 0.1392 | Val Loss: 4.9312, Acc: 0.0945\n",
      "Epoch 9/100 — Train Loss: 2.4486, Acc: 0.1470 | Val Loss: 5.0279, Acc: 0.0936\n",
      "Epoch 10/100 — Train Loss: 2.3281, Acc: 0.1544 | Val Loss: 5.1175, Acc: 0.0928\n",
      "\n",
      "Early stopping at epoch 10\n",
      "\n",
      "=== Entrenando chunk 80000:88000 size=8000 ===\n",
      "Epoch 1/100 — Train Loss: 4.6301, Acc: 0.0897 | Val Loss: 4.3550, Acc: 0.0957\n",
      "Epoch 2/100 — Train Loss: 4.0547, Acc: 0.0984 | Val Loss: 4.3191, Acc: 0.0974\n",
      "Epoch 3/100 — Train Loss: 3.7261, Acc: 0.1044 | Val Loss: 4.3648, Acc: 0.0984\n",
      "Epoch 4/100 — Train Loss: 3.4481, Acc: 0.1091 | Val Loss: 4.4507, Acc: 0.0974\n",
      "Epoch 5/100 — Train Loss: 3.1962, Acc: 0.1159 | Val Loss: 4.5494, Acc: 0.0975\n",
      "Epoch 6/100 — Train Loss: 2.9494, Acc: 0.1243 | Val Loss: 4.6654, Acc: 0.0966\n",
      "Epoch 7/100 — Train Loss: 2.7521, Acc: 0.1326 | Val Loss: 4.7650, Acc: 0.0953\n",
      "Epoch 8/100 — Train Loss: 2.5843, Acc: 0.1398 | Val Loss: 4.9002, Acc: 0.0950\n",
      "Epoch 9/100 — Train Loss: 2.4895, Acc: 0.1464 | Val Loss: 4.9738, Acc: 0.0943\n",
      "Epoch 10/100 — Train Loss: 2.3178, Acc: 0.1554 | Val Loss: 5.1002, Acc: 0.0940\n",
      "\n",
      "Early stopping at epoch 10\n",
      "\n",
      "=== Entrenando chunk 88000:96000 size=8000 ===\n",
      "Epoch 1/100 — Train Loss: 4.6141, Acc: 0.0905 | Val Loss: 4.3104, Acc: 0.0967\n",
      "Epoch 2/100 — Train Loss: 4.0307, Acc: 0.0993 | Val Loss: 4.2917, Acc: 0.0983\n",
      "Epoch 3/100 — Train Loss: 3.7117, Acc: 0.1051 | Val Loss: 4.3288, Acc: 0.0994\n",
      "Epoch 4/100 — Train Loss: 3.4278, Acc: 0.1107 | Val Loss: 4.3957, Acc: 0.0990\n",
      "Epoch 5/100 — Train Loss: 3.1778, Acc: 0.1174 | Val Loss: 4.4856, Acc: 0.0975\n",
      "Epoch 6/100 — Train Loss: 2.9474, Acc: 0.1245 | Val Loss: 4.6125, Acc: 0.0959\n",
      "Epoch 7/100 — Train Loss: 2.7495, Acc: 0.1330 | Val Loss: 4.7070, Acc: 0.0964\n",
      "Epoch 8/100 — Train Loss: 2.5727, Acc: 0.1414 | Val Loss: 4.9010, Acc: 0.0953\n",
      "Epoch 9/100 — Train Loss: 2.4291, Acc: 0.1497 | Val Loss: 4.9697, Acc: 0.0943\n",
      "Epoch 10/100 — Train Loss: 2.3203, Acc: 0.1557 | Val Loss: 5.0361, Acc: 0.0940\n",
      "\n",
      "Early stopping at epoch 10\n",
      "\n",
      "=== Entrenando chunk 96000:104000 size=8000 ===\n",
      "Epoch 1/100 — Train Loss: 4.5338, Acc: 0.0922 | Val Loss: 4.2795, Acc: 0.0977\n",
      "Epoch 2/100 — Train Loss: 3.9505, Acc: 0.1011 | Val Loss: 4.2499, Acc: 0.0992\n",
      "Epoch 3/100 — Train Loss: 3.6451, Acc: 0.1070 | Val Loss: 4.3053, Acc: 0.0999\n",
      "Epoch 4/100 — Train Loss: 3.3653, Acc: 0.1133 | Val Loss: 4.3561, Acc: 0.0994\n",
      "Epoch 5/100 — Train Loss: 3.1115, Acc: 0.1202 | Val Loss: 4.4672, Acc: 0.0982\n",
      "Epoch 6/100 — Train Loss: 2.8840, Acc: 0.1280 | Val Loss: 4.5901, Acc: 0.0977\n",
      "Epoch 7/100 — Train Loss: 2.6874, Acc: 0.1363 | Val Loss: 4.7071, Acc: 0.0976\n",
      "Epoch 8/100 — Train Loss: 2.5232, Acc: 0.1436 | Val Loss: 4.8105, Acc: 0.0966\n",
      "Epoch 9/100 — Train Loss: 2.3857, Acc: 0.1516 | Val Loss: 4.9357, Acc: 0.0952\n",
      "Epoch 10/100 — Train Loss: 2.2539, Acc: 0.1594 | Val Loss: 5.0533, Acc: 0.0949\n",
      "\n",
      "Early stopping at epoch 10\n",
      "\n",
      "=== Entrenando chunk 104000:107067 size=3067 ===\n",
      "Epoch 1/100 — Train Loss: 4.7601, Acc: 0.0899 | Val Loss: 4.3703, Acc: 0.0954\n",
      "Epoch 2/100 — Train Loss: 4.0278, Acc: 0.1007 | Val Loss: 4.3374, Acc: 0.0961\n",
      "Epoch 3/100 — Train Loss: 3.6185, Acc: 0.1102 | Val Loss: 4.3838, Acc: 0.0981\n",
      "Epoch 4/100 — Train Loss: 3.2873, Acc: 0.1177 | Val Loss: 4.4886, Acc: 0.0982\n",
      "Epoch 5/100 — Train Loss: 2.9712, Acc: 0.1290 | Val Loss: 4.6270, Acc: 0.0960\n",
      "Epoch 6/100 — Train Loss: 2.6987, Acc: 0.1403 | Val Loss: 4.7731, Acc: 0.0964\n",
      "Epoch 7/100 — Train Loss: 2.4608, Acc: 0.1499 | Val Loss: 4.9067, Acc: 0.0956\n",
      "Epoch 8/100 — Train Loss: 2.2441, Acc: 0.1639 | Val Loss: 5.0486, Acc: 0.0941\n",
      "Epoch 9/100 — Train Loss: 2.0700, Acc: 0.1743 | Val Loss: 5.1795, Acc: 0.0937\n",
      "Epoch 10/100 — Train Loss: 1.9410, Acc: 0.1821 | Val Loss: 5.3356, Acc: 0.0939\n",
      "\n",
      "Early stopping at epoch 10\n"
     ]
    }
   ],
   "source": [
    "optimizer = torch.optim.Adam(Seq2Seq.parameters(), lr=0.01)\n",
    "criterion = torch.nn.CrossEntropyLoss(ignore_index=0)\n",
    "model, histories = train_on_chunks(\n",
    "    Seq2Seq,\n",
    "    encoder_input_sequences,\n",
    "    decoder_input_sequences,\n",
    "    decoder_output_sequences,\n",
    "    num_words_output,\n",
    "    optimizer=optimizer,\n",
    "    criterion=criterion,\n",
    "    chunk_size=8000,\n",
    "    batch_size=128,\n",
    "    device=device,\n",
    "    epochs=100,       \n",
    "    patience=8,\n",
    "    min_delta=1e-4\n",
    ")"
   ]
  },
  {
   "cell_type": "code",
   "execution_count": 25,
   "metadata": {},
   "outputs": [
    {
     "data": {
      "image/png": "[encoded data removed]",
      "text/plain": [
       "<Figure size 640x480 with 1 Axes>"
      ]
     },
     "metadata": {},
     "output_type": "display_data"
    }
   ],
   "source": [
    "plt.figure()\n",
    "epoch_offset = 0\n",
    "for i, h in enumerate(histories):\n",
    "    num_epochs = len(h['accuracy'])\n",
    "    # X continuo para este chunk\n",
    "    epochs = range(epoch_offset + 1, epoch_offset + num_epochs + 1)\n",
    "    plt.plot(epochs, h['accuracy'], label=f'Chunk {i+1} Train Acc')\n",
    "    plt.plot(epochs, h['val_accuracy'], linestyle='--', label=f'Chunk {i+1} Val Acc')\n",
    "    epoch_offset += num_epochs\n",
    "\n",
    "plt.xlabel('Epoch (continuo)')\n",
    "plt.ylabel('Accuracy')\n",
    "plt.title('Continuidad de Accuracy a través de todos los Chunks')\n",
    "plt.legend()\n",
    "plt.show()"
   ]
  },
  {
   "cell_type": "code",
   "execution_count": 26,
   "metadata": {},
   "outputs": [],
   "source": [
    "# Armar lo conversores de indice a palabra:\n",
    "idx2word_input = {v:k for k, v in word2idx_inputs.items()}\n",
    "idx2word_target = {v:k for k, v in word2idx_outputs.items()}"
   ]
  },
  {
   "cell_type": "code",
   "execution_count": 31,
   "metadata": {},
   "outputs": [
    {
     "name": "stdout",
     "output_type": "stream",
     "text": [
      "Input:    Tom is sleeping, isn't he?\n",
      "Output:   tom no es la persona sabia\n"
     ]
    }
   ],
   "source": [
    "i = np.random.choice(len(input_sentences))\n",
    "input_test = input_sentences[i:i+1][0]\n",
    "translation = translate_sentence(\n",
    "    input_text=input_test,\n",
    "    model=model,\n",
    "    input_tokenizer=input_tokenizer,\n",
    "    word2idx_outputs=word2idx_outputs,\n",
    "    idx2word_target=idx2word_target,\n",
    "    max_input_len=max_input_len,\n",
    "    max_output_len=max_out_len,  \n",
    "    device=device\n",
    ")\n",
    "\n",
    "print(\"Input:   \", input_test)\n",
    "print(\"Output:  \", translation)"
   ]
  },
  {
   "cell_type": "markdown",
   "metadata": {},
   "source": [
    "# Notas"
   ]
  },
  {
   "cell_type": "markdown",
   "metadata": {},
   "source": [
    "- Se probó con redes más chicas de una capa, dos y tres. \n",
    "- Ampliando el estado oculto, con y sin dropout. \n",
    "- Sin filtrar le token de padding en el crossEntropy, el modelo daba mucho mejor accuracy, pero traducia muy mal. \n",
    "- Filtrando el padding, el accuracy da extremadamente bajo y sigue traduciendo igual de mal."
   ]
  }
 ],
 "metadata": {
  "accelerator": "GPU",
  "colab": {
   "authorship_tag": "ABX9TyMniDMuqoKT0lLVAJWxpRSt",
   "collapsed_sections": [],
   "name": "6c - traductor.ipynb",
   "provenance": []
  },
  "kernelspec": {
   "display_name": "venv",
   "language": "python",
   "name": "python3"
  },
  "language_info": {
   "codemirror_mode": {
    "name": "ipython",
    "version": 3
   },
   "file_extension": ".py",
   "mimetype": "text/x-python",
   "name": "python",
   "nbconvert_exporter": "python",
   "pygments_lexer": "ipython3",
   "version": "3.12.10"
  }
 },
 "nbformat": 4,
 "nbformat_minor": 0
}
