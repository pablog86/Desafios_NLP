{
 "cells": [
  {
   "cell_type": "markdown",
   "id": "8286f7be",
   "metadata": {},
   "source": [
    "# Consigna del desafío 1"
   ]
  },
  {
   "cell_type": "markdown",
   "id": "f8af5936",
   "metadata": {},
   "source": [
    "**1**. Vectorizar documentos. Tomar 5 documentos al azar y medir similaridad con el resto de los documentos.\n",
    "Estudiar los 5 documentos más similares de cada uno analizar si tiene sentido\n",
    "la similaridad según el contenido del texto y la etiqueta de clasificación.\n",
    "\n",
    "**2**. Entrenar modelos de clasificación Naïve Bayes para maximizar el desempeño de clasificación\n",
    "(f1-score macro) en el conjunto de datos de test. Considerar cambiar parámteros\n",
    "de instanciación del vectorizador y los modelos y probar modelos de Naïve Bayes Multinomial\n",
    "y ComplementNB.\n",
    "\n",
    "**3**. Transponer la matriz documento-término. De esa manera se obtiene una matriz\n",
    "término-documento que puede ser interpretada como una colección de vectorización de palabras.\n",
    "Estudiar ahora similaridad entre palabras tomando 5 palabras y estudiando sus 5 más similares. **La elección de palabras no debe ser al azar para evitar la aparición de términos poco interpretables, elegirlas \"manualmente\"**."
   ]
  },
  {
   "cell_type": "markdown",
   "id": "1527c502",
   "metadata": {},
   "source": [
    "## Imports y preparación dataset"
   ]
  },
  {
   "cell_type": "code",
   "execution_count": 6,
   "id": "08b0d2a9",
   "metadata": {},
   "outputs": [],
   "source": [
    "from sklearn.feature_extraction.text import CountVectorizer, TfidfVectorizer\n",
    "from sklearn.metrics.pairwise import cosine_similarity\n",
    "from sklearn.naive_bayes import MultinomialNB, ComplementNB\n",
    "from sklearn.metrics import f1_score\n",
    "from sklearn.datasets import fetch_20newsgroups\n",
    "import numpy as np\n",
    "import random"
   ]
  },
  {
   "cell_type": "code",
   "execution_count": 2,
   "id": "298b4857",
   "metadata": {},
   "outputs": [
    {
     "data": {
      "text/plain": [
       "['alt.atheism',\n",
       " 'comp.graphics',\n",
       " 'comp.os.ms-windows.misc',\n",
       " 'comp.sys.ibm.pc.hardware',\n",
       " 'comp.sys.mac.hardware',\n",
       " 'comp.windows.x',\n",
       " 'misc.forsale',\n",
       " 'rec.autos',\n",
       " 'rec.motorcycles',\n",
       " 'rec.sport.baseball',\n",
       " 'rec.sport.hockey',\n",
       " 'sci.crypt',\n",
       " 'sci.electronics',\n",
       " 'sci.med',\n",
       " 'sci.space',\n",
       " 'soc.religion.christian',\n",
       " 'talk.politics.guns',\n",
       " 'talk.politics.mideast',\n",
       " 'talk.politics.misc',\n",
       " 'talk.religion.misc']"
      ]
     },
     "metadata": {},
     "output_type": "display_data"
    }
   ],
   "source": [
    "newsgroups_train = fetch_20newsgroups(subset='train', remove=('headers', 'footers', 'quotes'))\n",
    "newsgroups_test = fetch_20newsgroups(subset='test', remove=('headers', 'footers', 'quotes'))\n",
    "display(newsgroups_test.target_names)\n",
    "\n",
    "tfidfvect = TfidfVectorizer()\n",
    "X_train = tfidfvect.fit_transform(newsgroups_train.data)\n",
    "idx2word = {v: k for k,v in tfidfvect.vocabulary_.items()}\n",
    "y_train = newsgroups_train.target"
   ]
  },
  {
   "cell_type": "markdown",
   "id": "e53eee11",
   "metadata": {},
   "source": [
    "### Ejemplo similitud de documentos "
   ]
  },
  {
   "cell_type": "code",
   "execution_count": null,
   "id": "ec1cc105",
   "metadata": {},
   "outputs": [
    {
     "data": {
      "text/plain": [
       "\"THE WHITE HOUSE\\n\\n                  Office of the Press Secretary\\n                   (Pittsburgh, Pennslyvania)\\n______________________________________________________________\\nFor Immediate Release                         April 17, 1993     \\n\\n             \\n                  RADIO ADDRESS TO THE NATION \\n                        BY THE PRESIDENT\\n             \\n                Pittsburgh International Airport\\n                    Pittsburgh, Pennsylvania\\n             \\n             \\n10:06 A.M. EDT\\n             \\n             \\n             THE PRESIDENT:  Good morning.  My voice is coming to\\nyou this morning through the facilities of the oldest radio\\nstation in America, KDKA in Pittsburgh.  I'm visiting the city to\\nmeet personally with citizens here to discuss my plans for jobs,\\nhealth care and the economy.  But I wanted first to do my weekly\\nbroadcast with the American people. \\n             \\n             I'm told this station first broadcast in 1920 when\\nit reported that year's presidential elections.  Over the past\\nseven decades presidents have found ways to keep in touch with\\nthe people, from whistle-stop tours to fire-side chats to the bus\\ntour that I adopted, along with Vice President Gore, in last\\nyear's campaign.\\n             \\n             Every Saturday morning I take this time to talk with\\nyou, my fellow Americans, about the problems on your minds and\\nwhat I'm doing to try and solve them.  It's my way of reporting\\nto you and of giving you a way to hold me accountable.\\n             \\n             You sent me to Washington to get our government and\\neconomy moving after years of paralysis and policy and a bad\\nexperiment with trickle-down economics.  You know how important\\nit is for us to make bold, comprehensive changes in the way we do\\nbusiness.  \\n             \\n             We live in a competitive global economy.  Nations\\nrise and fall on the skills of their workers, the competitiveness\\nof their companies, the imagination of their industries, and the\\ncooperative experience and spirit that exists between business,\\nlabor and government.  Although many of the economies of the\\nindustrialized world are now suffering from slow growth, they've\\nmade many of the smart investments and the tough choices which\\nour government has for too long ignored.  That's why many of them\\nhave been moving ahead and too many of our people have been\\nfalling behind.\\n             \\n             We have an economy today that even when it grows is\\nnot producing new jobs.  We've increased the debt of our nation\\nby four times over the last 12 years, and we don't have much to\\nshow for it.  We know that wages of most working people have\\nstopped rising, that most people are working longer work weeks\\nand that too many families can no longer afford the escalating\\ncost of health care.\\n             \\n             But we also know that, given the right tools, the\\nright incentives and the right encouragement, our workers and\\nbusinesses can make the kinds of products and profits our economy\\nneeds to expand opportunity and to make our communities better\\nplaces to live.\\n             \\n             In many critical products today Americans are the\\nlow cost, high quality producers.  Our task is to make sure that\\nwe create more of those kinds of jobs.\\n             \\n             Just two months ago I gave Congress my plan for\\nlong-term jobs and economic growth.  It changes the old\\npriorities in Washington and puts our emphasis where it needs to\\nbe -- on people's real needs, on increasing investments and jobs\\nand education, on cutting the federal deficit, on stopping the\\nwaste which pays no dividends, and redirecting our precious\\nresources toward investment that creates jobs now and lays the\\ngroundwork for robust economic growth in the future.\\n             \\n             These new directions passed the Congress in record\\ntime and created a new sense of hope and opportunity in our\\ncountry.  Then the jobs plan I presented to Congress, which would\\ncreate hundreds of thousands of jobs, most of them in the private\\nsector in 1993 and 1994, passed the House of Representatives.  It\\nnow has the support of a majority of the United States Senate. \\nBut it's been held up by a filibuster of a minority in the\\nSenate, just 43 senators.  They blocked a vote that they know\\nwould result in the passage of our bill and the creation of jobs.\\n             \\n             The issue isn't politics; the issue is people. \\nMillions of Americans are waiting for this legislation and\\ncounting on it, counting on us in Washington.  But the jobs bill\\nhas been grounded by gridlock.  \\n             \\n             I know the American people are tired of business as\\nusual and politics as usual.  I know they don't want us to spin\\nor wheels.  They want the recovery to get moving.  So I have\\ntaken a first step to break this gridlock and gone the extra\\nmile.  Yesterday I offered to cut the size of this plan by 25\\npercent -- from $16 billion to $12 billion.  \\n             \\n             It's not what I'd hoped for.  With 16 million\\nAmericans looking for full-time work, I simply can't let the bill\\nlanguish when I know that even a compromise bill will mean\\nhundreds of thousands of jobs for our people.  The mandate is to\\nact to achieve change and move the country forward.  By taking\\nthis initiative in the face of an unrelenting Senate talkathon, I\\nthink we can respond to your mandate and achieve a significant\\nportion of our original goals.\\n             \\n             First, we want to keep the programs as much as\\npossible that are needed to generate jobs and meet human needs,\\nincluding highway and road construction, summer jobs for young\\npeople, immunization for children, construction of waste water\\nsites, and aid to small businesses.  We also want to keep funding\\nfor extended unemployment compensation benefits, for people who\\nhave been unemployed for a long time because the economy isn't\\ncreating jobs.\\n             \\n             Second, I've recommended that all the other programs\\nin the bill be cut across-the-board by a little more than 40\\npercent.\\n             \\n             And third, I've recommended a new element in this\\nprogram to help us immediately start our attempt to fight against\\ncrime by providing $200 million for cities and towns to rehire\\npolice officers who lost their jobs during the recession and put\\nthem back to work protecting our people.  I'm also going to fight\\nfor a tough crime bill because the people of this country need it\\nand deserve it.\\n             \\n             Now, the people who are filibustering this bill --\\nthe Republican senators -- say they won't vote for it because it\\nincreases deficit spending, because there's extra spending this\\nyear that hasn't already been approved.  That sounds reasonable,\\ndoesn't it?  Here's what they don't say.  This program is more\\nthan paid for by budget cuts over my five-year budget, and this\\nbudget is well within the spending limits already approved by the\\nCongress this year.\\n             \\n             It's amazing to me that many of these same senators\\nwho are filibustering the bill voted during the previous\\nadministration for billions of dollars of the same kind of\\nemergency spending, and much of it was not designed to put the\\nAmerican people to work.  \\n             \\n             This is not about deficit spending.  We have offered\\na plan to cut the deficit.  This is about where your priorities\\nare -- on people or on politics.  \\n             \\n             Keep in mind that our jobs bill is paid for dollar\\nfor dollar.  It is paid for by budget cuts.  And it's the\\nsoundest investment we can now make for ourselves and our\\nchildren.  I urge all Americans to take another look at this jobs\\nand investment program; to consider again the benefits for all of\\nus when we've helped make more American partners working to\\nensure the future of our nation and the strength of our economy.\\n             \\n             You know, if every American who wanted a job had\\none, we wouldn't have a lot of the other problems we have in this\\ncountry today.  This bill is not a miracle, it's a modest first\\nstep to try to set off a job creation explosion in this country\\nagain.  But it's a step we ought to take.  And it is fully paid\\nfor over the life of our budget.\\n             \\n             Tell your lawmakers what you think.  Tell them how\\nimportant the bill is.  If it passes, we'll all be winners.\\n             \\n             Good morning, and thank you for listening.\""
      ]
     },
     "metadata": {},
     "output_type": "display_data"
    },
    {
     "data": {
      "text/plain": [
       "'talk.politics.misc'"
      ]
     },
     "metadata": {},
     "output_type": "display_data"
    },
    {
     "data": {
      "text/plain": [
       "'talk.politics.misc'"
      ]
     },
     "metadata": {},
     "output_type": "display_data"
    },
    {
     "data": {
      "text/plain": [
       "'talk.politics.misc'"
      ]
     },
     "metadata": {},
     "output_type": "display_data"
    },
    {
     "data": {
      "text/plain": [
       "'talk.politics.misc'"
      ]
     },
     "metadata": {},
     "output_type": "display_data"
    },
    {
     "data": {
      "text/plain": [
       "'talk.politics.misc'"
      ]
     },
     "metadata": {},
     "output_type": "display_data"
    }
   ],
   "source": [
    "idx = 4811\n",
    "display(newsgroups_train.data[idx])\n",
    "cossim = cosine_similarity(X_train[idx], X_train)[0]\n",
    "np.sort(cossim)[::-1]       #Valores de similaridad ordenados de mayor a menor\n",
    "np.argsort(cossim)[::-1]    #Indices de documentos similares de mayor a menor\n",
    "mostsim = np.argsort(cossim)[::-1][1:6] #Top 5\n",
    "for i in mostsim:\n",
    "  display(newsgroups_train.target_names[y_train[i]])"
   ]
  },
  {
   "cell_type": "markdown",
   "id": "aab281ff",
   "metadata": {},
   "source": [
    "### Ejemplo clasificación"
   ]
  },
  {
   "cell_type": "code",
   "execution_count": 4,
   "id": "f53e0c83",
   "metadata": {},
   "outputs": [
    {
     "data": {
      "text/plain": [
       "'F1 score 0.5854345727938506'"
      ]
     },
     "metadata": {},
     "output_type": "display_data"
    }
   ],
   "source": [
    "clf = MultinomialNB()\n",
    "clf.fit(X_train, y_train)\n",
    "X_test = tfidfvect.transform(newsgroups_test.data)\n",
    "y_test = newsgroups_test.target\n",
    "y_pred =  clf.predict(X_test)\n",
    "display(f\"F1 score {f1_score(y_test, y_pred, average='macro')}\")"
   ]
  },
  {
   "cell_type": "markdown",
   "id": "21163b4a",
   "metadata": {},
   "source": [
    "## Desarrollo "
   ]
  },
  {
   "cell_type": "markdown",
   "id": "92bfbee9",
   "metadata": {},
   "source": [
    "### Punto 1"
   ]
  },
  {
   "cell_type": "code",
   "execution_count": 81,
   "id": "bee994bd",
   "metadata": {},
   "outputs": [],
   "source": [
    "def get_docs_cosine_similarity(X_train, idx, n):\n",
    "    topn_dict = {\"doc_idx\": idx}\n",
    "    cossim = cosine_similarity(X_train[idx], X_train)[0]    \n",
    "    topn_dict.update({\"docs_sim_idx\" : np.argsort(cossim)[::-1][1:n+1], \"docs_sim_cosin\" : np.sort(cossim)[::-1][1:n+1]})\n",
    "    return topn_dict\n",
    "\n",
    "def print_doc_info(dataset, topn_docs):\n",
    "    for docs in topn_docs:\n",
    "        text = dataset.data[docs['doc_idx']]\n",
    "        type = dataset.target_names[int(dataset.target[docs['doc_idx']])]\n",
    "        display(f\"Doc referencia ID:{docs['doc_idx']}, clase: {type}\")\n",
    "        display(f\"CONTENIDO: {text}\")\n",
    "        for i in range(len(docs['docs_sim_idx'])):\n",
    "            text = dataset.data[docs['docs_sim_idx'][i]]\n",
    "            type = dataset.target_names[int(dataset.target[docs['docs_sim_idx'][i]])]\n",
    "            display(f\"{i+1}) Doc similar ID: {docs['docs_sim_idx'][i]}, similitud coseno: {docs['docs_sim_cosin'][i]}, clase: {type}\")\n",
    "            display(f\"CONTENIDO: {text}\")\n",
    "        display('-'*150)"
   ]
  },
  {
   "cell_type": "code",
   "execution_count": 82,
   "id": "54a9caa8",
   "metadata": {},
   "outputs": [
    {
     "data": {
      "text/plain": [
       "'Doc referencia ID:10476, clase: rec.sport.hockey'"
      ]
     },
     "metadata": {},
     "output_type": "display_data"
    },
    {
     "data": {
      "text/plain": [
       "\"CONTENIDO: This is a general question for US readers:\\n\\nHow extensive is the playoff coverage down there?  In Canada, it is almost\\nimpossible not to watch a series on TV (ie the only two series I have not had\\nan opportunity to watch this year are Wash-NYI and Chi-Stl, the latter because\\nI'm in the wrong time zone!).  We (in Canada) are basically swamped with \\ncoverage, and I wonder how many series/games are televised nationally or even\\nlocally in the US and how much precedence they take over, say, local news if\\nthe games go into double-OT.\\n\\nEmail me so as not to waste bandwidth, please.  My news feed is kind of slow\\nanyways.\""
      ]
     },
     "metadata": {},
     "output_type": "display_data"
    },
    {
     "data": {
      "text/plain": [
       "'1) Doc similar ID: 5064, similitud coseno: 0.22503645427838304, clase: rec.sport.hockey'"
      ]
     },
     "metadata": {},
     "output_type": "display_data"
    },
    {
     "data": {
      "text/plain": [
       "\"CONTENIDO: \\nI only have one comment on this:  You call this a *classic* playoff year\\nand yet you don't include a Chicago-Detroit series.  C'mon, I'm a Boston\\nfan and I even realize that Chicago-Detroit games are THE most exciting\\ngames to watch.\""
      ]
     },
     "metadata": {},
     "output_type": "display_data"
    },
    {
     "data": {
      "text/plain": [
       "'2) Doc similar ID: 9623, similitud coseno: 0.21743229780919432, clase: talk.politics.mideast'"
      ]
     },
     "metadata": {},
     "output_type": "display_data"
    },
    {
     "data": {
      "text/plain": [
       "'CONTENIDO: Accounts of Anti-Armenian Human Right Violations in Azerbaijan #012\\n                 Prelude to Current Events in Nagorno-Karabakh\\n\\n        +---------------------------------------------------------+\\n        |                                                         |\\n        |  I saw a naked girl with her hair down. They were       |\\n        |  dragging her. She kept falling because they were       |\\n        |  pushing her and kicking her. She fell down, it was     |\\n        |  muddy there, and later other witnesses who saw it from |\\n        |  their balconies told us, they seized her by the hair   |\\n        |  and dragged her a couple of blocks, as far as the      |\\n        |  mortgage bank, that\\'s a good block and a half or two   |\\n        |  from here. I know this for sure because I saw it       |\\n        |  myself.                                                |\\n        |                                                         |\\n        +---------------------------------------------------------+\\n\\n\\nDEPOSITION OF TATYANA MIKHAILOVNA ARUTUNIAN (NEZHINTSEVA)\\n\\n   Born 1932\\n   Train Conductor\\n   Azerbaijani Railroad\\n\\n   Resident at Building 13/15, Apartment 27\\n   Microdistrict No. 3\\n   Sumgait [Azerbaijan]\\n\\nI hadn\\'t lived very long in Sumgait, only eight years. I moved there from\\nNovosibirsk. My son entered the Baku Nautical School, and so I transferred\\nto Azerbaijan. Later I met someone and married him, and now my name is\\nArutunian, my husband\\'s name . . .\\n\\nThat there would be a massacre was not discussed openly, but there were hints \\nand gibes, so to speak, at the Armenian people, and they were mocking the \\nRussians, too. I was constantly aware of it at work, and not just this past \\nyear. I couldn\\'t find a definite place for myself in the pool at work because \\nI, I\\'ll just say it, couldn\\'t steal, couldn\\'t deceive, and couldn\\'t be \\ninvolved in bribe-taking. And when I asked for decent working conditions they \\ntold me, \"Leave, don\\'t keep the others from working, you aren\\'t cut out for \\nthis kind of work.\" And at work and around all the time I would hear gibes at \\nthe Armenians, like \"The Turks had it right, they killed them all--the way\\nthey\\'ve multiplied here they\\'re making it hard for us to live,\" and \"Things \\nwill be just fine if we get rid of them all.\" \"No problem, the Turks will \\nhelp,\" they say, \"if we ask them, they\\'ll rid Armenia of Armenians in half an \\nhour.\" Well that\\'s the way it all was, but I never thought, of course that it \\nwould spill over into a bloody tragedy, because you just couldn\\'t imagine it. \\nHere we\\'ve been living under the Soviet government for 70 years, and no one \\neven considered such an idea possible.\\n\\nBut I had been forming my own opinions, and in the presence of authoritative \\npeople I would often ask, \"Where is this all leading, do people really not see\\nwhat kind of situation is emerging here. The Russians are fleeing Sumgait, \\nthere are very few of them left. Why is no one dealing with this, what\\'s going\\non?\" And when it all happened on the 27th and 28th, it became clear that \\neverything had been arranged by someone, because what else are you to make of \\nit if the First Secretary of the City Party Committee is marching ahead of the\\ndemonstration with an Azerbaijani flag? I wouldn\\'t be saying this now if I \\nhadn\\'t received personal confirmation from him later. Because when we were \\nunder guard in the SK club on the 1st, he came to the club, that Muslimzade. \\nThe women told me, \"There he is, there he is, that\\'s Muslimzade.\" I didn\\'t \\nbelieve the rumors that he had carried an Azerbaijani flag. I thought that \\nthey were just false rumors. I went over to him and said, \"Are you the First \\nSecretary of our City Party Committee?\" He answers me, \"Yes.\" And I ask him, \\n\"Tell me, did you really march ahead of that gang carrying an Azerbaijani \\nflag, and behind you they were carrying denigrating signs, I don\\'t know \\nexactly what they said, but there was mention of Armenian blood?\" And he tells\\nme, \"Yes, I was there, but I tried to dissuade them from it.\" Then I asked him\\nanother question: \"And where were you when they were burning and slaughtering \\nus? And he said, \"I. . . We didn\\'t know what to do, we didn\\'t know, we didn\\'t \\nanticipate that that would happen in Sumgait.\"\\n\\nComrade Mamedov, the First Deputy Chairman of the Council of Ministers of the \\nAzerbaijani SSR, answered the same question for me: \"No, we actually didn\\'t \\nanticipate the slaughter in Sumgait. At that time we were trying to contain \\nthe crowd of 45,000 in Baku that was preparing for a massacre.\" Those are his \\nexact words, the ones he said in the office of the Council of Ministers of the\\nArmenian SSR.\\n\\nAnd now, about the events themselves. Of course it\\'s painful to discuss them, \\nbecause it may seem that it\\'s not true to someone else. Various rumors \\nconcerning what happened are making the rounds: some are true, others aren\\'t. \\nBut unfortunately there are more true ones than false, because it was so \\nhorrible: in our age, here in the space age, the age of science, the age of\\nprogress, I don\\'t know, if someone had told me this story, if I were living in\\nor around Moscow, I wouldn\\'t have believed it. Why not? Because it was really \\na genocide, it was a massacre. That\\'s genuinely what it was.\\n\\nFor example, on that day, the 28th--I didn\\'t know about the 27th because my \\nhusband and I were both sick, both of us had the flu, and we were in bed--on \\nthe 28th our neighbor comes to our place and says, \"You\\'re in bed? You don\\'t \\nknow anything about it? There was a demonstration in town, and after it they \\nwere overturning Armenian cars and burning them. They were looking into cars \\nand asking, \\'Are you an Armenian?\\' If they answered in Armenian, then they \\nturned the car over and burned it.\" This isn\\'t made up, the wife of the Senior\\nInvestigator of the Baku Ministry of Internal Affairs told us. He was \\nreturning home from his dacha with his wife, Raisa Sevastyanova, she\\'s my \\nneighbor. She immediately came and told LIS that they had landed right in the \\nmiddle of it, I don\\'t know what to call it, the cavalcade of automobiles they \\nwere stopping. He answered in Azerbaijani, they let them go, but they made him\\nhonk the horn, they were kicking up a fracas. We didn\\'t even believe it, and \\nI said, \"Certainly that didn\\'t happen, how can that be?\" And she said, \\n\"Muslimzade was leading the crowd, and the Sputnik store was completely\\nsmashed because most of the salespeople there are Armenians. And when he saw \\nthat they had started breaking the glass in that store, he said, \"Don\\'t break \\nthe shop windows, don\\'t destroy state property, but do whatever else you want.\\n\" I didn\\'t hear this with my own two ears, but it is a fact that the store was\\ntorn up and the director of the store was beaten for employing Armenians \\nalthough he\\'s an Azerbaijani.\\n\\nWhile we were talking, all of a sudden right across from us . . . Sevastyanova\\nis the first to look out the window and say, \"Look, there\\'s a crowd out \\nthere.\" And sure enough, when we looked out there we saw that the crowd had \\nalready started wrecking the neighboring building. There was an Armenian \\nfamily there, a woman and two girls. They lived across from us. I\\'m sorry, I \\ndon\\'t know the building number or the people\\'s names, since we were in my \\nhusband\\'s apartment, in Microdistrict 8, and I lived in Microdistrict No. 3. \\nThere was awful looting going on there at the time, the most hideous things \\nwere going on there then. One building there, ours, was attacked twice, once \\nwasn\\'t enough for them. They returned to the places where they hadn\\'t finished\\nthe Armenians off. If an Azerbaijani family dared to conceal Armenians, they \\nbeat the Azerbaijanis too. They also beat Russians, if it was Russians doing \\nthe hiding. Because there were Russians among them, they said so on \\ntelevision, there were people of various nationalities. But they didn\\'t tell \\nus why there were people of different nationalities. Because they wouldn\\'t \\nhave touched the Azerbaijanis if they hadn\\'t dared to stick up for the \\nArmenians and give them temporary shelter in their homes.\\n\\nAt the time I saw this from the window I was there, Sevastyanova was there, \\nand so was my husband. We went out onto the balcony and saw a television fly \\noff a balcony. All kinds of things, even a sofa. Then, when it was all down \\nthere, they burned it up. Then we saw the crowd, and they were all oohing. At \\nfirst I couldn\\'t figure out what was happening. And later I told my husband, \\n\"Lendrush, l think they\\'re beating someone out there.\" And he answered, \"I \\ndon\\'t know, could be.\" Suddenly the crowd separated for a moment, and I saw \\nit, and Raisa Sevastyanova saw it too. My husband had turned the other way, \\nhe didn\\'t see it. I saw a naked girl with her hair down. They were dragging \\nher. She kept falling because they were pushing her and kicking her. She fell \\ndown, it was muddy there, and later other witnesses who saw it from their \\nbalconies told us, they seized her by the hair and dragged her a couple of \\nblocks, as far as the mortgage bank, that\\'s a good block and a half or two \\nfrom here. I know this for sure because I saw it myself.\\n\\nThen the crowd rushed toward our building. We were standing there, and you can\\nof course imagine what we were feeling. Were they going to kill us or not? And\\nI also had the awful thought that they might torment me the way they tormented\\nthat woman, because I had just seen that.\\n\\nI asked my husband. I gave him an axe and said, \"You kill me first, and then \\nlet them do what they want with the corpse.\" But our neighbors, it\\'s true, \\ndefended us, they said, \"There aren\\'t any Armenians in our entryway, go away, \\nonly Muslims live here.\" Disaster missed us that time.\\n\\nBut at two o\\'clock in the morning a crowd of about 15 people, approximately, \\ncame back to our place. My husband was already asleep. He can sleep when he\\'s \\nupset about something, but I can\\'t. I was standing, running from balcony to \\nbalcony. Our power was out, I don\\'t remember for how long, but it was as \\nthough it had been deliberately turned off. There were no lights whatsoever, \\nand I was glad, of course. I thought it was better that way. But then I look \\nand the crowd is at our balcony. This was at 2:15 in the morning. The first \\ntime they were at our building it was 6:30, and now it was 2:15 in the \\nmorning. But I never thought that that old woman on the first floor, the \\nAzerbaijani, was awake and watching out, there were human beings among them \\ntoo. So she goes out with a pail of garbage, as though she needed to be taking\\ngarbage out at two o\\'clock in the morning. She used it as a pretext and went \\ntoward those young people. They really were youngsters. From my balcony you \\ncould see perfectly that they were young Azerbaijani boys. They spoke \\nAzerbaijani. And when they came up to her she said, \"What do you want?\" And \\nthey answered, \"We want the Armenian family that lives here\" [pointing toward \\nthe second floor with their hands]. She says, \"I already told you, we don\\'t \\nhave any Armenians here, now leave, do you hear, this is an old Muslim woman \\ntalking to you,\" and grabbed the hand of one boy who was trying to walk around\\nher and enter the building anyway and started pushing him away. And so they \\nseemed to listen to her. They were all very young, they started apologizing \\nand left. That was the second time death was at our door.\\n\\nI forgot to mention about one other apartment, a man named Rubik lives there, \\nI don\\'t know him really, I knew his daughter, I mean I saw her around, but we \\nreally didn\\'t know them. But I do know that that guy who lives on the fourth \\nfloor across from our entryway went to Chernobyl and worked there for eight \\nmonths, to earn money. Can you imagine what that means? He risked his life to \\nearn X amount of money in order to better his family. He bought new furniture \\nand was getting ready to give his daughter\\'s hand in marriage, but, alas,\\neverything was ruined by those creeps and scoundrels. They threw everything \\nout the windows, and the rest we saw from our balcony: how the neighbors on \\nthe left and right ran into the apartment and carried off everything that \\nhadn\\'t already been smashed or taken. What is one to think of that? It means \\nthat the parents in those families were in on it too. Unfortunately I came to \\nbe of the opinion that it was all organized and that everything had been \\nforeseen in advance: both the beating of the Armenians and the stripping of \\napartments. Something on the order of \"We\\'ll move the Armenians out and take \\nover their apartments.\"\\n\\nI have worked honestly my whole life, you can check everything about me. I \\ncame as a patriot from China, waited for nights on end in front of the \\nConsulate General of the USSR, I came to my homeland as a patriot because I \\nknew that the Party and the Komsomol were holy things. But when I saw in \\nSumgait that there wasn\\'t anything holy about them, that Party membership was \\nbought, that Komsomol members joined only for personal gain, that there were \\nno ideals, no ideas, God save me, everything was being bought and sold, I saw \\nall of it and understood how they could allow that crap to go on like it did.\\n\\nI can\\'t talk any more about it . . . the image of that beating . . . When I\\nwent out of my own apartment--they picked us up under Soviet Army guard, they \\nhad arrived from all over to suppress that gang--not only Armenians, but some \\nRussian families and their children, too, came out of their apartments and\\njoined us, because no normal person who had seen that could stay there with \\nthe situation the way it was. And what\\'s interesting is that when we left on \\nthe buses I rode and thought that at least one group of people, for sure \\npeople would basically rise to the situation, would have some compassion for \\nthe Armenians, would somehow understand the injustice of what was done. But \\nhaving analyzed and weighed the whole thing, once I calmed down, having \\nthought it all through, I came to a conclusion that is shared by many people. \\nIf a lot of Azerbaijanis didn\\'t want their Armenian neighbors to be killed, \\nand that basically depended on that Muslimzade--he said that he had wanted to \\ncalm them down--then is it possible that he didn\\'t have people at hand to whom\\nhe could whisper at the last minute, \"Go and announce it on television: \\nCitizens of Sumgait! Take what you can into your hands, let\\'s protect our \\nneighbors from this massacre?\" Those crowds weren\\'t such that there was no \\ncontrolling them. Basically they were unarmed. They didn\\'t have firearms, \\nmostly they had knives, they had all kinds of metal parts, like armature \\nshafts, sharpened at the ends, special rocks, different to a degree that we \\nnoticed them: there aren\\'t rocks like those in Sumgait soils, they were \\nbrought from somewhere, as though it were all specially planned. So as I was \\nsaying, I weighed it all out and if any of our neighbors had wanted to defend \\nus, why wasn\\'t it arranged? It means that the government didn\\'t want to do \\nit. When the crowd was moving from the City Party Committee to the Sputnik, \\nwhat, there was no way of informing Baku? No, there was no way, it turns out!\\nThe crowd was doing violence in our microdistrict. I won\\'t mention the things \\nI didn\\'t see myself, I\\'ll only talk about the things I myself witnessed. They \\nwere in Microdistrict 8 beginning at 6 o\\'clock in the evening, when I saw them\\nfrom the other building, and they were somewhere else until mid-night or one \\no\\'clock in the morning, because at 2:15 they came back to our building. They\\nhadn\\'t completely finished making their predatory rounds of Microdistrict 8. \\nWhen they returned to our building I told my husband, \"Lendrush, now the \\npolice are probably going to come, my God, now the authorities are probably \\ngoing to find out and come to our aid.\" Well, alas, no, there were to be no \\nauthorities, not a single policeman, not a single fireman, not a single \\nambulance came while they were raging, as it turns out, as we later found out,\\nbeginning on the Might of the 27th. There were dead people, ruined apartments,\\nand burned autos: one car near the bus station, it was burned and overturned, \\nit was probably there about four days, everyone saw it and what went on in \\nBlock 45! Those who live there know, they saw from their balconies how they \\nattacked the soldiers in the buses, how they beat those poor, unarmed\\nsoldiers, and how on that square, I can\\'t remember the name of it, where there\\nis that fork coming from the bus station, that intersection, now I\\'m upset and\\nI can\\'t think of the name . . . there\\'s a tall building there, a 9-story, and \\nfrom the balconies there people saw that butchery, when the poor soldiers, \\nwearing only helmets, with shields and those unfortunate clubs, moved against \\nthat mob. And when they fell, those 12-to 14-year-old boys ran up and using \\nstones, big heavy stones, beat them to death on their heads. Who could have \\nguessed that something like that could happen in the Soviet Union and under \\nthe Soviet government? The upshot is that this republic has not been under \\nSoviet control for a long time, but no one wanted to pay any attention or get \\ninvolved.\\n\\nIf you were to go and ask at my work many people would confirm that I tell the\\ntruth, I\\'ve been struggling for truth for five years there already, the five \\nyears that I worked at the Azerbaijani railroad. Some people there considered \\nme a demagogue, others who knows what; some think I\\'m an adventure seeker, and\\nsome, a prankster. But I wanted everything to be right, I would become\\noutraged: how can this be, why is it people treat one another this way on a \\nSoviet railroad, as though the Azerbaijani railroad were Azerbaijani property,\\nor the property of some magnate, or some \"mafia\": If I want to, I\\'ll get you \\nout of here; If I want to, I\\'ll get rid of you; If I want to, I\\'ll do \\nsomething else? And there\\'s a black market price for everything, in the most \\nbrazen way: a coach to Moscow costs so much, a coach on a local train costs so\\nmuch. Once when I was complaining to the head of the conductor\\'s pool, he had \\nthe nerve to tell me, maybe you won\\'t even believe this, but this, I\\'m afraid,\\nI heard with my own ears: \"Tatyana, just how long can you fight for something\\nthat you know will never have any effect? You\\'re alone against everyone, so \\ninstead why don\\'t you give more money to the chief conductor, and everything \\nwill go fine for you.\" I started to cry, turned, and left. What else could I \\ndo, where else could I go to complain? I realized that everything was useless.\\nAnd the root of the whole thing is that it all goes on and no one wants to see\\nit. I filed a written complaint, and they ground it into dust, they destroyed \\nit, I still have a copy, but what\\'s the use? When the General Procuracy got \\ninvolved with the investigation of the bloody Sumgait affair, in addition to \\nthe information about what I saw, what I was a witness to, I gave testimony \\nabout the mafia at the railroad. They accepted my petition, but I don\\'t know \\nif they\\'re going to pursue it or not. Because, you\\'ll excuse me, I no longer \\nbelieve in the things I aspired to, the things I believed in before: It\\'s all \\ndead. They just spit on my soul, stomped on everything, physically, and most \\nimportant, spiritually, because you can lose belongings, that\\'s nonsense, that\\nall comes with time, but when your soul is spit upon and when the best in \\nyou--your beliefs--are destroyed, it can be very difficult to restore them...\\n\\nI want to tell of one incident. I just don\\'t know, at the time I was in such a\\nstate that I didn\\'t even take minor things into account. Here is an example.\\nOf course, it\\'s not a minor one. My neighbor, Raisa Sevastyanova, she has a\\nson, Valery, who is in the 9th grade in a school in Microdistrict 8. A boy,\\nVitaly [Danielian], I don\\'t know his last name, goes to school with him, or\\nrather, went to school with him. I was just sitting in an apartment trying to\\nmake a phone call to Moscow . . . Oh yes, and there\\'s one important detail:\\nWhen the massacre began, for two to three hours the phones weren\\'t working in \\nArmenian apartments, and later, in several Russian and Azerbaijani apartments.\\nBut the fact of the matter is that service was shut off, you could not call \\nanywhere. Why? Again, it means it was all planned. How come service is cut off\\nfor no reason? And the lights went off. And those brats were raging as they\\nliked They weren\\'t afraid, they ran about freely, they that no one would slap \\ntheir hands and no one would dare to stop them.  They knew it.\\n\\nNow I\\'m going to tell about the incident. So this little Vitaly, Vitalik, an\\nArmenian boy, went to school with Valery; they were in the same class. \\nAccording to what Valery and his neighbor pal said--at the time I was in the\\nsame apartment as they were, I sat at the phone waiting for the call to be put\\nthrough--a mob attacked the building where Vitalik lived. So Valery ran to\\nhis mother and said, \"Mamma, please let me go to Vitalik\\'s, what if they kill\\nhim? Maybe he\\'s still alive, maybe we can bring him here and save him somehow.\\n. . . He\\'s a nice guy, we all like him, he\\'s a good person, he\\'s smart.\" His \\nmother wouldn\\'t let him go. In tears, she says, \"Valery, you can\\'t go because \\nI am afraid.\" He says, \"Mamma, we can get around the crowd. We\\'ll just watch, \\njust have a look.\" They made it through. I don\\'t know, I think Vitalik\\'s\\nparents lived in Microdistrict No. 1, and when they got there, they made a \\nsuperficial deduction. Knowing that balconies and doors were being broken \\neverywhere, that you could see from the street which were the Armenian \\napartments in the building, they went here and there and looked, and saw that \\nthe windows were intact, and so they calmed down. But even though the windows \\nin that apartment were not broken, everything inside was totally smashed, and \\nVitalik lay there with a broken skull, and his mother and father had already \\nbeen murdered. Little Vitalik didn\\'t even know they were dead. So two weeks \\nago, I don\\'t know, he was in critical condition, no, maybe it was longer: we \\nleft Sumgait on March 20, spent some time in Moscow, and then we came to \\nYerevan. So it\\'s been about a month already; it\\'s so hard to keep all this \\nstraight. So Valery, the next day, when he found out that Vitalik\\'s family has\\nbeen killed and Vitalik was ling in the Semashko Hospital in Baku, Valery and\\nhis classmates got together and went to visit him. But they wouldn\\'t admit \\nthem, telling them that he was in critical condition and that he was still in \\na coma. They cried and left, having also found out that the girl I saw being \\nkicked and dragged was in that hospital too. As it turns out she was brought \\nthere in serious condition, but at least she was alive at the time . . .\\n\\nWhen we got to the SK club we would see first one friend and then another, \\nthrow ourselves into their arms and kiss them, because you had wondered if \\nthese friends were alive or not, if those friends were alive or not  . . . And\\nwhen you saw them you were so glad to find out that the family had lived! When\\nyou saw people you heard things that made your hair stand on end.\\n\\nIf you publish everything that happened it will be a hideous book. A book of \\nthings it is even difficult to believe. And those two girls who were raped \\nwere entirely black and blue, the ones at the SK, they know I\\'m not lying, \\nthat girlfriend came up to one of them and said, \"What happened?\" and she \\nbared her breasts, and they were completely covered in cigarette burns . . . \\nthose rogues had put cigarettes out on her breasts. After something like that \\nI don\\'t know how you can live in a city and look at the people in it.\\n\\nNow . . . When we stayed at the military unit for a while, they provided,\\nwell, basic conditions for us there. The military unit is located in Nasosny,\\nsome six miles from Sumgait. And living there we met with a larger group\\nof people. There were about 1,600 people at the unit. You know, there was a\\npoint when I couldn\\'t even go outside because if you went outside you saw\\nso much heartbreak around you. And when you hear the false rumors . . .\\n\\nYes, by the way, false rumors were spread in Sumgait saying that the Armenians\\naround Yerevan had destroyed Azerbaijani villages and razed them to the ground\\nwith bulldozers. I didn\\'t know whether to believe it or not. And people who \\ndon\\'t know any better get the idea that it was all done in revenge. But when \\nI arrived in Armenia and was in Spitak, and in Spitak all those villages are \\nnot only intact, but at that time had even been protected just in case, they \\nwere guarded, they got better food than did the inhabitants of Spitak. Not a \\nsingle person there died, and no one is planning to harm them. Around Yerevan \\nall the villages are safe and unharmed, and the Armenians didn\\'t attack \\nanyone. But actually, after an evil of the magnitude suffered in Sumgait there\\ncould have been a feeling of vengefulness, but no one acted on it. And I don\\'t\\nknow why you sometimes hear accusations to the effect that the Armenians are \\nguilty, that it is they who organized it. Rumors like that are being spread in\\nAzerbaijan. And if one old person says it and ten young ones hear it, they not\\nonly perceive it with their minds, but with their hearts, too. To them it \\nseems that the older person is telling the truth. For example, one says; \"Did \\nyou know that out of 31 people killed (by the way, originally they said 31 \\npeople, but later they found a 32nd), 30 were Azerbaijani and one was an \\nArmenian?\"\\n\\nOf course I\\'m upset, but it\\'s utterly impossible to discuss such things and\\nnot become upset. Sometimes l forget things, but I know I want to return to\\nthe time when we were in the SK club across from the City Party Committee.\\nWhen I saw Muslimzade in the SK club building I went to him to ask because I \\ncouldn\\'t believe that he had marched in the front carrying a banner. I already\\nmentioned this, and if I repeat anything, please excuse me. I asked him, \"Why \\ndid you do that and why are you here now, why did you come here? To laugh at \\nthese women who are strewn about on the floor?\" The overcrowding there was \\ntremendous, it was completely unsanitary, and several of the children were\\nalready sick. It\\'s true the troops tried to make it livable for us. They \\ncooked for us on their field stoves and provided us with wonderful food, but \\nthe thing is that their main job was to ferret out the gang that was still at \\nit everywhere, that was continuing its sordid affairs everywhere. Plus they \\nwere never given any direct orders, they didn\\'t know what they were authorized\\nto do and not to do. And it was only on March 8 at five o\\'clock in the evening\\nthat Krayev himself, the Lieutenant General, the City Commandant of Sumgait, \\nwas given full authority and told everyone over a microphone from an armored \\npersonnel carrier that now he could do what he wanted to do, as his heart \\nadvised him, and relocate people to the military unit.\\n\\nBut that\\'s not what I want to talk about now. Muslimzade, characteristically, \\ntried to get me out of the SK building and take me to the City Party\\nCommittee, which is across the square from the club. He took me by the\\nhand and said, \"Citizen, don\\'t worry, we\\'ll go and have a talk in my office.\\nI told him, \"No, after everything you\\'ve done, I don\\'t believe one iota of \\nwhat you say. If I go to the City Party Committee I\\'ll disappear, and the \\ntraces of me will disappear too. Because you can\\'t stand it when . . . \" Oh \\nyes, and there was another interesting detail from that meeting. It was even \\nvery funny, although at the time I wasn\\'t up to laughing. He was in a nice, \\nexpensive hat, and so as to put him to shame, so to speak, I said, \"Oh, why \\ndid you come here all duded up like a London dandy, you smell of good perfume,\\nyou\\'re in your starched shirt, and you have your expensive hat on. You came\\nto ridicule the poor women and children who are lying on the floor, who are\\nalready getting sick, whose relatives have died. Did you come to laugh at\\nthem?\" And the one who was accompanying him, an Azerbaijani, I don\\'t know who \\nhe was or what his title was, he quickly snatched the hat off Muslimzade\\'s head \\nand hid it. Then I said, \"My God! We\\'re not marauders. We\\'re not you! We \\ndidn\\'t come to you with the intention of stealing!\" \"Well kill me, kill me!\" \\nMuslimzade says to me, \"But I\\'m not guilty . . . kill me, kill me, but I\\'m not\\nguilty.\" And I say, \"OK, fine, you\\'re not guilty, have it your way. But give \\nus an answer, we\\'re asking you: Where were you when they were torturing and \\nraping those poor women, when they were killing the children, burning things, \\ncarrying on outrageously, and wrecking all those apartments? Where were you \\nthen?\" \"You know, we didn\\'t expect it, we did not know what to do, we didn\\'t \\nanticipate that something like that would happen in Sumgait.\" I started \\nlaughing and said, \"It\\'s truly funny.\" He says, \"What could I do? We didn\\'t \\nknow what to do.\" And I say, \"I\\'m sorry, but it\\'ll be ridiculous if I tell \\nyou: The First Secretary of the City Party Committee shouldn\\'t march out in \\nfront with a banner; he should fall down so that the gang would have to cross \\nover his dead body. That\\'s what you should have done. That\\'s the way it was \\nduring the war. Not a single party committee secretary compromised himself;\\neither he died or he led people into battle. And what did you do? You ran \\naway, you left, you hid, you marched with a flag, because you were afraid, \\nexcuse my language, you feared for your own damned hide. And when we ask you, \\nyou tell us that you got confused and you ask me what you could have done? \\nThat\\'s right,\" I told him, \"the City party committee got confused, all the \\nparty committees got confused, the police got confused,. Baku got confused, \\nthey all lay in a faint for two weeks, and the gang ran the show with \\nimpunity. And if it weren\\'t for the troops it wouldn\\'t have been just two \\ndays, there wouldn\\'t be a single Armenian left in Sumgait for sure, they would \\nhave finished their bloody affair, because they brazenly went up to some \\nRussians, too, the ones who tried to say something to them, and they told \\nthem, \\'As soon as we finish with the Armenians we\\'ll come after you, too.\"\\n\\nAnd by the way, there was a colonel, who took us to the military unit. He was\\nthe one with the light blue collar tabs who flew in and two hours later\\narrived on an armored personnel carrier when we were at the  SK and took us to\\nthe military unit and who later started moving us from the military unit. We \\nasked him, \"What? How? What will come of us?\" He openly said, \"You know, for \\nus the main thing now is to catch that gang. We\\'ll finish that quickly. You\\'ll\\nstay at the military unit for the time being, and we\\'ll decide later.\" The \\nGeneral Procuracy of the USSR arrived, it consists of investigators from all \\ncities. There were some from Stavropol, from everywhere, just everywhere, because \\nthe affair was truly frightful. About this, by the way, Comrade Katusev spoke;\\nas everyone knows, he\\'s the First Deputy General Procurator of the USSR. When \\nhe gave us a speech from the armored personnel carrier at the military unit, \\nby the way, he told us the honest truth, because he couldn\\'t not say it, \\nbecause he was still experiencing his first impressions of what he had seen, \\nand he said, \"There was Afghanistan; and it was bad, but Sumgait--it\\'s\\nhorrible! And the people who dared to do such a thing will be severely \\npunished, in accordance with our laws.\" And that\\'s a quote. Then one mother \\nthrows herself at him--her two sons had died before her very eyes--and says,\\n\"Who will return my sons? Who is going to punish the [culprits]?\" They tried \\nto calm her down, and he said, \"In order for us to conduct a proper \\ninvestigation, in order that not a single scoundrel avoid responsibility, you \\nmust help us, because we don\\'t know, maybe there was someone else in the gang \\nwho is now being concealed in homes, and maybe the neighbors know, maybe \\nsomeone saw something. Don\\'t be afraid, write about it in detail. So that \\nyou\\'re not afraid . . . Everyone knows that many of you are afraid, having \\nlived through such horrors, they think that if they write the whole truth \\nabout, let\\'s say, their neighbor or someone else, that they will seek revenge \\nlater. We\\'re going to do it like this: We\\'re going to set up an urn and you \\ncan throw what you write in there. We don\\'t need to know who wrote it. The \\nnames of the people who write won\\'t be made public, but we need all the\\ninformation. Let each and every one not be afraid, let each write what is \\nnecessary, who they saw in that gang, who made threats or shouted threatening \\ngibes about the Armenians . . . You must describe all of these people and put \\nthe information into the urn.\"\\n\\nTwo soldiers and a major guarded the urn. And, sure enough, many people, \\npeople who didn\\'t even want to write . . .I know one woman who asked me, she \\ncame up and said, \"You, as a Russian, the same thing won\\'t happen to you as \\nwill happen to me. So please . . . I\\'ll give you the information, and you \\nplease write it down for me.\" So she was afraid, and there were a lot like\\nher . . . But later, after Katusev made his speech, she sat and wrote down\\neverything she knew. And we threw it all into the urn. Now we don\\'t know if \\nit will be of any use. For a factual picture will emerge from all that \\ninformation. One person can lie, but thousands can\\'t lie, thousands simply \\ncan\\'t lie. You have to agree with that, a fact is a fact. Why, for example, \\nshould someone say that black is white if it is really black?\\n\\n   The First Deputy Chairman of the Council of Ministers of the Azerbaijani\\nSSR, Mamedov, as I said, was in Yerevan. My husband and I were at the Council \\nof Ministers of the Armenian SSR and found out that Mamedov was present, the \\none who had come to convince the people of Sumgait to  return to their \\nprevious dwellings, to their old apartments. We asked for a meeting with him, \\nand it was granted. When we went to see him he tried to behave properly, very \\npolitely, delicately, but . . . when the truth was told right to his face and \\nwhen I asked him some of the same questions I had asked Muslimzade, \"Where were\\nyou personally when they were beating us? Now you\\'re trying to convince us to \\nreturn, why didn\\'t you think at the time that they were slaughtering us where \\nit was all leading?\" he says, \"You\\'re telling the truth. Let\\'s not mince \\nwords. You\\'ve told me right to my face, and I\\'ll tell you straight. I\\'ll tell \\nyou the pure truth. I was gotten out of bed in the evening, the whole \\ngovernment was up, including me, and we were restraining a crowd of about \\n45,000 in Baku. But we never expected that in a city like Sumgait, with its \\nfine international record, such a thing could happen. We expected it in Baku.\"\\nI say, \"So that means you expected it all the same? Why were you expecting \\nit?\" And he says, \"You know, it just happened that way. We were expecting it \\nin Baku, we were trying to restrain it, but in Sumgait . . . \" I say, \"Fine, \\nyou didn\\'t know for the first three or four hours, but then you should have \\nknown. Why did no one help us?\" And he says, \"Well, OK, we didn\\'t know what to\\ndo\" and things like that. Basically it was the same story I got from \\nMuslimzade. Later, when he said, \"You go on back, the situation in Sumgait is \\nfavorable now, everything is fine, the Armenians are friendly with the \\nAzerbaijanis . . . \" To this l answered, \"You know what . . . I\\'m speaking \\nwith you as a [member of a] neutral nation . . . I have never argued with \\nArmenians or with Azerbaijanis and I was an eyewitness . . . You tell me, \\nplease, Comrade Mamedov, \" I asked him, \"What would you say about this\\nhonestly, if you were being completely frank with us?\" Then he said, \"Yes, I \\nadmit that I am honestly ashamed, shame on the entire Azerbaijani nation, we \\nhave disgraced ourselves not only before the entire Soviet Union, but before \\nthe whole world. Because now the Voice of America and all the other foreign \\nradio stations of various hues are branding us with all kinds of rumors, too.\"\\nAnd I say, \"There\\'s nothing to add to what really happened. I don\\'t think it\\'s\\npossible to add anything more awful.\" He says, \"Yes, I agree with you, I \\nunderstand your pain, it is truly an unfortunate occurrence.\" I repeat that he\\nsaid \"unfortunate occurrence.\" And then he suddenly remembered himself, what \\nhe was saying--he had a pen in his hands, he was fidgeting with it nervously--\\nand said, \"Oh, excuse me, a tragedy, really . . . \" I take this to mean that \\nhe really thinks it\\'s an \"unfortunate occurrence.\" \"And of course,\" he says, \\n\"I understand that having gone through all this you can\\'t return to Sumgait, \\nbut it\\'s necessary to cool down and realize that all those people are being \\ntried.\" And he even gave a detail, which, I don\\'t know if it matters or not, \\nthat 160 policemen were being tried. Specifically in relation to that bloody \\naffair.\\n\\nYes, by the way, there is another good detail, how I was set up at work in\\nBaku after the events. I went to an undergarment plant, there was an \\nAzerbaijani working there, and suddenly she tells me, \"What, they didn\\'t\\nnail your husband? They screwed up.\" I was floored, I hadn\\'t imagined that\\nanyone in Baku, too, could say something like that. Well after that I went up\\nto see . . . to my office, I needed to find out about those days, what was\\ngoing to happen with them, how they were going to put down those days from \\nFebruary 29 to March 10 . . . and the administrator told me, \"I don\\'t know, \\nTatyana, go to the head of the conductors\\' pool. Be grateful if they don\\'t \\nput it down as unexcused absence.\" I was really discouraged by this. They all \\nknow that we were but a hair away from death and barely survived, and here \\nthey\\'re telling me that I was skipping work, as though I was off enjoying \\nmyself somewhere. I went to the office of the chief of the pool, his last name\\nis Rasulov, and he\\'s had that position for many years. Incidentally, he\\'s a \\nParty member, and is a big man in town. And suddenly, when I went to him and \\nsaid, \"Comrade Rasulov, this is the way it was . . . \" He looked at me askance\\nand said, \"And why are you\"--he knows me by my previous last name--\"why did\\nyou get wrapped up in this mess?\" I say, \"What do you mean, why did I get \\nwrapped up in this mess? My husband\\'s an Armenian,\" I tell him, \"I have an \\nArmenian last name.\" And he screwed up his face, made a kind of a grimace, as \\nthough he had eaten something sour, and said, \"I didn\\'t expect that you would\\n. . . \" What did he mean by that? And \"how\" should he behave, the chief of the\\npool, a man who supervises 1,700 workers? Now, it\\'s true, there was a \\nreduction, but for sure there are still 1,200 conductors working for him. And \\nif someone who supervises a staff that size says things like that, then what \\ncan you expect from a simple, uneducated, politically unsophisticated person?!\\nHe\\'s going to believe any and all rumors, that the Armenians are like this, \\nthe Armenians are like that, and so on . . .\\n\\nBy the way, that Mamedov--now I\\'m going back to Mamedov\\'s office when I asked \\nhim \"Are you really going to guarantee the safety of our lives if we return \\nto Sumgait?\" he answered, \"Yes, you know, I would guarantee them . . . I don\\'t\\nwant to take on too much, I would guarantee them firmly for 50 years. But I \\nwon\\'t guarantee them for longer than 50 years.\" I say, \"So you\\'ve got another\\nthing like that planned for 50 years from  now? So they\\'ll be quiet and then \\nin another 50 years it\\'ll happen again?!\" I couldn\\'t contain myself any more,\\nand I also told him, \"And how did it get to that point, certainly you knew\\nabout it, how they were treating the Russians, for example, in Baku and in \\nSumgait, how they were hounded from their jobs? Certainly you received\\ncomplaints, I wrote some myself. Why did no one respond to them? Why did \\neveryone ignore what was going on? Didn\\'t you prepare people for this by the \\nway you treated them?\" And he says, \"You know, you\\'re finally starting to \\ninsult me!\" He threw his pen on the desk. \"Maybe now you\\'ll say I\\'m a \\nscoundrel too?\" I say, \"You know, I\\'m not talking about you because I don\\'t \\nknow. But about the ones who I do know I can say with conviction, yes, that \\ncomrade was involved in this, that, and that, because I know for certain.\\n\"Well anyway he assured us that here, in Yerevan, there were false rumors, \\nthat 3,000 Sumgait Armenians were here, and 15,000 were in Sumgait and had \\ngotten back to work. Everyone was working, he said, and life was very good. \\n\"We drove about the town ourselves, Comrade Arutiunian [First Secretary of \\nthe Communist Party of Armenia SSR] came from the Council of Ministers of \\nArmenian, he came and brought information showing that everything was fine in\\nSumgait.\" When I asked Mamedov how he had reached that conclusion he said, \\'\\n\"Well, I walked down the street.\" And I said, \"Walking down the street in any \\ncity, even if I were to go to New York, I would never understand the situation\\nbecause I would be a guest, I don\\'t have any contact with people, but if you \\nspend 10 days among some blue-collar workers in such a way that they didn\\'t \\nknow you were the First Deputy Chairman of the Council of Ministers, you\\'d \\nhear something quite different.\" I told him, for example, that I drew my \\nconclusion when we left the military unit to look at our apartments. They took\\nus all in turns to pick things up, since people had fled to the military unit;\\nthey got on the bus just to save themselves as soon as possible. How are the \\nneighbors in the microdistrict, how will they view us, what do they think? I \\nthought maybe that in fact it wasn\\'t something general, of a mass nature, some\\nanti-national something. And when that bus took us to our building, because it\\nwas the same bus, while we were going up to our apartment, an armed soldier \\naccompanied us. What does that say? It speaks of the fact that if everything \\nthere were fine, why do we need to have soldiers go there and come back with\\nus, going from apartment to apartment? And in fact, especially with the young \\npeople, you could sense the delight at our misfortune, the grins, and they \\nwere making comments, too. And that was in the presence of troops, when police\\ndetachments were in the microdistricts and armored personnel carriers and \\ntanks were passing by. And if people are taking such malicious delight when \\nthe situation is like that, then what is it going to be like when they \\nwithdraw protection from the city altogether? There will be more outrages, of \\ncourse, perhaps not organized, but in the alleys . . .\\n\\n  April 20, 1988\\n  Yerevan\\n\\n\\t\\t     - - - reference - - -\\n\\n[1] _The Sumgait Tragedy; Pogroms against Armenians in Soviet Azerbaijan,\\n    Volume I, Eyewitness Accounts_, edited by Samuel Shahmuradian, forward by\\n    Yelena Bonner, 1990, published by Aristide D. Caratzas, NY, pages 166-177\\n\\n'"
      ]
     },
     "metadata": {},
     "output_type": "display_data"
    },
    {
     "data": {
      "text/plain": [
       "'3) Doc similar ID: 10575, similitud coseno: 0.21644447761221192, clase: sci.crypt'"
      ]
     },
     "metadata": {},
     "output_type": "display_data"
    },
    {
     "data": {
      "text/plain": [
       "'CONTENIDO: \\nI am not an expert in the cryptography science, but some basic things\\nseem evident to me, things which this Clinton Clipper do not address.\\nThe all pertain to opportunites for abuse, and conclusions based on what\\nI have seen the membership of this group (except for two notable persons)\\nagree to.  If anything bad is possible by the government in theory, it\\nalmost always ends up happening in fact.  So the key is to make abuse\\nIMPOSSIBLE.  Question authority, and remember power DOES corrupt.\\n\\nI think one has to regard this whole idea in the sense that it WILL be\\nexpanded to include other data forms, such as data transfer and stored\\ndata. and as such should be treated as if it were expanded (or such\\nexpansion will be almost impossible to stop, using Clipper as a precident).\\nThere was a hint of that in the proposal, remember.  That said, please\\nbear with me, I am not very articulate, so I take more words to say\\nwhat others could say much more briefly.  Thank you.\\n\\n\\nAs I suggested this is NOW.  The hint is in the proposal that this or\\nsimilar proposals are being considered for other forms of encryptions\\nsuch as data transfer, data files, and such, largely dependent on how\\nthis thing is accepted or flies.  I think one would be wise to treat\\nthis in the manner one would when (not if) it gets expanded to other\\nareas than cellular phones.  I think this is guaranteed to happen, if\\nthis proposal gets by.  Salami politics.  It has been and is used in\\nseveral other areas, it is certain to be used here.  Government is not\\ngoing to easily give up on the idea that they should be able to eavesedrop\\nwhenever they want to.  \\'Court order required\\' has proven to be a rather\\nflimsy guarantee.  If the case warrants, they can always sieze the\\nmaterial, and force one to give the key, or sit in jail forever on\\nperiodically renewed contempt charges.  So it is not denying the justice\\nsystem the information, nor the ability to lock someone up if guilty\\n(or refuses to divulge the means to access the info - this is not\\nprotected under the Fifth - one can be forced to perform ACTS that would\\nresult in divulging incriminating evidence).  So, blocking restrictions\\non private encryption is not preventing LEGITIMATE law enforcement - it\\ndoes make ILLEGITIMATE law enforcement a bunch more difficult.  Especially\\nfishing expeditions without the target\\'s knowlege.  Don\\'t give up the\\nright to be safe from that - that should be non-negotiable, and Clinton\\nand Co. know it (which is probably why they quietly developed this thing,\\nfiguring if they get it this far, they can ram it on through).  How come\\nthose consulted could be roughly described as \"us insiders\"?  They cannot\\nquietely IMPLIMENT it though, when they ban other schemes to ensure its\\nexclusive use.  Hence the nice PR document to try and reassure everyone.\\nDon\\'t buy into it.  Has government really earned that kind of trust,\\npast or future?  To be secure and free, one must keep government honest\\nand the only way to do that is to make abuse IMPOSSIBLE, not \\'unlikely\\'\\nor \\'difficult\\'.\\n\\n\\nSo what?  One could use information gained by re-use of the keys (saved\\nafter the last case was finished) or other means (master key, backdoor,\\neasily broken algorithm) to find other evidence which, given to a judge,\\nwould authorize a tap which wouldn\\'t have been possible otherwise.  This\\nhas been the more common manner of abuse of wiretaps in the past...  For\\nlocal cops, this might be workable to keep them honest, but the Feds\\nhave a workaround somehow, BET on it.  Does anyone really believe\\nfor example, that the government will use a scheme NSA cannot listen\\nin on scanning for keywords - either easily defeated in realtime or\\nvia a \\'master key\\'?  I sure don\\'t.\\n\\nThis whole thing sounds like something to eliminate the need to use\\nold-fashioned police work to build a case.  In the past, eavesdropping\\nwas rather easy (with or without a court order).  I think the Law\\nEnforcement community has become a bit spoiled, and will resist changes\\nthat require them to revert to using old-fashioned detective work.  I\\njust find it somewhat surprising coming from a bunch that cares so much\\nabout civil and individual rights, that \"puts people first\".  The question\\nis \"put people first\" to WHERE?\\n\\nWith the innards not being revealed, how is one to be sure there DOESN\\'T\\nexist a \\'master key\\' for use by NSA, etc (so they can do their keyword\\nscan, etc on conversations they routinely monitor, without a specific\\ncourt order)?   Remember, the cellular phone limitiation is only TEMPORARY.\\nBet on it.  And so far I have not heard about police telling people that\\nthey have been tapped and nothing incriminating was found.  What is to\\nkeep them from simply keeping the keys on file for \\'next time\\'? After\\nawhile, they would have quite a collection.  Kept especially for folks\\nthey deem \\'disruptive\\'.  And if they get only one key, that would\\nreduce the search space a lot, unless it is an RSA scheme.  Remember\\nNixon years?  Need for court orders really slowed them down, didn\\'t it?\\n\\nAnd unless the escrow accounts are not government controlled (fat chance!\\nI see one ending up being under, say Treasury, the other under Justice\\n:-)) it could be worth some serious bucks to some folks to get keys to\\na competitor\\'s Clinton Clipper (or descendent when this idea is expanded\\nto be used for all non-government encryption).  Enough bucks would get\\none the keys or the innards for this algorithm.  Perhaps not an important\\nconcern, but given past government behavior and the other problems...\\n\\n\\nWhat will one do when it is expanded to data storage encryption?  You\\ncan BET that if Clipper is accepted, that will be next on the agenda.\\nIt is even hinted at in the proposal - read it carefully...  Expect the\\nargumet \"well, if you got nothing to hide...\"  Fine. Then using that\\nargument, one should not object to video cameras being installed in\\nevery room of one\\'s home.  Granted - an exteme expansion of the idea but\\nthe principle holds.  Private stuff should remain private, even from a\\ngovt fishing expedition.  And laws/rules may change in the future as\\nto \\'safeguards\\'.  When it comes to the Fed Government, safeguards are\\npretty meaningless, if they want to do/get something.\\n\\nDon\\'t work so hard to give up some rather treasured rights, or establish\\nbad precidents, please.  The price could be hell to pay, later.\\n\\n\\nPeople would fight laws forbidding more NOW, but in, say two years,\\nbecause we have this \\'crisis\\' situation which MUST be addressed by some\\n\\'drastic action\\', just this added reasonable restriction will only bother\\nthose who have someting to hide... etc.  Please don\\'t buy into it.\\n\\nIf the Clinton Clipper is so very good, why not make its algrithm public\\nso many people can exchange ideas and examine it, rather than a few\\nisolated \\'respected experts\\' (respected by whom?  for what?  Perhaps a\\ncertain professor who likes key banks would be one of the selected\\nexperts... this does seem to expand on some ideas the person was\\nadvocating, if I recall :-).  How would anybody know that what the\\nexperts examine is the same as what will end up being used in the Clipper\\nChip, if it is kept secret?   Perhaps the Clipper will use a crippled\\nversion (with a \\'master key\\' provision), or features not present in the\\nversion subjected for study and evaluation by the experts.  And who\\nchooses the expertes?  The government?  No conflict of interest there...\\n:-)\\n\\nAnd isn\\'t it a REQUIREMENT for any decent encryption scheme that it NOT\\nhave its effectiveness reduced by having the algrorithm widely known?\\nI was lead to believe that one should assume the other side has everything\\nyou have, except for the key(s)... I recall ideas presented to this\\ngroup are rejected if a requirement exists the algorithm be secret...\\n\\nAnother question - since it is a safe bet this Clipper thing would not\\nbe used for government security, they are regarding it as not real secure\\nbut \"good enough\" for common folk.  I think I would like to see a full\\ndescription (not a PR non-statement) of just what \"good enough\" means?\\nI think when saying how strong it is, \"good enough\" really means \"not\\nvery\".  The excuse that other countries have these restrictions is not\\nacceptable:  Other countries do not have our Bill of Rights and\\nConstitution (which the people, not the governments, of those other\\ncountries often regard with envy - what we have as rights they have as\\nrevokable privileges).  And if we expect to retain those rights and\\nprotections, we must not allow them to be gutted because we just GOTTA\\nhave this thing to \\'fight crime\\'.  We have allready have our Bill of\\nRights pretty much torn to shreds.  We should not permit more weakining\\nfor yet another \\'noble cause\\', instead we should be trying to repair\\nthe damage.  Our crime problem may have a number of causes, but \"too\\nmany rights and safeguards\" is not a signifigant one.  A broken court\\nsystem and poor police work are a much more signifigant cause as having\\n\"too many rights\" (disregarding addressing the root causes for crime,\\netc).\\n\\nBTW - those who suggest that this is just an attack on Clinton, believe\\nthis:  I would be going ballistic reagardless WHO seriously proposed\\nthis thing.  It is just another step in a gradual erosion of our rights\\nunder the Constitution or Bill of Rights.  The last couple of decades\\nhave been a non-stop series of end-runs around the protections of the\\nConstitution.  It has to stop.  Now is as good a time as any, if it\\nisn\\'t too late allready.\\n\\n\\n'"
      ]
     },
     "metadata": {},
     "output_type": "display_data"
    },
    {
     "data": {
      "text/plain": [
       "'4) Doc similar ID: 10836, similitud coseno: 0.21260319521108376, clase: alt.atheism'"
      ]
     },
     "metadata": {},
     "output_type": "display_data"
    },
    {
     "data": {
      "text/plain": [
       "'CONTENIDO: Archive-name: atheism/faq\\nAlt-atheism-archive-name: faq\\nLast-modified: 5 April 1993\\nVersion: 1.1\\n\\n                    Alt.Atheism Frequently-Asked Questions\\n\\nThis file contains responses to articles which occur repeatedly in\\nalt.atheism.  Points covered here are ones which are not covered in the\\n\"Introduction to Atheism\"; you are advised to read that article as well\\nbefore posting.\\n\\nThese answers are not intended to be exhaustive or definitive. The purpose of\\nthe periodic FAQ postings is not to stifle debate, but to raise its level. If\\nyou have something to say concerning one of these questions and which isn\\'t\\ncovered by the answer given, please feel free to make your point.\\n\\nOverview of contents:\\n\\n   \"What is the purpose of this newsgroup?\"\\n   \"Hitler was an atheist!\"\\n   \"The Bible proves it\"\\n   \"Pascal\\'s Wager\"\\n   \"What is Occam\\'s Razor?\"\\n   \"Why it\\'s good to believe in Jesus\"\\n   \"Why I know that God exists\"\\n   \"Einstein and \"God does not play dice\"\"\\n   \"Everyone worships something\"\\n   \"Why there must be a causeless cause\"\\n   \"The universe is so complex it must have been designed\"\\n   \"Independent evidence that the Bible is true\"\\n   \"Godel\\'s Incompleteness Theorem\"\\n   \"George Bush on atheism and patriotism\"\\n   \"I know where hell is!\"\\n   \"Biblical contradictions wanted\"\\n   \"The USA is a Christian nation\"\\n   \"The USA is not a Christian nation\"\\n\\n----------------------------------------------------------------------\\n\\nSubject: What is the purpose of this newsgroup?\\n\\nTypical posting:\\n\\nWhy have a newsgroup about atheism?  Why do atheists organize in groups?  \\nWhat is there to discuss?\\n\\nResponse:\\n\\nMany things are discussed here, including:\\n\\n* Whether it is reasonable to feign theism in order to avoid upsetting one\\'s\\n  family\\n* Prayer in schools\\n* Discrimination against atheists\\n* Sunday trading laws\\n* The Satanic Child Abuse myth\\n* Whether one should be an overt atheist or \\'stay in the closet\\'\\n* How religious societies prey (sic) on new college students\\n* How to get rid of unwanted proselytizers\\n* Whether religion is a danger to society and/or the individual\\n* Why people become atheists\\n\\nOf course, inevitably alt.atheism tends to attract evangelical Christians\\nlooking for someone to convert.  Most readers of the newsgroup don\\'t \\nwant to be preached to, although a few seem to derive perverse pleasure \\nfrom tearing apart particularly ill-considered or uninformed postings.\\n\\n------------------------------\\n\\nSubject: Hitler was an atheist!\\n\\nTypical posting:\\n\\nHitler was an atheist, and look at what he did!\\n\\nResponse:\\n\\nAdolf Hitler was emphatically not an atheist.  As he said himself:\\n\\n   The folkish-minded man, in particular, has the sacred duty, each in\\n   his own denomination, of making _people_stop_just_talking_\\n   superficially_of_God\\'s_will,_and_actually_fulfill_God\\'s_will,_and_\\n   not_let_God\\'s_word_be_desecrated._[orig. ital.]\\n\\n   For God\\'s will gave men their form, their essence, and their\\n   abilities.  Anyone who destroys His work is declaring war on the\\n   Lord\\'s creation, the divine will.  Therefore, let every man be\\n   active, each in his own denomination if you please, and let every\\n   man take it as his first and most sacred duty to oppose anyone who\\n   in his activity by word or deed steps outside the confines of his\\n   religious community and tries to butt into the other.\\n\\n   [...]\\n\\n   Hence today I believe that I am acting in accordance with the will\\n   of the Almighty Creator: _by_defending_myself_against_the_Jew,_I_am_\\n   fighting_for_the_work_of_the_Lord._[orig. ital.]\\n\\n          -- Adolf Hitler, from \"Mein Kampf\", trans. Ralph Mannheim.\\n\\nOf course, someone bad believing something does not make that belief\\nwrong.  It\\'s also entirely possible that Hitler was lying when he claimed \\nto believe in God.  We certainly can\\'t conclude that he\\'s an atheist, \\nthough.\\n\\n------------------------------\\n\\nSubject: The Bible proves it\\n\\nTypical posting:\\n\\nIn the Bible it says that...\\n\\nResponse:\\n\\nMost of the readers of alt.atheism feel that the Bible is of questionable\\naccuracy, as it was written thousands of years ago by many authors who were\\nrecording oral tradition that existed many years before.  Thus, any claimed\\n\\'truth\\' in it is of questionable legitimacy.  This isn\\'t to say that The\\nBible has no truth in it; simply that any truth must be examined before being\\naccepted.\\n\\nMany of the readers of this group also feel that because any passage is\\nsubject to \"interpretation\", any claim that a passage \\'means\\' one thing and\\none thing only is not legitimate.\\n\\nNote that this feeling tends to extend to other books.\\n\\nIt is also remarkable to many atheists that theists tend to ignore other\\nequally plausible religious books in favour of those of their own religion.\\n\\n------------------------------\\n\\nSubject: Pascal\\'s Wager\\n\\nTypical posting:\\n\\nIf you believe in God and turn out to be incorrect, you have lost nothing --\\nbut if you don\\'t believe in God and turn out to be incorrect, you will go to\\nhell. Therefore it is foolish to be an atheist.\\n\\nResponse:\\n\\nThis argument is known as Pascal\\'s Wager.  It has several flaws.\\n\\nFirstly, it does not indicate which religion to follow.  Indeed, there are\\nmany mutually exclusive and contradictory religions out there.  This is often\\ndescribed as the \"avoiding the wrong hell\" problem.  If a person is a\\nfollower of religion X, he may end up in religion Y\\'s version of hell.\\n\\nSecondly, the statement that \"If you believe in God and turn out to be\\nincorrect, you have lost nothing\" is not true.  Suppose you\\'re believing in\\nthe wrong God -- the true God might punish you for your foolishness.\\nConsider also the deaths that have resulted from people rejecting medicine in\\nfavour of prayer.\\n\\nAnother flaw in the argument is that it is based on the assumption that \\nthe two possibilities are equally likely -- or at least, that they are of \\ncomparable likelihood.  If, in fact, the possibility of there being a God \\nis close to zero, the argument becomes much less persuasive.  So sadly the\\nargument is only likely to convince those who believe already.\\n\\nAlso, many feel that for intellectually honest people, belief is based on \\nevidence, with some amount of intuition.  It is not a matter of will or \\ncost-benefit analysis.\\n\\nFormally speaking, the argument consists of four statements:\\n\\n  1. One does not know whether God exists.\\n  2. Not believing in God is bad for one\\'s eternal soul if God does\\n     exist.\\n  3. Believing in God is of no consequence if God does not exist.\\n  4. Therefore it is in one\\'s interest to believe in God.\\n\\nThere are two approaches to the argument.  The first is to view 1 as an\\nassumption, and 2 as a consequence of it.  One problem with this approach, in\\nthe abstract, is that it creates information from no information.  This is\\nconsidered invalid in information theory.  Statement 1 indicates one has no\\ninformation about God -- but statement 2 indicates that beneficial information\\ncan be gained from the absolute lack of information about God.  This violates\\ninformation entropy -- information has been extracted from no information, at\\nno \"cost\".\\n\\nThe alternative approach is to claim that 1 and 2 are both assumptions.  The\\nproblem with this is that 2 is then basically an assumption which states the\\nChristian position, and only a Christian will agree with that assumption. The\\nargument thus collapses to \"If you are a Christian, it is in your interests\\nto believe in God\" -- a rather vacuous tautology, and not the way Pascal\\nintended the argument to be viewed.\\n\\nThe biggest reason why Pascal\\'s wager is a failure is that if God is\\nomniscient he will certainly know who really believes and who believes as\\na wager.  He will spurn the latter... assuming he actually cares at all\\nwhether people believe in him.\\n\\n------------------------------\\n\\nSubject: What is Occam\\'s Razor?\\n\\nTypical posting:\\n\\nPeople keep talking about Occam\\'s Razor.  What is it?\\n\\nResponse:\\n\\nWilliam of Occam formulated a principle which has become known as Occam\\'s \\nRazor.  In its original form, it said \"Do not multiply entities \\nunnecessarily.\"  That is, if you can explain something without supposing\\nthe existence of some entity, then do so.\\n\\nNowadays when people refer to Occam\\'s Razor, they generally express it \\nmore generally, for example as \"Take the simplest solution\".\\n\\nThe relevance to atheism is that we can look at two possible explanations \\nfor what we see around us:\\n\\n1. There is an incredibly intricate and complex universe out there, which\\ncame into being as a result of natural processes.\\n\\n2. There is an incredibly intricate and complex universe out there, and \\nthere is also a God who created the universe.  Clearly this God must be \\nof non-zero complexity.\\n\\nGiven that both explanations fit the facts, Occam\\'s Razor might suggest \\nthat we should take the simpler of the two -- solution number one.\\nUnfortunately, some argue that there is a third even more simple solution:\\n\\n3. There isn\\'t an incredibly intricate and complex universe out there.  \\nWe just imagine that there is.\\n\\nThis third option leads us logically towards solipsism, which many people \\nfind unacceptable.\\n \\n------------------------------\\n\\nSubject: Why it\\'s good to believe in Jesus\\n\\nTypical posting:\\n\\nI want to tell people about the virtues and benefits of my religion.\\n\\nResponse:\\n\\nPreaching is not appreciated.\\n\\nFeel free to talk about your religion, but please do not write postings that\\nare on a \"conversion\" theme.  Such postings do not belong on alt.atheism and\\nwill be rejected from alt.atheism.moderated (try the newsgroup\\ntalk.religion.misc).\\n\\nYou would doubtless not welcome postings from atheists to your favourite\\nnewsgroup in an attempt to convert you; please do unto others as you would\\nhave them do unto you!\\n\\nOften theists make their basic claims about God in the form of lengthy\\nanalogies or parables.  Be aware that atheists have heard of God and know the\\nbasic claims about him; if the sole purpose of your parable is to tell\\natheists that God exists and brings salvation, you may as well not post it,\\nsince it tells us nothing we have not been told before.\\n\\n------------------------------\\n\\nSubject: Why I know that God exists\\n\\nTypical posting:\\n\\nI *know* from personal experience and prayer that God exists.\\n\\nResponse:\\n\\nJust as many theists have personal evidence that the being they worship\\nexists, so many atheists have personal evidence that such beings do not\\nexist.  That evidence varies from person to person.\\n\\nFurthermore, without wishing to dismiss your evidence out of hand, many\\npeople have claimed all kinds of unlikely things -- that they have been\\nabducted by UFOs, visited by the ghost of Elvis, and so on.\\n\\n------------------------------\\n\\nSubject: Einstein and \"God does not play dice\"\\n\\nTypical posting:\\n\\nAlbert Einstein believed in God.  Do you think you\\'re cleverer than him?\\n\\nResponse:\\n\\nEinstein did once comment that \"God does not play dice [with the universe]\". \\nThis quotation is commonly mentioned to show that Einstein believed in the\\nChristian God.  Used this way, it is out of context; it refers to Einstein\\'s\\nrefusal to accept the uncertainties indicated by quantum theory. Furthermore,\\nEinstein\\'s religious background was Jewish rather than Christian.\\n\\nA better quotation showing what Einstein thought about God is the following:\\n\"I believe in Spinoza\\'s God who reveals himself in the orderly harmony of\\nwhat exists, not in a God who concerns himself with fates and actions of\\nhuman beings.\"\\n\\nEinstein was unable to accept Quantum Theory because of his belief in an\\nobjective, orderly reality; a reality which would not be subject to random\\nevents and which would not be dependent upon the observer.  He believed that\\nQM was incomplete, and that a better theory would have no need for\\nstatistical interpretations.  So far no such better theory has been found,\\nand much evidence suggests that it never will be.\\n\\nA longer quote from Einstein appears in \"Science, Philosophy, and Religion, A\\nSymposium\", published by the Conference on Science, Philosophy and Religion\\nin Their Relation to the Democratic Way of Life, Inc., New York, 1941.  In\\n\\n  \"The more a man is imbued with the ordered regularity of all events\\n   the firmer becomes his conviction that there is no room left by the side\\n   of this ordered regularity for causes of a different nature.  For him\\n   neither the rule of human nor the rule of divine will exists as an\\n   independent cause of natural events.  To be sure, the doctrine of a\\n   personal God interfering with natural events could never be\\n   *refuted* [italics his], in the real sense, by science, for this\\n   doctrine can always take refuge in those domains in which scientific\\n   knowledge has not yet been able to set foot.\\n\\n   But I am convinced that such behavior on the part of representatives\\n   of religion would not only be unworthy but also fatal.  For a doctrine\\n   which is to maintain itself not in clear light but only in the dark,\\n   will of necessity lose its effect on mankind, with incalculable harm\\n   to human progress.  In their struggle for the ethical good, teachers\\n   of religion must have the stature to give up the doctrine of a personal\\n   God, that is, give up that source of fear and hope which in the past\\n   placed such vast power in the hands of priests.  In their labors they\\n   will have to avail themselves of those forces which are capable\\n   of cultivating the Good, the True, and the Beautiful in humanity\\n   itself.  This is, to be sure, a more difficult but an incomparably\\n   more worthy task...\"\\n\\n\\n  \"It was, of course, a lie what you read about my religous convictions,\\n   a lie which is being systematically repeated.  I do not believe in a\\n   personal God and I have never denied this but have expressed it clearly.\\n   If something is in me which can be called religious then it is the\\n   unbounded admiration for the structure of the world so far as our\\n   science can reveal it.\"\\n\\nThe latter quote is from \"Albert Einstein: The Human Side\", edited by Helen \\nDukas and Banesh Hoffman, and published by Princeton University Press.  \\nAlso from the same book:\\n\\n  \"I do not believe in immortality of the individual, and I consider ethics\\n   to be an exclusively human concern with no superhuman authority behind \\n   it.\"\\n\\nOf course, the fact that Einstein chose not to believe in Christianity does \\nnot in itself imply that Christianity is false.\\n\\n------------------------------\\n\\nSubject: Everyone worships something\\n\\nTypical posting:\\n\\nEveryone worships something, whether it\\'s money, power or God.\\n\\nResponse:\\n\\nIf that is true, everyone is a polytheist.  Theists care just as much about\\nthose things that atheists care about.  If the atheists\\' reactions to (for\\nexample) their families amount to worship then so do the theists\\'.\\n\\n------------------------------\\n\\nSubject: Why there must be a causeless cause\\n\\nTypical posting:\\n\\nSets of integers that have a lower bound each have a smallest member, so\\nchains of causes must all have a first element, a causeless cause.\\n\\nResponse:\\n\\nThe set of real numbers greater than zero has a definite lower bound, but has\\nno smallest member.\\n\\nFurther, even if it is true that there must be a causeless cause, that does\\nnot imply that that cause must be a conscious supernatural entity, and\\nespecially not that any such entity must match the description favoured by\\nany particular religion.\\n\\n------------------------------\\n\\nSubject: The universe is so complex it must have been designed\\n\\nTypical posting:\\n\\nThe presence of design in the universe proves there is a God.  Surely you\\ndon\\'t think all this appeared here just by chance?\\n\\nResponse:\\n\\nThis is known as the Argument From Design.\\n\\nIt is a matter of dispute whether there is any element of design in the\\nuniverse. Those who believe that the complexity and diversity of living\\ncreatures on the earth is evidence of a creator are best advised to read the\\nnewsgroup talk.origins for a while.\\n\\nThere is insufficient space to summarize both sides of that debate here.\\nHowever, the conclusion is that there is no scientific evidence in favour of\\nso-called Scientific Creationism. Furthermore, there is much evidence,\\nobservation and theory that can explain many of the complexities of the\\nuniverse and life on earth.\\n\\nThe origin of the Argument by Design is a feeling that the existence of\\nsomething as incredibly intricate as, say, a human is so improbable that\\nsurely it can\\'t have come about by chance; that surely there must be some \\nexternal intelligence directing things so that humans come from the chaos\\ndeliberately.\\n\\nBut if human intelligence is so improbable, surely the existence of a mind\\ncapable of fashioning an entire universe complete with conscious beings must\\nbe immeasurably more unlikely?  The approach used to argue in favour of the\\nexistence of a creator can be turned around and applied to the Creationist\\nposition.\\n\\nThis leads us to the familiar theme of \"If a creator created the universe,\\nwhat created the creator?\", but with the addition of spiralling \\nimprobability.  The only way out is to declare that the creator was not\\ncreated and just \"is\" (or \"was\").\\n\\nFrom here we might as well ask what is wrong with saying that the universe\\njust \"is\" without introducing a creator?  Indeed Stephen Hawking, in his book\\n\"A Brief History of Time\", explains his theory that the universe is closed\\nand finite in extent, with no beginning or end.\\n\\nThe Argument From Design is often stated by analogy, in the so-called \\nWatchmaker Argument.  One is asked to imagine that one has found a watch on\\nthe beach.  Does one assume that it was created by a watchmaker, or that it\\nevolved naturally?  Of course one assumes a watchmaker.  Yet like the \\nwatch, the universe is intricate and complex; so, the argument goes, the \\nuniverse too must have a creator.\\n\\nThe Watchmaker analogy suffers from three particular flaws, over and above \\nthose common to all Arguments By Design.  Firstly, a watchmaker creates \\nwatches from pre-existing materials, whereas God is claimed to have \\ncreated the universe from nothing.  These two sorts of creation are \\nclearly fundamentally different, and the analogy is therefore rather weak.\\n\\nSecondly, a watchmaker makes watches, but there are many other things in \\nthe world.  If we walked further along the beach and found a nuclear \\nreactor, we wouldn\\'t assume it was created by the watchmaker.  The argument \\nwould therefore suggest a multitude of creators, each responsible for a \\ndifferent part of creation.\\n\\nFinally, in the first part of the watchmaker argument we conclude that \\nthe watch is not part of nature because it is ordered, and therefore \\nstands out from the randomness of nature.  Yet in the second part of the \\nargument, we start from the position that the universe is obviously not \\nrandom, but shows elements of order.  The Watchmaker argument is thus \\ninternally inconsistent.\\n\\n------------------------------\\n\\nSubject: Independent evidence that the Bible is true\\n\\nTypical posting:\\n\\nThe events of the New Testament are confirmed by independent documentary\\nevidence.  For example...\\n\\nResponse:\\n\\nThe writings of Josephus are often mentioned as independent documentary\\nevidence.\\n\\nEarly versions of Josephus\\'s work are thought not to have mentioned Jesus or\\nJames; the extant version discusses John in a non-Christian context.  Many\\nscholars believe that the original mentioned Jesus and James in passing, but\\nthat this was expanded by Christian copyists.  Several \"reconstructions\" of\\nthe original text have been published to this effect.\\n\\nMuch information appears in the Ecclesiastical History of Eusebius (about 320\\nC.E.).  It is worthless as historical material because of the deliberate\\nfalsification of the wily Eusebius who is generally acknowledged as \\'the\\nfirst thoroughly dishonest historian of antiquity.\\' It is Eusebius who is\\ngenerally given the title of authorship for this material.\\n\\nAside from the New Testament, the biographical information about Jesus is\\nmore well-documented.  For further information, please consult the Frequently\\nAsked Questions file for the newsgroup soc.religion.christian.\\n\\n------------------------------\\n\\nSubject: Godel\\'s Incompleteness Theorem\\n\\nTypical posting:\\n\\nGodel\\'s Incompleteness Theorem demonstrates that it is impossible for the\\nBible to be both true and complete.\\n\\nResponse:\\n\\nGodel\\'s First Incompleteness Theorem says that in any consistent formal \\nsystem which is sufficiently expressive that it can model ordinary \\narithmetic, one can formulate expressions which can never be proven to be \\nvalid or invalid (\\'true\\' or \\'false\\') within that formal system.  (Technically\\nspeaking, the system must also be recursive; that is, there must be a decision\\nprocedure for determining whether a given string is an axiom within the formal \\nsystem.)\\n\\nEssentially, all such systems can formulate what is known as a \"Liar \\nParadox.\"  The classic Liar Paradox sentence in ordinary English is \"This \\nsentence is false.\"  Note that if a proposition is undecidable, the formal \\nsystem cannot even deduce that it is undecidable.\\n\\nThe logic used in theological discussions is rarely well defined, so claims\\nthat Godel\\'s Incompleteness Theorem demonstrates that it is impossible to\\nprove or disprove) the existence of God are worthless in isolation.\\n\\nOne can trivially define a formal system in which it is possible to prove the\\nexistence of God, simply by having the existence of God stated as an axiom. \\nThis is unlikely to be viewed by atheists as a convincing proof, however.\\n\\nIt may be possible to succeed in producing a formal system built on axioms\\nthat both atheists and theists agree with.  It may then be possible to show\\nthat Godel\\'s Incompleteness Theorem holds for that system.  However, that\\nwould still not demonstrate that it is impossible to prove that God exists\\nwithin the system.  Furthermore, it certainly wouldn\\'t tell us anything about\\nwhether it is possible to prove the existence of God generally.\\n\\nNote also that all of these hypothetical formal systems tell us nothing about\\nthe actual existence of God; the formal systems are just abstractions.\\n\\nAnother frequent claim is that Godel\\'s Incompleteness Theorem demonstrates\\nthat a religious text (the Bible, the Book of Mormon or whatever) cannot be\\nboth consistent and universally applicable. Religious texts are not formal\\nsystems, so such claims are nonsense.\\n\\n------------------------------\\n\\nSubject: George Bush on atheism and patriotism\\n\\nTypical posting:\\n\\nDid George Bush really say that atheists should not be considered citizens?\\n\\nResponse:\\n\\nThe following exchange took place at the Chicago airport between Robert I.\\nSherman of American Atheist Press and George Bush, on August 27 1988. Sherman\\nis a fully accredited reporter, and was present by invitation as a member of\\nthe press corps.  The Republican presidential nominee was there to announce\\nfederal disaster relief for Illinois.  The discussion turned to the\\npresidential primary:\\n\\n RS: \"What will you do to win the votes of Americans who are atheists?\"\\n\\n GB: \"I guess I\\'m pretty weak in the atheist community.  Faith in\\n      God is important to me.\"\\n\\n RS: \"Surely you recognize the equal citizenship and patriotism of\\n      Americans who are atheists?\"\\n\\n GB: \"No, I don\\'t know that atheists should be considered as citizens,\\n      nor should they be considered patriots.  This is one nation under\\n      God.\"\\n\\n RS: \"Do you support as a sound constitutional principle the separation\\n      of state and church?\"\\n\\n GB: \"Yes, I support the separation of church and state.  I\\'m just not\\n      very high on atheists.\"\\n\\nUPI reported on May 8, 1989, that various atheist organizations were\\nstill angry over the remarks.\\n\\nThe exchange appeared in the Boulder Daily Camera on Monday February 27,\\n1989.  It can also be found in \"Free Enquiry\" magazine, Fall 1988 issue,\\nVolume 8, Number 4, page 16.\\n\\nOn October 29, 1988, Mr. Sherman had a confrontation with Ed Murnane,\\ncochairman of the Bush-Quayle \\'88 Illinois campaign.  This concerned a\\nlawsuit Mr. Sherman had filed to stop the Community Consolidated School\\nDistrict 21 (Chicago, Illinois) from forcing his first-grade Atheist son to\\npledge allegiance to the flag of the United States as \"one nation under God\"\\n(Bush\\'s phrase).  The following conversation took place:\\n \\n RS: \"American Atheists filed the Pledge of Allegiance lawsuit yesterday.\\n      Does the Bush campaign have an official response to this filing?\"\\n \\n EM: \"It\\'s bullshit.\"\\n \\n RS: \"What is bullshit?\"\\n \\n EM: \"Everything that American Atheists does, Rob, is bullshit.\"\\n \\n RS: \"Thank you for telling me what the official position of the Bush\\n      campaign is on this issue.\"\\n\\n EM: \"You\\'re welcome.\"\\n\\nAfter Bush\\'s election, American Atheists wrote to Bush asking him to retract\\nhis statement.  On February 21st 1989, C. Boyden Gray, Counsel to the\\nPresident, replied on White House stationery that Bush substantively stood by\\n\\n  \"As you are aware, the President is a religious man who neither supports\\n   atheism nor believes that atheism should be unnecessarily encouraged or\\n   supported by the government.\"\\n\\nFor further information, contact American Atheist Veterans at the American\\nAtheist Press\\'s Cameron Road address.\\n\\n------------------------------\\n\\nSubject: I know where hell is!\\n\\nTypical posting:\\n\\nI know where Hell is!  Hell is in Norway!\\n\\nResponse:\\n\\nThere are several towns called \"Hell\" in various countries around the\\nworld, including Norway and the USA.  Whilst this information is mildly\\namusing the first time one hears it, readers of alt.atheism are now \\ngetting pretty fed up with hearing it every week.\\n\\n------------------------------\\n\\nSubject: Biblical contradictions wanted\\n\\nTypical posting:\\n\\nDoes anyone have a list of Biblical contradictions?\\n\\nResponse:\\n \\nAmerican Atheist Press publish an atheist\\'s handbook detailing Biblical\\ncontradictions. See the accompanying posting on Atheist Resources for\\ndetails.\\n\\nThere is a file containing some Biblical contradictions available from the\\narchive-server@mantis.co.uk. See the contacts file for more information.\\n\\n------------------------------\\n\\nSubject: The USA is a Christian nation\\n\\nTypical posting:\\n\\nBecause of the religious beliefs of the founding fathers, shouldn\\'t the\\nUnited States be considered a Christian nation?\\n\\nResponse:\\n\\nBased upon the writings of several important founding fathers, it is clear\\nthat they never intended the US to be a Christian nation.  Here are some\\nquotes; there are many more.\\n\\n  \"What influence, in fact, have ecclesiastical establishments had on society?\\n   In some instances they have been seen to erect a spiritual tyranny on the\\n   ruins of the civil authority; on many instances they have been seen\\n   upholding the thrones of political tyranny; in no instance have they been\\n   the guardians of the liberties of the people.  Rulers who wish to subvert\\n   the public liberty may have found an established clergy convenient\\n   auxiliaries. A just government, instituted to secure and perpetuate it,\\n   needs them not.\"\\n      - James Madison, \"A Memorial and Remonstrance\", 1785\\n\\n  \"I almost shudder at the thought of alluding to the most fatal example of\\n   the abuses of grief which the history of mankind has preserved--the Cross.\\n   Consider what calamities that engine of grief has produced!\"\\n      - John Adams, in a letter to Thomas Jefferson\\n\\n  \"History I believe furnishes no example of a priest-ridden people\\n   maintaining a free civil government.  This marks the lowest grade of\\n   ignorance, of which their political as well as religious leaders will\\n   always avail themselves for their own purpose.\"\\n\\n      - Thomas Jefferson to Baron von Humboldt, 1813\\n\\n  \"I cannot conceive otherwise than that He, the Infinite Father, expects or\\n   requires no worship or praise from us, but that He is even infinitely\\n   above it.\"\\n\\n      - Benjamin Franklin, from \"Articles of Belief and Acts of Religion\",\\n        Nov. 20, 1728\\n\\n------------------------------\\n\\nSubject: The USA is not a Christian nation\\n\\nTypical posting:\\n\\nIs it true that George Washington said that the United States is not in any\\nsense founded upon the Christian religion?\\n\\nResponse:\\n\\nNo.  The quotation often given is in fact from Article XI of the 1797 Treaty\\nof Tripoli (8 Stat 154, Treaty Series 358):\\n\\n   Article 11\\n\\n   As the government of the United States of America is not in any sense\\n   founded on the Christian Religion, -- as it has in itself no character of\\n   enmity against the laws, religion or tranquility of Musselmen, -- and as\\n   the said States never have entered into any war or act of hostility\\n   against any Mehomitan nation, it is declared by the parties that no\\n   pretext arising from religious opinions shall ever produce an interruption\\n   of the harmony existing between the two countries.\\n\\nThe text may be found in the Congressional Record or in treaty collections\\nsuch as Charles Bevans\\' \"Treaties and Other International Agreements of the\\nUnited States of America 1776-1949\", vol. 11 (pp. 1070-1080).\\n\\nThe English text of the Treaty of Tripoli was approved by the U.S. Senate on\\nJune 7, 1797 and ratified by President John Adams on June 10, 1797.  It was\\nrecently discovered that the Arabic version of the treaty not only lacks the\\nquotation, it lacks Article XI altogether.\\n\\nThe person who translated the Arabic to English was Joel Barlow, Consul\\nGeneral at Algiers, a close friend of Thomas Paine -- and an opponent of\\nChristianity.  It is possible that Barlow made up Article XI, but since there\\nis no Arabic version of that article to be found, it\\'s hard to say.\\n\\nIn 1806 a new Treaty of Tripoli was ratified which no longer contained the\\nquotation.\\n'"
      ]
     },
     "metadata": {},
     "output_type": "display_data"
    },
    {
     "data": {
      "text/plain": [
       "'5) Doc similar ID: 2350, similitud coseno: 0.21107117783786433, clase: sci.crypt'"
      ]
     },
     "metadata": {},
     "output_type": "display_data"
    },
    {
     "data": {
      "text/plain": [
       "\"CONTENIDO: Archive-name: net-privacy/part1\\nLast-modified: 1993/3/3\\nVersion: 2.1\\n\\n\\nIDENTITY, PRIVACY, and ANONYMITY on the INTERNET\\n================================================\\n\\n(c) 1993 L. Detweiler.  Not for commercial use except by permission\\nfrom author, otherwise may be freely copied.  Not to be altered. \\nPlease credit if quoted.\\n\\nSUMMARY\\n=======\\n\\nInformation on email and account privacy, anonymous mailing and \\nposting, encryption, and other privacy and rights issues associated\\nwith use of the Internet and global networks in general.\\n\\n(Search for <#.#> for exact section. Search for '_' (underline) for\\nnext section.)\\n\\nPART 1\\n====== (this file)\\n\\nIdentity\\n--------\\n<1.1> What is `identity' on the internet?\\n<1.2> Why is identity (un)important on the internet?\\n<1.3> How does my email address (not) identify me and my background?\\n<1.4> How can I find out more about somebody from their email address?\\n<1.5> Why is identification (un)stable on the internet? \\n<1.6> What is the future of identification on the internet?\\n\\nPrivacy\\n-------\\n<2.1> What is `privacy' on the internet?\\n<2.2> Why is privacy (un)important on the internet?\\n<2.3> How (in)secure are internet networks?\\n<2.4> How (in)secure is my account?\\n<2.5> How (in)secure are my files and directories?\\n<2.6> How (in)secure is X Windows?\\n<2.7> How (in)secure is my email?\\n<2.8> How am I (not) liable for my email and postings?\\n<2.9> How do I provide more/less information to others on my identity?\\n<2.10> Who is my sysadmin?  What does s/he know about me?\\n<2.11> Why is privacy (un)stable on the internet?\\n<2.12> What is the future of privacy on the internet?\\n\\nAnonymity\\n---------\\n<3.1> What is `anonymity' on the internet?\\n<3.2> Why is `anonymity' (un)important on the internet?\\n<3.3> How can anonymity be protected on the internet?\\n<3.4> What is `anonymous mail'?\\n<3.5> What is `anonymous posting'?\\n<3.6> Why is anonymity (un)stable on the internet?\\n<3.7> What is the future of anonymity on the internet?\\n\\n\\nPART 2\\n====== (next file)\\n\\nResources\\n---------\\n\\n<4.1> What UNIX programs are related to privacy?\\n<4.2> How can I learn about or use cryptography?\\n<4.3> What is the cypherpunks mailing list?\\n<4.4> What are some privacy-related newsgroups?  FAQs?\\n<4.5> What is internet Privacy Enhanced Mail (PEM)?\\n<4.6> What are other Request For Comments (RFCs) related to privacy?\\n<4.7> How can I run an anonymous remailer?\\n<4.8> What are references on privacy in email?\\n<4.9> What are some email, Usenet, and internet use policies?\\n<4.10> What is the MIT ``CROSSLINK'' anonymous message TV program?\\n\\nMiscellaneous\\n-------------\\n\\n<5.1> What is ``digital cash''?\\n<5.2> What is a ``hacker'' or ``cracker''?\\n<5.3> What is a ``cypherpunk''?\\n<5.4> What is `steganography' and anonymous pools?\\n<5.5> What is `security through obscurity'?\\n<5.6> What are `identity daemons'?\\n<5.7> What standards are needed to guard electronic privacy?\\n\\nIssues\\n------\\n\\n<6.1> What is the Electronic Frontier Foundation (EFF)?\\n<6.2> Who are Computer Professionals for Social Responsibility (CPSR)?\\n<6.3> What was `Operation Sun Devil' and the Steve Jackson Game case?\\n<6.4> What is Integrated Services Digital Network (ISDN)?\\n<6.5> What is the National Research and Education Network (NREN)?\\n<6.6> What is the FBI's proposed Digital Telephony Act?\\n<6.7> What other U.S. legislation is related to privacy on networks?\\n<6.8> What are references on rights in cyberspace?\\n<6.9> What is the Computers and Academic Freedom (CAF) archive?\\n\\nFootnotes\\n---------\\n\\n<7.1> What is the background behind the Internet?\\n<7.2> How is Internet `anarchy' like the English language?\\n<7.3> Most Wanted list\\n<7.4> Change history\\n\\n\\nPART 3\\n====== (last file)\\n\\nAnonymizing\\n-----------\\n\\n<8.1> What are some known anonymous remailing and posting sites?\\n<8.2> What are the responsibilities associated with anonymity?\\n<8.3> How do I `kill' anonymous postings?\\n<8.4> What is the history behind anonymous posting servers?\\n<8.5> What is the value of anonymity?\\n<8.6> Should anonymous posting to all groups be allowed?\\n<8.7> What should system operators do with anonymous postings?\\n<8.8> What is going on with anon.penet.fi maintained by J. Helsingius?\\n\\n\\n* * *\\n\\n\\nIDENTITY\\n========\\n\\n_____\\n<1.1> What is `identity' on the internet?\\n\\n  Generally, today people's `identity' on the internet is primarily\\n  determined by their email address in the sense that this is their\\n  most unchanging 'face' in the electronic realm.   This is your\\n  login name qualified by the complete address domain information,\\n  for example ``ld231782@longs.lance.colostate.edu''.  People see\\n  this address when receiving mail or reading USENET posts from you\\n  and in other situations where programs record usage.  Some obsolete\\n  forms of addresses (such as BITNET) still persist.\\n\\n  In email messages, additional information on the path that a message\\n  takes is prepended to the message received by the recipient.  This\\n  information identifies the chain of hosts involved in the\\n  transmission and is a very accurate trace of its origination.  This\\n  type of identify-and-forward protocol is also used in the USENET\\n  protocol to a lesser extent.  Forging these fields requires\\n  corrupted mailing software at sites involved in the forwarding and\\n  is very uncommon.  Not so uncommon is forging the chain at the\\n  origination point, so that all initial sites in the list are faked\\n  at the time the message is created.  Tracing these messages can be\\n  difficult or impossible when the initial faked fields are names of\\n  real machines and represent real transfer routes.\\n\\n_____\\n<1.2> Why is identity (un)important on the internet?\\n\\n  The concept of identity is closely intertwined with communication,\\n  privacy, and security, which in turn are all critical aspects of\\n  computer networks. For example, the convenience of communication\\n  afforded by email would be impossible without conventions for\\n  identification.  But there are many potential abuses of identity\\n  possible that can have very severe consequences, with massive\\n  computer networks at the forefront of the issue, which can\\n  potentially either exacerbate or solve these problems.\\n\\n  Verifying that an identity is correct is called `authentication',\\n  and one classic example of the problems associated with it is\\n  H.G.Well's ``War of the Worlds'' radio broadcast that fooled\\n  segments of the population into thinking that an alien invasion was\\n  in progress.  Hoaxes of this order are not uncommon on Usenet and\\n  forged identities makes them more insidious.  People and their\\n  reputations can be assaulted by forgery.\\n\\n  However, the fluidity of identity on the internet is for some one of\\n  its most attractive features. Identity is just as useful as it is\\n  harmful.  A professor might carefully explain a topic until he\\n  finds he is talking to an undergraduate. A person of a particular\\n  occupation may be able to converse with others who might normally\\n  shun him.  Some prejudices are erased, but, on the other hand, many\\n  prejudices are useful!  A scientist might argue he can better\\n  evaluate the findings of a paper as a reviewer if he knows more\\n  about the authors.  Likewise, he may be more likely to reject it\\n  based on unfair or irrelevant criteria.  On the other side of the\\n  connection,  the author may find identities of reviewers useful in\\n  exerting pressure for acceptance.\\n\\n  Identity is especially crucial in establishing and regulating\\n  `credit' (not necessarily financial) and `ownership' and `usage'. \\n  Many functions in society demand reliable and accurate techniques\\n  for identification. Heavy reliance will be placed on digital\\n  authentication as global economies become increasingly electronic. \\n  Many government functions and services are based on identification,\\n  and law enforcement frequently hinges on it.  Hence, employees of\\n  many government organizations push toward stronger identification\\n  structures.  But when does identification invade privacy?\\n\\n  The growth of the internet is provoking social forces of massive\\n  proportions. Decisions made now on issues of identity will affect\\n  many future users, especially as the network becomes increasingly\\n  global, universal, widespread, and entrenched; and the positive or\\n  adverse affects of these actions, intended and inadvertent,  will\\n  literally be magnified exponentially.\\n\\n_____\\n<1.3> How does my email address (not) identify me and my background?\\n\\n  Your email address may contain information that influences people's\\n  perceptions of your background.  The address may `identify' you as\\n  from a department at a particular university, an employee at a\\n  company, or a government worker.  It may contain your last name,\\n  initials, or cryptic identification codes independent of both.  In\\n  the US some are based on parts of social security numbers.  Others\\n  are in the form 'u2338' where the number is incremented in the\\n  order that new users are added to the system.\\n\\n  Standard internet addresses  also can contain information  on your\\n  broad geographical location or nationhood.  However, none of this\\n  information is guaranteed to be correct or be there at all.  The\\n  fields in the domain qualification of the username are based on\\n  rather arbitrary organization, such as (mostly invisible) network\\n  cabling distributions.  The only point to make is that early fields\\n  in the address are more specific (such as specific computer names\\n  or local networks) and the later ones the most general (such as\\n  continental domains).  Typically the first field is the name of the\\n  computer receiving mail.\\n\\n  Gleaning information from the email address alone is sometimes an\\n  inspired art or an inconsistent and futile exercise.  (For more\\n  information, see the FAQs on email  addresses and known\\n  geographical distributions below.)  However, UNIX utilities exist\\n  to aid in the quest (see the question on this).\\n\\n  Common Suffixes\\n  ---------------\\n\\n  .us    United States\\n  .uk    United Kingdom\\n  .ca    Canada\\n  .fi    Finland\\n  .au    Australia\\n\\n  .edu   university or college\\n  .com   commercial organization\\n  .org   'other' (e.g. nonprofit organization)\\n  .gov   government\\n  .mil   military site\\n \\n_____\\n<1.4> How can I find out more about somebody with a given email address?\\n\\n  One simple way is to send email to that address, asking.  Another\\n  way is to send mail to the postmaster at that address (i.e.\\n  postmaster@address), although the postmaster's job is more to help\\n  find user ID's of particular people given their real name and solve\\n  mail routing problems.  The sysadmin (i.e. `root@address') may also\\n  be able to supply information.  Users with related email address\\n  may have information.  However, all of these methods rely on the\\n  time and patience of others so use them minimally.\\n\\n  One of the most basic tools for determining identity over the\\n  internet is the UNIX utility 'finger'.  The basic syntax is:\\n\\n    finger user@here.there.everywhere\\n\\n  This utility uses communication protocols to query the computer\\n  named in the address for information on the user named.  The\\n  response is generated completely by the receiving computer and may\\n  be in any format.  Possible responses are as follows:\\n\\n  - A message `unknown host' meaning some aspect of the address is\\n    incorrect, two lines with no information and '???'.\\n  \\n  - A message 'In real life: ???' in which case the receiving computer\\n    could not find any kind of a match on the username. The finger\\n    utility may return this response in other situations.\\n  \\n  - A listing of information associated with multiple users. Some\\n    computers will search only for matching user IDs, others will\\n    attempt to find the username you specified as a substring of all\\n    actual full names of users kept in a local database.\\n  \\n  At some sites 'finger' can be used to get a list of all users on the\\n  system with a `finger @address'.  In general this is often\\n  considered weak security, however, because `attackers' know valid\\n  user ID's to `crack' passwords.\\n\\n  More information on the fields returned by `finger' is given below. \\n  More information on `finger' and locating people's email addresses\\n  is given in the email FAQ (such as the WHOIS lookup utility).  Just\\n  as you can use these means to find out about others, they can use\\n  them to find out about you.  You can `finger' yourself to find out\\n  what is publicly reported by your UNIX system about you.  Be\\n  careful when modifying `finger' data; virtually anyone with\\n  internet access worldwide can query this information.  In one\\n  amazing case, the New York Times writer J. Markoff uncovered the\\n  identity of R. Morris, author of the Internet Worm,  through\\n  the use of an anonymous tip and 'finger'.  See the book Cyberspace\\n  by K. Hafner and J. Markoff.\\n\\n_____\\n<1.5> Why is identification (un)stable on the internet?\\n\\n  Generally, identity is an amorphous and almost nonexistent concept\\n  on the Internet for a variety of reasons.  One is the inherent\\n  fluidity of `cyberspace' where people emerge and submerge\\n  frequently, and absences are not readily noted in the `community'. \\n  Most people remember faces and voices, the primary means of casual\\n  identification in the 'real world'.  The arbitary and cryptic \\n  sequences of letters and digits comprising most email addresses are\\n  not particularly noticeable or memorable and far from a unique\\n  identification of an individual, who may use multiple accounts on\\n  multiple machines anywhere in the world.\\n\\n  Currently internet users do not really have any great assurances\\n  that the messages in email and USENET are from who they appear to\\n  be. A person's mailing address is far from an identification of an\\n  individual.  \\n  \\n  - Anyone with access to the account, e.g. they know the password,\\n    either legitimately or otherwise, can send mail with that address\\n    in the From: line.\\n  \\n  - Email addresses for an individual tend to change frequently as\\n    they switch jobs or make moves inside their organizations. \\n\\n  - As part of current mailing protocol standards, forging the From:\\n    line in mail messages is a fairly trivial operation for many\\n    hackers.\\n    \\n  The status and path information prepended to messages by\\n  intermediate hosts is generally unforgeable. In general, while\\n  possible, forgeries are fairly rare on most newsgroups and in\\n  email.  Besides these pathological cases abve there are many basic\\n  problems with today's internet protocols affecting identification\\n  on the internet:\\n\\n  - Internet mail standards, described in RFC-822, are still evolving\\n    rapidly and not entirely orderly.  For example, standards for\\n    mail address `munging' or `parsing' tend to vary slightly between\\n    sites and frequently mean the difference between finding\\n    addresses and bouncing mail.\\n  \\n  - Domain names and computer names are frequently changed at sites,\\n    and there are delays in the propagation of this data.\\n  \\n  - Addresses cannot be resolved when certain critical computers\\n    crash, such as the receiving computer or other computers involved\\n    in resolving names into addresses called `nameservers'. \\n  \\n  - A whole slew of problems is associated with  `nameservers'; if\\n    they are not updated they will not find name addresses, and even\\n    the operation of what constitutes `updating' has different\\n    interpretations at different sites.\\n  \\n  The current internet mailing and addressing protocols are slightly\\n  anachronistic in that they were created when the network was\\n  somewhat obscure and not widespread, with only a fraction of the\\n  traffic it now sees.  Today a large proportion of internet traffic\\n  is email, comprising  millions of messages.\\n\\n_____\\n<1.6> What is the future of identification on the internet?\\n\\n  Some new technologies and standards are introducing facial images\\n  and voice messages  into mail and these will improve the sense of\\n  community that comes from the familiarity of identification.\\n  However, they are not currently widespread, require large amounts\\n  of data transfer, standardized software, and make some compromises\\n  in privacy.\\n\\n  Promising new cryptographic techniques may make 'digital signatures'\\n  and 'digital authentication' common (see below).  Also, the trend\\n  in USENET standards is toward greater authentication of posted\\n  information.  On the other hand, advances in ensuring anonymity\\n  (such as remailers) are forthcoming.  See below.\\n\\n\\nPRIVACY\\n=======\\n\\n_____\\n<2.1> What is `privacy' on the internet?\\n\\n  Generally, while `privacy' has multiple connotations in society and\\n  perhaps even more on the internet, in cyberspace most take it to\\n  mean that you have exclusive use and access to your account and the\\n  data stored on and and directed to it (such as email), and you do\\n  not encounter arbitrary restrictions or searches.  In other words, \\n  others may obtain data associated with your account, but not\\n  without your permission.  These ideas are probably both fairly\\n  limiting and liberal in their scope in what most internet users\\n  consider their private domains.  Some users don't expect or want\\n  any privacy, some expect and demand it.\\n\\n_____\\n<2.2> Why is privacy (un)important on the internet?\\n\\n  This is a somewhat debatable and inflammatory topic, arousing\\n  passionate opinions.  On the internet, some take privacy for\\n  granted and are rudely surprised to find it tenuous or nonexistent.\\n  Most governments have rules that protect privacy (such as the\\n  illegal search and seizure clause of the U.S. constitution, adopted\\n  by others) but have many that are antithetical to it (such as laws\\n  prohibiting secret communications or allowing wiretapping). These\\n  rules generally carry over to the internet with few specific rules\\n  governing it.  However, the legal repercussions of the global\\n  internet are still largely unknown and untested (i.e. no strong\\n  legal precedents and court cases).  The fact that internet traffic\\n  frequently passes past international boundaries, and is not\\n  centrally managed, significantly complicates and strongly\\n  discourages its regulation.\\n\\n_____\\n<2.3> How (in)secure are internet networks?\\n\\n  - `Theoretically' people at any site in the chain of sites with\\n    access to hardware and network media that transmits data over the\\n    Internet  could potentially monitor or archive it. However, the\\n    sheer volume and general 'noise' inherent to this data makes\\n    these scenarios highly improbable, even by government agencies\\n    with supposedly vast funding and resources.\\n  \\n  - Technologies exist to `tap' magnetic fields given off by\\n    electrical wires without detection.  Less obscurely, any machine\\n    with a network connection is a potential station for traffic\\n    detection, but this scenario requires knowledge and access to\\n    very low-level hardware (the network card) to pursue, if even\\n    possible.\\n  \\n  - A company Network General Inc. is one of many that manufactures\\n    and markets sophisticated network monitoring tools that can\\n    'filter' and read packets by arbitrary criteria for\\n    troubleshooting purposes, but the cost of this type of device is\\n    prohibitive for casual use.\\n\\n  Known instances of the above types of security  breaches at a major\\n  scale (such as at network hubs) are very rare. The greatest risks\\n  tend to emerge locally.  Note that all these approaches are almost\\n  completely defused with the use of cryptography.\\n    \\n_____\\n<2.4> How (in)secure is my account?\\n\\n  By default, not very.  There are a multitude of factors that may\\n  reinforce or compromise aspects of your privacy on the internet. \\n  First, your account must be secure from other users. The universal\\n  system is to use a password, but if it is `weak' (i.e. easy to\\n  guess) this security is significantly diminished.  Somewhat\\n  surprisingly and frighteningly to some, certain  users of the\\n  system, particularly the administrator, generally have unlimited\\n  access regardless of passwords, and may grant that access to\\n  others.  This means that they may read any file in your account\\n  without detection.\\n\\n  Furthermore, not universally known, most UNIX systems keep fairly\\n  extensive accounting records of when and where you logged in, what\\n  commands you execute, and when they are executed (in fact, login\\n  information is usually public). Most features of this `auditing' or\\n   `process accounting' information are enabled by default after the\\n  initial installation and the system administrator may customize it\\n  to strengthen or weaken it to satisfy performance or privacy aims. \\n  This information is frequently consulted for troubleshooting\\n  purposes and may otherwise be ignored.  This data tracks\\n  unsuccessful login attempts and other 'suspicious' activities on\\n  the system. A traditional part of the UNIX system that tracks user\\n  commands is easily circumvented by the user with the use of\\n  symbolic links (described  in 'man ln').\\n  \\n  UNIX implementations vary widely particularly in tracking features\\n  and new sophisticated mechanisms are introduced by companies\\n  regularly. Typically system adminstrators augment the basic UNIX\\n  functionality with public-domain programs and locally-developed\\n  tools for monitoring, and use them only to isolate `suspicious'\\n  activity as it arises (e.g. remote accesses to the 'passwd' file, incorrect\\n  login attempts, remote connection attempts, etc.).\\n  \\n  Generally, you should expect little privacy on your account for\\n  various reasons:\\n  \\n  - Potentially, every keystroke you type could be intercepted by\\n    someone else. \\n\\n  - System administrators make extensive backups that are completely\\n    invisible to users which may record the states of an account over\\n    many weeks. \\n\\n  - Erased files can, under many operating systems, be undeleted. \\n\\n  - Most automated services keep logs of use for troubleshooting or\\n    otherwise; for example FTP sites usually log the commands and\\n    record the domain originations of users, including anonymous\\n    ones.\\n\\n  - Some software exacerbates these problems.  See the section on\\n    ``X Windows (in)security''.\\n\\n  Indepedent of malevolent administrators are fellow users, a much\\n  more commonly harmful threat. There are multiple ways to help\\n  ensure that your account will not be accessed by others, and\\n  compromises can often be traced to failures in these guidelines:\\n\\n  - Choose a secure password.  Change it periodically.\\n  - Make sure to logout always.\\n  - Do not leave a machine unattended for long.\\n  - Make sure no one watches you when you type your password.\\n  - Avoid password references in email.\\n  - Be conservative in the use of the .rhost file.\\n  - Use utilities like `xlock' to protect a station, but be\\n    considerate.\\n\\n  Be wary of situations where you think you should supply your\\n  password.  There are only several basic situations where UNIX\\n  prompts you for a password: when you are logging in to a system or\\n  changing your password.  Situations can arise in which prompts for\\n  passwords are forged by other users, especially in cases where you\\n  are talking to them (such as Internet Relay Chat).  Also, be  aware\\n  that forged login screens are one method to illegitimately obtain \\n  passwords.\\n\\n\\n  (Thanks to Jim Mattson <mattson@cs.ucsd.edu> for contributions\\n  here.)\\n\\n_____\\n<2.5> How (in)secure are my files and directories?\\n\\n  The most important privacy considerations are related to file\\n  rights, and many lapses can be traced to their misunderstood nature\\n  or haphazard maintenance. Be aware of the rights associated with\\n  your files and directories in UNIX. If the `x' (`execute') right on\\n  your parent directory is off for users, groups, and other, these\\n  users cannot gain information on anything in your directories. \\n  Anything less may allow others to read, change, or even delete\\n  files in your home directory. The rights on a directory supersede\\n  the rights associated with files in that directory. For a\\n  directory, 'x' means that access to the files (or subdirectories)\\n  in the directory is possible -- if you know their names.  To list\\n  the contents of the directory, however, requires the 'r' right.\\n \\n  By default most accounts are accessable only to the owner, but the\\n  initial configuration varies between sites based on administrator\\n  preference.  The default file mode specifies the initial rights\\n  associated with newly created files, and can be set in the shell\\n  with `umask'.  The details of rights implementations tend to vary\\n  between versions of UNIX.  Consult man pages on `chmod' and `ls'.\\n\\n  Examples\\n  --------\\n\\n    traver.lance % ls -ld ~\\n    drwx------ 15 ld231782     1536 Jan 31 21:22 /users/ld231782/\\n\\n  Here is a listing of the rights associated with a user's home\\n  directory, denoted by `~'.  The columns at the left identify what\\n  rights are available. The first column identifies the entry as a\\n  directory, and the next three columns mean that read, write, and\\n  execute rights, respectively, are permitted for that user.  For\\n  directories, the `x' right means that contents (file and\\n  subdirectory names) within that directory can be listed. The\\n  subsequent columns indicate that no other users have any rights to\\n  anything in the directory tree originating at that point.  They\\n  can't even `see' any lower files or subdirectories; the hierarchy\\n  is completely invisible to them.\\n\\n    traver.lance % ls -l msg\\n    -rw-r--r--  1 ld231782   35661 Jan 29 23:13 msg\\n    traver.lance % chmod u=rw,g=,o= msg\\n    traver.lance % ls -l msg\\n    -rw-------  1 ld231782   35661 Jan 29 23:13 msg\\n\\n  Here the modes on the file `msg' were changed to take away rights\\n  from `group' and `other'. \\n  \\n  Note that `ls -l <file>' requires both the 'r' right to get the list\\n  of files and subdirectories, and the 'x' right to access the files\\n  and subdirectories in order to get their size, etc. For example,\\n  suppose the directory `foo' has rights dr--r--r--,  the following\\n  is possible:\\n\\n    ls foo\\n\\n  These commands would fail independent of file rights:\\n  \\n    ls -l foo\\n    ls -l foo/file\\n    cat foo/file\\n    cd foo\\n\\n  If the directory `foo' has rights d--x--x--x, the following are\\n  possible if it is known beforehand that `foo' contains an 'r'\\n  readable file named `file':\\n  \\n    ls -l foo/file\\n    cat foo/file\\n    cd foo\\n  \\n  The following commands fail:\\n  \\n    ls foo\\n    ls -l foo\\n  \\n\\n  (Thanks to Uwe Waldmann <uwe@mpi-sb.mpg.de> for contributions here.)\\n\\n_____\\n<2.6> How (in)secure is X Windows?\\n\\n  X Windows is the primary software developed by the MIT Athena\\n  project which is funded by U.S. government grants to develop\\n  applications to harness the power of networks in enhancing\\n  computational tasks, particularly the human-computer interface. \\n  The software implements a client-server interface to a computer via\\n  graphical windows. In this case the `client' is the application\\n  requesting or utilizing  graphical resources (such as windows or a\\n  mouse) and the `server' is the machine that provides them.  In many\\n  situations the client is an application program running on the same\\n  machine as the server.\\n\\n  The great utility of X Windows comes from its complete dissociation\\n  of the client and server so that windows may be `broadcast' to a\\n  server at a remote location from the  client. Unfortunately this\\n  dynamic power also introduces many deep, intricate, and complicated\\n  security considerations.  The primary security and privacy issue\\n  associated with X Windows is that much more sensitive data may be\\n  sent over a network, and over wider regions, than in the case where\\n  the human is situated near the host computer.  Currently there is\\n  no encryption of data such as screen updates and keystrokes in X\\n  Windows.\\n\\n  Due to either intentional design decisions or unintentional design\\n  flaws,  early versions of the X Window system are extremely\\n  insecure. Anyone with an account on the server machine can disrupt\\n  that display or read it electronically based on access to the\\n  device unix:0.0 by any regular user.   There are no protections\\n  from this type of access in these versions.   The problem arises\\n  because the security is completely based on machine addresses\\n  rather than users, such that any user at a `trusted' machine is\\n  himself trusted. Quoting from X documentation (man Xsecurity):\\n  \\n  > Any client on a host in the host access control list is allowed\\n  > access to the X server. This system can work reasonably well in\\n  > an environment where everyone trusts everyone, or when only a\\n  > single person can log into a given machine...This system does not\\n  > work well when multiple people can log in to a single machine and\\n  > mutual trust does not exist. \\n  \\n  With the access control list, the `xhost' command may prevent some\\n  naive attempts (i.e. those other than the direct-access unix:0.0\\n  evasion); the syntax as typed on the host machine is  ``xhost\\n  +[name]'' where [name] is the domain name or internet address of an\\n  authorized client machine. By default clients running nonlocal to\\n  the host are disabled.  Public domain programs to disrupt a display\\n  momentarily (such as 'flip' or slowly mirror the screen image, or\\n  cause pixels to 'melt' down to the bottom) have been circulating on\\n  the internet among hackers for several years and played as pranks\\n  on unsuspecting or inexperienced users.  Much more serious security\\n  breaches are conceivable from similar mechanisms exploiting this\\n  inherent weaknesses.  (The minimal, easily-bypassed `trusted'\\n  security mode of `xhost' has been jokingly referred to as ``X\\n  Hanging Open, Security Terrible.''). \\n\\n  New versions of the X Window system (X11R5 and higher) by default \\n  make server access as secure as the file system using a .Xauthority\\n  file and 'magic cookies'.  Remote machines must have a code in the\\n  .Xauthority file in the home directory that matches the code\\n  allowed by the server.  Many older programs and even new\\n  vendor-supplied code does not support or is incompatible with\\n  `magic cookies'. The basic magic cookie mechanism is vulnerable to\\n  monitoring techniques described earlier because no encryption of\\n  keys occurs in transmission.  X11R5 also includes other\\n  sophisticated encryption mechanisms.  Try `man Xsecurity' to find\\n  out what is supported at your site.  Even though improved security \\n  mechanisms have been available in X Windows since ~1990, local\\n  sites often update this software infrequently because installation\\n  is extremely complex.\\n\\n\\n  (Thanks to Marc Vanheyningen <mvanheyn@whale.cs.indiana.edu>, \\n  Jim Mattson <mattson@cs.ucsd.edu>, and Bill Marshall\\n  <marshall@cs.iastate.edu> for contributions here.)\\n\\n_____\\n<2.7> How (in)secure is my email?\\n\\n  By default, not very.  The characters that you are reading are\\n  almost certainly encoded in ASCII, the American Standard Code for\\n  Information Interchange that maps alphabetic and symbolic\\n  characters onto numeric codes and vice versa.  Virtually every\\n  computer system uses this code, and if not, has ways of converting\\n  to and from it.  When you write a mail message, by default it is\\n  being sent in ASCII,  and since the standard is virtually\\n  universal, there is no intrinsic privacy.  Despite milleniums worth\\n  of accumulated cryptographic knowledge, cryptographic technologies\\n  are only recently being established that afford high priority to\\n  privacy as a primary criteria in computer and network design.  Some\\n  potential pitfalls in privacy are as follows:\\n\\n  - The most serious threats are instances of immature or unscrupulous\\n    system operators reading private mail in the `spool files' at a\\n    local site (i.e. at the source or destination of the message),\\n    such as a university. \\n  \\n  - System administrators may also release files to law enforcement\\n    agencies, but conventions and protocols for warrants involving\\n    computer searches have still not been strongly established and\\n    tested legally.\\n\\n  - Note that bounced messages go to postmasters at a given site in\\n    their entirety.  This means that if you address mail with an\\n    incorrect address it has a good chance of being seen by a human\\n    other than the recipient.\\n\\n  - Typically new user accounts are always set up such that the local\\n    mail directory is private, but this is not guaranteed and can be\\n    overridden.\\n\\n  - Finally, be aware that some mailing lists (email addresses of \\n    everyone on a list) are actually publicly accessable via mail \\n    routing software mechanisms.  This `feature' can be disabled.\\n\\n  Most potential compromises in email privacy can be thoroughly\\n  avoided with the use of strong end-to-end cryptography, which has\\n  its own set of caveats (for example, unscrupulous administrators\\n  may still be a threat if the encryption site is shared or\\n  nonlocal).  See the sections on ``email privacy'' and ``email\\n  policies.''\\n\\n_____\\n<2.8> How am I (not) liable for my email and postings?\\n\\n  As punishment or whatever, your system administrator can revoke\\n  certain `privileges' such as emailing, USENET posting or reading\\n  certain groups, file transferring, remote communications, or\\n  generally any subset of capabilities available from your account. \\n  This all is completely at the discretion of the local administrator\\n  and under the procedures followed at a particular site, which in\\n  many cases are haphazard and crisis-oriented.  Currently there are\\n  virtually no widespread, uniform guidelines or procedures  for\\n  restricting use to any internet services, and local administrators\\n  are free to make arbitrary decisions on access.\\n\\n  Today punitive measures are regularly applied in various situations.\\n  In the typical scenario complaint(s) reach a system adminstrator\\n  regarding abuses by a user, usually but not necessarily preceded by\\n  complaints to the user in email, regarding that person's\\n  objectionable email or postings.  `abusive' posters to USENET are\\n  usually first given admonitions from their system administrators as\\n  urged by others on the `net'. (The debate persists endlessly on\\n  many newsgroups whether this is also used  as a questionable means\\n  of attacking or silencing `harmless crackpots' or censoring\\n  unpopular opinions.)\\n  \\n  System administrators at remote sites regularly cooperate to\\n  'squelch' severe cases of abuse.  In general, however, by tradition\\n  Usenet readers are remarkably tolerant of diverse views and uses of\\n  the system, but a colorful vocabularly of slang helps describe\\n  their alternatives when this patience is sapped: the options\\n  wielded by the individual user are to simply advance to the next\\n  message (referred to as ``hitting the `n' key''), or to `plonk'\\n  annoying posters (according to the Hacker's Dictionary, the sound a\\n  jerk makes at the end of a fall to the bottom of a kill file).\\n\\n  In cases where punitive actions are applied, generally system\\n  administrators are least likely to restrict email.  USENET postings\\n  are much more commonly restricted, either to individual users or \\n  entire groups (such as a university campus).  Restrictions are most\\n  commonly associated with the following `abuses':\\n\\n  - harassing or threatening notes, `email terrorism'\\n  - illegal uses, e.g. piracy or propagation of copyrighted material\\n  - `ad hominem' attacks, i.e. insulting the reputation of the\\n    poster instead of citing the content of the message\\n  - intentional or extreme vulgarity and offensiveness\\n  - inappropriate postings, esp. binary files in regular groups\\n    `mail-bombing': inundating mail boxes with numerous or massive\\n    files\\n\\n  Major problems originate from lack of distinctions in private and\\n  official email or postings.  Most users have internet access via\\n  accounts at businesses or universities and their activities on the\\n  internet can be construed as representative of their parent\\n  organizations. Many people put disclaimers in their `signatures' in\\n  an attempt dissociate their identity and activities from parent\\n  organizations as a precaution. A recent visible political case\\n  involves the privacy of electronic mail  written by White House\\n  staff members of the Bush administration.  Following are some\\n  guidelines:\\n\\n  - Acquaint yourself with your company or university policy.\\n  - If possible, avoid use of your company email address for private\\n    communication.\\n  - Use a disclaimer.\\n  - Keep a low profile (avoid `flamewars' or simply don't post).\\n  - Avoid posting information that could be  construed to be\\n    proprietary or `internal'.\\n\\n  The following references are available from ftp.eff.com\\n  (see also the section on ``internet use policies''):\\n\\n  /pub/academic/banned.1991\\n  /pub/academic/banned.1992\\n  ---\\n    Computer material that was banned/challenged in academia in 1991\\n    and 1992 including USENET hierarchies.\\n\\n  /pub/academic/cases\\n  ---\\n    This is an on-line collection of information about specific\\n    computers and academic freedom cases. File README is a detailed\\n    description of the items in the directory.\\n\\n  /pub/academic/faq/netnews.liability\\n  ---\\n    Notes on university liability for Usenet.\\n\\n_____\\n<2.9> How do I provide more/less information to others on my identity?\\n\\n  The public information of your identity and account is mostly\\n  available though the UNIX utility `finger' described above. \\n  \\n  - You have control over most of this information with the utility\\n    `chfn', the specifics vary between sites (on some systems use\\n    `passwd -f').\\n   \\n  - You can provide unlimited information in the .plan file which is\\n    copied directly to the destination during the fingering. \\n    \\n  - A technique that works at some sites allows you to find out who is\\n    'finger'ing you and even to  vary the .plan file sent to them.\\n    \\n  - Your signature is determined by the environment variable SIGNATURE\\n    \\n  - USENET signatures are conventionally stored in the .signature file\\n    in your home directory.\\n    \\n  Providing less information on your online identity is more difficult\\n  and involved.  One approach is to ask your system adminstrator to\\n  change or delete information about you (such as your full name). \\n  You may be able to obtain access on a public account or one from\\n  someone unrelated to you personally.  You may be able to remotely\\n  login (via modem or otherwise) to computers that you are not\\n  physically near.  These are tactics for hiding or masking your\\n  online activities but nothing is foolproof.  Consult man pages on\\n  the 'chmod' command and the default file mode.  Generally, files on\\n  a shared system have good safeguards within the user pool but very\\n  little protection is possible from corrupt system administrators.\\n\\n  To mask your identity in email or on USENET you can use different\\n  accounts. More untraceable are new `anonymous posting' and\\n  remailing services that are very recently being established.  See\\n  below.\\n\\n______\\n<2.10> Who is my sysadmin?  What does s/he know about me?\\n\\n  The requirements and screening for getting a system administration\\n  job (and thereby access to all information on a system) vary widely\\n  between sites and are sometimes frighteningly lax, especially at\\n  universities.  Many UNIX systems at universities are largely\\n  managed by undergraduates with a background in computing and often\\n  `hacking'.  In general, commercial and industrial sites are more\\n  strict on qualifications and background, and government sites are\\n  extremely strict.\\n\\n  The system adminstrator (root user) can monitor what commands you\\n  used and at what times.  S/he may have a record (backups) of files\\n  on your account over a few weeks. S/he can monitor when  you send\\n  email or post USENET messages, and potentially read either.  S/he\\n  may have access to records indicating what hosts you are using,\\n  both locally and elsewhere.  Administrators sometimes employ\\n  specialized programs to  track `strange' or `unusual' activity,\\n  which can potentially be misused.\\n\\n______\\n<2.11> Why is privacy (un)stable on the internet?\\n\\n  For the numerous reasons listed above, privacy should not be an\\n  expectation with current use of the internet.  Furthermore, large\\n  parts of the internet are funded by the U.S. NSF (National Science\\n  Foundation) which places certain restrictions on its use (such as\\n  prohibiting commercial use).  Some high-level officials in this and\\n  other government agencies may be opposed to emerging techniques to\\n  guarantee privacy (such as encryption and anonymous services).\\n\\n  Historically the major threats to privacy on the internet have been\\n  local. Perhaps the most common example of this are the widespread\\n  occurrences of university administrators refusing to carry some\\n  portion of USENET newsgroups labelled as `pornographic'. The\\n  `alternative' hierarchy in the USENET system, which has virtually\\n  no restrictions on propagation and new group creation, is\\n  frequently targeted (although this material may appear anywhere).\\n\\n  From the global point of view traffic is generally completely\\n  unimpeded on the internet  and only the most egregious offenders\\n  are pursued.  For example,  verbatim transcriptions of copyrighted\\n  material (such as newspaper or magazine articles) are posted to\\n  USENET with regularity without major consequences (some email\\n  complaints may ensue).  More astonishing to some is that currently\\n  significant portions of USENET traffic, and less so internet\\n  traffic, is comprised of sexually-explicit digitized images almost\\n  entirely originating from copyrighted material (newsgroups such as\\n  `alt.sex' regularly have the  highest traffic).\\n  \\n______\\n<2.12> What is the future of privacy on the internet?\\n\\n  Some argue that the internet currently has an adequate or\\n  appropriate level of privacy.  Others will argue that as a\\n  prototype for future global networks it has woefully inadequate\\n  safeguards.  The internet is growing to become a completely global,\\n  international superhighway for data, and this traffic will\\n  inevitably entail data such as voice messages, postal mail, and\\n  many other items of extremely personal nature. Computer items that\\n  many people consider completely private (such as their local hard\\n  drives) will literally be inches from global network connections.\\n  Also, sensitive industrial and business information is exchanged\\n  over networks currently and this volume may conceivably merge with\\n  the internet.\\n  \\n  Most would agree that, for these basic but sensitive uses of the\\n  internet, no significant mechanisms are currently in place to\\n  ensure much privacy. New standards are calling for uniform\\n  introduction of `privacy enhanced mail' (PEM) which uses encryption\\n  technologies to ensure privacy, so that privacy protection is\\n  automatic, and may significantly improve safeguards.\\n\\n  The same technology that can be extremely destructive to privacy\\n  (such as with  surreptitious surveilance) can be overwhelmingly\\n  effective in protecting  it (e.g. with encryption). Some government\\n  agencies are opposed to unlimited privacy in general, and believe\\n  that it should lawfully be forfeited in cases of criminal conduct\\n  (e.g. court-authorized wiretapping).  However, powerful new\\n  technologies to protect privacy on computers are becoming\\n  increasingly popular, provoking some to say that ``the cat is out\\n  of the bag'' and the ``genie can't be put back in the bottle''.  In\\n  less idiomatic terms, they believe that the spread of strong\\n  cryptography is already underway will be socially and technically\\n  unstoppable.\\n  \\n  To date, no feasible system that guarantees both secure\\n  communication and government oversight has been proposed (the two\\n  goals are largely incompatible). Proposals for ``registration'' of\\n  secret keys (by D. Denning on sci.crypt, for example) have been met\\n  with hot controversy at best and ridicule and derision at worst,\\n  mainly because of concerns for the right to privacy and objections\\n  of inherent feasibility.  Electronic privacy issues, and\\n  particularly the proper roles of networks and the internet, will\\n  foreseeably become highly visible and explosive over the next few\\n  years.\\n\\n\\nANONYMITY\\n=========\\n\\n_____\\n<3.1> What is `anonymity' on the internet?\\n\\n  Simply stated, anonymity is the absence of identity, the\\n  ultimate in privacy. However, there are several variations on\\n  this simple theme.  A person may wish to be consistently\\n  identified by a certain pseudonym or `handle' and establish a\\n  reputation under it in some area, providing pseudo-anonymity.\\n  A person may wish to be completely untraceable for a single\\n  one-way message (a sort of `hit-and-run'). Or, a person may\\n  wish to be openly anonymous but carry on a conversation with\\n  others (with either known or anonymous identities) via an\\n  `anonymous return address'.  A user may wish to appear as a\\n  `regular user' but actually be untraceable.  Sometimes a user\\n  wishes to hide who he is sending mail to (in addition to the\\n  message itself). The anonymous item itself may be directed at\\n  individuals or groups.  A user may wish to access some\\n  service and hide all  signs of the association. \\n  \\n  All of these uses are feasible on the internet but are currently\\n  tricky to carry out in practice, because of all the tracking\\n  mechanisms inherent to operating systems and network protocols. \\n  Officials of the NSF and other government agencies may be opposed\\n  to any of these uses because of the potential for abuse. \\n  Nevertheless, the inherent facelessness of large networks will\\n  always guarantee a certain element of anonymity.\\n\\n_____\\n<3.2> Why is `anonymity' (un)important on the internet?\\n\\n  Anonymity is another powerful tool that can be beneficial or\\n  problematic depending on its use.  Arguably absence of\\n  identification is important as the presence of it.  It may be the\\n  case that many strong benefits from electronic anonymity will be\\n  discovered that were unforeseen and unpredicted, because true\\n  anonymity has been historically very difficult to establish.\\n\\n  One can use anonymity to make personal statements to a colleague\\n  that would sabotage a relationship if stated openly (such as\\n  employer/employee scenarios).  One can use it to pass information\\n  and evade any threat of direct retribution.  For example,\\n  `whistleblowers' reporting on government abuses (economic, social,\\n  or  political) can bring issues to light without fear of stigma or\\n  retaliation. Sensitive, personal, potentially damaging information\\n  is often posted to some USENET groups, a risky situation where\\n  anonymity allows conversations to be carried on completely\\n  independent of the identities of the participants.  Some police\\n  departments run phone services that allow anonymous reporting of\\n  crimes; such uses would be straightforward on the network.\\n  Unfortunately, extortion and harassment become more insidious with\\n  assurances of anonymity.\\n\\n_____\\n<3.3> How can anonymity be protected on the internet?\\n\\n  The chief means, as alluded to above, are masking identities in\\n  email and posting. However, anonymous accounts (public accounts as\\n  accessable and anonymous as e.g. public telephones) may be\\n  effective as well, but this use is generally not officially\\n  supported and even discouraged by some system adminstrators and NSF\\n  guidelines.  The nonuniformity in the requirements of obtaining\\n  accounts at different sites and institutions makes anonymous\\n  accounts generally difficult to obtain to the public at large.\\n\\n  Many communications protocols are inherently detrimental to\\n  anonymity.  Virtually every protocol in existence currently\\n  contains information on both sender and receiver in every packet.\\n  New communications protocols will likely develop that guarantee\\n  much higher degrees of secure anonymous communication.\\n\\n_____\\n<3.4> What is `anonymous mail'?\\n\\n  One approach to `anonymizing' mail has been to set up an `anonymous\\n  server' that, when activated by email to its address, responds by\\n  allocating and supplying an `anonymous ID' that is unique to the\\n  person requesting it (based on his email address).  This will vary\\n  for the same person for different machine address email\\n  originations. To send anonymous mail, the user sends email directed\\n  to the server containing the final destination. The server\\n  `anonymizes' the message by stripping of identification information\\n  and forwards the message, which appears to originate from the\\n  anonymous server only from the corresponding anonymous user id. \\n  This is the `interactive' use of anonymity or pseudonymity\\n  mentioned above.\\n\\n  Another more `fringe' approach is to run a `cypherpunk' remailer\\n  from a regular user account (no root system privileges are\\n  required). These are currently being pioneered by  Eric Hughes and\\n  Hal Finney <hal@alumni.caltech.edu>. The operator runs a process on\\n  a machine that anonymizes mail sent to him with certain\\n  characteristics that distinguish it from his regular incoming mail\\n  (typically fields in the header). One has been implemented as a \\n  PERL script running on UNIX.  Several of these are in existence\\n  currently but sites and software currently are highly unstable;\\n  they may be in operation outside of system administrator knowledge.\\n  The remailers don't generally support anonymous return addresses. \\n  Mail that is incorrectly addressed is received by the operator. \\n  Generally the user of the remailer has to disavow any\\n  responsibility for the messages forwarded through his system,\\n  although actually may be held liable regardless.\\n\\n  These approaches have several serious disadvantages and weaknesses:\\n  \\n  - The anonymous server approach requires maintaining a mapping of\\n    anonymous ID's to real addresses that must be maintained\\n    indefinitely.  One alternative is to allow `deallocation' of\\n    aliases at the request of the user, but this has not been\\n    implemented yet.\\n\\n  - Although an unlikely scenario, traffic to any of these sites could\\n    conceivably be monitored from the `outside', necessitating the\\n    use of cryptography for basic protection,.\\n\\n  - Local administrators can shut them down either out of caprice or\\n    under pressure from local, network, or government agencies.\\n  \\n  - Unscrupulous providers of the services can monitor the traffic\\n    that goes through them.\\n\\n  - Most remailers currently keep logs that may be inspected. \\n\\n  - The cypherpunk approach tends to be highly unstable because these\\n    operators are basically  network users who do not own the\\n    equipment and are accountable  to their own system\\n    administrators, who may be unaware of the use and unsympathetic\\n    to the philosophy of anonymity when the operation is discovered,\\n    regarding it as illicit use. \\n\\n  - In all cases, a high degree of trust is placed in the anonymous\\n    server operator by the user.\\n\\n  Currently the most direct route to anonymity involves using SMTP\\n  protocols to submit a message directly to a server with arbitrary\\n  field information.  This practice, not uncommon to hackers, and the\\n  approach used by remailers, is generally viewed with hostility by\\n  most system administrators.  Information in the header routing data\\n  and logs of network port connection information may be retained\\n  that can be used to track the originating site.  In practice, this\\n  is generally infeasible and rarely carried out.  Some\\n  administrators on the network will contact local administrators to\\n  request a message be tracked and its writer admonished or punished\\n  more severely (such as revoking the account), all of this actually\\n  happening occasionally but infrequently.\\n\\n  See the sections ``known anonymous mail and posting sites'' and \\n  ``responsibilities associated with anonymity''.\\n\\n_____\\n<3.5> What is `anonymous posting'?\\n\\n  Anonymous servers have been established as well for anonymous Usenet\\n  posting with all the associated caveats above (monitored traffic,\\n  capricious or risky local circumstances, logging).  Make sure to\\n  test the system at least once by e.g. anonymous posting to\\n  misc.test (however some operators don't recommend this because many\\n  sites `autorespond' to test messages, possibly causing the\\n  anonymous server to allocate anonymous IDs for those machines). \\n  See the ``responsibilties associated with anonymous posting''\\n  before proceeding.\\n\\n  Another direct route involves using NNTP protocols to submit a\\n  message directly to a newserver with arbitrary field information.\\n  This practice, not uncommon to hackers, is also generally viewed\\n  with hostility by most system administrators, and similar\\n  consequences can ensue.\\n\\n  See the sections ``known anonymous mail and posting sites'' and \\n  ``responsibilities associated with anonymity''.\\n\\n_____\\n<3.6> Why is anonymity (un)stable on the internet?\\n\\n  As noted, many factors compromise the anonymity currently available\\n  to the general internet community, and these services should be\\n  used with great caution.  To summarize, the technology is in its\\n  infancy and current approaches are unrefined, unreliable, and not\\n  completely trustworthy.  No standards have been established and\\n  troubling situations of loss of anonymity and bugs in the software\\n  are prevalent.  Here are some encountered and potential bugs: \\n  \\n  - One  anonymous remailer reallocated already allocated anonymous\\n    return addresses. \\n  - Others passed signature information embedded in messages\\n    unaltered. \\n  - Address resolution problems resulting in anonymized mail bounced\\n    to a remailer are common.\\n  - Forgeries to the anonymous server itself are a problem,  possibly\\n    allowing unauthorized users to potentially glean anon ID - email\\n    address  mappings in the alias file.  This can be remedied with\\n    the use of passwords.\\n  - Infinite mail loops are possible with chaining remailers.\\n  \\n  Source code is being distributed, tested, and refined for these\\n  systems, but standards are progressing slowly and weakly.  The\\n  field is not likely to improve considerably without  official\\n  endorsement and action by network agencies.  The whole idea is\\n  essentially still in its infancy and viewed with suspicion and\\n  distrust by many on the internet, seen as illegitimate or favorable\\n  to criminality.  The major objection to anonymity over regular\\n  internet use  is the perceived lack of accountability to system\\n  operators, i.e. invulnerability to account restrictions resulting\\n  from outside complaints.  System adminstrators at some sites have\\n  threatened to filter anonymous news postings generated by the\\n  prominent servers from their redistribution flows.  This may only\\n  have the effect of encouraging server operators to create less\\n  characteristically detectable headers.  Probably the least\\n  problematic approach, and the most traditional to Usenet, is for\\n  individual users to deal with anonymous mail however they prefer,\\n  e.g. ignoring it or filtering it with kill files.\\n  \\n_____\\n<3.7> What is the future of anonymity on the internet?\\n\\n  New anonymous protocols effectively serve to significantly increase\\n  safeguards of anonymity.  For example, the same mechanism that\\n  routes email over multiple hosts, thereby threatening its privacy,\\n  can also be used to guarantee it. In a scheme called `chaining' an\\n  anonymous message is passed through multiple anonymous servers\\n  before reaching a destination.  In this way generally multiple\\n  links of the chain have to be `broken' for security to be\\n  compromised. Re-encryption at each link makes this scenario even\\n  more unlikely.  Even more significantly the anonymous remailers\\n  could be spread over the internet globally so that local weaknesses\\n  (such as corrupt governments or legal wiretapping within a nation)\\n  would be more unlikely to sacrifice overall security by message\\n  tracing. However, remailers run by corrupt operators are possible.\\n  \\n  The future of anonymous services on the internet is, at this time,\\n  highly uncertain and fraught with peril. While specific groups seem\\n  to benefit significantly from anonymous posting capabilities, many\\n  feel that unlimited newsgroup scope for anonymous posting is a\\n  disruptive and dangerous idea and detracts from discussions in\\n  `serious' groups.   The introduction of unlimited group anonymity\\n  may have fundamental repercussions on Usenet conventions and\\n  distribution mechanisms such as moderated and `alt' groups have had\\n  in the past. For example, as part of new group creation, the\\n  charter may specify whether `anonymous' posting is (un)welcome. \\n\\n  Nevertheless, the widespread introduction and use of anonymity may\\n  be inevitable. Based on traffic statistics, anonymous services are\\n  in huge demand. Pervasive and readily available anonymity could\\n  carry significant and unforeseen social consequences.  However, if\\n  its use is continued to be generally regarded as subversive it may\\n  be confined to the underground.  The ramifications of widespread\\n  introduction of anonymity to Usenet are still largely unknown. It\\n  is unclear whether it will provoke signficant amounts of new\\n  traffic or, instead of expansion, cause a shift where a greater\\n  portion of existing traffic is anonymized.  Conceivably the\\n  services could play a role in influencing future mainstream social\\n  acceptance of Usenet.\\n\\n\\n* * *\""
      ]
     },
     "metadata": {},
     "output_type": "display_data"
    },
    {
     "data": {
      "text/plain": [
       "'------------------------------------------------------------------------------------------------------------------------------------------------------'"
      ]
     },
     "metadata": {},
     "output_type": "display_data"
    },
    {
     "data": {
      "text/plain": [
       "'Doc referencia ID:1824, clase: comp.sys.mac.hardware'"
      ]
     },
     "metadata": {},
     "output_type": "display_data"
    },
    {
     "data": {
      "text/plain": [
       "'CONTENIDO: \\n\\n\\tI think this kind of comparison is pretty useless in general.  The\\nprocessor is only good when a good computer is designed around it adn the\\ncomputer is used in its designed purpose.  Comparing processor speed is\\npretty dumb because all you have to do is just increase the clock speed\\nto increase speed among other things.\\n\\n\\tI mean how can you say a 040 is faster than a 486 without \\ngiving is operational conditions?  Can you say the same when \\nyou are running a program that uses a lot of transidental functions.\\nKnowing that 040 does not have transidental functions building in to \\nits FPU and 486 does, can you say that 040 is still faster?\\n\\n\\tAnyway, I hope people do not decided upon wether a computers\\nis good or not solely on its processor.  Or how fast a processor is\\nbased on its name, because one can alway do a certain things to a\\nprocessor to speed it up.  \\n\\n\\tBut if we restrict our arguements to, for example, pure\\nprocessor architectural issues.  Or how one processor will work\\nwell and another will not based on its design, then we can get\\nsomewhere with our discussions.  \\n\\n- Chung Yang'"
      ]
     },
     "metadata": {},
     "output_type": "display_data"
    },
    {
     "data": {
      "text/plain": [
       "'1) Doc similar ID: 9921, similitud coseno: 0.35419792160817193, clase: comp.sys.mac.hardware'"
      ]
     },
     "metadata": {},
     "output_type": "display_data"
    },
    {
     "data": {
      "text/plain": [
       "'CONTENIDO: dhk@ubbpc.uucp (Dave Kitabjian) writes ...\\n\\n040 486 030 386 020 286\\n\\n\\n060 fastest, then Pentium, with the first versions of the PowerPC\\nsomewhere in the vicinity.\\n\\n\\nNo.  Computer speed is only partly dependent of processor/clock speed.\\nMemory system speed play a large role as does video system speed and\\nI/O speed.  As processor clock rates go up, the speed of the memory\\nsystem becomes the greatest factor in the overall system speed.  If\\nyou have a 50MHz processor, it can be reading another word from memory\\nevery 20ns.  Sure, you can put all 20ns memory in your computer, but\\nit will cost 10 times as much as the slower 80ns SIMMs.\\n\\nAnd roughly, the 68040 is twice as fast at a given clock\\nspeed as is the 68030.\\n'"
      ]
     },
     "metadata": {},
     "output_type": "display_data"
    },
    {
     "data": {
      "text/plain": [
       "'2) Doc similar ID: 6364, similitud coseno: 0.31319104088093985, clase: comp.sys.mac.hardware'"
      ]
     },
     "metadata": {},
     "output_type": "display_data"
    },
    {
     "data": {
      "text/plain": [
       "'CONTENIDO: Well folks, after some thought the answer struck me flat in the face:\\n\\n\"Why would Apple release a Duo Dock with a processor of its own?\"\\n\\nHere\\'s why- People have hounded Apple for a notebook with a 68040 processor\\nin it. Apple can\\'t deliver that right now because the 040 saps too much\\npower, radiates far too much heat, and is too large for a notebook. How\\ndoes one get around that without designing a new chipset? Use existing\\nPowerBook technology to your best advantage. The Duo Dock gives Apple a\\nunique ability to give users that 040 power in a \"Semi-Portable\" fashion.\\nBy plunking the 040 into the Dock, you\\'ve got \"quadra\" power at your desk.\\nOn the road, that 33mhz 68030 should be able to handle most of your needs.\\nOkay, not the BEST solution, but its an answer to a no-win situation. :-)\\nSo, does this mean one will be able to use the PowerBook\\'s processor in\\nparallel to the dock\\'s processor? Okay, we\\'re getting REALLY hypothetical\\nnow... '"
      ]
     },
     "metadata": {},
     "output_type": "display_data"
    },
    {
     "data": {
      "text/plain": [
       "'3) Doc similar ID: 5509, similitud coseno: 0.30413670525282677, clase: comp.sys.mac.hardware'"
      ]
     },
     "metadata": {},
     "output_type": "display_data"
    },
    {
     "data": {
      "text/plain": [
       "'CONTENIDO: rvenkate@ux4.cso.uiuc.edu (Ravikuma Venkateswar) writes ...\\n\\nBenchmarks are for marketing dweebs and CPU envy.  OK, if it will make\\nyou happy, the 486 is faster than the 040.  BFD.  Both architectures\\nare nearing then end of their lifetimes.  And especially with the x86\\narchitecture: good riddance.\\n\\n\\nThe point being the processor speed is only one of many aspects of a\\ncomputers performance.  Clock speed, processor, memory speed, CPU\\narchitecture, I/O systems, even the application program all contribute \\nto the overall system performance.\\n\\n\\nLook them up yourself.\\n'"
      ]
     },
     "metadata": {},
     "output_type": "display_data"
    },
    {
     "data": {
      "text/plain": [
       "'4) Doc similar ID: 2641, similitud coseno: 0.2503826782386589, clase: comp.sys.mac.hardware'"
      ]
     },
     "metadata": {},
     "output_type": "display_data"
    },
    {
     "data": {
      "text/plain": [
       "\"CONTENIDO: \\n    I think this is mostly the fault of the people who write up the\\nliterature and price lists being confused themselves. Since there are\\ntwo possible processor configurations and one of the them doesn't have\\nan FPU it does seem to be an option, even though it really isn't.\\n\\n\\n    Well, then allow me to end your confusion. The C650 ONLY come with\\nan LC040 in the base 4/80 configuration. If you are not getting this\\nconfiguration then you are getting an FPU.\\n\\n\\n    Good question. I have been wondering that since Feb. 10th.\\n\\n \\n    This is possible, but an option is something that you are supposed\\nto be able to request when you want it. What Apple has done is given the\\nbuyer a CHOICE between configurations and not an OPTION.\\n\\n\\n    This is not unclear at all. In fact Apple has included in the ROMs\\nof those machines with LC040s code to recognize the presence of the full\\n040's FPU and use it. Thereby making the upgrade as easy as switching\\nchips. You pop the LC040 out and pop in a full '040.\\n\\n\\n    They did? I think I would double-check this. It has been stated\\ncountless times in this newsgroup by two of the Centris hardware\\ndesigners that the LC040 and the full '040 are pin compatible and that\\nthe C610 can be upgraded to a full '040.\""
      ]
     },
     "metadata": {},
     "output_type": "display_data"
    },
    {
     "data": {
      "text/plain": [
       "'5) Doc similar ID: 4359, similitud coseno: 0.24167619736986773, clase: comp.sys.mac.hardware'"
      ]
     },
     "metadata": {},
     "output_type": "display_data"
    },
    {
     "data": {
      "text/plain": [
       "'CONTENIDO: If you get the Centris 650 with CD configuration, you are getting a Mac with\\na 68RC040 processor that has built-in math coprocessor support.  My \\nunderstanding is that the \"optional fpu\" refers to your option of purchasing\\nthe Centris 650 4/80 without FPU OR one of the other configurations WITH FPU.\\n\\nApple does not offer an upgrade from the non-FPU system to become an FPU\\nsystem.  And, it is unclear whether the \\'040 processor on the non-FPU system\\n(a 68LC040) can be replaced with a 68RC040 supplied by another vendor.\\nApple did send a memo out at one point sating that the Centris 610, which ONLY\\ncomes with a non-FPU 68LC040 processor CANNOT be upgraded to support an FPU -\\nthe pin configurations of the two chips apparently do not match so you cannot\\nswap one for another (again, according to Apple\\'s memo).\\n\\nHope that helps.'"
      ]
     },
     "metadata": {},
     "output_type": "display_data"
    },
    {
     "data": {
      "text/plain": [
       "'------------------------------------------------------------------------------------------------------------------------------------------------------'"
      ]
     },
     "metadata": {},
     "output_type": "display_data"
    },
    {
     "data": {
      "text/plain": [
       "'Doc referencia ID:409, clase: comp.graphics'"
      ]
     },
     "metadata": {},
     "output_type": "display_data"
    },
    {
     "data": {
      "text/plain": [
       "\"CONTENIDO: I can't fiqure this out.  I have properly compiled pov on a unix machine\\nrunning SunOS 4.1.3  The problem is that when I run the sample .pov files and\\nuse the EXACT same parameters when compiling different .tga outputs.  Some\\nof the .tga's are okay, and other's are unrecognizable by any software.\""
      ]
     },
     "metadata": {},
     "output_type": "display_data"
    },
    {
     "data": {
      "text/plain": [
       "'1) Doc similar ID: 3444, similitud coseno: 0.23053284689766265, clase: comp.graphics'"
      ]
     },
     "metadata": {},
     "output_type": "display_data"
    },
    {
     "data": {
      "text/plain": [
       "\"CONTENIDO: Hi, I'm just getting into PoVRay and I was wondering if there is a graphic\\npackage that outputs .POV files.  Any help would be appreciated.\\nThanks.\\n\\nLater'ish\\nCraig\\n\""
      ]
     },
     "metadata": {},
     "output_type": "display_data"
    },
    {
     "data": {
      "text/plain": [
       "'2) Doc similar ID: 5799, similitud coseno: 0.20907273908737237, clase: comp.graphics'"
      ]
     },
     "metadata": {},
     "output_type": "display_data"
    },
    {
     "data": {
      "text/plain": [
       "'CONTENIDO: I finally got a 24 bit viewer for my POVRAY generated .TGA files.\\n\\nIt was written in C by Sean Malloy and he kindly sent me a copy.  He\\nwrote it for the same purpose, to view .TGA files using his SpeedStar 24.\\n\\nIt ONLY works with the SpeedStar 24 and I cannot send copies since it is\\nnot my program.  I believe the author may release a version at a future\\ntime when the program is more developed.   He may or may not comment on\\nthis, as he pleases.\\n\\nThanks to all who were helpful.\\n\\nRegards,'"
      ]
     },
     "metadata": {},
     "output_type": "display_data"
    },
    {
     "data": {
      "text/plain": [
       "'3) Doc similar ID: 5905, similitud coseno: 0.1981754261808808, clase: comp.graphics'"
      ]
     },
     "metadata": {},
     "output_type": "display_data"
    },
    {
     "data": {
      "text/plain": [
       "\"CONTENIDO: \\nHallo POV-Renderers !\\nI've got a BocaX3 Card. Now I try to get POV displaying True Colors\\nwhile rendering. I've tried most of the options and UNIVESA-Driver\\nbut what happens isn't correct.\\nCan anybody help me ?\\n\""
      ]
     },
     "metadata": {},
     "output_type": "display_data"
    },
    {
     "data": {
      "text/plain": [
       "'4) Doc similar ID: 1764, similitud coseno: 0.18384984554054173, clase: comp.graphics'"
      ]
     },
     "metadata": {},
     "output_type": "display_data"
    },
    {
     "data": {
      "text/plain": [
       "\"CONTENIDO: hi guys\\n like all people in this group i'm a fans of fractal and render sw\\n my favourite are fractint pov & 3dstudio 2.0 \\n now listen my ideas\\n i'have just starting now to be able to use 3dstudio quite well\\n so i'm simulating a full animation of a f1 grand prix\\n unfortanatly just some lap(10?)\\n i' m very interested about all kind of .prj .3ds and so on\\n concerning about cars or parts of its (motors wheel ...)\\n (dxf are good enough)\\n does anyone have object to give me to complete my hard animation\\n\\n\\n anyway any exchanges about object material project will\\n be VERY APRECIATE!!!!!\\n\\n is there a ftp site where I can find its?\\n\\n i' m looking for .pov files too\\n (i 'm interested about cpu time comparision rendering images on\\n pov & 3dstusio)\\n\\n thank to all\\n\""
      ]
     },
     "metadata": {},
     "output_type": "display_data"
    },
    {
     "data": {
      "text/plain": [
       "'5) Doc similar ID: 3364, similitud coseno: 0.16585392152558243, clase: comp.graphics'"
      ]
     },
     "metadata": {},
     "output_type": "display_data"
    },
    {
     "data": {
      "text/plain": [
       "'CONTENIDO: Does anyone know of a good way (standard PC application/PD utility) to\\nconvert tif/img/tga files into LaserJet III format.  We would also like to\\ndo the same, converting to HPGL (HP plotter) files.\\n\\nPlease email any response.\\n\\nIs this the correct group?\\n\\nThanks in advance.  Michael.'"
      ]
     },
     "metadata": {},
     "output_type": "display_data"
    },
    {
     "data": {
      "text/plain": [
       "'------------------------------------------------------------------------------------------------------------------------------------------------------'"
      ]
     },
     "metadata": {},
     "output_type": "display_data"
    },
    {
     "data": {
      "text/plain": [
       "'Doc referencia ID:4506, clase: rec.autos'"
      ]
     },
     "metadata": {},
     "output_type": "display_data"
    },
    {
     "data": {
      "text/plain": [
       "\"CONTENIDO: \\nThis does sound good, but I heard it tends to leave more grit, etc in the \\noil pan.  Also, I've been told to change the old when it's hot before the\\ngrit has much time to settle.\\n\\nAny opinions?\\n\""
      ]
     },
     "metadata": {},
     "output_type": "display_data"
    },
    {
     "data": {
      "text/plain": [
       "'1) Doc similar ID: 4211, similitud coseno: 0.18936063539057416, clase: rec.motorcycles'"
      ]
     },
     "metadata": {},
     "output_type": "display_data"
    },
    {
     "data": {
      "text/plain": [
       "\"CONTENIDO: \\n\\nIt's normal for the BMW K bikes to use a little oil in the first few thousand \\nmiles.  I don't know why.  I've had three new K bikes, and all three used a\\nbit of oil when new - max maybe .4 quart in first 1000 miles; this soon quits\\nand by the time I had 10,000 miles on them the oil consumption was about zero.\\nI've been told that the harder you run the bike (within reason) the sooner\\nit stops using any oil.\\n\""
      ]
     },
     "metadata": {},
     "output_type": "display_data"
    },
    {
     "data": {
      "text/plain": [
       "'2) Doc similar ID: 5928, similitud coseno: 0.16823674420892193, clase: comp.sys.mac.hardware'"
      ]
     },
     "metadata": {},
     "output_type": "display_data"
    },
    {
     "data": {
      "text/plain": [
       "'CONTENIDO: or\\nthere\\n\\n\\nOkay, I guess its time for a quick explanation of Mac sound.\\n\\nThe original documentation for the sound hardware (IM-3) documents how to\\nmake sound by directly accessing hardware.  Basically, you jam values\\ninto all the even bytes from SoundBase to SoundBase+0x170. This was\\nbecause\\nof how the Mac 128 (and some later machines) generated sound was by\\nscanning\\nthis block and D/Aing every even byte (the odd bytes went to the floppy on\\nsome machines).\\n\\nWhen the Mac II (and Apple Sound Chip) was invented, it was designed to\\ngenerate stereo sound. It was also designed to be compatible with we had\\nonce\\ndocumented. So storing bytes at the even values at SoundBase meant \"I\\nwant to\\nplay a mono sound\" and so it was emulated. But Apple had since retracted\\nthe\\ndocumentation on SoundBase and decided not to document the lowest layers\\nof\\nsound generation. So apple never explained where to stuff bytes if you\\nwant\\nto make stereo sound.\\n\\nEnter game developers. The sound driver and current sound manager are\\ninconveniently lame for making games. Furthermore, people who port from\\nthe\\nIBM don\\'t want to learn more APIs. So, it has become popular for game\\nwriters to write to SoundBase to make sound, since it is very easy.\\n\\nSince the Mac II, Apple has had many different kind of sound output\\nhardware,\\nand the only things they have in common are that writing to SoundBase\\nworks.\\nOn some hardware, (Mac II, IIx, IIcx, IIci at least), writing to SoundBase\\ngets you mono sound through both speakers. On some Macs (Quadra\\n700/900/950\\nat least) writing to SoundBase gets you mono sound on the left channel\\nonly.\\nBoth are technically correct interpretations of the original\\nspecification,\\nbut one is obviously preferable for asthetic reasons.\\n\\nIf developers use the Sound Manager (and I think the sound driver), mono\\nsounds will (typically) come out through both channels regardless of the\\nunderlying hardware. It is possible to specify you want to generate left\\nchannel only, but no one does. If developers write to sound base, their\\ngames will only come out the left on some games.\\n\\nThe other problem, the original Mac II only producing left channel sound\\non the internal speaker, while the SE/30 mixes both, isn\\'t really related.\\nIt is due to the post generation amplification used on the motherboards of\\nthe different machines. It only affects true stereo sounds. Sounds which\\nare actually mono, will play on the internal speaker, no matter what\\nmachine\\nyou have.\\n\\nNow, to more directly address the question, the games you list:\\nand also\\nHellcats,\\nSuper Tetris\\nOxyd\\n(and many more, these are just what I\\'ve tested)\\n\\nCheat and write to SoundBase and so are only left channel on Quadras.\\n\\n\\nOther games you list:\\nand also\\nPGA Tour Golf\\nCivilization\\n(and more, these are again only from personal experience)\\n\\nUse the sound manager and work fine on all machines.\\n\\nThe more of the story is to developers: DON\\'T CHEAT!\\nReally, I am absolutely, positively not allowed to do what I am about to\\ndo,\\nbut I\\'m going say it anyway.\\nStop cheating on sound!\\nReally soon, you will be sorry, as even those without external speakers\\nwill be disappointed with your sound on future hardware. The grace period\\nis about to end.\\nThe Sound Manager is understandable now, and works pretty well and will\\nwork\\neven better soon, so use it.\\n\\nIn conclusion:\\nTo Doug, it isn\\'t a hardware problem, at least, not a bug.\\nTo Jon, it isn\\'t a choice to developers as to whether they want to send\\nsound\\nto both channels. If they do it the right way, it is taken care of\\nautomatically. If you cheat, there is not way to make it work on all\\nhardware.\\n\\n\\nHave fun.\\n\\nDisclaimer number 1:\\nI don\\'t work on sound here at Apple, I\\'m just pretty well informed.\\nSo don\\'t write me with sound questions.\\n\\nDisclaimer number 2:\\nIf it says up above that I wrote anything like \"the grace period is about\\nto end\" then it is a bug in your news feed, since I am catagorically not\\nallowed to say anything like that. You know what I mean.\\n\\nDisclaimer number 3:\\nI don\\'t speak for Apple, just me.'"
      ]
     },
     "metadata": {},
     "output_type": "display_data"
    },
    {
     "data": {
      "text/plain": [
       "'3) Doc similar ID: 6224, similitud coseno: 0.1583340724404407, clase: rec.autos'"
      ]
     },
     "metadata": {},
     "output_type": "display_data"
    },
    {
     "data": {
      "text/plain": [
       "\"CONTENIDO: Archive-name: rec-autos/part5\\n\\n[this article is one of a pair of articles containing commonly\\nasked automotive questions; the other article contains questions\\nmore geared to the automotive enthusiast, and so is not crossposted\\nto misc.consumers.  -- rpw]\\n\\n   [changes as of 14 April 1993: revised brake fluid section, as\\n    non-silicone DOT-5 fluids are now apparently available -- rpw]\\n\\n                 Commonly Asked Automotive Questions\\n\\n\\nTire Questions:\\n\\nQ:  What do the funny numbers on the sides of my tires mean?\\n\\nA:  Typically, you will see something like 195/60HR14.  the 195 is the\\n    overall width of the tire in millimeters, the tread is usually\\n    narrower.  The 60 is the `aspect ratio'; it indicates the height of the\\n    sidewall of the tire relative to the overall width.  Our example tire\\n    has a sidewall height of 0.60 * 195 ~= 117 mm.  The 14 is the wheel\\n    diameter in inches; there are also some special tires called `TRX'\\n    tires which have three digit metric wheel diameter designations, like\\n    390, which is in millimeters.  The R means Radial, and the H is a speed\\n    rating indicating the highest speed at which the tire, when properly\\n    inflated and carrying an appropriate load, may safely operate.  Common\\n    speed ratings are S (112MPH), T (118MPH), H (130MPH), and V (up to\\n    150MPH.)\\n\\n    Recent changes to the method for specifying tire sizes move the speed\\n    rating to a different part of the designation; you may therefore find\\n    designations like 195/60R14 85H; the 85 indicates the per-tire load\\n    associated with the speed rating -- exceeding this load in continuous\\n    operation at the rated speed is dangerous practice.  What follows is\\n    a table showing a number of `load indices' and corresponding maximum\\n    per-tire loads:\\n\\n    Load Index       50   51   88   89   112   113   145   149   157\\n    Max Load (Kg)   190  195  560  580  1120  1150  2900  3250  4125\\n\\n    Note that the usual mass vs. weight confusion occurs in this table.\\n\\n    In some cases, the letters P or LT may be found in front of a tire\\n    size; the LT designation indicates Light Truck, and the P designation\\n    indicates Passenger car.  If no letter is given, then the application\\n    of the tire is Passenger car usage.  As far as I know, these letters\\n    only appear in the US market.  The LT designation is prinicipally of\\n    interest to owners of light trucks and other utility vehicles.  For\\n    the owner of a passenger vehicle, there is no meaningful difference\\n    between a tire with a P designation and one with no designation at\\n    all.\\n\\n    If the aspect ratio is omitted, it is probably 80, but may be 78.\\n\\n    Tires with an MS (mud/snow) designation may have their speed rating\\n    reduced by 20 km/h (about 12mph.)\\n\\n    There is an additional set of ratings on tires for temperature,\\n    traction, and treadwear.  Temperature and Traction are graded\\n    A, B, and C (with A the best and C the worst); treadwear is\\n    a numeric rating.  These values are of limited value, as they\\n    are assigned somewhat arbitrarily by tire manufacturers and are\\n    thus not useful in comparing different brands of tires.\\n\\nQ:  My car has tires with a funny size designation:  185/65HR390; can i put\\n    normal tires on the car?\\n\\nA:  Your tires are called TRX tires; they were devised by Michelin.\\n    Because of a somewhat different bead design, they are incompatible\\n    with normal tires; Michelin used a different diameter wheel for them\\n    so that they could not be mounted on the wrong type wheel (and so that\\n    more conventional tires could not be mounted on TRX type wheels.)\\n    You will need to aquire different wheels to put a normal tire on your\\n    car; it is barely possible to fit normal tires on TRX wheels, and horribly\\n    dangerous to do so (the tires may simply peel off the rims in a corner,\\n    or possibly blow out at high speed.)  TRX type tires are becoming hard\\n    to find; in addition to Michelin, Avon makes suitable tires.  Goodyear\\n    has apparently discontinued their line of TRX tires.\\n\\nQ:  Can I rotate radials from side to side, or rotate them only on one side\\n    of my car?\\n\\nA:  Car and tire manufacturers have differing views on this subject; many\\n    say that swapping radials between the left and right hand sides of a\\n    car is now ok (this group includes Michelin and Goodyear); others\\n    (for example, Pirelli and Nokia) will void warranties if such swapping\\n    is done.  The best advice is to read your tire manual carefully before\\n    rotating your tires, and stick to the manufacturer's recommendations.\\n\\nQ:  How many snow tires should I buy, and if I buy 2, which end of the\\n    car should I put them on?\\n\\nA:  In short, 4, and both ends.  To explain, many drivers in areas that don't\\n    get excessive snow or who don't drive agressively (or at all) in snow\\n    conditions get away with only two snows on the drive wheels, but there\\n    are circumstances where this can be dangerous practice.  With a rear\\n    wheel drive car, you can choose between being able to start the car\\n    going (a function of the rear axle) or stopping and turning the car\\n    (a function of the front axle.)  In a front wheel drive car, you start,\\n    stop, and turn with the front end.  The primary risk of putting the\\n    snow tires on the front only is that if you have to put on the brakes\\n    while going downhill, you run a serious risk of going downhill backwards.\\n\\nRadar Detectors and Speed Limits:\\n\\nQ:  Why aren't there any comments on Radar Detectors and Speed Limits\\n    in this Q&A posting?\\n\\nA:  Because questions about detectors and speed limits crossposted between\\n    misc.consumers and rec.autos.* always start long, tedious, and pointless\\n    flame wars.  If you want to talk about either of these topics, please\\n    subscribe to rec.autos or alt.flame and keep it there.\\n\\nSafety Equipment:\\n\\nQ:  Do airbags really work?\\n\\nA:  Preliminary statistics suggest the following:  Airbags work much\\n    better than no belts; good 3 point belts alone work much better than\\n    Airbags alone, and AirBags + 3 point belts work slightly better than\\n    3 point belts alone.  The con to airbags is that some designs tend\\n    to burn the driver's hands when venting the byproducts of the\\n    explosion that occurs inside the bag, and that some designs (but\\n    not all) may knock the driver's hands from the wheel, making retention\\n    of control of the vehicle after the bag deflates more difficult.\\n\\nBrake Questions:\\n\\nQ:  Do I always need to get the rotors on my disk brakes turned?  Midas\\n    always wants to do this.\\n\\nA:  No.  There are specific conditions that mandate turning or replacing\\n    rotors; some shops try and make a little extra money by replacing rotors\\n    more often than is strictly necessary.  if the rotors are not warped\\n    warped, and only lightly grooved, then there is no need to replace or\\n    to turn them.  Note also that some rotors (the rotors on many Hondas\\n    are a good example) are so narrow to begin with that it is not practical\\n    to turn them; they must be replaced when they become too thin, warped,\\n    or badly grooved.\\n\\nQ:  They tell me I should downshift when braking to slow my car down.  Is\\n    this really a good idea?\\n\\nA:  It used to be a very good idea, back in the days of mediocre, fade\\n    prone drum brakes.  In modern disc brake equipped cars, use of\\n    downshifting to slow the car is not really necessary, except in cases\\n    of long, steep downhill runs.  Otherwise, modern disc brakes are more\\n    than adequate to stop a passenger car in all circumstances, and they\\n    are much cheaper to repair than clutch linings.\\n\\n    On the other hand, many standard driver's license tests in the USA\\n    still specify that the driver being tested downshift under braking; I\\n    suggest that before taking a US driver's test, you either 1) learn to\\n    do this smoothly (which takes some time and practice) or 2) borrow a\\n    car with an automatic to take the test.\\n\\nQ:  How often should I replace my brake fluid?\\n\\nA:  Probably more often than you do.  Traditional brake fluids tend to\\n    absorb water; this water can corrode internal parts of the brake\\n    system and also lower the boiling point of the fluid.  DOT-3 type\\n    are older fluids; DOT-4 and DOT-5 are newer specifications.  The\\n    principal differences are in wet and dry boiling points; the dry\\n    boiling point is important in fresh brake fluid, but the wet boiling\\n    point is important in older brake fluid.  DOT-3 fluids have the lowest\\n    wet and dry boiling point _requirements_; DOT-4 fluids have better\\n    boiling point requirements; and DOT-5 fluids have the best boiling\\n    point requirements (but DOT-5 fluids are not clearly superior; see\\n    the next Q&A for more details.)  While the requirements imply that\\n    DOT-4 fluids are better than DOT-3 fluids, there may be specific\\n    cases where a DOT-3 fluid is preferable, but these are mostly\\n    competition applications.  Otherwise, DOT-4 type fluids offer _much_\\n    improved brake pedal feel.  Replacement once a year is recommended for\\n    DOT-4 fluids, although agressive drivers may profit by changing out\\n    fluid more frequently, or at least bleeding a modest amount of fluid\\n    out of the brake calipers fairly regularly.\\n\\nQ:  What about DOT-5 brake fluids?\\n\\nA:  This breaks down in to two parts.  The DOT-5 specification looks\\n    excellent for performance, but the first DOT-5 fluids were Silicone\\n    based.  Silicone fluids are a tricky proposition.  Unlike DOT-3 and\\n    DOT-4 fluids, they do not absorb water at all.  While this may sound\\n    like a feature, the problem is that any water present pools up in\\n    such systems, interfering with braking performance and corroding any\\n    metals at the spot where the pooling is occuring.  The water will tend\\n    to migrate downwards in the braking system to the brake calipers, where\\n    most of the corrosion occurs.\\n\\n    Because of this phenomenon, it is essential when converting to\\n    Silicone to empty the entire brake system and flush it throughly\\n    beforehand; some even recommend replacing all rubber parts in the\\n    brake system when converting to Silicone fluids.\\n\\n    Two other issues that come up with silicone fluids:  1) they are\\n    difficult to pour cleanly (that is, without air bubbles), which\\n    interferes with getting a good brake pedal feel, and 2) while they\\n    generally have much higher boiling points than DOT-4 fluids, they\\n    do have high temperature failure modes which are indistinguishable\\n    in effect from boiling DOT-4 fluids.  SIlicone fluids may make sense\\n    in some street car applications, but they are certainly not\\n    recommended for high performance driving applications, and the\\n    economics are questionable for street use.\\n\\n    I have recently become aware of new fluids that meet the DOT-5 standard\\n    that do not contain Silicones; these fluids appear to be reasonably\\n    compatible with the older DOT-3 and DOT-4 fluids, but I have little\\n    information at this time.\\n\\nQ:  ABS is available on some of the cars I'm looking at, but it costs\\n    more.  Is it worth it?\\n\\nA:  This does not have a cut and dried answer; therefore, this answer will\\n    be quite long in order to cover the pros and cons.  The short answer\\n    is that ABS costs more, both initially, and to maintain, will generally\\n    work better for the `average driver' (that is to say, a driver who does\\n    not have extensive experience in high performance driving techniques),\\n    and may require the `unlearning' of some obsolete braking techniques\\n    like pump braking which should be unlearned in any case.\\n\\n    Now for the long answer.  ABS works by monitering the wheels of the\\n    car, looking for signs of locked brakes.  It may or may not be able\\n    be able to distinguish between the different wheels (there are several\\n    systems on the market.)  It cannot detect impending lockup (which is\\n    what you would really want in an ideal world), but only the existence\\n    of lockup.  The sensors used vary; some of the less well designed\\n    sensors are sensitive to tire size, and to brake pad material, and\\n    may cease to function properly if the owner deviates from original\\n    equipment or OE-equivalent components.\\n\\n    When the sensors detect lockup, the ABS system responds by unlocking\\n    the brakes (either individually, or all at once, depending on the\\n    system.)  If the driver keeps their foot firmly planted, the ABS\\n    will end up cycling between the locked and unlocked states (if a\\n    sensor existed that could detect _impending lockup_, then we could\\n    sit right at that point, which is where maximum braking effect is\\n    achieved.)  This pulsing can often be felt in the brake pedal, as\\n    the system cycles.  The percentage of the time that the brakes are\\n    truly engaged is called the `duty cycle'; typically in an ABS system\\n    this is about 40%  On dry pavement, a trained driver can beat this\\n    duty cycle quite reliably using a technique called threshold braking;\\n    on wet pavement, braking is so chancy that ABS will outperform\\n    threshold braking nearly every time.  Unfortunately, on mud and on\\n    snow, often maximum braking effect can be acheived with the brakes\\n    locked; only Audi, of the manufacturers producing ABS-equipped cars,\\n    has seen fit to provide a disable switch for the ABS system for this\\n    eventuality.\\n\\n    A particularly important feature of ABS is that it preserves\\n    steering control.  This is the case simply because, if you are\\n    braking near the limit and turn the wheel, the ABS will release\\n    the brakes if it sees steering-triggered lockup, and back off\\n    on the percentage of the time that the brakes are applied.\\n    Braking distances will lengthen accordingly.\\n\\n    An important caution:  ABS cannot exceed the maximum theoretical\\n    braking force in any given situation; if you start sliding on\\n    glare ice, don't expect an ABS system to help you out very much.\\n    The coefficient of friction is not changed by the presence of an\\n    ABS system in your car.\\n\\n    As far as maintenence goes, in addition to the potential\\n    restrictions I've listed above, you have to worry about the\\n    following:  1) parts costs are much higher; the OE master cylinder\\n    for my obscure european sedan lists for $185, but the OE master\\n    cylinder for the ABS-equipped version of the same car lists for\\n    over $1000.  Most manufacturers explicitly forbid use of DOT-5\\n    (silicone) brake fluids in ABS-equipped vehicles.  Because of\\n    the potential cost of replacement of corroded brake system\\n    components, regular (I suggest annual) replacement of brake fluid\\n    becomes very important.\\n\\nQ:  What about this threshold braking business?\\n\\nA:  [normally, I'd not put this in the consumers Q&A, but recent\\n    publicity about a number of accidents involving police drivers\\n    in ABS-equipped Chevy Caprices suggests that this section is\\n    needed here -- rpw]\\n\\n    Threshold braking is a technique practiced by all serious high\\n    performance drivers; if made a habit, it replaces the `stab\\n    the pedal and lock 'em up' panic habit entirely, and is much\\n    to be prefered.  Basically, the premise is that tires generate\\n    maximum braking force when they have just started to slide, but\\n    just before the wheels lock up entirely.  Drivers who threshold\\n    brake learn to feel what this `threshold' feels like, and learn\\n    to search for it and hit it on the application of the brake\\n    pedal.  In many cars, you can feel that you are near the\\n    threshold when the pedal starts to firm up as you depress it.\\n    In any case, if you can't hear the tires whine just a bit, you're\\n    not very near the threshold.\\n\\n    In a car with ABS, often there is a twinge in the pedal just\\n    before the system starts cycling; if the driver backs off on\\n    the pedal just a tad when the twinge is felt, then they are very\\n    close to the threshold and they'll probably achieve better\\n    stopping distances than if they just punched it and let the ABS\\n    take over.\\n\\n    Recently, there has been a rash of publicity over a number of\\n    accidents, and one death, involving police cars equipped with\\n    ABS systems.  The police departments in question quickly blamed\\n    the new ABS systems, but according to Autoweek magazine, it now\\n    seems clear that the problem was a lack of training; none of the\\n    involved officers had any recent performance driving training.\\n    There is reason to believe that the drivers reacted to the pulsing\\n    brake pedal by `pump braking', an old and discredited technique\\n    of stabbing and releasing the brake pedal, the goal being to\\n    try and get brakes back with a failing hydraulic system.  If you\\n    think about it for a minute, you'll realize that pump braking must\\n    cut the effective operation of a working brake system by at least\\n    1/2, so if you cut the 40% duty cycle of an ABS system by that\\n    much, you are giving up most of your brakes for the wrong reason.\\n    Threshold braking has the advantage in that it is an effective\\n    and useful technique regardless of whether your car has ABS; if\\n    you do fear a failed hydraulic system, then one or two stabs at\\n    the pedal will be sufficient.    \\n\\nGas Questions:\\n\\nQ:  Does High Octane gasoline help?\\n\\nA:  Maybe, maybe not.  Some cars have knock sensors, and can adjust the\\n    engine timing or turbocharger boost to suit the gasoline being used.\\n    On most cars, however, you should use the cheapest gas that makes your\\n    car run well.  Check your owner's manual for details on what your car\\n    needs.\\n\\nQ:  My car was made for leaded gasoline.  Will unleaded gas hurt it?\\n\\nA:  It is possible that unleaded gas may *slightly* increase valve wear,\\n    although the Amoco Oil company argues otherwise.  The actual increase\\n    in valve wear will be almost unnoticeable, however, as modern leaded\\n    gasolines actually contain very little lead.  You should, however,\\n    check your owner's manual; many cars from the early 1970s do not\\n    actually require leaded gasoline.\\n\\nQ:  Do fuel treatments help?  What kind should I use?\\n\\nA:  Some do and some don't.  During the winter, it is a good idea to use\\n    dry gas; however, some may be harmful to fuel injection systems.\\n    Never use an additive containing Methanol (sometimes called Methyl\\n    Alcohol); such additives may damage fuel systems in cars with carbs\\n    and almost certainly will damage cars with fuel injection.\\n\\n    Manufacturer's opinions vary on additives containing Ethanol (sometimes\\n    called Ethyl Alcohol); if your car has fuel injection, check the owner's\\n    manual on your car before  using these.  Most manufacturers consider\\n    10% Ethanol acceptable in gasoline.  Additives with Isopropyl Alcohol\\n    (Isopropanol), and Petroleum  Distillates are fine in fuel injected\\n    cars.\\n\\n    An occasional bottle of fuel injector cleaner is helpful in cars with\\n    fuel injectors, although many premium gasolines contain detergents that\\n    do the same job.  Some off brands of fuel injector cleaners contain\\n    Ethanol or Methanol; always check the ingredients before putting anything\\n    in your gas tank.\\n\\n    There are a small number of particularly good additives; these are\\n    noticeably more expensive that the run-of-the-mill ones, but work\\n    much, much better.  Among these are Chevron Techron, Redline SL-1,\\n    Wurth `Lubrimoly Ventil Sauber', and BG 44K.  A bottle of one of these,\\n    once every six months, is highly recommended.\\n\\nQ:  What about detergent gasolines?\\n\\nA:  The quality of detergent packages in gasolines varies somewhat; BMW\\n    has instituted a testing program, and gasoline brands which pass this\\n    test may advertise that fact.  Stickers indicating passage of the test\\n    are now beginning to appear on fuel pumps at gas stations.  If such\\n    gasolines are used, then fuel injector cleaners are probably optional.\\n    Beforewarned that while use of BMW approved gasolines will keep a clean\\n    engine clean, they may not clean a motor with bad valve deposits.\\n\\nLubrication Questions:\\n\\nQ:  What do the numbers and letters in a motor oil designation mean?\\n\\nA:  There are several different items encoded.  There is a two-letter\\n    code indicating the type of detergent package that the manufacturer\\t\\n    uses in the oil; this looks like SE,SF,CD or such.  The S codes are\\n    for gasoline engine applications; the C codes are for diesel engine\\n    applications.  The second letter is assigned in sequence as new levels\\n    of protection are developed; thus SF is considered better than SE,\\n    SE is considered better than SD, and so forth.\\n\\n    The more noticeable designation is the oil weight.  This is either\\n    a single number (e.g., 30 weight) or a pair of numbers separated by\\n    the letter W (e.g., 10W30.)  The latter type is much more commonly\\n    used these days, and are the only type that most automobile\\n    manufacturers specify in operators manuals.  The first number in the\\n    designation (10W) is the apparent viscosity of the oil when it is cold;\\n    the W stands for `winter'.  The second number (30) is the viscosity\\n    of the oil when hot.  There is a trick here; the oil doesn't actually\\n    get thicker (turn from 10 weight to 30 weight) as it gets hotter.  What\\n    is actually happening is that when the oil is cold, it has the viscosity\\n    of a cold 10 weight oil.  as it gets hotter, it doesn't get thin as fast\\n    as a 10W oil would; by the time it is up to temperature, it has the\\n    viscosity of a hot 30 weight oil.\\n\\n    Note that these numbers actually specify ranges of viscosities; not\\n    all 10W oils have exactly the same viscosity when cold, and not all\\n    30 weight oils have the same viscosity when hot.  Note also that the\\n    novel behaviour of multi-grade oils is caused by additives, and it has\\n    been reported that with the sole exception of Castrol GTX, 10W40 oils\\n    do not retain their multi-grade characteristics well over time.  10W30,\\n    15W40, and 20W50 oils work very well, though.\\n\\nQ:  Are `quick lube' places any good?\\n\\nA:  Some do adequate work, but there are quite a few incompetent ones out\\n    there.  Let the buyer beware, watch them while they work, make sure\\n    that they don't overtorque the oil drain plug, and keep your hand on\\n    your wallet at all times.\\n\\nQ:  Are oil additives like Slick-50 or Tufoil any good?\\n\\nA:  Slick-50 and Tufoil are PTFE-based additives.  Many of these have\\n    come onto the market recently; they are different from the moly-based\\n    additives that have been around since the early 50's.  PTFE is the\\n    chemical name for Teflon(TM), a trademark owned by DuPont. In general,\\n    auto manufacturers do not recommend use of these products.  Most USENET\\n    responses to questions on these additives are favorable (slight\\n    increase of MPG after application, smoother revving) but long term\\n    results (whether PTFE additives are effective after 5K miles) are\\n    debatable.  Some manufacturers (such as Saab) claim that either the\\n    product or the engine flush that preceeds application causes\\n    deterioration of the oil seals and eventual leakage.  Some BMW owners\\n    have reported death of valve seals shortly after the addition of\\n    Slick 50 to their cars.  This writer has been cautioned by a Slick-50\\n    Dealer (!) that Slick-50 should _not_ be used in Japanese motors, as\\n    it may clog the oil return passages in the engine.  Otherwise, there are\\n    no known reports of damage caused by PTFE additives.\\n\\n    On the other hand, there are satified Slick 50 customers in the world.\\n\\nQ:  Do synthetic oils really work?\\n\\nA:  Yes, but.  More specifically, most auto manufactuers accept synthetics,\\n    but disagree with the extremely long oil change intervals claimed by\\n    oil manufacturers.  Auto manufacturers recommend that you continue to\\n    change oil at the intervals recommended in the owners manual for your\\n    car.  Even if you decide to try the longer intervals, at least change\\n    the oil filter at regular intervals, as synthetics get just as dirty\\n    as conventional oils.\\n\\n    Synthetic gear lubricants for manual transmissions are another matter\\n    entirely; Amsoil, Redline, and AGIP are very highly regarded and very\\n    effective.  Mobil 1 synthetic gear lube gets mixed reviews, however.\\n\\nQ:  Manufacturers are specifying longer and longer oil change intervals.\\n    How often should I change my oil?\\n\\nA:  It depends on how you drive.  If your car always (or nearly always)\\n    gets warmed up, and you don't drive it very hard and keep the revs\\n    down, the manufacturer's recommendation is probably fine.  If, however,\\n    you drive it hard, drive it at high revs, or alternatively, if you\\n    only drive it to and from the supermarket so that it doesn't get up\\n    to temperature, then you may wish to change oil much more often,\\n    perhaps at 3000 mile intervals (given that most manufacturers are\\n    now specifying 7500 mile intervals.)  If you don't drive your car\\n    much at all (say 7500 miles a year), then you probably want to change\\n    oil every six months anyway.  If you are storing a car during the winter,\\n    then change oil before storing it and change oil when you bring it out\\n    of storage.\\n\\nMisc. Questions:\\n\\nQ:  My car has a timing belt.  I hear that bad things happen when they\\n    break.  What's the story?\\n\\nA:  It depends on the internal design of the motor.  Early Ford Escorts,\\n    for example, will suffer severe valve damage if the belt breaks, but\\n    the newer cars will just require a tow and installation of a new belt.\\n    Some Honda motors will not be damaged, but others will be.\\n\\n    If no replacement interval is specified for your car, then change the\\n    belt at least every 60,000 miles; some cars may require more frequent\\n    replacement.  Ask your dealer or independent mechanic.  Also, ask if\\n    there are any related repairs that should take place at the same time\\n    (for example, the same Ford Escorts that suffer valve damage also have\\n    a timing belt driven water pump, which has been known to seize,\\n    destroying the timing belt, and which then causes major valve damage\\n    as a side effect.  Replacing the timing belt while ignoring the water\\n    pump can be a costly mistake.)\\n\\nQ:  Why would anyone be stupid enough to design a motor so that it\\n    self destructs when the timing belt breaks?\\n\\nA:  For performance reasons.  Compromising piston design so that the\\n    valves and pistons will not collide requires that the compression\\n    ratio of the engine be reduced significantly; this is why you are\\n    more likely to avoid valve damage in economy cars than in performance\\n    oriented vehicles.\\n\\nQ:  What causes Unintended Acceleration?\\n\\nA:  The final report of the National Highway, Transportation, and Safety\\n    Administration concluded that unintended acceleration could not be\\n    caused by any mechanical failure of the vehicle in question and at the\\n    same time be consistent with the physical evidence.  The NHTSA report\\n    goes on to conclude that `pedal misapplication' by the vehicle operator\\n    is probably the cause.\""
      ]
     },
     "metadata": {},
     "output_type": "display_data"
    },
    {
     "data": {
      "text/plain": [
       "'4) Doc similar ID: 5171, similitud coseno: 0.157693767056016, clase: rec.autos'"
      ]
     },
     "metadata": {},
     "output_type": "display_data"
    },
    {
     "data": {
      "text/plain": [
       "\"CONTENIDO: \\nIf the tire has a leak you should fix it. \\n\\n\\nDoesn't work too well if the engine is hot, its more accurate to check the\\noil when the engine is cool, i.e. not when you are at a gas station.\""
      ]
     },
     "metadata": {},
     "output_type": "display_data"
    },
    {
     "data": {
      "text/plain": [
       "'5) Doc similar ID: 9491, similitud coseno: 0.1521899666815704, clase: rec.autos'"
      ]
     },
     "metadata": {},
     "output_type": "display_data"
    },
    {
     "data": {
      "text/plain": [
       "'CONTENIDO: My friend brought a subaru SVX recently.  I had drove it for couples times and I\\nthink its a great car, esp on snow.  However when she took it to a local Subaru\\ndealer for a oil change, the bill came out to be about 80 dollars.  The dealer\\ntold us it is because to change the oil filter on a SVX it is necessary to\\ndisassemble a metal cover under the engine and that took an hour of labour.\\nAt first, we think we are being ripped off so she phone to a dealer in Toronto\\nbut found out the they are charging roughly the same price.  So is there any\\nSVX owner out there that has the same problem ?  And if the oil change story is\\ntrue, then the engineer of Subaru looks pretty stubid to me. By the way, the car\\nlooks great.'"
      ]
     },
     "metadata": {},
     "output_type": "display_data"
    },
    {
     "data": {
      "text/plain": [
       "'------------------------------------------------------------------------------------------------------------------------------------------------------'"
      ]
     },
     "metadata": {},
     "output_type": "display_data"
    },
    {
     "data": {
      "text/plain": [
       "'Doc referencia ID:4012, clase: rec.sport.hockey'"
      ]
     },
     "metadata": {},
     "output_type": "display_data"
    },
    {
     "data": {
      "text/plain": [
       "\"CONTENIDO: For those Leaf fans who are concerned, the following players are slated for\\nreturn on Thursday's Winnipeg-Toronto game :\\n    Peter Zezel, John Cullen\\n\\n  Mark Osborne and Dave Ellett are questionable to return on Thursday.\""
      ]
     },
     "metadata": {},
     "output_type": "display_data"
    },
    {
     "data": {
      "text/plain": [
       "'1) Doc similar ID: 6599, similitud coseno: 0.16001317417336078, clase: soc.religion.christian'"
      ]
     },
     "metadata": {},
     "output_type": "display_data"
    },
    {
     "data": {
      "text/plain": [
       "'CONTENIDO: True.\\n\\nAlso read 2 Peter 3:16\\n\\nPeter warns that the scriptures are often hard to understand by those who\\nare not learned on the subject.'"
      ]
     },
     "metadata": {},
     "output_type": "display_data"
    },
    {
     "data": {
      "text/plain": [
       "'2) Doc similar ID: 10644, similitud coseno: 0.14276898565096252, clase: rec.sport.hockey'"
      ]
     },
     "metadata": {},
     "output_type": "display_data"
    },
    {
     "data": {
      "text/plain": [
       "'CONTENIDO: In  <1qvos8$r78@cl.msu.>, vergolin@euler.lbs.msu.edu (David Vergolini) writes...\\n\\nThere\\'s quite a few Wings fans lurking about here, they just tend\\nto be low key and thoughtful rather than woofers.  I suppose every\\nfamily must have a Roger Clinton, though.  But remember (to paraphrase\\none of my favorite Star Trek lines), \"if we adopt the ways of the Leaf\\nfans, we are as bad as the Leaf fans\".\\n\\nRon'"
      ]
     },
     "metadata": {},
     "output_type": "display_data"
    },
    {
     "data": {
      "text/plain": [
       "'3) Doc similar ID: 7478, similitud coseno: 0.13582073511489307, clase: rec.sport.hockey'"
      ]
     },
     "metadata": {},
     "output_type": "display_data"
    },
    {
     "data": {
      "text/plain": [
       "'CONTENIDO: Toronto                          1 1 1--3\\nDetroit                          1 4 1--6\\nFirst period\\n     1, Detroit, Yzerman 1 (Gallant, Ciccarelli) 4:48.\\n     2, Toronto, Cullen 1 (Clark, Gill) 10:44.\\nSecond period\\n     3, Detroit, Sheppard 1 (Probert, Coffey) pp, 5:04.\\n     4, Detroit, Burr 1 (Racine) sh, 6:42.\\n     5, Detroit, Chiasson 1 (Coffey) pp,11:00.\\n     6, Detroit, Howe 1 (Yzerman, Drake) 14:46.\\n     7, Toronto, Gilmour 1 (Borschevsky, Ellett) pp, 19:59.\\nThird period\\n     8, Detroit, Racine 1 (Primeau, Drake) 5:10.\\n     9, Toronto, Lefebvre 1 (Cullen, Pearson) 7:45.\\n\\nDetroit: 6    Power play: 6-2   Special goals:  pp: 2  sh: 1  Total: 3\\nScorer            G    A   Pts\\n---------------  ---  ---  ---\\nBurr               1    0    1\\nChiasson           1    0    1\\nCiccarelli         0    1    1\\nCoffey             0    2    2\\nDrake              0    2    2\\nGallant            0    1    1\\nHowe               1    0    1\\nPrimeau            0    1    1\\nProbert            0    1    1\\nRacine             1    1    2\\nSheppard           1    0    1\\nYzerman            1    1    2\\n\\nToronto: 3    Power play: 5-1\\nScorer            G    A   Pts\\n---------------  ---  ---  ---\\nBorschevsky        0    1    1\\nClark              0    1    1\\nCullen             1    1    2\\nEllett             0    1    1\\nGill               0    1    1\\nGilmour            1    0    1\\nLefebvre           1    0    1\\nPearson            0    1    1\\n\\n-----------------------------------------\\nWinnipeg                         1 0 1--2\\nVancouver                        2 0 2--4\\nFirst period\\n     1, Vancouver, Adams 1 (Linden, Bure) pp, 1:23.\\n     2, Vancouver, Craven 1 (Bure, Murzyn) 9:56.\\n     3, Winnipeg, Steen 1 (Shannon, Housley) pp, 17:53.\\nSecond period\\n     No scoring.\\nThird period\\n     4, Winnipeg, King 1 (Barnes) 3:43.\\n     5, Vancouver, Linden 1(Courtnall, McLean) 12:16.\\n     6, Vancouver, Ronning 1 (Courtnall) 18:31.\\n\\nVancouver: 4    Power play: 6-1\\nScorer            G    A   Pts\\n---------------  ---  ---  ---\\nAdams              1    0    1\\nBure               0    2    2\\nCourtnall          0    2    2\\nCraven             1    0    1\\nLinden             1    1    2\\nMcLean             0    1    1\\nMurzyn             0    1    1\\nRonning            1    0    1\\n\\nWinnipeg: 2    Power play: 3-1\\nScorer            G    A   Pts\\n---------------  ---  ---  ---\\nBarnes             0    1    1\\nHousley            0    1    1\\nKing               1    0    1\\nShannon            0    1    1\\nSteen              1    0    1\\n'"
      ]
     },
     "metadata": {},
     "output_type": "display_data"
    },
    {
     "data": {
      "text/plain": [
       "'4) Doc similar ID: 7308, similitud coseno: 0.13177395037929182, clase: rec.sport.hockey'"
      ]
     },
     "metadata": {},
     "output_type": "display_data"
    },
    {
     "data": {
      "text/plain": [
       "\"CONTENIDO: Detroit is a very disciplined team.  There's a lot of Europeans\\nin Detroit which would make the game fast, so Toronto would have\\nto slow the game down, which means drawing penalties, as a last\\nresort anyway.  Toronto will be a good team as soon as they get\\nmore good players.  Toronto is just an average team, Detroit isn't\\nBallard screwed Toronto when he was owner.  Everyone knows that.\\nand it's going to take time for Toronto to become a real force.\\nI expect Gilmour to be burnt out next year.  He can't pull the\\nwhole team forever.\""
      ]
     },
     "metadata": {},
     "output_type": "display_data"
    },
    {
     "data": {
      "text/plain": [
       "'5) Doc similar ID: 10792, similitud coseno: 0.13073210977865626, clase: rec.sport.baseball'"
      ]
     },
     "metadata": {},
     "output_type": "display_data"
    },
    {
     "data": {
      "text/plain": [
       "'CONTENIDO: \\n\\nThe tribe will be in town from April 16 to the 19th.\\nThere are ALWAYS tickets available! (Though they are playing Toronto,\\nand many Toronto fans make the trip to Cleveland as it is easier to\\nget tickets in Cleveland than in Toronto.  Either way, I seriously\\ndoubt they will sell out until the end of the season.)\\n'"
      ]
     },
     "metadata": {},
     "output_type": "display_data"
    },
    {
     "data": {
      "text/plain": [
       "'------------------------------------------------------------------------------------------------------------------------------------------------------'"
      ]
     },
     "metadata": {},
     "output_type": "display_data"
    }
   ],
   "source": [
    "seed = 42\n",
    "random.seed(seed)\n",
    "n_docs = 5\n",
    "sample_docs_idx = random.sample(range(X_train.shape[0]), n_docs)\n",
    "\n",
    "topn_docs = []\n",
    "for i in sample_docs_idx:\n",
    "    topn_docs.append(get_docs_cosine_similarity(X_train, i, 5))\n",
    "print_doc_info(newsgroups_train, topn_docs)\n"
   ]
  },
  {
   "cell_type": "markdown",
   "id": "42852062",
   "metadata": {},
   "source": [
    "Los resultados obtenidos indican que la similitud coseno aplicada a vectores TF-IDF es una herramienta útil para identificar documentos con contenido relacionado al texto de referencia, tanto desde el punto de vista semántico como categórico siempre y cuando exista una alta correlación. \n",
    "\n",
    "Cuando los valores de similitud son elevados, es común que los documentos recuperados pertenezcan a la misma clase y compartan términos específicos del tema. No obstante, en situaciones donde la similitud medida es baja, los documentos obtenidos tienden a no guardar una conexión semántica clara ni coincidir en categoría, lo que sugiere que la vectorización no logra reflejar adecuadamente el contenido textual."
   ]
  },
  {
   "cell_type": "markdown",
   "id": "e87786bf",
   "metadata": {},
   "source": [
    "### Punto 2"
   ]
  },
  {
   "cell_type": "code",
   "execution_count": 89,
   "id": "d80e3161",
   "metadata": {},
   "outputs": [],
   "source": [
    "def cls_test (X_train_tfidf, X_test_tfidf):\n",
    "    clf = MultinomialNB()\n",
    "    clf.fit(X_train_tfidf, y_train)\n",
    "    y_pred =  clf.predict(X_test_tfidf)\n",
    "    display(f\"F1 score para MultinomialNB {f1_score(y_test, y_pred, average='macro')}\")\n",
    "\n",
    "    clf = ComplementNB()\n",
    "    clf.fit(X_train_tfidf, y_train)\n",
    "    y_pred =  clf.predict(X_test_tfidf)\n",
    "    display(f\"F1 score para ComplementNB {f1_score(y_test, y_pred, average='macro')}\")"
   ]
  },
  {
   "cell_type": "code",
   "execution_count": 104,
   "id": "c8116952",
   "metadata": {},
   "outputs": [
    {
     "data": {
      "text/plain": [
       "'TF-IDF default'"
      ]
     },
     "metadata": {},
     "output_type": "display_data"
    },
    {
     "data": {
      "text/plain": [
       "'F1 score para MultinomialNB 0.5854345727938506'"
      ]
     },
     "metadata": {},
     "output_type": "display_data"
    },
    {
     "data": {
      "text/plain": [
       "'F1 score para ComplementNB 0.692953349950875'"
      ]
     },
     "metadata": {},
     "output_type": "display_data"
    },
    {
     "data": {
      "text/plain": [
       "'TF-IDF con parámetros'"
      ]
     },
     "metadata": {},
     "output_type": "display_data"
    },
    {
     "data": {
      "text/plain": [
       "'F1 score para MultinomialNB 0.6503941723196313'"
      ]
     },
     "metadata": {},
     "output_type": "display_data"
    },
    {
     "data": {
      "text/plain": [
       "'F1 score para ComplementNB 0.7037173109758078'"
      ]
     },
     "metadata": {},
     "output_type": "display_data"
    }
   ],
   "source": [
    "newsgroups_train = fetch_20newsgroups(subset='train', remove=('headers', 'footers', 'quotes'))\n",
    "newsgroups_test = fetch_20newsgroups(subset='test', remove=('headers', 'footers', 'quotes'))\n",
    "\n",
    "tfidfvect = TfidfVectorizer()\n",
    "X_train_tfidf = tfidfvect.fit_transform(newsgroups_train.data)\n",
    "idx2word = {v: k for k,v in tfidfvect.vocabulary_.items()}\n",
    "y_train = newsgroups_train.target\n",
    "X_test_tfidf = tfidfvect.transform(newsgroups_test.data)\n",
    "y_test = newsgroups_test.target\n",
    "\n",
    "display(\"TF-IDF default\")\n",
    "cls_test (X_train_tfidf, X_test_tfidf)\n",
    "\n",
    "tfidfvect = TfidfVectorizer(stop_words='english', ngram_range=(1,2), max_df=0.9, min_df=2)\n",
    "X_train_tfidf = tfidfvect.fit_transform(newsgroups_train.data)\n",
    "idx2word = {v: k for k,v in tfidfvect.vocabulary_.items()}\n",
    "y_train = newsgroups_train.target\n",
    "X_test_tfidf = tfidfvect.transform(newsgroups_test.data)\n",
    "y_test = newsgroups_test.target\n",
    "\n",
    "display(\"TF-IDF con parámetros\")\n",
    "cls_test (X_train_tfidf, X_test_tfidf)"
   ]
  },
  {
   "cell_type": "markdown",
   "id": "90b34dc8",
   "metadata": {},
   "source": [
    "Se compararon los modelos MultinomialNB y ComplementNB utilizando representaciones TF-IDF, tanto con la configuración por defecto como con parámetros ajustados (eliminación de stop words en inglés, uso de n-gramas y filtros de frecuencia). \n",
    "\n",
    "Esta diferencia se debe a que ComplementNB fue diseñado como una mejora del MultinomialNB para manejar mejor clases desbalanceadas o términos poco representativos, lo que lo vuelve más robusto en configuraciones básicas. Sin embargo, al aplicar una vectorización más cuidada, MultinomialNB mejora notablemente (de 0.585 a 0.650), reduciendo la brecha de desempeño con ComplementNB, que también mejora ligeramente a 0.704.\n",
    "\n",
    "Estos resultados muestran que ComplementNB es más tolerante a configuraciones simples, mientras que MultinomialNB se beneficia significativamente de una selección adecuada de características."
   ]
  },
  {
   "cell_type": "markdown",
   "id": "9fe3a807",
   "metadata": {},
   "source": [
    "### Punto 3"
   ]
  },
  {
   "cell_type": "code",
   "execution_count": null,
   "id": "3a850ecd",
   "metadata": {},
   "outputs": [],
   "source": [
    "def get_words_cosine_similarity(X_train_T, tfidfvect, word, n):\n",
    "    topn_dict = {\"word\": word}\n",
    "    try:\n",
    "        word_idx = tfidfvect.vocabulary_[word]\n",
    "    except:\n",
    "        print(f\"{word} no in vocabulary\")\n",
    "    topn_dict.update({\"word_idx\": word_idx})\n",
    "    cossim = cosine_similarity(X_train_T[word_idx], X_train_T)[0]\n",
    "    topn_dict.update({\"word_sim_idx\" : np.argsort(cossim)[::-1][1:n+1], \"word_sim_cosin\" : np.sort(cossim)[::-1][1:n+1]})\n",
    "    return topn_dict\n",
    "\n",
    "def print_word_info(idx2word, topn_words):\n",
    "    for words in topn_words:\n",
    "        display(f\"Palabra referencia {words['word']}, ID:{words['word_idx']}\")\n",
    "        for i in range(len(words['word_sim_idx'])):\n",
    "            display(f\"{i+1}) Palabra similar {idx2word[words['word_sim_idx'][i]]}, ID: {words['word_sim_idx'][i]}, similitud coseno: {words['word_sim_cosin'][i]}\")\n",
    "        display('-'*150)"
   ]
  },
  {
   "cell_type": "code",
   "execution_count": 135,
   "id": "2c79e036",
   "metadata": {},
   "outputs": [
    {
     "data": {
      "text/plain": [
       "'Palabra referencia motorcycle, ID:23793'"
      ]
     },
     "metadata": {},
     "output_type": "display_data"
    },
    {
     "data": {
      "text/plain": [
       "'1) Palabra similar wheelie, ID: 37637, similitud coseno: 0.404315501394809'"
      ]
     },
     "metadata": {},
     "output_type": "display_data"
    },
    {
     "data": {
      "text/plain": [
       "'2) Palabra similar shaft, ID: 31561, similitud coseno: 0.2692545582932047'"
      ]
     },
     "metadata": {},
     "output_type": "display_data"
    },
    {
     "data": {
      "text/plain": [
       "'3) Palabra similar learner, ID: 21091, similitud coseno: 0.23783674199976998'"
      ]
     },
     "metadata": {},
     "output_type": "display_data"
    },
    {
     "data": {
      "text/plain": [
       "'4) Palabra similar bluntly, ID: 7229, similitud coseno: 0.2302796637099688'"
      ]
     },
     "metadata": {},
     "output_type": "display_data"
    },
    {
     "data": {
      "text/plain": [
       "'5) Palabra similar enthusiast, ID: 13800, similitud coseno: 0.2256922997195348'"
      ]
     },
     "metadata": {},
     "output_type": "display_data"
    },
    {
     "data": {
      "text/plain": [
       "'------------------------------------------------------------------------------------------------------------------------------------------------------'"
      ]
     },
     "metadata": {},
     "output_type": "display_data"
    },
    {
     "data": {
      "text/plain": [
       "'Palabra referencia cpu, ID:10550'"
      ]
     },
     "metadata": {},
     "output_type": "display_data"
    },
    {
     "data": {
      "text/plain": [
       "'1) Palabra similar dislodge, ID: 12367, similitud coseno: 0.356190268602508'"
      ]
     },
     "metadata": {},
     "output_type": "display_data"
    },
    {
     "data": {
      "text/plain": [
       "'2) Palabra similar heatsink, ID: 17394, similitud coseno: 0.3086652738160754'"
      ]
     },
     "metadata": {},
     "output_type": "display_data"
    },
    {
     "data": {
      "text/plain": [
       "'3) Palabra similar cooler, ID: 10292, similitud coseno: 0.29130050924035983'"
      ]
     },
     "metadata": {},
     "output_type": "display_data"
    },
    {
     "data": {
      "text/plain": [
       "'4) Palabra similar bending, ID: 6810, similitud coseno: 0.25026188658596993'"
      ]
     },
     "metadata": {},
     "output_type": "display_data"
    },
    {
     "data": {
      "text/plain": [
       "'5) Palabra similar tasking, ID: 34291, similitud coseno: 0.2498389957627389'"
      ]
     },
     "metadata": {},
     "output_type": "display_data"
    },
    {
     "data": {
      "text/plain": [
       "'------------------------------------------------------------------------------------------------------------------------------------------------------'"
      ]
     },
     "metadata": {},
     "output_type": "display_data"
    },
    {
     "data": {
      "text/plain": [
       "'Palabra referencia football, ID:15412'"
      ]
     },
     "metadata": {},
     "output_type": "display_data"
    },
    {
     "data": {
      "text/plain": [
       "'1) Palabra similar madden, ID: 22094, similitud coseno: 0.34695776542107865'"
      ]
     },
     "metadata": {},
     "output_type": "display_data"
    },
    {
     "data": {
      "text/plain": [
       "'2) Palabra similar mich, ID: 23097, similitud coseno: 0.304655737958004'"
      ]
     },
     "metadata": {},
     "output_type": "display_data"
    },
    {
     "data": {
      "text/plain": [
       "'3) Palabra similar zabriskie, ID: 38913, similitud coseno: 0.29979462178249405'"
      ]
     },
     "metadata": {},
     "output_type": "display_data"
    },
    {
     "data": {
      "text/plain": [
       "'4) Palabra similar basketball, ID: 6554, similitud coseno: 0.2933647593152447'"
      ]
     },
     "metadata": {},
     "output_type": "display_data"
    },
    {
     "data": {
      "text/plain": [
       "'5) Palabra similar sportstalk, ID: 32810, similitud coseno: 0.28860827446505277'"
      ]
     },
     "metadata": {},
     "output_type": "display_data"
    },
    {
     "data": {
      "text/plain": [
       "'------------------------------------------------------------------------------------------------------------------------------------------------------'"
      ]
     },
     "metadata": {},
     "output_type": "display_data"
    },
    {
     "data": {
      "text/plain": [
       "'Palabra referencia atheist, ID:5889'"
      ]
     },
     "metadata": {},
     "output_type": "display_data"
    },
    {
     "data": {
      "text/plain": [
       "'1) Palabra similar atheism, ID: 5888, similitud coseno: 0.33245031466909036'"
      ]
     },
     "metadata": {},
     "output_type": "display_data"
    },
    {
     "data": {
      "text/plain": [
       "'2) Palabra similar anarchal, ID: 5086, similitud coseno: 0.31034751316326226'"
      ]
     },
     "metadata": {},
     "output_type": "display_data"
    },
    {
     "data": {
      "text/plain": [
       "'3) Palabra similar atheists, ID: 5891, similitud coseno: 0.2947785138421634'"
      ]
     },
     "metadata": {},
     "output_type": "display_data"
    },
    {
     "data": {
      "text/plain": [
       "'4) Palabra similar doubtless, ID: 12747, similitud coseno: 0.29430041416345676'"
      ]
     },
     "metadata": {},
     "output_type": "display_data"
    },
    {
     "data": {
      "text/plain": [
       "'5) Palabra similar techno, ID: 34379, similitud coseno: 0.2861931096814526'"
      ]
     },
     "metadata": {},
     "output_type": "display_data"
    },
    {
     "data": {
      "text/plain": [
       "'------------------------------------------------------------------------------------------------------------------------------------------------------'"
      ]
     },
     "metadata": {},
     "output_type": "display_data"
    },
    {
     "data": {
      "text/plain": [
       "'Palabra referencia toronto, ID:35041'"
      ]
     },
     "metadata": {},
     "output_type": "display_data"
    },
    {
     "data": {
      "text/plain": [
       "'1) Palabra similar detroit, ID: 11930, similitud coseno: 0.3812332304163351'"
      ]
     },
     "metadata": {},
     "output_type": "display_data"
    },
    {
     "data": {
      "text/plain": [
       "'2) Palabra similar gilmour, ID: 16314, similitud coseno: 0.2479111071502925'"
      ]
     },
     "metadata": {},
     "output_type": "display_data"
    },
    {
     "data": {
      "text/plain": [
       "'3) Palabra similar chicago, ID: 8879, similitud coseno: 0.24710485460503068'"
      ]
     },
     "metadata": {},
     "output_type": "display_data"
    },
    {
     "data": {
      "text/plain": [
       "'4) Palabra similar eecg, ID: 13301, similitud coseno: 0.19442096527109395'"
      ]
     },
     "metadata": {},
     "output_type": "display_data"
    },
    {
     "data": {
      "text/plain": [
       "'5) Palabra similar disciplined, ID: 12269, similitud coseno: 0.1834678555585414'"
      ]
     },
     "metadata": {},
     "output_type": "display_data"
    },
    {
     "data": {
      "text/plain": [
       "'------------------------------------------------------------------------------------------------------------------------------------------------------'"
      ]
     },
     "metadata": {},
     "output_type": "display_data"
    }
   ],
   "source": [
    "tfidfvect = TfidfVectorizer(stop_words='english', max_df=0.9, min_df=2) #No voy a utilizar ngrams para que no me busque por pares de palabras\n",
    "X_train_tfidf = tfidfvect.fit_transform(newsgroups_train.data)\n",
    "idx2word = {v: k for k,v in tfidfvect.vocabulary_.items()}\n",
    "y_train = newsgroups_train.target\n",
    "\n",
    "X_train_T = X_train_tfidf.transpose()\n",
    "words2test = ['motorcycle', 'cpu', 'football', 'atheist', 'toronto']\n",
    "topn_words = []\n",
    "for word in words2test:\n",
    "    topn_words.append(get_words_cosine_similarity(X_train_T, tfidfvect, word, 5))\n",
    "print_word_info(idx2word, topn_words)"
   ]
  },
  {
   "cell_type": "markdown",
   "id": "addab9c0",
   "metadata": {},
   "source": [
    "Transponer la matriz TF-IDF de documentos genera una matriz que representa términos en función de los documentos en los que aparecen. El significado de cada término queda definido por su distribución a lo largo del corpus, lo cual está limitado por la cantidad y la categoría de los documentos disponibles.\n",
    "\n",
    "En los ejemplos seleccionados manualmente se observa que términos como 'motorcycle' están fuertemente asociados a 'wheelie' y 'shaft', o que 'cpu' se relaciona con 'heatsink', 'cooler' o 'tasking'. De forma similar, Toronto muestra correlación con otras ciudades como Detroit o Chicago. Sin embargo, el método no es completamente preciso, ya que algunas asociaciones carecen de sentido aparente, posiblemente porque las relaciones entre palabras se manifiestan a nivel de documento y no de coocurrencia directa.\n",
    "\n",
    "TF-IDF este método no considera contexto, orden de palabras ni sintaxis. Para mejorar la representación semántica de las palabras, se recurre a técnicas más avanzadas como los word embeddings, que capturan relaciones contextuales de forma más robusta."
   ]
  }
 ],
 "metadata": {
  "kernelspec": {
   "display_name": "Python 3",
   "language": "python",
   "name": "python3"
  },
  "language_info": {
   "codemirror_mode": {
    "name": "ipython",
    "version": 3
   },
   "file_extension": ".py",
   "mimetype": "text/x-python",
   "name": "python",
   "nbconvert_exporter": "python",
   "pygments_lexer": "ipython3",
   "version": "3.12.5"
  }
 },
 "nbformat": 4,
 "nbformat_minor": 5
}
