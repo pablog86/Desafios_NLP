{
 "cells": [
  {
   "cell_type": "markdown",
   "id": "8286f7be",
   "metadata": {},
   "source": [
    "# Consigna del desafío 1"
   ]
  },
  {
   "cell_type": "markdown",
   "id": "f8af5936",
   "metadata": {},
   "source": [
    "**1**. Vectorizar documentos. Tomar 5 documentos al azar y medir similaridad con el resto de los documentos.\n",
    "Estudiar los 5 documentos más similares de cada uno analizar si tiene sentido\n",
    "la similaridad según el contenido del texto y la etiqueta de clasificación.\n",
    "\n",
    "**2**. Entrenar modelos de clasificación Naïve Bayes para maximizar el desempeño de clasificación\n",
    "(f1-score macro) en el conjunto de datos de test. Considerar cambiar parámteros\n",
    "de instanciación del vectorizador y los modelos y probar modelos de Naïve Bayes Multinomial\n",
    "y ComplementNB.\n",
    "\n",
    "**3**. Transponer la matriz documento-término. De esa manera se obtiene una matriz\n",
    "término-documento que puede ser interpretada como una colección de vectorización de palabras.\n",
    "Estudiar ahora similaridad entre palabras tomando 5 palabras y estudiando sus 5 más similares. **La elección de palabras no debe ser al azar para evitar la aparición de términos poco interpretables, elegirlas \"manualmente\"**."
   ]
  },
  {
   "cell_type": "markdown",
   "id": "1527c502",
   "metadata": {},
   "source": [
    "## Imports y preparación dataset"
   ]
  },
  {
   "cell_type": "code",
   "execution_count": 1,
   "id": "08b0d2a9",
   "metadata": {},
   "outputs": [],
   "source": [
    "from sklearn.feature_extraction.text import CountVectorizer, TfidfVectorizer\n",
    "from sklearn.metrics.pairwise import cosine_similarity\n",
    "from sklearn.naive_bayes import MultinomialNB, ComplementNB\n",
    "from sklearn.metrics import f1_score\n",
    "from sklearn.datasets import fetch_20newsgroups\n",
    "import numpy as np"
   ]
  },
  {
   "cell_type": "code",
   "execution_count": 2,
   "id": "298b4857",
   "metadata": {},
   "outputs": [
    {
     "data": {
      "text/plain": [
       "['alt.atheism',\n",
       " 'comp.graphics',\n",
       " 'comp.os.ms-windows.misc',\n",
       " 'comp.sys.ibm.pc.hardware',\n",
       " 'comp.sys.mac.hardware',\n",
       " 'comp.windows.x',\n",
       " 'misc.forsale',\n",
       " 'rec.autos',\n",
       " 'rec.motorcycles',\n",
       " 'rec.sport.baseball',\n",
       " 'rec.sport.hockey',\n",
       " 'sci.crypt',\n",
       " 'sci.electronics',\n",
       " 'sci.med',\n",
       " 'sci.space',\n",
       " 'soc.religion.christian',\n",
       " 'talk.politics.guns',\n",
       " 'talk.politics.mideast',\n",
       " 'talk.politics.misc',\n",
       " 'talk.religion.misc']"
      ]
     },
     "metadata": {},
     "output_type": "display_data"
    }
   ],
   "source": [
    "newsgroups_train = fetch_20newsgroups(subset='train', remove=('headers', 'footers', 'quotes'))\n",
    "newsgroups_test = fetch_20newsgroups(subset='test', remove=('headers', 'footers', 'quotes'))\n",
    "display(newsgroups_test.target_names)\n",
    "\n",
    "tfidfvect = TfidfVectorizer()\n",
    "X_train = tfidfvect.fit_transform(newsgroups_train.data)\n",
    "idx2word = {v: k for k,v in tfidfvect.vocabulary_.items()}\n",
    "y_train = newsgroups_train.target"
   ]
  },
  {
   "cell_type": "markdown",
   "id": "e53eee11",
   "metadata": {},
   "source": [
    "### Ejemplo similitud de documentos "
   ]
  },
  {
   "cell_type": "code",
   "execution_count": 3,
   "id": "ec1cc105",
   "metadata": {},
   "outputs": [
    {
     "data": {
      "text/plain": [
       "\"THE WHITE HOUSE\\n\\n                  Office of the Press Secretary\\n                   (Pittsburgh, Pennslyvania)\\n______________________________________________________________\\nFor Immediate Release                         April 17, 1993     \\n\\n             \\n                  RADIO ADDRESS TO THE NATION \\n                        BY THE PRESIDENT\\n             \\n                Pittsburgh International Airport\\n                    Pittsburgh, Pennsylvania\\n             \\n             \\n10:06 A.M. EDT\\n             \\n             \\n             THE PRESIDENT:  Good morning.  My voice is coming to\\nyou this morning through the facilities of the oldest radio\\nstation in America, KDKA in Pittsburgh.  I'm visiting the city to\\nmeet personally with citizens here to discuss my plans for jobs,\\nhealth care and the economy.  But I wanted first to do my weekly\\nbroadcast with the American people. \\n             \\n             I'm told this station first broadcast in 1920 when\\nit reported that year's presidential elections.  Over the past\\nseven decades presidents have found ways to keep in touch with\\nthe people, from whistle-stop tours to fire-side chats to the bus\\ntour that I adopted, along with Vice President Gore, in last\\nyear's campaign.\\n             \\n             Every Saturday morning I take this time to talk with\\nyou, my fellow Americans, about the problems on your minds and\\nwhat I'm doing to try and solve them.  It's my way of reporting\\nto you and of giving you a way to hold me accountable.\\n             \\n             You sent me to Washington to get our government and\\neconomy moving after years of paralysis and policy and a bad\\nexperiment with trickle-down economics.  You know how important\\nit is for us to make bold, comprehensive changes in the way we do\\nbusiness.  \\n             \\n             We live in a competitive global economy.  Nations\\nrise and fall on the skills of their workers, the competitiveness\\nof their companies, the imagination of their industries, and the\\ncooperative experience and spirit that exists between business,\\nlabor and government.  Although many of the economies of the\\nindustrialized world are now suffering from slow growth, they've\\nmade many of the smart investments and the tough choices which\\nour government has for too long ignored.  That's why many of them\\nhave been moving ahead and too many of our people have been\\nfalling behind.\\n             \\n             We have an economy today that even when it grows is\\nnot producing new jobs.  We've increased the debt of our nation\\nby four times over the last 12 years, and we don't have much to\\nshow for it.  We know that wages of most working people have\\nstopped rising, that most people are working longer work weeks\\nand that too many families can no longer afford the escalating\\ncost of health care.\\n             \\n             But we also know that, given the right tools, the\\nright incentives and the right encouragement, our workers and\\nbusinesses can make the kinds of products and profits our economy\\nneeds to expand opportunity and to make our communities better\\nplaces to live.\\n             \\n             In many critical products today Americans are the\\nlow cost, high quality producers.  Our task is to make sure that\\nwe create more of those kinds of jobs.\\n             \\n             Just two months ago I gave Congress my plan for\\nlong-term jobs and economic growth.  It changes the old\\npriorities in Washington and puts our emphasis where it needs to\\nbe -- on people's real needs, on increasing investments and jobs\\nand education, on cutting the federal deficit, on stopping the\\nwaste which pays no dividends, and redirecting our precious\\nresources toward investment that creates jobs now and lays the\\ngroundwork for robust economic growth in the future.\\n             \\n             These new directions passed the Congress in record\\ntime and created a new sense of hope and opportunity in our\\ncountry.  Then the jobs plan I presented to Congress, which would\\ncreate hundreds of thousands of jobs, most of them in the private\\nsector in 1993 and 1994, passed the House of Representatives.  It\\nnow has the support of a majority of the United States Senate. \\nBut it's been held up by a filibuster of a minority in the\\nSenate, just 43 senators.  They blocked a vote that they know\\nwould result in the passage of our bill and the creation of jobs.\\n             \\n             The issue isn't politics; the issue is people. \\nMillions of Americans are waiting for this legislation and\\ncounting on it, counting on us in Washington.  But the jobs bill\\nhas been grounded by gridlock.  \\n             \\n             I know the American people are tired of business as\\nusual and politics as usual.  I know they don't want us to spin\\nor wheels.  They want the recovery to get moving.  So I have\\ntaken a first step to break this gridlock and gone the extra\\nmile.  Yesterday I offered to cut the size of this plan by 25\\npercent -- from $16 billion to $12 billion.  \\n             \\n             It's not what I'd hoped for.  With 16 million\\nAmericans looking for full-time work, I simply can't let the bill\\nlanguish when I know that even a compromise bill will mean\\nhundreds of thousands of jobs for our people.  The mandate is to\\nact to achieve change and move the country forward.  By taking\\nthis initiative in the face of an unrelenting Senate talkathon, I\\nthink we can respond to your mandate and achieve a significant\\nportion of our original goals.\\n             \\n             First, we want to keep the programs as much as\\npossible that are needed to generate jobs and meet human needs,\\nincluding highway and road construction, summer jobs for young\\npeople, immunization for children, construction of waste water\\nsites, and aid to small businesses.  We also want to keep funding\\nfor extended unemployment compensation benefits, for people who\\nhave been unemployed for a long time because the economy isn't\\ncreating jobs.\\n             \\n             Second, I've recommended that all the other programs\\nin the bill be cut across-the-board by a little more than 40\\npercent.\\n             \\n             And third, I've recommended a new element in this\\nprogram to help us immediately start our attempt to fight against\\ncrime by providing $200 million for cities and towns to rehire\\npolice officers who lost their jobs during the recession and put\\nthem back to work protecting our people.  I'm also going to fight\\nfor a tough crime bill because the people of this country need it\\nand deserve it.\\n             \\n             Now, the people who are filibustering this bill --\\nthe Republican senators -- say they won't vote for it because it\\nincreases deficit spending, because there's extra spending this\\nyear that hasn't already been approved.  That sounds reasonable,\\ndoesn't it?  Here's what they don't say.  This program is more\\nthan paid for by budget cuts over my five-year budget, and this\\nbudget is well within the spending limits already approved by the\\nCongress this year.\\n             \\n             It's amazing to me that many of these same senators\\nwho are filibustering the bill voted during the previous\\nadministration for billions of dollars of the same kind of\\nemergency spending, and much of it was not designed to put the\\nAmerican people to work.  \\n             \\n             This is not about deficit spending.  We have offered\\na plan to cut the deficit.  This is about where your priorities\\nare -- on people or on politics.  \\n             \\n             Keep in mind that our jobs bill is paid for dollar\\nfor dollar.  It is paid for by budget cuts.  And it's the\\nsoundest investment we can now make for ourselves and our\\nchildren.  I urge all Americans to take another look at this jobs\\nand investment program; to consider again the benefits for all of\\nus when we've helped make more American partners working to\\nensure the future of our nation and the strength of our economy.\\n             \\n             You know, if every American who wanted a job had\\none, we wouldn't have a lot of the other problems we have in this\\ncountry today.  This bill is not a miracle, it's a modest first\\nstep to try to set off a job creation explosion in this country\\nagain.  But it's a step we ought to take.  And it is fully paid\\nfor over the life of our budget.\\n             \\n             Tell your lawmakers what you think.  Tell them how\\nimportant the bill is.  If it passes, we'll all be winners.\\n             \\n             Good morning, and thank you for listening.\""
      ]
     },
     "metadata": {},
     "output_type": "display_data"
    },
    {
     "data": {
      "text/plain": [
       "'talk.politics.misc'"
      ]
     },
     "metadata": {},
     "output_type": "display_data"
    },
    {
     "data": {
      "text/plain": [
       "'talk.politics.misc'"
      ]
     },
     "metadata": {},
     "output_type": "display_data"
    },
    {
     "data": {
      "text/plain": [
       "'talk.politics.misc'"
      ]
     },
     "metadata": {},
     "output_type": "display_data"
    },
    {
     "data": {
      "text/plain": [
       "'talk.politics.misc'"
      ]
     },
     "metadata": {},
     "output_type": "display_data"
    },
    {
     "data": {
      "text/plain": [
       "'talk.politics.misc'"
      ]
     },
     "metadata": {},
     "output_type": "display_data"
    }
   ],
   "source": [
    "idx = 4811\n",
    "display(newsgroups_train.data[idx])\n",
    "cossim = cosine_similarity(X_train[idx], X_train)[0]\n",
    "np.sort(cossim)[::-1]\n",
    "np.argsort(cossim)[::-1]\n",
    "mostsim = np.argsort(cossim)[::-1][1:6] #Top 5\n",
    "for i in mostsim:\n",
    "  display(newsgroups_train.target_names[y_train[i]])"
   ]
  },
  {
   "cell_type": "markdown",
   "id": "aab281ff",
   "metadata": {},
   "source": [
    "### Ejemplo clasificación"
   ]
  },
  {
   "cell_type": "code",
   "execution_count": 4,
   "id": "f53e0c83",
   "metadata": {},
   "outputs": [
    {
     "data": {
      "text/plain": [
       "'F1 score 0.5854345727938506'"
      ]
     },
     "metadata": {},
     "output_type": "display_data"
    }
   ],
   "source": [
    "clf = MultinomialNB()\n",
    "clf.fit(X_train, y_train)\n",
    "X_test = tfidfvect.transform(newsgroups_test.data)\n",
    "y_test = newsgroups_test.target\n",
    "y_pred =  clf.predict(X_test)\n",
    "display(f\"F1 score {f1_score(y_test, y_pred, average='macro')}\")"
   ]
  }
 ],
 "metadata": {
  "kernelspec": {
   "display_name": "Python 3",
   "language": "python",
   "name": "python3"
  },
  "language_info": {
   "codemirror_mode": {
    "name": "ipython",
    "version": 3
   },
   "file_extension": ".py",
   "mimetype": "text/x-python",
   "name": "python",
   "nbconvert_exporter": "python",
   "pygments_lexer": "ipython3",
   "version": "3.12.5"
  }
 },
 "nbformat": 4,
 "nbformat_minor": 5
}
