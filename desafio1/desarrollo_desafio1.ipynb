{
 "cells": [
  {
   "cell_type": "markdown",
   "id": "8286f7be",
   "metadata": {},
   "source": [
    "# Consigna del desafío 1"
   ]
  },
  {
   "cell_type": "markdown",
   "id": "f8af5936",
   "metadata": {},
   "source": [
    "**1**. Vectorizar documentos. Tomar 5 documentos al azar y medir similaridad con el resto de los documentos.\n",
    "Estudiar los 5 documentos más similares de cada uno analizar si tiene sentido\n",
    "la similaridad según el contenido del texto y la etiqueta de clasificación.\n",
    "\n",
    "**2**. Entrenar modelos de clasificación Naïve Bayes para maximizar el desempeño de clasificación\n",
    "(f1-score macro) en el conjunto de datos de test. Considerar cambiar parámteros\n",
    "de instanciación del vectorizador y los modelos y probar modelos de Naïve Bayes Multinomial\n",
    "y ComplementNB.\n",
    "\n",
    "**3**. Transponer la matriz documento-término. De esa manera se obtiene una matriz\n",
    "término-documento que puede ser interpretada como una colección de vectorización de palabras.\n",
    "Estudiar ahora similaridad entre palabras tomando 5 palabras y estudiando sus 5 más similares. **La elección de palabras no debe ser al azar para evitar la aparición de términos poco interpretables, elegirlas \"manualmente\"**."
   ]
  },
  {
   "cell_type": "markdown",
   "id": "1527c502",
   "metadata": {},
   "source": [
    "## Imports y preparación dataset"
   ]
  },
  {
   "cell_type": "code",
   "execution_count": 136,
   "id": "08b0d2a9",
   "metadata": {},
   "outputs": [],
   "source": [
    "from sklearn.feature_extraction.text import CountVectorizer, TfidfVectorizer\n",
    "from sklearn.metrics.pairwise import cosine_similarity\n",
    "from sklearn.naive_bayes import MultinomialNB, ComplementNB\n",
    "from sklearn.metrics import f1_score\n",
    "from sklearn.datasets import fetch_20newsgroups\n",
    "import numpy as np\n",
    "import random"
   ]
  },
  {
   "cell_type": "code",
   "execution_count": 137,
   "id": "298b4857",
   "metadata": {},
   "outputs": [
    {
     "data": {
      "text/plain": [
       "['alt.atheism',\n",
       " 'comp.graphics',\n",
       " 'comp.os.ms-windows.misc',\n",
       " 'comp.sys.ibm.pc.hardware',\n",
       " 'comp.sys.mac.hardware',\n",
       " 'comp.windows.x',\n",
       " 'misc.forsale',\n",
       " 'rec.autos',\n",
       " 'rec.motorcycles',\n",
       " 'rec.sport.baseball',\n",
       " 'rec.sport.hockey',\n",
       " 'sci.crypt',\n",
       " 'sci.electronics',\n",
       " 'sci.med',\n",
       " 'sci.space',\n",
       " 'soc.religion.christian',\n",
       " 'talk.politics.guns',\n",
       " 'talk.politics.mideast',\n",
       " 'talk.politics.misc',\n",
       " 'talk.religion.misc']"
      ]
     },
     "metadata": {},
     "output_type": "display_data"
    }
   ],
   "source": [
    "newsgroups_train = fetch_20newsgroups(subset='train', remove=('headers', 'footers', 'quotes'))\n",
    "newsgroups_test = fetch_20newsgroups(subset='test', remove=('headers', 'footers', 'quotes'))\n",
    "display(newsgroups_test.target_names)\n",
    "\n",
    "tfidfvect = TfidfVectorizer()\n",
    "X_train = tfidfvect.fit_transform(newsgroups_train.data)\n",
    "idx2word = {v: k for k,v in tfidfvect.vocabulary_.items()}\n",
    "y_train = newsgroups_train.target"
   ]
  },
  {
   "cell_type": "markdown",
   "id": "e53eee11",
   "metadata": {},
   "source": [
    "### Ejemplo similitud de documentos "
   ]
  },
  {
   "cell_type": "code",
   "execution_count": null,
   "id": "ec1cc105",
   "metadata": {},
   "outputs": [
    {
     "data": {
      "text/plain": [
       "\"THE WHITE HOUSE\\n\\n                  Office of the Press Secretary\\n                   (Pittsburgh, Pennslyvania)\\n______________________________________________________________\\nFor Immediate Release                         April 17, 1993     \\n\\n             \\n                  RADIO ADDRESS TO THE NATION \\n                        BY THE PRESIDENT\\n             \\n                Pittsburgh International Airport\\n                    Pittsburgh, Pennsylvania\\n             \\n             \\n10:06 A.M. EDT\\n             \\n             \\n             THE PRESIDENT:  Good morning.  My voice is coming to\\nyou this morning through the facilities of the oldest radio\\nstation in America, KDKA in Pittsburgh.  I'm visiting the city to\\nmeet personally with citizens here to discuss my plans for jobs,\\nhealth care and the economy.  But I wanted first to do my weekly\\nbroadcast with the American people. \\n             \\n             I'm told this station first broadcast in 1920 when\\nit reported that year's presidential elections.  Over the past\\nseven decades presidents have found ways to keep in touch with\\nthe people, from whistle-stop tours to fire-side chats to the bus\\ntour that I adopted, along with Vice President Gore, in last\\nyear's campaign.\\n             \\n             Every Saturday morning I take this time to talk with\\nyou, my fellow Americans, about the problems on your minds and\\nwhat I'm doing to try and solve them.  It's my way of reporting\\nto you and of giving you a way to hold me accountable.\\n             \\n             You sent me to Washington to get our government and\\neconomy moving after years of paralysis and policy and a bad\\nexperiment with trickle-down economics.  You know how important\\nit is for us to make bold, comprehensive changes in the way we do\\nbusiness.  \\n             \\n             We live in a competitive global economy.  Nations\\nrise and fall on the skills of their workers, the competitiveness\\nof their companies, the imagination of their industries, and the\\ncooperative experience and spirit that exists between business,\\nlabor and government.  Although many of the economies of the\\nindustrialized world are now suffering from slow growth, they've\\nmade many of the smart investments and the tough choices which\\nour government has for too long ignored.  That's why many of them\\nhave been moving ahead and too many of our people have been\\nfalling behind.\\n             \\n             We have an economy today that even when it grows is\\nnot producing new jobs.  We've increased the debt of our nation\\nby four times over the last 12 years, and we don't have much to\\nshow for it.  We know that wages of most working people have\\nstopped rising, that most people are working longer work weeks\\nand that too many families can no longer afford the escalating\\ncost of health care.\\n             \\n             But we also know that, given the right tools, the\\nright incentives and the right encouragement, our workers and\\nbusinesses can make the kinds of products and profits our economy\\nneeds to expand opportunity and to make our communities better\\nplaces to live.\\n             \\n             In many critical products today Americans are the\\nlow cost, high quality producers.  Our task is to make sure that\\nwe create more of those kinds of jobs.\\n             \\n             Just two months ago I gave Congress my plan for\\nlong-term jobs and economic growth.  It changes the old\\npriorities in Washington and puts our emphasis where it needs to\\nbe -- on people's real needs, on increasing investments and jobs\\nand education, on cutting the federal deficit, on stopping the\\nwaste which pays no dividends, and redirecting our precious\\nresources toward investment that creates jobs now and lays the\\ngroundwork for robust economic growth in the future.\\n             \\n             These new directions passed the Congress in record\\ntime and created a new sense of hope and opportunity in our\\ncountry.  Then the jobs plan I presented to Congress, which would\\ncreate hundreds of thousands of jobs, most of them in the private\\nsector in 1993 and 1994, passed the House of Representatives.  It\\nnow has the support of a majority of the United States Senate. \\nBut it's been held up by a filibuster of a minority in the\\nSenate, just 43 senators.  They blocked a vote that they know\\nwould result in the passage of our bill and the creation of jobs.\\n             \\n             The issue isn't politics; the issue is people. \\nMillions of Americans are waiting for this legislation and\\ncounting on it, counting on us in Washington.  But the jobs bill\\nhas been grounded by gridlock.  \\n             \\n             I know the American people are tired of business as\\nusual and politics as usual.  I know they don't want us to spin\\nor wheels.  They want the recovery to get moving.  So I have\\ntaken a first step to break this gridlock and gone the extra\\nmile.  Yesterday I offered to cut the size of this plan by 25\\npercent -- from $16 billion to $12 billion.  \\n             \\n             It's not what I'd hoped for.  With 16 million\\nAmericans looking for full-time work, I simply can't let the bill\\nlanguish when I know that even a compromise bill will mean\\nhundreds of thousands of jobs for our people.  The mandate is to\\nact to achieve change and move the country forward.  By taking\\nthis initiative in the face of an unrelenting Senate talkathon, I\\nthink we can respond to your mandate and achieve a significant\\nportion of our original goals.\\n             \\n             First, we want to keep the programs as much as\\npossible that are needed to generate jobs and meet human needs,\\nincluding highway and road construction, summer jobs for young\\npeople, immunization for children, construction of waste water\\nsites, and aid to small businesses.  We also want to keep funding\\nfor extended unemployment compensation benefits, for people who\\nhave been unemployed for a long time because the economy isn't\\ncreating jobs.\\n             \\n             Second, I've recommended that all the other programs\\nin the bill be cut across-the-board by a little more than 40\\npercent.\\n             \\n             And third, I've recommended a new element in this\\nprogram to help us immediately start our attempt to fight against\\ncrime by providing $200 million for cities and towns to rehire\\npolice officers who lost their jobs during the recession and put\\nthem back to work protecting our people.  I'm also going to fight\\nfor a tough crime bill because the people of this country need it\\nand deserve it.\\n             \\n             Now, the people who are filibustering this bill --\\nthe Republican senators -- say they won't vote for it because it\\nincreases deficit spending, because there's extra spending this\\nyear that hasn't already been approved.  That sounds reasonable,\\ndoesn't it?  Here's what they don't say.  This program is more\\nthan paid for by budget cuts over my five-year budget, and this\\nbudget is well within the spending limits already approved by the\\nCongress this year.\\n             \\n             It's amazing to me that many of these same senators\\nwho are filibustering the bill voted during the previous\\nadministration for billions of dollars of the same kind of\\nemergency spending, and much of it was not designed to put the\\nAmerican people to work.  \\n             \\n             This is not about deficit spending.  We have offered\\na plan to cut the deficit.  This is about where your priorities\\nare -- on people or on politics.  \\n             \\n             Keep in mind that our jobs bill is paid for dollar\\nfor dollar.  It is paid for by budget cuts.  And it's the\\nsoundest investment we can now make for ourselves and our\\nchildren.  I urge all Americans to take another look at this jobs\\nand investment program; to consider again the benefits for all of\\nus when we've helped make more American partners working to\\nensure the future of our nation and the strength of our economy.\\n             \\n             You know, if every American who wanted a job had\\none, we wouldn't have a lot of the other problems we have in this\\ncountry today.  This bill is not a miracle, it's a modest first\\nstep to try to set off a job creation explosion in this country\\nagain.  But it's a step we ought to take.  And it is fully paid\\nfor over the life of our budget.\\n             \\n             Tell your lawmakers what you think.  Tell them how\\nimportant the bill is.  If it passes, we'll all be winners.\\n             \\n             Good morning, and thank you for listening.\""
      ]
     },
     "metadata": {},
     "output_type": "display_data"
    },
    {
     "data": {
      "text/plain": [
       "'talk.politics.misc'"
      ]
     },
     "metadata": {},
     "output_type": "display_data"
    },
    {
     "data": {
      "text/plain": [
       "'talk.politics.misc'"
      ]
     },
     "metadata": {},
     "output_type": "display_data"
    },
    {
     "data": {
      "text/plain": [
       "'talk.politics.misc'"
      ]
     },
     "metadata": {},
     "output_type": "display_data"
    },
    {
     "data": {
      "text/plain": [
       "'talk.politics.misc'"
      ]
     },
     "metadata": {},
     "output_type": "display_data"
    },
    {
     "data": {
      "text/plain": [
       "'talk.politics.misc'"
      ]
     },
     "metadata": {},
     "output_type": "display_data"
    }
   ],
   "source": [
    "idx = 4811\n",
    "display(newsgroups_train.data[idx][:200])\n",
    "cossim = cosine_similarity(X_train[idx], X_train)[0]\n",
    "np.sort(cossim)[::-1]       #Valores de similaridad ordenados de mayor a menor\n",
    "np.argsort(cossim)[::-1]    #Indices de documentos similares de mayor a menor\n",
    "mostsim = np.argsort(cossim)[::-1][1:6] #Top 5\n",
    "for i in mostsim:\n",
    "  display(newsgroups_train.target_names[y_train[i]])"
   ]
  },
  {
   "cell_type": "markdown",
   "id": "aab281ff",
   "metadata": {},
   "source": [
    "### Ejemplo clasificación"
   ]
  },
  {
   "cell_type": "code",
   "execution_count": 139,
   "id": "f53e0c83",
   "metadata": {},
   "outputs": [
    {
     "data": {
      "text/plain": [
       "'F1 score 0.5854345727938506'"
      ]
     },
     "metadata": {},
     "output_type": "display_data"
    }
   ],
   "source": [
    "clf = MultinomialNB()\n",
    "clf.fit(X_train, y_train)\n",
    "X_test = tfidfvect.transform(newsgroups_test.data)\n",
    "y_test = newsgroups_test.target\n",
    "y_pred =  clf.predict(X_test)\n",
    "display(f\"F1 score {f1_score(y_test, y_pred, average='macro')}\")"
   ]
  },
  {
   "cell_type": "markdown",
   "id": "21163b4a",
   "metadata": {},
   "source": [
    "## Desarrollo "
   ]
  },
  {
   "cell_type": "markdown",
   "id": "92bfbee9",
   "metadata": {},
   "source": [
    "### Punto 1"
   ]
  },
  {
   "cell_type": "code",
   "execution_count": 140,
   "id": "bee994bd",
   "metadata": {},
   "outputs": [],
   "source": [
    "def get_docs_cosine_similarity(X_train, idx, n):\n",
    "    topn_dict = {\"doc_idx\": idx}\n",
    "    cossim = cosine_similarity(X_train[idx], X_train)[0]    \n",
    "    topn_dict.update({\"docs_sim_idx\" : np.argsort(cossim)[::-1][1:n+1], \"docs_sim_cosin\" : np.sort(cossim)[::-1][1:n+1]})\n",
    "    return topn_dict\n",
    "\n",
    "def print_doc_info(dataset, topn_docs):\n",
    "    for docs in topn_docs:\n",
    "        text = dataset.data[docs['doc_idx']]\n",
    "        type = dataset.target_names[int(dataset.target[docs['doc_idx']])]\n",
    "        display(f\"Doc referencia ID:{docs['doc_idx']}, clase: {type}\")\n",
    "        display(f\"CONTENIDO: {text[:200]}\")\n",
    "        for i in range(len(docs['docs_sim_idx'])):\n",
    "            text = dataset.data[docs['docs_sim_idx'][i]]\n",
    "            type = dataset.target_names[int(dataset.target[docs['docs_sim_idx'][i]])]\n",
    "            display(f\"{i+1}) Doc similar ID: {docs['docs_sim_idx'][i]}, similitud coseno: {docs['docs_sim_cosin'][i]}, clase: {type}\")\n",
    "            display(f\"CONTENIDO: {text[:200]}\")\n",
    "        display('-'*100)"
   ]
  },
  {
   "cell_type": "code",
   "execution_count": 141,
   "id": "54a9caa8",
   "metadata": {},
   "outputs": [
    {
     "data": {
      "text/plain": [
       "'Doc referencia ID:10476, clase: rec.sport.hockey'"
      ]
     },
     "metadata": {},
     "output_type": "display_data"
    },
    {
     "data": {
      "text/plain": [
       "'CONTENIDO: This is a general question for US readers:\\n\\nHow extensive is the playoff coverage down there?  In Canada, it is almost\\nimpossible not to watch a series on TV (ie the only two series I have not had\\nan '"
      ]
     },
     "metadata": {},
     "output_type": "display_data"
    },
    {
     "data": {
      "text/plain": [
       "'1) Doc similar ID: 5064, similitud coseno: 0.22503645427838304, clase: rec.sport.hockey'"
      ]
     },
     "metadata": {},
     "output_type": "display_data"
    },
    {
     "data": {
      "text/plain": [
       "\"CONTENIDO: \\nI only have one comment on this:  You call this a *classic* playoff year\\nand yet you don't include a Chicago-Detroit series.  C'mon, I'm a Boston\\nfan and I even realize that Chicago-Detroit games are\""
      ]
     },
     "metadata": {},
     "output_type": "display_data"
    },
    {
     "data": {
      "text/plain": [
       "'2) Doc similar ID: 9623, similitud coseno: 0.21743229780919432, clase: talk.politics.mideast'"
      ]
     },
     "metadata": {},
     "output_type": "display_data"
    },
    {
     "data": {
      "text/plain": [
       "'CONTENIDO: Accounts of Anti-Armenian Human Right Violations in Azerbaijan #012\\n                 Prelude to Current Events in Nagorno-Karabakh\\n\\n        +---------------------------------------------------------+\\n'"
      ]
     },
     "metadata": {},
     "output_type": "display_data"
    },
    {
     "data": {
      "text/plain": [
       "'3) Doc similar ID: 10575, similitud coseno: 0.21644447761221192, clase: sci.crypt'"
      ]
     },
     "metadata": {},
     "output_type": "display_data"
    },
    {
     "data": {
      "text/plain": [
       "'CONTENIDO: \\nI am not an expert in the cryptography science, but some basic things\\nseem evident to me, things which this Clinton Clipper do not address.\\nThe all pertain to opportunites for abuse, and conclusions '"
      ]
     },
     "metadata": {},
     "output_type": "display_data"
    },
    {
     "data": {
      "text/plain": [
       "'4) Doc similar ID: 10836, similitud coseno: 0.21260319521108376, clase: alt.atheism'"
      ]
     },
     "metadata": {},
     "output_type": "display_data"
    },
    {
     "data": {
      "text/plain": [
       "'CONTENIDO: Archive-name: atheism/faq\\nAlt-atheism-archive-name: faq\\nLast-modified: 5 April 1993\\nVersion: 1.1\\n\\n                    Alt.Atheism Frequently-Asked Questions\\n\\nThis file contains responses to articles w'"
      ]
     },
     "metadata": {},
     "output_type": "display_data"
    },
    {
     "data": {
      "text/plain": [
       "'5) Doc similar ID: 2350, similitud coseno: 0.21107117783786433, clase: sci.crypt'"
      ]
     },
     "metadata": {},
     "output_type": "display_data"
    },
    {
     "data": {
      "text/plain": [
       "'CONTENIDO: Archive-name: net-privacy/part1\\nLast-modified: 1993/3/3\\nVersion: 2.1\\n\\n\\nIDENTITY, PRIVACY, and ANONYMITY on the INTERNET\\n================================================\\n\\n(c) 1993 L. Detweiler.  Not fo'"
      ]
     },
     "metadata": {},
     "output_type": "display_data"
    },
    {
     "data": {
      "text/plain": [
       "'----------------------------------------------------------------------------------------------------'"
      ]
     },
     "metadata": {},
     "output_type": "display_data"
    },
    {
     "data": {
      "text/plain": [
       "'Doc referencia ID:1824, clase: comp.sys.mac.hardware'"
      ]
     },
     "metadata": {},
     "output_type": "display_data"
    },
    {
     "data": {
      "text/plain": [
       "'CONTENIDO: \\n\\n\\tI think this kind of comparison is pretty useless in general.  The\\nprocessor is only good when a good computer is designed around it adn the\\ncomputer is used in its designed purpose.  Comparing pro'"
      ]
     },
     "metadata": {},
     "output_type": "display_data"
    },
    {
     "data": {
      "text/plain": [
       "'1) Doc similar ID: 9921, similitud coseno: 0.35419792160817193, clase: comp.sys.mac.hardware'"
      ]
     },
     "metadata": {},
     "output_type": "display_data"
    },
    {
     "data": {
      "text/plain": [
       "'CONTENIDO: dhk@ubbpc.uucp (Dave Kitabjian) writes ...\\n\\n040 486 030 386 020 286\\n\\n\\n060 fastest, then Pentium, with the first versions of the PowerPC\\nsomewhere in the vicinity.\\n\\n\\nNo.  Computer speed is only partly '"
      ]
     },
     "metadata": {},
     "output_type": "display_data"
    },
    {
     "data": {
      "text/plain": [
       "'2) Doc similar ID: 6364, similitud coseno: 0.31319104088093985, clase: comp.sys.mac.hardware'"
      ]
     },
     "metadata": {},
     "output_type": "display_data"
    },
    {
     "data": {
      "text/plain": [
       "'CONTENIDO: Well folks, after some thought the answer struck me flat in the face:\\n\\n\"Why would Apple release a Duo Dock with a processor of its own?\"\\n\\nHere\\'s why- People have hounded Apple for a notebook with a 68'"
      ]
     },
     "metadata": {},
     "output_type": "display_data"
    },
    {
     "data": {
      "text/plain": [
       "'3) Doc similar ID: 5509, similitud coseno: 0.30413670525282677, clase: comp.sys.mac.hardware'"
      ]
     },
     "metadata": {},
     "output_type": "display_data"
    },
    {
     "data": {
      "text/plain": [
       "'CONTENIDO: rvenkate@ux4.cso.uiuc.edu (Ravikuma Venkateswar) writes ...\\n\\nBenchmarks are for marketing dweebs and CPU envy.  OK, if it will make\\nyou happy, the 486 is faster than the 040.  BFD.  Both architectures'"
      ]
     },
     "metadata": {},
     "output_type": "display_data"
    },
    {
     "data": {
      "text/plain": [
       "'4) Doc similar ID: 2641, similitud coseno: 0.2503826782386589, clase: comp.sys.mac.hardware'"
      ]
     },
     "metadata": {},
     "output_type": "display_data"
    },
    {
     "data": {
      "text/plain": [
       "'CONTENIDO: \\n    I think this is mostly the fault of the people who write up the\\nliterature and price lists being confused themselves. Since there are\\ntwo possible processor configurations and one of the them doe'"
      ]
     },
     "metadata": {},
     "output_type": "display_data"
    },
    {
     "data": {
      "text/plain": [
       "'5) Doc similar ID: 4359, similitud coseno: 0.24167619736986773, clase: comp.sys.mac.hardware'"
      ]
     },
     "metadata": {},
     "output_type": "display_data"
    },
    {
     "data": {
      "text/plain": [
       "'CONTENIDO: If you get the Centris 650 with CD configuration, you are getting a Mac with\\na 68RC040 processor that has built-in math coprocessor support.  My \\nunderstanding is that the \"optional fpu\" refers to you'"
      ]
     },
     "metadata": {},
     "output_type": "display_data"
    },
    {
     "data": {
      "text/plain": [
       "'----------------------------------------------------------------------------------------------------'"
      ]
     },
     "metadata": {},
     "output_type": "display_data"
    },
    {
     "data": {
      "text/plain": [
       "'Doc referencia ID:409, clase: comp.graphics'"
      ]
     },
     "metadata": {},
     "output_type": "display_data"
    },
    {
     "data": {
      "text/plain": [
       "\"CONTENIDO: I can't fiqure this out.  I have properly compiled pov on a unix machine\\nrunning SunOS 4.1.3  The problem is that when I run the sample .pov files and\\nuse the EXACT same parameters when compiling diff\""
      ]
     },
     "metadata": {},
     "output_type": "display_data"
    },
    {
     "data": {
      "text/plain": [
       "'1) Doc similar ID: 3444, similitud coseno: 0.23053284689766265, clase: comp.graphics'"
      ]
     },
     "metadata": {},
     "output_type": "display_data"
    },
    {
     "data": {
      "text/plain": [
       "\"CONTENIDO: Hi, I'm just getting into PoVRay and I was wondering if there is a graphic\\npackage that outputs .POV files.  Any help would be appreciated.\\nThanks.\\n\\nLater'ish\\nCraig\\n\""
      ]
     },
     "metadata": {},
     "output_type": "display_data"
    },
    {
     "data": {
      "text/plain": [
       "'2) Doc similar ID: 5799, similitud coseno: 0.20907273908737237, clase: comp.graphics'"
      ]
     },
     "metadata": {},
     "output_type": "display_data"
    },
    {
     "data": {
      "text/plain": [
       "'CONTENIDO: I finally got a 24 bit viewer for my POVRAY generated .TGA files.\\n\\nIt was written in C by Sean Malloy and he kindly sent me a copy.  He\\nwrote it for the same purpose, to view .TGA files using his Spee'"
      ]
     },
     "metadata": {},
     "output_type": "display_data"
    },
    {
     "data": {
      "text/plain": [
       "'3) Doc similar ID: 5905, similitud coseno: 0.1981754261808808, clase: comp.graphics'"
      ]
     },
     "metadata": {},
     "output_type": "display_data"
    },
    {
     "data": {
      "text/plain": [
       "\"CONTENIDO: \\nHallo POV-Renderers !\\nI've got a BocaX3 Card. Now I try to get POV displaying True Colors\\nwhile rendering. I've tried most of the options and UNIVESA-Driver\\nbut what happens isn't correct.\\nCan anybod\""
      ]
     },
     "metadata": {},
     "output_type": "display_data"
    },
    {
     "data": {
      "text/plain": [
       "'4) Doc similar ID: 1764, similitud coseno: 0.18384984554054173, clase: comp.graphics'"
      ]
     },
     "metadata": {},
     "output_type": "display_data"
    },
    {
     "data": {
      "text/plain": [
       "\"CONTENIDO: hi guys\\n like all people in this group i'm a fans of fractal and render sw\\n my favourite are fractint pov & 3dstudio 2.0 \\n now listen my ideas\\n i'have just starting now to be able to use 3dstudio quit\""
      ]
     },
     "metadata": {},
     "output_type": "display_data"
    },
    {
     "data": {
      "text/plain": [
       "'5) Doc similar ID: 3364, similitud coseno: 0.16585392152558243, clase: comp.graphics'"
      ]
     },
     "metadata": {},
     "output_type": "display_data"
    },
    {
     "data": {
      "text/plain": [
       "'CONTENIDO: Does anyone know of a good way (standard PC application/PD utility) to\\nconvert tif/img/tga files into LaserJet III format.  We would also like to\\ndo the same, converting to HPGL (HP plotter) files.\\n\\nP'"
      ]
     },
     "metadata": {},
     "output_type": "display_data"
    },
    {
     "data": {
      "text/plain": [
       "'----------------------------------------------------------------------------------------------------'"
      ]
     },
     "metadata": {},
     "output_type": "display_data"
    },
    {
     "data": {
      "text/plain": [
       "'Doc referencia ID:4506, clase: rec.autos'"
      ]
     },
     "metadata": {},
     "output_type": "display_data"
    },
    {
     "data": {
      "text/plain": [
       "\"CONTENIDO: \\nThis does sound good, but I heard it tends to leave more grit, etc in the \\noil pan.  Also, I've been told to change the old when it's hot before the\\ngrit has much time to settle.\\n\\nAny opinions?\\n\""
      ]
     },
     "metadata": {},
     "output_type": "display_data"
    },
    {
     "data": {
      "text/plain": [
       "'1) Doc similar ID: 4211, similitud coseno: 0.18936063539057416, clase: rec.motorcycles'"
      ]
     },
     "metadata": {},
     "output_type": "display_data"
    },
    {
     "data": {
      "text/plain": [
       "\"CONTENIDO: \\n\\nIt's normal for the BMW K bikes to use a little oil in the first few thousand \\nmiles.  I don't know why.  I've had three new K bikes, and all three used a\\nbit of oil when new - max maybe .4 quart in\""
      ]
     },
     "metadata": {},
     "output_type": "display_data"
    },
    {
     "data": {
      "text/plain": [
       "'2) Doc similar ID: 5928, similitud coseno: 0.16823674420892193, clase: comp.sys.mac.hardware'"
      ]
     },
     "metadata": {},
     "output_type": "display_data"
    },
    {
     "data": {
      "text/plain": [
       "'CONTENIDO: or\\nthere\\n\\n\\nOkay, I guess its time for a quick explanation of Mac sound.\\n\\nThe original documentation for the sound hardware (IM-3) documents how to\\nmake sound by directly accessing hardware.  Basically'"
      ]
     },
     "metadata": {},
     "output_type": "display_data"
    },
    {
     "data": {
      "text/plain": [
       "'3) Doc similar ID: 6224, similitud coseno: 0.1583340724404407, clase: rec.autos'"
      ]
     },
     "metadata": {},
     "output_type": "display_data"
    },
    {
     "data": {
      "text/plain": [
       "'CONTENIDO: Archive-name: rec-autos/part5\\n\\n[this article is one of a pair of articles containing commonly\\nasked automotive questions; the other article contains questions\\nmore geared to the automotive enthusiast,'"
      ]
     },
     "metadata": {},
     "output_type": "display_data"
    },
    {
     "data": {
      "text/plain": [
       "'4) Doc similar ID: 5171, similitud coseno: 0.157693767056016, clase: rec.autos'"
      ]
     },
     "metadata": {},
     "output_type": "display_data"
    },
    {
     "data": {
      "text/plain": [
       "\"CONTENIDO: \\nIf the tire has a leak you should fix it. \\n\\n\\nDoesn't work too well if the engine is hot, its more accurate to check the\\noil when the engine is cool, i.e. not when you are at a gas station.\""
      ]
     },
     "metadata": {},
     "output_type": "display_data"
    },
    {
     "data": {
      "text/plain": [
       "'5) Doc similar ID: 9491, similitud coseno: 0.1521899666815704, clase: rec.autos'"
      ]
     },
     "metadata": {},
     "output_type": "display_data"
    },
    {
     "data": {
      "text/plain": [
       "'CONTENIDO: My friend brought a subaru SVX recently.  I had drove it for couples times and I\\nthink its a great car, esp on snow.  However when she took it to a local Subaru\\ndealer for a oil change, the bill came '"
      ]
     },
     "metadata": {},
     "output_type": "display_data"
    },
    {
     "data": {
      "text/plain": [
       "'----------------------------------------------------------------------------------------------------'"
      ]
     },
     "metadata": {},
     "output_type": "display_data"
    },
    {
     "data": {
      "text/plain": [
       "'Doc referencia ID:4012, clase: rec.sport.hockey'"
      ]
     },
     "metadata": {},
     "output_type": "display_data"
    },
    {
     "data": {
      "text/plain": [
       "\"CONTENIDO: For those Leaf fans who are concerned, the following players are slated for\\nreturn on Thursday's Winnipeg-Toronto game :\\n    Peter Zezel, John Cullen\\n\\n  Mark Osborne and Dave Ellett are questionable t\""
      ]
     },
     "metadata": {},
     "output_type": "display_data"
    },
    {
     "data": {
      "text/plain": [
       "'1) Doc similar ID: 6599, similitud coseno: 0.16001317417336078, clase: soc.religion.christian'"
      ]
     },
     "metadata": {},
     "output_type": "display_data"
    },
    {
     "data": {
      "text/plain": [
       "'CONTENIDO: True.\\n\\nAlso read 2 Peter 3:16\\n\\nPeter warns that the scriptures are often hard to understand by those who\\nare not learned on the subject.'"
      ]
     },
     "metadata": {},
     "output_type": "display_data"
    },
    {
     "data": {
      "text/plain": [
       "'2) Doc similar ID: 10644, similitud coseno: 0.14276898565096252, clase: rec.sport.hockey'"
      ]
     },
     "metadata": {},
     "output_type": "display_data"
    },
    {
     "data": {
      "text/plain": [
       "\"CONTENIDO: In  <1qvos8$r78@cl.msu.>, vergolin@euler.lbs.msu.edu (David Vergolini) writes...\\n\\nThere's quite a few Wings fans lurking about here, they just tend\\nto be low key and thoughtful rather than woofers.  I\""
      ]
     },
     "metadata": {},
     "output_type": "display_data"
    },
    {
     "data": {
      "text/plain": [
       "'3) Doc similar ID: 7478, similitud coseno: 0.13582073511489307, clase: rec.sport.hockey'"
      ]
     },
     "metadata": {},
     "output_type": "display_data"
    },
    {
     "data": {
      "text/plain": [
       "'CONTENIDO: Toronto                          1 1 1--3\\nDetroit                          1 4 1--6\\nFirst period\\n     1, Detroit, Yzerman 1 (Gallant, Ciccarelli) 4:48.\\n     2, Toronto, Cullen 1 (Clark, Gill) 10:44.\\nS'"
      ]
     },
     "metadata": {},
     "output_type": "display_data"
    },
    {
     "data": {
      "text/plain": [
       "'4) Doc similar ID: 7308, similitud coseno: 0.13177395037929182, clase: rec.sport.hockey'"
      ]
     },
     "metadata": {},
     "output_type": "display_data"
    },
    {
     "data": {
      "text/plain": [
       "\"CONTENIDO: Detroit is a very disciplined team.  There's a lot of Europeans\\nin Detroit which would make the game fast, so Toronto would have\\nto slow the game down, which means drawing penalties, as a last\\nresort \""
      ]
     },
     "metadata": {},
     "output_type": "display_data"
    },
    {
     "data": {
      "text/plain": [
       "'5) Doc similar ID: 10792, similitud coseno: 0.13073210977865626, clase: rec.sport.baseball'"
      ]
     },
     "metadata": {},
     "output_type": "display_data"
    },
    {
     "data": {
      "text/plain": [
       "'CONTENIDO: \\n\\nThe tribe will be in town from April 16 to the 19th.\\nThere are ALWAYS tickets available! (Though they are playing Toronto,\\nand many Toronto fans make the trip to Cleveland as it is easier to\\nget tic'"
      ]
     },
     "metadata": {},
     "output_type": "display_data"
    },
    {
     "data": {
      "text/plain": [
       "'----------------------------------------------------------------------------------------------------'"
      ]
     },
     "metadata": {},
     "output_type": "display_data"
    }
   ],
   "source": [
    "seed = 42\n",
    "random.seed(seed)\n",
    "n_docs = 5\n",
    "sample_docs_idx = random.sample(range(X_train.shape[0]), n_docs)\n",
    "\n",
    "topn_docs = []\n",
    "for i in sample_docs_idx:\n",
    "    topn_docs.append(get_docs_cosine_similarity(X_train, i, 5))\n",
    "print_doc_info(newsgroups_train, topn_docs)\n"
   ]
  },
  {
   "cell_type": "markdown",
   "id": "42852062",
   "metadata": {},
   "source": [
    "Los resultados obtenidos indican que la similitud coseno aplicada a vectores TF-IDF es una herramienta útil para identificar documentos con contenido relacionado al texto de referencia, tanto desde el punto de vista semántico como categórico siempre y cuando exista una alta correlación. \n",
    "\n",
    "Cuando los valores de similitud son elevados, es común que los documentos recuperados pertenezcan a la misma clase y compartan términos específicos del tema. No obstante, en situaciones donde la similitud medida es baja, los documentos obtenidos tienden a no guardar una conexión semántica clara ni coincidir en categoría, lo que sugiere que la vectorización no logra reflejar adecuadamente el contenido textual."
   ]
  },
  {
   "cell_type": "markdown",
   "id": "e87786bf",
   "metadata": {},
   "source": [
    "### Punto 2"
   ]
  },
  {
   "cell_type": "code",
   "execution_count": 142,
   "id": "d80e3161",
   "metadata": {},
   "outputs": [],
   "source": [
    "def cls_test (X_train_tfidf, X_test_tfidf):\n",
    "    clf = MultinomialNB()\n",
    "    clf.fit(X_train_tfidf, y_train)\n",
    "    y_pred =  clf.predict(X_test_tfidf)\n",
    "    display(f\"F1 score para MultinomialNB {f1_score(y_test, y_pred, average='macro')}\")\n",
    "\n",
    "    clf = ComplementNB()\n",
    "    clf.fit(X_train_tfidf, y_train)\n",
    "    y_pred =  clf.predict(X_test_tfidf)\n",
    "    display(f\"F1 score para ComplementNB {f1_score(y_test, y_pred, average='macro')}\")"
   ]
  },
  {
   "cell_type": "code",
   "execution_count": 143,
   "id": "c8116952",
   "metadata": {},
   "outputs": [
    {
     "data": {
      "text/plain": [
       "'TF-IDF default'"
      ]
     },
     "metadata": {},
     "output_type": "display_data"
    },
    {
     "data": {
      "text/plain": [
       "'F1 score para MultinomialNB 0.5854345727938506'"
      ]
     },
     "metadata": {},
     "output_type": "display_data"
    },
    {
     "data": {
      "text/plain": [
       "'F1 score para ComplementNB 0.692953349950875'"
      ]
     },
     "metadata": {},
     "output_type": "display_data"
    },
    {
     "data": {
      "text/plain": [
       "'TF-IDF con parámetros'"
      ]
     },
     "metadata": {},
     "output_type": "display_data"
    },
    {
     "data": {
      "text/plain": [
       "'F1 score para MultinomialNB 0.6503941723196313'"
      ]
     },
     "metadata": {},
     "output_type": "display_data"
    },
    {
     "data": {
      "text/plain": [
       "'F1 score para ComplementNB 0.7037173109758078'"
      ]
     },
     "metadata": {},
     "output_type": "display_data"
    }
   ],
   "source": [
    "newsgroups_train = fetch_20newsgroups(subset='train', remove=('headers', 'footers', 'quotes'))\n",
    "newsgroups_test = fetch_20newsgroups(subset='test', remove=('headers', 'footers', 'quotes'))\n",
    "\n",
    "tfidfvect = TfidfVectorizer()\n",
    "X_train_tfidf = tfidfvect.fit_transform(newsgroups_train.data)\n",
    "idx2word = {v: k for k,v in tfidfvect.vocabulary_.items()}\n",
    "y_train = newsgroups_train.target\n",
    "X_test_tfidf = tfidfvect.transform(newsgroups_test.data)\n",
    "y_test = newsgroups_test.target\n",
    "\n",
    "display(\"TF-IDF default\")\n",
    "cls_test (X_train_tfidf, X_test_tfidf)\n",
    "\n",
    "tfidfvect = TfidfVectorizer(stop_words='english', ngram_range=(1,2), max_df=0.9, min_df=2)\n",
    "X_train_tfidf = tfidfvect.fit_transform(newsgroups_train.data)\n",
    "idx2word = {v: k for k,v in tfidfvect.vocabulary_.items()}\n",
    "y_train = newsgroups_train.target\n",
    "X_test_tfidf = tfidfvect.transform(newsgroups_test.data)\n",
    "y_test = newsgroups_test.target\n",
    "\n",
    "display(\"TF-IDF con parámetros\")\n",
    "cls_test (X_train_tfidf, X_test_tfidf)"
   ]
  },
  {
   "cell_type": "markdown",
   "id": "90b34dc8",
   "metadata": {},
   "source": [
    "Se compararon los modelos MultinomialNB y ComplementNB utilizando representaciones TF-IDF, tanto con la configuración por defecto como con parámetros ajustados (eliminación de stop words en inglés, uso de n-gramas y filtros de frecuencia). \n",
    "\n",
    "Esta diferencia se debe a que ComplementNB fue diseñado como una mejora del MultinomialNB para manejar mejor clases desbalanceadas o términos poco representativos, lo que lo vuelve más robusto en configuraciones básicas. Sin embargo, al aplicar una vectorización más cuidada, MultinomialNB mejora notablemente (de 0.585 a 0.650), reduciendo la brecha de desempeño con ComplementNB, que también mejora ligeramente a 0.704.\n",
    "\n",
    "Estos resultados muestran que ComplementNB es más tolerante a configuraciones simples, mientras que MultinomialNB se beneficia significativamente de una selección adecuada de características."
   ]
  },
  {
   "cell_type": "markdown",
   "id": "9fe3a807",
   "metadata": {},
   "source": [
    "### Punto 3"
   ]
  },
  {
   "cell_type": "code",
   "execution_count": 144,
   "id": "3a850ecd",
   "metadata": {},
   "outputs": [],
   "source": [
    "def get_words_cosine_similarity(X_train_T, tfidfvect, word, n):\n",
    "    topn_dict = {\"word\": word}\n",
    "    try:\n",
    "        word_idx = tfidfvect.vocabulary_[word]\n",
    "    except:\n",
    "        print(f\"{word} no in vocabulary\")\n",
    "    topn_dict.update({\"word_idx\": word_idx})\n",
    "    cossim = cosine_similarity(X_train_T[word_idx], X_train_T)[0]\n",
    "    topn_dict.update({\"word_sim_idx\" : np.argsort(cossim)[::-1][1:n+1], \"word_sim_cosin\" : np.sort(cossim)[::-1][1:n+1]})\n",
    "    return topn_dict\n",
    "\n",
    "def print_word_info(idx2word, topn_words):\n",
    "    for words in topn_words:\n",
    "        display(f\"Palabra referencia {words['word']}, ID:{words['word_idx']}\")\n",
    "        for i in range(len(words['word_sim_idx'])):\n",
    "            display(f\"{i+1}) Palabra similar {idx2word[words['word_sim_idx'][i]]}, ID: {words['word_sim_idx'][i]}, similitud coseno: {words['word_sim_cosin'][i]}\")\n",
    "        display('-'*100)"
   ]
  },
  {
   "cell_type": "code",
   "execution_count": 145,
   "id": "2c79e036",
   "metadata": {},
   "outputs": [
    {
     "data": {
      "text/plain": [
       "'Palabra referencia motorcycle, ID:23793'"
      ]
     },
     "metadata": {},
     "output_type": "display_data"
    },
    {
     "data": {
      "text/plain": [
       "'1) Palabra similar wheelie, ID: 37637, similitud coseno: 0.404315501394809'"
      ]
     },
     "metadata": {},
     "output_type": "display_data"
    },
    {
     "data": {
      "text/plain": [
       "'2) Palabra similar shaft, ID: 31561, similitud coseno: 0.2692545582932047'"
      ]
     },
     "metadata": {},
     "output_type": "display_data"
    },
    {
     "data": {
      "text/plain": [
       "'3) Palabra similar learner, ID: 21091, similitud coseno: 0.23783674199976998'"
      ]
     },
     "metadata": {},
     "output_type": "display_data"
    },
    {
     "data": {
      "text/plain": [
       "'4) Palabra similar bluntly, ID: 7229, similitud coseno: 0.2302796637099688'"
      ]
     },
     "metadata": {},
     "output_type": "display_data"
    },
    {
     "data": {
      "text/plain": [
       "'5) Palabra similar enthusiast, ID: 13800, similitud coseno: 0.2256922997195348'"
      ]
     },
     "metadata": {},
     "output_type": "display_data"
    },
    {
     "data": {
      "text/plain": [
       "'----------------------------------------------------------------------------------------------------'"
      ]
     },
     "metadata": {},
     "output_type": "display_data"
    },
    {
     "data": {
      "text/plain": [
       "'Palabra referencia cpu, ID:10550'"
      ]
     },
     "metadata": {},
     "output_type": "display_data"
    },
    {
     "data": {
      "text/plain": [
       "'1) Palabra similar dislodge, ID: 12367, similitud coseno: 0.356190268602508'"
      ]
     },
     "metadata": {},
     "output_type": "display_data"
    },
    {
     "data": {
      "text/plain": [
       "'2) Palabra similar heatsink, ID: 17394, similitud coseno: 0.3086652738160754'"
      ]
     },
     "metadata": {},
     "output_type": "display_data"
    },
    {
     "data": {
      "text/plain": [
       "'3) Palabra similar cooler, ID: 10292, similitud coseno: 0.29130050924035983'"
      ]
     },
     "metadata": {},
     "output_type": "display_data"
    },
    {
     "data": {
      "text/plain": [
       "'4) Palabra similar bending, ID: 6810, similitud coseno: 0.25026188658596993'"
      ]
     },
     "metadata": {},
     "output_type": "display_data"
    },
    {
     "data": {
      "text/plain": [
       "'5) Palabra similar tasking, ID: 34291, similitud coseno: 0.2498389957627389'"
      ]
     },
     "metadata": {},
     "output_type": "display_data"
    },
    {
     "data": {
      "text/plain": [
       "'----------------------------------------------------------------------------------------------------'"
      ]
     },
     "metadata": {},
     "output_type": "display_data"
    },
    {
     "data": {
      "text/plain": [
       "'Palabra referencia football, ID:15412'"
      ]
     },
     "metadata": {},
     "output_type": "display_data"
    },
    {
     "data": {
      "text/plain": [
       "'1) Palabra similar madden, ID: 22094, similitud coseno: 0.34695776542107865'"
      ]
     },
     "metadata": {},
     "output_type": "display_data"
    },
    {
     "data": {
      "text/plain": [
       "'2) Palabra similar mich, ID: 23097, similitud coseno: 0.304655737958004'"
      ]
     },
     "metadata": {},
     "output_type": "display_data"
    },
    {
     "data": {
      "text/plain": [
       "'3) Palabra similar zabriskie, ID: 38913, similitud coseno: 0.29979462178249405'"
      ]
     },
     "metadata": {},
     "output_type": "display_data"
    },
    {
     "data": {
      "text/plain": [
       "'4) Palabra similar basketball, ID: 6554, similitud coseno: 0.2933647593152447'"
      ]
     },
     "metadata": {},
     "output_type": "display_data"
    },
    {
     "data": {
      "text/plain": [
       "'5) Palabra similar sportstalk, ID: 32810, similitud coseno: 0.28860827446505277'"
      ]
     },
     "metadata": {},
     "output_type": "display_data"
    },
    {
     "data": {
      "text/plain": [
       "'----------------------------------------------------------------------------------------------------'"
      ]
     },
     "metadata": {},
     "output_type": "display_data"
    },
    {
     "data": {
      "text/plain": [
       "'Palabra referencia atheist, ID:5889'"
      ]
     },
     "metadata": {},
     "output_type": "display_data"
    },
    {
     "data": {
      "text/plain": [
       "'1) Palabra similar atheism, ID: 5888, similitud coseno: 0.33245031466909036'"
      ]
     },
     "metadata": {},
     "output_type": "display_data"
    },
    {
     "data": {
      "text/plain": [
       "'2) Palabra similar anarchal, ID: 5086, similitud coseno: 0.31034751316326226'"
      ]
     },
     "metadata": {},
     "output_type": "display_data"
    },
    {
     "data": {
      "text/plain": [
       "'3) Palabra similar atheists, ID: 5891, similitud coseno: 0.2947785138421634'"
      ]
     },
     "metadata": {},
     "output_type": "display_data"
    },
    {
     "data": {
      "text/plain": [
       "'4) Palabra similar doubtless, ID: 12747, similitud coseno: 0.29430041416345676'"
      ]
     },
     "metadata": {},
     "output_type": "display_data"
    },
    {
     "data": {
      "text/plain": [
       "'5) Palabra similar techno, ID: 34379, similitud coseno: 0.2861931096814526'"
      ]
     },
     "metadata": {},
     "output_type": "display_data"
    },
    {
     "data": {
      "text/plain": [
       "'----------------------------------------------------------------------------------------------------'"
      ]
     },
     "metadata": {},
     "output_type": "display_data"
    },
    {
     "data": {
      "text/plain": [
       "'Palabra referencia toronto, ID:35041'"
      ]
     },
     "metadata": {},
     "output_type": "display_data"
    },
    {
     "data": {
      "text/plain": [
       "'1) Palabra similar detroit, ID: 11930, similitud coseno: 0.3812332304163351'"
      ]
     },
     "metadata": {},
     "output_type": "display_data"
    },
    {
     "data": {
      "text/plain": [
       "'2) Palabra similar gilmour, ID: 16314, similitud coseno: 0.2479111071502925'"
      ]
     },
     "metadata": {},
     "output_type": "display_data"
    },
    {
     "data": {
      "text/plain": [
       "'3) Palabra similar chicago, ID: 8879, similitud coseno: 0.24710485460503068'"
      ]
     },
     "metadata": {},
     "output_type": "display_data"
    },
    {
     "data": {
      "text/plain": [
       "'4) Palabra similar eecg, ID: 13301, similitud coseno: 0.19442096527109395'"
      ]
     },
     "metadata": {},
     "output_type": "display_data"
    },
    {
     "data": {
      "text/plain": [
       "'5) Palabra similar disciplined, ID: 12269, similitud coseno: 0.1834678555585414'"
      ]
     },
     "metadata": {},
     "output_type": "display_data"
    },
    {
     "data": {
      "text/plain": [
       "'----------------------------------------------------------------------------------------------------'"
      ]
     },
     "metadata": {},
     "output_type": "display_data"
    }
   ],
   "source": [
    "tfidfvect = TfidfVectorizer(stop_words='english', max_df=0.9, min_df=2) #No voy a utilizar ngrams para que no me busque por pares de palabras\n",
    "X_train_tfidf = tfidfvect.fit_transform(newsgroups_train.data)\n",
    "idx2word = {v: k for k,v in tfidfvect.vocabulary_.items()}\n",
    "y_train = newsgroups_train.target\n",
    "\n",
    "X_train_T = X_train_tfidf.transpose()\n",
    "words2test = ['motorcycle', 'cpu', 'football', 'atheist', 'toronto']\n",
    "topn_words = []\n",
    "for word in words2test:\n",
    "    topn_words.append(get_words_cosine_similarity(X_train_T, tfidfvect, word, 5))\n",
    "print_word_info(idx2word, topn_words)"
   ]
  },
  {
   "cell_type": "markdown",
   "id": "addab9c0",
   "metadata": {},
   "source": [
    "Transponer la matriz TF-IDF de documentos genera una matriz que representa términos en función de los documentos en los que aparecen. El significado de cada término queda definido por su distribución a lo largo del corpus, lo cual está limitado por la cantidad y la categoría de los documentos disponibles.\n",
    "\n",
    "En los ejemplos seleccionados manualmente se observa que términos como 'motorcycle' están fuertemente asociados a 'wheelie' y 'shaft', o que 'cpu' se relaciona con 'heatsink', 'cooler' o 'tasking'. De forma similar, Toronto muestra correlación con otras ciudades como Detroit o Chicago. Sin embargo, el método no es completamente preciso, ya que algunas asociaciones carecen de sentido aparente, posiblemente porque las relaciones entre palabras se manifiestan a nivel de documento y no de coocurrencia directa.\n",
    "\n",
    "TF-IDF este método no considera contexto, orden de palabras ni sintaxis. Para mejorar la representación semántica de las palabras, se recurre a técnicas más avanzadas como los word embeddings, que capturan relaciones contextuales de forma más robusta."
   ]
  }
 ],
 "metadata": {
  "kernelspec": {
   "display_name": "Python 3",
   "language": "python",
   "name": "python3"
  },
  "language_info": {
   "codemirror_mode": {
    "name": "ipython",
    "version": 3
   },
   "file_extension": ".py",
   "mimetype": "text/x-python",
   "name": "python",
   "nbconvert_exporter": "python",
   "pygments_lexer": "ipython3",
   "version": "3.12.5"
  }
 },
 "nbformat": 4,
 "nbformat_minor": 5
}
