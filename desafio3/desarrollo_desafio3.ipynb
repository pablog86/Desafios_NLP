{
 "cells": [
  {
   "cell_type": "markdown",
   "id": "5825d734",
   "metadata": {},
   "source": [
    "<img src=\"https://github.com/hernancontigiani/ceia_memorias_especializacion/raw/master/Figures/logoFIUBA.jpg\" width=\"500\" align=\"center\">\n",
    "\n",
    "\n",
    "# Procesamiento de lenguaje natural\n",
    "## Desafio 3: Modelo de lenguaje con tokenización por caracteres"
   ]
  },
  {
   "cell_type": "markdown",
   "id": "fb9dfb6a",
   "metadata": {},
   "source": [
    "### Consigna\n",
    "- Seleccionar un corpus de texto sobre el cual entrenar el modelo de lenguaje.\n",
    "- Realizar el pre-procesamiento adecuado para tokenizar el corpus, estructurar el dataset y separar entre datos de entrenamiento y validación.\n",
    "- Proponer arquitecturas de redes neuronales basadas en unidades recurrentes para implementar un modelo de lenguaje.\n",
    "- Con el o los modelos que consideren adecuados, generar nuevas secuencias a partir de secuencias de contexto con las estrategias de greedy search y beam search determístico y estocástico. En este último caso observar el efecto de la temperatura en la generación de secuencias.\n",
    "\n",
    "\n",
    "### Sugerencias\n",
    "- Durante el entrenamiento, guiarse por el descenso de la perplejidad en los datos de validación para finalizar el entrenamiento. Para ello se provee un callback.\n",
    "- Explorar utilizar SimpleRNN (celda de Elman), LSTM y GRU.\n",
    "- rmsprop es el optimizador recomendado para la buena convergencia. No obstante se pueden explorar otros."
   ]
  },
  {
   "cell_type": "markdown",
   "id": "a20a2f45",
   "metadata": {},
   "source": [
    "## Imports y preparación dataset"
   ]
  },
  {
   "cell_type": "code",
   "execution_count": 1,
   "id": "b91bb66d",
   "metadata": {},
   "outputs": [],
   "source": [
    "import random\n",
    "import io\n",
    "import pickle\n",
    "import json\n",
    "import os\n",
    "import glob\n",
    "import re\n",
    "\n",
    "from torch.utils.data import Dataset, DataLoader\n",
    "from pytorch_lightning.callbacks import Callback\n",
    "import pytorch_lightning as pl\n",
    "import torch\n",
    "import torch.nn as nn\n",
    "import torch.nn.functional as F\n",
    "import numpy as np\n",
    "import math\n",
    "from pytorch_lightning.callbacks import EarlyStopping, ModelCheckpoint\n",
    "from torch.utils.data import DataLoader\n",
    "import torch.nn.functional as F\n",
    "torch.set_float32_matmul_precision('high')\n",
    "\n",
    "import numpy as np\n",
    "import pandas as pd\n",
    "import matplotlib.pyplot as plt\n",
    "import seaborn as sns\n"
   ]
  },
  {
   "cell_type": "code",
   "execution_count": 2,
   "id": "80ce5722",
   "metadata": {},
   "outputs": [],
   "source": [
    "def set_seed(seed: int = 100):\n",
    "    random.seed(seed)\n",
    "    np.random.seed(seed)\n",
    "    torch.manual_seed(seed)\n",
    "    torch.cuda.manual_seed(seed)\n",
    "    torch.cuda.manual_seed_all(seed)  # Para multi-GPU (si aplica)\n",
    "\n",
    "    # Determinismo en cuDNN (puede impactar en performance)\n",
    "    torch.backends.cudnn.deterministic = True\n",
    "    torch.backends.cudnn.benchmark = False\n",
    "\n",
    "    os.environ['PYTHONHASHSEED'] = str(seed)\n",
    "\n",
    "set_seed()"
   ]
  },
  {
   "cell_type": "code",
   "execution_count": 3,
   "id": "32113c1a",
   "metadata": {},
   "outputs": [],
   "source": [
    "read_files = glob.glob(\"corpus/*.txt\")\n",
    "\n",
    "with open(\"corpus/full_article.txt\", \"wb\") as outfile:\n",
    "    for f in read_files:\n",
    "        with open(f, \"rb\") as infile:\n",
    "            outfile.write(infile.read())"
   ]
  },
  {
   "cell_type": "code",
   "execution_count": 4,
   "id": "0d4ba1fe",
   "metadata": {},
   "outputs": [
    {
     "data": {
      "text/plain": [
       "'Full article len: 5984769'"
      ]
     },
     "metadata": {},
     "output_type": "display_data"
    },
    {
     "data": {
      "text/plain": [
       "'but in the days of bilbo, and of frodo his heir, they suddenly  became, by no wish of their own, both important and renowned, and troubled      the counsels of the wise and the great.   those days, the third age of middle -earth, are now long past, and the  shape of all lands has been changed; but the regions in which hobbits then  lived were doubtless the same as those in which they still linger: the  north-west of the old world'"
      ]
     },
     "metadata": {},
     "output_type": "display_data"
    }
   ],
   "source": [
    "corpus_file = open(\"corpus/full_article.txt\", \"rb\")\n",
    "full_article = corpus_file.read().decode(\"utf-8\").lower()\n",
    "display(f\"Full article len: {len(full_article)}\")\n",
    "display(f\"{full_article[4582:5015].replace('\\n', ' ')}\")\n",
    "\n",
    "# corpus_file = open(\"corpus/Indiana_Jones_scripts.txt\", \"rb\")\n",
    "# full_article = corpus_file.read().decode(\"utf-8\").lower().replace('\\r\\n', ' ')\n",
    "# full_article = re.sub(\" +\" , \" \", full_article)\n",
    "# display(f\"Full article len: {len(full_article)}\")\n",
    "# display(f\"{full_article[4615:5200]}\")"
   ]
  },
  {
   "cell_type": "code",
   "execution_count": 5,
   "id": "f55163d1",
   "metadata": {},
   "outputs": [
    {
     "data": {
      "text/plain": [
       "'Vocabulary len: 77'"
      ]
     },
     "metadata": {},
     "output_type": "display_data"
    }
   ],
   "source": [
    "max_context_size = 200\n",
    "chars_vocab = set(full_article)\n",
    "vocab_size = len(chars_vocab)\n",
    "display(f\"Vocabulary len: {vocab_size}\")"
   ]
  },
  {
   "cell_type": "code",
   "execution_count": 6,
   "id": "e78f5745",
   "metadata": {},
   "outputs": [],
   "source": [
    "# Construimos los dicionarios que asignan índices a caracteres y viceversa.\n",
    "# El diccionario `char2idx` servirá como tokenizador.\n",
    "char2idx = {k: v for v,k in enumerate(chars_vocab)}\n",
    "idx2char = {v: k for k,v in char2idx.items()}"
   ]
  },
  {
   "cell_type": "markdown",
   "id": "4711551d",
   "metadata": {},
   "source": [
    "### Proceso de Tokenizar"
   ]
  },
  {
   "cell_type": "code",
   "execution_count": 7,
   "id": "18eb3440",
   "metadata": {},
   "outputs": [
    {
     "data": {
      "text/plain": [
       "[26,\n",
       " 73,\n",
       " 13,\n",
       " 32,\n",
       " 75,\n",
       " 44,\n",
       " 32,\n",
       " 13,\n",
       " 4,\n",
       " 33,\n",
       " 32,\n",
       " 74,\n",
       " 34,\n",
       " 8,\n",
       " 71,\n",
       " 32,\n",
       " 63,\n",
       " 19,\n",
       " 32,\n",
       " 26,\n",
       " 75,\n",
       " 35,\n",
       " 26,\n",
       " 63,\n",
       " 25,\n",
       " 32,\n",
       " 34,\n",
       " 44,\n",
       " 74,\n",
       " 32,\n",
       " 63,\n",
       " 19,\n",
       " 32,\n",
       " 19,\n",
       " 76,\n",
       " 63,\n",
       " 74,\n",
       " 63,\n",
       " 32,\n",
       " 4,\n",
       " 75,\n",
       " 71,\n",
       " 32,\n",
       " 4,\n",
       " 33,\n",
       " 75,\n",
       " 76,\n",
       " 25,\n",
       " 32,\n",
       " 13,\n",
       " 4,\n",
       " 33,\n",
       " 8,\n",
       " 32,\n",
       " 71,\n",
       " 73,\n",
       " 74,\n",
       " 74,\n",
       " 33,\n",
       " 44,\n",
       " 35,\n",
       " 8,\n",
       " 32,\n",
       " 59,\n",
       " 26,\n",
       " 33,\n",
       " 46,\n",
       " 34,\n",
       " 47,\n",
       " 33,\n",
       " 25,\n",
       " 32,\n",
       " 26,\n",
       " 8,\n",
       " 32,\n",
       " 44,\n",
       " 63,\n",
       " 32,\n",
       " 0,\n",
       " 75,\n",
       " 71,\n",
       " 4,\n",
       " 32,\n",
       " 63,\n",
       " 19,\n",
       " 32,\n",
       " 13,\n",
       " 4,\n",
       " 33,\n",
       " 75,\n",
       " 76,\n",
       " 32,\n",
       " 63,\n",
       " 0,\n",
       " 44,\n",
       " 25,\n",
       " 32,\n",
       " 26,\n",
       " 63,\n",
       " 13,\n",
       " 4,\n",
       " 32,\n",
       " 75,\n",
       " 47,\n",
       " 21,\n",
       " 63,\n",
       " 76,\n",
       " 13,\n",
       " 34,\n",
       " 44,\n",
       " 13,\n",
       " 32,\n",
       " 34,\n",
       " 44,\n",
       " 74,\n",
       " 32,\n",
       " 76,\n",
       " 33,\n",
       " 44,\n",
       " 63,\n",
       " 0,\n",
       " 44,\n",
       " 33,\n",
       " 74,\n",
       " 25,\n",
       " 32,\n",
       " 34,\n",
       " 44,\n",
       " 74,\n",
       " 32,\n",
       " 13,\n",
       " 76,\n",
       " 63,\n",
       " 73,\n",
       " 26,\n",
       " 35,\n",
       " 33,\n",
       " 74,\n",
       " 32,\n",
       " 59,\n",
       " 59,\n",
       " 59,\n",
       " 59,\n",
       " 59,\n",
       " 13,\n",
       " 4,\n",
       " 33,\n",
       " 32,\n",
       " 46,\n",
       " 63,\n",
       " 73,\n",
       " 44,\n",
       " 71,\n",
       " 33,\n",
       " 35,\n",
       " 71,\n",
       " 32,\n",
       " 63,\n",
       " 19,\n",
       " 32,\n",
       " 13,\n",
       " 4,\n",
       " 33,\n",
       " 32,\n",
       " 0,\n",
       " 75,\n",
       " 71,\n",
       " 33,\n",
       " 32,\n",
       " 34,\n",
       " 44,\n",
       " 74,\n",
       " 32,\n",
       " 13,\n",
       " 4,\n",
       " 33,\n",
       " 32,\n",
       " 20,\n",
       " 76,\n",
       " 33,\n",
       " 34,\n",
       " 13,\n",
       " 42,\n",
       " 32,\n",
       " 59,\n",
       " 59,\n",
       " 13,\n",
       " 4,\n",
       " 63,\n",
       " 71,\n",
       " 33,\n",
       " 32,\n",
       " 74,\n",
       " 34,\n",
       " 8,\n",
       " 71,\n",
       " 25,\n",
       " 32,\n",
       " 13,\n",
       " 4,\n",
       " 33,\n",
       " 32,\n",
       " 13,\n",
       " 4,\n",
       " 75,\n",
       " 76,\n",
       " 74,\n",
       " 32,\n",
       " 34,\n",
       " 20,\n",
       " 33,\n",
       " 32,\n",
       " 63,\n",
       " 19,\n",
       " 32,\n",
       " 47,\n",
       " 75,\n",
       " 74,\n",
       " 74,\n",
       " 35,\n",
       " 33,\n",
       " 32,\n",
       " 68,\n",
       " 33,\n",
       " 34,\n",
       " 76,\n",
       " 13,\n",
       " 4,\n",
       " 25,\n",
       " 32,\n",
       " 34,\n",
       " 76,\n",
       " 33,\n",
       " 32,\n",
       " 44,\n",
       " 63,\n",
       " 0,\n",
       " 32,\n",
       " 35,\n",
       " 63,\n",
       " 44,\n",
       " 20,\n",
       " 32,\n",
       " 21,\n",
       " 34,\n",
       " 71,\n",
       " 13,\n",
       " 25,\n",
       " 32,\n",
       " 34,\n",
       " 44,\n",
       " 74,\n",
       " 32,\n",
       " 13,\n",
       " 4,\n",
       " 33,\n",
       " 32,\n",
       " 59,\n",
       " 71,\n",
       " 4,\n",
       " 34,\n",
       " 21,\n",
       " 33,\n",
       " 32,\n",
       " 63,\n",
       " 19,\n",
       " 32,\n",
       " 34,\n",
       " 35,\n",
       " 35,\n",
       " 32,\n",
       " 35,\n",
       " 34,\n",
       " 44,\n",
       " 74,\n",
       " 71,\n",
       " 32,\n",
       " 4,\n",
       " 34,\n",
       " 71,\n",
       " 32,\n",
       " 26,\n",
       " 33,\n",
       " 33,\n",
       " 44,\n",
       " 32,\n",
       " 46,\n",
       " 4,\n",
       " 34,\n",
       " 44,\n",
       " 20,\n",
       " 33,\n",
       " 74,\n",
       " 62,\n",
       " 32,\n",
       " 26,\n",
       " 73,\n",
       " 13,\n",
       " 32,\n",
       " 13,\n",
       " 4,\n",
       " 33,\n",
       " 32,\n",
       " 76,\n",
       " 33,\n",
       " 20,\n",
       " 75,\n",
       " 63,\n",
       " 44,\n",
       " 71,\n",
       " 32,\n",
       " 75,\n",
       " 44,\n",
       " 32,\n",
       " 0,\n",
       " 4,\n",
       " 75,\n",
       " 46,\n",
       " 4,\n",
       " 32,\n",
       " 4,\n",
       " 63,\n",
       " 26,\n",
       " 26,\n",
       " 75,\n",
       " 13,\n",
       " 71,\n",
       " 32,\n",
       " 13,\n",
       " 4,\n",
       " 33,\n",
       " 44,\n",
       " 32,\n",
       " 59,\n",
       " 35,\n",
       " 75,\n",
       " 53,\n",
       " 33,\n",
       " 74,\n",
       " 32,\n",
       " 0,\n",
       " 33,\n",
       " 76,\n",
       " 33,\n",
       " 32,\n",
       " 74,\n",
       " 63,\n",
       " 73,\n",
       " 26,\n",
       " 13,\n",
       " 35,\n",
       " 33,\n",
       " 71,\n",
       " 71,\n",
       " 32,\n",
       " 13,\n",
       " 4,\n",
       " 33,\n",
       " 32,\n",
       " 71,\n",
       " 34,\n",
       " 47,\n",
       " 33,\n",
       " 32,\n",
       " 34,\n",
       " 71,\n",
       " 32,\n",
       " 13,\n",
       " 4,\n",
       " 63,\n",
       " 71,\n",
       " 33,\n",
       " 32,\n",
       " 75,\n",
       " 44,\n",
       " 32,\n",
       " 0,\n",
       " 4,\n",
       " 75,\n",
       " 46,\n",
       " 4,\n",
       " 32,\n",
       " 13,\n",
       " 4,\n",
       " 33,\n",
       " 8,\n",
       " 32,\n",
       " 71,\n",
       " 13,\n",
       " 75,\n",
       " 35,\n",
       " 35,\n",
       " 32,\n",
       " 35,\n",
       " 75,\n",
       " 44,\n",
       " 20,\n",
       " 33,\n",
       " 76,\n",
       " 18,\n",
       " 32,\n",
       " 13,\n",
       " 4,\n",
       " 33,\n",
       " 32,\n",
       " 59,\n",
       " 44,\n",
       " 63,\n",
       " 76,\n",
       " 13,\n",
       " 4,\n",
       " 68,\n",
       " 0,\n",
       " 33,\n",
       " 71,\n",
       " 13,\n",
       " 32,\n",
       " 63,\n",
       " 19,\n",
       " 32,\n",
       " 13,\n",
       " 4,\n",
       " 33,\n",
       " 32,\n",
       " 63,\n",
       " 35,\n",
       " 74,\n",
       " 32,\n",
       " 0,\n",
       " 63,\n",
       " 76,\n",
       " 35,\n",
       " 74]"
      ]
     },
     "metadata": {},
     "output_type": "display_data"
    }
   ],
   "source": [
    "# Vamos a \"tolkienizar\" el texto completo\n",
    "tokenized_text = [char2idx[ch] for ch in full_article]\n",
    "display(tokenized_text[4582:5015])"
   ]
  },
  {
   "cell_type": "markdown",
   "id": "e810c491",
   "metadata": {},
   "source": [
    "### Preparación de los dataset"
   ]
  },
  {
   "cell_type": "code",
   "execution_count": 8,
   "id": "0c110aab",
   "metadata": {},
   "outputs": [],
   "source": [
    "# `p_val` será la proporción del corpus que se reservará para validación\n",
    "# `num_val` es la cantidad de secuencias de tamaño `max_context_size` que se usará en validación\n",
    "p_val = 0.2\n",
    "num_val = int(np.ceil(len(tokenized_text)*p_val/max_context_size))\n",
    "train_text = tokenized_text[:-num_val*max_context_size]\n",
    "val_text = tokenized_text[-num_val*max_context_size:]"
   ]
  },
  {
   "cell_type": "markdown",
   "id": "c31ecffd",
   "metadata": {},
   "source": [
    "## Modelos "
   ]
  },
  {
   "cell_type": "markdown",
   "id": "7fb10b85",
   "metadata": {},
   "source": [
    "### RNN por caracter, modelos: SimpleRNN, GRU, LSTM"
   ]
  },
  {
   "cell_type": "markdown",
   "id": "683c74f3",
   "metadata": {},
   "source": [
    "Se decidió usar Pytorch Lightning en lugar de Keras, porque en mi entorno local con GPU Tensorflow no soporta la última versión de CUDA 12.9 cuando Pytorch si lo hace. \\\n",
    "https://www.tensorflow.org/install/source?hl=en#gpu (Tensorflow 2.19 - CUDA 12.5) \\\n",
    "Como el entorno es parte de mi TF, preferí no cambiar de versiones."
   ]
  },
  {
   "cell_type": "code",
   "execution_count": null,
   "id": "1f5caaf7",
   "metadata": {},
   "outputs": [],
   "source": [
    "class CharDataset(Dataset):\n",
    "    def __init__(self, tokenized_text, max_context_size, p_val=None):\n",
    "        self.max_context_size = max_context_size\n",
    "        if p_val is None:\n",
    "            tokenized_sentences = [tokenized_text[init:init+self.max_context_size] for init in range(len(tokenized_text)-self.max_context_size+1)]\n",
    "        else:\n",
    "            num_val = int(np.ceil(len(tokenized_text)*p_val/max_context_size))\n",
    "            tokenized_sentences = [tokenized_text[init*self.max_context_size:init*(self.max_context_size+1)] for init in range(num_val)]\n",
    "        self.X = np.array(tokenized_sentences[:-1])\n",
    "        self.y = np.array(tokenized_sentences[1:])\n",
    "    def __len__(self):\n",
    "        return len(self.X)\n",
    "    def __getitem__(self, idx):\n",
    "        x = torch.tensor(self.X[idx], dtype=torch.long)\n",
    "        y = torch.tensor(self.y[idx], dtype=torch.long)\n",
    "        return x, y  # Ambos de shape [context_size]\n",
    "\n",
    "\n",
    "class CharRNN(pl.LightningModule):\n",
    "    def __init__(self, vocab_size, hidden_size=300, lr=1e-4, rnn_type='rnn'):\n",
    "        super().__init__()\n",
    "        self.save_hyperparameters()\n",
    "        # Selección dinámica del tipo de RNN\n",
    "        rnn_cls = {'rnn': nn.RNN, 'gru': nn.GRU, 'lstm': nn.LSTM}[rnn_type.lower()]\n",
    "        self.rnn_type = rnn_type.lower()\n",
    "        self.rnn = rnn_cls(input_size=vocab_size, hidden_size=hidden_size, batch_first=True)\n",
    "        self.dropout = nn.Dropout(0.1)\n",
    "        self.fc = nn.Linear(hidden_size, vocab_size)\n",
    "\n",
    "    def forward(self, x):\n",
    "        x_onehot = F.one_hot(x, num_classes=self.hparams.vocab_size).float()  # (B, T, V)\n",
    "        if self.rnn_type == 'lstm':\n",
    "            out, (_, _) = self.rnn(x_onehot)\n",
    "        else:\n",
    "            out, _ = self.rnn(x_onehot)\n",
    "        out = self.dropout(out)\n",
    "        logits = self.fc(out)  # (B, T, V)\n",
    "        return logits\n",
    "\n",
    "    def training_step(self, batch, batch_idx):\n",
    "        x, y = batch  # (B, T)\n",
    "        logits = self(x)  # (B, T, V)\n",
    "        loss = F.cross_entropy(logits.view(-1, self.hparams.vocab_size), y.view(-1))\n",
    "        self.log(\"train_loss\", loss)\n",
    "        return loss\n",
    "\n",
    "    def validation_step(self, batch, batch_idx):\n",
    "        x, y = batch\n",
    "        logits = self(x)  # (B, T, V)\n",
    "        probs = F.softmax(logits, dim=-1)\n",
    "        B, T, V = probs.shape\n",
    "        y_flat = y.view(-1)\n",
    "        probs_flat = probs.view(-1, V)\n",
    "        chosen_probs = probs_flat[torch.arange(B * T), y_flat]\n",
    "        log_probs = torch.log(chosen_probs + 1e-8)\n",
    "        # Acumulamos para el cálculo en on_validation_epoch_end\n",
    "        if not hasattr(self, \"val_log_probs\"):\n",
    "            self.val_log_probs = []\n",
    "        self.val_log_probs.append(log_probs)\n",
    "\n",
    "    def on_validation_epoch_end(self):\n",
    "        all_log_probs = torch.cat(self.val_log_probs, dim=0)\n",
    "        perplexity = torch.exp(-all_log_probs.mean()).item()\n",
    "        if not hasattr(self, \"ppl_history\"):\n",
    "            self.ppl_history = []\n",
    "        self.ppl_history.append(perplexity)\n",
    "        print(f\"\\nMean Perplexity: {perplexity:.4f}\")\n",
    "        self.log(\"perplexity\", perplexity, prog_bar=True)\n",
    "        self.val_log_probs.clear()\n",
    "\n",
    "    def configure_optimizers(self):\n",
    "        return torch.optim.RMSprop(self.parameters(), lr=self.hparams.lr)\n",
    "\n",
    "    def state_dict(self, *args, **kwargs):\n",
    "        state = super().state_dict(*args, **kwargs)\n",
    "        # Agregamos el historial manualmente\n",
    "        state['ppl_history'] = self.ppl_history if hasattr(self, 'ppl_history') else []\n",
    "        return state\n",
    "\n",
    "    def load_state_dict(self, state_dict, *args, **kwargs):\n",
    "        # Restauramos el historial si está\n",
    "        self.ppl_history = state_dict.pop('ppl_history', [])\n",
    "        super().load_state_dict(state_dict, *args, **kwargs)"
   ]
  },
  {
   "cell_type": "markdown",
   "id": "58c46d93",
   "metadata": {},
   "source": [
    "Funcion para train de los 3 modelos y funciones para graficar y comparar"
   ]
  },
  {
   "cell_type": "code",
   "execution_count": 19,
   "id": "8bdf8b95",
   "metadata": {},
   "outputs": [],
   "source": [
    "def train_rnn_variant(rnn_type, vocab_size, train_loader, val_loader, checkpoint_path=None):\n",
    "    if checkpoint_path is None:\n",
    "        model = CharRNN(vocab_size=vocab_size, rnn_type=rnn_type)\n",
    "    else:\n",
    "        model = CharRNN.load_from_checkpoint(checkpoint_path)\n",
    "    print(model.hparams)\n",
    "    early_stop = EarlyStopping(monitor=\"perplexity\", patience=5, mode=\"min\", verbose=True)\n",
    "    checkpoint = ModelCheckpoint(monitor=\"perplexity\", mode=\"min\", filename=\"best-perplexity\", verbose=True)\n",
    "    trainer = pl.Trainer(max_epochs=50, accelerator=\"gpu\", devices=1, callbacks=[early_stop, checkpoint])\n",
    "    trainer.fit(model, train_loader, val_loader)\n",
    "    torch.save(model, f\"models/char_{rnn_type}_model.pt\")\n",
    "    torch.save(model.state_dict(), f\"models/char_{rnn_type}_weights.pt\")\n",
    "    with open(f\"results/char_{rnn_type}_perplexity_history.json\", \"w\") as f:\n",
    "        json.dump(model.ppl_history, f)\n",
    "    return model\n",
    "\n",
    "def print_perplexity(model, title):\n",
    "    epoch_count = range(1, len(model.ppl_history[1:]) + 1)\n",
    "    sns.lineplot(x=epoch_count, y=model.ppl_history[1:])    # No se muestra el perplexity medio para el sanity check\n",
    "    plt.xlabel(\"Epoch\")\n",
    "    plt.ylabel(\"Perplexity\")\n",
    "    plt.title(title)\n",
    "    plt.show()\n",
    "\n",
    "def compare_rnn(models, titles):\n",
    "    plt.figure(figsize=(10, 6))\n",
    "    for i, model in enumerate(models):\n",
    "        y = model.ppl_history[1:]\n",
    "        x = np.arange(1, len(y) + 1)\n",
    "        line, = plt.plot(x, y, label=titles[i])\n",
    "        # Mínimo\n",
    "        min_idx = int(np.argmin(y)) + 1  # epoch correspondiente\n",
    "        min_val = float(np.min(y))\n",
    "        # Línea vertical\n",
    "        plt.axvline(x=min_idx, linestyle=\"--\", color=line.get_color(), alpha=0.6)\n",
    "        # Texto con epoch y valor\n",
    "        plt.text(min_idx, min_val + 0.1,  # levanto un poco para que no se solape\n",
    "                 f\"Epoch {min_idx}\\nPPL {min_val:.2f}\",\n",
    "                 color=line.get_color(),\n",
    "                 fontsize=9,\n",
    "                 ha=\"center\", va=\"bottom\",\n",
    "                 bbox=dict(facecolor=\"white\", edgecolor=line.get_color(), boxstyle=\"round,pad=0.3\", alpha=0.8))\n",
    "    plt.legend()\n",
    "    plt.xlabel(\"Epoch\")\n",
    "    plt.ylabel(\"Perplexity\")\n",
    "    plt.title(\"Comparación de arquitecturas RNN\")\n",
    "    plt.grid(True)\n",
    "    plt.tight_layout()\n",
    "    plt.show()\n",
    "\n",
    "def generate_text(model, start_string, char2idx, idx2char, max_context_size=100, gen_length=100, temperature=1.0):\n",
    "    model.eval()\n",
    "    input_chars = list(start_string)\n",
    "    input_ids = [char2idx[c] for c in input_chars if c in char2idx][-max_context_size:]\n",
    "    generated = input_chars.copy()\n",
    "    for _ in range(gen_length):\n",
    "        input_tensor = torch.tensor([input_ids], dtype=torch.long).to(model.device)\n",
    "        with torch.no_grad():\n",
    "            logits = model(input_tensor)\n",
    "            last_logits = logits[0, -1]\n",
    "            if temperature > 0:\n",
    "                probs = torch.softmax(last_logits / temperature, dim=0)\n",
    "                next_id = torch.multinomial(probs, num_samples=1).item()\n",
    "            else:\n",
    "                next_id = torch.argmax(logits[0, -1], dim=-1).item()  # En Greedy me quedo con la proxima mas probable\n",
    "        input_ids.append(next_id)\n",
    "        input_ids = input_ids[-max_context_size:]\n",
    "        generated.append(idx2char[next_id])\n",
    "    return ''.join(generated).replace(\"\\n\", \" \")"
   ]
  },
  {
   "cell_type": "markdown",
   "id": "c8723238",
   "metadata": {},
   "source": [
    "Beam Search"
   ]
  },
  {
   "cell_type": "code",
   "execution_count": 11,
   "id": "6eaa03b7",
   "metadata": {},
   "outputs": [],
   "source": [
    "def select_candidates(preds, num_beams, vocab_size, history_probs, history_tokens, temperature, mode):\n",
    "    pred_large = []\n",
    "    for idx, pp in enumerate(preds):\n",
    "        pred_large.extend(np.log(pp + 1e-10) + history_probs[idx])  # log suma acumulada\n",
    "    pred_large = np.array(pred_large)\n",
    "    if mode == 'det':\n",
    "        idx_select = np.argsort(pred_large)[::-1][:num_beams]\n",
    "    elif mode == 'sto':\n",
    "        idx_select = np.random.choice(\n",
    "            np.arange(pred_large.shape[0]), num_beams, p=torch.softmax(pred_large / temperature)\n",
    "        )\n",
    "    else:\n",
    "        raise ValueError(f'Modo no soportado: {mode}')\n",
    "    # reconstruir nuevas secuencias\n",
    "    new_history_tokens = np.concatenate(\n",
    "        (np.array(history_tokens)[idx_select // vocab_size],\n",
    "         np.array([idx_select % vocab_size]).T),\n",
    "        axis=1\n",
    "    )\n",
    "    return pred_large[idx_select.astype(int)], new_history_tokens.astype(int)\n",
    "\n",
    "def beam_search(model, input_str, char2idx, idx2char, num_beams=3, num_chars=100, temperature=1.0, mode='det', max_context_size=100):\n",
    "    model.eval()\n",
    "    device = next(model.parameters()).device\n",
    "    input_ids = [char2idx[c] for c in input_str if c in char2idx]\n",
    "    input_ids = input_ids[-max_context_size:]\n",
    "    vocab_size = len(char2idx)\n",
    "    with torch.no_grad():\n",
    "        input_tensor = torch.tensor([input_ids], dtype=torch.long, device=device)\n",
    "        logits = model(input_tensor)\n",
    "        probs = F.softmax(logits[0, -1], dim=-1).cpu().numpy()\n",
    "    # inicializar beam\n",
    "    history_probs = [0] * num_beams\n",
    "    history_tokens = [np.array(input_ids)] * num_beams\n",
    "\n",
    "    history_probs, history_tokens = select_candidates(\n",
    "        [probs], num_beams, vocab_size, history_probs, history_tokens, temperature, mode\n",
    "    )\n",
    "    # loop beam search\n",
    "    for i in range(num_chars - 1):\n",
    "        preds = []\n",
    "        for hist in history_tokens:\n",
    "            input_update = hist[-max_context_size:]\n",
    "            input_tensor = torch.tensor([input_update], dtype=torch.long, device=device)\n",
    "            with torch.no_grad():\n",
    "                logits = model(input_tensor)\n",
    "                probs = F.softmax(logits[0, -1], dim=-1).cpu().numpy()\n",
    "            preds.append(probs)\n",
    "        history_probs, history_tokens = select_candidates(\n",
    "            preds, num_beams, vocab_size, history_probs, history_tokens, temperature, mode\n",
    "        )\n",
    "    best_sequence = history_tokens[0]\n",
    "    return ''.join(idx2char[idx] for idx in best_sequence)"
   ]
  },
  {
   "cell_type": "markdown",
   "id": "56f2a60d",
   "metadata": {},
   "source": [
    "Cargamos los datos para pasarlo a los modelos"
   ]
  },
  {
   "cell_type": "code",
   "execution_count": 12,
   "id": "2d71060e",
   "metadata": {},
   "outputs": [],
   "source": [
    "# Dataset y loaders\n",
    "train_ds = CharDataset(train_text, max_context_size)\n",
    "val_ds = CharDataset(val_text, max_context_size)\n",
    "\n",
    "train_loader = DataLoader(train_ds, batch_size=1024, shuffle=True, num_workers=0)   # Windows num_workers=0\n",
    "val_loader = DataLoader(val_ds, batch_size=1024, num_workers=0, drop_last=True)"
   ]
  },
  {
   "cell_type": "markdown",
   "id": "c1a9648b",
   "metadata": {},
   "source": [
    "#### Simple RNN"
   ]
  },
  {
   "cell_type": "code",
   "execution_count": 21,
   "id": "3cf186e3",
   "metadata": {},
   "outputs": [
    {
     "name": "stderr",
     "output_type": "stream",
     "text": [
      "GPU available: True (cuda), used: True\n",
      "TPU available: False, using: 0 TPU cores\n",
      "HPU available: False, using: 0 HPUs\n",
      "LOCAL_RANK: 0 - CUDA_VISIBLE_DEVICES: [0]\n",
      "\n",
      "  | Name    | Type    | Params | Mode \n",
      "--------------------------------------------\n",
      "0 | rnn     | RNN     | 113 K  | train\n",
      "1 | dropout | Dropout | 0      | train\n",
      "2 | fc      | Linear  | 23.2 K | train\n",
      "--------------------------------------------\n",
      "136 K     Trainable params\n",
      "0         Non-trainable params\n",
      "136 K     Total params\n",
      "0.548     Total estimated model params size (MB)\n",
      "3         Modules in train mode\n",
      "0         Modules in eval mode\n"
     ]
    },
    {
     "name": "stdout",
     "output_type": "stream",
     "text": [
      "\"hidden_size\": 300\n",
      "\"lr\":          0.0001\n",
      "\"rnn_type\":    rnn\n",
      "\"vocab_size\":  77\n",
      "Sanity Checking DataLoader 0:   0%|          | 0/2 [00:00<?, ?it/s]"
     ]
    },
    {
     "name": "stderr",
     "output_type": "stream",
     "text": [
      "c:\\Users\\Pablo\\IA-repos\\Desafios_NLP\\venv\\Lib\\site-packages\\pytorch_lightning\\trainer\\connectors\\data_connector.py:425: The 'val_dataloader' does not have many workers which may be a bottleneck. Consider increasing the value of the `num_workers` argument` to `num_workers=19` in the `DataLoader` to improve performance.\n"
     ]
    },
    {
     "name": "stdout",
     "output_type": "stream",
     "text": [
      "Sanity Checking DataLoader 0: 100%|██████████| 2/2 [00:00<00:00,  3.46it/s]\n",
      "Mean Perplexity: 77.8167\n",
      "                                                                           "
     ]
    },
    {
     "name": "stderr",
     "output_type": "stream",
     "text": [
      "c:\\Users\\Pablo\\IA-repos\\Desafios_NLP\\venv\\Lib\\site-packages\\pytorch_lightning\\trainer\\connectors\\data_connector.py:425: The 'train_dataloader' does not have many workers which may be a bottleneck. Consider increasing the value of the `num_workers` argument` to `num_workers=19` in the `DataLoader` to improve performance.\n"
     ]
    },
    {
     "name": "stdout",
     "output_type": "stream",
     "text": [
      "Epoch 0:   2%|▏         | 71/4676 [02:33<2:45:31,  0.46it/s, v_num=49]\n",
      "Epoch 1:  53%|█████▎    | 2474/4676 [10:33<09:24,  3.90it/s, v_num=48, perplexity=8.600]\n",
      "Epoch 0: 100%|██████████| 4676/4676 [14:39<00:00,  5.32it/s, v_num=50]\n",
      "Mean Perplexity: 8.5926\n",
      "Epoch 0: 100%|██████████| 4676/4676 [18:08<00:00,  4.30it/s, v_num=50, perplexity=8.590]"
     ]
    },
    {
     "name": "stderr",
     "output_type": "stream",
     "text": [
      "Metric perplexity improved. New best score: 8.593\n",
      "Epoch 0, global step 4676: 'perplexity' reached 8.59258 (best 8.59258), saving model to 'c:\\\\Users\\\\Pablo\\\\IA-repos\\\\Desafios_NLP\\\\desafio3\\\\lightning_logs\\\\version_50\\\\checkpoints\\\\best-perplexity.ckpt' as top 1\n"
     ]
    },
    {
     "name": "stdout",
     "output_type": "stream",
     "text": [
      "Epoch 1: 100%|██████████| 4676/4676 [14:36<00:00,  5.34it/s, v_num=50, perplexity=8.590]\n",
      "Mean Perplexity: 7.2467\n",
      "Epoch 1: 100%|██████████| 4676/4676 [18:03<00:00,  4.31it/s, v_num=50, perplexity=7.250]"
     ]
    },
    {
     "name": "stderr",
     "output_type": "stream",
     "text": [
      "Metric perplexity improved by 1.346 >= min_delta = 0.0. New best score: 7.247\n",
      "Epoch 1, global step 9352: 'perplexity' reached 7.24673 (best 7.24673), saving model to 'c:\\\\Users\\\\Pablo\\\\IA-repos\\\\Desafios_NLP\\\\desafio3\\\\lightning_logs\\\\version_50\\\\checkpoints\\\\best-perplexity.ckpt' as top 1\n"
     ]
    },
    {
     "name": "stdout",
     "output_type": "stream",
     "text": [
      "Epoch 2: 100%|██████████| 4676/4676 [14:37<00:00,  5.33it/s, v_num=50, perplexity=7.250]\n",
      "Mean Perplexity: 6.6052\n",
      "Epoch 2: 100%|██████████| 4676/4676 [18:05<00:00,  4.31it/s, v_num=50, perplexity=6.610]"
     ]
    },
    {
     "name": "stderr",
     "output_type": "stream",
     "text": [
      "Metric perplexity improved by 0.642 >= min_delta = 0.0. New best score: 6.605\n",
      "Epoch 2, global step 14028: 'perplexity' reached 6.60516 (best 6.60516), saving model to 'c:\\\\Users\\\\Pablo\\\\IA-repos\\\\Desafios_NLP\\\\desafio3\\\\lightning_logs\\\\version_50\\\\checkpoints\\\\best-perplexity.ckpt' as top 1\n"
     ]
    },
    {
     "name": "stdout",
     "output_type": "stream",
     "text": [
      "Epoch 3: 100%|██████████| 4676/4676 [14:35<00:00,  5.34it/s, v_num=50, perplexity=6.610]\n",
      "Mean Perplexity: 6.2721\n",
      "Epoch 3: 100%|██████████| 4676/4676 [18:03<00:00,  4.32it/s, v_num=50, perplexity=6.270]"
     ]
    },
    {
     "name": "stderr",
     "output_type": "stream",
     "text": [
      "Metric perplexity improved by 0.333 >= min_delta = 0.0. New best score: 6.272\n",
      "Epoch 3, global step 18704: 'perplexity' reached 6.27205 (best 6.27205), saving model to 'c:\\\\Users\\\\Pablo\\\\IA-repos\\\\Desafios_NLP\\\\desafio3\\\\lightning_logs\\\\version_50\\\\checkpoints\\\\best-perplexity.ckpt' as top 1\n"
     ]
    },
    {
     "name": "stdout",
     "output_type": "stream",
     "text": [
      "Epoch 4: 100%|██████████| 4676/4676 [14:35<00:00,  5.34it/s, v_num=50, perplexity=6.270]\n",
      "Mean Perplexity: 6.0190\n",
      "Epoch 4: 100%|██████████| 4676/4676 [18:03<00:00,  4.32it/s, v_num=50, perplexity=6.020]"
     ]
    },
    {
     "name": "stderr",
     "output_type": "stream",
     "text": [
      "Metric perplexity improved by 0.253 >= min_delta = 0.0. New best score: 6.019\n",
      "Epoch 4, global step 23380: 'perplexity' reached 6.01897 (best 6.01897), saving model to 'c:\\\\Users\\\\Pablo\\\\IA-repos\\\\Desafios_NLP\\\\desafio3\\\\lightning_logs\\\\version_50\\\\checkpoints\\\\best-perplexity.ckpt' as top 1\n"
     ]
    },
    {
     "name": "stdout",
     "output_type": "stream",
     "text": [
      "Epoch 5: 100%|██████████| 4676/4676 [14:35<00:00,  5.34it/s, v_num=50, perplexity=6.020]\n",
      "Mean Perplexity: 5.8726\n",
      "Epoch 5: 100%|██████████| 4676/4676 [18:02<00:00,  4.32it/s, v_num=50, perplexity=5.870]"
     ]
    },
    {
     "name": "stderr",
     "output_type": "stream",
     "text": [
      "Metric perplexity improved by 0.146 >= min_delta = 0.0. New best score: 5.873\n",
      "Epoch 5, global step 28056: 'perplexity' reached 5.87259 (best 5.87259), saving model to 'c:\\\\Users\\\\Pablo\\\\IA-repos\\\\Desafios_NLP\\\\desafio3\\\\lightning_logs\\\\version_50\\\\checkpoints\\\\best-perplexity.ckpt' as top 1\n"
     ]
    },
    {
     "name": "stdout",
     "output_type": "stream",
     "text": [
      "Epoch 6: 100%|██████████| 4676/4676 [14:35<00:00,  5.34it/s, v_num=50, perplexity=5.870]\n",
      "Mean Perplexity: 5.7638\n",
      "Epoch 6: 100%|██████████| 4676/4676 [18:03<00:00,  4.31it/s, v_num=50, perplexity=5.760]"
     ]
    },
    {
     "name": "stderr",
     "output_type": "stream",
     "text": [
      "Metric perplexity improved by 0.109 >= min_delta = 0.0. New best score: 5.764\n",
      "Epoch 6, global step 32732: 'perplexity' reached 5.76376 (best 5.76376), saving model to 'c:\\\\Users\\\\Pablo\\\\IA-repos\\\\Desafios_NLP\\\\desafio3\\\\lightning_logs\\\\version_50\\\\checkpoints\\\\best-perplexity.ckpt' as top 1\n"
     ]
    },
    {
     "name": "stdout",
     "output_type": "stream",
     "text": [
      "Epoch 7: 100%|██████████| 4676/4676 [14:38<00:00,  5.32it/s, v_num=50, perplexity=5.760]\n",
      "Mean Perplexity: 5.6971\n",
      "Epoch 7: 100%|██████████| 4676/4676 [18:10<00:00,  4.29it/s, v_num=50, perplexity=5.700]"
     ]
    },
    {
     "name": "stderr",
     "output_type": "stream",
     "text": [
      "Metric perplexity improved by 0.067 >= min_delta = 0.0. New best score: 5.697\n",
      "Epoch 7, global step 37408: 'perplexity' reached 5.69712 (best 5.69712), saving model to 'c:\\\\Users\\\\Pablo\\\\IA-repos\\\\Desafios_NLP\\\\desafio3\\\\lightning_logs\\\\version_50\\\\checkpoints\\\\best-perplexity.ckpt' as top 1\n"
     ]
    },
    {
     "name": "stdout",
     "output_type": "stream",
     "text": [
      "Epoch 8: 100%|██████████| 4676/4676 [14:41<00:00,  5.30it/s, v_num=50, perplexity=5.700]\n",
      "Mean Perplexity: 5.6318\n",
      "Epoch 8: 100%|██████████| 4676/4676 [18:10<00:00,  4.29it/s, v_num=50, perplexity=5.630]"
     ]
    },
    {
     "name": "stderr",
     "output_type": "stream",
     "text": [
      "Metric perplexity improved by 0.065 >= min_delta = 0.0. New best score: 5.632\n",
      "Epoch 8, global step 42084: 'perplexity' reached 5.63181 (best 5.63181), saving model to 'c:\\\\Users\\\\Pablo\\\\IA-repos\\\\Desafios_NLP\\\\desafio3\\\\lightning_logs\\\\version_50\\\\checkpoints\\\\best-perplexity.ckpt' as top 1\n"
     ]
    },
    {
     "name": "stdout",
     "output_type": "stream",
     "text": [
      "Epoch 9: 100%|██████████| 4676/4676 [14:38<00:00,  5.32it/s, v_num=50, perplexity=5.630]\n",
      "Mean Perplexity: 5.5903\n",
      "Epoch 9: 100%|██████████| 4676/4676 [18:07<00:00,  4.30it/s, v_num=50, perplexity=5.590]"
     ]
    },
    {
     "name": "stderr",
     "output_type": "stream",
     "text": [
      "Metric perplexity improved by 0.042 >= min_delta = 0.0. New best score: 5.590\n",
      "Epoch 9, global step 46760: 'perplexity' reached 5.59029 (best 5.59029), saving model to 'c:\\\\Users\\\\Pablo\\\\IA-repos\\\\Desafios_NLP\\\\desafio3\\\\lightning_logs\\\\version_50\\\\checkpoints\\\\best-perplexity.ckpt' as top 1\n"
     ]
    },
    {
     "name": "stdout",
     "output_type": "stream",
     "text": [
      "Epoch 10: 100%|██████████| 4676/4676 [14:37<00:00,  5.33it/s, v_num=50, perplexity=5.590]\n",
      "Mean Perplexity: 5.5599\n",
      "Epoch 10: 100%|██████████| 4676/4676 [18:05<00:00,  4.31it/s, v_num=50, perplexity=5.560]"
     ]
    },
    {
     "name": "stderr",
     "output_type": "stream",
     "text": [
      "Metric perplexity improved by 0.030 >= min_delta = 0.0. New best score: 5.560\n",
      "Epoch 10, global step 51436: 'perplexity' reached 5.55991 (best 5.55991), saving model to 'c:\\\\Users\\\\Pablo\\\\IA-repos\\\\Desafios_NLP\\\\desafio3\\\\lightning_logs\\\\version_50\\\\checkpoints\\\\best-perplexity.ckpt' as top 1\n"
     ]
    },
    {
     "name": "stdout",
     "output_type": "stream",
     "text": [
      "Epoch 11: 100%|██████████| 4676/4676 [14:37<00:00,  5.33it/s, v_num=50, perplexity=5.560]\n",
      "Mean Perplexity: 5.5012\n",
      "Epoch 11: 100%|██████████| 4676/4676 [18:06<00:00,  4.30it/s, v_num=50, perplexity=5.500]"
     ]
    },
    {
     "name": "stderr",
     "output_type": "stream",
     "text": [
      "Metric perplexity improved by 0.059 >= min_delta = 0.0. New best score: 5.501\n",
      "Epoch 11, global step 56112: 'perplexity' reached 5.50120 (best 5.50120), saving model to 'c:\\\\Users\\\\Pablo\\\\IA-repos\\\\Desafios_NLP\\\\desafio3\\\\lightning_logs\\\\version_50\\\\checkpoints\\\\best-perplexity.ckpt' as top 1\n"
     ]
    },
    {
     "name": "stdout",
     "output_type": "stream",
     "text": [
      "Epoch 12: 100%|██████████| 4676/4676 [14:36<00:00,  5.33it/s, v_num=50, perplexity=5.500]\n",
      "Mean Perplexity: 5.4865\n",
      "Epoch 12: 100%|██████████| 4676/4676 [18:04<00:00,  4.31it/s, v_num=50, perplexity=5.490]"
     ]
    },
    {
     "name": "stderr",
     "output_type": "stream",
     "text": [
      "Metric perplexity improved by 0.015 >= min_delta = 0.0. New best score: 5.486\n",
      "Epoch 12, global step 60788: 'perplexity' reached 5.48648 (best 5.48648), saving model to 'c:\\\\Users\\\\Pablo\\\\IA-repos\\\\Desafios_NLP\\\\desafio3\\\\lightning_logs\\\\version_50\\\\checkpoints\\\\best-perplexity.ckpt' as top 1\n"
     ]
    },
    {
     "name": "stdout",
     "output_type": "stream",
     "text": [
      "Epoch 13: 100%|██████████| 4676/4676 [14:37<00:00,  5.33it/s, v_num=50, perplexity=5.490]\n",
      "Mean Perplexity: 5.4678\n",
      "Epoch 13: 100%|██████████| 4676/4676 [18:14<00:00,  4.27it/s, v_num=50, perplexity=5.470]"
     ]
    },
    {
     "name": "stderr",
     "output_type": "stream",
     "text": [
      "Metric perplexity improved by 0.019 >= min_delta = 0.0. New best score: 5.468\n",
      "Epoch 13, global step 65464: 'perplexity' reached 5.46782 (best 5.46782), saving model to 'c:\\\\Users\\\\Pablo\\\\IA-repos\\\\Desafios_NLP\\\\desafio3\\\\lightning_logs\\\\version_50\\\\checkpoints\\\\best-perplexity.ckpt' as top 1\n"
     ]
    },
    {
     "name": "stdout",
     "output_type": "stream",
     "text": [
      "Epoch 14: 100%|██████████| 4676/4676 [14:43<00:00,  5.29it/s, v_num=50, perplexity=5.470]\n",
      "Mean Perplexity: 5.4657\n",
      "Epoch 14: 100%|██████████| 4676/4676 [18:17<00:00,  4.26it/s, v_num=50, perplexity=5.470]"
     ]
    },
    {
     "name": "stderr",
     "output_type": "stream",
     "text": [
      "Metric perplexity improved by 0.002 >= min_delta = 0.0. New best score: 5.466\n",
      "Epoch 14, global step 70140: 'perplexity' reached 5.46568 (best 5.46568), saving model to 'c:\\\\Users\\\\Pablo\\\\IA-repos\\\\Desafios_NLP\\\\desafio3\\\\lightning_logs\\\\version_50\\\\checkpoints\\\\best-perplexity.ckpt' as top 1\n"
     ]
    },
    {
     "name": "stdout",
     "output_type": "stream",
     "text": [
      "Epoch 15: 100%|██████████| 4676/4676 [14:45<00:00,  5.28it/s, v_num=50, perplexity=5.470]\n",
      "Mean Perplexity: 5.4399\n",
      "Epoch 15: 100%|██████████| 4676/4676 [18:13<00:00,  4.28it/s, v_num=50, perplexity=5.440]"
     ]
    },
    {
     "name": "stderr",
     "output_type": "stream",
     "text": [
      "Metric perplexity improved by 0.026 >= min_delta = 0.0. New best score: 5.440\n",
      "Epoch 15, global step 74816: 'perplexity' reached 5.43993 (best 5.43993), saving model to 'c:\\\\Users\\\\Pablo\\\\IA-repos\\\\Desafios_NLP\\\\desafio3\\\\lightning_logs\\\\version_50\\\\checkpoints\\\\best-perplexity.ckpt' as top 1\n"
     ]
    },
    {
     "name": "stdout",
     "output_type": "stream",
     "text": [
      "Epoch 16: 100%|██████████| 4676/4676 [14:37<00:00,  5.33it/s, v_num=50, perplexity=5.440]\n",
      "Mean Perplexity: 5.4320\n",
      "Epoch 16: 100%|██████████| 4676/4676 [18:05<00:00,  4.31it/s, v_num=50, perplexity=5.430]"
     ]
    },
    {
     "name": "stderr",
     "output_type": "stream",
     "text": [
      "Metric perplexity improved by 0.008 >= min_delta = 0.0. New best score: 5.432\n",
      "Epoch 16, global step 79492: 'perplexity' reached 5.43200 (best 5.43200), saving model to 'c:\\\\Users\\\\Pablo\\\\IA-repos\\\\Desafios_NLP\\\\desafio3\\\\lightning_logs\\\\version_50\\\\checkpoints\\\\best-perplexity.ckpt' as top 1\n"
     ]
    },
    {
     "name": "stdout",
     "output_type": "stream",
     "text": [
      "Epoch 17: 100%|██████████| 4676/4676 [14:40<00:00,  5.31it/s, v_num=50, perplexity=5.430]\n",
      "Mean Perplexity: 5.4526\n",
      "Epoch 17: 100%|██████████| 4676/4676 [18:08<00:00,  4.30it/s, v_num=50, perplexity=5.450]"
     ]
    },
    {
     "name": "stderr",
     "output_type": "stream",
     "text": [
      "Epoch 17, global step 84168: 'perplexity' was not in top 1\n"
     ]
    },
    {
     "name": "stdout",
     "output_type": "stream",
     "text": [
      "Epoch 18: 100%|██████████| 4676/4676 [14:40<00:00,  5.31it/s, v_num=50, perplexity=5.450]\n",
      "Mean Perplexity: 5.4319\n",
      "Epoch 18: 100%|██████████| 4676/4676 [18:09<00:00,  4.29it/s, v_num=50, perplexity=5.430]"
     ]
    },
    {
     "name": "stderr",
     "output_type": "stream",
     "text": [
      "Metric perplexity improved by 0.000 >= min_delta = 0.0. New best score: 5.432\n",
      "Epoch 18, global step 88844: 'perplexity' reached 5.43192 (best 5.43192), saving model to 'c:\\\\Users\\\\Pablo\\\\IA-repos\\\\Desafios_NLP\\\\desafio3\\\\lightning_logs\\\\version_50\\\\checkpoints\\\\best-perplexity.ckpt' as top 1\n"
     ]
    },
    {
     "name": "stdout",
     "output_type": "stream",
     "text": [
      "Epoch 19: 100%|██████████| 4676/4676 [14:38<00:00,  5.32it/s, v_num=50, perplexity=5.430]\n",
      "Mean Perplexity: 5.4106\n",
      "Epoch 19: 100%|██████████| 4676/4676 [18:06<00:00,  4.30it/s, v_num=50, perplexity=5.410]"
     ]
    },
    {
     "name": "stderr",
     "output_type": "stream",
     "text": [
      "Metric perplexity improved by 0.021 >= min_delta = 0.0. New best score: 5.411\n",
      "Epoch 19, global step 93520: 'perplexity' reached 5.41058 (best 5.41058), saving model to 'c:\\\\Users\\\\Pablo\\\\IA-repos\\\\Desafios_NLP\\\\desafio3\\\\lightning_logs\\\\version_50\\\\checkpoints\\\\best-perplexity.ckpt' as top 1\n"
     ]
    },
    {
     "name": "stdout",
     "output_type": "stream",
     "text": [
      "Epoch 20: 100%|██████████| 4676/4676 [14:40<00:00,  5.31it/s, v_num=50, perplexity=5.410]\n",
      "Mean Perplexity: 5.4161\n",
      "Epoch 20: 100%|██████████| 4676/4676 [18:09<00:00,  4.29it/s, v_num=50, perplexity=5.420]"
     ]
    },
    {
     "name": "stderr",
     "output_type": "stream",
     "text": [
      "Epoch 20, global step 98196: 'perplexity' was not in top 1\n"
     ]
    },
    {
     "name": "stdout",
     "output_type": "stream",
     "text": [
      "Epoch 21: 100%|██████████| 4676/4676 [14:40<00:00,  5.31it/s, v_num=50, perplexity=5.420]\n",
      "Mean Perplexity: 5.4333\n",
      "Epoch 21: 100%|██████████| 4676/4676 [18:08<00:00,  4.30it/s, v_num=50, perplexity=5.430]"
     ]
    },
    {
     "name": "stderr",
     "output_type": "stream",
     "text": [
      "Epoch 21, global step 102872: 'perplexity' was not in top 1\n"
     ]
    },
    {
     "name": "stdout",
     "output_type": "stream",
     "text": [
      "Epoch 22: 100%|██████████| 4676/4676 [14:38<00:00,  5.32it/s, v_num=50, perplexity=5.430]\n",
      "Mean Perplexity: 5.4157\n",
      "Epoch 22: 100%|██████████| 4676/4676 [18:07<00:00,  4.30it/s, v_num=50, perplexity=5.420]"
     ]
    },
    {
     "name": "stderr",
     "output_type": "stream",
     "text": [
      "Epoch 22, global step 107548: 'perplexity' was not in top 1\n"
     ]
    },
    {
     "name": "stdout",
     "output_type": "stream",
     "text": [
      "Epoch 23: 100%|██████████| 4676/4676 [14:42<00:00,  5.30it/s, v_num=50, perplexity=5.420]\n",
      "Mean Perplexity: 5.4402\n",
      "Epoch 23: 100%|██████████| 4676/4676 [18:12<00:00,  4.28it/s, v_num=50, perplexity=5.440]"
     ]
    },
    {
     "name": "stderr",
     "output_type": "stream",
     "text": [
      "Epoch 23, global step 112224: 'perplexity' was not in top 1\n"
     ]
    },
    {
     "name": "stdout",
     "output_type": "stream",
     "text": [
      "Epoch 24: 100%|██████████| 4676/4676 [14:37<00:00,  5.33it/s, v_num=50, perplexity=5.440]\n",
      "Mean Perplexity: 5.4399\n",
      "Epoch 24: 100%|██████████| 4676/4676 [18:04<00:00,  4.31it/s, v_num=50, perplexity=5.440]"
     ]
    },
    {
     "name": "stderr",
     "output_type": "stream",
     "text": [
      "Monitored metric perplexity did not improve in the last 5 records. Best score: 5.411. Signaling Trainer to stop.\n",
      "Epoch 24, global step 116900: 'perplexity' was not in top 1\n"
     ]
    },
    {
     "name": "stdout",
     "output_type": "stream",
     "text": [
      "Epoch 24: 100%|██████████| 4676/4676 [18:04<00:00,  4.31it/s, v_num=50, perplexity=5.440]\n"
     ]
    },
    {
     "data": {
      "image/png": "[encoded data removed]",
      "text/plain": [
       "<Figure size 640x480 with 1 Axes>"
      ]
     },
     "metadata": {},
     "output_type": "display_data"
    }
   ],
   "source": [
    "model_rnn  = train_rnn_variant('rnn',  vocab_size, train_loader, val_loader,) #checkpoint_path=\"lightning_logs/version_44/checkpoints/best-perplexity.ckpt\",)\n",
    "print_perplexity(model_rnn, \"Model RNN Perplexity History\")"
   ]
  },
  {
   "cell_type": "markdown",
   "id": "a1a93109",
   "metadata": {},
   "source": [
    "#### GRU"
   ]
  },
  {
   "cell_type": "code",
   "execution_count": 14,
   "id": "6eb9ccc1",
   "metadata": {},
   "outputs": [
    {
     "name": "stderr",
     "output_type": "stream",
     "text": [
      "GPU available: True (cuda), used: True\n",
      "TPU available: False, using: 0 TPU cores\n",
      "HPU available: False, using: 0 HPUs\n"
     ]
    },
    {
     "name": "stderr",
     "output_type": "stream",
     "text": [
      "LOCAL_RANK: 0 - CUDA_VISIBLE_DEVICES: [0]\n",
      "\n",
      "  | Name    | Type    | Params | Mode \n",
      "--------------------------------------------\n",
      "0 | rnn     | GRU     | 341 K  | train\n",
      "1 | dropout | Dropout | 0      | train\n",
      "2 | fc      | Linear  | 23.2 K | train\n",
      "--------------------------------------------\n",
      "364 K     Trainable params\n",
      "0         Non-trainable params\n",
      "364 K     Total params\n",
      "1.457     Total estimated model params size (MB)\n",
      "3         Modules in train mode\n",
      "0         Modules in eval mode\n"
     ]
    },
    {
     "name": "stdout",
     "output_type": "stream",
     "text": [
      "\"hidden_size\": 300\n",
      "\"lr\":          0.0001\n",
      "\"rnn_type\":    gru\n",
      "\"vocab_size\":  77\n",
      "Sanity Checking DataLoader 0: 100%|██████████| 2/2 [00:00<00:00,  6.37it/s]\n",
      "Mean Perplexity: 77.0357\n",
      "Epoch 0: 100%|██████████| 4676/4676 [03:59<00:00, 19.54it/s, v_num=46]     \n",
      "Mean Perplexity: 6.7094\n",
      "Epoch 0: 100%|██████████| 4676/4676 [04:29<00:00, 17.38it/s, v_num=46, perplexity=6.710]"
     ]
    },
    {
     "name": "stderr",
     "output_type": "stream",
     "text": [
      "Metric perplexity improved. New best score: 6.709\n",
      "Epoch 0, global step 4676: 'perplexity' reached 6.70940 (best 6.70940), saving model to 'c:\\\\Users\\\\Pablo\\\\IA-repos\\\\Desafios_NLP\\\\desafio3\\\\lightning_logs\\\\version_46\\\\checkpoints\\\\best-perplexity.ckpt' as top 1\n"
     ]
    },
    {
     "name": "stdout",
     "output_type": "stream",
     "text": [
      "Epoch 1: 100%|██████████| 4676/4676 [03:58<00:00, 19.60it/s, v_num=46, perplexity=6.710]\n",
      "Mean Perplexity: 5.3030\n",
      "Epoch 1: 100%|██████████| 4676/4676 [04:28<00:00, 17.44it/s, v_num=46, perplexity=5.300]"
     ]
    },
    {
     "name": "stderr",
     "output_type": "stream",
     "text": [
      "Metric perplexity improved by 1.406 >= min_delta = 0.0. New best score: 5.303\n",
      "Epoch 1, global step 9352: 'perplexity' reached 5.30303 (best 5.30303), saving model to 'c:\\\\Users\\\\Pablo\\\\IA-repos\\\\Desafios_NLP\\\\desafio3\\\\lightning_logs\\\\version_46\\\\checkpoints\\\\best-perplexity.ckpt' as top 1\n"
     ]
    },
    {
     "name": "stdout",
     "output_type": "stream",
     "text": [
      "Epoch 2: 100%|██████████| 4676/4676 [03:58<00:00, 19.60it/s, v_num=46, perplexity=5.300]\n",
      "Mean Perplexity: 4.9260\n",
      "Epoch 2: 100%|██████████| 4676/4676 [04:28<00:00, 17.44it/s, v_num=46, perplexity=4.930]"
     ]
    },
    {
     "name": "stderr",
     "output_type": "stream",
     "text": [
      "Metric perplexity improved by 0.377 >= min_delta = 0.0. New best score: 4.926\n",
      "Epoch 2, global step 14028: 'perplexity' reached 4.92603 (best 4.92603), saving model to 'c:\\\\Users\\\\Pablo\\\\IA-repos\\\\Desafios_NLP\\\\desafio3\\\\lightning_logs\\\\version_46\\\\checkpoints\\\\best-perplexity.ckpt' as top 1\n"
     ]
    },
    {
     "name": "stdout",
     "output_type": "stream",
     "text": [
      "Epoch 3: 100%|██████████| 4676/4676 [03:59<00:00, 19.52it/s, v_num=46, perplexity=4.930]\n",
      "Mean Perplexity: 4.7833\n",
      "Epoch 3: 100%|██████████| 4676/4676 [04:29<00:00, 17.37it/s, v_num=46, perplexity=4.780]"
     ]
    },
    {
     "name": "stderr",
     "output_type": "stream",
     "text": [
      "Metric perplexity improved by 0.143 >= min_delta = 0.0. New best score: 4.783\n",
      "Epoch 3, global step 18704: 'perplexity' reached 4.78327 (best 4.78327), saving model to 'c:\\\\Users\\\\Pablo\\\\IA-repos\\\\Desafios_NLP\\\\desafio3\\\\lightning_logs\\\\version_46\\\\checkpoints\\\\best-perplexity.ckpt' as top 1\n"
     ]
    },
    {
     "name": "stdout",
     "output_type": "stream",
     "text": [
      "Epoch 4: 100%|██████████| 4676/4676 [04:02<00:00, 19.28it/s, v_num=46, perplexity=4.780]\n",
      "Mean Perplexity: 4.7231\n",
      "Epoch 4: 100%|██████████| 4676/4676 [04:32<00:00, 17.18it/s, v_num=46, perplexity=4.720]"
     ]
    },
    {
     "name": "stderr",
     "output_type": "stream",
     "text": [
      "Metric perplexity improved by 0.060 >= min_delta = 0.0. New best score: 4.723\n",
      "Epoch 4, global step 23380: 'perplexity' reached 4.72311 (best 4.72311), saving model to 'c:\\\\Users\\\\Pablo\\\\IA-repos\\\\Desafios_NLP\\\\desafio3\\\\lightning_logs\\\\version_46\\\\checkpoints\\\\best-perplexity.ckpt' as top 1\n"
     ]
    },
    {
     "name": "stdout",
     "output_type": "stream",
     "text": [
      "Epoch 5: 100%|██████████| 4676/4676 [03:58<00:00, 19.57it/s, v_num=46, perplexity=4.720]\n",
      "Mean Perplexity: 4.6974\n",
      "Epoch 5: 100%|██████████| 4676/4676 [04:28<00:00, 17.40it/s, v_num=46, perplexity=4.700]"
     ]
    },
    {
     "name": "stderr",
     "output_type": "stream",
     "text": [
      "Metric perplexity improved by 0.026 >= min_delta = 0.0. New best score: 4.697\n",
      "Epoch 5, global step 28056: 'perplexity' reached 4.69741 (best 4.69741), saving model to 'c:\\\\Users\\\\Pablo\\\\IA-repos\\\\Desafios_NLP\\\\desafio3\\\\lightning_logs\\\\version_46\\\\checkpoints\\\\best-perplexity.ckpt' as top 1\n"
     ]
    },
    {
     "name": "stdout",
     "output_type": "stream",
     "text": [
      "Epoch 6: 100%|██████████| 4676/4676 [03:58<00:00, 19.59it/s, v_num=46, perplexity=4.700]\n",
      "Mean Perplexity: 4.7037\n",
      "Epoch 6: 100%|██████████| 4676/4676 [04:28<00:00, 17.42it/s, v_num=46, perplexity=4.700]"
     ]
    },
    {
     "name": "stderr",
     "output_type": "stream",
     "text": [
      "Epoch 6, global step 32732: 'perplexity' was not in top 1\n"
     ]
    },
    {
     "name": "stdout",
     "output_type": "stream",
     "text": [
      "Epoch 7: 100%|██████████| 4676/4676 [03:59<00:00, 19.55it/s, v_num=46, perplexity=4.700]\n",
      "Mean Perplexity: 4.7219\n",
      "Epoch 7: 100%|██████████| 4676/4676 [04:28<00:00, 17.39it/s, v_num=46, perplexity=4.720]"
     ]
    },
    {
     "name": "stderr",
     "output_type": "stream",
     "text": [
      "Epoch 7, global step 37408: 'perplexity' was not in top 1\n"
     ]
    },
    {
     "name": "stdout",
     "output_type": "stream",
     "text": [
      "Epoch 8: 100%|██████████| 4676/4676 [03:59<00:00, 19.53it/s, v_num=46, perplexity=4.720]\n",
      "Mean Perplexity: 4.7589\n",
      "Epoch 8: 100%|██████████| 4676/4676 [04:29<00:00, 17.38it/s, v_num=46, perplexity=4.760]"
     ]
    },
    {
     "name": "stderr",
     "output_type": "stream",
     "text": [
      "Epoch 8, global step 42084: 'perplexity' was not in top 1\n"
     ]
    },
    {
     "name": "stdout",
     "output_type": "stream",
     "text": [
      "Epoch 9: 100%|██████████| 4676/4676 [03:59<00:00, 19.54it/s, v_num=46, perplexity=4.760]\n",
      "Mean Perplexity: 4.8019\n",
      "Epoch 9: 100%|██████████| 4676/4676 [04:28<00:00, 17.39it/s, v_num=46, perplexity=4.800]"
     ]
    },
    {
     "name": "stderr",
     "output_type": "stream",
     "text": [
      "Epoch 9, global step 46760: 'perplexity' was not in top 1\n"
     ]
    },
    {
     "name": "stdout",
     "output_type": "stream",
     "text": [
      "Epoch 10: 100%|██████████| 4676/4676 [04:00<00:00, 19.48it/s, v_num=46, perplexity=4.800]\n",
      "Mean Perplexity: 4.8630\n",
      "Epoch 10: 100%|██████████| 4676/4676 [04:37<00:00, 16.83it/s, v_num=46, perplexity=4.860]"
     ]
    },
    {
     "name": "stderr",
     "output_type": "stream",
     "text": [
      "Monitored metric perplexity did not improve in the last 5 records. Best score: 4.697. Signaling Trainer to stop.\n",
      "Epoch 10, global step 51436: 'perplexity' was not in top 1\n"
     ]
    },
    {
     "name": "stdout",
     "output_type": "stream",
     "text": [
      "Epoch 10: 100%|██████████| 4676/4676 [04:37<00:00, 16.83it/s, v_num=46, perplexity=4.860]\n"
     ]
    },
    {
     "data": {
      "image/png": "[encoded data removed]",
      "text/plain": [
       "<Figure size 640x480 with 1 Axes>"
      ]
     },
     "metadata": {},
     "output_type": "display_data"
    }
   ],
   "source": [
    "model_gru  = train_rnn_variant('gru',  vocab_size, train_loader, val_loader)\n",
    "print_perplexity(model_gru, \"Model GRU Perplexity History\")"
   ]
  },
  {
   "cell_type": "markdown",
   "id": "110be7c4",
   "metadata": {},
   "source": [
    "#### LSTM"
   ]
  },
  {
   "cell_type": "code",
   "execution_count": 15,
   "id": "fb963bf7",
   "metadata": {},
   "outputs": [
    {
     "name": "stderr",
     "output_type": "stream",
     "text": [
      "GPU available: True (cuda), used: True\n",
      "TPU available: False, using: 0 TPU cores\n",
      "HPU available: False, using: 0 HPUs\n",
      "LOCAL_RANK: 0 - CUDA_VISIBLE_DEVICES: [0]\n",
      "\n",
      "  | Name    | Type    | Params | Mode \n",
      "--------------------------------------------\n",
      "0 | rnn     | LSTM    | 454 K  | train\n",
      "1 | dropout | Dropout | 0      | train\n",
      "2 | fc      | Linear  | 23.2 K | train\n",
      "--------------------------------------------\n",
      "477 K     Trainable params\n",
      "0         Non-trainable params\n",
      "477 K     Total params\n",
      "1.912     Total estimated model params size (MB)\n",
      "3         Modules in train mode\n",
      "0         Modules in eval mode\n"
     ]
    },
    {
     "name": "stdout",
     "output_type": "stream",
     "text": [
      "\"hidden_size\": 300\n",
      "\"lr\":          0.0001\n",
      "\"rnn_type\":    lstm\n",
      "\"vocab_size\":  77\n",
      "Sanity Checking DataLoader 0: 100%|██████████| 2/2 [00:00<00:00, 21.89it/s]\n",
      "Mean Perplexity: 77.6550\n",
      "                                                                           "
     ]
    },
    {
     "name": "stderr",
     "output_type": "stream",
     "text": [
      "c:\\Users\\Pablo\\IA-repos\\Desafios_NLP\\venv\\Lib\\site-packages\\pytorch_lightning\\trainer\\connectors\\data_connector.py:425: The 'val_dataloader' does not have many workers which may be a bottleneck. Consider increasing the value of the `num_workers` argument` to `num_workers=19` in the `DataLoader` to improve performance.\n",
      "c:\\Users\\Pablo\\IA-repos\\Desafios_NLP\\venv\\Lib\\site-packages\\pytorch_lightning\\trainer\\connectors\\data_connector.py:425: The 'train_dataloader' does not have many workers which may be a bottleneck. Consider increasing the value of the `num_workers` argument` to `num_workers=19` in the `DataLoader` to improve performance.\n"
     ]
    },
    {
     "name": "stdout",
     "output_type": "stream",
     "text": [
      "Epoch 0: 100%|██████████| 4676/4676 [04:16<00:00, 18.23it/s, v_num=47]\n",
      "Mean Perplexity: 9.0152\n",
      "Epoch 0: 100%|██████████| 4676/4676 [04:55<00:00, 15.84it/s, v_num=47, perplexity=9.020]"
     ]
    },
    {
     "name": "stderr",
     "output_type": "stream",
     "text": [
      "Metric perplexity improved. New best score: 9.015\n",
      "Epoch 0, global step 4676: 'perplexity' reached 9.01522 (best 9.01522), saving model to 'c:\\\\Users\\\\Pablo\\\\IA-repos\\\\Desafios_NLP\\\\desafio3\\\\lightning_logs\\\\version_47\\\\checkpoints\\\\best-perplexity.ckpt' as top 1\n"
     ]
    },
    {
     "name": "stdout",
     "output_type": "stream",
     "text": [
      "Epoch 1: 100%|██████████| 4676/4676 [04:16<00:00, 18.24it/s, v_num=47, perplexity=9.020]\n",
      "Mean Perplexity: 6.4307\n",
      "Epoch 1: 100%|██████████| 4676/4676 [04:55<00:00, 15.82it/s, v_num=47, perplexity=6.430]"
     ]
    },
    {
     "name": "stderr",
     "output_type": "stream",
     "text": [
      "Metric perplexity improved by 2.585 >= min_delta = 0.0. New best score: 6.431\n",
      "Epoch 1, global step 9352: 'perplexity' reached 6.43072 (best 6.43072), saving model to 'c:\\\\Users\\\\Pablo\\\\IA-repos\\\\Desafios_NLP\\\\desafio3\\\\lightning_logs\\\\version_47\\\\checkpoints\\\\best-perplexity.ckpt' as top 1\n"
     ]
    },
    {
     "name": "stdout",
     "output_type": "stream",
     "text": [
      "Epoch 2: 100%|██████████| 4676/4676 [04:16<00:00, 18.26it/s, v_num=47, perplexity=6.430]\n",
      "Mean Perplexity: 5.4802\n",
      "Epoch 2: 100%|██████████| 4676/4676 [04:54<00:00, 15.88it/s, v_num=47, perplexity=5.480]"
     ]
    },
    {
     "name": "stderr",
     "output_type": "stream",
     "text": [
      "Metric perplexity improved by 0.951 >= min_delta = 0.0. New best score: 5.480\n",
      "Epoch 2, global step 14028: 'perplexity' reached 5.48015 (best 5.48015), saving model to 'c:\\\\Users\\\\Pablo\\\\IA-repos\\\\Desafios_NLP\\\\desafio3\\\\lightning_logs\\\\version_47\\\\checkpoints\\\\best-perplexity.ckpt' as top 1\n"
     ]
    },
    {
     "name": "stdout",
     "output_type": "stream",
     "text": [
      "Epoch 3: 100%|██████████| 4676/4676 [04:16<00:00, 18.23it/s, v_num=47, perplexity=5.480]\n",
      "Mean Perplexity: 5.0596\n",
      "Epoch 3: 100%|██████████| 4676/4676 [04:56<00:00, 15.78it/s, v_num=47, perplexity=5.060]"
     ]
    },
    {
     "name": "stderr",
     "output_type": "stream",
     "text": [
      "Metric perplexity improved by 0.421 >= min_delta = 0.0. New best score: 5.060\n",
      "Epoch 3, global step 18704: 'perplexity' reached 5.05956 (best 5.05956), saving model to 'c:\\\\Users\\\\Pablo\\\\IA-repos\\\\Desafios_NLP\\\\desafio3\\\\lightning_logs\\\\version_47\\\\checkpoints\\\\best-perplexity.ckpt' as top 1\n"
     ]
    },
    {
     "name": "stdout",
     "output_type": "stream",
     "text": [
      "Epoch 4: 100%|██████████| 4676/4676 [04:16<00:00, 18.23it/s, v_num=47, perplexity=5.060]\n",
      "Mean Perplexity: 4.8287\n",
      "Epoch 4: 100%|██████████| 4676/4676 [04:55<00:00, 15.83it/s, v_num=47, perplexity=4.830]"
     ]
    },
    {
     "name": "stderr",
     "output_type": "stream",
     "text": [
      "Metric perplexity improved by 0.231 >= min_delta = 0.0. New best score: 4.829\n",
      "Epoch 4, global step 23380: 'perplexity' reached 4.82874 (best 4.82874), saving model to 'c:\\\\Users\\\\Pablo\\\\IA-repos\\\\Desafios_NLP\\\\desafio3\\\\lightning_logs\\\\version_47\\\\checkpoints\\\\best-perplexity.ckpt' as top 1\n"
     ]
    },
    {
     "name": "stdout",
     "output_type": "stream",
     "text": [
      "Epoch 5: 100%|██████████| 4676/4676 [04:16<00:00, 18.25it/s, v_num=47, perplexity=4.830]\n",
      "Mean Perplexity: 4.7076\n",
      "Epoch 5: 100%|██████████| 4676/4676 [04:56<00:00, 15.79it/s, v_num=47, perplexity=4.710]"
     ]
    },
    {
     "name": "stderr",
     "output_type": "stream",
     "text": [
      "Metric perplexity improved by 0.121 >= min_delta = 0.0. New best score: 4.708\n",
      "Epoch 5, global step 28056: 'perplexity' reached 4.70763 (best 4.70763), saving model to 'c:\\\\Users\\\\Pablo\\\\IA-repos\\\\Desafios_NLP\\\\desafio3\\\\lightning_logs\\\\version_47\\\\checkpoints\\\\best-perplexity.ckpt' as top 1\n"
     ]
    },
    {
     "name": "stdout",
     "output_type": "stream",
     "text": [
      "Epoch 6: 100%|██████████| 4676/4676 [04:16<00:00, 18.24it/s, v_num=47, perplexity=4.710]\n",
      "Mean Perplexity: 4.6235\n",
      "Epoch 6: 100%|██████████| 4676/4676 [04:56<00:00, 15.78it/s, v_num=47, perplexity=4.620]"
     ]
    },
    {
     "name": "stderr",
     "output_type": "stream",
     "text": [
      "Metric perplexity improved by 0.084 >= min_delta = 0.0. New best score: 4.624\n",
      "Epoch 6, global step 32732: 'perplexity' reached 4.62351 (best 4.62351), saving model to 'c:\\\\Users\\\\Pablo\\\\IA-repos\\\\Desafios_NLP\\\\desafio3\\\\lightning_logs\\\\version_47\\\\checkpoints\\\\best-perplexity.ckpt' as top 1\n"
     ]
    },
    {
     "name": "stdout",
     "output_type": "stream",
     "text": [
      "Epoch 7: 100%|██████████| 4676/4676 [04:16<00:00, 18.23it/s, v_num=47, perplexity=4.620]\n",
      "Mean Perplexity: 4.5591\n",
      "Epoch 7: 100%|██████████| 4676/4676 [04:54<00:00, 15.88it/s, v_num=47, perplexity=4.560]"
     ]
    },
    {
     "name": "stderr",
     "output_type": "stream",
     "text": [
      "Metric perplexity improved by 0.064 >= min_delta = 0.0. New best score: 4.559\n",
      "Epoch 7, global step 37408: 'perplexity' reached 4.55908 (best 4.55908), saving model to 'c:\\\\Users\\\\Pablo\\\\IA-repos\\\\Desafios_NLP\\\\desafio3\\\\lightning_logs\\\\version_47\\\\checkpoints\\\\best-perplexity.ckpt' as top 1\n"
     ]
    },
    {
     "name": "stdout",
     "output_type": "stream",
     "text": [
      "Epoch 8: 100%|██████████| 4676/4676 [04:15<00:00, 18.30it/s, v_num=47, perplexity=4.560]\n",
      "Mean Perplexity: 4.5628\n",
      "Epoch 8: 100%|██████████| 4676/4676 [04:48<00:00, 16.19it/s, v_num=47, perplexity=4.560]"
     ]
    },
    {
     "name": "stderr",
     "output_type": "stream",
     "text": [
      "Epoch 8, global step 42084: 'perplexity' was not in top 1\n"
     ]
    },
    {
     "name": "stdout",
     "output_type": "stream",
     "text": [
      "Epoch 9: 100%|██████████| 4676/4676 [04:15<00:00, 18.31it/s, v_num=47, perplexity=4.560]\n",
      "Mean Perplexity: 4.5501\n",
      "Epoch 9: 100%|██████████| 4676/4676 [04:48<00:00, 16.20it/s, v_num=47, perplexity=4.550]"
     ]
    },
    {
     "name": "stderr",
     "output_type": "stream",
     "text": [
      "Metric perplexity improved by 0.009 >= min_delta = 0.0. New best score: 4.550\n",
      "Epoch 9, global step 46760: 'perplexity' reached 4.55008 (best 4.55008), saving model to 'c:\\\\Users\\\\Pablo\\\\IA-repos\\\\Desafios_NLP\\\\desafio3\\\\lightning_logs\\\\version_47\\\\checkpoints\\\\best-perplexity.ckpt' as top 1\n"
     ]
    },
    {
     "name": "stdout",
     "output_type": "stream",
     "text": [
      "Epoch 10: 100%|██████████| 4676/4676 [04:15<00:00, 18.31it/s, v_num=47, perplexity=4.550]\n",
      "Mean Perplexity: 4.6030\n",
      "Epoch 10: 100%|██████████| 4676/4676 [04:48<00:00, 16.20it/s, v_num=47, perplexity=4.600]"
     ]
    },
    {
     "name": "stderr",
     "output_type": "stream",
     "text": [
      "Epoch 10, global step 51436: 'perplexity' was not in top 1\n"
     ]
    },
    {
     "name": "stdout",
     "output_type": "stream",
     "text": [
      "Epoch 11: 100%|██████████| 4676/4676 [04:15<00:00, 18.31it/s, v_num=47, perplexity=4.600]\n",
      "Mean Perplexity: 4.6206\n",
      "Epoch 11: 100%|██████████| 4676/4676 [04:48<00:00, 16.21it/s, v_num=47, perplexity=4.620]"
     ]
    },
    {
     "name": "stderr",
     "output_type": "stream",
     "text": [
      "Epoch 11, global step 56112: 'perplexity' was not in top 1\n"
     ]
    },
    {
     "name": "stdout",
     "output_type": "stream",
     "text": [
      "Epoch 12: 100%|██████████| 4676/4676 [04:15<00:00, 18.33it/s, v_num=47, perplexity=4.620]\n",
      "Mean Perplexity: 4.6283\n",
      "Epoch 12: 100%|██████████| 4676/4676 [04:48<00:00, 16.22it/s, v_num=47, perplexity=4.630]"
     ]
    },
    {
     "name": "stderr",
     "output_type": "stream",
     "text": [
      "Epoch 12, global step 60788: 'perplexity' was not in top 1\n"
     ]
    },
    {
     "name": "stdout",
     "output_type": "stream",
     "text": [
      "Epoch 13: 100%|██████████| 4676/4676 [04:15<00:00, 18.34it/s, v_num=47, perplexity=4.630]\n",
      "Mean Perplexity: 4.6639\n",
      "Epoch 13: 100%|██████████| 4676/4676 [04:48<00:00, 16.22it/s, v_num=47, perplexity=4.660]"
     ]
    },
    {
     "name": "stderr",
     "output_type": "stream",
     "text": [
      "Epoch 13, global step 65464: 'perplexity' was not in top 1\n"
     ]
    },
    {
     "name": "stdout",
     "output_type": "stream",
     "text": [
      "Epoch 14: 100%|██████████| 4676/4676 [04:14<00:00, 18.36it/s, v_num=47, perplexity=4.660]\n",
      "Mean Perplexity: 4.7061\n",
      "Epoch 14: 100%|██████████| 4676/4676 [04:47<00:00, 16.25it/s, v_num=47, perplexity=4.710]"
     ]
    },
    {
     "name": "stderr",
     "output_type": "stream",
     "text": [
      "Monitored metric perplexity did not improve in the last 5 records. Best score: 4.550. Signaling Trainer to stop.\n",
      "Epoch 14, global step 70140: 'perplexity' was not in top 1\n"
     ]
    },
    {
     "name": "stdout",
     "output_type": "stream",
     "text": [
      "Epoch 14: 100%|██████████| 4676/4676 [04:47<00:00, 16.25it/s, v_num=47, perplexity=4.710]\n"
     ]
    },
    {
     "data": {
      "image/png": "[encoded data removed]",
      "text/plain": [
       "<Figure size 640x480 with 1 Axes>"
      ]
     },
     "metadata": {},
     "output_type": "display_data"
    }
   ],
   "source": [
    "model_lstm = train_rnn_variant('lstm', vocab_size, train_loader, val_loader)\n",
    "print_perplexity(model_lstm, \"Model LSTM Perplexity History\")"
   ]
  },
  {
   "cell_type": "markdown",
   "id": "ad35e86a",
   "metadata": {},
   "source": [
    "### Pruebas de Modelos"
   ]
  },
  {
   "cell_type": "code",
   "execution_count": 22,
   "id": "ed33c1bb",
   "metadata": {},
   "outputs": [
    {
     "data": {
      "image/png": "[encoded data removed]",
      "text/plain": [
       "<Figure size 1000x600 with 1 Axes>"
      ]
     },
     "metadata": {},
     "output_type": "display_data"
    }
   ],
   "source": [
    "compare_rnn([model_rnn, model_gru, model_lstm], [\"RNN\", \"GRU\", \"LSTM\"])"
   ]
  },
  {
   "cell_type": "markdown",
   "id": "55306876",
   "metadata": {},
   "source": [
    "La red SimpleRNN se demoró mas de 300 min, mientras que la red GRU tomó 50 min aprox en entrenar para el mismo corpus. Por su lado, la red LSTM se tomo aproximadamente 74 min.\n",
    "\n",
    "La RNN es mas lenta que la GRU y la LSTM pese a tener menos parámetros en cuanto a it/s.\n",
    "La nn.RNN no está optimizada como nn.GRU o nn.LSTM\n",
    "- Implementación menos eficiente (sin kernel fusionado)\n",
    "- En PyTorch, nn.GRU y nn.LSTM tienen implementaciones altamente optimizadas en C++/CUDA.\n",
    "- Estas implementaciones aprovechan kernel fusion y primitivas optimizadas para GPU (cuDNN).\n",
    "- nn.RNN, en cambio, usa un kernel más general y no siempre está soportado por cuDNN (por ser menos usada y menos estable numéricamente)."
   ]
  },
  {
   "cell_type": "markdown",
   "id": "37a37e6c",
   "metadata": {},
   "source": [
    "Podemos ver como GRU y LSTM al ser redes mas complejas logran capturar el corpus en menos epochs que la RNN simple."
   ]
  },
  {
   "cell_type": "markdown",
   "id": "16e2aeb3",
   "metadata": {},
   "source": [
    "Considerando el tiempo de entrenamiento y el perplexity alcanzado, para este caso la GRU parece ser la mejor opción (usa menos parámetros que la LSTM)."
   ]
  },
  {
   "cell_type": "code",
   "execution_count": 27,
   "id": "fe9a501e",
   "metadata": {},
   "outputs": [],
   "source": [
    "prompt = \"One Ring to rule them all, \".lower()\n",
    "# prompt = \"Hidden in the temple \""
   ]
  },
  {
   "cell_type": "code",
   "execution_count": 28,
   "id": "dd483969",
   "metadata": {},
   "outputs": [
    {
     "name": "stdout",
     "output_type": "stream",
     "text": [
      "RNN:\n",
      " one ring to rule them all, and the  the hills of the ring was still the stars of the world that he had been  still and strong a\n",
      "\n",
      "GRU:\n",
      " one ring to rule them all, and they were still  going to see the shire and the shire we shall see the ring to the  dark lord an\n",
      "\n",
      "LSTM:\n",
      " one ring to rule them all, and they were still  and strange to the shire.   'there is a path that i have not tried to see the s\n"
     ]
    }
   ],
   "source": [
    "# Greedy\n",
    "print(\"RNN:\\n\",  generate_text(model_rnn, prompt, char2idx, idx2char, max_context_size=max_context_size, gen_length=100, temperature=0))\n",
    "print(\"\\nGRU:\\n\",  generate_text(model_gru, prompt, char2idx, idx2char, max_context_size=max_context_size, gen_length=100, temperature=0))\n",
    "print(\"\\nLSTM:\\n\", generate_text(model_lstm, prompt, char2idx, idx2char, max_context_size=max_context_size, gen_length=100, temperature=0))"
   ]
  },
  {
   "cell_type": "code",
   "execution_count": 29,
   "id": "b5e88971",
   "metadata": {},
   "outputs": [
    {
     "name": "stdout",
     "output_type": "stream",
     "text": [
      "RNN:\n",
      " one ring to rule them all,  and at the lose of the window of the bad show there shall fell        courteacl, trambling the midd\n",
      "\n",
      "GRU:\n",
      " one ring to rule them all, i went down the wind.   “who have 'it is not known that it was to my name made! and you shall not be\n",
      "\n",
      "LSTM:\n",
      " one ring to rule them all,  and need of watchers and smokes of mordor. they dwelt in them in the  desise and surprise their woo\n"
     ]
    }
   ],
   "source": [
    "# Temperature\n",
    "print(\"RNN:\\n\",  generate_text(model_rnn, prompt, char2idx, idx2char, max_context_size=max_context_size, gen_length=100, temperature=0.7))\n",
    "print(\"\\nGRU:\\n\",  generate_text(model_gru, prompt, char2idx, idx2char, max_context_size=max_context_size, gen_length=100, temperature=0.7))\n",
    "print(\"\\nLSTM:\\n\", generate_text(model_lstm, prompt, char2idx, idx2char, max_context_size=max_context_size, gen_length=100, temperature=0.7))"
   ]
  },
  {
   "cell_type": "code",
   "execution_count": 32,
   "id": "32d37d3f",
   "metadata": {},
   "outputs": [
    {
     "name": "stdout",
     "output_type": "stream",
     "text": [
      "RNN:\n",
      " one ring to rule them all,  in the  will loided face. the ushace are face was among tteen and ladder. but for gind!' said frodo\n",
      "\n",
      "GRU:\n",
      " one ring to rule them all, once down farabor that the borght was the land of  the eldar, wain the word was bening on my  far hi\n",
      "\n",
      "LSTM:\n",
      " one ring to rule them all, and struggled aside from the face.  'how wherever!' said sam! ' said gandalf, 'in that gentler cloth\n"
     ]
    }
   ],
   "source": [
    "# Temperature\n",
    "print(\"RNN:\\n\",  generate_text(model_rnn, prompt, char2idx, idx2char, max_context_size=max_context_size, gen_length=100, temperature=1.0))\n",
    "print(\"\\nGRU:\\n\",  generate_text(model_gru, prompt, char2idx, idx2char, max_context_size=max_context_size, gen_length=100, temperature=1.0))\n",
    "print(\"\\nLSTM:\\n\", generate_text(model_lstm, prompt, char2idx, idx2char, max_context_size=max_context_size, gen_length=100, temperature=1.0))"
   ]
  },
  {
   "cell_type": "code",
   "execution_count": 30,
   "id": "f2f83155",
   "metadata": {},
   "outputs": [
    {
     "name": "stdout",
     "output_type": "stream",
     "text": [
      "RNN: \n",
      "one ring to rule them all, and they were all the \n",
      "shadows of the mountains, and they came to the house of the elves, and they \n",
      "\n",
      "\n",
      "GRU: \n",
      "one ring to rule them all, and they were still heard that they \n",
      "would not be seen in the darkness of the elves, and there were \n",
      "\n",
      "LSTM: \n",
      "one ring to rule them all, and there were no more than a little while. \n",
      "\n",
      "there was no sign of their hearts, and they were still\n"
     ]
    }
   ],
   "source": [
    "beam_output = beam_search(model=model_rnn, input_str=prompt, char2idx=char2idx, idx2char=idx2char, num_beams=5, num_chars=100, temperature=0.7, mode=\"det\", max_context_size=max_context_size)\n",
    "print(f\"RNN: \\n{beam_output}\")\n",
    "beam_output = beam_search(model=model_gru, input_str=prompt, char2idx=char2idx, idx2char=idx2char, num_beams=5, num_chars=100, temperature=0.7, mode=\"det\", max_context_size=max_context_size)\n",
    "print(f\"\\nGRU: \\n{beam_output}\")\n",
    "beam_output = beam_search(model=model_lstm, input_str=prompt, char2idx=char2idx, idx2char=idx2char, num_beams=5, num_chars=100, temperature=0.7, mode=\"det\", max_context_size=max_context_size)\n",
    "print(f\"\\nLSTM: \\n{beam_output}\")"
   ]
  },
  {
   "cell_type": "markdown",
   "id": "dd088809",
   "metadata": {},
   "source": [
    "El texto generado por los 3 metodos no es el mas coherente pero si tiene relación con el lexico usando en los libros de \"Lord of the Rings\""
   ]
  }
 ],
 "metadata": {
  "kernelspec": {
   "display_name": "venv",
   "language": "python",
   "name": "python3"
  },
  "language_info": {
   "codemirror_mode": {
    "name": "ipython",
    "version": 3
   },
   "file_extension": ".py",
   "mimetype": "text/x-python",
   "name": "python",
   "nbconvert_exporter": "python",
   "pygments_lexer": "ipython3",
   "version": "3.12.10"
  }
 },
 "nbformat": 4,
 "nbformat_minor": 5
}
