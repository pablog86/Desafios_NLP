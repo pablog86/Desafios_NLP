{
 "cells": [
  {
   "cell_type": "markdown",
   "id": "8b16d688",
   "metadata": {},
   "source": [
    "# Desafio 2 - NLP\n",
    "\n",
    "- Crear sus propios vectores con Gensim basado en lo visto en clase con otro dataset.\n",
    "- Probar términos de interés y explicar similitudes en el espacio de embeddings.\n",
    "- Intentar plantear y probar tests de analogías. \n",
    "- Graficar los embeddings resultantes.\n",
    "- Sacar conclusiones."
   ]
  },
  {
   "cell_type": "markdown",
   "id": "cd8bb8c1",
   "metadata": {},
   "source": [
    "## Imports"
   ]
  },
  {
   "cell_type": "code",
   "execution_count": 240,
   "id": "eda5d6ce",
   "metadata": {},
   "outputs": [],
   "source": [
    "import pandas as pd\n",
    "import matplotlib.pyplot as plt\n",
    "import seaborn as sns\n",
    "import multiprocessing\n",
    "from gensim.models import Word2Vec\n",
    "import os\n",
    "from tensorflow.keras.preprocessing.text import text_to_word_sequence\n",
    "from nltk.corpus import stopwords\n",
    "import nltk\n",
    "from gensim.models.callbacks import CallbackAny2Vec\n",
    "from sklearn.metrics.pairwise import cosine_similarity\n",
    "\n",
    "from sklearn.decomposition import IncrementalPCA    \n",
    "from sklearn.manifold import TSNE                   \n",
    "import numpy as np\n",
    "import plotly.graph_objects as go\n",
    "import plotly.express as px                   "
   ]
  },
  {
   "cell_type": "markdown",
   "id": "298aeb29",
   "metadata": {},
   "source": [
    "## Funciones generales"
   ]
  },
  {
   "cell_type": "code",
   "execution_count": 20,
   "id": "bdea8400",
   "metadata": {},
   "outputs": [],
   "source": [
    "# Durante el entrenamiento gensim por defecto no informa el \"loss\" en cada época\n",
    "# Sobrecargamos el callback para poder tener esta información\n",
    "class callback(CallbackAny2Vec):\n",
    "    \"\"\"\n",
    "    Callback to print loss after each epoch\n",
    "    \"\"\"\n",
    "    def __init__(self):\n",
    "        self.epoch = 0\n",
    "\n",
    "    def on_epoch_end(self, model):\n",
    "        loss = model.get_latest_training_loss()\n",
    "        if self.epoch == 0:\n",
    "            print('Loss after epoch {}: {}'.format(self.epoch, loss))\n",
    "        else:\n",
    "            print('Loss after epoch {}: {}'.format(self.epoch, loss- self.loss_previous_step))\n",
    "        self.epoch += 1\n",
    "        self.loss_previous_step = loss"
   ]
  },
  {
   "cell_type": "code",
   "execution_count": 199,
   "id": "f174c202",
   "metadata": {},
   "outputs": [],
   "source": [
    "def reduce_dimensions(model, num_dimensions = 2 ):\n",
    "     \n",
    "    vectors = np.asarray(model.wv.vectors)\n",
    "    labels = np.asarray(model.wv.index_to_key)  \n",
    "\n",
    "    tsne = TSNE(n_components=num_dimensions, random_state=0)\n",
    "    vectors = tsne.fit_transform(vectors)\n",
    "\n",
    "    return vectors, labels"
   ]
  },
  {
   "cell_type": "code",
   "execution_count": 124,
   "id": "aed1521d",
   "metadata": {},
   "outputs": [],
   "source": [
    "def max_words (model, vecs, labels, highlight_words, MAX_WORDS, topn=10):\n",
    "    all_words = list(labels)\n",
    "    selected_words = set(highlight_words)\n",
    "\n",
    "    for word in highlight_words:\n",
    "        if word in model.wv:\n",
    "            try:\n",
    "                similar = model.wv.most_similar(word, topn=topn)\n",
    "                selected_words.update([w for w, _ in similar])\n",
    "            except KeyError:\n",
    "                pass  # por si alguna palabra no está en vocabulario\n",
    "\n",
    "    for word in all_words:\n",
    "        if len(selected_words) >= MAX_WORDS:\n",
    "            break\n",
    "        if word not in selected_words:\n",
    "            selected_words.add(word)\n",
    "\n",
    "    selected_words = list(selected_words)\n",
    "    indices = [all_words.index(w) for w in selected_words if w in all_words]\n",
    "    filtered_vecs = vecs[indices]\n",
    "    filtered_labels = [all_words[i] for i in indices]\n",
    "    return filtered_vecs, filtered_labels"
   ]
  },
  {
   "cell_type": "code",
   "execution_count": null,
   "id": "da8137cb",
   "metadata": {},
   "outputs": [],
   "source": [
    "def plot_embeddings(model, vecs, labels, MAX_WORDS=200, highlight_words=None):\n",
    "    assert vecs.shape[0] == len(labels), \"Vecs y labels deben tener la misma longitud\"\n",
    "    vecs, labels = max_words(model, vecs, labels, highlight_words, MAX_WORDS)\n",
    "    # Colores: rojo si está en highlight, azul si no\n",
    "    highlight_words = set(highlight_words) if highlight_words else set()\n",
    "    colors = ['red' if word in highlight_words else 'blue' for word in labels]\n",
    "\n",
    "    if vecs.shape[1] == 2:\n",
    "        fig = px.scatter(\n",
    "            x=vecs[:, 0],\n",
    "            y=vecs[:, 1],\n",
    "            text=labels,\n",
    "            color=colors,\n",
    "            labels={\"color\": \"Tipo de palabra\"}\n",
    "        )\n",
    "    elif vecs.shape[1] == 3:\n",
    "        fig = px.scatter_3d(\n",
    "            x=vecs[:, 0],\n",
    "            y=vecs[:, 1],\n",
    "            z=vecs[:, 2],\n",
    "            text=labels,\n",
    "            color=colors,\n",
    "            labels={\"color\": \"Tipo de palabra\"}\n",
    "        )\n",
    "        fig.update_traces(marker_size = 2)\n",
    "    else:\n",
    "        raise ValueError(\"Los vectores deben ser de dimensión 2 o 3\")\n",
    "\n",
    "    fig.update_traces(textposition='top center')\n",
    "    fig.show()"
   ]
  },
  {
   "cell_type": "code",
   "execution_count": null,
   "id": "53675d0b",
   "metadata": {},
   "outputs": [],
   "source": [
    "def embeddings_matrix_distance(model, words, extra_vector=None, extra_label=\"nuevo\"):\n",
    "    emb = np.array([model.wv.get_vector(word) for word in words])\n",
    "    if extra_vector is not None:\n",
    "        emb = np.vstack([emb, extra_vector])\n",
    "        words = words + [extra_label]\n",
    "    dist = cosine_similarity(emb, emb)\n",
    "    plot_matrix_distance(words, dist)\n",
    "\n",
    "\n",
    "def plot_matrix_distance(words, dist):\n",
    "    fig = plt.figure(figsize=(16,9))\n",
    "    ax = fig.add_subplot()\n",
    "    sns.heatmap(dist, xticklabels=words, yticklabels=words, \n",
    "                annot=True, fmt=\".2f\", cmap=\"YlGnBu\", ax=ax, mask=np.triu(dist))\n",
    "    plt.show()"
   ]
  },
  {
   "cell_type": "markdown",
   "id": "055a0a3c",
   "metadata": {},
   "source": [
    "## Preprocesamiento"
   ]
  },
  {
   "cell_type": "code",
   "execution_count": 6,
   "id": "45b0047f",
   "metadata": {},
   "outputs": [
    {
     "data": {
      "text/plain": [
       "['Indiana_Jones_And_The_Last_Crusade.txt',\n",
       " 'Indiana_Jones_And_The_Temple_Of_Doom.txt',\n",
       " 'Raiders_Of_The_Lost_Ark.txt']"
      ]
     },
     "execution_count": 6,
     "metadata": {},
     "output_type": "execute_result"
    }
   ],
   "source": [
    "os.listdir(\"corpus\")"
   ]
  },
  {
   "cell_type": "code",
   "execution_count": 39,
   "id": "dac7130d",
   "metadata": {},
   "outputs": [
    {
     "data": {
      "application/vnd.microsoft.datawrangler.viewer.v0+json": {
       "columns": [
        {
         "name": "index",
         "rawType": "int64",
         "type": "integer"
        },
        {
         "name": "0",
         "rawType": "object",
         "type": "string"
        }
       ],
       "conversionMethod": "pd.DataFrame",
       "ref": "5d20068f-68f6-464a-8c76-ada729fed689",
       "rows": [
        [
         "0",
         "\"INDIANA JONES AND THE LAST CRUSADE\""
        ],
        [
         "1",
         "Screenplay by"
        ],
        [
         "2",
         "Jeffrey Boam"
        ],
        [
         "3",
         "FADE IN:"
        ],
        [
         "4",
         "EXT. DESERT OF THE AMERICAN SOUTHWEST - DAY"
        ]
       ],
       "shape": {
        "columns": 1,
        "rows": 5
       }
      },
      "text/html": [
       "<div>\n",
       "<style scoped>\n",
       "    .dataframe tbody tr th:only-of-type {\n",
       "        vertical-align: middle;\n",
       "    }\n",
       "\n",
       "    .dataframe tbody tr th {\n",
       "        vertical-align: top;\n",
       "    }\n",
       "\n",
       "    .dataframe thead th {\n",
       "        text-align: right;\n",
       "    }\n",
       "</style>\n",
       "<table border=\"1\" class=\"dataframe\">\n",
       "  <thead>\n",
       "    <tr style=\"text-align: right;\">\n",
       "      <th></th>\n",
       "      <th>0</th>\n",
       "    </tr>\n",
       "  </thead>\n",
       "  <tbody>\n",
       "    <tr>\n",
       "      <th>0</th>\n",
       "      <td>\"INDIANA JONES AND THE LAST CRUSADE\"</td>\n",
       "    </tr>\n",
       "    <tr>\n",
       "      <th>1</th>\n",
       "      <td>Screenplay by</td>\n",
       "    </tr>\n",
       "    <tr>\n",
       "      <th>2</th>\n",
       "      <td>Jeffrey Boam</td>\n",
       "    </tr>\n",
       "    <tr>\n",
       "      <th>3</th>\n",
       "      <td>FADE IN:</td>\n",
       "    </tr>\n",
       "    <tr>\n",
       "      <th>4</th>\n",
       "      <td>EXT. DESERT OF THE AMERICAN SOUTHWEST - DAY</td>\n",
       "    </tr>\n",
       "  </tbody>\n",
       "</table>\n",
       "</div>"
      ],
      "text/plain": [
       "                                             0\n",
       "0         \"INDIANA JONES AND THE LAST CRUSADE\"\n",
       "1                                Screenplay by\n",
       "2                                 Jeffrey Boam\n",
       "3                                     FADE IN:\n",
       "4  EXT. DESERT OF THE AMERICAN SOUTHWEST - DAY"
      ]
     },
     "metadata": {},
     "output_type": "display_data"
    },
    {
     "data": {
      "text/plain": [
       "'Cantidad de documentos:'"
      ]
     },
     "metadata": {},
     "output_type": "display_data"
    },
    {
     "data": {
      "text/plain": [
       "13504"
      ]
     },
     "metadata": {},
     "output_type": "display_data"
    }
   ],
   "source": [
    "df1 = pd.read_csv('corpus/Indiana_Jones_And_The_Last_Crusade.txt', sep='/n', header=None, engine='python')\n",
    "df2 = pd.read_csv('corpus/Raiders_Of_The_Lost_Ark.txt', sep='/n', header=None, engine='python')\n",
    "df3 = pd.read_csv('corpus/Indiana_Jones_And_The_Temple_Of_Doom.txt', sep='/n', header=None, engine='python')\n",
    "df = pd.concat([df1, df2, df3], ignore_index=True)\n",
    "display(df.head())\n",
    "display(\"Cantidad de documentos:\", df.shape[0])"
   ]
  },
  {
   "cell_type": "code",
   "execution_count": 205,
   "id": "e043b19d",
   "metadata": {},
   "outputs": [
    {
     "name": "stderr",
     "output_type": "stream",
     "text": [
      "[nltk_data] Downloading package stopwords to\n",
      "[nltk_data]     C:\\Users\\Pablo/nltk_data...\n",
      "[nltk_data]   Package stopwords is already up-to-date!\n"
     ]
    }
   ],
   "source": [
    "nltk.download('stopwords')\n",
    "stop_words = set(stopwords.words('english')) \n",
    "\n",
    "sentence_tokens = []\n",
    "for _, row in df[:None].iterrows():\n",
    "    tokens = text_to_word_sequence(row[0])  # Tokenizar con Keras\n",
    "    filtered_tokens = [word for word in tokens if word not in stop_words]\n",
    "    sentence_tokens.append(filtered_tokens)"
   ]
  },
  {
   "cell_type": "markdown",
   "id": "5f2e1b73",
   "metadata": {},
   "source": [
    "## Crear los vectores (word2vec)"
   ]
  },
  {
   "cell_type": "code",
   "execution_count": 410,
   "id": "c652e22a",
   "metadata": {},
   "outputs": [],
   "source": [
    "w2v_model = Word2Vec(min_count=4,    # frecuencia mínima de palabra para incluirla en el vocabulario\n",
    "                     window=10,       # cant de palabras antes y desp de la predicha\n",
    "                     vector_size=384,       # dimensionalidad de los vectores \n",
    "                     negative=25,    # cantidad de negative samples... 0 es no se usa\n",
    "                     workers=4,      # si tienen más cores pueden cambiar este valor\n",
    "                     sg=1)           # modelo 0:CBOW  1:skipgram"
   ]
  },
  {
   "cell_type": "code",
   "execution_count": 411,
   "id": "d49e19f0",
   "metadata": {},
   "outputs": [
    {
     "data": {
      "text/plain": [
       "'Cantidad de docs en el corpus:'"
      ]
     },
     "metadata": {},
     "output_type": "display_data"
    },
    {
     "data": {
      "text/plain": [
       "13504"
      ]
     },
     "metadata": {},
     "output_type": "display_data"
    },
    {
     "data": {
      "text/plain": [
       "'Cantidad de words distintas en el corpus:'"
      ]
     },
     "metadata": {},
     "output_type": "display_data"
    },
    {
     "data": {
      "text/plain": [
       "2214"
      ]
     },
     "metadata": {},
     "output_type": "display_data"
    }
   ],
   "source": [
    "w2v_model.build_vocab(sentence_tokens)\n",
    "display(\"Cantidad de docs en el corpus:\", w2v_model.corpus_count)\n",
    "display(\"Cantidad de words distintas en el corpus:\", len(w2v_model.wv.index_to_key))"
   ]
  },
  {
   "cell_type": "code",
   "execution_count": 412,
   "id": "cc351ba3",
   "metadata": {},
   "outputs": [
    {
     "name": "stdout",
     "output_type": "stream",
     "text": [
      "Loss after epoch 0: 240826.15625\n",
      "Loss after epoch 1: 150839.3125\n",
      "Loss after epoch 2: 149583.28125\n",
      "Loss after epoch 3: 146860.375\n",
      "Loss after epoch 4: 145704.75\n",
      "Loss after epoch 5: 143735.375\n",
      "Loss after epoch 6: 135027.5\n",
      "Loss after epoch 7: 122613.625\n",
      "Loss after epoch 8: 120529.0\n",
      "Loss after epoch 9: 118266.625\n",
      "Loss after epoch 10: 117367.375\n",
      "Loss after epoch 11: 114075.125\n",
      "Loss after epoch 12: 111275.125\n",
      "Loss after epoch 13: 109326.875\n",
      "Loss after epoch 14: 107419.125\n",
      "Loss after epoch 15: 101973.625\n",
      "Loss after epoch 16: 94862.25\n",
      "Loss after epoch 17: 92919.5\n",
      "Loss after epoch 18: 90917.0\n",
      "Loss after epoch 19: 88870.5\n",
      "Loss after epoch 20: 88629.25\n",
      "Loss after epoch 21: 85988.75\n",
      "Loss after epoch 22: 84712.0\n",
      "Loss after epoch 23: 82321.0\n",
      "Loss after epoch 24: 81923.5\n",
      "Loss after epoch 25: 79936.0\n",
      "Loss after epoch 26: 78837.25\n",
      "Loss after epoch 27: 78721.25\n",
      "Loss after epoch 28: 76581.5\n",
      "Loss after epoch 29: 75329.25\n",
      "Loss after epoch 30: 74879.5\n",
      "Loss after epoch 31: 73935.75\n",
      "Loss after epoch 32: 75145.25\n",
      "Loss after epoch 33: 73801.25\n",
      "Loss after epoch 34: 71906.5\n",
      "Loss after epoch 35: 72022.0\n",
      "Loss after epoch 36: 70954.0\n",
      "Loss after epoch 37: 70385.0\n",
      "Loss after epoch 38: 71187.25\n",
      "Loss after epoch 39: 69913.5\n",
      "Loss after epoch 40: 69999.25\n",
      "Loss after epoch 41: 69709.25\n",
      "Loss after epoch 42: 65514.25\n",
      "Loss after epoch 43: 65213.0\n",
      "Loss after epoch 44: 64115.5\n",
      "Loss after epoch 45: 63742.0\n",
      "Loss after epoch 46: 64150.0\n",
      "Loss after epoch 47: 64530.0\n",
      "Loss after epoch 48: 63563.5\n",
      "Loss after epoch 49: 64405.5\n",
      "Loss after epoch 50: 63785.5\n",
      "Loss after epoch 51: 63179.0\n",
      "Loss after epoch 52: 62805.0\n",
      "Loss after epoch 53: 62438.0\n",
      "Loss after epoch 54: 63260.5\n",
      "Loss after epoch 55: 62165.5\n",
      "Loss after epoch 56: 61856.0\n",
      "Loss after epoch 57: 63174.0\n",
      "Loss after epoch 58: 61419.0\n",
      "Loss after epoch 59: 62940.0\n",
      "Loss after epoch 60: 62280.5\n",
      "Loss after epoch 61: 61690.0\n",
      "Loss after epoch 62: 61678.0\n",
      "Loss after epoch 63: 61852.0\n",
      "Loss after epoch 64: 61302.5\n",
      "Loss after epoch 65: 61647.5\n",
      "Loss after epoch 66: 61430.0\n",
      "Loss after epoch 67: 59966.5\n",
      "Loss after epoch 68: 61460.0\n",
      "Loss after epoch 69: 60537.0\n",
      "Loss after epoch 70: 60081.0\n",
      "Loss after epoch 71: 61106.0\n",
      "Loss after epoch 72: 59444.5\n",
      "Loss after epoch 73: 59843.5\n",
      "Loss after epoch 74: 60658.5\n",
      "Loss after epoch 75: 59955.5\n",
      "Loss after epoch 76: 61139.0\n",
      "Loss after epoch 77: 59706.5\n",
      "Loss after epoch 78: 59337.5\n",
      "Loss after epoch 79: 59547.0\n"
     ]
    },
    {
     "data": {
      "text/plain": [
       "(2879376, 3869760)"
      ]
     },
     "execution_count": 412,
     "metadata": {},
     "output_type": "execute_result"
    }
   ],
   "source": [
    "w2v_model.train(sentence_tokens,\n",
    "                 total_examples=w2v_model.corpus_count,\n",
    "                 epochs=80,\n",
    "                 compute_loss = True,\n",
    "                 callbacks=[callback()]\n",
    "                 )"
   ]
  },
  {
   "cell_type": "markdown",
   "id": "26286f5b",
   "metadata": {},
   "source": [
    "## Pruebas"
   ]
  },
  {
   "cell_type": "code",
   "execution_count": 413,
   "id": "bab345fd",
   "metadata": {},
   "outputs": [
    {
     "data": {
      "text/plain": [
       "[('diary', 0.5147437453269958),\n",
       " ('pages', 0.47497767210006714),\n",
       " ('knight', 0.47345587611198425),\n",
       " ('sinister', 0.468417227268219),\n",
       " ('page', 0.46794793009757996),\n",
       " ('forget', 0.46477797627449036),\n",
       " ('attempt', 0.4613129794597626),\n",
       " ('complete', 0.44744569063186646),\n",
       " ('america', 0.44711625576019287),\n",
       " ('seal', 0.43660858273506165)]"
      ]
     },
     "execution_count": 413,
     "metadata": {},
     "output_type": "execute_result"
    }
   ],
   "source": [
    "w2v_model.wv.most_similar(positive=[\"grail\"], topn=10)"
   ]
  },
  {
   "cell_type": "markdown",
   "id": "c50130a4",
   "metadata": {},
   "source": [
    "En este caso podemos ver como la palabra que mas correlación tiene con Grial es Diario, en la pelicula \"Indiana Jones y la última cruzada\", se menciona varias veces al diario del grial donde estaba la información de como encontrarlo. "
   ]
  },
  {
   "cell_type": "code",
   "execution_count": 414,
   "id": "ed107869",
   "metadata": {},
   "outputs": [
    {
     "data": {
      "text/plain": [
       "[('covenant', 0.5530259013175964),\n",
       " ('crated', 0.5009047389030457),\n",
       " ('poles', 0.48809751868247986),\n",
       " ('lid', 0.44593220949172974),\n",
       " ('rod', 0.4147621691226959),\n",
       " ('shut', 0.3858519196510315),\n",
       " ('tightly', 0.3854084610939026),\n",
       " ('arrives', 0.3763621747493744),\n",
       " ('press', 0.36941632628440857),\n",
       " ('bouncing', 0.3688600957393646)]"
      ]
     },
     "execution_count": 414,
     "metadata": {},
     "output_type": "execute_result"
    }
   ],
   "source": [
    "w2v_model.wv.most_similar(positive=[\"ark\"], topn=10)"
   ]
  },
  {
   "cell_type": "markdown",
   "id": "f8667c76",
   "metadata": {},
   "source": [
    "En \"Indiana Jones y los cazadores del arca perdida\" la famosa arca se llama \"el arca de la alianza\" por eso la mejor correlación es con esa palabra."
   ]
  },
  {
   "cell_type": "code",
   "execution_count": 415,
   "id": "81dace33",
   "metadata": {},
   "outputs": [
    {
     "data": {
      "text/plain": [
       "[('stones', 0.7067492008209229),\n",
       " ('stolen', 0.6373118162155151),\n",
       " ('sacred', 0.6338757276535034),\n",
       " ('bag', 0.5764142274856567),\n",
       " ('jai', 0.5697948336601257),\n",
       " ('brothers', 0.5533120036125183),\n",
       " ('magical', 0.5509536862373352),\n",
       " ('goddess', 0.538970410823822),\n",
       " ('legend', 0.5352293848991394),\n",
       " ('gave', 0.5351132750511169)]"
      ]
     },
     "execution_count": 415,
     "metadata": {},
     "output_type": "execute_result"
    }
   ],
   "source": [
    "w2v_model.wv.most_similar(positive=[\"sankara\"], topn=10)"
   ]
  },
  {
   "cell_type": "markdown",
   "id": "a6e4bfd6",
   "metadata": {},
   "source": [
    "En \"Indiana Jones y el templo de la pedición\" el objeto que Indy debe rescatar era la Piedra de Sankara, que eran unas piedras sagradas."
   ]
  },
  {
   "cell_type": "code",
   "execution_count": 419,
   "id": "dae127db",
   "metadata": {},
   "outputs": [
    {
     "data": {
      "text/plain": [
       "[('overlapping', 0.03946489468216896),\n",
       " ('interrupting', 0.017486264929175377),\n",
       " ('slightly', 0.010745308361947536),\n",
       " ('antidote', -0.00045634430716745555),\n",
       " ('subtitled', -0.0036324181128293276),\n",
       " ('vial', -0.00890352763235569),\n",
       " ('around', -0.010200455784797668),\n",
       " ('crawls', -0.012410992756485939),\n",
       " ('poison', -0.018366843461990356),\n",
       " ('smiling', -0.02246083877980709)]"
      ]
     },
     "execution_count": 419,
     "metadata": {},
     "output_type": "execute_result"
    }
   ],
   "source": [
    "w2v_model.wv.most_similar(negative=[\"soldiers\"], topn=10)"
   ]
  },
  {
   "cell_type": "markdown",
   "id": "54aead4b",
   "metadata": {},
   "source": [
    "Para la relación inversa no es que se detecten antonimos, sino palabras que no estan muy relacionadas en el espacio del embedding. No podemos sacar mucha conclusión del ejemplo."
   ]
  },
  {
   "cell_type": "markdown",
   "id": "1c14a205",
   "metadata": {},
   "source": [
    "## Visualizar agrupación de vectores"
   ]
  },
  {
   "cell_type": "code",
   "execution_count": 422,
   "id": "138886b6",
   "metadata": {},
   "outputs": [
    {
     "data": {
      "application/vnd.plotly.v1+json": {
       "config": {
        "plotlyServerURL": "https://plot.ly"
       },
       "data": [
        {
         "hovertemplate": "Tipo de palabra=blue<br>x=%{x}<br>y=%{y}<br>text=%{text}<extra></extra>",
         "legendgroup": "blue",
         "marker": {
          "color": "#636efa",
          "symbol": "circle"
         },
         "mode": "markers+text",
         "name": "blue",
         "orientation": "v",
         "showlegend": true,
         "text": [
          "crashes",
          "even",
          "forget",
          "wind",
          "smashes",
          "glass",
          "picks",
          "periscope",
          "breaks",
          "hard",
          "black",
          "behind",
          "puts",
          "full",
          "walls",
          "pankot",
          "exchange",
          "marcus",
          "sallah",
          "lifts",
          "bag",
          "hands",
          "suddenly",
          "pushes",
          "press",
          "water",
          "donovan",
          "comes",
          "pull",
          "goes",
          "beyond",
          "see",
          "ram's",
          "fingers",
          "follow",
          "seal",
          "lal",
          "hat",
          "hears",
          "finds",
          "finally",
          "death",
          "hits",
          "flame",
          "shoulder",
          "shut",
          "kazim",
          "seen",
          "thank",
          "kali",
          "mine",
          "want",
          "legend",
          "nothing",
          "seems",
          "that's",
          "covenant",
          "captain",
          "worried",
          "palace",
          "talk",
          "something",
          "much",
          "old",
          "kill",
          "face",
          "temple",
          "head",
          "stares",
          "suite",
          "almost",
          "plane",
          "village",
          "tell",
          "got",
          "leather",
          "going",
          "torch",
          "ram",
          "rushes",
          "father",
          "rear",
          "shoots",
          "inside",
          "machine",
          "crated",
          "lid",
          "make",
          "toward",
          "time",
          "there's",
          "arab",
          "driver",
          "hit",
          "enters",
          "around",
          "onto",
          "truck",
          "train",
          "mouth",
          "stones",
          "entrance",
          "day",
          "falls",
          "city",
          "control",
          "children",
          "room",
          "keep",
          "belzig",
          "knew",
          "blood",
          "neck",
          "belloq",
          "ground",
          "elephants",
          "bullwhip",
          "looks",
          "lights",
          "desert",
          "let's",
          "can't",
          "henry",
          "move",
          "burning",
          "said",
          "three",
          "indy",
          "men",
          "closer",
          "made",
          "air",
          "small",
          "foot",
          "leaps",
          "life",
          "soldier",
          "floor",
          "away",
          "climbs",
          "priest",
          "swings",
          "stop",
          "slips",
          "kicks",
          "rock",
          "magical",
          "way",
          "dead",
          "step",
          "direction",
          "tunnel",
          "still",
          "arm",
          "gong",
          "frame",
          "shaman",
          "doctor",
          "yes",
          "pages",
          "roof",
          "right",
          "rod",
          "rolls",
          "together",
          "help",
          "knocks",
          "page",
          "ahead",
          "jumps",
          "let",
          "break",
          "sound",
          "tracks",
          "feet",
          "trying",
          "people",
          "across",
          "glances",
          "gives",
          "slides",
          "indy's",
          "years",
          "boat",
          "sword",
          "gave",
          "get",
          "spot",
          "moving",
          "drops",
          "hey",
          "pulls",
          "museum",
          "light",
          "fall",
          "sinister",
          "bullets",
          "wrong",
          "holds",
          "fire",
          "halfbreed",
          "big",
          "platform",
          "holding",
          "would",
          "tabernacle",
          "ext",
          "tightly",
          "goddess",
          "box",
          "must",
          "cut",
          "place",
          "castle",
          "walks",
          "america",
          "nazi",
          "eaton",
          "dust",
          "spins",
          "okay",
          "center",
          "bouncing",
          "fedora",
          "reaches",
          "yells",
          "knows",
          "notices",
          "bar",
          "last",
          "thuggee",
          "take",
          "believe",
          "hole",
          "watch",
          "approaches",
          "steps",
          "car",
          "find",
          "work",
          "along",
          "stands",
          "close",
          "shakes",
          "marion",
          "monkey",
          "smoke",
          "cars",
          "half",
          "fast",
          "indiana",
          "wheel",
          "clear",
          "street",
          "side",
          "god",
          "arrives",
          "meanwhile",
          "attempt",
          "brody",
          "whip",
          "slowly",
          "armed",
          "map",
          "oh",
          "open",
          "dad",
          "diary",
          "guard",
          "forward",
          "seat",
          "attention",
          "say",
          "white",
          "lost",
          "gun",
          "think",
          "huge",
          "mountain",
          "moves",
          "good",
          "night",
          "explodes",
          "horse",
          "flames",
          "brought",
          "cliff",
          "strange",
          "others",
          "deck",
          "what's",
          "sees",
          "bad",
          "statue",
          "leave",
          "tank",
          "man",
          "sits",
          "brothers",
          "turns",
          "beat",
          "runs",
          "jones",
          "smiling",
          "elsa",
          "int",
          "vogel",
          "hold",
          "watches",
          "altar",
          "giant",
          "wait",
          "ceiling",
          "oil",
          "table",
          "smile",
          "lava",
          "walk",
          "hok's",
          "new",
          "stolen",
          "dr",
          "bottom",
          "little",
          "square",
          "tries",
          "staff",
          "smiles",
          "door",
          "stops",
          "raises",
          "coming",
          "willie",
          "tall",
          "start",
          "window",
          "moment",
          "wide",
          "past",
          "sight",
          "evil",
          "snakes",
          "could",
          "grabs",
          "sun",
          "roscoe",
          "stand",
          "disappears",
          "points",
          "takes",
          "turn",
          "lao",
          "cockpit",
          "venice",
          "left",
          "ever",
          "rocks",
          "know",
          "book",
          "nazis",
          "well",
          "maharajah",
          "appears",
          "river",
          "screams",
          "shouts",
          "empty",
          "follows",
          "round",
          "already",
          "line",
          "several",
          "raft",
          "wall",
          "crevasse",
          "looking",
          "end",
          "back",
          "flying",
          "front",
          "junior",
          "top",
          "flies",
          "directly",
          "eyes",
          "nods",
          "thought",
          "never",
          "sacred",
          "pilot",
          "like",
          "pistol",
          "go",
          "five",
          "first",
          "two",
          "poles",
          "long",
          "boy",
          "hanging",
          "starts",
          "please",
          "heads",
          "rope",
          "lead",
          "running",
          "run",
          "road",
          "leans",
          "body",
          "willie's",
          "quickly",
          "dives",
          "immediately",
          "begins",
          "cavern",
          "piece",
          "give",
          "satipo",
          "snake",
          "tent",
          "chamber",
          "show",
          "stone",
          "far",
          "short",
          "makes",
          "taking",
          "shorty",
          "cross",
          "beneath",
          "blumburtt",
          "throws",
          "arms",
          "next",
          "wooden",
          "pulling",
          "begin",
          "hall",
          "belt",
          "put",
          "speaks",
          "shliemann",
          "pocket",
          "guns",
          "pain",
          "narrow",
          "gobler",
          "pass",
          "mola",
          "chattar",
          "enough",
          "large",
          "hand",
          "jacket",
          "guards",
          "gold",
          "near",
          "another",
          "kid",
          "come",
          "us",
          "four",
          "reach",
          "shot",
          "corner",
          "high",
          "drink",
          "fires",
          "one",
          "dark",
          "look",
          "rush",
          "knight",
          "complete",
          "bridge",
          "edge",
          "brake",
          "gets",
          "elephant",
          "yet",
          "enormous",
          "soldiers",
          "quick",
          "capt",
          "friend",
          "continues",
          "found",
          "view",
          "chinese",
          "ten",
          "hear",
          "german",
          "heavy",
          "jai",
          "second",
          "opens"
         ],
         "textposition": "top center",
         "type": "scatter",
         "x": {
          "bdata": "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",
          "dtype": "f4"
         },
         "xaxis": "x",
         "y": {
          "bdata": "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",
          "dtype": "f4"
         },
         "yaxis": "y"
        },
        {
         "hovertemplate": "Tipo de palabra=red<br>x=%{x}<br>y=%{y}<br>text=%{text}<extra></extra>",
         "legendgroup": "red",
         "marker": {
          "color": "#EF553B",
          "symbol": "circle"
         },
         "mode": "markers+text",
         "name": "red",
         "orientation": "v",
         "showlegend": true,
         "text": [
          "sankara",
          "grail",
          "ark"
         ],
         "textposition": "top center",
         "type": "scatter",
         "x": {
          "bdata": "gzPPv7ARCkEuJHTB",
          "dtype": "f4"
         },
         "xaxis": "x",
         "y": {
          "bdata": "TKixP/tXrUASN9RA",
          "dtype": "f4"
         },
         "yaxis": "y"
        }
       ],
       "layout": {
        "legend": {
         "title": {
          "text": "Tipo de palabra"
         },
         "tracegroupgap": 0
        },
        "margin": {
         "t": 60
        },
        "template": {
         "data": {
          "bar": [
           {
            "error_x": {
             "color": "#2a3f5f"
            },
            "error_y": {
             "color": "#2a3f5f"
            },
            "marker": {
             "line": {
              "color": "#E5ECF6",
              "width": 0.5
             },
             "pattern": {
              "fillmode": "overlay",
              "size": 10,
              "solidity": 0.2
             }
            },
            "type": "bar"
           }
          ],
          "barpolar": [
           {
            "marker": {
             "line": {
              "color": "#E5ECF6",
              "width": 0.5
             },
             "pattern": {
              "fillmode": "overlay",
              "size": 10,
              "solidity": 0.2
             }
            },
            "type": "barpolar"
           }
          ],
          "carpet": [
           {
            "aaxis": {
             "endlinecolor": "#2a3f5f",
             "gridcolor": "white",
             "linecolor": "white",
             "minorgridcolor": "white",
             "startlinecolor": "#2a3f5f"
            },
            "baxis": {
             "endlinecolor": "#2a3f5f",
             "gridcolor": "white",
             "linecolor": "white",
             "minorgridcolor": "white",
             "startlinecolor": "#2a3f5f"
            },
            "type": "carpet"
           }
          ],
          "choropleth": [
           {
            "colorbar": {
             "outlinewidth": 0,
             "ticks": ""
            },
            "type": "choropleth"
           }
          ],
          "contour": [
           {
            "colorbar": {
             "outlinewidth": 0,
             "ticks": ""
            },
            "colorscale": [
             [
              0,
              "#0d0887"
             ],
             [
              0.1111111111111111,
              "#46039f"
             ],
             [
              0.2222222222222222,
              "#7201a8"
             ],
             [
              0.3333333333333333,
              "#9c179e"
             ],
             [
              0.4444444444444444,
              "#bd3786"
             ],
             [
              0.5555555555555556,
              "#d8576b"
             ],
             [
              0.6666666666666666,
              "#ed7953"
             ],
             [
              0.7777777777777778,
              "#fb9f3a"
             ],
             [
              0.8888888888888888,
              "#fdca26"
             ],
             [
              1,
              "#f0f921"
             ]
            ],
            "type": "contour"
           }
          ],
          "contourcarpet": [
           {
            "colorbar": {
             "outlinewidth": 0,
             "ticks": ""
            },
            "type": "contourcarpet"
           }
          ],
          "heatmap": [
           {
            "colorbar": {
             "outlinewidth": 0,
             "ticks": ""
            },
            "colorscale": [
             [
              0,
              "#0d0887"
             ],
             [
              0.1111111111111111,
              "#46039f"
             ],
             [
              0.2222222222222222,
              "#7201a8"
             ],
             [
              0.3333333333333333,
              "#9c179e"
             ],
             [
              0.4444444444444444,
              "#bd3786"
             ],
             [
              0.5555555555555556,
              "#d8576b"
             ],
             [
              0.6666666666666666,
              "#ed7953"
             ],
             [
              0.7777777777777778,
              "#fb9f3a"
             ],
             [
              0.8888888888888888,
              "#fdca26"
             ],
             [
              1,
              "#f0f921"
             ]
            ],
            "type": "heatmap"
           }
          ],
          "histogram": [
           {
            "marker": {
             "pattern": {
              "fillmode": "overlay",
              "size": 10,
              "solidity": 0.2
             }
            },
            "type": "histogram"
           }
          ],
          "histogram2d": [
           {
            "colorbar": {
             "outlinewidth": 0,
             "ticks": ""
            },
            "colorscale": [
             [
              0,
              "#0d0887"
             ],
             [
              0.1111111111111111,
              "#46039f"
             ],
             [
              0.2222222222222222,
              "#7201a8"
             ],
             [
              0.3333333333333333,
              "#9c179e"
             ],
             [
              0.4444444444444444,
              "#bd3786"
             ],
             [
              0.5555555555555556,
              "#d8576b"
             ],
             [
              0.6666666666666666,
              "#ed7953"
             ],
             [
              0.7777777777777778,
              "#fb9f3a"
             ],
             [
              0.8888888888888888,
              "#fdca26"
             ],
             [
              1,
              "#f0f921"
             ]
            ],
            "type": "histogram2d"
           }
          ],
          "histogram2dcontour": [
           {
            "colorbar": {
             "outlinewidth": 0,
             "ticks": ""
            },
            "colorscale": [
             [
              0,
              "#0d0887"
             ],
             [
              0.1111111111111111,
              "#46039f"
             ],
             [
              0.2222222222222222,
              "#7201a8"
             ],
             [
              0.3333333333333333,
              "#9c179e"
             ],
             [
              0.4444444444444444,
              "#bd3786"
             ],
             [
              0.5555555555555556,
              "#d8576b"
             ],
             [
              0.6666666666666666,
              "#ed7953"
             ],
             [
              0.7777777777777778,
              "#fb9f3a"
             ],
             [
              0.8888888888888888,
              "#fdca26"
             ],
             [
              1,
              "#f0f921"
             ]
            ],
            "type": "histogram2dcontour"
           }
          ],
          "mesh3d": [
           {
            "colorbar": {
             "outlinewidth": 0,
             "ticks": ""
            },
            "type": "mesh3d"
           }
          ],
          "parcoords": [
           {
            "line": {
             "colorbar": {
              "outlinewidth": 0,
              "ticks": ""
             }
            },
            "type": "parcoords"
           }
          ],
          "pie": [
           {
            "automargin": true,
            "type": "pie"
           }
          ],
          "scatter": [
           {
            "fillpattern": {
             "fillmode": "overlay",
             "size": 10,
             "solidity": 0.2
            },
            "type": "scatter"
           }
          ],
          "scatter3d": [
           {
            "line": {
             "colorbar": {
              "outlinewidth": 0,
              "ticks": ""
             }
            },
            "marker": {
             "colorbar": {
              "outlinewidth": 0,
              "ticks": ""
             }
            },
            "type": "scatter3d"
           }
          ],
          "scattercarpet": [
           {
            "marker": {
             "colorbar": {
              "outlinewidth": 0,
              "ticks": ""
             }
            },
            "type": "scattercarpet"
           }
          ],
          "scattergeo": [
           {
            "marker": {
             "colorbar": {
              "outlinewidth": 0,
              "ticks": ""
             }
            },
            "type": "scattergeo"
           }
          ],
          "scattergl": [
           {
            "marker": {
             "colorbar": {
              "outlinewidth": 0,
              "ticks": ""
             }
            },
            "type": "scattergl"
           }
          ],
          "scattermap": [
           {
            "marker": {
             "colorbar": {
              "outlinewidth": 0,
              "ticks": ""
             }
            },
            "type": "scattermap"
           }
          ],
          "scattermapbox": [
           {
            "marker": {
             "colorbar": {
              "outlinewidth": 0,
              "ticks": ""
             }
            },
            "type": "scattermapbox"
           }
          ],
          "scatterpolar": [
           {
            "marker": {
             "colorbar": {
              "outlinewidth": 0,
              "ticks": ""
             }
            },
            "type": "scatterpolar"
           }
          ],
          "scatterpolargl": [
           {
            "marker": {
             "colorbar": {
              "outlinewidth": 0,
              "ticks": ""
             }
            },
            "type": "scatterpolargl"
           }
          ],
          "scatterternary": [
           {
            "marker": {
             "colorbar": {
              "outlinewidth": 0,
              "ticks": ""
             }
            },
            "type": "scatterternary"
           }
          ],
          "surface": [
           {
            "colorbar": {
             "outlinewidth": 0,
             "ticks": ""
            },
            "colorscale": [
             [
              0,
              "#0d0887"
             ],
             [
              0.1111111111111111,
              "#46039f"
             ],
             [
              0.2222222222222222,
              "#7201a8"
             ],
             [
              0.3333333333333333,
              "#9c179e"
             ],
             [
              0.4444444444444444,
              "#bd3786"
             ],
             [
              0.5555555555555556,
              "#d8576b"
             ],
             [
              0.6666666666666666,
              "#ed7953"
             ],
             [
              0.7777777777777778,
              "#fb9f3a"
             ],
             [
              0.8888888888888888,
              "#fdca26"
             ],
             [
              1,
              "#f0f921"
             ]
            ],
            "type": "surface"
           }
          ],
          "table": [
           {
            "cells": {
             "fill": {
              "color": "#EBF0F8"
             },
             "line": {
              "color": "white"
             }
            },
            "header": {
             "fill": {
              "color": "#C8D4E3"
             },
             "line": {
              "color": "white"
             }
            },
            "type": "table"
           }
          ]
         },
         "layout": {
          "annotationdefaults": {
           "arrowcolor": "#2a3f5f",
           "arrowhead": 0,
           "arrowwidth": 1
          },
          "autotypenumbers": "strict",
          "coloraxis": {
           "colorbar": {
            "outlinewidth": 0,
            "ticks": ""
           }
          },
          "colorscale": {
           "diverging": [
            [
             0,
             "#8e0152"
            ],
            [
             0.1,
             "#c51b7d"
            ],
            [
             0.2,
             "#de77ae"
            ],
            [
             0.3,
             "#f1b6da"
            ],
            [
             0.4,
             "#fde0ef"
            ],
            [
             0.5,
             "#f7f7f7"
            ],
            [
             0.6,
             "#e6f5d0"
            ],
            [
             0.7,
             "#b8e186"
            ],
            [
             0.8,
             "#7fbc41"
            ],
            [
             0.9,
             "#4d9221"
            ],
            [
             1,
             "#276419"
            ]
           ],
           "sequential": [
            [
             0,
             "#0d0887"
            ],
            [
             0.1111111111111111,
             "#46039f"
            ],
            [
             0.2222222222222222,
             "#7201a8"
            ],
            [
             0.3333333333333333,
             "#9c179e"
            ],
            [
             0.4444444444444444,
             "#bd3786"
            ],
            [
             0.5555555555555556,
             "#d8576b"
            ],
            [
             0.6666666666666666,
             "#ed7953"
            ],
            [
             0.7777777777777778,
             "#fb9f3a"
            ],
            [
             0.8888888888888888,
             "#fdca26"
            ],
            [
             1,
             "#f0f921"
            ]
           ],
           "sequentialminus": [
            [
             0,
             "#0d0887"
            ],
            [
             0.1111111111111111,
             "#46039f"
            ],
            [
             0.2222222222222222,
             "#7201a8"
            ],
            [
             0.3333333333333333,
             "#9c179e"
            ],
            [
             0.4444444444444444,
             "#bd3786"
            ],
            [
             0.5555555555555556,
             "#d8576b"
            ],
            [
             0.6666666666666666,
             "#ed7953"
            ],
            [
             0.7777777777777778,
             "#fb9f3a"
            ],
            [
             0.8888888888888888,
             "#fdca26"
            ],
            [
             1,
             "#f0f921"
            ]
           ]
          },
          "colorway": [
           "#636efa",
           "#EF553B",
           "#00cc96",
           "#ab63fa",
           "#FFA15A",
           "#19d3f3",
           "#FF6692",
           "#B6E880",
           "#FF97FF",
           "#FECB52"
          ],
          "font": {
           "color": "#2a3f5f"
          },
          "geo": {
           "bgcolor": "white",
           "lakecolor": "white",
           "landcolor": "#E5ECF6",
           "showlakes": true,
           "showland": true,
           "subunitcolor": "white"
          },
          "hoverlabel": {
           "align": "left"
          },
          "hovermode": "closest",
          "mapbox": {
           "style": "light"
          },
          "paper_bgcolor": "white",
          "plot_bgcolor": "#E5ECF6",
          "polar": {
           "angularaxis": {
            "gridcolor": "white",
            "linecolor": "white",
            "ticks": ""
           },
           "bgcolor": "#E5ECF6",
           "radialaxis": {
            "gridcolor": "white",
            "linecolor": "white",
            "ticks": ""
           }
          },
          "scene": {
           "xaxis": {
            "backgroundcolor": "#E5ECF6",
            "gridcolor": "white",
            "gridwidth": 2,
            "linecolor": "white",
            "showbackground": true,
            "ticks": "",
            "zerolinecolor": "white"
           },
           "yaxis": {
            "backgroundcolor": "#E5ECF6",
            "gridcolor": "white",
            "gridwidth": 2,
            "linecolor": "white",
            "showbackground": true,
            "ticks": "",
            "zerolinecolor": "white"
           },
           "zaxis": {
            "backgroundcolor": "#E5ECF6",
            "gridcolor": "white",
            "gridwidth": 2,
            "linecolor": "white",
            "showbackground": true,
            "ticks": "",
            "zerolinecolor": "white"
           }
          },
          "shapedefaults": {
           "line": {
            "color": "#2a3f5f"
           }
          },
          "ternary": {
           "aaxis": {
            "gridcolor": "white",
            "linecolor": "white",
            "ticks": ""
           },
           "baxis": {
            "gridcolor": "white",
            "linecolor": "white",
            "ticks": ""
           },
           "bgcolor": "#E5ECF6",
           "caxis": {
            "gridcolor": "white",
            "linecolor": "white",
            "ticks": ""
           }
          },
          "title": {
           "x": 0.05
          },
          "xaxis": {
           "automargin": true,
           "gridcolor": "white",
           "linecolor": "white",
           "ticks": "",
           "title": {
            "standoff": 15
           },
           "zerolinecolor": "white",
           "zerolinewidth": 2
          },
          "yaxis": {
           "automargin": true,
           "gridcolor": "white",
           "linecolor": "white",
           "ticks": "",
           "title": {
            "standoff": 15
           },
           "zerolinecolor": "white",
           "zerolinewidth": 2
          }
         }
        },
        "xaxis": {
         "anchor": "y",
         "domain": [
          0,
          1
         ],
         "title": {
          "text": "x"
         }
        },
        "yaxis": {
         "anchor": "x",
         "domain": [
          0,
          1
         ],
         "title": {
          "text": "y"
         }
        }
       }
      }
     },
     "metadata": {},
     "output_type": "display_data"
    }
   ],
   "source": [
    "vecs, labels = reduce_dimensions(w2v_model)\n",
    "\n",
    "MAX_WORDS=500\n",
    "plot_embeddings(w2v_model, vecs, labels, MAX_WORDS, highlight_words=[\"grail\",\"ark\",\"sankara\"])"
   ]
  },
  {
   "cell_type": "code",
   "execution_count": 421,
   "id": "4374bc39",
   "metadata": {},
   "outputs": [
    {
     "data": {
      "application/vnd.plotly.v1+json": {
       "config": {
        "plotlyServerURL": "https://plot.ly"
       },
       "data": [
        {
         "hovertemplate": "Tipo de palabra=blue<br>x=%{x}<br>y=%{y}<br>z=%{z}<br>text=%{text}<extra></extra>",
         "legendgroup": "blue",
         "marker": {
          "color": "#636efa",
          "size": 2,
          "symbol": "circle"
         },
         "mode": "markers+text",
         "name": "blue",
         "scene": "scene",
         "showlegend": true,
         "text": [
          "dad",
          "diary",
          "forget",
          "like",
          "wind",
          "life",
          "floor",
          "away",
          "guard",
          "forward",
          "go",
          "behind",
          "rock",
          "magical",
          "puts",
          "way",
          "gun",
          "first",
          "think",
          "two",
          "poles",
          "long",
          "huge",
          "moves",
          "starts",
          "night",
          "tunnel",
          "still",
          "sallah",
          "run",
          "road",
          "bag",
          "hands",
          "suddenly",
          "quickly",
          "press",
          "water",
          "donovan",
          "begins",
          "pages",
          "sees",
          "right",
          "comes",
          "satipo",
          "rod",
          "see",
          "seal",
          "page",
          "man",
          "tank",
          "jumps",
          "brothers",
          "turns",
          "lal",
          "runs",
          "hat",
          "jones",
          "feet",
          "chamber",
          "finally",
          "across",
          "stone",
          "elsa",
          "short",
          "indy's",
          "shorty",
          "shut",
          "cross",
          "int",
          "vogel",
          "gave",
          "watches",
          "altar",
          "hold",
          "giant",
          "table",
          "get",
          "mine",
          "want",
          "legend",
          "next",
          "pulls",
          "that's",
          "covenant",
          "palace",
          "something",
          "old",
          "light",
          "face",
          "sinister",
          "temple",
          "head",
          "stolen",
          "shliemann",
          "holds",
          "fire",
          "plane",
          "little",
          "got",
          "would",
          "ext",
          "tightly",
          "smiles",
          "door",
          "goddess",
          "going",
          "cut",
          "ram",
          "stops",
          "mola",
          "chattar",
          "walks",
          "inside",
          "willie",
          "america",
          "crated",
          "nazi",
          "hand",
          "lid",
          "guards",
          "start",
          "toward",
          "another",
          "time",
          "window",
          "moment",
          "past",
          "come",
          "bouncing",
          "grabs",
          "around",
          "us",
          "fedora",
          "reaches",
          "onto",
          "truck",
          "air",
          "stones",
          "last",
          "day",
          "falls",
          "take",
          "hole",
          "takes",
          "high",
          "steps",
          "children",
          "car",
          "one",
          "lao",
          "room",
          "dark",
          "know",
          "nazis",
          "along",
          "belzig",
          "well",
          "stands",
          "look",
          "maharajah",
          "knight",
          "belloq",
          "complete",
          "bridge",
          "marion",
          "gets",
          "screams",
          "opens",
          "looks",
          "henry",
          "indiana",
          "move",
          "round",
          "side",
          "wall",
          "god",
          "looking",
          "end",
          "arrives",
          "attempt",
          "back",
          "brody",
          "indy",
          "whip",
          "three",
          "men",
          "slowly",
          "front",
          "german",
          "top",
          "jai",
          "oh",
          "second",
          "small",
          "eyes",
          "open",
          "sacred"
         ],
         "textposition": "top center",
         "type": "scatter3d",
         "x": {
          "bdata": "um1/QV154EHaG4BATWQtwiof1sEivHLCRNJuQT4ZTkIXaXXBBn9bQrJr10ASY+RBpXovwAdKdsFF9BZC1VWHQTVvI0ICKIdAwWJDQItmH0ERHXPBX+sdQMAHMUB+sPhBMAQ0wlrzDsFQBVM+awIhv//ddb+6th1B+PWSQPU4pcFCfMxBFIfgwZeAKMFgoK3AdEr2P9PYtkHIkEnB73oEQshmK8LRgMk/8ff/wTnIaEGM9yPC3B62QVL1xEGr4QFCB4hPwbrWR0IGuShBAxX/QKQvLkKEM1XCew+HQU6uqUGn+F9BwnSqwVkXr71HvxTCNoX0u0UI9EGL8yRCffxlwldIWUKzS+vBzJZAQQ2xu0AzuQRBM4VCQlPEksHUgDvCxcS+wK4eXcGKGFVBsyAtwnfNlEHWX7VB+EsdwPkSp8FaM1BCFEsqwlyJWT/Aa8BB23vIQNFfDMFMKwvBnlWDQHBE+0AxALxBu7DiQLLpgUH/NH/BgUPQQSZKBUJsNFzAhgkjQZpoMsJi1YHAB94vQTL3OsBcurzB2a1AwlBRF8A1H9vBTbEQwVQq10AZP/HB90GkwdAMAsKY2lXCknUdwjM87cAclbTBBxxOQSNiccHIQzVBDS1Qwpb5yMDueTvBn+y/wfTWhkG/EJXBZfZtQc4HG0IIfcpB9vFwPnSS3sCurx9Cc/d1wRePzMH/71VAfZXcQVBS1kGEXvo8JUsEQky8vEE5jYzBBzadQNLGxsBJNK5Az+jUQEYsqkGgVlVCn90MwmpCBELPJLLB3u4KQkerS0Fy1QHBfDvuQFXA4sAPpEZBX3ANQtCzZcEbxvBBrvCrwMvQQMIaoyLCaqIwwq9pl0F+vB5BeWTFwBn0u8GpsAlBsQd0wR1E+sFgtRFCiPpuwfqSC0JlsvfBpO0DwnjiYcJNN6HApoxYQURREsHtlqDBXTirwQReDcHLCIxB/u0/QuFhAkL2BdtAfxc7wvWy4EAO9wNCuer0wTOl6UE/1zhC1pz4QAOTzMFI4w/BujOrQdplBcI1B5rBqydmQeeCm8E=",
          "dtype": "f4"
         },
         "y": {
          "bdata": "4JHHwYEKhcHIPTjBkiuLQdE/tEGMXMFAX6WpwRcQgMEsb7m/m/OIQR+byMEuyUbBs0gEwpDmGsC/WPXB4x0+whqRvcC7tzVBYfiBwXQ5MDyv1ChBUmXFQVidHcKAgkRBysO3QCwpx0GaMpJBJBW6wU3WoMBWylHC0iIbQvfw0ME8N6HB97zWwNrGDEIH2yrC6Kfvwe/GwsBMnSzCBqVawR5O30Guyu3AoBBrQQzSPsB0t2XB2AjCwVDx8sFbZA7BYDa/QY1iRcG8JMXBo1ANQYHXoECbc39A45jbwWjoJsIxNUPAr3jKwLsrFEGO06hBbE4Wwsz50sBFUGbBgoJowUoIHsGSmzvB0/Huwe1NbUKCLb9B+kD8wK+Rc0C5zE/BrF0RQY7ltkCYq7HAaMBEP/D9CML/p/1B5WSWwcCHjkFNFUvBJjK/wPeF7sEw69rAVV+2QaBb58EBVQ1BV2TJPywQWsKPOb/BOFw6QpoMPcG3Kvk/lUGaQYwGFsJZ+BVC6eUywrcUmMGSXbDB/81YwcPJ/0FdSLjAiryAwNaLRMLPkh3AtmN/wbTsecE3GSbCF/HrwWcnH8IUlI4/eFS+wDqClsDYp8HBeUdgwFdkwEDtAj9C/B6YQY3bNsJ6bDjCRRsLwofT1kFUAANCMLIqQZ5sj8CuymY/b0bfwShj5D+tqARCqRIJwnSTJcFp4/7BX3OJwVqD28FY5afBI8z3QYd7ksHrNp7BvsSpQEuuA0KQAI/BltziQZyU1MGNSuNBlEvlwXBENUINrDnCbVgNQsUoW8EQXnHBNgPvQOHxD0HEcvvAYMA9P89kmUGIfCdBFa9rQd5v+MHLQ+1BUiN6wTd5w8E1YqRBRQTtQH1I7EEs7EdA82FYQnwWkcF7bADC3L8ewUHOFMFgbyHBRGVCwmFYi8GxulrChKvZwXESEsK8gk/CgmauQR26AEIuG97BoJmnwXnCLkIaqibA5iPGwVuIRkH+1/tA3Pi3wV9ZFkJ8H0xBnS38QbsFdsDCvuHBY379QdYLCUJ7AMXBYPDUwUCsqL8=",
          "dtype": "f4"
         },
         "z": {
          "bdata": "7wMGQt4JlkH4VaVB8lGdwfAWNELg1ZQ81VDswVoL1EF/qo/BIiKEwTN9VkG7bRrCW5N7wX/ag0Ee8KlBPyy2QHP9jMD5B5dBSb94QEIHa0JAsgTCRjs1wpF1WsFyoILANkqPQLR0ssHUHB3C9A7Hv0gJYsKzN8XBbV+LwRq6EkLxmxbApbjAwSrPpEE6aGZBHMYMwUQWx0A4icJBYAG1QdFE28H4wOTAgEveweW0ScI4LAHCgtUuQile6EAWkbVBEFkNQcnrSUE8BU7CH7qkQcktHcIOKfxApXIBwcNXisFwqxNCl5w4wvn9HsLLasHBxO4ZwhX/zMEBjRVBsc0RwXE7r8E4a53B8ZrsQb25wMDdMp3Ba+nEQB6KjEFl6gZC7XYCwoTrWMFzbQjCOmfwwSjVeUGA0Q3CjCAFQKZjwz7LYVfBiSQUwuCJK0IP8zrCta9dwmhebkF3pEBBcSsmwhGKvkHKT81BJeyQwUGFn8H+yKhBFNIsQfS84UF/u6tB0ea6QcExaUEDZ5pB1azUQQu3WMHEpXXAUvJtQKAR4cE1ekxBH8YNQiZAPsJZFcBB8qgbwlr6xEE4octACNrbPwHNAMLDn7rBBF/AQY7HBsJbHxxBc6vBwRz0jEGU/wNBEWjSQLYdSMK+TD9CfxXpQefwoUFzTVA/lYYdwpa0r8CCM5NBtOExwqHIG8Lki11BR7AeQc/axsF0Y57BiBf/QeRF/ME+OyhCRk2SQXNDbME6hKXBqf2ZQY5N68HWQw3A48a9Qc8aasEmJV5BiZkDws3aZkL9BGBCQljfwQrGkMFU4zNCE58zwaTvlMHX5lpBN0Uvwi63+kAxztlBTlqPQDGMr0AfzZtA4N0qwSymwcF65Lu/lGOswTKaOcHYPjNBtNBewmnltEBF+DjChpdRQdOjFMHkFEjBKE6xwdj44EGcKJXBwfCewG1lLEB5Hg5BCd+jQLgvwz/rhiPBC8wFwW3YvkE/6zZCDJTowAdMK8G1n7ZBj51GwsV2ckH7n+tBVWe0wLbbBcJRjhxB0t0gQiwuo0E=",
          "dtype": "f4"
         }
        },
        {
         "hovertemplate": "Tipo de palabra=red<br>x=%{x}<br>y=%{y}<br>z=%{z}<br>text=%{text}<extra></extra>",
         "legendgroup": "red",
         "marker": {
          "color": "#EF553B",
          "size": 2,
          "symbol": "circle"
         },
         "mode": "markers+text",
         "name": "red",
         "scene": "scene",
         "showlegend": true,
         "text": [
          "ark",
          "sankara",
          "grail"
         ],
         "textposition": "top center",
         "type": "scatter3d",
         "x": {
          "bdata": "IJzSQbjll8GjYqtB",
          "dtype": "f4"
         },
         "y": {
          "bdata": "0csewSsvmsHl79rB",
          "dtype": "f4"
         },
         "z": {
          "bdata": "v3NBwjX/GkIbmF9B",
          "dtype": "f4"
         }
        }
       ],
       "layout": {
        "legend": {
         "title": {
          "text": "Tipo de palabra"
         },
         "tracegroupgap": 0
        },
        "margin": {
         "t": 60
        },
        "scene": {
         "domain": {
          "x": [
           0,
           1
          ],
          "y": [
           0,
           1
          ]
         },
         "xaxis": {
          "title": {
           "text": "x"
          }
         },
         "yaxis": {
          "title": {
           "text": "y"
          }
         },
         "zaxis": {
          "title": {
           "text": "z"
          }
         }
        },
        "template": {
         "data": {
          "bar": [
           {
            "error_x": {
             "color": "#2a3f5f"
            },
            "error_y": {
             "color": "#2a3f5f"
            },
            "marker": {
             "line": {
              "color": "#E5ECF6",
              "width": 0.5
             },
             "pattern": {
              "fillmode": "overlay",
              "size": 10,
              "solidity": 0.2
             }
            },
            "type": "bar"
           }
          ],
          "barpolar": [
           {
            "marker": {
             "line": {
              "color": "#E5ECF6",
              "width": 0.5
             },
             "pattern": {
              "fillmode": "overlay",
              "size": 10,
              "solidity": 0.2
             }
            },
            "type": "barpolar"
           }
          ],
          "carpet": [
           {
            "aaxis": {
             "endlinecolor": "#2a3f5f",
             "gridcolor": "white",
             "linecolor": "white",
             "minorgridcolor": "white",
             "startlinecolor": "#2a3f5f"
            },
            "baxis": {
             "endlinecolor": "#2a3f5f",
             "gridcolor": "white",
             "linecolor": "white",
             "minorgridcolor": "white",
             "startlinecolor": "#2a3f5f"
            },
            "type": "carpet"
           }
          ],
          "choropleth": [
           {
            "colorbar": {
             "outlinewidth": 0,
             "ticks": ""
            },
            "type": "choropleth"
           }
          ],
          "contour": [
           {
            "colorbar": {
             "outlinewidth": 0,
             "ticks": ""
            },
            "colorscale": [
             [
              0,
              "#0d0887"
             ],
             [
              0.1111111111111111,
              "#46039f"
             ],
             [
              0.2222222222222222,
              "#7201a8"
             ],
             [
              0.3333333333333333,
              "#9c179e"
             ],
             [
              0.4444444444444444,
              "#bd3786"
             ],
             [
              0.5555555555555556,
              "#d8576b"
             ],
             [
              0.6666666666666666,
              "#ed7953"
             ],
             [
              0.7777777777777778,
              "#fb9f3a"
             ],
             [
              0.8888888888888888,
              "#fdca26"
             ],
             [
              1,
              "#f0f921"
             ]
            ],
            "type": "contour"
           }
          ],
          "contourcarpet": [
           {
            "colorbar": {
             "outlinewidth": 0,
             "ticks": ""
            },
            "type": "contourcarpet"
           }
          ],
          "heatmap": [
           {
            "colorbar": {
             "outlinewidth": 0,
             "ticks": ""
            },
            "colorscale": [
             [
              0,
              "#0d0887"
             ],
             [
              0.1111111111111111,
              "#46039f"
             ],
             [
              0.2222222222222222,
              "#7201a8"
             ],
             [
              0.3333333333333333,
              "#9c179e"
             ],
             [
              0.4444444444444444,
              "#bd3786"
             ],
             [
              0.5555555555555556,
              "#d8576b"
             ],
             [
              0.6666666666666666,
              "#ed7953"
             ],
             [
              0.7777777777777778,
              "#fb9f3a"
             ],
             [
              0.8888888888888888,
              "#fdca26"
             ],
             [
              1,
              "#f0f921"
             ]
            ],
            "type": "heatmap"
           }
          ],
          "histogram": [
           {
            "marker": {
             "pattern": {
              "fillmode": "overlay",
              "size": 10,
              "solidity": 0.2
             }
            },
            "type": "histogram"
           }
          ],
          "histogram2d": [
           {
            "colorbar": {
             "outlinewidth": 0,
             "ticks": ""
            },
            "colorscale": [
             [
              0,
              "#0d0887"
             ],
             [
              0.1111111111111111,
              "#46039f"
             ],
             [
              0.2222222222222222,
              "#7201a8"
             ],
             [
              0.3333333333333333,
              "#9c179e"
             ],
             [
              0.4444444444444444,
              "#bd3786"
             ],
             [
              0.5555555555555556,
              "#d8576b"
             ],
             [
              0.6666666666666666,
              "#ed7953"
             ],
             [
              0.7777777777777778,
              "#fb9f3a"
             ],
             [
              0.8888888888888888,
              "#fdca26"
             ],
             [
              1,
              "#f0f921"
             ]
            ],
            "type": "histogram2d"
           }
          ],
          "histogram2dcontour": [
           {
            "colorbar": {
             "outlinewidth": 0,
             "ticks": ""
            },
            "colorscale": [
             [
              0,
              "#0d0887"
             ],
             [
              0.1111111111111111,
              "#46039f"
             ],
             [
              0.2222222222222222,
              "#7201a8"
             ],
             [
              0.3333333333333333,
              "#9c179e"
             ],
             [
              0.4444444444444444,
              "#bd3786"
             ],
             [
              0.5555555555555556,
              "#d8576b"
             ],
             [
              0.6666666666666666,
              "#ed7953"
             ],
             [
              0.7777777777777778,
              "#fb9f3a"
             ],
             [
              0.8888888888888888,
              "#fdca26"
             ],
             [
              1,
              "#f0f921"
             ]
            ],
            "type": "histogram2dcontour"
           }
          ],
          "mesh3d": [
           {
            "colorbar": {
             "outlinewidth": 0,
             "ticks": ""
            },
            "type": "mesh3d"
           }
          ],
          "parcoords": [
           {
            "line": {
             "colorbar": {
              "outlinewidth": 0,
              "ticks": ""
             }
            },
            "type": "parcoords"
           }
          ],
          "pie": [
           {
            "automargin": true,
            "type": "pie"
           }
          ],
          "scatter": [
           {
            "fillpattern": {
             "fillmode": "overlay",
             "size": 10,
             "solidity": 0.2
            },
            "type": "scatter"
           }
          ],
          "scatter3d": [
           {
            "line": {
             "colorbar": {
              "outlinewidth": 0,
              "ticks": ""
             }
            },
            "marker": {
             "colorbar": {
              "outlinewidth": 0,
              "ticks": ""
             }
            },
            "type": "scatter3d"
           }
          ],
          "scattercarpet": [
           {
            "marker": {
             "colorbar": {
              "outlinewidth": 0,
              "ticks": ""
             }
            },
            "type": "scattercarpet"
           }
          ],
          "scattergeo": [
           {
            "marker": {
             "colorbar": {
              "outlinewidth": 0,
              "ticks": ""
             }
            },
            "type": "scattergeo"
           }
          ],
          "scattergl": [
           {
            "marker": {
             "colorbar": {
              "outlinewidth": 0,
              "ticks": ""
             }
            },
            "type": "scattergl"
           }
          ],
          "scattermap": [
           {
            "marker": {
             "colorbar": {
              "outlinewidth": 0,
              "ticks": ""
             }
            },
            "type": "scattermap"
           }
          ],
          "scattermapbox": [
           {
            "marker": {
             "colorbar": {
              "outlinewidth": 0,
              "ticks": ""
             }
            },
            "type": "scattermapbox"
           }
          ],
          "scatterpolar": [
           {
            "marker": {
             "colorbar": {
              "outlinewidth": 0,
              "ticks": ""
             }
            },
            "type": "scatterpolar"
           }
          ],
          "scatterpolargl": [
           {
            "marker": {
             "colorbar": {
              "outlinewidth": 0,
              "ticks": ""
             }
            },
            "type": "scatterpolargl"
           }
          ],
          "scatterternary": [
           {
            "marker": {
             "colorbar": {
              "outlinewidth": 0,
              "ticks": ""
             }
            },
            "type": "scatterternary"
           }
          ],
          "surface": [
           {
            "colorbar": {
             "outlinewidth": 0,
             "ticks": ""
            },
            "colorscale": [
             [
              0,
              "#0d0887"
             ],
             [
              0.1111111111111111,
              "#46039f"
             ],
             [
              0.2222222222222222,
              "#7201a8"
             ],
             [
              0.3333333333333333,
              "#9c179e"
             ],
             [
              0.4444444444444444,
              "#bd3786"
             ],
             [
              0.5555555555555556,
              "#d8576b"
             ],
             [
              0.6666666666666666,
              "#ed7953"
             ],
             [
              0.7777777777777778,
              "#fb9f3a"
             ],
             [
              0.8888888888888888,
              "#fdca26"
             ],
             [
              1,
              "#f0f921"
             ]
            ],
            "type": "surface"
           }
          ],
          "table": [
           {
            "cells": {
             "fill": {
              "color": "#EBF0F8"
             },
             "line": {
              "color": "white"
             }
            },
            "header": {
             "fill": {
              "color": "#C8D4E3"
             },
             "line": {
              "color": "white"
             }
            },
            "type": "table"
           }
          ]
         },
         "layout": {
          "annotationdefaults": {
           "arrowcolor": "#2a3f5f",
           "arrowhead": 0,
           "arrowwidth": 1
          },
          "autotypenumbers": "strict",
          "coloraxis": {
           "colorbar": {
            "outlinewidth": 0,
            "ticks": ""
           }
          },
          "colorscale": {
           "diverging": [
            [
             0,
             "#8e0152"
            ],
            [
             0.1,
             "#c51b7d"
            ],
            [
             0.2,
             "#de77ae"
            ],
            [
             0.3,
             "#f1b6da"
            ],
            [
             0.4,
             "#fde0ef"
            ],
            [
             0.5,
             "#f7f7f7"
            ],
            [
             0.6,
             "#e6f5d0"
            ],
            [
             0.7,
             "#b8e186"
            ],
            [
             0.8,
             "#7fbc41"
            ],
            [
             0.9,
             "#4d9221"
            ],
            [
             1,
             "#276419"
            ]
           ],
           "sequential": [
            [
             0,
             "#0d0887"
            ],
            [
             0.1111111111111111,
             "#46039f"
            ],
            [
             0.2222222222222222,
             "#7201a8"
            ],
            [
             0.3333333333333333,
             "#9c179e"
            ],
            [
             0.4444444444444444,
             "#bd3786"
            ],
            [
             0.5555555555555556,
             "#d8576b"
            ],
            [
             0.6666666666666666,
             "#ed7953"
            ],
            [
             0.7777777777777778,
             "#fb9f3a"
            ],
            [
             0.8888888888888888,
             "#fdca26"
            ],
            [
             1,
             "#f0f921"
            ]
           ],
           "sequentialminus": [
            [
             0,
             "#0d0887"
            ],
            [
             0.1111111111111111,
             "#46039f"
            ],
            [
             0.2222222222222222,
             "#7201a8"
            ],
            [
             0.3333333333333333,
             "#9c179e"
            ],
            [
             0.4444444444444444,
             "#bd3786"
            ],
            [
             0.5555555555555556,
             "#d8576b"
            ],
            [
             0.6666666666666666,
             "#ed7953"
            ],
            [
             0.7777777777777778,
             "#fb9f3a"
            ],
            [
             0.8888888888888888,
             "#fdca26"
            ],
            [
             1,
             "#f0f921"
            ]
           ]
          },
          "colorway": [
           "#636efa",
           "#EF553B",
           "#00cc96",
           "#ab63fa",
           "#FFA15A",
           "#19d3f3",
           "#FF6692",
           "#B6E880",
           "#FF97FF",
           "#FECB52"
          ],
          "font": {
           "color": "#2a3f5f"
          },
          "geo": {
           "bgcolor": "white",
           "lakecolor": "white",
           "landcolor": "#E5ECF6",
           "showlakes": true,
           "showland": true,
           "subunitcolor": "white"
          },
          "hoverlabel": {
           "align": "left"
          },
          "hovermode": "closest",
          "mapbox": {
           "style": "light"
          },
          "paper_bgcolor": "white",
          "plot_bgcolor": "#E5ECF6",
          "polar": {
           "angularaxis": {
            "gridcolor": "white",
            "linecolor": "white",
            "ticks": ""
           },
           "bgcolor": "#E5ECF6",
           "radialaxis": {
            "gridcolor": "white",
            "linecolor": "white",
            "ticks": ""
           }
          },
          "scene": {
           "xaxis": {
            "backgroundcolor": "#E5ECF6",
            "gridcolor": "white",
            "gridwidth": 2,
            "linecolor": "white",
            "showbackground": true,
            "ticks": "",
            "zerolinecolor": "white"
           },
           "yaxis": {
            "backgroundcolor": "#E5ECF6",
            "gridcolor": "white",
            "gridwidth": 2,
            "linecolor": "white",
            "showbackground": true,
            "ticks": "",
            "zerolinecolor": "white"
           },
           "zaxis": {
            "backgroundcolor": "#E5ECF6",
            "gridcolor": "white",
            "gridwidth": 2,
            "linecolor": "white",
            "showbackground": true,
            "ticks": "",
            "zerolinecolor": "white"
           }
          },
          "shapedefaults": {
           "line": {
            "color": "#2a3f5f"
           }
          },
          "ternary": {
           "aaxis": {
            "gridcolor": "white",
            "linecolor": "white",
            "ticks": ""
           },
           "baxis": {
            "gridcolor": "white",
            "linecolor": "white",
            "ticks": ""
           },
           "bgcolor": "#E5ECF6",
           "caxis": {
            "gridcolor": "white",
            "linecolor": "white",
            "ticks": ""
           }
          },
          "title": {
           "x": 0.05
          },
          "xaxis": {
           "automargin": true,
           "gridcolor": "white",
           "linecolor": "white",
           "ticks": "",
           "title": {
            "standoff": 15
           },
           "zerolinecolor": "white",
           "zerolinewidth": 2
          },
          "yaxis": {
           "automargin": true,
           "gridcolor": "white",
           "linecolor": "white",
           "ticks": "",
           "title": {
            "standoff": 15
           },
           "zerolinecolor": "white",
           "zerolinewidth": 2
          }
         }
        }
       }
      }
     },
     "metadata": {},
     "output_type": "display_data"
    }
   ],
   "source": [
    "vecs, labels = reduce_dimensions(w2v_model,3)\n",
    "\n",
    "MAX_WORDS=200\n",
    "plot_embeddings(w2v_model, vecs, labels, MAX_WORDS, highlight_words=[\"grail\",\"ark\",\"sankara\"])"
   ]
  },
  {
   "cell_type": "markdown",
   "id": "6541be06",
   "metadata": {},
   "source": [
    "### Test de analogía"
   ]
  },
  {
   "cell_type": "code",
   "execution_count": 436,
   "id": "a3d053dd",
   "metadata": {},
   "outputs": [
    {
     "data": {
      "text/plain": [
       "[('complete', 0.4235042929649353),\n",
       " ('christ', 0.4234042763710022),\n",
       " ('glory', 0.3971552550792694),\n",
       " ('somewhere', 0.3876826763153076),\n",
       " ('fortune', 0.3774627447128296),\n",
       " ('america', 0.3658566474914551),\n",
       " ('embrace', 0.3529066741466522),\n",
       " ('knee', 0.3415004312992096)]"
      ]
     },
     "metadata": {},
     "output_type": "display_data"
    },
    {
     "data": {
      "text/plain": [
       "0.4234044"
      ]
     },
     "metadata": {},
     "output_type": "display_data"
    },
    {
     "data": {
      "image/png": "[encoded data removed]",
      "text/plain": [
       "<Figure size 1600x900 with 2 Axes>"
      ]
     },
     "metadata": {},
     "output_type": "display_data"
    }
   ],
   "source": [
    "words = [\"grail\",\"diary\",\"cup\"]\n",
    "vector1 = w2v_model.wv.get_vector(words[0])\n",
    "vector2 = w2v_model.wv.get_vector(words[1])\n",
    "vector3 = w2v_model.wv.get_vector(words[2])\n",
    "\n",
    "new_vector = vector1 - vector2 + vector3\n",
    "\n",
    "display(w2v_model.wv.most_similar(new_vector)[2:])\n",
    "display(cosine_similarity([new_vector], [w2v_model.wv.get_vector(\"christ\")])[0][0])\n",
    "words.append(\"christ\")\n",
    "embeddings_matrix_distance(w2v_model, words, new_vector, \"new_vector\")"
   ]
  },
  {
   "cell_type": "markdown",
   "id": "460bb76b",
   "metadata": {},
   "source": [
    "Se intentó hacer el test de analogía con referirise al Santo Grial como la copa y no como el diario, la correlación no es muy fuerte, pero dentro de lo mas próximo tenemos a Cristo."
   ]
  }
 ],
 "metadata": {
  "kernelspec": {
   "display_name": "venv",
   "language": "python",
   "name": "python3"
  },
  "language_info": {
   "codemirror_mode": {
    "name": "ipython",
    "version": 3
   },
   "file_extension": ".py",
   "mimetype": "text/x-python",
   "name": "python",
   "nbconvert_exporter": "python",
   "pygments_lexer": "ipython3",
   "version": "3.12.10"
  }
 },
 "nbformat": 4,
 "nbformat_minor": 5
}
