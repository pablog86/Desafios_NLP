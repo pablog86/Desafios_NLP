{
 "cells": [
  {
   "cell_type": "markdown",
   "id": "8b16d688",
   "metadata": {},
   "source": [
    "# Desafio 2 - NLP\n",
    "\n",
    "- Crear sus propios vectores con Gensim basado en lo visto en clase con otro dataset.\n",
    "- Probar términos de interés y explicar similitudes en el espacio de embeddings.\n",
    "- Intentar plantear y probar tests de analogías. \n",
    "- Graficar los embeddings resultantes.\n",
    "- Sacar conclusiones."
   ]
  },
  {
   "cell_type": "markdown",
   "id": "cd8bb8c1",
   "metadata": {},
   "source": [
    "## Imports"
   ]
  },
  {
   "cell_type": "code",
   "execution_count": 92,
   "id": "eda5d6ce",
   "metadata": {},
   "outputs": [],
   "source": [
    "import pandas as pd\n",
    "import matplotlib.pyplot as plt\n",
    "import seaborn as sns\n",
    "import multiprocessing\n",
    "from gensim.models import Word2Vec\n",
    "import os\n",
    "from tensorflow.keras.preprocessing.text import text_to_word_sequence\n",
    "from gensim.models.callbacks import CallbackAny2Vec\n",
    "\n",
    "from sklearn.decomposition import IncrementalPCA    \n",
    "from sklearn.manifold import TSNE                   \n",
    "import numpy as np\n",
    "import plotly.graph_objects as go\n",
    "import plotly.express as px                   "
   ]
  },
  {
   "cell_type": "markdown",
   "id": "298aeb29",
   "metadata": {},
   "source": [
    "## Funciones generales"
   ]
  },
  {
   "cell_type": "code",
   "execution_count": 20,
   "id": "bdea8400",
   "metadata": {},
   "outputs": [],
   "source": [
    "# Durante el entrenamiento gensim por defecto no informa el \"loss\" en cada época\n",
    "# Sobrecargamos el callback para poder tener esta información\n",
    "class callback(CallbackAny2Vec):\n",
    "    \"\"\"\n",
    "    Callback to print loss after each epoch\n",
    "    \"\"\"\n",
    "    def __init__(self):\n",
    "        self.epoch = 0\n",
    "\n",
    "    def on_epoch_end(self, model):\n",
    "        loss = model.get_latest_training_loss()\n",
    "        if self.epoch == 0:\n",
    "            print('Loss after epoch {}: {}'.format(self.epoch, loss))\n",
    "        else:\n",
    "            print('Loss after epoch {}: {}'.format(self.epoch, loss- self.loss_previous_step))\n",
    "        self.epoch += 1\n",
    "        self.loss_previous_step = loss"
   ]
  },
  {
   "cell_type": "code",
   "execution_count": null,
   "id": "f174c202",
   "metadata": {},
   "outputs": [],
   "source": [
    "def reduce_dimensions(model, num_dimensions = 2 ):\n",
    "     \n",
    "    vectors = np.asarray(model.wv.vectors)\n",
    "    labels = np.asarray(model.wv.index_to_key)  \n",
    "\n",
    "    tsne = TSNE(n_components=num_dimensions, random_state=0)\n",
    "    vectors = tsne.fit_transform(vectors)\n",
    "\n",
    "    return vectors, labels"
   ]
  },
  {
   "cell_type": "markdown",
   "id": "055a0a3c",
   "metadata": {},
   "source": [
    "## Preprocesamiento"
   ]
  },
  {
   "cell_type": "code",
   "execution_count": 6,
   "id": "45b0047f",
   "metadata": {},
   "outputs": [
    {
     "data": {
      "text/plain": [
       "['Indiana_Jones_And_The_Last_Crusade.txt',\n",
       " 'Indiana_Jones_And_The_Temple_Of_Doom.txt',\n",
       " 'Raiders_Of_The_Lost_Ark.txt']"
      ]
     },
     "execution_count": 6,
     "metadata": {},
     "output_type": "execute_result"
    }
   ],
   "source": [
    "os.listdir(\"corpus\")"
   ]
  },
  {
   "cell_type": "code",
   "execution_count": 39,
   "id": "dac7130d",
   "metadata": {},
   "outputs": [
    {
     "data": {
      "application/vnd.microsoft.datawrangler.viewer.v0+json": {
       "columns": [
        {
         "name": "index",
         "rawType": "int64",
         "type": "integer"
        },
        {
         "name": "0",
         "rawType": "object",
         "type": "string"
        }
       ],
       "conversionMethod": "pd.DataFrame",
       "ref": "5d20068f-68f6-464a-8c76-ada729fed689",
       "rows": [
        [
         "0",
         "\"INDIANA JONES AND THE LAST CRUSADE\""
        ],
        [
         "1",
         "Screenplay by"
        ],
        [
         "2",
         "Jeffrey Boam"
        ],
        [
         "3",
         "FADE IN:"
        ],
        [
         "4",
         "EXT. DESERT OF THE AMERICAN SOUTHWEST - DAY"
        ]
       ],
       "shape": {
        "columns": 1,
        "rows": 5
       }
      },
      "text/html": [
       "<div>\n",
       "<style scoped>\n",
       "    .dataframe tbody tr th:only-of-type {\n",
       "        vertical-align: middle;\n",
       "    }\n",
       "\n",
       "    .dataframe tbody tr th {\n",
       "        vertical-align: top;\n",
       "    }\n",
       "\n",
       "    .dataframe thead th {\n",
       "        text-align: right;\n",
       "    }\n",
       "</style>\n",
       "<table border=\"1\" class=\"dataframe\">\n",
       "  <thead>\n",
       "    <tr style=\"text-align: right;\">\n",
       "      <th></th>\n",
       "      <th>0</th>\n",
       "    </tr>\n",
       "  </thead>\n",
       "  <tbody>\n",
       "    <tr>\n",
       "      <th>0</th>\n",
       "      <td>\"INDIANA JONES AND THE LAST CRUSADE\"</td>\n",
       "    </tr>\n",
       "    <tr>\n",
       "      <th>1</th>\n",
       "      <td>Screenplay by</td>\n",
       "    </tr>\n",
       "    <tr>\n",
       "      <th>2</th>\n",
       "      <td>Jeffrey Boam</td>\n",
       "    </tr>\n",
       "    <tr>\n",
       "      <th>3</th>\n",
       "      <td>FADE IN:</td>\n",
       "    </tr>\n",
       "    <tr>\n",
       "      <th>4</th>\n",
       "      <td>EXT. DESERT OF THE AMERICAN SOUTHWEST - DAY</td>\n",
       "    </tr>\n",
       "  </tbody>\n",
       "</table>\n",
       "</div>"
      ],
      "text/plain": [
       "                                             0\n",
       "0         \"INDIANA JONES AND THE LAST CRUSADE\"\n",
       "1                                Screenplay by\n",
       "2                                 Jeffrey Boam\n",
       "3                                     FADE IN:\n",
       "4  EXT. DESERT OF THE AMERICAN SOUTHWEST - DAY"
      ]
     },
     "metadata": {},
     "output_type": "display_data"
    },
    {
     "data": {
      "text/plain": [
       "'Cantidad de documentos:'"
      ]
     },
     "metadata": {},
     "output_type": "display_data"
    },
    {
     "data": {
      "text/plain": [
       "13504"
      ]
     },
     "metadata": {},
     "output_type": "display_data"
    }
   ],
   "source": [
    "df1 = pd.read_csv('corpus/Indiana_Jones_And_The_Last_Crusade.txt', sep='/n', header=None, engine='python')\n",
    "df2 = pd.read_csv('corpus/Raiders_Of_The_Lost_Ark.txt', sep='/n', header=None, engine='python')\n",
    "df3 = pd.read_csv('corpus/Indiana_Jones_And_The_Temple_Of_Doom.txt', sep='/n', header=None, engine='python')\n",
    "df = pd.concat([df1, df2, df3], ignore_index=True)\n",
    "display(df.head())\n",
    "display(\"Cantidad de documentos:\", df.shape[0])"
   ]
  },
  {
   "cell_type": "code",
   "execution_count": 40,
   "id": "e043b19d",
   "metadata": {},
   "outputs": [],
   "source": [
    "sentence_tokens = []\n",
    "# Recorrer todas las filas y transformar las oraciones\n",
    "# en una secuencia de palabras (esto podría realizarse con NLTK o spaCy también)\n",
    "for _, row in df[:None].iterrows():\n",
    "    sentence_tokens.append(text_to_word_sequence(row[0]))"
   ]
  },
  {
   "cell_type": "markdown",
   "id": "5f2e1b73",
   "metadata": {},
   "source": [
    "## Crear los vectores (word2vec)"
   ]
  },
  {
   "cell_type": "code",
   "execution_count": 75,
   "id": "c652e22a",
   "metadata": {},
   "outputs": [],
   "source": [
    "# En este caso utilizaremos la estructura modelo Skipgram\n",
    "w2v_model = Word2Vec(min_count=10,    # frecuencia mínima de palabra para incluirla en el vocabulario\n",
    "                     window=5,       # cant de palabras antes y desp de la predicha\n",
    "                     vector_size=500,       # dimensionalidad de los vectores \n",
    "                     negative=20,    # cantidad de negative samples... 0 es no se usa\n",
    "                     workers=4,      # si tienen más cores pueden cambiar este valor\n",
    "                     sg=0)           # modelo 0:CBOW  1:skipgram"
   ]
  },
  {
   "cell_type": "code",
   "execution_count": 76,
   "id": "d49e19f0",
   "metadata": {},
   "outputs": [
    {
     "data": {
      "text/plain": [
       "'Cantidad de docs en el corpus:'"
      ]
     },
     "metadata": {},
     "output_type": "display_data"
    },
    {
     "data": {
      "text/plain": [
       "13504"
      ]
     },
     "metadata": {},
     "output_type": "display_data"
    },
    {
     "data": {
      "text/plain": [
       "'Cantidad de words distintas en el corpus:'"
      ]
     },
     "metadata": {},
     "output_type": "display_data"
    },
    {
     "data": {
      "text/plain": [
       "1122"
      ]
     },
     "metadata": {},
     "output_type": "display_data"
    }
   ],
   "source": [
    "w2v_model.build_vocab(sentence_tokens)\n",
    "display(\"Cantidad de docs en el corpus:\", w2v_model.corpus_count)\n",
    "display(\"Cantidad de words distintas en el corpus:\", len(w2v_model.wv.index_to_key))"
   ]
  },
  {
   "cell_type": "code",
   "execution_count": 79,
   "id": "cc351ba3",
   "metadata": {},
   "outputs": [
    {
     "name": "stdout",
     "output_type": "stream",
     "text": [
      "Loss after epoch 0: 47842.10546875\n",
      "Loss after epoch 1: 38177.33203125\n",
      "Loss after epoch 2: 47550.828125\n",
      "Loss after epoch 3: 47062.125\n",
      "Loss after epoch 4: 36538.328125\n",
      "Loss after epoch 5: 45938.0625\n",
      "Loss after epoch 6: 38373.53125\n",
      "Loss after epoch 7: 45495.96875\n",
      "Loss after epoch 8: 45045.28125\n",
      "Loss after epoch 9: 44888.84375\n",
      "Loss after epoch 10: 44333.0625\n",
      "Loss after epoch 11: 43566.03125\n",
      "Loss after epoch 12: 42328.75\n",
      "Loss after epoch 13: 32974.625\n",
      "Loss after epoch 14: 32979.75\n",
      "Loss after epoch 15: 41711.0\n",
      "Loss after epoch 16: 40965.0\n",
      "Loss after epoch 17: 40443.75\n",
      "Loss after epoch 18: 40809.5\n",
      "Loss after epoch 19: 40101.5625\n",
      "Loss after epoch 20: 41755.3125\n",
      "Loss after epoch 21: 42286.3125\n",
      "Loss after epoch 22: 39695.5\n",
      "Loss after epoch 23: 42692.1875\n",
      "Loss after epoch 24: 33951.25\n",
      "Loss after epoch 25: 39260.0\n",
      "Loss after epoch 26: 37755.75\n",
      "Loss after epoch 27: 38370.375\n",
      "Loss after epoch 28: 38524.125\n",
      "Loss after epoch 29: 38380.375\n",
      "Loss after epoch 30: 32723.75\n",
      "Loss after epoch 31: 37969.125\n",
      "Loss after epoch 32: 30580.625\n",
      "Loss after epoch 33: 39504.125\n",
      "Loss after epoch 34: 37701.5\n",
      "Loss after epoch 35: 29927.875\n",
      "Loss after epoch 36: 37071.875\n",
      "Loss after epoch 37: 37355.25\n",
      "Loss after epoch 38: 36723.625\n",
      "Loss after epoch 39: 31649.0\n",
      "Loss after epoch 40: 28878.0\n",
      "Loss after epoch 41: 37114.375\n",
      "Loss after epoch 42: 36113.375\n",
      "Loss after epoch 43: 36457.625\n",
      "Loss after epoch 44: 29231.875\n",
      "Loss after epoch 45: 31005.375\n",
      "Loss after epoch 46: 28410.25\n",
      "Loss after epoch 47: 36034.875\n",
      "Loss after epoch 48: 36120.125\n",
      "Loss after epoch 49: 27793.375\n",
      "Loss after epoch 50: 28755.75\n",
      "Loss after epoch 51: 35322.875\n",
      "Loss after epoch 52: 28679.875\n",
      "Loss after epoch 53: 34977.375\n",
      "Loss after epoch 54: 35239.75\n",
      "Loss after epoch 55: 34903.25\n",
      "Loss after epoch 56: 32964.25\n",
      "Loss after epoch 57: 25822.75\n",
      "Loss after epoch 58: 32868.0\n",
      "Loss after epoch 59: 28670.5\n"
     ]
    },
    {
     "data": {
      "text/plain": [
       "(2857968, 5101560)"
      ]
     },
     "execution_count": 79,
     "metadata": {},
     "output_type": "execute_result"
    }
   ],
   "source": [
    "w2v_model.train(sentence_tokens,\n",
    "                 total_examples=w2v_model.corpus_count,\n",
    "                 epochs=60,\n",
    "                 compute_loss = True,\n",
    "                 callbacks=[callback()]\n",
    "                 )"
   ]
  },
  {
   "cell_type": "markdown",
   "id": "26286f5b",
   "metadata": {},
   "source": [
    "## Pruebas"
   ]
  },
  {
   "cell_type": "code",
   "execution_count": 80,
   "id": "bab345fd",
   "metadata": {},
   "outputs": [
    {
     "data": {
      "text/plain": [
       "[('vial', 0.32271936535835266),\n",
       " ('piece', 0.31661638617515564),\n",
       " ('breath', 0.30926579236984253),\n",
       " ('book', 0.29943010210990906),\n",
       " ('highness', 0.2666929066181183),\n",
       " ('pocket', 0.25716638565063477),\n",
       " ('lighter', 0.25180700421333313),\n",
       " ('cockpit', 0.2496134638786316),\n",
       " ('dad', 0.24548287689685822),\n",
       " ('mouth', 0.24481654167175293)]"
      ]
     },
     "execution_count": 80,
     "metadata": {},
     "output_type": "execute_result"
    }
   ],
   "source": [
    "w2v_model.wv.most_similar(positive=[\"grail\"], topn=10)"
   ]
  },
  {
   "cell_type": "code",
   "execution_count": 81,
   "id": "ed107869",
   "metadata": {},
   "outputs": [
    {
     "data": {
      "text/plain": [
       "[('pages', 0.369402676820755),\n",
       " ('indians', 0.3191428780555725),\n",
       " ('pieces', 0.29997438192367554),\n",
       " ('covenant', 0.2840358018875122),\n",
       " (\"we're\", 0.28078508377075195),\n",
       " ('lid', 0.28059902787208557),\n",
       " ('world', 0.2795999348163605),\n",
       " ('place', 0.2715905010700226),\n",
       " ('beam', 0.2548985779285431),\n",
       " ('cab', 0.25403445959091187)]"
      ]
     },
     "execution_count": 81,
     "metadata": {},
     "output_type": "execute_result"
    }
   ],
   "source": [
    "w2v_model.wv.most_similar(positive=[\"ark\"], topn=10)"
   ]
  },
  {
   "cell_type": "code",
   "execution_count": 84,
   "id": "81dace33",
   "metadata": {},
   "outputs": [
    {
     "data": {
      "text/plain": [
       "[('stones', 0.5401177406311035),\n",
       " ('sacred', 0.49849429726600647),\n",
       " ('bag', 0.4511288106441498),\n",
       " ('pieces', 0.3865293860435486),\n",
       " ('chest', 0.34016749262809753),\n",
       " ('shoulder', 0.29628708958625793),\n",
       " ('american', 0.27513179183006287),\n",
       " ('shaman', 0.2644558548927307),\n",
       " ('priest', 0.26418304443359375),\n",
       " ('ma', 0.26349884271621704)]"
      ]
     },
     "execution_count": 84,
     "metadata": {},
     "output_type": "execute_result"
    }
   ],
   "source": [
    "w2v_model.wv.most_similar(positive=[\"sankara\"], topn=10)"
   ]
  },
  {
   "cell_type": "code",
   "execution_count": 89,
   "id": "dae127db",
   "metadata": {},
   "outputs": [
    {
     "data": {
      "text/plain": [
       "[('fires', 0.2919274568557739),\n",
       " ('across', 0.28768402338027954),\n",
       " ('smiling', 0.28071507811546326),\n",
       " ('boulder', 0.2559468448162079),\n",
       " ('and', 0.25493016839027405),\n",
       " ('runs', 0.24979250133037567),\n",
       " ('toward', 0.24632732570171356),\n",
       " ('pilot', 0.24283920228481293),\n",
       " ('kicks', 0.24029484391212463),\n",
       " ('hurries', 0.23977002501487732)]"
      ]
     },
     "execution_count": 89,
     "metadata": {},
     "output_type": "execute_result"
    }
   ],
   "source": [
    "w2v_model.wv.most_similar(negative=[\"good\"], topn=10)"
   ]
  },
  {
   "cell_type": "markdown",
   "id": "1c14a205",
   "metadata": {},
   "source": [
    "## Visualizar agrupación de vectores"
   ]
  },
  {
   "cell_type": "code",
   "execution_count": 97,
   "id": "03e4c325",
   "metadata": {},
   "outputs": [
    {
     "data": {
      "application/vnd.plotly.v1+json": {
       "config": {
        "plotlyServerURL": "https://plot.ly"
       },
       "data": [
        {
         "hovertemplate": "x=%{x}<br>y=%{y}<br>text=%{text}<extra></extra>",
         "legendgroup": "",
         "marker": {
          "color": "#636efa",
          "symbol": "circle"
         },
         "mode": "markers+text",
         "name": "",
         "orientation": "v",
         "showlegend": false,
         "text": [
          "the",
          "and",
          "indy",
          "a",
          "to",
          "of",
          "in",
          "his",
          "he",
          "is",
          "it",
          "you",
          "as",
          "at",
          "on",
          "willie",
          "indiana",
          "from",
          "with",
          "i",
          "up",
          "out",
          "into",
          "him",
          "her",
          "short",
          "that",
          "they",
          "round",
          "down",
          "henry",
          "are",
          "back",
          "looks",
          "for",
          "this",
          "she",
          "int",
          "by",
          "we",
          "then",
          "over",
          "marion",
          "but",
          "them",
          "now",
          "toward",
          "day",
          "what",
          "an",
          "elsa",
          "around",
          "off",
          "car",
          "two",
          "one",
          "ext",
          "their",
          "brody",
          "indy's",
          "sees",
          "through",
          "see",
          "has",
          "all",
          "me",
          "have",
          "behind",
          "no",
          "sallah",
          "like",
          "tunnel",
          "across",
          "be",
          "away",
          "hand",
          "there",
          "not",
          "here",
          "get",
          "look",
          "suddenly",
          "your",
          "it's",
          "turns",
          "face",
          "donovan",
          "don't",
          "grabs",
          "eyes",
          "wall",
          "who",
          "room",
          "just",
          "other",
          "do",
          "jones",
          "was",
          "door",
          "head",
          "when",
          "man",
          "side",
          "again",
          "way",
          "belloq",
          "water",
          "onto",
          "go",
          "feet",
          "about",
          "whip",
          "my",
          "vogel",
          "takes",
          "i'm",
          "which",
          "nazi",
          "mola",
          "floor",
          "where",
          "pulls",
          "more",
          "gun",
          "will",
          "only",
          "three",
          "some",
          "shliemann",
          "open",
          "men",
          "been",
          "ark",
          "another",
          "truck",
          "little",
          "front",
          "he's",
          "something",
          "looking",
          "tank",
          "got",
          "going",
          "can",
          "grail",
          "come",
          "time",
          "starts",
          "so",
          "against",
          "mine",
          "ram",
          "guard",
          "know",
          "runs",
          "well",
          "nazis",
          "moves",
          "hands",
          "very",
          "reaches",
          "finally",
          "maharajah",
          "still",
          "its",
          "take",
          "if",
          "right",
          "chattar",
          "small",
          "stone",
          "steps",
          "top",
          "lal",
          "forward",
          "first",
          "above",
          "end",
          "after",
          "altar",
          "dad",
          "high",
          "lao",
          "falls",
          "us",
          "rock",
          "think",
          "watches",
          "fire",
          "along",
          "temple",
          "below",
          "begins",
          "moment",
          "run",
          "jumps",
          "smiles",
          "second",
          "german",
          "under",
          "comes",
          "before",
          "long",
          "oh",
          "air",
          "past",
          "huge",
          "guards",
          "table",
          "night",
          "old",
          "hole",
          "light",
          "bridge",
          "you're",
          "holds",
          "window",
          "start",
          "cut",
          "stands",
          "inside",
          "slowly",
          "himself",
          "giant",
          "that's",
          "satipo",
          "wind",
          "chamber",
          "cross",
          "life",
          "dark",
          "palace",
          "would",
          "god",
          "want",
          "between",
          "next",
          "gets",
          "stops",
          "shorty",
          "opens",
          "quickly",
          "last",
          "how",
          "fedora",
          "did",
          "children",
          "plane",
          "belzig",
          "move",
          "road",
          "screams",
          "dr",
          "walks",
          "puts",
          "hold",
          "hat",
          "continues",
          "too",
          "find",
          "goes",
          "gives",
          "map",
          "were",
          "stones",
          "bar",
          "swings",
          "staff",
          "body",
          "shaman",
          "large",
          "yes",
          "dead",
          "kali",
          "diary",
          "we're",
          "both",
          "father",
          "mouth",
          "arm",
          "i've",
          "give",
          "doctor",
          "why",
          "had",
          "picks",
          "each",
          "place",
          "make",
          "torch",
          "let",
          "what's",
          "corner",
          "good",
          "bad",
          "edge",
          "thuggee",
          "please",
          "even",
          "soldier",
          "snakes",
          "far",
          "our",
          "tell",
          "turn",
          "doesn't",
          "appears",
          "s",
          "near",
          "does",
          "i'll",
          "must",
          "stop",
          "ahead",
          "help",
          "nods",
          "rope",
          "glass",
          "captain",
          "fall",
          "pocket",
          "blumburtt",
          "left",
          "smoke",
          "than",
          "nothing",
          "wooden",
          "coming",
          "these",
          "foot",
          "five",
          "white",
          "street",
          "arms",
          "begin",
          "rolls",
          "sits",
          "big",
          "entrance",
          "monkey",
          "museum",
          "rushes",
          "can't",
          "moving",
          "points",
          "trying",
          "or",
          "soldiers",
          "immediately",
          "kazim",
          "flying",
          "lifts",
          "black",
          "being",
          "willie's",
          "neck",
          "holding",
          "full",
          "piece",
          "ground",
          "desert",
          "hits",
          "sword",
          "there's",
          "half",
          "drops",
          "hard",
          "never",
          "makes",
          "until",
          "roscoe",
          "keep",
          "hear",
          "smiling",
          "village",
          "dives",
          "kicks",
          "seat",
          "close",
          "almost",
          "spot",
          "bullets",
          "marcus",
          "several",
          "belt",
          "enormous",
          "reach",
          "once",
          "found",
          "boat",
          "arab",
          "machine",
          "pushes",
          "priest",
          "seems",
          "periscope",
          "stares",
          "lost",
          "sound",
          "running",
          "tries",
          "oil",
          "sankara",
          "platform",
          "blood",
          "death",
          "knight",
          "o",
          "walls",
          "speaks",
          "own",
          "frame",
          "flies",
          "gold",
          "pull",
          "glances",
          "rocks",
          "river",
          "mountain",
          "hears",
          "snake",
          "jacket",
          "rear",
          "approaches",
          "box",
          "directly",
          "shoulder",
          "years",
          "okay",
          "brake",
          "center",
          "enters",
          "sun",
          "burning",
          "ceiling",
          "hall",
          "gong",
          "fast",
          "cliff",
          "armed",
          "kid",
          "bottom",
          "leans",
          "walk",
          "cavern",
          "believe",
          "exchange",
          "meanwhile",
          "cars",
          "yells",
          "watch",
          "disappears",
          "pulling",
          "slides",
          "taking",
          "wide",
          "train",
          "horse",
          "elephant",
          "tall",
          "said",
          "enough",
          "statue",
          "throws",
          "knocks",
          "they're",
          "any",
          "shot",
          "stand",
          "crashes",
          "pilot",
          "step",
          "shakes",
          "much",
          "doing",
          "heads",
          "square",
          "breaks",
          "attention",
          "bag",
          "climbs",
          "smashes",
          "say",
          "roof",
          "quick",
          "raises",
          "yet",
          "closer",
          "pistol",
          "we'll",
          "capt",
          "line",
          "same",
          "raft",
          "beneath",
          "am",
          "hok's",
          "ten",
          "ram's",
          "pain"
         ],
         "type": "scatter",
         "x": {
          "bdata": "TkwQP9dddEBeRpJA7+I6Px5Ubz93vRU/xmR+QGmUrEAV5pdAafzPPygAPz8QIsfAYfh6QJ3fxT+Rr8pAIwWMQEZKmEBf+1pAmopdPw4SyMB1x11AKzohQBXqhEDq8nRAEbSrQNSrsECng0rA0o/PvkDfk0B0l0JAJwVeQKNtrcDnVzJAGmFkQEJ9qz7Lkg7Aq1ubQMf1b8CYeeQ/5jnIwKBscUBaJY1AmI5bQLnbnL9xOBy+iF10v8d1MUBA6mPA/NCKwKqr5UDowV1AWLeFQBX5r0CdG7G/z807wCRcrcBO0HvAIgJnP+kaS0DlGrhAPKlpQNg4KD8tuNzAeKaoQJxPU7+dooTA1Ay5wEXyTkDDeYPAFd4VPv12wMBSF7q/YmodQOXuwcAD34RAFWahQGRlFsC3wGvATv6dwLyzscAgWrM+DvqGQHeOosBqs03Avy8vQAmAIUCEUlpA3rl+wPwCnEBx+6JAXp4iQMxKXD+oOSXAtVSrv4UkGMAXwabApLDWwHOInsDAWG/ABduQQNkl9L8Ij+c94/pgwJnIlD+F0Lo/oGm9P4u+GsD8vMpADjuAwF2cr0CFDVDApkp6QLUplsDre2lA5HafQD92mcCi96DAujFdQALWvkAWC2XAJUZFwOe9mUDnhRzAByZ4QKo7ZMDR3oXARNToP7a9/D/epKg+cOKuvR1iY8DT3kjA9oocwM7dqD/vk04/ZZQkQKXLHkCevhPAX8TKQPUPO0ABZpo/YTmYwF+KL8CtlbDA0DIgPzd4ncC/2jvABPWbQGkOkcBANnpAlS8zvi1qHEAlXT8/dJytwDpdIUDhlYzA37m4v5NLRUDyC6lA9F2Qv850pkBsS0tA1DYVQCHypr67FkQ+Ec7DwBRSpMAM4N+/qfvZQCVroz63T3q/PwpuQIRHjcCeANlA0u1DQCdrlr0uj5U/hFoHPe34m0AMveW/plqWwBHEUr9XaPdAl7uZQJ2egsA/yhjAsU2twMnrWUDl/9m/MoWewJk3ZcBy7t6+HS/JQALZ37/GWs4/XGYkQDBPR0AUG+8+2aI+Py4CFEBL0LnArh/pPyit1L9feW7AMHePv7fFK0BlUrq/N6uSP7I1xEDQLFnAV324QAY0a8A2F6XAu4UbwEHHk8A+l59AZfbWP06U0sD8hNq/rm5HQGMV4T50RYM/DRCgQLqvdj0di2bAXQRTP/MCy74tNwTA92++Pn6ricDs1Lo8y6o6wGL5WMBGEXjAdE2uwOdIUj9/mHI/vZuwQNs+K0DFL90/zo8vQD8qFUAX1GHAOEWLwKWqiD9XsYDAl/o9wA3glr+HfUBA0eQ/QH+WGMBN+39AcOXnwM3xQ0Am26RAsSCvQK2wJEBLJhdA1vIXwEJCvcCSBxFAaTE6QCokQcBAoafABrdevyfEVL+X441AdYyMP7vMaECE+b0/z0l1wGXYeMDjxHo+LTy/v/C/LL7P2p7A0YV1P4eBgcCK259AT7GAQKmiRsA0F7vAZibpwIjknsCyZITAk4ifQHM+mL+Ed5LAWSdWvxahaUBB/LvAsKZewE7FtcAcGRPAFm5mwFY72L6qh6O9IbKkwEeECr8HPItASvogvzv0FcDDdJjAKmmxwCOrjD9QeWM9fUUVQMs9fUAsSjXAjAimQFproMAwU2rAFIM6wAJGkj8d8sTA77oXQCNYH8C7cABAGQ6Nv8mOysCZHZdAsMCVPtSyusA7ogvAajDtv7noiMBQ/5LAIN0zQIVksMBvSYA/2b0MQCzQnMDnCgnAxTaNQAILAz/QDXC/yH+fwCbEyMCUaE7AzE4ePrQVGMC11EhAvcQ4wFQ9yr/Sj6Q/JzRfQB6Rh8DGre0+1yu/vky1HkC2lJ4+JauVQLU7tb/ehKy8vPC8QODflkB1IzlANZ9hv4k8Y0DzKNu/Jiw/wCCPjEAuauk/rxRFwNV3qMB4mKBAa7zlP6dsl8DWBBNADLAcwDDR5ECHLYzA+DvZwIH/V0DFLUnAFhOAQFUEmkC58KHAce6WvtKPMMBj9hbABpxBP4MPg8C9WHS/NObAvzfzvb+A7OS+frYxv0Jtg8CEeuC+y48FwDxMyUAKWZFAdMDeP8Ed0UBs/4BAkOBfQNI0McA2EP2+f1oivyN1uUCtm+W/CNhpv2gb/L+Dkd0/cUKIwI46Gb75lnpALnIXv8op5j9YXGHAKN3bv8odh0DnUqe/JI4GQPEoTkA+Aey/3oXfv9qXd8BvJUlA/7Nmvx9zJkDT9gpAM65YQIAT0j8OsMk+bsSfQFjyVsCaaqDAUmO/P/fUGcCs8wVAvoIEwM7j278nH0bA+chDwEKnGL+UX1S+aZpLv6xQrz+1nOg+6Z7uvAUaQkBOxyZAJtgqwKtQrMASpS8/UgwgQI82u78/kSNAMvBwQIr9yr+z055AqkTEPyhHAr/uQ0lAmM3Vv0EoQkA/WLJA52kjwJ84m8C8Ldq/m+2+v28wmkCSsO8/g6zEv8Jx4b+2xue+4D1Jv//oQr9LyvxAcuDFwN6LgkAROA7AmOJQwKXpykDHUS7AexQwQJ9jET/k0TNABZbbPw7ulkA14bLAcD1TwDse1UCRIJNA5YqcvyIgkD/oFXJA+buuwLw8Xb+nf96/AMCCQFzfyL8FCdc/SOqcwFzPVsCw7h3AMaIbQLpk4D8=",
          "dtype": "f4"
         },
         "xaxis": "x",
         "y": {
          "bdata": "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",
          "dtype": "f4"
         },
         "yaxis": "y"
        }
       ],
       "layout": {
        "legend": {
         "tracegroupgap": 0
        },
        "margin": {
         "t": 60
        },
        "template": {
         "data": {
          "bar": [
           {
            "error_x": {
             "color": "#2a3f5f"
            },
            "error_y": {
             "color": "#2a3f5f"
            },
            "marker": {
             "line": {
              "color": "#E5ECF6",
              "width": 0.5
             },
             "pattern": {
              "fillmode": "overlay",
              "size": 10,
              "solidity": 0.2
             }
            },
            "type": "bar"
           }
          ],
          "barpolar": [
           {
            "marker": {
             "line": {
              "color": "#E5ECF6",
              "width": 0.5
             },
             "pattern": {
              "fillmode": "overlay",
              "size": 10,
              "solidity": 0.2
             }
            },
            "type": "barpolar"
           }
          ],
          "carpet": [
           {
            "aaxis": {
             "endlinecolor": "#2a3f5f",
             "gridcolor": "white",
             "linecolor": "white",
             "minorgridcolor": "white",
             "startlinecolor": "#2a3f5f"
            },
            "baxis": {
             "endlinecolor": "#2a3f5f",
             "gridcolor": "white",
             "linecolor": "white",
             "minorgridcolor": "white",
             "startlinecolor": "#2a3f5f"
            },
            "type": "carpet"
           }
          ],
          "choropleth": [
           {
            "colorbar": {
             "outlinewidth": 0,
             "ticks": ""
            },
            "type": "choropleth"
           }
          ],
          "contour": [
           {
            "colorbar": {
             "outlinewidth": 0,
             "ticks": ""
            },
            "colorscale": [
             [
              0,
              "#0d0887"
             ],
             [
              0.1111111111111111,
              "#46039f"
             ],
             [
              0.2222222222222222,
              "#7201a8"
             ],
             [
              0.3333333333333333,
              "#9c179e"
             ],
             [
              0.4444444444444444,
              "#bd3786"
             ],
             [
              0.5555555555555556,
              "#d8576b"
             ],
             [
              0.6666666666666666,
              "#ed7953"
             ],
             [
              0.7777777777777778,
              "#fb9f3a"
             ],
             [
              0.8888888888888888,
              "#fdca26"
             ],
             [
              1,
              "#f0f921"
             ]
            ],
            "type": "contour"
           }
          ],
          "contourcarpet": [
           {
            "colorbar": {
             "outlinewidth": 0,
             "ticks": ""
            },
            "type": "contourcarpet"
           }
          ],
          "heatmap": [
           {
            "colorbar": {
             "outlinewidth": 0,
             "ticks": ""
            },
            "colorscale": [
             [
              0,
              "#0d0887"
             ],
             [
              0.1111111111111111,
              "#46039f"
             ],
             [
              0.2222222222222222,
              "#7201a8"
             ],
             [
              0.3333333333333333,
              "#9c179e"
             ],
             [
              0.4444444444444444,
              "#bd3786"
             ],
             [
              0.5555555555555556,
              "#d8576b"
             ],
             [
              0.6666666666666666,
              "#ed7953"
             ],
             [
              0.7777777777777778,
              "#fb9f3a"
             ],
             [
              0.8888888888888888,
              "#fdca26"
             ],
             [
              1,
              "#f0f921"
             ]
            ],
            "type": "heatmap"
           }
          ],
          "histogram": [
           {
            "marker": {
             "pattern": {
              "fillmode": "overlay",
              "size": 10,
              "solidity": 0.2
             }
            },
            "type": "histogram"
           }
          ],
          "histogram2d": [
           {
            "colorbar": {
             "outlinewidth": 0,
             "ticks": ""
            },
            "colorscale": [
             [
              0,
              "#0d0887"
             ],
             [
              0.1111111111111111,
              "#46039f"
             ],
             [
              0.2222222222222222,
              "#7201a8"
             ],
             [
              0.3333333333333333,
              "#9c179e"
             ],
             [
              0.4444444444444444,
              "#bd3786"
             ],
             [
              0.5555555555555556,
              "#d8576b"
             ],
             [
              0.6666666666666666,
              "#ed7953"
             ],
             [
              0.7777777777777778,
              "#fb9f3a"
             ],
             [
              0.8888888888888888,
              "#fdca26"
             ],
             [
              1,
              "#f0f921"
             ]
            ],
            "type": "histogram2d"
           }
          ],
          "histogram2dcontour": [
           {
            "colorbar": {
             "outlinewidth": 0,
             "ticks": ""
            },
            "colorscale": [
             [
              0,
              "#0d0887"
             ],
             [
              0.1111111111111111,
              "#46039f"
             ],
             [
              0.2222222222222222,
              "#7201a8"
             ],
             [
              0.3333333333333333,
              "#9c179e"
             ],
             [
              0.4444444444444444,
              "#bd3786"
             ],
             [
              0.5555555555555556,
              "#d8576b"
             ],
             [
              0.6666666666666666,
              "#ed7953"
             ],
             [
              0.7777777777777778,
              "#fb9f3a"
             ],
             [
              0.8888888888888888,
              "#fdca26"
             ],
             [
              1,
              "#f0f921"
             ]
            ],
            "type": "histogram2dcontour"
           }
          ],
          "mesh3d": [
           {
            "colorbar": {
             "outlinewidth": 0,
             "ticks": ""
            },
            "type": "mesh3d"
           }
          ],
          "parcoords": [
           {
            "line": {
             "colorbar": {
              "outlinewidth": 0,
              "ticks": ""
             }
            },
            "type": "parcoords"
           }
          ],
          "pie": [
           {
            "automargin": true,
            "type": "pie"
           }
          ],
          "scatter": [
           {
            "fillpattern": {
             "fillmode": "overlay",
             "size": 10,
             "solidity": 0.2
            },
            "type": "scatter"
           }
          ],
          "scatter3d": [
           {
            "line": {
             "colorbar": {
              "outlinewidth": 0,
              "ticks": ""
             }
            },
            "marker": {
             "colorbar": {
              "outlinewidth": 0,
              "ticks": ""
             }
            },
            "type": "scatter3d"
           }
          ],
          "scattercarpet": [
           {
            "marker": {
             "colorbar": {
              "outlinewidth": 0,
              "ticks": ""
             }
            },
            "type": "scattercarpet"
           }
          ],
          "scattergeo": [
           {
            "marker": {
             "colorbar": {
              "outlinewidth": 0,
              "ticks": ""
             }
            },
            "type": "scattergeo"
           }
          ],
          "scattergl": [
           {
            "marker": {
             "colorbar": {
              "outlinewidth": 0,
              "ticks": ""
             }
            },
            "type": "scattergl"
           }
          ],
          "scattermap": [
           {
            "marker": {
             "colorbar": {
              "outlinewidth": 0,
              "ticks": ""
             }
            },
            "type": "scattermap"
           }
          ],
          "scattermapbox": [
           {
            "marker": {
             "colorbar": {
              "outlinewidth": 0,
              "ticks": ""
             }
            },
            "type": "scattermapbox"
           }
          ],
          "scatterpolar": [
           {
            "marker": {
             "colorbar": {
              "outlinewidth": 0,
              "ticks": ""
             }
            },
            "type": "scatterpolar"
           }
          ],
          "scatterpolargl": [
           {
            "marker": {
             "colorbar": {
              "outlinewidth": 0,
              "ticks": ""
             }
            },
            "type": "scatterpolargl"
           }
          ],
          "scatterternary": [
           {
            "marker": {
             "colorbar": {
              "outlinewidth": 0,
              "ticks": ""
             }
            },
            "type": "scatterternary"
           }
          ],
          "surface": [
           {
            "colorbar": {
             "outlinewidth": 0,
             "ticks": ""
            },
            "colorscale": [
             [
              0,
              "#0d0887"
             ],
             [
              0.1111111111111111,
              "#46039f"
             ],
             [
              0.2222222222222222,
              "#7201a8"
             ],
             [
              0.3333333333333333,
              "#9c179e"
             ],
             [
              0.4444444444444444,
              "#bd3786"
             ],
             [
              0.5555555555555556,
              "#d8576b"
             ],
             [
              0.6666666666666666,
              "#ed7953"
             ],
             [
              0.7777777777777778,
              "#fb9f3a"
             ],
             [
              0.8888888888888888,
              "#fdca26"
             ],
             [
              1,
              "#f0f921"
             ]
            ],
            "type": "surface"
           }
          ],
          "table": [
           {
            "cells": {
             "fill": {
              "color": "#EBF0F8"
             },
             "line": {
              "color": "white"
             }
            },
            "header": {
             "fill": {
              "color": "#C8D4E3"
             },
             "line": {
              "color": "white"
             }
            },
            "type": "table"
           }
          ]
         },
         "layout": {
          "annotationdefaults": {
           "arrowcolor": "#2a3f5f",
           "arrowhead": 0,
           "arrowwidth": 1
          },
          "autotypenumbers": "strict",
          "coloraxis": {
           "colorbar": {
            "outlinewidth": 0,
            "ticks": ""
           }
          },
          "colorscale": {
           "diverging": [
            [
             0,
             "#8e0152"
            ],
            [
             0.1,
             "#c51b7d"
            ],
            [
             0.2,
             "#de77ae"
            ],
            [
             0.3,
             "#f1b6da"
            ],
            [
             0.4,
             "#fde0ef"
            ],
            [
             0.5,
             "#f7f7f7"
            ],
            [
             0.6,
             "#e6f5d0"
            ],
            [
             0.7,
             "#b8e186"
            ],
            [
             0.8,
             "#7fbc41"
            ],
            [
             0.9,
             "#4d9221"
            ],
            [
             1,
             "#276419"
            ]
           ],
           "sequential": [
            [
             0,
             "#0d0887"
            ],
            [
             0.1111111111111111,
             "#46039f"
            ],
            [
             0.2222222222222222,
             "#7201a8"
            ],
            [
             0.3333333333333333,
             "#9c179e"
            ],
            [
             0.4444444444444444,
             "#bd3786"
            ],
            [
             0.5555555555555556,
             "#d8576b"
            ],
            [
             0.6666666666666666,
             "#ed7953"
            ],
            [
             0.7777777777777778,
             "#fb9f3a"
            ],
            [
             0.8888888888888888,
             "#fdca26"
            ],
            [
             1,
             "#f0f921"
            ]
           ],
           "sequentialminus": [
            [
             0,
             "#0d0887"
            ],
            [
             0.1111111111111111,
             "#46039f"
            ],
            [
             0.2222222222222222,
             "#7201a8"
            ],
            [
             0.3333333333333333,
             "#9c179e"
            ],
            [
             0.4444444444444444,
             "#bd3786"
            ],
            [
             0.5555555555555556,
             "#d8576b"
            ],
            [
             0.6666666666666666,
             "#ed7953"
            ],
            [
             0.7777777777777778,
             "#fb9f3a"
            ],
            [
             0.8888888888888888,
             "#fdca26"
            ],
            [
             1,
             "#f0f921"
            ]
           ]
          },
          "colorway": [
           "#636efa",
           "#EF553B",
           "#00cc96",
           "#ab63fa",
           "#FFA15A",
           "#19d3f3",
           "#FF6692",
           "#B6E880",
           "#FF97FF",
           "#FECB52"
          ],
          "font": {
           "color": "#2a3f5f"
          },
          "geo": {
           "bgcolor": "white",
           "lakecolor": "white",
           "landcolor": "#E5ECF6",
           "showlakes": true,
           "showland": true,
           "subunitcolor": "white"
          },
          "hoverlabel": {
           "align": "left"
          },
          "hovermode": "closest",
          "mapbox": {
           "style": "light"
          },
          "paper_bgcolor": "white",
          "plot_bgcolor": "#E5ECF6",
          "polar": {
           "angularaxis": {
            "gridcolor": "white",
            "linecolor": "white",
            "ticks": ""
           },
           "bgcolor": "#E5ECF6",
           "radialaxis": {
            "gridcolor": "white",
            "linecolor": "white",
            "ticks": ""
           }
          },
          "scene": {
           "xaxis": {
            "backgroundcolor": "#E5ECF6",
            "gridcolor": "white",
            "gridwidth": 2,
            "linecolor": "white",
            "showbackground": true,
            "ticks": "",
            "zerolinecolor": "white"
           },
           "yaxis": {
            "backgroundcolor": "#E5ECF6",
            "gridcolor": "white",
            "gridwidth": 2,
            "linecolor": "white",
            "showbackground": true,
            "ticks": "",
            "zerolinecolor": "white"
           },
           "zaxis": {
            "backgroundcolor": "#E5ECF6",
            "gridcolor": "white",
            "gridwidth": 2,
            "linecolor": "white",
            "showbackground": true,
            "ticks": "",
            "zerolinecolor": "white"
           }
          },
          "shapedefaults": {
           "line": {
            "color": "#2a3f5f"
           }
          },
          "ternary": {
           "aaxis": {
            "gridcolor": "white",
            "linecolor": "white",
            "ticks": ""
           },
           "baxis": {
            "gridcolor": "white",
            "linecolor": "white",
            "ticks": ""
           },
           "bgcolor": "#E5ECF6",
           "caxis": {
            "gridcolor": "white",
            "linecolor": "white",
            "ticks": ""
           }
          },
          "title": {
           "x": 0.05
          },
          "xaxis": {
           "automargin": true,
           "gridcolor": "white",
           "linecolor": "white",
           "ticks": "",
           "title": {
            "standoff": 15
           },
           "zerolinecolor": "white",
           "zerolinewidth": 2
          },
          "yaxis": {
           "automargin": true,
           "gridcolor": "white",
           "linecolor": "white",
           "ticks": "",
           "title": {
            "standoff": 15
           },
           "zerolinecolor": "white",
           "zerolinewidth": 2
          }
         }
        },
        "xaxis": {
         "anchor": "y",
         "domain": [
          0,
          1
         ],
         "title": {
          "text": "x"
         }
        },
        "yaxis": {
         "anchor": "x",
         "domain": [
          0,
          1
         ],
         "title": {
          "text": "y"
         }
        }
       }
      }
     },
     "metadata": {},
     "output_type": "display_data"
    }
   ],
   "source": [
    "vecs, labels = reduce_dimensions(w2v_model)\n",
    "\n",
    "MAX_WORDS=500\n",
    "fig = px.scatter(x=vecs[:MAX_WORDS,0], y=vecs[:MAX_WORDS,1], text=labels[:MAX_WORDS])\n",
    "fig.show() # renderer=\"colab\" esto para plotly en colab"
   ]
  },
  {
   "cell_type": "code",
   "execution_count": 99,
   "id": "901dd7a1",
   "metadata": {},
   "outputs": [
    {
     "data": {
      "application/vnd.plotly.v1+json": {
       "config": {
        "plotlyServerURL": "https://plot.ly"
       },
       "data": [
        {
         "hovertemplate": "x=%{x}<br>y=%{y}<br>z=%{z}<br>text=%{text}<extra></extra>",
         "legendgroup": "",
         "marker": {
          "color": "#636efa",
          "size": 2,
          "symbol": "circle"
         },
         "mode": "markers+text",
         "name": "",
         "scene": "scene",
         "showlegend": false,
         "text": [
          "the",
          "and",
          "indy",
          "a",
          "to",
          "of",
          "in",
          "his",
          "he",
          "is",
          "it",
          "you",
          "as",
          "at",
          "on",
          "willie",
          "indiana",
          "from",
          "with",
          "i",
          "up",
          "out",
          "into",
          "him",
          "her",
          "short",
          "that",
          "they",
          "round",
          "down",
          "henry",
          "are",
          "back",
          "looks",
          "for",
          "this",
          "she",
          "int",
          "by",
          "we",
          "then",
          "over",
          "marion",
          "but",
          "them",
          "now",
          "toward",
          "day",
          "what",
          "an",
          "elsa",
          "around",
          "off",
          "car",
          "two",
          "one",
          "ext",
          "their",
          "brody",
          "indy's",
          "sees",
          "through",
          "see",
          "has",
          "all",
          "me",
          "have",
          "behind",
          "no",
          "sallah",
          "like",
          "tunnel",
          "across",
          "be",
          "away",
          "hand",
          "there",
          "not",
          "here",
          "get",
          "look",
          "suddenly",
          "your",
          "it's",
          "turns",
          "face",
          "donovan",
          "don't",
          "grabs",
          "eyes",
          "wall",
          "who",
          "room",
          "just",
          "other",
          "do",
          "jones",
          "was",
          "door",
          "head",
          "when",
          "man",
          "side",
          "again",
          "way",
          "belloq",
          "water",
          "onto",
          "go",
          "feet",
          "about",
          "whip",
          "my",
          "vogel",
          "takes",
          "i'm",
          "which",
          "nazi",
          "mola",
          "floor",
          "where",
          "pulls",
          "more",
          "gun",
          "will",
          "only",
          "three",
          "some",
          "shliemann",
          "open",
          "men",
          "been",
          "ark",
          "another",
          "truck",
          "little",
          "front",
          "he's",
          "something",
          "looking",
          "tank",
          "got",
          "going",
          "can",
          "grail",
          "come",
          "time",
          "starts",
          "so",
          "against",
          "mine",
          "ram",
          "guard",
          "know",
          "runs",
          "well",
          "nazis",
          "moves",
          "hands",
          "very",
          "reaches",
          "finally",
          "maharajah",
          "still",
          "its",
          "take",
          "if",
          "right",
          "chattar",
          "small",
          "stone",
          "steps",
          "top",
          "lal",
          "forward",
          "first",
          "above",
          "end",
          "after",
          "altar",
          "dad",
          "high",
          "lao",
          "falls",
          "us",
          "rock",
          "think",
          "watches",
          "fire",
          "along",
          "temple",
          "below",
          "begins",
          "moment",
          "run",
          "jumps",
          "smiles",
          "second",
          "german",
          "under",
          "comes",
          "before",
          "long",
          "oh",
          "air",
          "past",
          "huge",
          "guards",
          "table",
          "night",
          "old",
          "hole",
          "light",
          "bridge",
          "you're",
          "holds",
          "window",
          "start",
          "cut",
          "stands",
          "inside",
          "slowly",
          "himself",
          "giant",
          "that's",
          "satipo",
          "wind",
          "chamber",
          "cross",
          "life",
          "dark",
          "palace",
          "would",
          "god",
          "want",
          "between",
          "next",
          "gets",
          "stops",
          "shorty",
          "opens",
          "quickly",
          "last",
          "how",
          "fedora",
          "did",
          "children",
          "plane",
          "belzig",
          "move",
          "road",
          "screams",
          "dr",
          "walks",
          "puts",
          "hold",
          "hat",
          "continues",
          "too",
          "find",
          "goes",
          "gives",
          "map",
          "were",
          "stones",
          "bar",
          "swings",
          "staff",
          "body",
          "shaman",
          "large",
          "yes",
          "dead",
          "kali",
          "diary",
          "we're",
          "both",
          "father",
          "mouth",
          "arm",
          "i've",
          "give",
          "doctor",
          "why",
          "had",
          "picks",
          "each",
          "place",
          "make",
          "torch",
          "let",
          "what's",
          "corner",
          "good",
          "bad",
          "edge",
          "thuggee",
          "please",
          "even",
          "soldier",
          "snakes",
          "far",
          "our",
          "tell",
          "turn",
          "doesn't",
          "appears",
          "s",
          "near",
          "does",
          "i'll",
          "must",
          "stop",
          "ahead",
          "help",
          "nods",
          "rope",
          "glass",
          "captain",
          "fall",
          "pocket",
          "blumburtt",
          "left",
          "smoke",
          "than",
          "nothing",
          "wooden",
          "coming",
          "these",
          "foot",
          "five",
          "white",
          "street",
          "arms",
          "begin",
          "rolls",
          "sits",
          "big",
          "entrance",
          "monkey",
          "museum",
          "rushes",
          "can't",
          "moving",
          "points",
          "trying",
          "or",
          "soldiers",
          "immediately",
          "kazim",
          "flying",
          "lifts",
          "black",
          "being",
          "willie's",
          "neck",
          "holding",
          "full",
          "piece",
          "ground",
          "desert",
          "hits",
          "sword",
          "there's",
          "half",
          "drops",
          "hard",
          "never",
          "makes",
          "until",
          "roscoe",
          "keep",
          "hear",
          "smiling",
          "village",
          "dives",
          "kicks",
          "seat",
          "close",
          "almost",
          "spot",
          "bullets",
          "marcus",
          "several",
          "belt",
          "enormous",
          "reach",
          "once",
          "found",
          "boat",
          "arab",
          "machine",
          "pushes",
          "priest",
          "seems",
          "periscope",
          "stares",
          "lost",
          "sound",
          "running",
          "tries",
          "oil",
          "sankara",
          "platform",
          "blood",
          "death",
          "knight",
          "o",
          "walls",
          "speaks",
          "own",
          "frame",
          "flies",
          "gold",
          "pull",
          "glances",
          "rocks",
          "river",
          "mountain",
          "hears",
          "snake",
          "jacket",
          "rear",
          "approaches",
          "box",
          "directly",
          "shoulder",
          "years",
          "okay",
          "brake",
          "center",
          "enters",
          "sun",
          "burning",
          "ceiling",
          "hall",
          "gong",
          "fast",
          "cliff",
          "armed",
          "kid",
          "bottom",
          "leans",
          "walk",
          "cavern",
          "believe",
          "exchange",
          "meanwhile",
          "cars",
          "yells",
          "watch",
          "disappears",
          "pulling",
          "slides",
          "taking",
          "wide",
          "train",
          "horse",
          "elephant",
          "tall",
          "said",
          "enough",
          "statue",
          "throws",
          "knocks",
          "they're",
          "any",
          "shot",
          "stand",
          "crashes",
          "pilot",
          "step",
          "shakes",
          "much",
          "doing",
          "heads",
          "square",
          "breaks",
          "attention",
          "bag",
          "climbs",
          "smashes",
          "say",
          "roof",
          "quick",
          "raises",
          "yet",
          "closer",
          "pistol",
          "we'll",
          "capt",
          "line",
          "same",
          "raft",
          "beneath",
          "am",
          "hok's",
          "ten",
          "ram's",
          "pain"
         ],
         "type": "scatter3d",
         "x": {
          "bdata": "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",
          "dtype": "f4"
         },
         "y": {
          "bdata": "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",
          "dtype": "f4"
         },
         "z": {
          "bdata": "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",
          "dtype": "f4"
         }
        }
       ],
       "layout": {
        "legend": {
         "tracegroupgap": 0
        },
        "margin": {
         "t": 60
        },
        "scene": {
         "domain": {
          "x": [
           0,
           1
          ],
          "y": [
           0,
           1
          ]
         },
         "xaxis": {
          "title": {
           "text": "x"
          }
         },
         "yaxis": {
          "title": {
           "text": "y"
          }
         },
         "zaxis": {
          "title": {
           "text": "z"
          }
         }
        },
        "template": {
         "data": {
          "bar": [
           {
            "error_x": {
             "color": "#2a3f5f"
            },
            "error_y": {
             "color": "#2a3f5f"
            },
            "marker": {
             "line": {
              "color": "#E5ECF6",
              "width": 0.5
             },
             "pattern": {
              "fillmode": "overlay",
              "size": 10,
              "solidity": 0.2
             }
            },
            "type": "bar"
           }
          ],
          "barpolar": [
           {
            "marker": {
             "line": {
              "color": "#E5ECF6",
              "width": 0.5
             },
             "pattern": {
              "fillmode": "overlay",
              "size": 10,
              "solidity": 0.2
             }
            },
            "type": "barpolar"
           }
          ],
          "carpet": [
           {
            "aaxis": {
             "endlinecolor": "#2a3f5f",
             "gridcolor": "white",
             "linecolor": "white",
             "minorgridcolor": "white",
             "startlinecolor": "#2a3f5f"
            },
            "baxis": {
             "endlinecolor": "#2a3f5f",
             "gridcolor": "white",
             "linecolor": "white",
             "minorgridcolor": "white",
             "startlinecolor": "#2a3f5f"
            },
            "type": "carpet"
           }
          ],
          "choropleth": [
           {
            "colorbar": {
             "outlinewidth": 0,
             "ticks": ""
            },
            "type": "choropleth"
           }
          ],
          "contour": [
           {
            "colorbar": {
             "outlinewidth": 0,
             "ticks": ""
            },
            "colorscale": [
             [
              0,
              "#0d0887"
             ],
             [
              0.1111111111111111,
              "#46039f"
             ],
             [
              0.2222222222222222,
              "#7201a8"
             ],
             [
              0.3333333333333333,
              "#9c179e"
             ],
             [
              0.4444444444444444,
              "#bd3786"
             ],
             [
              0.5555555555555556,
              "#d8576b"
             ],
             [
              0.6666666666666666,
              "#ed7953"
             ],
             [
              0.7777777777777778,
              "#fb9f3a"
             ],
             [
              0.8888888888888888,
              "#fdca26"
             ],
             [
              1,
              "#f0f921"
             ]
            ],
            "type": "contour"
           }
          ],
          "contourcarpet": [
           {
            "colorbar": {
             "outlinewidth": 0,
             "ticks": ""
            },
            "type": "contourcarpet"
           }
          ],
          "heatmap": [
           {
            "colorbar": {
             "outlinewidth": 0,
             "ticks": ""
            },
            "colorscale": [
             [
              0,
              "#0d0887"
             ],
             [
              0.1111111111111111,
              "#46039f"
             ],
             [
              0.2222222222222222,
              "#7201a8"
             ],
             [
              0.3333333333333333,
              "#9c179e"
             ],
             [
              0.4444444444444444,
              "#bd3786"
             ],
             [
              0.5555555555555556,
              "#d8576b"
             ],
             [
              0.6666666666666666,
              "#ed7953"
             ],
             [
              0.7777777777777778,
              "#fb9f3a"
             ],
             [
              0.8888888888888888,
              "#fdca26"
             ],
             [
              1,
              "#f0f921"
             ]
            ],
            "type": "heatmap"
           }
          ],
          "histogram": [
           {
            "marker": {
             "pattern": {
              "fillmode": "overlay",
              "size": 10,
              "solidity": 0.2
             }
            },
            "type": "histogram"
           }
          ],
          "histogram2d": [
           {
            "colorbar": {
             "outlinewidth": 0,
             "ticks": ""
            },
            "colorscale": [
             [
              0,
              "#0d0887"
             ],
             [
              0.1111111111111111,
              "#46039f"
             ],
             [
              0.2222222222222222,
              "#7201a8"
             ],
             [
              0.3333333333333333,
              "#9c179e"
             ],
             [
              0.4444444444444444,
              "#bd3786"
             ],
             [
              0.5555555555555556,
              "#d8576b"
             ],
             [
              0.6666666666666666,
              "#ed7953"
             ],
             [
              0.7777777777777778,
              "#fb9f3a"
             ],
             [
              0.8888888888888888,
              "#fdca26"
             ],
             [
              1,
              "#f0f921"
             ]
            ],
            "type": "histogram2d"
           }
          ],
          "histogram2dcontour": [
           {
            "colorbar": {
             "outlinewidth": 0,
             "ticks": ""
            },
            "colorscale": [
             [
              0,
              "#0d0887"
             ],
             [
              0.1111111111111111,
              "#46039f"
             ],
             [
              0.2222222222222222,
              "#7201a8"
             ],
             [
              0.3333333333333333,
              "#9c179e"
             ],
             [
              0.4444444444444444,
              "#bd3786"
             ],
             [
              0.5555555555555556,
              "#d8576b"
             ],
             [
              0.6666666666666666,
              "#ed7953"
             ],
             [
              0.7777777777777778,
              "#fb9f3a"
             ],
             [
              0.8888888888888888,
              "#fdca26"
             ],
             [
              1,
              "#f0f921"
             ]
            ],
            "type": "histogram2dcontour"
           }
          ],
          "mesh3d": [
           {
            "colorbar": {
             "outlinewidth": 0,
             "ticks": ""
            },
            "type": "mesh3d"
           }
          ],
          "parcoords": [
           {
            "line": {
             "colorbar": {
              "outlinewidth": 0,
              "ticks": ""
             }
            },
            "type": "parcoords"
           }
          ],
          "pie": [
           {
            "automargin": true,
            "type": "pie"
           }
          ],
          "scatter": [
           {
            "fillpattern": {
             "fillmode": "overlay",
             "size": 10,
             "solidity": 0.2
            },
            "type": "scatter"
           }
          ],
          "scatter3d": [
           {
            "line": {
             "colorbar": {
              "outlinewidth": 0,
              "ticks": ""
             }
            },
            "marker": {
             "colorbar": {
              "outlinewidth": 0,
              "ticks": ""
             }
            },
            "type": "scatter3d"
           }
          ],
          "scattercarpet": [
           {
            "marker": {
             "colorbar": {
              "outlinewidth": 0,
              "ticks": ""
             }
            },
            "type": "scattercarpet"
           }
          ],
          "scattergeo": [
           {
            "marker": {
             "colorbar": {
              "outlinewidth": 0,
              "ticks": ""
             }
            },
            "type": "scattergeo"
           }
          ],
          "scattergl": [
           {
            "marker": {
             "colorbar": {
              "outlinewidth": 0,
              "ticks": ""
             }
            },
            "type": "scattergl"
           }
          ],
          "scattermap": [
           {
            "marker": {
             "colorbar": {
              "outlinewidth": 0,
              "ticks": ""
             }
            },
            "type": "scattermap"
           }
          ],
          "scattermapbox": [
           {
            "marker": {
             "colorbar": {
              "outlinewidth": 0,
              "ticks": ""
             }
            },
            "type": "scattermapbox"
           }
          ],
          "scatterpolar": [
           {
            "marker": {
             "colorbar": {
              "outlinewidth": 0,
              "ticks": ""
             }
            },
            "type": "scatterpolar"
           }
          ],
          "scatterpolargl": [
           {
            "marker": {
             "colorbar": {
              "outlinewidth": 0,
              "ticks": ""
             }
            },
            "type": "scatterpolargl"
           }
          ],
          "scatterternary": [
           {
            "marker": {
             "colorbar": {
              "outlinewidth": 0,
              "ticks": ""
             }
            },
            "type": "scatterternary"
           }
          ],
          "surface": [
           {
            "colorbar": {
             "outlinewidth": 0,
             "ticks": ""
            },
            "colorscale": [
             [
              0,
              "#0d0887"
             ],
             [
              0.1111111111111111,
              "#46039f"
             ],
             [
              0.2222222222222222,
              "#7201a8"
             ],
             [
              0.3333333333333333,
              "#9c179e"
             ],
             [
              0.4444444444444444,
              "#bd3786"
             ],
             [
              0.5555555555555556,
              "#d8576b"
             ],
             [
              0.6666666666666666,
              "#ed7953"
             ],
             [
              0.7777777777777778,
              "#fb9f3a"
             ],
             [
              0.8888888888888888,
              "#fdca26"
             ],
             [
              1,
              "#f0f921"
             ]
            ],
            "type": "surface"
           }
          ],
          "table": [
           {
            "cells": {
             "fill": {
              "color": "#EBF0F8"
             },
             "line": {
              "color": "white"
             }
            },
            "header": {
             "fill": {
              "color": "#C8D4E3"
             },
             "line": {
              "color": "white"
             }
            },
            "type": "table"
           }
          ]
         },
         "layout": {
          "annotationdefaults": {
           "arrowcolor": "#2a3f5f",
           "arrowhead": 0,
           "arrowwidth": 1
          },
          "autotypenumbers": "strict",
          "coloraxis": {
           "colorbar": {
            "outlinewidth": 0,
            "ticks": ""
           }
          },
          "colorscale": {
           "diverging": [
            [
             0,
             "#8e0152"
            ],
            [
             0.1,
             "#c51b7d"
            ],
            [
             0.2,
             "#de77ae"
            ],
            [
             0.3,
             "#f1b6da"
            ],
            [
             0.4,
             "#fde0ef"
            ],
            [
             0.5,
             "#f7f7f7"
            ],
            [
             0.6,
             "#e6f5d0"
            ],
            [
             0.7,
             "#b8e186"
            ],
            [
             0.8,
             "#7fbc41"
            ],
            [
             0.9,
             "#4d9221"
            ],
            [
             1,
             "#276419"
            ]
           ],
           "sequential": [
            [
             0,
             "#0d0887"
            ],
            [
             0.1111111111111111,
             "#46039f"
            ],
            [
             0.2222222222222222,
             "#7201a8"
            ],
            [
             0.3333333333333333,
             "#9c179e"
            ],
            [
             0.4444444444444444,
             "#bd3786"
            ],
            [
             0.5555555555555556,
             "#d8576b"
            ],
            [
             0.6666666666666666,
             "#ed7953"
            ],
            [
             0.7777777777777778,
             "#fb9f3a"
            ],
            [
             0.8888888888888888,
             "#fdca26"
            ],
            [
             1,
             "#f0f921"
            ]
           ],
           "sequentialminus": [
            [
             0,
             "#0d0887"
            ],
            [
             0.1111111111111111,
             "#46039f"
            ],
            [
             0.2222222222222222,
             "#7201a8"
            ],
            [
             0.3333333333333333,
             "#9c179e"
            ],
            [
             0.4444444444444444,
             "#bd3786"
            ],
            [
             0.5555555555555556,
             "#d8576b"
            ],
            [
             0.6666666666666666,
             "#ed7953"
            ],
            [
             0.7777777777777778,
             "#fb9f3a"
            ],
            [
             0.8888888888888888,
             "#fdca26"
            ],
            [
             1,
             "#f0f921"
            ]
           ]
          },
          "colorway": [
           "#636efa",
           "#EF553B",
           "#00cc96",
           "#ab63fa",
           "#FFA15A",
           "#19d3f3",
           "#FF6692",
           "#B6E880",
           "#FF97FF",
           "#FECB52"
          ],
          "font": {
           "color": "#2a3f5f"
          },
          "geo": {
           "bgcolor": "white",
           "lakecolor": "white",
           "landcolor": "#E5ECF6",
           "showlakes": true,
           "showland": true,
           "subunitcolor": "white"
          },
          "hoverlabel": {
           "align": "left"
          },
          "hovermode": "closest",
          "mapbox": {
           "style": "light"
          },
          "paper_bgcolor": "white",
          "plot_bgcolor": "#E5ECF6",
          "polar": {
           "angularaxis": {
            "gridcolor": "white",
            "linecolor": "white",
            "ticks": ""
           },
           "bgcolor": "#E5ECF6",
           "radialaxis": {
            "gridcolor": "white",
            "linecolor": "white",
            "ticks": ""
           }
          },
          "scene": {
           "xaxis": {
            "backgroundcolor": "#E5ECF6",
            "gridcolor": "white",
            "gridwidth": 2,
            "linecolor": "white",
            "showbackground": true,
            "ticks": "",
            "zerolinecolor": "white"
           },
           "yaxis": {
            "backgroundcolor": "#E5ECF6",
            "gridcolor": "white",
            "gridwidth": 2,
            "linecolor": "white",
            "showbackground": true,
            "ticks": "",
            "zerolinecolor": "white"
           },
           "zaxis": {
            "backgroundcolor": "#E5ECF6",
            "gridcolor": "white",
            "gridwidth": 2,
            "linecolor": "white",
            "showbackground": true,
            "ticks": "",
            "zerolinecolor": "white"
           }
          },
          "shapedefaults": {
           "line": {
            "color": "#2a3f5f"
           }
          },
          "ternary": {
           "aaxis": {
            "gridcolor": "white",
            "linecolor": "white",
            "ticks": ""
           },
           "baxis": {
            "gridcolor": "white",
            "linecolor": "white",
            "ticks": ""
           },
           "bgcolor": "#E5ECF6",
           "caxis": {
            "gridcolor": "white",
            "linecolor": "white",
            "ticks": ""
           }
          },
          "title": {
           "x": 0.05
          },
          "xaxis": {
           "automargin": true,
           "gridcolor": "white",
           "linecolor": "white",
           "ticks": "",
           "title": {
            "standoff": 15
           },
           "zerolinecolor": "white",
           "zerolinewidth": 2
          },
          "yaxis": {
           "automargin": true,
           "gridcolor": "white",
           "linecolor": "white",
           "ticks": "",
           "title": {
            "standoff": 15
           },
           "zerolinecolor": "white",
           "zerolinewidth": 2
          }
         }
        }
       }
      }
     },
     "metadata": {},
     "output_type": "display_data"
    }
   ],
   "source": [
    "vecs, labels = reduce_dimensions(w2v_model,3)\n",
    "\n",
    "fig = px.scatter_3d(x=vecs[:MAX_WORDS,0], y=vecs[:MAX_WORDS,1], z=vecs[:MAX_WORDS,2],text=labels[:MAX_WORDS])\n",
    "fig.update_traces(marker_size = 2)\n",
    "fig.show()"
   ]
  }
 ],
 "metadata": {
  "kernelspec": {
   "display_name": "venv",
   "language": "python",
   "name": "python3"
  },
  "language_info": {
   "codemirror_mode": {
    "name": "ipython",
    "version": 3
   },
   "file_extension": ".py",
   "mimetype": "text/x-python",
   "name": "python",
   "nbconvert_exporter": "python",
   "pygments_lexer": "ipython3",
   "version": "3.12.10"
  }
 },
 "nbformat": 4,
 "nbformat_minor": 5
}
