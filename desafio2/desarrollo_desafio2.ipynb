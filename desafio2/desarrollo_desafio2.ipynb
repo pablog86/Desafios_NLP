{
 "cells": [
  {
   "cell_type": "markdown",
   "id": "8b16d688",
   "metadata": {},
   "source": [
    "# Desafio 2 - NLP\n",
    "\n",
    "- Crear sus propios vectores con Gensim basado en lo visto en clase con otro dataset.\n",
    "- Probar términos de interés y explicar similitudes en el espacio de embeddings.\n",
    "- Intentar plantear y probar tests de analogías. \n",
    "- Graficar los embeddings resultantes.\n",
    "- Sacar conclusiones."
   ]
  },
  {
   "cell_type": "markdown",
   "id": "cd8bb8c1",
   "metadata": {},
   "source": [
    "## Imports"
   ]
  },
  {
   "cell_type": "code",
   "execution_count": 640,
   "id": "eda5d6ce",
   "metadata": {},
   "outputs": [],
   "source": [
    "import pandas as pd\n",
    "import matplotlib.pyplot as plt\n",
    "import seaborn as sns\n",
    "import multiprocessing\n",
    "from gensim.models import Word2Vec\n",
    "import os\n",
    "from tensorflow.keras.preprocessing.text import text_to_word_sequence\n",
    "from nltk.corpus import stopwords\n",
    "import nltk\n",
    "from gensim.models.callbacks import CallbackAny2Vec\n",
    "from sklearn.metrics.pairwise import cosine_similarity\n",
    "\n",
    "from sklearn.decomposition import IncrementalPCA    \n",
    "from sklearn.manifold import TSNE                   \n",
    "import numpy as np\n",
    "import plotly.graph_objects as go\n",
    "import plotly.express as px                   "
   ]
  },
  {
   "cell_type": "markdown",
   "id": "298aeb29",
   "metadata": {},
   "source": [
    "## Funciones generales"
   ]
  },
  {
   "cell_type": "code",
   "execution_count": 641,
   "id": "bdea8400",
   "metadata": {},
   "outputs": [],
   "source": [
    "# Durante el entrenamiento gensim por defecto no informa el \"loss\" en cada época\n",
    "# Sobrecargamos el callback para poder tener esta información\n",
    "class callback(CallbackAny2Vec):\n",
    "    \"\"\"\n",
    "    Callback to print loss after each epoch\n",
    "    \"\"\"\n",
    "    def __init__(self):\n",
    "        self.epoch = 0\n",
    "\n",
    "    def on_epoch_end(self, model):\n",
    "        loss = model.get_latest_training_loss()\n",
    "        if self.epoch == 0:\n",
    "            print('Loss after epoch {}: {}'.format(self.epoch, loss))\n",
    "        else:\n",
    "            print('Loss after epoch {}: {}'.format(self.epoch, loss- self.loss_previous_step))\n",
    "        self.epoch += 1\n",
    "        self.loss_previous_step = loss"
   ]
  },
  {
   "cell_type": "code",
   "execution_count": 642,
   "id": "f174c202",
   "metadata": {},
   "outputs": [],
   "source": [
    "def reduce_dimensions(model, num_dimensions = 2 ):\n",
    "     \n",
    "    vectors = np.asarray(model.wv.vectors)\n",
    "    labels = np.asarray(model.wv.index_to_key)  \n",
    "\n",
    "    tsne = TSNE(n_components=num_dimensions, random_state=0)\n",
    "    vectors = tsne.fit_transform(vectors)\n",
    "\n",
    "    return vectors, labels"
   ]
  },
  {
   "cell_type": "code",
   "execution_count": 643,
   "id": "aed1521d",
   "metadata": {},
   "outputs": [],
   "source": [
    "def max_words (model, vecs, labels, highlight_words, MAX_WORDS, topn=10):\n",
    "    all_words = list(labels)\n",
    "    selected_words = set(highlight_words)\n",
    "\n",
    "    for word in highlight_words:\n",
    "        if word in model.wv:\n",
    "            try:\n",
    "                similar = model.wv.most_similar(word, topn=topn)\n",
    "                selected_words.update([w for w, _ in similar])\n",
    "            except KeyError:\n",
    "                pass  # por si alguna palabra no está en vocabulario\n",
    "\n",
    "    for word in all_words:\n",
    "        if len(selected_words) >= MAX_WORDS:\n",
    "            break\n",
    "        if word not in selected_words:\n",
    "            selected_words.add(word)\n",
    "\n",
    "    selected_words = list(selected_words)\n",
    "    indices = [all_words.index(w) for w in selected_words if w in all_words]\n",
    "    filtered_vecs = vecs[indices]\n",
    "    filtered_labels = [all_words[i] for i in indices]\n",
    "    return filtered_vecs, filtered_labels"
   ]
  },
  {
   "cell_type": "code",
   "execution_count": 644,
   "id": "da8137cb",
   "metadata": {},
   "outputs": [],
   "source": [
    "def plot_embeddings(model, vecs, labels, MAX_WORDS=200, highlight_words=None):\n",
    "    assert vecs.shape[0] == len(labels), \"Vecs y labels deben tener la misma longitud\"\n",
    "    vecs, labels = max_words(model, vecs, labels, highlight_words, MAX_WORDS)\n",
    "    # Colores: rojo si está en highlight, azul si no\n",
    "    highlight_words = set(highlight_words) if highlight_words else set()\n",
    "    colors = ['red' if word in highlight_words else 'blue' for word in labels]\n",
    "\n",
    "    if vecs.shape[1] == 2:\n",
    "        fig = px.scatter(\n",
    "            x=vecs[:, 0],\n",
    "            y=vecs[:, 1],\n",
    "            text=labels,\n",
    "            color=colors,\n",
    "            labels={\"color\": \"Tipo de palabra\"}\n",
    "        )\n",
    "    elif vecs.shape[1] == 3:\n",
    "        fig = px.scatter_3d(\n",
    "            x=vecs[:, 0],\n",
    "            y=vecs[:, 1],\n",
    "            z=vecs[:, 2],\n",
    "            text=labels,\n",
    "            color=colors,\n",
    "            labels={\"color\": \"Tipo de palabra\"}\n",
    "        )\n",
    "        fig.update_traces(marker_size = 2)\n",
    "    else:\n",
    "        raise ValueError(\"Los vectores deben ser de dimensión 2 o 3\")\n",
    "\n",
    "    fig.update_traces(textposition='top center')\n",
    "    fig.show()"
   ]
  },
  {
   "cell_type": "code",
   "execution_count": 645,
   "id": "53675d0b",
   "metadata": {},
   "outputs": [],
   "source": [
    "def embeddings_matrix_distance(model, words, extra_vector=None, extra_label=\"nuevo\"):\n",
    "    emb = np.array([model.wv.get_vector(word) for word in words])\n",
    "    if extra_vector is not None:\n",
    "        emb = np.vstack([emb, extra_vector])\n",
    "        words = words + [extra_label]\n",
    "    dist = cosine_similarity(emb, emb)\n",
    "    plot_matrix_distance(words, dist)\n",
    "\n",
    "\n",
    "def plot_matrix_distance(words, dist):\n",
    "    fig = plt.figure(figsize=(16,9))\n",
    "    ax = fig.add_subplot()\n",
    "    sns.heatmap(dist, xticklabels=words, yticklabels=words, \n",
    "                annot=True, fmt=\".2f\", cmap=\"YlGnBu\", ax=ax, mask=np.triu(dist))\n",
    "    plt.show()"
   ]
  },
  {
   "cell_type": "markdown",
   "id": "055a0a3c",
   "metadata": {},
   "source": [
    "## Preprocesamiento"
   ]
  },
  {
   "cell_type": "code",
   "execution_count": 646,
   "id": "45b0047f",
   "metadata": {},
   "outputs": [
    {
     "data": {
      "text/plain": [
       "['Indiana_Jones_And_The_Last_Crusade.txt',\n",
       " 'Indiana_Jones_And_The_Temple_Of_Doom.txt',\n",
       " 'Raiders_Of_The_Lost_Ark.txt']"
      ]
     },
     "execution_count": 646,
     "metadata": {},
     "output_type": "execute_result"
    }
   ],
   "source": [
    "os.listdir(\"corpus\")"
   ]
  },
  {
   "cell_type": "code",
   "execution_count": 647,
   "id": "dac7130d",
   "metadata": {},
   "outputs": [
    {
     "data": {
      "application/vnd.microsoft.datawrangler.viewer.v0+json": {
       "columns": [
        {
         "name": "index",
         "rawType": "int64",
         "type": "integer"
        },
        {
         "name": "0",
         "rawType": "object",
         "type": "string"
        }
       ],
       "conversionMethod": "pd.DataFrame",
       "ref": "b9b1114b-a1d9-4a41-b044-1ac39b82c22b",
       "rows": [
        [
         "0",
         "\"INDIANA JONES AND THE LAST CRUSADE\""
        ],
        [
         "1",
         "Screenplay by"
        ],
        [
         "2",
         "Jeffrey Boam"
        ],
        [
         "3",
         "FADE IN:"
        ],
        [
         "4",
         "EXT. DESERT OF THE AMERICAN SOUTHWEST - DAY"
        ]
       ],
       "shape": {
        "columns": 1,
        "rows": 5
       }
      },
      "text/html": [
       "<div>\n",
       "<style scoped>\n",
       "    .dataframe tbody tr th:only-of-type {\n",
       "        vertical-align: middle;\n",
       "    }\n",
       "\n",
       "    .dataframe tbody tr th {\n",
       "        vertical-align: top;\n",
       "    }\n",
       "\n",
       "    .dataframe thead th {\n",
       "        text-align: right;\n",
       "    }\n",
       "</style>\n",
       "<table border=\"1\" class=\"dataframe\">\n",
       "  <thead>\n",
       "    <tr style=\"text-align: right;\">\n",
       "      <th></th>\n",
       "      <th>0</th>\n",
       "    </tr>\n",
       "  </thead>\n",
       "  <tbody>\n",
       "    <tr>\n",
       "      <th>0</th>\n",
       "      <td>\"INDIANA JONES AND THE LAST CRUSADE\"</td>\n",
       "    </tr>\n",
       "    <tr>\n",
       "      <th>1</th>\n",
       "      <td>Screenplay by</td>\n",
       "    </tr>\n",
       "    <tr>\n",
       "      <th>2</th>\n",
       "      <td>Jeffrey Boam</td>\n",
       "    </tr>\n",
       "    <tr>\n",
       "      <th>3</th>\n",
       "      <td>FADE IN:</td>\n",
       "    </tr>\n",
       "    <tr>\n",
       "      <th>4</th>\n",
       "      <td>EXT. DESERT OF THE AMERICAN SOUTHWEST - DAY</td>\n",
       "    </tr>\n",
       "  </tbody>\n",
       "</table>\n",
       "</div>"
      ],
      "text/plain": [
       "                                             0\n",
       "0         \"INDIANA JONES AND THE LAST CRUSADE\"\n",
       "1                                Screenplay by\n",
       "2                                 Jeffrey Boam\n",
       "3                                     FADE IN:\n",
       "4  EXT. DESERT OF THE AMERICAN SOUTHWEST - DAY"
      ]
     },
     "metadata": {},
     "output_type": "display_data"
    },
    {
     "data": {
      "text/plain": [
       "'Cantidad de documentos:'"
      ]
     },
     "metadata": {},
     "output_type": "display_data"
    },
    {
     "data": {
      "text/plain": [
       "13504"
      ]
     },
     "metadata": {},
     "output_type": "display_data"
    }
   ],
   "source": [
    "df1 = pd.read_csv('corpus/Indiana_Jones_And_The_Last_Crusade.txt', sep='/n', header=None, engine='python')\n",
    "df2 = pd.read_csv('corpus/Raiders_Of_The_Lost_Ark.txt', sep='/n', header=None, engine='python')\n",
    "df3 = pd.read_csv('corpus/Indiana_Jones_And_The_Temple_Of_Doom.txt', sep='/n', header=None, engine='python')\n",
    "df = pd.concat([df1, df2, df3], ignore_index=True)\n",
    "display(df.head())\n",
    "display(\"Cantidad de documentos:\", df.shape[0])"
   ]
  },
  {
   "cell_type": "code",
   "execution_count": 648,
   "id": "e043b19d",
   "metadata": {},
   "outputs": [
    {
     "name": "stderr",
     "output_type": "stream",
     "text": [
      "[nltk_data] Downloading package stopwords to\n",
      "[nltk_data]     C:\\Users\\Pablo/nltk_data...\n",
      "[nltk_data]   Package stopwords is already up-to-date!\n"
     ]
    }
   ],
   "source": [
    "nltk.download('stopwords')\n",
    "stop_words = set(stopwords.words('english')) \n",
    "\n",
    "sentence_tokens = []\n",
    "for _, row in df[:None].iterrows():\n",
    "    tokens = text_to_word_sequence(row[0])  # Tokenizar con Keras\n",
    "    filtered_tokens = [word for word in tokens if word not in stop_words]\n",
    "    sentence_tokens.append(filtered_tokens)"
   ]
  },
  {
   "cell_type": "markdown",
   "id": "5f2e1b73",
   "metadata": {},
   "source": [
    "## Crear los vectores (word2vec)"
   ]
  },
  {
   "cell_type": "code",
   "execution_count": 649,
   "id": "c652e22a",
   "metadata": {},
   "outputs": [],
   "source": [
    "w2v_model = Word2Vec(min_count=4,    # frecuencia mínima de palabra para incluirla en el vocabulario\n",
    "                     window=10,       # cant de palabras antes y desp de la predicha\n",
    "                     vector_size=384, # dimensionalidad de los vectores \n",
    "                     negative=25,    # cantidad de negative samples... 0 es no se usa\n",
    "                     workers=4,      # si tienen más cores pueden cambiar este valor\n",
    "                     sg=1)           # modelo 0:CBOW  1:skipgram"
   ]
  },
  {
   "cell_type": "code",
   "execution_count": 650,
   "id": "d49e19f0",
   "metadata": {},
   "outputs": [
    {
     "data": {
      "text/plain": [
       "'Cantidad de docs en el corpus:'"
      ]
     },
     "metadata": {},
     "output_type": "display_data"
    },
    {
     "data": {
      "text/plain": [
       "13504"
      ]
     },
     "metadata": {},
     "output_type": "display_data"
    },
    {
     "data": {
      "text/plain": [
       "'Cantidad de words distintas en el corpus:'"
      ]
     },
     "metadata": {},
     "output_type": "display_data"
    },
    {
     "data": {
      "text/plain": [
       "2214"
      ]
     },
     "metadata": {},
     "output_type": "display_data"
    }
   ],
   "source": [
    "w2v_model.build_vocab(sentence_tokens)\n",
    "display(\"Cantidad de docs en el corpus:\", w2v_model.corpus_count)\n",
    "display(\"Cantidad de words distintas en el corpus:\", len(w2v_model.wv.index_to_key))"
   ]
  },
  {
   "cell_type": "code",
   "execution_count": 651,
   "id": "cc351ba3",
   "metadata": {},
   "outputs": [
    {
     "name": "stdout",
     "output_type": "stream",
     "text": [
      "Loss after epoch 0: 246476.765625\n",
      "Loss after epoch 1: 151036.671875\n",
      "Loss after epoch 2: 149662.5625\n",
      "Loss after epoch 3: 147114.0\n",
      "Loss after epoch 4: 146221.5\n",
      "Loss after epoch 5: 143901.75\n",
      "Loss after epoch 6: 132620.625\n",
      "Loss after epoch 7: 122813.875\n",
      "Loss after epoch 8: 121461.375\n",
      "Loss after epoch 9: 119425.0\n",
      "Loss after epoch 10: 116891.0\n",
      "Loss after epoch 11: 115266.25\n",
      "Loss after epoch 12: 113015.375\n",
      "Loss after epoch 13: 109290.625\n",
      "Loss after epoch 14: 107644.0\n",
      "Loss after epoch 15: 101989.875\n",
      "Loss after epoch 16: 94834.0\n",
      "Loss after epoch 17: 93198.75\n",
      "Loss after epoch 18: 91663.0\n",
      "Loss after epoch 19: 90123.0\n",
      "Loss after epoch 20: 88094.0\n",
      "Loss after epoch 21: 87133.5\n",
      "Loss after epoch 22: 85295.75\n",
      "Loss after epoch 23: 83619.75\n",
      "Loss after epoch 24: 81798.5\n",
      "Loss after epoch 25: 80818.0\n",
      "Loss after epoch 26: 79195.75\n",
      "Loss after epoch 27: 78869.75\n",
      "Loss after epoch 28: 77306.25\n",
      "Loss after epoch 29: 77284.25\n",
      "Loss after epoch 30: 75375.5\n",
      "Loss after epoch 31: 74668.25\n",
      "Loss after epoch 32: 75422.25\n",
      "Loss after epoch 33: 73698.25\n",
      "Loss after epoch 34: 72665.25\n",
      "Loss after epoch 35: 72336.5\n",
      "Loss after epoch 36: 71579.0\n",
      "Loss after epoch 37: 71153.0\n",
      "Loss after epoch 38: 71052.0\n",
      "Loss after epoch 39: 70600.75\n",
      "Loss after epoch 40: 70441.25\n",
      "Loss after epoch 41: 70407.5\n",
      "Loss after epoch 42: 64816.5\n",
      "Loss after epoch 43: 64689.5\n",
      "Loss after epoch 44: 64297.5\n",
      "Loss after epoch 45: 63819.0\n",
      "Loss after epoch 46: 63644.0\n",
      "Loss after epoch 47: 63554.0\n",
      "Loss after epoch 48: 63658.0\n",
      "Loss after epoch 49: 63787.0\n",
      "Loss after epoch 50: 62782.0\n",
      "Loss after epoch 51: 62686.5\n",
      "Loss after epoch 52: 63478.0\n",
      "Loss after epoch 53: 63387.5\n",
      "Loss after epoch 54: 62717.0\n",
      "Loss after epoch 55: 62912.0\n",
      "Loss after epoch 56: 62552.5\n",
      "Loss after epoch 57: 62089.5\n",
      "Loss after epoch 58: 61604.0\n",
      "Loss after epoch 59: 61494.0\n",
      "Loss after epoch 60: 61147.0\n",
      "Loss after epoch 61: 61206.0\n",
      "Loss after epoch 62: 60971.5\n",
      "Loss after epoch 63: 60938.5\n",
      "Loss after epoch 64: 60452.0\n",
      "Loss after epoch 65: 60822.0\n",
      "Loss after epoch 66: 60246.5\n",
      "Loss after epoch 67: 60079.0\n",
      "Loss after epoch 68: 60862.5\n",
      "Loss after epoch 69: 60821.0\n"
     ]
    },
    {
     "data": {
      "text/plain": [
       "(2519335, 3386040)"
      ]
     },
     "execution_count": 651,
     "metadata": {},
     "output_type": "execute_result"
    }
   ],
   "source": [
    "w2v_model.train(sentence_tokens,\n",
    "                 total_examples=w2v_model.corpus_count,\n",
    "                 epochs=70,\n",
    "                 compute_loss = True,\n",
    "                 callbacks=[callback()]\n",
    "                 )"
   ]
  },
  {
   "cell_type": "markdown",
   "id": "26286f5b",
   "metadata": {},
   "source": [
    "## Pruebas"
   ]
  },
  {
   "cell_type": "code",
   "execution_count": 652,
   "id": "bab345fd",
   "metadata": {},
   "outputs": [
    {
     "data": {
      "text/plain": [
       "[('diary', 0.5156921744346619),\n",
       " ('pages', 0.4975886046886444),\n",
       " ('attempt', 0.48804399371147156),\n",
       " ('forget', 0.4830606281757355),\n",
       " ('sinister', 0.4803135395050049),\n",
       " ('page', 0.47424671053886414),\n",
       " ('knight', 0.46670621633529663),\n",
       " ('complete', 0.453093945980072),\n",
       " ('seal', 0.4484965205192566),\n",
       " ('recover', 0.4385552704334259)]"
      ]
     },
     "execution_count": 652,
     "metadata": {},
     "output_type": "execute_result"
    }
   ],
   "source": [
    "w2v_model.wv.most_similar(positive=[\"grail\"], topn=10)"
   ]
  },
  {
   "cell_type": "markdown",
   "id": "c50130a4",
   "metadata": {},
   "source": [
    "En este caso podemos ver como la palabra que mas correlación tiene con Grial es Diario, en la pelicula \"Indiana Jones y la última cruzada\", se menciona varias veces al diario del grial donde estaba la información de como encontrarlo. "
   ]
  },
  {
   "cell_type": "code",
   "execution_count": 653,
   "id": "ed107869",
   "metadata": {},
   "outputs": [
    {
     "data": {
      "text/plain": [
       "[('covenant', 0.5625528693199158),\n",
       " ('crated', 0.5050292015075684),\n",
       " ('poles', 0.4918130338191986),\n",
       " ('lid', 0.4378407299518585),\n",
       " ('rod', 0.4051535725593567),\n",
       " ('press', 0.3915233016014099),\n",
       " ('tightly', 0.3901362121105194),\n",
       " ('arrives', 0.3874222934246063),\n",
       " ('means', 0.37635865807533264),\n",
       " ('engines', 0.37488287687301636)]"
      ]
     },
     "execution_count": 653,
     "metadata": {},
     "output_type": "execute_result"
    }
   ],
   "source": [
    "w2v_model.wv.most_similar(positive=[\"ark\"], topn=10)"
   ]
  },
  {
   "cell_type": "markdown",
   "id": "f8667c76",
   "metadata": {},
   "source": [
    "En \"Indiana Jones y los cazadores del arca perdida\" la famosa arca se llama \"el arca de la alianza\" por eso la mejor correlación es con esa palabra."
   ]
  },
  {
   "cell_type": "code",
   "execution_count": 654,
   "id": "81dace33",
   "metadata": {},
   "outputs": [
    {
     "data": {
      "text/plain": [
       "[('stones', 0.7111768126487732),\n",
       " ('stolen', 0.6432360410690308),\n",
       " ('sacred', 0.6325927376747131),\n",
       " ('bag', 0.605593204498291),\n",
       " ('jai', 0.5913146138191223),\n",
       " ('brothers', 0.5691648125648499),\n",
       " ('magical', 0.5669886469841003),\n",
       " ('goddess', 0.5587189197540283),\n",
       " ('gave', 0.5460003018379211),\n",
       " ('legend', 0.5295838117599487)]"
      ]
     },
     "execution_count": 654,
     "metadata": {},
     "output_type": "execute_result"
    }
   ],
   "source": [
    "w2v_model.wv.most_similar(positive=[\"sankara\"], topn=10)"
   ]
  },
  {
   "cell_type": "markdown",
   "id": "a6e4bfd6",
   "metadata": {},
   "source": [
    "En \"Indiana Jones y el templo de la pedición\" el objeto que Indy debe rescatar era la Piedra de Sankara, que eran unas piedras sagradas."
   ]
  },
  {
   "cell_type": "code",
   "execution_count": 655,
   "id": "dae127db",
   "metadata": {},
   "outputs": [
    {
     "data": {
      "text/plain": [
       "[('interrupting', 0.06017148494720459),\n",
       " ('overlapping', 0.05369008705019951),\n",
       " ('makes', 0.052955880761146545),\n",
       " ('maybe', 0.02730393595993519),\n",
       " ('subtitled', 0.02716737985610962),\n",
       " ('matter', 0.026056069880723953),\n",
       " ('opening', 0.004290498793125153),\n",
       " ('picks', -1.647691533435136e-05),\n",
       " ('dad', -0.004436542745679617),\n",
       " ('drinks', -0.007190534844994545)]"
      ]
     },
     "execution_count": 655,
     "metadata": {},
     "output_type": "execute_result"
    }
   ],
   "source": [
    "w2v_model.wv.most_similar(negative=[\"boulder\"], topn=10)"
   ]
  },
  {
   "cell_type": "markdown",
   "id": "54aead4b",
   "metadata": {},
   "source": [
    "Para la relación inversa no es que se detecten antonimos, sino palabras que no estan muy relacionadas en el espacio del embedding. No podemos sacar mucha conclusión del ejemplo."
   ]
  },
  {
   "cell_type": "markdown",
   "id": "1c14a205",
   "metadata": {},
   "source": [
    "## Visualizar agrupación de vectores"
   ]
  },
  {
   "cell_type": "code",
   "execution_count": 656,
   "id": "138886b6",
   "metadata": {},
   "outputs": [
    {
     "data": {
      "application/vnd.plotly.v1+json": {
       "config": {
        "plotlyServerURL": "https://plot.ly"
       },
       "data": [
        {
         "hovertemplate": "Tipo de palabra=blue<br>x=%{x}<br>y=%{y}<br>text=%{text}<extra></extra>",
         "legendgroup": "blue",
         "marker": {
          "color": "#636efa",
          "symbol": "circle"
         },
         "mode": "markers+text",
         "name": "blue",
         "orientation": "v",
         "showlegend": true,
         "text": [
          "crashes",
          "even",
          "forget",
          "wind",
          "smashes",
          "glass",
          "picks",
          "periscope",
          "breaks",
          "hard",
          "black",
          "behind",
          "puts",
          "full",
          "walls",
          "pankot",
          "exchange",
          "marcus",
          "sallah",
          "lifts",
          "bag",
          "hands",
          "suddenly",
          "pushes",
          "press",
          "water",
          "donovan",
          "comes",
          "pull",
          "goes",
          "beyond",
          "see",
          "ram's",
          "fingers",
          "follow",
          "seal",
          "lal",
          "hat",
          "hears",
          "finds",
          "finally",
          "means",
          "death",
          "hits",
          "flame",
          "shoulder",
          "kazim",
          "seen",
          "thank",
          "kali",
          "mine",
          "want",
          "legend",
          "nothing",
          "seems",
          "that's",
          "covenant",
          "captain",
          "worried",
          "palace",
          "talk",
          "something",
          "much",
          "old",
          "kill",
          "face",
          "temple",
          "head",
          "stares",
          "suite",
          "almost",
          "plane",
          "village",
          "tell",
          "got",
          "leather",
          "going",
          "torch",
          "ram",
          "rushes",
          "father",
          "rear",
          "shoots",
          "inside",
          "machine",
          "crated",
          "lid",
          "make",
          "toward",
          "time",
          "there's",
          "arab",
          "driver",
          "hit",
          "enters",
          "around",
          "onto",
          "truck",
          "train",
          "mouth",
          "stones",
          "entrance",
          "day",
          "falls",
          "city",
          "control",
          "children",
          "room",
          "keep",
          "belzig",
          "knew",
          "blood",
          "neck",
          "belloq",
          "ground",
          "elephants",
          "bullwhip",
          "looks",
          "lights",
          "desert",
          "let's",
          "can't",
          "henry",
          "move",
          "burning",
          "said",
          "three",
          "indy",
          "men",
          "closer",
          "made",
          "air",
          "small",
          "foot",
          "leaps",
          "life",
          "soldier",
          "floor",
          "away",
          "climbs",
          "priest",
          "swings",
          "stop",
          "slips",
          "kicks",
          "rock",
          "magical",
          "way",
          "dead",
          "step",
          "direction",
          "tunnel",
          "still",
          "arm",
          "gong",
          "frame",
          "shaman",
          "doctor",
          "yes",
          "pages",
          "roof",
          "right",
          "rod",
          "rolls",
          "together",
          "help",
          "knocks",
          "page",
          "ahead",
          "jumps",
          "let",
          "break",
          "sound",
          "tracks",
          "feet",
          "trying",
          "people",
          "across",
          "glances",
          "gives",
          "slides",
          "indy's",
          "years",
          "boat",
          "sword",
          "gave",
          "get",
          "spot",
          "moving",
          "drops",
          "hey",
          "pulls",
          "museum",
          "light",
          "fall",
          "sinister",
          "bullets",
          "wrong",
          "holds",
          "fire",
          "halfbreed",
          "big",
          "platform",
          "holding",
          "would",
          "tabernacle",
          "ext",
          "tightly",
          "goddess",
          "box",
          "must",
          "cut",
          "place",
          "castle",
          "walks",
          "nazi",
          "eaton",
          "dust",
          "spins",
          "okay",
          "center",
          "fedora",
          "reaches",
          "yells",
          "knows",
          "notices",
          "bar",
          "last",
          "thuggee",
          "take",
          "believe",
          "hole",
          "watch",
          "approaches",
          "steps",
          "car",
          "find",
          "work",
          "along",
          "stands",
          "close",
          "shakes",
          "marion",
          "monkey",
          "smoke",
          "cars",
          "half",
          "fast",
          "indiana",
          "wheel",
          "clear",
          "street",
          "side",
          "god",
          "arrives",
          "meanwhile",
          "attempt",
          "brody",
          "whip",
          "slowly",
          "armed",
          "map",
          "oh",
          "open",
          "dad",
          "diary",
          "guard",
          "forward",
          "seat",
          "attention",
          "say",
          "white",
          "lost",
          "gun",
          "think",
          "huge",
          "mountain",
          "moves",
          "good",
          "night",
          "explodes",
          "horse",
          "flames",
          "brought",
          "cliff",
          "strange",
          "others",
          "deck",
          "what's",
          "sees",
          "bad",
          "statue",
          "leave",
          "tank",
          "man",
          "sits",
          "brothers",
          "turns",
          "beat",
          "runs",
          "jones",
          "smiling",
          "elsa",
          "int",
          "vogel",
          "hold",
          "watches",
          "altar",
          "giant",
          "wait",
          "ceiling",
          "oil",
          "table",
          "smile",
          "lava",
          "walk",
          "hok's",
          "new",
          "stolen",
          "dr",
          "bottom",
          "little",
          "square",
          "tries",
          "staff",
          "smiles",
          "door",
          "stops",
          "raises",
          "coming",
          "willie",
          "tall",
          "start",
          "window",
          "moment",
          "wide",
          "past",
          "sight",
          "evil",
          "snakes",
          "could",
          "grabs",
          "sun",
          "roscoe",
          "stand",
          "disappears",
          "points",
          "takes",
          "turn",
          "lao",
          "cockpit",
          "venice",
          "left",
          "ever",
          "rocks",
          "know",
          "book",
          "nazis",
          "well",
          "maharajah",
          "appears",
          "engines",
          "river",
          "screams",
          "shouts",
          "empty",
          "follows",
          "round",
          "already",
          "line",
          "several",
          "raft",
          "wall",
          "crevasse",
          "looking",
          "end",
          "back",
          "flying",
          "front",
          "junior",
          "top",
          "flies",
          "directly",
          "eyes",
          "nods",
          "thought",
          "never",
          "sacred",
          "pilot",
          "like",
          "pistol",
          "go",
          "five",
          "first",
          "two",
          "poles",
          "long",
          "boy",
          "hanging",
          "starts",
          "please",
          "heads",
          "rope",
          "lead",
          "running",
          "run",
          "road",
          "leans",
          "body",
          "willie's",
          "quickly",
          "dives",
          "immediately",
          "begins",
          "cavern",
          "piece",
          "give",
          "satipo",
          "snake",
          "tent",
          "chamber",
          "show",
          "stone",
          "far",
          "short",
          "makes",
          "taking",
          "shorty",
          "cross",
          "beneath",
          "blumburtt",
          "throws",
          "arms",
          "next",
          "wooden",
          "pulling",
          "begin",
          "hall",
          "belt",
          "put",
          "speaks",
          "shliemann",
          "pocket",
          "guns",
          "pain",
          "narrow",
          "gobler",
          "pass",
          "mola",
          "chattar",
          "enough",
          "large",
          "hand",
          "jacket",
          "guards",
          "gold",
          "near",
          "another",
          "kid",
          "come",
          "us",
          "four",
          "reach",
          "shot",
          "corner",
          "high",
          "drink",
          "fires",
          "one",
          "dark",
          "look",
          "rush",
          "knight",
          "complete",
          "bridge",
          "edge",
          "brake",
          "gets",
          "elephant",
          "recover",
          "yet",
          "enormous",
          "soldiers",
          "quick",
          "capt",
          "friend",
          "continues",
          "found",
          "view",
          "chinese",
          "ten",
          "hear",
          "german",
          "heavy",
          "jai",
          "second",
          "opens"
         ],
         "textposition": "top center",
         "type": "scatter",
         "x": {
          "bdata": "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",
          "dtype": "f4"
         },
         "xaxis": "x",
         "y": {
          "bdata": "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",
          "dtype": "f4"
         },
         "yaxis": "y"
        },
        {
         "hovertemplate": "Tipo de palabra=red<br>x=%{x}<br>y=%{y}<br>text=%{text}<extra></extra>",
         "legendgroup": "red",
         "marker": {
          "color": "#EF553B",
          "symbol": "circle"
         },
         "mode": "markers+text",
         "name": "red",
         "orientation": "v",
         "showlegend": true,
         "text": [
          "sankara",
          "grail",
          "ark"
         ],
         "textposition": "top center",
         "type": "scatter",
         "x": {
          "bdata": "2m2twcjFKcGDF5PB",
          "dtype": "f4"
         },
         "xaxis": "x",
         "y": {
          "bdata": "06HmwGAA0j+xwb4/",
          "dtype": "f4"
         },
         "yaxis": "y"
        }
       ],
       "layout": {
        "legend": {
         "title": {
          "text": "Tipo de palabra"
         },
         "tracegroupgap": 0
        },
        "margin": {
         "t": 60
        },
        "template": {
         "data": {
          "bar": [
           {
            "error_x": {
             "color": "#2a3f5f"
            },
            "error_y": {
             "color": "#2a3f5f"
            },
            "marker": {
             "line": {
              "color": "#E5ECF6",
              "width": 0.5
             },
             "pattern": {
              "fillmode": "overlay",
              "size": 10,
              "solidity": 0.2
             }
            },
            "type": "bar"
           }
          ],
          "barpolar": [
           {
            "marker": {
             "line": {
              "color": "#E5ECF6",
              "width": 0.5
             },
             "pattern": {
              "fillmode": "overlay",
              "size": 10,
              "solidity": 0.2
             }
            },
            "type": "barpolar"
           }
          ],
          "carpet": [
           {
            "aaxis": {
             "endlinecolor": "#2a3f5f",
             "gridcolor": "white",
             "linecolor": "white",
             "minorgridcolor": "white",
             "startlinecolor": "#2a3f5f"
            },
            "baxis": {
             "endlinecolor": "#2a3f5f",
             "gridcolor": "white",
             "linecolor": "white",
             "minorgridcolor": "white",
             "startlinecolor": "#2a3f5f"
            },
            "type": "carpet"
           }
          ],
          "choropleth": [
           {
            "colorbar": {
             "outlinewidth": 0,
             "ticks": ""
            },
            "type": "choropleth"
           }
          ],
          "contour": [
           {
            "colorbar": {
             "outlinewidth": 0,
             "ticks": ""
            },
            "colorscale": [
             [
              0,
              "#0d0887"
             ],
             [
              0.1111111111111111,
              "#46039f"
             ],
             [
              0.2222222222222222,
              "#7201a8"
             ],
             [
              0.3333333333333333,
              "#9c179e"
             ],
             [
              0.4444444444444444,
              "#bd3786"
             ],
             [
              0.5555555555555556,
              "#d8576b"
             ],
             [
              0.6666666666666666,
              "#ed7953"
             ],
             [
              0.7777777777777778,
              "#fb9f3a"
             ],
             [
              0.8888888888888888,
              "#fdca26"
             ],
             [
              1,
              "#f0f921"
             ]
            ],
            "type": "contour"
           }
          ],
          "contourcarpet": [
           {
            "colorbar": {
             "outlinewidth": 0,
             "ticks": ""
            },
            "type": "contourcarpet"
           }
          ],
          "heatmap": [
           {
            "colorbar": {
             "outlinewidth": 0,
             "ticks": ""
            },
            "colorscale": [
             [
              0,
              "#0d0887"
             ],
             [
              0.1111111111111111,
              "#46039f"
             ],
             [
              0.2222222222222222,
              "#7201a8"
             ],
             [
              0.3333333333333333,
              "#9c179e"
             ],
             [
              0.4444444444444444,
              "#bd3786"
             ],
             [
              0.5555555555555556,
              "#d8576b"
             ],
             [
              0.6666666666666666,
              "#ed7953"
             ],
             [
              0.7777777777777778,
              "#fb9f3a"
             ],
             [
              0.8888888888888888,
              "#fdca26"
             ],
             [
              1,
              "#f0f921"
             ]
            ],
            "type": "heatmap"
           }
          ],
          "histogram": [
           {
            "marker": {
             "pattern": {
              "fillmode": "overlay",
              "size": 10,
              "solidity": 0.2
             }
            },
            "type": "histogram"
           }
          ],
          "histogram2d": [
           {
            "colorbar": {
             "outlinewidth": 0,
             "ticks": ""
            },
            "colorscale": [
             [
              0,
              "#0d0887"
             ],
             [
              0.1111111111111111,
              "#46039f"
             ],
             [
              0.2222222222222222,
              "#7201a8"
             ],
             [
              0.3333333333333333,
              "#9c179e"
             ],
             [
              0.4444444444444444,
              "#bd3786"
             ],
             [
              0.5555555555555556,
              "#d8576b"
             ],
             [
              0.6666666666666666,
              "#ed7953"
             ],
             [
              0.7777777777777778,
              "#fb9f3a"
             ],
             [
              0.8888888888888888,
              "#fdca26"
             ],
             [
              1,
              "#f0f921"
             ]
            ],
            "type": "histogram2d"
           }
          ],
          "histogram2dcontour": [
           {
            "colorbar": {
             "outlinewidth": 0,
             "ticks": ""
            },
            "colorscale": [
             [
              0,
              "#0d0887"
             ],
             [
              0.1111111111111111,
              "#46039f"
             ],
             [
              0.2222222222222222,
              "#7201a8"
             ],
             [
              0.3333333333333333,
              "#9c179e"
             ],
             [
              0.4444444444444444,
              "#bd3786"
             ],
             [
              0.5555555555555556,
              "#d8576b"
             ],
             [
              0.6666666666666666,
              "#ed7953"
             ],
             [
              0.7777777777777778,
              "#fb9f3a"
             ],
             [
              0.8888888888888888,
              "#fdca26"
             ],
             [
              1,
              "#f0f921"
             ]
            ],
            "type": "histogram2dcontour"
           }
          ],
          "mesh3d": [
           {
            "colorbar": {
             "outlinewidth": 0,
             "ticks": ""
            },
            "type": "mesh3d"
           }
          ],
          "parcoords": [
           {
            "line": {
             "colorbar": {
              "outlinewidth": 0,
              "ticks": ""
             }
            },
            "type": "parcoords"
           }
          ],
          "pie": [
           {
            "automargin": true,
            "type": "pie"
           }
          ],
          "scatter": [
           {
            "fillpattern": {
             "fillmode": "overlay",
             "size": 10,
             "solidity": 0.2
            },
            "type": "scatter"
           }
          ],
          "scatter3d": [
           {
            "line": {
             "colorbar": {
              "outlinewidth": 0,
              "ticks": ""
             }
            },
            "marker": {
             "colorbar": {
              "outlinewidth": 0,
              "ticks": ""
             }
            },
            "type": "scatter3d"
           }
          ],
          "scattercarpet": [
           {
            "marker": {
             "colorbar": {
              "outlinewidth": 0,
              "ticks": ""
             }
            },
            "type": "scattercarpet"
           }
          ],
          "scattergeo": [
           {
            "marker": {
             "colorbar": {
              "outlinewidth": 0,
              "ticks": ""
             }
            },
            "type": "scattergeo"
           }
          ],
          "scattergl": [
           {
            "marker": {
             "colorbar": {
              "outlinewidth": 0,
              "ticks": ""
             }
            },
            "type": "scattergl"
           }
          ],
          "scattermap": [
           {
            "marker": {
             "colorbar": {
              "outlinewidth": 0,
              "ticks": ""
             }
            },
            "type": "scattermap"
           }
          ],
          "scattermapbox": [
           {
            "marker": {
             "colorbar": {
              "outlinewidth": 0,
              "ticks": ""
             }
            },
            "type": "scattermapbox"
           }
          ],
          "scatterpolar": [
           {
            "marker": {
             "colorbar": {
              "outlinewidth": 0,
              "ticks": ""
             }
            },
            "type": "scatterpolar"
           }
          ],
          "scatterpolargl": [
           {
            "marker": {
             "colorbar": {
              "outlinewidth": 0,
              "ticks": ""
             }
            },
            "type": "scatterpolargl"
           }
          ],
          "scatterternary": [
           {
            "marker": {
             "colorbar": {
              "outlinewidth": 0,
              "ticks": ""
             }
            },
            "type": "scatterternary"
           }
          ],
          "surface": [
           {
            "colorbar": {
             "outlinewidth": 0,
             "ticks": ""
            },
            "colorscale": [
             [
              0,
              "#0d0887"
             ],
             [
              0.1111111111111111,
              "#46039f"
             ],
             [
              0.2222222222222222,
              "#7201a8"
             ],
             [
              0.3333333333333333,
              "#9c179e"
             ],
             [
              0.4444444444444444,
              "#bd3786"
             ],
             [
              0.5555555555555556,
              "#d8576b"
             ],
             [
              0.6666666666666666,
              "#ed7953"
             ],
             [
              0.7777777777777778,
              "#fb9f3a"
             ],
             [
              0.8888888888888888,
              "#fdca26"
             ],
             [
              1,
              "#f0f921"
             ]
            ],
            "type": "surface"
           }
          ],
          "table": [
           {
            "cells": {
             "fill": {
              "color": "#EBF0F8"
             },
             "line": {
              "color": "white"
             }
            },
            "header": {
             "fill": {
              "color": "#C8D4E3"
             },
             "line": {
              "color": "white"
             }
            },
            "type": "table"
           }
          ]
         },
         "layout": {
          "annotationdefaults": {
           "arrowcolor": "#2a3f5f",
           "arrowhead": 0,
           "arrowwidth": 1
          },
          "autotypenumbers": "strict",
          "coloraxis": {
           "colorbar": {
            "outlinewidth": 0,
            "ticks": ""
           }
          },
          "colorscale": {
           "diverging": [
            [
             0,
             "#8e0152"
            ],
            [
             0.1,
             "#c51b7d"
            ],
            [
             0.2,
             "#de77ae"
            ],
            [
             0.3,
             "#f1b6da"
            ],
            [
             0.4,
             "#fde0ef"
            ],
            [
             0.5,
             "#f7f7f7"
            ],
            [
             0.6,
             "#e6f5d0"
            ],
            [
             0.7,
             "#b8e186"
            ],
            [
             0.8,
             "#7fbc41"
            ],
            [
             0.9,
             "#4d9221"
            ],
            [
             1,
             "#276419"
            ]
           ],
           "sequential": [
            [
             0,
             "#0d0887"
            ],
            [
             0.1111111111111111,
             "#46039f"
            ],
            [
             0.2222222222222222,
             "#7201a8"
            ],
            [
             0.3333333333333333,
             "#9c179e"
            ],
            [
             0.4444444444444444,
             "#bd3786"
            ],
            [
             0.5555555555555556,
             "#d8576b"
            ],
            [
             0.6666666666666666,
             "#ed7953"
            ],
            [
             0.7777777777777778,
             "#fb9f3a"
            ],
            [
             0.8888888888888888,
             "#fdca26"
            ],
            [
             1,
             "#f0f921"
            ]
           ],
           "sequentialminus": [
            [
             0,
             "#0d0887"
            ],
            [
             0.1111111111111111,
             "#46039f"
            ],
            [
             0.2222222222222222,
             "#7201a8"
            ],
            [
             0.3333333333333333,
             "#9c179e"
            ],
            [
             0.4444444444444444,
             "#bd3786"
            ],
            [
             0.5555555555555556,
             "#d8576b"
            ],
            [
             0.6666666666666666,
             "#ed7953"
            ],
            [
             0.7777777777777778,
             "#fb9f3a"
            ],
            [
             0.8888888888888888,
             "#fdca26"
            ],
            [
             1,
             "#f0f921"
            ]
           ]
          },
          "colorway": [
           "#636efa",
           "#EF553B",
           "#00cc96",
           "#ab63fa",
           "#FFA15A",
           "#19d3f3",
           "#FF6692",
           "#B6E880",
           "#FF97FF",
           "#FECB52"
          ],
          "font": {
           "color": "#2a3f5f"
          },
          "geo": {
           "bgcolor": "white",
           "lakecolor": "white",
           "landcolor": "#E5ECF6",
           "showlakes": true,
           "showland": true,
           "subunitcolor": "white"
          },
          "hoverlabel": {
           "align": "left"
          },
          "hovermode": "closest",
          "mapbox": {
           "style": "light"
          },
          "paper_bgcolor": "white",
          "plot_bgcolor": "#E5ECF6",
          "polar": {
           "angularaxis": {
            "gridcolor": "white",
            "linecolor": "white",
            "ticks": ""
           },
           "bgcolor": "#E5ECF6",
           "radialaxis": {
            "gridcolor": "white",
            "linecolor": "white",
            "ticks": ""
           }
          },
          "scene": {
           "xaxis": {
            "backgroundcolor": "#E5ECF6",
            "gridcolor": "white",
            "gridwidth": 2,
            "linecolor": "white",
            "showbackground": true,
            "ticks": "",
            "zerolinecolor": "white"
           },
           "yaxis": {
            "backgroundcolor": "#E5ECF6",
            "gridcolor": "white",
            "gridwidth": 2,
            "linecolor": "white",
            "showbackground": true,
            "ticks": "",
            "zerolinecolor": "white"
           },
           "zaxis": {
            "backgroundcolor": "#E5ECF6",
            "gridcolor": "white",
            "gridwidth": 2,
            "linecolor": "white",
            "showbackground": true,
            "ticks": "",
            "zerolinecolor": "white"
           }
          },
          "shapedefaults": {
           "line": {
            "color": "#2a3f5f"
           }
          },
          "ternary": {
           "aaxis": {
            "gridcolor": "white",
            "linecolor": "white",
            "ticks": ""
           },
           "baxis": {
            "gridcolor": "white",
            "linecolor": "white",
            "ticks": ""
           },
           "bgcolor": "#E5ECF6",
           "caxis": {
            "gridcolor": "white",
            "linecolor": "white",
            "ticks": ""
           }
          },
          "title": {
           "x": 0.05
          },
          "xaxis": {
           "automargin": true,
           "gridcolor": "white",
           "linecolor": "white",
           "ticks": "",
           "title": {
            "standoff": 15
           },
           "zerolinecolor": "white",
           "zerolinewidth": 2
          },
          "yaxis": {
           "automargin": true,
           "gridcolor": "white",
           "linecolor": "white",
           "ticks": "",
           "title": {
            "standoff": 15
           },
           "zerolinecolor": "white",
           "zerolinewidth": 2
          }
         }
        },
        "xaxis": {
         "anchor": "y",
         "domain": [
          0,
          1
         ],
         "title": {
          "text": "x"
         }
        },
        "yaxis": {
         "anchor": "x",
         "domain": [
          0,
          1
         ],
         "title": {
          "text": "y"
         }
        }
       }
      }
     },
     "metadata": {},
     "output_type": "display_data"
    }
   ],
   "source": [
    "vecs, labels = reduce_dimensions(w2v_model)\n",
    "\n",
    "MAX_WORDS=500\n",
    "plot_embeddings(w2v_model, vecs, labels, MAX_WORDS, highlight_words=[\"grail\",\"ark\",\"sankara\"])"
   ]
  },
  {
   "cell_type": "code",
   "execution_count": 657,
   "id": "4374bc39",
   "metadata": {},
   "outputs": [
    {
     "data": {
      "application/vnd.plotly.v1+json": {
       "config": {
        "plotlyServerURL": "https://plot.ly"
       },
       "data": [
        {
         "hovertemplate": "Tipo de palabra=blue<br>x=%{x}<br>y=%{y}<br>z=%{z}<br>text=%{text}<extra></extra>",
         "legendgroup": "blue",
         "marker": {
          "color": "#636efa",
          "size": 2,
          "symbol": "circle"
         },
         "mode": "markers+text",
         "name": "blue",
         "scene": "scene",
         "showlegend": true,
         "text": [
          "dad",
          "diary",
          "forget",
          "like",
          "wind",
          "life",
          "floor",
          "away",
          "guard",
          "forward",
          "go",
          "behind",
          "rock",
          "magical",
          "puts",
          "way",
          "gun",
          "first",
          "think",
          "two",
          "poles",
          "long",
          "huge",
          "moves",
          "starts",
          "night",
          "tunnel",
          "still",
          "sallah",
          "run",
          "road",
          "bag",
          "hands",
          "suddenly",
          "quickly",
          "press",
          "water",
          "donovan",
          "begins",
          "pages",
          "sees",
          "right",
          "comes",
          "satipo",
          "rod",
          "see",
          "seal",
          "page",
          "man",
          "tank",
          "jumps",
          "brothers",
          "turns",
          "lal",
          "runs",
          "hat",
          "jones",
          "feet",
          "chamber",
          "finally",
          "across",
          "stone",
          "means",
          "elsa",
          "short",
          "indy's",
          "shorty",
          "cross",
          "int",
          "vogel",
          "gave",
          "watches",
          "altar",
          "hold",
          "giant",
          "table",
          "get",
          "mine",
          "want",
          "legend",
          "next",
          "pulls",
          "that's",
          "covenant",
          "palace",
          "something",
          "old",
          "light",
          "face",
          "sinister",
          "temple",
          "head",
          "stolen",
          "shliemann",
          "holds",
          "fire",
          "plane",
          "little",
          "got",
          "would",
          "ext",
          "tightly",
          "smiles",
          "door",
          "goddess",
          "going",
          "cut",
          "ram",
          "stops",
          "mola",
          "chattar",
          "walks",
          "inside",
          "willie",
          "crated",
          "nazi",
          "hand",
          "lid",
          "guards",
          "start",
          "toward",
          "another",
          "time",
          "window",
          "moment",
          "past",
          "come",
          "grabs",
          "around",
          "us",
          "fedora",
          "reaches",
          "onto",
          "truck",
          "air",
          "stones",
          "last",
          "day",
          "falls",
          "take",
          "hole",
          "takes",
          "high",
          "steps",
          "children",
          "car",
          "one",
          "lao",
          "room",
          "dark",
          "know",
          "nazis",
          "along",
          "belzig",
          "well",
          "stands",
          "look",
          "maharajah",
          "knight",
          "engines",
          "complete",
          "belloq",
          "bridge",
          "marion",
          "gets",
          "screams",
          "recover",
          "opens",
          "looks",
          "henry",
          "indiana",
          "move",
          "round",
          "side",
          "wall",
          "god",
          "looking",
          "end",
          "arrives",
          "attempt",
          "back",
          "brody",
          "indy",
          "whip",
          "three",
          "men",
          "slowly",
          "front",
          "german",
          "top",
          "jai",
          "oh",
          "second",
          "small",
          "eyes",
          "open",
          "sacred"
         ],
         "textposition": "top center",
         "type": "scatter3d",
         "x": {
          "bdata": "ivzDQGUmVUJ+kXFBTKQ4Qmo4vUHmSEVCBm1bwXgidsIbaFjCt8ViQuzWBkIfovHBxz2XwVGkcMGSxy1ClpueQV9zHMIvfaDBOQqwQYZbs8HlZDNC8XQgQLTGBsLQPtpB1/PMv1ympsHMgOrB893gQUmc1sDRdmbCawuwwYWwo8GcjF9B0effwCtLO0Gz+yhCPvQPwqMlP0Gz305C4YA9QgggscEoe4dBffV+wcwyqsFVcN9Bafl9QRK/iUGfxUNChgkNQvBhDcJK52LCISFowaUatMEqegZBE81Zwo+LOUKxanZBsLeQQTmOhMFHAQvBiRWxQMzlAL+3ASJCn1aMwLx1QkJ8VbtBi/lVwArTBkGR5RBC3IiZwdzTXsGD52ZBmo+Uwe5zKr8zpfXBVrR1QdZl+UGV9wPCSFTVQQwj+MA2xxZB3w1CQipO50FMBC9CwNORwAap4kHQQWy/BrzcQHUMukBvcQBCi103wdec3UGeXYDB6Z/ZvtWADUItn1TCe+YLQvV1FUJUgw9BU+7fQcxrF0Iz9B9C0N9VQfIIg8Fp6c/Bqd2YQTDSvsEkmtZBe1Udwfqh50E+SBZB+rqhQLAuyUFLDPjATRQmQsDuv8HlpndC4FUwQoLXVsE/yQHC14w6wtnwxcEFn2Y/vQNFQmecqsB4DILAY1LdvwE96j4mu0jBWY+/QbeQH0JKxLVB0lsuwhpdmEDdIg7CYjaxwaU5TsFHZR5ChjozwuS8yL8vZenBPP8IQrg7j0GBeU/CABg1wZohCcIoJI/APioFQqZXU8HyVfbAW5WsQUaYHsInRvZAhl6MwMOYCr/arW3BeLNoQtDbEEJ7FBRCVTkJQojnBz/1BPu+isNNwrxDk0BTvPXAUlZnQRbb+kEy86pAwGSAQJu6l0CxUwDBDFW7QdHoQkIzRUTCbLg5wriz0kEDDSZCjdwiwcgi4UBQMhFCyS8Qwfw9McHYx/zAuDorQm/blcFVIAPCSgg7QWheJkEe6Z5AzLxQQU1pycFV+L5BlJ27wUSRo8HlJhBCmD0YQkHUc8E=",
          "dtype": "f4"
         },
         "y": {
          "bdata": "L5suwd23cEH9pPjALWCBwXdLAUKnuy6/0ckUQuKoSsEzdZ3BXOhZwb3b6r/FRL1BYk4vQjaTdkHs4SHAi1smwpmbKsJWw0DBx19nwM2pUMGt8f3AYkwtQtwKNsGTuVU/DYATwuSmfEGxg85Bw2RFQY3WFkHgPINBW8oGQiCmiUHIVYpB6iE2wYkUq0AGQaa/CjY8wYfPJkLk8vvAkFhlQctf2kHJxzlBnhmaQRAZ5EDwhBfC5F90QesFI8L+ditBXbkawnqp2UFoeYZBxLOKwBHoi8Hrh8jBGGKAQQh3sEBW6INBJ642wskVu0HrTKTBLNWlQc2hQkKOBVXAg6q8QR8Tn8GYZ7hBx3OlwV4nS0IryQBCI1QGwuA+ikBad1vB0A9WQapPhEGOYBE9V2NqwWBGC0HQwStCYZL7QOrodUFo6p/BdP/zwXciisFqaTvB7jTAQaARH8AlGcLAOjOdQYDWV0E849fBtvLkQaJHmkHnGBJBNnwSwhAMgsHRyKnBa4FPQVMtKME+TXrB665IwcvZ3kHIMSpBZPUkwQ5RJsIRGgpAQe7Vv1oBE0KUbRI8uBBHwqwkCb8hILTBJgE9wcevzkHke0lCShYZwdUT00HJH4jAg9OowCl53sEDWcXBLyhAPlCJNsEeePtATu6JQKWY+MBSx9/Bw6SewcWEQ8JZdQtC4nyFwST/I0HxvhbBdYP3wYJ7REAPkxHC6pMlQbYE7D8WCctBccOVwT3B2z860AHCV5+MQdWvF8Jt7QpCl4T8wfdiREL7maXAvJ2DwUNYX8LzW4ZBOpduQYKPj0DxTjjCbRJrweeE0kHeWI7BvV1VwYUmaD+VESDB2Gs9wX/FYEGjdjfBEQZUweN8EkGTGQTBN64KwLDaGsG6QeJB/5MxwPFOyECgMi5Cg/0UQpMmisGjrPLBgJ0YwH5Uy78a3pJBHgSWQSMOeEGehlDBpktewu0fEUJ7nnK+SApUQRmnrb+JiShCzkuxP2/wOcIyLKtByngsQpjPUEDO4KZAkTIGQpFmnUH/+QXBr0WvwRbjDkE=",
          "dtype": "f4"
         },
         "z": {
          "bdata": "T8QXQrOIz0D+W5VBkawOwmdJB0DQNhTCYLPNwUtJkkBvF5jBhmaMwaQPtUG225vBJ6QBQnBlCEKGZrbB8XBMwOKyJEGK3a1BoCEVQXyp60EUOs5B8V04wUmQpkAc4DrB5XUtwktIaUAcxdlB2aAnQe5py8FkxyxB1PrJQAXS/kEIH3TBcFS9wWpwT8H27ZNBvdcZwKebk8F3rk9BRTIAQSuORML++GfAR5z7wX6zDcJB9HtBtq1zQWUKOsGVMTNBoaq1QQbVYkHx2zjBRnK5QXcgTcLdJj3ClpicPkLIcMA4Q+5BHxmJQXUItsEZxjTCu33kwWsxyEEB1dxBLHBIwYV5fkFQw/PBhkoQwpy0w8HOCtZBJPI9wYVV7EFMoeDBKjpOwSODt8Ev9cXBwS4Nwt4fhEGXgi7BJsHZQI3dvUHm2bXB3QJnwVid2UFt06VBxoZdQSxiOz/Zc6RAWdmowfy+1sGbBD7B/cORwdTJGcGpHNlBgddlwQB2tsEZ1YpBLosFQvsqEsIm0vRBS4KkQQeQ/0GdxpU+yr8nwnXZC8KjTuBBJ7scQsLc3cHhjltC9DvswUdDU0JTjjXCrcIkwgrXkcAzsuzBgxffQVPMmkHqycFAuNSKQZtMEEJrsytCPoMVwkC2MMKLWBBCa2enQExkFcEy7uLBDPyrQbFq98GZFzDCdj+BQWKuxsGfT1vCWYa+wdnZakL+4C/BD3sRQpKvvkHCqO9BhpWzwSIpM8Da92vBsK/0wbZY40EQvyfAmXDvQfQ1kj/F73tCpO3ov9NHwMB7TUTBtqTQQZWYsEFpZ51BZTxUwcMpmUDuUGbCIofZwEnQGsLEE6I/EvEXQmGx/MBoBADBIXvewe/dysBmBRbCABQdwk0mjEDWx/3BX2F4whwQ+MHIyBfCK/gewp5oZUFXwyRBCtXmwQrS4EHSNBxCWyO/wZjsO8EhD7dALwVzwRN0i8Fr1GbBEJkCwlyO0UHWK8RBOfILwrx8EMLpilRCxEXbwbJL+EFsxAlCtfMDQulhvUFHv6/BPfCkwKg4AkI=",
          "dtype": "f4"
         }
        },
        {
         "hovertemplate": "Tipo de palabra=red<br>x=%{x}<br>y=%{y}<br>z=%{z}<br>text=%{text}<extra></extra>",
         "legendgroup": "red",
         "marker": {
          "color": "#EF553B",
          "size": 2,
          "symbol": "circle"
         },
         "mode": "markers+text",
         "name": "red",
         "scene": "scene",
         "showlegend": true,
         "text": [
          "ark",
          "sankara",
          "grail"
         ],
         "textposition": "top center",
         "type": "scatter3d",
         "x": {
          "bdata": "5OcrQtTdpMET3BtC",
          "dtype": "f4"
         },
         "y": {
          "bdata": "+YJlwfy6IUH/gBnB",
          "dtype": "f4"
         },
         "z": {
          "bdata": "C0i/QWHEA0KrYRFB",
          "dtype": "f4"
         }
        }
       ],
       "layout": {
        "legend": {
         "title": {
          "text": "Tipo de palabra"
         },
         "tracegroupgap": 0
        },
        "margin": {
         "t": 60
        },
        "scene": {
         "domain": {
          "x": [
           0,
           1
          ],
          "y": [
           0,
           1
          ]
         },
         "xaxis": {
          "title": {
           "text": "x"
          }
         },
         "yaxis": {
          "title": {
           "text": "y"
          }
         },
         "zaxis": {
          "title": {
           "text": "z"
          }
         }
        },
        "template": {
         "data": {
          "bar": [
           {
            "error_x": {
             "color": "#2a3f5f"
            },
            "error_y": {
             "color": "#2a3f5f"
            },
            "marker": {
             "line": {
              "color": "#E5ECF6",
              "width": 0.5
             },
             "pattern": {
              "fillmode": "overlay",
              "size": 10,
              "solidity": 0.2
             }
            },
            "type": "bar"
           }
          ],
          "barpolar": [
           {
            "marker": {
             "line": {
              "color": "#E5ECF6",
              "width": 0.5
             },
             "pattern": {
              "fillmode": "overlay",
              "size": 10,
              "solidity": 0.2
             }
            },
            "type": "barpolar"
           }
          ],
          "carpet": [
           {
            "aaxis": {
             "endlinecolor": "#2a3f5f",
             "gridcolor": "white",
             "linecolor": "white",
             "minorgridcolor": "white",
             "startlinecolor": "#2a3f5f"
            },
            "baxis": {
             "endlinecolor": "#2a3f5f",
             "gridcolor": "white",
             "linecolor": "white",
             "minorgridcolor": "white",
             "startlinecolor": "#2a3f5f"
            },
            "type": "carpet"
           }
          ],
          "choropleth": [
           {
            "colorbar": {
             "outlinewidth": 0,
             "ticks": ""
            },
            "type": "choropleth"
           }
          ],
          "contour": [
           {
            "colorbar": {
             "outlinewidth": 0,
             "ticks": ""
            },
            "colorscale": [
             [
              0,
              "#0d0887"
             ],
             [
              0.1111111111111111,
              "#46039f"
             ],
             [
              0.2222222222222222,
              "#7201a8"
             ],
             [
              0.3333333333333333,
              "#9c179e"
             ],
             [
              0.4444444444444444,
              "#bd3786"
             ],
             [
              0.5555555555555556,
              "#d8576b"
             ],
             [
              0.6666666666666666,
              "#ed7953"
             ],
             [
              0.7777777777777778,
              "#fb9f3a"
             ],
             [
              0.8888888888888888,
              "#fdca26"
             ],
             [
              1,
              "#f0f921"
             ]
            ],
            "type": "contour"
           }
          ],
          "contourcarpet": [
           {
            "colorbar": {
             "outlinewidth": 0,
             "ticks": ""
            },
            "type": "contourcarpet"
           }
          ],
          "heatmap": [
           {
            "colorbar": {
             "outlinewidth": 0,
             "ticks": ""
            },
            "colorscale": [
             [
              0,
              "#0d0887"
             ],
             [
              0.1111111111111111,
              "#46039f"
             ],
             [
              0.2222222222222222,
              "#7201a8"
             ],
             [
              0.3333333333333333,
              "#9c179e"
             ],
             [
              0.4444444444444444,
              "#bd3786"
             ],
             [
              0.5555555555555556,
              "#d8576b"
             ],
             [
              0.6666666666666666,
              "#ed7953"
             ],
             [
              0.7777777777777778,
              "#fb9f3a"
             ],
             [
              0.8888888888888888,
              "#fdca26"
             ],
             [
              1,
              "#f0f921"
             ]
            ],
            "type": "heatmap"
           }
          ],
          "histogram": [
           {
            "marker": {
             "pattern": {
              "fillmode": "overlay",
              "size": 10,
              "solidity": 0.2
             }
            },
            "type": "histogram"
           }
          ],
          "histogram2d": [
           {
            "colorbar": {
             "outlinewidth": 0,
             "ticks": ""
            },
            "colorscale": [
             [
              0,
              "#0d0887"
             ],
             [
              0.1111111111111111,
              "#46039f"
             ],
             [
              0.2222222222222222,
              "#7201a8"
             ],
             [
              0.3333333333333333,
              "#9c179e"
             ],
             [
              0.4444444444444444,
              "#bd3786"
             ],
             [
              0.5555555555555556,
              "#d8576b"
             ],
             [
              0.6666666666666666,
              "#ed7953"
             ],
             [
              0.7777777777777778,
              "#fb9f3a"
             ],
             [
              0.8888888888888888,
              "#fdca26"
             ],
             [
              1,
              "#f0f921"
             ]
            ],
            "type": "histogram2d"
           }
          ],
          "histogram2dcontour": [
           {
            "colorbar": {
             "outlinewidth": 0,
             "ticks": ""
            },
            "colorscale": [
             [
              0,
              "#0d0887"
             ],
             [
              0.1111111111111111,
              "#46039f"
             ],
             [
              0.2222222222222222,
              "#7201a8"
             ],
             [
              0.3333333333333333,
              "#9c179e"
             ],
             [
              0.4444444444444444,
              "#bd3786"
             ],
             [
              0.5555555555555556,
              "#d8576b"
             ],
             [
              0.6666666666666666,
              "#ed7953"
             ],
             [
              0.7777777777777778,
              "#fb9f3a"
             ],
             [
              0.8888888888888888,
              "#fdca26"
             ],
             [
              1,
              "#f0f921"
             ]
            ],
            "type": "histogram2dcontour"
           }
          ],
          "mesh3d": [
           {
            "colorbar": {
             "outlinewidth": 0,
             "ticks": ""
            },
            "type": "mesh3d"
           }
          ],
          "parcoords": [
           {
            "line": {
             "colorbar": {
              "outlinewidth": 0,
              "ticks": ""
             }
            },
            "type": "parcoords"
           }
          ],
          "pie": [
           {
            "automargin": true,
            "type": "pie"
           }
          ],
          "scatter": [
           {
            "fillpattern": {
             "fillmode": "overlay",
             "size": 10,
             "solidity": 0.2
            },
            "type": "scatter"
           }
          ],
          "scatter3d": [
           {
            "line": {
             "colorbar": {
              "outlinewidth": 0,
              "ticks": ""
             }
            },
            "marker": {
             "colorbar": {
              "outlinewidth": 0,
              "ticks": ""
             }
            },
            "type": "scatter3d"
           }
          ],
          "scattercarpet": [
           {
            "marker": {
             "colorbar": {
              "outlinewidth": 0,
              "ticks": ""
             }
            },
            "type": "scattercarpet"
           }
          ],
          "scattergeo": [
           {
            "marker": {
             "colorbar": {
              "outlinewidth": 0,
              "ticks": ""
             }
            },
            "type": "scattergeo"
           }
          ],
          "scattergl": [
           {
            "marker": {
             "colorbar": {
              "outlinewidth": 0,
              "ticks": ""
             }
            },
            "type": "scattergl"
           }
          ],
          "scattermap": [
           {
            "marker": {
             "colorbar": {
              "outlinewidth": 0,
              "ticks": ""
             }
            },
            "type": "scattermap"
           }
          ],
          "scattermapbox": [
           {
            "marker": {
             "colorbar": {
              "outlinewidth": 0,
              "ticks": ""
             }
            },
            "type": "scattermapbox"
           }
          ],
          "scatterpolar": [
           {
            "marker": {
             "colorbar": {
              "outlinewidth": 0,
              "ticks": ""
             }
            },
            "type": "scatterpolar"
           }
          ],
          "scatterpolargl": [
           {
            "marker": {
             "colorbar": {
              "outlinewidth": 0,
              "ticks": ""
             }
            },
            "type": "scatterpolargl"
           }
          ],
          "scatterternary": [
           {
            "marker": {
             "colorbar": {
              "outlinewidth": 0,
              "ticks": ""
             }
            },
            "type": "scatterternary"
           }
          ],
          "surface": [
           {
            "colorbar": {
             "outlinewidth": 0,
             "ticks": ""
            },
            "colorscale": [
             [
              0,
              "#0d0887"
             ],
             [
              0.1111111111111111,
              "#46039f"
             ],
             [
              0.2222222222222222,
              "#7201a8"
             ],
             [
              0.3333333333333333,
              "#9c179e"
             ],
             [
              0.4444444444444444,
              "#bd3786"
             ],
             [
              0.5555555555555556,
              "#d8576b"
             ],
             [
              0.6666666666666666,
              "#ed7953"
             ],
             [
              0.7777777777777778,
              "#fb9f3a"
             ],
             [
              0.8888888888888888,
              "#fdca26"
             ],
             [
              1,
              "#f0f921"
             ]
            ],
            "type": "surface"
           }
          ],
          "table": [
           {
            "cells": {
             "fill": {
              "color": "#EBF0F8"
             },
             "line": {
              "color": "white"
             }
            },
            "header": {
             "fill": {
              "color": "#C8D4E3"
             },
             "line": {
              "color": "white"
             }
            },
            "type": "table"
           }
          ]
         },
         "layout": {
          "annotationdefaults": {
           "arrowcolor": "#2a3f5f",
           "arrowhead": 0,
           "arrowwidth": 1
          },
          "autotypenumbers": "strict",
          "coloraxis": {
           "colorbar": {
            "outlinewidth": 0,
            "ticks": ""
           }
          },
          "colorscale": {
           "diverging": [
            [
             0,
             "#8e0152"
            ],
            [
             0.1,
             "#c51b7d"
            ],
            [
             0.2,
             "#de77ae"
            ],
            [
             0.3,
             "#f1b6da"
            ],
            [
             0.4,
             "#fde0ef"
            ],
            [
             0.5,
             "#f7f7f7"
            ],
            [
             0.6,
             "#e6f5d0"
            ],
            [
             0.7,
             "#b8e186"
            ],
            [
             0.8,
             "#7fbc41"
            ],
            [
             0.9,
             "#4d9221"
            ],
            [
             1,
             "#276419"
            ]
           ],
           "sequential": [
            [
             0,
             "#0d0887"
            ],
            [
             0.1111111111111111,
             "#46039f"
            ],
            [
             0.2222222222222222,
             "#7201a8"
            ],
            [
             0.3333333333333333,
             "#9c179e"
            ],
            [
             0.4444444444444444,
             "#bd3786"
            ],
            [
             0.5555555555555556,
             "#d8576b"
            ],
            [
             0.6666666666666666,
             "#ed7953"
            ],
            [
             0.7777777777777778,
             "#fb9f3a"
            ],
            [
             0.8888888888888888,
             "#fdca26"
            ],
            [
             1,
             "#f0f921"
            ]
           ],
           "sequentialminus": [
            [
             0,
             "#0d0887"
            ],
            [
             0.1111111111111111,
             "#46039f"
            ],
            [
             0.2222222222222222,
             "#7201a8"
            ],
            [
             0.3333333333333333,
             "#9c179e"
            ],
            [
             0.4444444444444444,
             "#bd3786"
            ],
            [
             0.5555555555555556,
             "#d8576b"
            ],
            [
             0.6666666666666666,
             "#ed7953"
            ],
            [
             0.7777777777777778,
             "#fb9f3a"
            ],
            [
             0.8888888888888888,
             "#fdca26"
            ],
            [
             1,
             "#f0f921"
            ]
           ]
          },
          "colorway": [
           "#636efa",
           "#EF553B",
           "#00cc96",
           "#ab63fa",
           "#FFA15A",
           "#19d3f3",
           "#FF6692",
           "#B6E880",
           "#FF97FF",
           "#FECB52"
          ],
          "font": {
           "color": "#2a3f5f"
          },
          "geo": {
           "bgcolor": "white",
           "lakecolor": "white",
           "landcolor": "#E5ECF6",
           "showlakes": true,
           "showland": true,
           "subunitcolor": "white"
          },
          "hoverlabel": {
           "align": "left"
          },
          "hovermode": "closest",
          "mapbox": {
           "style": "light"
          },
          "paper_bgcolor": "white",
          "plot_bgcolor": "#E5ECF6",
          "polar": {
           "angularaxis": {
            "gridcolor": "white",
            "linecolor": "white",
            "ticks": ""
           },
           "bgcolor": "#E5ECF6",
           "radialaxis": {
            "gridcolor": "white",
            "linecolor": "white",
            "ticks": ""
           }
          },
          "scene": {
           "xaxis": {
            "backgroundcolor": "#E5ECF6",
            "gridcolor": "white",
            "gridwidth": 2,
            "linecolor": "white",
            "showbackground": true,
            "ticks": "",
            "zerolinecolor": "white"
           },
           "yaxis": {
            "backgroundcolor": "#E5ECF6",
            "gridcolor": "white",
            "gridwidth": 2,
            "linecolor": "white",
            "showbackground": true,
            "ticks": "",
            "zerolinecolor": "white"
           },
           "zaxis": {
            "backgroundcolor": "#E5ECF6",
            "gridcolor": "white",
            "gridwidth": 2,
            "linecolor": "white",
            "showbackground": true,
            "ticks": "",
            "zerolinecolor": "white"
           }
          },
          "shapedefaults": {
           "line": {
            "color": "#2a3f5f"
           }
          },
          "ternary": {
           "aaxis": {
            "gridcolor": "white",
            "linecolor": "white",
            "ticks": ""
           },
           "baxis": {
            "gridcolor": "white",
            "linecolor": "white",
            "ticks": ""
           },
           "bgcolor": "#E5ECF6",
           "caxis": {
            "gridcolor": "white",
            "linecolor": "white",
            "ticks": ""
           }
          },
          "title": {
           "x": 0.05
          },
          "xaxis": {
           "automargin": true,
           "gridcolor": "white",
           "linecolor": "white",
           "ticks": "",
           "title": {
            "standoff": 15
           },
           "zerolinecolor": "white",
           "zerolinewidth": 2
          },
          "yaxis": {
           "automargin": true,
           "gridcolor": "white",
           "linecolor": "white",
           "ticks": "",
           "title": {
            "standoff": 15
           },
           "zerolinecolor": "white",
           "zerolinewidth": 2
          }
         }
        }
       }
      }
     },
     "metadata": {},
     "output_type": "display_data"
    }
   ],
   "source": [
    "vecs, labels = reduce_dimensions(w2v_model,3)\n",
    "\n",
    "MAX_WORDS=200\n",
    "plot_embeddings(w2v_model, vecs, labels, MAX_WORDS, highlight_words=[\"grail\",\"ark\",\"sankara\"])"
   ]
  },
  {
   "cell_type": "markdown",
   "id": "6541be06",
   "metadata": {},
   "source": [
    "### Test de analogía"
   ]
  },
  {
   "cell_type": "code",
   "execution_count": 658,
   "id": "a3d053dd",
   "metadata": {},
   "outputs": [
    {
     "data": {
      "text/plain": [
       "[('christ', 0.4411773085594177),\n",
       " ('complete', 0.43927597999572754),\n",
       " ('glory', 0.4332183599472046),\n",
       " ('somewhere', 0.40024369955062866),\n",
       " ('fortune', 0.38854387402534485),\n",
       " ('america', 0.3648229241371155),\n",
       " ('embrace', 0.35738053917884827),\n",
       " ('country', 0.3537747263908386)]"
      ]
     },
     "metadata": {},
     "output_type": "display_data"
    },
    {
     "data": {
      "text/plain": [
       "0.44117725"
      ]
     },
     "metadata": {},
     "output_type": "display_data"
    },
    {
     "data": {
      "image/png": "[encoded data removed]",
      "text/plain": [
       "<Figure size 1600x900 with 2 Axes>"
      ]
     },
     "metadata": {},
     "output_type": "display_data"
    }
   ],
   "source": [
    "words = [\"grail\",\"diary\",\"cup\"]\n",
    "vector1 = w2v_model.wv.get_vector(words[0])\n",
    "vector2 = w2v_model.wv.get_vector(words[1])\n",
    "vector3 = w2v_model.wv.get_vector(words[2])\n",
    "\n",
    "new_vector = vector1 - vector2 + vector3\n",
    "\n",
    "display(w2v_model.wv.most_similar(new_vector)[2:])\n",
    "display(cosine_similarity([new_vector], [w2v_model.wv.get_vector(\"christ\")])[0][0])\n",
    "words.append(\"christ\")\n",
    "embeddings_matrix_distance(w2v_model, words, new_vector, \"new_vector\")"
   ]
  },
  {
   "cell_type": "markdown",
   "id": "460bb76b",
   "metadata": {},
   "source": [
    "Se intentó hacer el test de analogía con referirise al Santo Grial como la copa y no como el diario, la correlación no es muy fuerte, pero dentro de lo mas próximo tenemos a Cristo."
   ]
  }
 ],
 "metadata": {
  "kernelspec": {
   "display_name": "venv",
   "language": "python",
   "name": "python3"
  },
  "language_info": {
   "codemirror_mode": {
    "name": "ipython",
    "version": 3
   },
   "file_extension": ".py",
   "mimetype": "text/x-python",
   "name": "python",
   "nbconvert_exporter": "python",
   "pygments_lexer": "ipython3",
   "version": "3.12.10"
  }
 },
 "nbformat": 4,
 "nbformat_minor": 5
}
