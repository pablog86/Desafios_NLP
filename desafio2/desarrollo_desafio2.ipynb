{
 "cells": [
  {
   "cell_type": "markdown",
   "id": "8b16d688",
   "metadata": {},
   "source": [
    "# Desafio 2 - NLP\n",
    "\n",
    "- Crear sus propios vectores con Gensim basado en lo visto en clase con otro dataset.\n",
    "- Probar términos de interés y explicar similitudes en el espacio de embeddings.\n",
    "- Intentar plantear y probar tests de analogías. \n",
    "- Graficar los embeddings resultantes.\n",
    "- Sacar conclusiones."
   ]
  },
  {
   "cell_type": "markdown",
   "id": "cd8bb8c1",
   "metadata": {},
   "source": [
    "## Imports"
   ]
  },
  {
   "cell_type": "code",
   "execution_count": 92,
   "id": "eda5d6ce",
   "metadata": {},
   "outputs": [],
   "source": [
    "import pandas as pd\n",
    "import matplotlib.pyplot as plt\n",
    "import seaborn as sns\n",
    "import multiprocessing\n",
    "from gensim.models import Word2Vec\n",
    "import os\n",
    "from tensorflow.keras.preprocessing.text import text_to_word_sequence\n",
    "from gensim.models.callbacks import CallbackAny2Vec\n",
    "\n",
    "from sklearn.decomposition import IncrementalPCA    \n",
    "from sklearn.manifold import TSNE                   \n",
    "import numpy as np\n",
    "import plotly.graph_objects as go\n",
    "import plotly.express as px                   "
   ]
  },
  {
   "cell_type": "markdown",
   "id": "298aeb29",
   "metadata": {},
   "source": [
    "## Funciones generales"
   ]
  },
  {
   "cell_type": "code",
   "execution_count": 20,
   "id": "bdea8400",
   "metadata": {},
   "outputs": [],
   "source": [
    "# Durante el entrenamiento gensim por defecto no informa el \"loss\" en cada época\n",
    "# Sobrecargamos el callback para poder tener esta información\n",
    "class callback(CallbackAny2Vec):\n",
    "    \"\"\"\n",
    "    Callback to print loss after each epoch\n",
    "    \"\"\"\n",
    "    def __init__(self):\n",
    "        self.epoch = 0\n",
    "\n",
    "    def on_epoch_end(self, model):\n",
    "        loss = model.get_latest_training_loss()\n",
    "        if self.epoch == 0:\n",
    "            print('Loss after epoch {}: {}'.format(self.epoch, loss))\n",
    "        else:\n",
    "            print('Loss after epoch {}: {}'.format(self.epoch, loss- self.loss_previous_step))\n",
    "        self.epoch += 1\n",
    "        self.loss_previous_step = loss"
   ]
  },
  {
   "cell_type": "code",
   "execution_count": null,
   "id": "f174c202",
   "metadata": {},
   "outputs": [],
   "source": [
    "def reduce_dimensions(model, num_dimensions = 2 ):\n",
    "     \n",
    "    vectors = np.asarray(model.wv.vectors)\n",
    "    labels = np.asarray(model.wv.index_to_key)  \n",
    "\n",
    "    tsne = TSNE(n_components=num_dimensions, random_state=0)\n",
    "    vectors = tsne.fit_transform(vectors)\n",
    "\n",
    "    return vectors, labels"
   ]
  },
  {
   "cell_type": "code",
   "execution_count": 124,
   "id": "aed1521d",
   "metadata": {},
   "outputs": [],
   "source": [
    "def max_words (model, vecs, labels, highlight_words, MAX_WORDS, topn=10):\n",
    "    all_words = list(labels)\n",
    "    selected_words = set(highlight_words)\n",
    "\n",
    "    for word in highlight_words:\n",
    "        if word in model.wv:\n",
    "            try:\n",
    "                similar = model.wv.most_similar(word, topn=topn)\n",
    "                selected_words.update([w for w, _ in similar])\n",
    "            except KeyError:\n",
    "                pass  # por si alguna palabra no está en vocabulario\n",
    "\n",
    "    for word in all_words:\n",
    "        if len(selected_words) >= MAX_WORDS:\n",
    "            break\n",
    "        if word not in selected_words:\n",
    "            selected_words.add(word)\n",
    "\n",
    "    selected_words = list(selected_words)\n",
    "    indices = [all_words.index(w) for w in selected_words if w in all_words]\n",
    "    filtered_vecs = vecs[indices]\n",
    "    filtered_labels = [all_words[i] for i in indices]\n",
    "    return filtered_vecs, filtered_labels"
   ]
  },
  {
   "cell_type": "code",
   "execution_count": 114,
   "id": "da8137cb",
   "metadata": {},
   "outputs": [],
   "source": [
    "def plot_embeddings(model, vecs, labels, MAX_WORDS=200, highlight_words=None):\n",
    "    assert vecs.shape[0] == len(labels), \"Vecs y labels deben tener la misma longitud\"\n",
    "    #labels = np.asarray(labels)[:MAX_WORDS]\n",
    "    #vecs = vecs[:MAX_WORDS]\n",
    "    vecs, labels = max_words(model, vecs, labels, highlight_words, MAX_WORDS)\n",
    "    # Colores: rojo si está en highlight, azul si no\n",
    "    highlight_words = set(highlight_words) if highlight_words else set()\n",
    "    colors = ['red' if word in highlight_words else 'blue' for word in labels]\n",
    "\n",
    "    if vecs.shape[1] == 2:\n",
    "        fig = px.scatter(\n",
    "            x=vecs[:, 0],\n",
    "            y=vecs[:, 1],\n",
    "            text=labels,\n",
    "            color=colors,\n",
    "            labels={\"color\": \"Tipo de palabra\"}\n",
    "        )\n",
    "    elif vecs.shape[1] == 3:\n",
    "        fig = px.scatter_3d(\n",
    "            x=vecs[:, 0],\n",
    "            y=vecs[:, 1],\n",
    "            z=vecs[:, 2],\n",
    "            text=labels,\n",
    "            color=colors,\n",
    "            labels={\"color\": \"Tipo de palabra\"}\n",
    "        )\n",
    "        fig.update_traces(marker_size = 2)\n",
    "    else:\n",
    "        raise ValueError(\"Los vectores deben ser de dimensión 2 o 3\")\n",
    "\n",
    "    fig.update_traces(textposition='top center')\n",
    "    fig.show()"
   ]
  },
  {
   "cell_type": "markdown",
   "id": "055a0a3c",
   "metadata": {},
   "source": [
    "## Preprocesamiento"
   ]
  },
  {
   "cell_type": "code",
   "execution_count": 6,
   "id": "45b0047f",
   "metadata": {},
   "outputs": [
    {
     "data": {
      "text/plain": [
       "['Indiana_Jones_And_The_Last_Crusade.txt',\n",
       " 'Indiana_Jones_And_The_Temple_Of_Doom.txt',\n",
       " 'Raiders_Of_The_Lost_Ark.txt']"
      ]
     },
     "execution_count": 6,
     "metadata": {},
     "output_type": "execute_result"
    }
   ],
   "source": [
    "os.listdir(\"corpus\")"
   ]
  },
  {
   "cell_type": "code",
   "execution_count": 39,
   "id": "dac7130d",
   "metadata": {},
   "outputs": [
    {
     "data": {
      "application/vnd.microsoft.datawrangler.viewer.v0+json": {
       "columns": [
        {
         "name": "index",
         "rawType": "int64",
         "type": "integer"
        },
        {
         "name": "0",
         "rawType": "object",
         "type": "string"
        }
       ],
       "conversionMethod": "pd.DataFrame",
       "ref": "5d20068f-68f6-464a-8c76-ada729fed689",
       "rows": [
        [
         "0",
         "\"INDIANA JONES AND THE LAST CRUSADE\""
        ],
        [
         "1",
         "Screenplay by"
        ],
        [
         "2",
         "Jeffrey Boam"
        ],
        [
         "3",
         "FADE IN:"
        ],
        [
         "4",
         "EXT. DESERT OF THE AMERICAN SOUTHWEST - DAY"
        ]
       ],
       "shape": {
        "columns": 1,
        "rows": 5
       }
      },
      "text/html": [
       "<div>\n",
       "<style scoped>\n",
       "    .dataframe tbody tr th:only-of-type {\n",
       "        vertical-align: middle;\n",
       "    }\n",
       "\n",
       "    .dataframe tbody tr th {\n",
       "        vertical-align: top;\n",
       "    }\n",
       "\n",
       "    .dataframe thead th {\n",
       "        text-align: right;\n",
       "    }\n",
       "</style>\n",
       "<table border=\"1\" class=\"dataframe\">\n",
       "  <thead>\n",
       "    <tr style=\"text-align: right;\">\n",
       "      <th></th>\n",
       "      <th>0</th>\n",
       "    </tr>\n",
       "  </thead>\n",
       "  <tbody>\n",
       "    <tr>\n",
       "      <th>0</th>\n",
       "      <td>\"INDIANA JONES AND THE LAST CRUSADE\"</td>\n",
       "    </tr>\n",
       "    <tr>\n",
       "      <th>1</th>\n",
       "      <td>Screenplay by</td>\n",
       "    </tr>\n",
       "    <tr>\n",
       "      <th>2</th>\n",
       "      <td>Jeffrey Boam</td>\n",
       "    </tr>\n",
       "    <tr>\n",
       "      <th>3</th>\n",
       "      <td>FADE IN:</td>\n",
       "    </tr>\n",
       "    <tr>\n",
       "      <th>4</th>\n",
       "      <td>EXT. DESERT OF THE AMERICAN SOUTHWEST - DAY</td>\n",
       "    </tr>\n",
       "  </tbody>\n",
       "</table>\n",
       "</div>"
      ],
      "text/plain": [
       "                                             0\n",
       "0         \"INDIANA JONES AND THE LAST CRUSADE\"\n",
       "1                                Screenplay by\n",
       "2                                 Jeffrey Boam\n",
       "3                                     FADE IN:\n",
       "4  EXT. DESERT OF THE AMERICAN SOUTHWEST - DAY"
      ]
     },
     "metadata": {},
     "output_type": "display_data"
    },
    {
     "data": {
      "text/plain": [
       "'Cantidad de documentos:'"
      ]
     },
     "metadata": {},
     "output_type": "display_data"
    },
    {
     "data": {
      "text/plain": [
       "13504"
      ]
     },
     "metadata": {},
     "output_type": "display_data"
    }
   ],
   "source": [
    "df1 = pd.read_csv('corpus/Indiana_Jones_And_The_Last_Crusade.txt', sep='/n', header=None, engine='python')\n",
    "df2 = pd.read_csv('corpus/Raiders_Of_The_Lost_Ark.txt', sep='/n', header=None, engine='python')\n",
    "df3 = pd.read_csv('corpus/Indiana_Jones_And_The_Temple_Of_Doom.txt', sep='/n', header=None, engine='python')\n",
    "df = pd.concat([df1, df2, df3], ignore_index=True)\n",
    "display(df.head())\n",
    "display(\"Cantidad de documentos:\", df.shape[0])"
   ]
  },
  {
   "cell_type": "code",
   "execution_count": null,
   "id": "e043b19d",
   "metadata": {},
   "outputs": [],
   "source": [
    "sentence_tokens = []\n",
    "for _, row in df[:None].iterrows():\n",
    "    sentence_tokens.append(text_to_word_sequence(row[0]))"
   ]
  },
  {
   "cell_type": "markdown",
   "id": "5f2e1b73",
   "metadata": {},
   "source": [
    "## Crear los vectores (word2vec)"
   ]
  },
  {
   "cell_type": "code",
   "execution_count": 128,
   "id": "c652e22a",
   "metadata": {},
   "outputs": [],
   "source": [
    "w2v_model = Word2Vec(min_count=10,    # frecuencia mínima de palabra para incluirla en el vocabulario\n",
    "                     window=10,       # cant de palabras antes y desp de la predicha\n",
    "                     vector_size=500,       # dimensionalidad de los vectores \n",
    "                     negative=20,    # cantidad de negative samples... 0 es no se usa\n",
    "                     workers=4,      # si tienen más cores pueden cambiar este valor\n",
    "                     sg=1)           # modelo 0:CBOW  1:skipgram"
   ]
  },
  {
   "cell_type": "code",
   "execution_count": 129,
   "id": "d49e19f0",
   "metadata": {},
   "outputs": [
    {
     "data": {
      "text/plain": [
       "'Cantidad de docs en el corpus:'"
      ]
     },
     "metadata": {},
     "output_type": "display_data"
    },
    {
     "data": {
      "text/plain": [
       "13504"
      ]
     },
     "metadata": {},
     "output_type": "display_data"
    },
    {
     "data": {
      "text/plain": [
       "'Cantidad de words distintas en el corpus:'"
      ]
     },
     "metadata": {},
     "output_type": "display_data"
    },
    {
     "data": {
      "text/plain": [
       "1122"
      ]
     },
     "metadata": {},
     "output_type": "display_data"
    }
   ],
   "source": [
    "w2v_model.build_vocab(sentence_tokens)\n",
    "display(\"Cantidad de docs en el corpus:\", w2v_model.corpus_count)\n",
    "display(\"Cantidad de words distintas en el corpus:\", len(w2v_model.wv.index_to_key))"
   ]
  },
  {
   "cell_type": "code",
   "execution_count": 131,
   "id": "cc351ba3",
   "metadata": {},
   "outputs": [
    {
     "name": "stdout",
     "output_type": "stream",
     "text": [
      "Loss after epoch 0: 148688.84375\n",
      "Loss after epoch 1: 154944.375\n",
      "Loss after epoch 2: 156500.25\n",
      "Loss after epoch 3: 148608.59375\n",
      "Loss after epoch 4: 128065.0625\n",
      "Loss after epoch 5: 150578.125\n",
      "Loss after epoch 6: 143886.9375\n",
      "Loss after epoch 7: 148801.3125\n",
      "Loss after epoch 8: 141390.125\n",
      "Loss after epoch 9: 140532.5\n",
      "Loss after epoch 10: 140342.625\n",
      "Loss after epoch 11: 120196.75\n",
      "Loss after epoch 12: 139894.375\n",
      "Loss after epoch 13: 121061.0\n",
      "Loss after epoch 14: 140422.125\n",
      "Loss after epoch 15: 134675.5\n",
      "Loss after epoch 16: 130876.75\n",
      "Loss after epoch 17: 131672.75\n",
      "Loss after epoch 18: 132998.75\n",
      "Loss after epoch 19: 137115.75\n",
      "Loss after epoch 20: 136035.75\n",
      "Loss after epoch 21: 130298.75\n",
      "Loss after epoch 22: 129759.5\n",
      "Loss after epoch 23: 111475.25\n",
      "Loss after epoch 24: 132522.75\n",
      "Loss after epoch 25: 134057.75\n",
      "Loss after epoch 26: 125037.25\n",
      "Loss after epoch 27: 126986.75\n",
      "Loss after epoch 28: 133873.0\n",
      "Loss after epoch 29: 126423.0\n",
      "Loss after epoch 30: 128231.75\n",
      "Loss after epoch 31: 119981.5\n",
      "Loss after epoch 32: 115611.5\n",
      "Loss after epoch 33: 114665.0\n",
      "Loss after epoch 34: 114197.5\n"
     ]
    },
    {
     "data": {
      "text/plain": [
       "(1667495, 2975910)"
      ]
     },
     "execution_count": 131,
     "metadata": {},
     "output_type": "execute_result"
    }
   ],
   "source": [
    "w2v_model.train(sentence_tokens,\n",
    "                 total_examples=w2v_model.corpus_count,\n",
    "                 epochs=35,\n",
    "                 compute_loss = True,\n",
    "                 callbacks=[callback()]\n",
    "                 )"
   ]
  },
  {
   "cell_type": "markdown",
   "id": "26286f5b",
   "metadata": {},
   "source": [
    "## Pruebas"
   ]
  },
  {
   "cell_type": "code",
   "execution_count": 132,
   "id": "bab345fd",
   "metadata": {},
   "outputs": [
    {
     "data": {
      "text/plain": [
       "[('diary', 0.39182910323143005),\n",
       " ('knight', 0.3685998320579529),\n",
       " ('vial', 0.33626991510391235),\n",
       " ('dr', 0.31551000475883484),\n",
       " ('late', 0.31352177262306213),\n",
       " ('professor', 0.3104715049266815),\n",
       " ('doctor', 0.30360856652259827),\n",
       " ('schneider', 0.3028962314128876),\n",
       " ('touch', 0.3020654320716858),\n",
       " ('breath', 0.2945864200592041)]"
      ]
     },
     "execution_count": 132,
     "metadata": {},
     "output_type": "execute_result"
    }
   ],
   "source": [
    "w2v_model.wv.most_similar(positive=[\"grail\"], topn=10)"
   ]
  },
  {
   "cell_type": "markdown",
   "id": "c50130a4",
   "metadata": {},
   "source": [
    "En este caso podemos ver como la palabra que mas correlación tiene con Grial es Diario, en la pelicula \"Indiana Jones y la última cruzada\", se menciona varias veces al diario del grial donde estaba la información de como encontrarlo. "
   ]
  },
  {
   "cell_type": "code",
   "execution_count": 133,
   "id": "ed107869",
   "metadata": {},
   "outputs": [
    {
     "data": {
      "text/plain": [
       "[('covenant', 0.5358842015266418),\n",
       " ('lid', 0.3385184109210968),\n",
       " (\"let's\", 0.31291845440864563),\n",
       " ('stuff', 0.2976982593536377),\n",
       " ('indians', 0.2872527837753296),\n",
       " ('pages', 0.28354933857917786),\n",
       " ('souls', 0.27519848942756653),\n",
       " ('silver', 0.2683049440383911),\n",
       " ('penitent', 0.2653197646141052),\n",
       " ('until', 0.26150017976760864)]"
      ]
     },
     "execution_count": 133,
     "metadata": {},
     "output_type": "execute_result"
    }
   ],
   "source": [
    "w2v_model.wv.most_similar(positive=[\"ark\"], topn=10)"
   ]
  },
  {
   "cell_type": "markdown",
   "id": "f8667c76",
   "metadata": {},
   "source": [
    "En \"Indiana Jones y los cazadores del arca perdida\" la famosa arca se llama \"el arca de la alianza\" por eso la mejor correlación es con esa palabra."
   ]
  },
  {
   "cell_type": "code",
   "execution_count": 134,
   "id": "81dace33",
   "metadata": {},
   "outputs": [
    {
     "data": {
      "text/plain": [
       "[('stones', 0.6419008374214172),\n",
       " ('bag', 0.5245639681816101),\n",
       " ('sacred', 0.4658103585243225),\n",
       " ('priest', 0.3602324426174164),\n",
       " ('priests', 0.3548106253147125),\n",
       " ('punches', 0.3434930741786957),\n",
       " ('places', 0.3341156840324402),\n",
       " ('says', 0.31909072399139404),\n",
       " ('shoulder', 0.3147355318069458),\n",
       " ('ma', 0.31326180696487427)]"
      ]
     },
     "execution_count": 134,
     "metadata": {},
     "output_type": "execute_result"
    }
   ],
   "source": [
    "w2v_model.wv.most_similar(positive=[\"sankara\"], topn=10)"
   ]
  },
  {
   "cell_type": "markdown",
   "id": "a6e4bfd6",
   "metadata": {},
   "source": [
    "En \"Indiana Jones y el templo de la pedición\" el objeto que Indy debe rescatar era la Piedra de Sankara."
   ]
  },
  {
   "cell_type": "code",
   "execution_count": 161,
   "id": "dae127db",
   "metadata": {},
   "outputs": [
    {
     "data": {
      "text/plain": [
       "[('frightened', 0.07920803129673004),\n",
       " ('seen', 0.04068366438150406),\n",
       " ('wide', 0.03377776965498924),\n",
       " (\"they're\", 0.025555318221449852),\n",
       " ('lovely', 0.022509140893816948),\n",
       " ('lift', 0.022206634283065796),\n",
       " ('far', 0.02162557654082775),\n",
       " ('power', 0.016364354640245438),\n",
       " ('large', 0.013841045089066029),\n",
       " ('tunnels', 0.013216033577919006)]"
      ]
     },
     "execution_count": 161,
     "metadata": {},
     "output_type": "execute_result"
    }
   ],
   "source": [
    "w2v_model.wv.most_similar(negative=[\"hat\"], topn=10)"
   ]
  },
  {
   "cell_type": "markdown",
   "id": "54aead4b",
   "metadata": {},
   "source": [
    "Para la relación inversa no es que se detecten antonimos, sino palabras que no estan muy relacionadas en el espacio del embedding. No podemos sacar mucha conclusión del ejemplo."
   ]
  },
  {
   "cell_type": "markdown",
   "id": "1c14a205",
   "metadata": {},
   "source": [
    "## Visualizar agrupación de vectores"
   ]
  },
  {
   "cell_type": "code",
   "execution_count": 152,
   "id": "138886b6",
   "metadata": {},
   "outputs": [
    {
     "data": {
      "application/vnd.plotly.v1+json": {
       "config": {
        "plotlyServerURL": "https://plot.ly"
       },
       "data": [
        {
         "hovertemplate": "Tipo de palabra=blue<br>x=%{x}<br>y=%{y}<br>text=%{text}<extra></extra>",
         "legendgroup": "blue",
         "marker": {
          "color": "#636efa",
          "symbol": "circle"
         },
         "mode": "markers+text",
         "name": "blue",
         "orientation": "v",
         "showlegend": true,
         "text": [
          "crashes",
          "even",
          "wind",
          "glass",
          "picks",
          "periscope",
          "between",
          "there",
          "breaks",
          "hard",
          "black",
          "behind",
          "puts",
          "own",
          "only",
          "full",
          "walls",
          "exchange",
          "marcus",
          "sallah",
          "lifts",
          "bag",
          "again",
          "hands",
          "suddenly",
          "pushes",
          "water",
          "donovan",
          "above",
          "comes",
          "pull",
          "goes",
          "your",
          "see",
          "he",
          "lal",
          "hat",
          "hears",
          "finally",
          "death",
          "hits",
          "me",
          "shoulder",
          "kazim",
          "breath",
          "kali",
          "mine",
          "want",
          "nothing",
          "seems",
          "were",
          "that's",
          "covenant",
          "captain",
          "palace",
          "something",
          "much",
          "old",
          "so",
          "face",
          "over",
          "temple",
          "head",
          "stares",
          "almost",
          "plane",
          "village",
          "tell",
          "got",
          "going",
          "my",
          "torch",
          "ram",
          "rushes",
          "father",
          "rear",
          "vial",
          "inside",
          "machine",
          "silver",
          "lid",
          "make",
          "toward",
          "time",
          "there's",
          "arab",
          "enters",
          "around",
          "we're",
          "onto",
          "truck",
          "train",
          "mouth",
          "stones",
          "entrance",
          "day",
          "falls",
          "children",
          "room",
          "keep",
          "to",
          "belzig",
          "blood",
          "neck",
          "belloq",
          "will",
          "it's",
          "ground",
          "looks",
          "desert",
          "let's",
          "can't",
          "henry",
          "move",
          "up",
          "burning",
          "said",
          "three",
          "indy",
          "men",
          "now",
          "air",
          "small",
          "foot",
          "life",
          "soldier",
          "floor",
          "away",
          "priest",
          "swings",
          "stop",
          "kicks",
          "rock",
          "way",
          "which",
          "some",
          "dead",
          "step",
          "tunnel",
          "still",
          "arm",
          "gong",
          "all",
          "can",
          "frame",
          "shaman",
          "doctor",
          "yes",
          "i",
          "pages",
          "right",
          "rolls",
          "before",
          "help",
          "knocks",
          "ahead",
          "jumps",
          "let",
          "our",
          "himself",
          "with",
          "sound",
          "feet",
          "trying",
          "has",
          "across",
          "gives",
          "glances",
          "their",
          "slides",
          "we",
          "doing",
          "indy's",
          "years",
          "boat",
          "sword",
          "these",
          "get",
          "spot",
          "moving",
          "drops",
          "pulls",
          "museum",
          "light",
          "out",
          "fall",
          "bullets",
          "too",
          "holds",
          "fire",
          "big",
          "platform",
          "other",
          "holding",
          "down",
          "would",
          "ext",
          "why",
          "once",
          "box",
          "must",
          "cut",
          "place",
          "him",
          "had",
          "being",
          "you're",
          "walks",
          "nazi",
          "below",
          "okay",
          "doesn't",
          "center",
          "fedora",
          "reaches",
          "yells",
          "bar",
          "then",
          "last",
          "thuggee",
          "they",
          "take",
          "off",
          "hole",
          "believe",
          "watch",
          "approaches",
          "steps",
          "car",
          "it",
          "find",
          "along",
          "stands",
          "close",
          "shakes",
          "marion",
          "monkey",
          "smoke",
          "cars",
          "half",
          "fast",
          "indiana",
          "street",
          "and",
          "side",
          "of",
          "god",
          "meanwhile",
          "slowly",
          "brody",
          "whip",
          "penitent",
          "armed",
          "be",
          "map",
          "oh",
          "open",
          "dad",
          "diary",
          "guard",
          "forward",
          "seat",
          "white",
          "lost",
          "gun",
          "think",
          "its",
          "huge",
          "mountain",
          "moves",
          "good",
          "the",
          "night",
          "horse",
          "she",
          "a",
          "s",
          "they're",
          "any",
          "touch",
          "cliff",
          "says",
          "what's",
          "sees",
          "bad",
          "until",
          "he's",
          "i'll",
          "statue",
          "here",
          "tank",
          "man",
          "sits",
          "is",
          "turns",
          "runs",
          "jones",
          "smiling",
          "priests",
          "punches",
          "elsa",
          "for",
          "int",
          "vogel",
          "hold",
          "watches",
          "altar",
          "giant",
          "ceiling",
          "her",
          "oil",
          "table",
          "late",
          "walk",
          "against",
          "have",
          "just",
          "dr",
          "bottom",
          "little",
          "square",
          "tries",
          "more",
          "staff",
          "very",
          "smiles",
          "door",
          "stops",
          "you",
          "through",
          "coming",
          "willie",
          "tall",
          "if",
          "start",
          "window",
          "moment",
          "wide",
          "stuff",
          "past",
          "did",
          "what",
          "snakes",
          "indians",
          "i've",
          "grabs",
          "are",
          "i'm",
          "sun",
          "at",
          "roscoe",
          "disappears",
          "stand",
          "points",
          "takes",
          "turn",
          "lao",
          "left",
          "rocks",
          "know",
          "nazis",
          "well",
          "maharajah",
          "appears",
          "river",
          "been",
          "both",
          "screams",
          "o",
          "round",
          "where",
          "several",
          "wall",
          "looking",
          "but",
          "end",
          "back",
          "flying",
          "front",
          "top",
          "flies",
          "them",
          "directly",
          "eyes",
          "nods",
          "never",
          "sacred",
          "pilot",
          "like",
          "into",
          "this",
          "go",
          "five",
          "first",
          "two",
          "long",
          "starts",
          "please",
          "heads",
          "rope",
          "running",
          "run",
          "road",
          "leans",
          "body",
          "willie's",
          "ma",
          "quickly",
          "dives",
          "immediately",
          "begins",
          "cavern",
          "no",
          "piece",
          "give",
          "satipo",
          "from",
          "an",
          "than",
          "snake",
          "when",
          "chamber",
          "does",
          "stone",
          "far",
          "short",
          "makes",
          "taking",
          "shorty",
          "cross",
          "blumburtt",
          "how",
          "about",
          "throws",
          "arms",
          "schneider",
          "next",
          "wooden",
          "that",
          "pulling",
          "begin",
          "professor",
          "hall",
          "don't",
          "belt",
          "not",
          "speaks",
          "shliemann",
          "pocket",
          "by",
          "his",
          "as",
          "under",
          "each",
          "mola",
          "chattar",
          "on",
          "enough",
          "large",
          "hand",
          "places",
          "guards",
          "after",
          "gold",
          "near",
          "jacket",
          "another",
          "kid",
          "come",
          "us",
          "reach",
          "shot",
          "corner",
          "high",
          "one",
          "dark",
          "do",
          "look",
          "knight",
          "bridge",
          "edge",
          "brake",
          "gets",
          "elephant",
          "enormous",
          "soldiers",
          "in",
          "souls",
          "continues",
          "found",
          "or",
          "who",
          "was",
          "hear",
          "german",
          "second",
          "opens"
         ],
         "textposition": "top center",
         "type": "scatter",
         "x": {
          "bdata": "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",
          "dtype": "f4"
         },
         "xaxis": "x",
         "y": {
          "bdata": "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",
          "dtype": "f4"
         },
         "yaxis": "y"
        },
        {
         "hovertemplate": "Tipo de palabra=red<br>x=%{x}<br>y=%{y}<br>text=%{text}<extra></extra>",
         "legendgroup": "red",
         "marker": {
          "color": "#EF553B",
          "symbol": "circle"
         },
         "mode": "markers+text",
         "name": "red",
         "orientation": "v",
         "showlegend": true,
         "text": [
          "sankara",
          "grail",
          "ark"
         ],
         "textposition": "top center",
         "type": "scatter",
         "x": {
          "bdata": "tVx6QFTsYz9MJKW/",
          "dtype": "f4"
         },
         "xaxis": "x",
         "y": {
          "bdata": "387HPq7Kib9tu0xA",
          "dtype": "f4"
         },
         "yaxis": "y"
        }
       ],
       "layout": {
        "legend": {
         "title": {
          "text": "Tipo de palabra"
         },
         "tracegroupgap": 0
        },
        "margin": {
         "t": 60
        },
        "template": {
         "data": {
          "bar": [
           {
            "error_x": {
             "color": "#2a3f5f"
            },
            "error_y": {
             "color": "#2a3f5f"
            },
            "marker": {
             "line": {
              "color": "#E5ECF6",
              "width": 0.5
             },
             "pattern": {
              "fillmode": "overlay",
              "size": 10,
              "solidity": 0.2
             }
            },
            "type": "bar"
           }
          ],
          "barpolar": [
           {
            "marker": {
             "line": {
              "color": "#E5ECF6",
              "width": 0.5
             },
             "pattern": {
              "fillmode": "overlay",
              "size": 10,
              "solidity": 0.2
             }
            },
            "type": "barpolar"
           }
          ],
          "carpet": [
           {
            "aaxis": {
             "endlinecolor": "#2a3f5f",
             "gridcolor": "white",
             "linecolor": "white",
             "minorgridcolor": "white",
             "startlinecolor": "#2a3f5f"
            },
            "baxis": {
             "endlinecolor": "#2a3f5f",
             "gridcolor": "white",
             "linecolor": "white",
             "minorgridcolor": "white",
             "startlinecolor": "#2a3f5f"
            },
            "type": "carpet"
           }
          ],
          "choropleth": [
           {
            "colorbar": {
             "outlinewidth": 0,
             "ticks": ""
            },
            "type": "choropleth"
           }
          ],
          "contour": [
           {
            "colorbar": {
             "outlinewidth": 0,
             "ticks": ""
            },
            "colorscale": [
             [
              0,
              "#0d0887"
             ],
             [
              0.1111111111111111,
              "#46039f"
             ],
             [
              0.2222222222222222,
              "#7201a8"
             ],
             [
              0.3333333333333333,
              "#9c179e"
             ],
             [
              0.4444444444444444,
              "#bd3786"
             ],
             [
              0.5555555555555556,
              "#d8576b"
             ],
             [
              0.6666666666666666,
              "#ed7953"
             ],
             [
              0.7777777777777778,
              "#fb9f3a"
             ],
             [
              0.8888888888888888,
              "#fdca26"
             ],
             [
              1,
              "#f0f921"
             ]
            ],
            "type": "contour"
           }
          ],
          "contourcarpet": [
           {
            "colorbar": {
             "outlinewidth": 0,
             "ticks": ""
            },
            "type": "contourcarpet"
           }
          ],
          "heatmap": [
           {
            "colorbar": {
             "outlinewidth": 0,
             "ticks": ""
            },
            "colorscale": [
             [
              0,
              "#0d0887"
             ],
             [
              0.1111111111111111,
              "#46039f"
             ],
             [
              0.2222222222222222,
              "#7201a8"
             ],
             [
              0.3333333333333333,
              "#9c179e"
             ],
             [
              0.4444444444444444,
              "#bd3786"
             ],
             [
              0.5555555555555556,
              "#d8576b"
             ],
             [
              0.6666666666666666,
              "#ed7953"
             ],
             [
              0.7777777777777778,
              "#fb9f3a"
             ],
             [
              0.8888888888888888,
              "#fdca26"
             ],
             [
              1,
              "#f0f921"
             ]
            ],
            "type": "heatmap"
           }
          ],
          "histogram": [
           {
            "marker": {
             "pattern": {
              "fillmode": "overlay",
              "size": 10,
              "solidity": 0.2
             }
            },
            "type": "histogram"
           }
          ],
          "histogram2d": [
           {
            "colorbar": {
             "outlinewidth": 0,
             "ticks": ""
            },
            "colorscale": [
             [
              0,
              "#0d0887"
             ],
             [
              0.1111111111111111,
              "#46039f"
             ],
             [
              0.2222222222222222,
              "#7201a8"
             ],
             [
              0.3333333333333333,
              "#9c179e"
             ],
             [
              0.4444444444444444,
              "#bd3786"
             ],
             [
              0.5555555555555556,
              "#d8576b"
             ],
             [
              0.6666666666666666,
              "#ed7953"
             ],
             [
              0.7777777777777778,
              "#fb9f3a"
             ],
             [
              0.8888888888888888,
              "#fdca26"
             ],
             [
              1,
              "#f0f921"
             ]
            ],
            "type": "histogram2d"
           }
          ],
          "histogram2dcontour": [
           {
            "colorbar": {
             "outlinewidth": 0,
             "ticks": ""
            },
            "colorscale": [
             [
              0,
              "#0d0887"
             ],
             [
              0.1111111111111111,
              "#46039f"
             ],
             [
              0.2222222222222222,
              "#7201a8"
             ],
             [
              0.3333333333333333,
              "#9c179e"
             ],
             [
              0.4444444444444444,
              "#bd3786"
             ],
             [
              0.5555555555555556,
              "#d8576b"
             ],
             [
              0.6666666666666666,
              "#ed7953"
             ],
             [
              0.7777777777777778,
              "#fb9f3a"
             ],
             [
              0.8888888888888888,
              "#fdca26"
             ],
             [
              1,
              "#f0f921"
             ]
            ],
            "type": "histogram2dcontour"
           }
          ],
          "mesh3d": [
           {
            "colorbar": {
             "outlinewidth": 0,
             "ticks": ""
            },
            "type": "mesh3d"
           }
          ],
          "parcoords": [
           {
            "line": {
             "colorbar": {
              "outlinewidth": 0,
              "ticks": ""
             }
            },
            "type": "parcoords"
           }
          ],
          "pie": [
           {
            "automargin": true,
            "type": "pie"
           }
          ],
          "scatter": [
           {
            "fillpattern": {
             "fillmode": "overlay",
             "size": 10,
             "solidity": 0.2
            },
            "type": "scatter"
           }
          ],
          "scatter3d": [
           {
            "line": {
             "colorbar": {
              "outlinewidth": 0,
              "ticks": ""
             }
            },
            "marker": {
             "colorbar": {
              "outlinewidth": 0,
              "ticks": ""
             }
            },
            "type": "scatter3d"
           }
          ],
          "scattercarpet": [
           {
            "marker": {
             "colorbar": {
              "outlinewidth": 0,
              "ticks": ""
             }
            },
            "type": "scattercarpet"
           }
          ],
          "scattergeo": [
           {
            "marker": {
             "colorbar": {
              "outlinewidth": 0,
              "ticks": ""
             }
            },
            "type": "scattergeo"
           }
          ],
          "scattergl": [
           {
            "marker": {
             "colorbar": {
              "outlinewidth": 0,
              "ticks": ""
             }
            },
            "type": "scattergl"
           }
          ],
          "scattermap": [
           {
            "marker": {
             "colorbar": {
              "outlinewidth": 0,
              "ticks": ""
             }
            },
            "type": "scattermap"
           }
          ],
          "scattermapbox": [
           {
            "marker": {
             "colorbar": {
              "outlinewidth": 0,
              "ticks": ""
             }
            },
            "type": "scattermapbox"
           }
          ],
          "scatterpolar": [
           {
            "marker": {
             "colorbar": {
              "outlinewidth": 0,
              "ticks": ""
             }
            },
            "type": "scatterpolar"
           }
          ],
          "scatterpolargl": [
           {
            "marker": {
             "colorbar": {
              "outlinewidth": 0,
              "ticks": ""
             }
            },
            "type": "scatterpolargl"
           }
          ],
          "scatterternary": [
           {
            "marker": {
             "colorbar": {
              "outlinewidth": 0,
              "ticks": ""
             }
            },
            "type": "scatterternary"
           }
          ],
          "surface": [
           {
            "colorbar": {
             "outlinewidth": 0,
             "ticks": ""
            },
            "colorscale": [
             [
              0,
              "#0d0887"
             ],
             [
              0.1111111111111111,
              "#46039f"
             ],
             [
              0.2222222222222222,
              "#7201a8"
             ],
             [
              0.3333333333333333,
              "#9c179e"
             ],
             [
              0.4444444444444444,
              "#bd3786"
             ],
             [
              0.5555555555555556,
              "#d8576b"
             ],
             [
              0.6666666666666666,
              "#ed7953"
             ],
             [
              0.7777777777777778,
              "#fb9f3a"
             ],
             [
              0.8888888888888888,
              "#fdca26"
             ],
             [
              1,
              "#f0f921"
             ]
            ],
            "type": "surface"
           }
          ],
          "table": [
           {
            "cells": {
             "fill": {
              "color": "#EBF0F8"
             },
             "line": {
              "color": "white"
             }
            },
            "header": {
             "fill": {
              "color": "#C8D4E3"
             },
             "line": {
              "color": "white"
             }
            },
            "type": "table"
           }
          ]
         },
         "layout": {
          "annotationdefaults": {
           "arrowcolor": "#2a3f5f",
           "arrowhead": 0,
           "arrowwidth": 1
          },
          "autotypenumbers": "strict",
          "coloraxis": {
           "colorbar": {
            "outlinewidth": 0,
            "ticks": ""
           }
          },
          "colorscale": {
           "diverging": [
            [
             0,
             "#8e0152"
            ],
            [
             0.1,
             "#c51b7d"
            ],
            [
             0.2,
             "#de77ae"
            ],
            [
             0.3,
             "#f1b6da"
            ],
            [
             0.4,
             "#fde0ef"
            ],
            [
             0.5,
             "#f7f7f7"
            ],
            [
             0.6,
             "#e6f5d0"
            ],
            [
             0.7,
             "#b8e186"
            ],
            [
             0.8,
             "#7fbc41"
            ],
            [
             0.9,
             "#4d9221"
            ],
            [
             1,
             "#276419"
            ]
           ],
           "sequential": [
            [
             0,
             "#0d0887"
            ],
            [
             0.1111111111111111,
             "#46039f"
            ],
            [
             0.2222222222222222,
             "#7201a8"
            ],
            [
             0.3333333333333333,
             "#9c179e"
            ],
            [
             0.4444444444444444,
             "#bd3786"
            ],
            [
             0.5555555555555556,
             "#d8576b"
            ],
            [
             0.6666666666666666,
             "#ed7953"
            ],
            [
             0.7777777777777778,
             "#fb9f3a"
            ],
            [
             0.8888888888888888,
             "#fdca26"
            ],
            [
             1,
             "#f0f921"
            ]
           ],
           "sequentialminus": [
            [
             0,
             "#0d0887"
            ],
            [
             0.1111111111111111,
             "#46039f"
            ],
            [
             0.2222222222222222,
             "#7201a8"
            ],
            [
             0.3333333333333333,
             "#9c179e"
            ],
            [
             0.4444444444444444,
             "#bd3786"
            ],
            [
             0.5555555555555556,
             "#d8576b"
            ],
            [
             0.6666666666666666,
             "#ed7953"
            ],
            [
             0.7777777777777778,
             "#fb9f3a"
            ],
            [
             0.8888888888888888,
             "#fdca26"
            ],
            [
             1,
             "#f0f921"
            ]
           ]
          },
          "colorway": [
           "#636efa",
           "#EF553B",
           "#00cc96",
           "#ab63fa",
           "#FFA15A",
           "#19d3f3",
           "#FF6692",
           "#B6E880",
           "#FF97FF",
           "#FECB52"
          ],
          "font": {
           "color": "#2a3f5f"
          },
          "geo": {
           "bgcolor": "white",
           "lakecolor": "white",
           "landcolor": "#E5ECF6",
           "showlakes": true,
           "showland": true,
           "subunitcolor": "white"
          },
          "hoverlabel": {
           "align": "left"
          },
          "hovermode": "closest",
          "mapbox": {
           "style": "light"
          },
          "paper_bgcolor": "white",
          "plot_bgcolor": "#E5ECF6",
          "polar": {
           "angularaxis": {
            "gridcolor": "white",
            "linecolor": "white",
            "ticks": ""
           },
           "bgcolor": "#E5ECF6",
           "radialaxis": {
            "gridcolor": "white",
            "linecolor": "white",
            "ticks": ""
           }
          },
          "scene": {
           "xaxis": {
            "backgroundcolor": "#E5ECF6",
            "gridcolor": "white",
            "gridwidth": 2,
            "linecolor": "white",
            "showbackground": true,
            "ticks": "",
            "zerolinecolor": "white"
           },
           "yaxis": {
            "backgroundcolor": "#E5ECF6",
            "gridcolor": "white",
            "gridwidth": 2,
            "linecolor": "white",
            "showbackground": true,
            "ticks": "",
            "zerolinecolor": "white"
           },
           "zaxis": {
            "backgroundcolor": "#E5ECF6",
            "gridcolor": "white",
            "gridwidth": 2,
            "linecolor": "white",
            "showbackground": true,
            "ticks": "",
            "zerolinecolor": "white"
           }
          },
          "shapedefaults": {
           "line": {
            "color": "#2a3f5f"
           }
          },
          "ternary": {
           "aaxis": {
            "gridcolor": "white",
            "linecolor": "white",
            "ticks": ""
           },
           "baxis": {
            "gridcolor": "white",
            "linecolor": "white",
            "ticks": ""
           },
           "bgcolor": "#E5ECF6",
           "caxis": {
            "gridcolor": "white",
            "linecolor": "white",
            "ticks": ""
           }
          },
          "title": {
           "x": 0.05
          },
          "xaxis": {
           "automargin": true,
           "gridcolor": "white",
           "linecolor": "white",
           "ticks": "",
           "title": {
            "standoff": 15
           },
           "zerolinecolor": "white",
           "zerolinewidth": 2
          },
          "yaxis": {
           "automargin": true,
           "gridcolor": "white",
           "linecolor": "white",
           "ticks": "",
           "title": {
            "standoff": 15
           },
           "zerolinecolor": "white",
           "zerolinewidth": 2
          }
         }
        },
        "xaxis": {
         "anchor": "y",
         "domain": [
          0,
          1
         ],
         "title": {
          "text": "x"
         }
        },
        "yaxis": {
         "anchor": "x",
         "domain": [
          0,
          1
         ],
         "title": {
          "text": "y"
         }
        }
       }
      }
     },
     "metadata": {},
     "output_type": "display_data"
    }
   ],
   "source": [
    "vecs, labels = reduce_dimensions(w2v_model)\n",
    "\n",
    "MAX_WORDS=500\n",
    "plot_embeddings(w2v_model, vecs, labels, MAX_WORDS, highlight_words=[\"grail\",\"ark\",\"sankara\"])"
   ]
  },
  {
   "cell_type": "code",
   "execution_count": 145,
   "id": "4374bc39",
   "metadata": {},
   "outputs": [
    {
     "data": {
      "application/vnd.plotly.v1+json": {
       "config": {
        "plotlyServerURL": "https://plot.ly"
       },
       "data": [
        {
         "hovertemplate": "Tipo de palabra=blue<br>x=%{x}<br>y=%{y}<br>z=%{z}<br>text=%{text}<extra></extra>",
         "legendgroup": "blue",
         "marker": {
          "color": "#636efa",
          "size": 2,
          "symbol": "circle"
         },
         "mode": "markers+text",
         "name": "blue",
         "scene": "scene",
         "showlegend": true,
         "text": [
          "diary",
          "like",
          "floor",
          "into",
          "away",
          "guard",
          "there",
          "priest",
          "this",
          "behind",
          "go",
          "way",
          "gun",
          "two",
          "which",
          "only",
          "some",
          "its",
          "moves",
          "the",
          "starts",
          "tunnel",
          "still",
          "she",
          "sallah",
          "a",
          "all",
          "can",
          "bag",
          "again",
          "touch",
          "ma",
          "hands",
          "suddenly",
          "says",
          "doctor",
          "i",
          "water",
          "donovan",
          "pages",
          "sees",
          "right",
          "no",
          "until",
          "your",
          "he's",
          "from",
          "see",
          "an",
          "here",
          "tank",
          "man",
          "he",
          "is",
          "turns",
          "when",
          "runs",
          "with",
          "jones",
          "feet",
          "priests",
          "finally",
          "has",
          "punches",
          "across",
          "their",
          "we",
          "elsa",
          "short",
          "indy's",
          "me",
          "shoulder",
          "for",
          "int",
          "vogel",
          "breath",
          "her",
          "get",
          "about",
          "mine",
          "schneider",
          "late",
          "pulls",
          "covenant",
          "that",
          "something",
          "professor",
          "don't",
          "against",
          "out",
          "so",
          "face",
          "have",
          "not",
          "over",
          "head",
          "just",
          "dr",
          "shliemann",
          "by",
          "little",
          "got",
          "more",
          "other",
          "his",
          "down",
          "very",
          "ext",
          "door",
          "as",
          "going",
          "my",
          "ram",
          "you",
          "him",
          "through",
          "mola",
          "vial",
          "chattar",
          "willie",
          "on",
          "silver",
          "nazi",
          "hand",
          "lid",
          "if",
          "places",
          "toward",
          "another",
          "time",
          "stuff",
          "come",
          "what",
          "indians",
          "grabs",
          "around",
          "are",
          "i'm",
          "reaches",
          "onto",
          "truck",
          "stones",
          "at",
          "then",
          "day",
          "they",
          "take",
          "off",
          "takes",
          "car",
          "one",
          "it",
          "room",
          "do",
          "know",
          "nazis",
          "to",
          "well",
          "look",
          "maharajah",
          "knight",
          "belloq",
          "will",
          "it's",
          "been",
          "marion",
          "looks",
          "let's",
          "in",
          "henry",
          "indiana",
          "souls",
          "round",
          "up",
          "where",
          "and",
          "side",
          "of",
          "wall",
          "who",
          "but",
          "was",
          "looking",
          "back",
          "brody",
          "indy",
          "whip",
          "penitent",
          "three",
          "now",
          "men",
          "be",
          "front",
          "them",
          "eyes",
          "open",
          "sacred"
         ],
         "textposition": "top center",
         "type": "scatter3d",
         "x": {
          "bdata": "2BypwZ3Y7sFwaYVChkCbQfYEAkKjuvNB9EaNQSWtS0K3A2PBMknxQWIR0EDbNLU8VXTCQTZjI0GB30lCDgbPwZFruUHBD1xBKmzdQVSJjkFRgQlCSnMbQcpqpkESURXAFS21wB6UBsI6BNw/EchDwuDPD0LbXg1CaU06winZMMIt/lVCj/OLQXSmlcL8VLnBLa9vwURdCUJKmFLBFyeKwuWBokEf4arCzxDAwAYEpEHS3OvBNnxTwiNJqUBzmGxBrmRuwMen9EAuRyRCsU3swFKH+cBk05hAfigPQX/g1EEViXJCm70AQVoYiMH/uhlC0qroQREsN0Iu0kNA+c1rv2gCAEJ2p96/5pEdwdY2WcD0EAlBmGWGQUm7j8ELSk1C2xwjwUH21L+kwCNB7adZQpM7tUAkJ6W/q2BIwhUeSUExLrbBW1OBwqgoDEJBoMJAIpOwwNYtd8JB59TBaB0RwcB/lkJyMYhBENmMwhjtyUG3dsPABfYXQbR9vkF89gFCQStOQV5KgcH5kTrCF11cQTSCSkEBq/PB/sPrQel1sUFqBYfBaqTEQcEVs8IhvqfAZsAdQhxUUEK+UB/ChLiMwdxBTMBN+ErBWF1nQWcl1kGY1ay+1NMdQh8g7sHfa3M/VTAuwz1E8UH0hUc/+IPeQb2DdUF1YprAX1xZQsxc1EEs7RFCLQWlQQfR+cFD2IXC0OPswZ3YicFEUOdBVo1Iv12YdUE5JLLBunjWQT2GFELVDA1CbYSDwYJsMD+r4tu/shjowArDyUCFVZ3CkhXAQQvTA0Ijqp5BQ5OCQWf518DKPAFCldiFwfZIVMGbbhNCSfgBwwGQpUEg8WXBfAc7wvsmfcL9fFTCZFiCwVjIssA3xxTCGv1tQYuz7kC7TB/AsfT1QOk+6sC4ixRBV++VQPgXJkC7wBxBEpakwpCtKUGSXodB/iIAw58ZN0I+rl3APC0IwL8op8FOBhzCuX+BQUphfEEdmzVAq66YQQhyBEFn9vlBRmEeQPsSZcLlshfCUDHpQcjjhEHQ20BC+yA5Qt8IFMI=",
          "dtype": "f4"
         },
         "y": {
          "bdata": "XQwBwWk/a8FryjvAVdkyQWoiVMHknFVBuFfhwSHDSkJLNlLBUry+P84gHsKv+QbCkzEfQn9JGsGAiqzBVb7PwI4O98F+2vBB7K+oQrLDzcAAFTlCiOh8wGTyHkKKqtBBvuPMwTtt7kBRL3LBXUhFwsSAwcCjkhBCUswGwi6+K8EKpphB6AO+QY4eEsI+dF/CbDsowoIaH8B+UjhCg2NlQfQ2j0HczuPBn+W/webuJsJmRw/CEV6UwRFl2L+jTwbCEqEUwDK1H8IfTABCsZOYQUeZ2cB4xE69FFOCQehRisH4085AT5cqQW0kbMLW/PHBsLGswWpREEIAQi7BwZgYQvQlDkHv3E3B01XVwd5IQUIJ5xVBiDTzQer/RsL7pvxBT28FwdF9S8GE2yNCt62LwTQm0EFB0PjBXjWLQSbF20CqBUXCTWMMwGsIvEEFh/zBFkWJwZk5nkDhwh/C6oFDwnb7KELfqY8/5FgLwm6S3kHsta3B6eYOwhqLwkB8C19BqMdSwlN1RcLKJylCqpKfwHwpP0J8JYvCQIRNwodpTsHYye3AOjSRP9wtCEG1E4/BcCZYwXUZFULWolTC87gCwhP3mEH9nTHC1/hNQYIhlMAsS2RByfy3QUFxvUFW7H5BWF3AwqKwf8JOFQlCA3S3QUiy9sEvvKTCV9LYQf/mg0EBKkdCeFx/wuVP8MFIMazBwWZYwV47dUHm3PZB2yIdQsKOhcGzPkTCip0AQhNz0UD1sXdAKwErQA95EkFa/Y5AfbqjwSLarcBqEIPBTHkZwSZAdMHOzwFBaaN3weZ2lsFiNxjC0XOnwefnAcJe0srBBnVxQ0L1n8IGr/tAyg+RQpiNZkG+jEhCkt5kwgQaj8JMNmjBYvSqQd0vhEHwNBTCaK7mwMCai0EvGKJBIPaZwQQYQ0HVVItAcdq5QZChvUChUKBB5ZqWQ4Cy7UAfcVvAJKAdwZLddMKrSti/7m5WQAsue8BtC/tAk6FcQqFKjcHru/rA4aHWwc9T70FrpZ7BT4/bQfujA8CVqdHAkfKAwf95AMI=",
          "dtype": "f4"
         },
         "z": {
          "bdata": "SEmXwqgyucHFn6RBmhoxwPYgtECbYftBeyWpv0F8TkIinnDBvcSsQS8XlMEGlpzCFO6GwYnyqUCSrFHBHzRnwbWyT8Gcpp3BVh2LQLqnukB+FV1C2zDMQTKO8MES99u6z/ZjQp9D8sGFEiRB2DHiQeHIcsL0pxHCHkfnQdPRp8GUw8VBeyNfQBF9h0EHeQTC/647QakOIUC2z43APCxBvw1rhUGvHeS/ibIQQZOMdEA8STxBq8LJQRYdHkBSm25BAfeXwZj+wUCFaE5AcPaEwveZp8CwqfXArcabwRuXg8L/C+xBCIEhwRH0vsHPBj/BokyIQph5c0Ky1wTAjN84wkwlNL/f5DhCn6KSwYAXlkGG6Z9BDkVtQUveVsD6JgZCQZh7QJQqI8Lz3ULBBkJywpv1uECeZi3BTXh4wiaW+EGRUvbBbmKDvmgzO0ETHOtBj62iPl3pCkLjmU3Co9RoQZ+IlcHexVlAafL+PoxHAcL77qBB1FHJwPfaIkE4fj7BYP6LwT5YrcEKMZfBdvWQwIEOHML1KxTCafUUQWSAn0GaXZHA9v2KwFtPpsB1gULCByKTwEBYQ8I+9z3A0PBgQcuI/0GjXoNA+nD2QGRSQ0ExYQ5C8JvLQWoudUF3SSZBZN2hQalUkUFZF5LBF1mSwL/L3kGnvdRB3j92wRhuvECax4XB07q9wSW7xUGVDjbCaExXQSTJMMJ7VZ1BHw8LwODdFMA1DoZBEWi5QPodLEEZIQfCMR3EwNUkccDPI3JBfYIpwgEsaEFhGETBSZ2Dv2MZkkE5P8RBsP06QZ13HcGNePZBodAqQUSegUAxHO5BJ8AgwXH2JMD1ZgrC9O4XQd3/XMK8HEzBJBLPQROrIUL52A7Ck5wHwaxbE71wToy/VgdUwWxAlkEd6HZBfcm8wZG4tEHzgSlBMDoTP647vb6d5uDBEntmw+UqwT41WQ5BICQ7wV3bMEKJ1yfB4SQ2wfAWrsFdWaFAlXLqQfg0bcEbdzjCTgMAQCjHBUKgDLtBJeI6wtmUhUFvHkvB0SfDQZEiJUI=",
          "dtype": "f4"
         }
        },
        {
         "hovertemplate": "Tipo de palabra=red<br>x=%{x}<br>y=%{y}<br>z=%{z}<br>text=%{text}<extra></extra>",
         "legendgroup": "red",
         "marker": {
          "color": "#EF553B",
          "size": 2,
          "symbol": "circle"
         },
         "mode": "markers+text",
         "name": "red",
         "scene": "scene",
         "showlegend": true,
         "text": [
          "ark",
          "sankara",
          "grail"
         ],
         "textposition": "top center",
         "type": "scatter3d",
         "x": {
          "bdata": "xubiv/Iud8Eoa0nB",
          "dtype": "f4"
         },
         "y": {
          "bdata": "vQgAwhiawD4EpxvC",
          "dtype": "f4"
         },
         "z": {
          "bdata": "PofpQQnNRMEFuWfC",
          "dtype": "f4"
         }
        }
       ],
       "layout": {
        "legend": {
         "title": {
          "text": "Tipo de palabra"
         },
         "tracegroupgap": 0
        },
        "margin": {
         "t": 60
        },
        "scene": {
         "domain": {
          "x": [
           0,
           1
          ],
          "y": [
           0,
           1
          ]
         },
         "xaxis": {
          "title": {
           "text": "x"
          }
         },
         "yaxis": {
          "title": {
           "text": "y"
          }
         },
         "zaxis": {
          "title": {
           "text": "z"
          }
         }
        },
        "template": {
         "data": {
          "bar": [
           {
            "error_x": {
             "color": "#2a3f5f"
            },
            "error_y": {
             "color": "#2a3f5f"
            },
            "marker": {
             "line": {
              "color": "#E5ECF6",
              "width": 0.5
             },
             "pattern": {
              "fillmode": "overlay",
              "size": 10,
              "solidity": 0.2
             }
            },
            "type": "bar"
           }
          ],
          "barpolar": [
           {
            "marker": {
             "line": {
              "color": "#E5ECF6",
              "width": 0.5
             },
             "pattern": {
              "fillmode": "overlay",
              "size": 10,
              "solidity": 0.2
             }
            },
            "type": "barpolar"
           }
          ],
          "carpet": [
           {
            "aaxis": {
             "endlinecolor": "#2a3f5f",
             "gridcolor": "white",
             "linecolor": "white",
             "minorgridcolor": "white",
             "startlinecolor": "#2a3f5f"
            },
            "baxis": {
             "endlinecolor": "#2a3f5f",
             "gridcolor": "white",
             "linecolor": "white",
             "minorgridcolor": "white",
             "startlinecolor": "#2a3f5f"
            },
            "type": "carpet"
           }
          ],
          "choropleth": [
           {
            "colorbar": {
             "outlinewidth": 0,
             "ticks": ""
            },
            "type": "choropleth"
           }
          ],
          "contour": [
           {
            "colorbar": {
             "outlinewidth": 0,
             "ticks": ""
            },
            "colorscale": [
             [
              0,
              "#0d0887"
             ],
             [
              0.1111111111111111,
              "#46039f"
             ],
             [
              0.2222222222222222,
              "#7201a8"
             ],
             [
              0.3333333333333333,
              "#9c179e"
             ],
             [
              0.4444444444444444,
              "#bd3786"
             ],
             [
              0.5555555555555556,
              "#d8576b"
             ],
             [
              0.6666666666666666,
              "#ed7953"
             ],
             [
              0.7777777777777778,
              "#fb9f3a"
             ],
             [
              0.8888888888888888,
              "#fdca26"
             ],
             [
              1,
              "#f0f921"
             ]
            ],
            "type": "contour"
           }
          ],
          "contourcarpet": [
           {
            "colorbar": {
             "outlinewidth": 0,
             "ticks": ""
            },
            "type": "contourcarpet"
           }
          ],
          "heatmap": [
           {
            "colorbar": {
             "outlinewidth": 0,
             "ticks": ""
            },
            "colorscale": [
             [
              0,
              "#0d0887"
             ],
             [
              0.1111111111111111,
              "#46039f"
             ],
             [
              0.2222222222222222,
              "#7201a8"
             ],
             [
              0.3333333333333333,
              "#9c179e"
             ],
             [
              0.4444444444444444,
              "#bd3786"
             ],
             [
              0.5555555555555556,
              "#d8576b"
             ],
             [
              0.6666666666666666,
              "#ed7953"
             ],
             [
              0.7777777777777778,
              "#fb9f3a"
             ],
             [
              0.8888888888888888,
              "#fdca26"
             ],
             [
              1,
              "#f0f921"
             ]
            ],
            "type": "heatmap"
           }
          ],
          "histogram": [
           {
            "marker": {
             "pattern": {
              "fillmode": "overlay",
              "size": 10,
              "solidity": 0.2
             }
            },
            "type": "histogram"
           }
          ],
          "histogram2d": [
           {
            "colorbar": {
             "outlinewidth": 0,
             "ticks": ""
            },
            "colorscale": [
             [
              0,
              "#0d0887"
             ],
             [
              0.1111111111111111,
              "#46039f"
             ],
             [
              0.2222222222222222,
              "#7201a8"
             ],
             [
              0.3333333333333333,
              "#9c179e"
             ],
             [
              0.4444444444444444,
              "#bd3786"
             ],
             [
              0.5555555555555556,
              "#d8576b"
             ],
             [
              0.6666666666666666,
              "#ed7953"
             ],
             [
              0.7777777777777778,
              "#fb9f3a"
             ],
             [
              0.8888888888888888,
              "#fdca26"
             ],
             [
              1,
              "#f0f921"
             ]
            ],
            "type": "histogram2d"
           }
          ],
          "histogram2dcontour": [
           {
            "colorbar": {
             "outlinewidth": 0,
             "ticks": ""
            },
            "colorscale": [
             [
              0,
              "#0d0887"
             ],
             [
              0.1111111111111111,
              "#46039f"
             ],
             [
              0.2222222222222222,
              "#7201a8"
             ],
             [
              0.3333333333333333,
              "#9c179e"
             ],
             [
              0.4444444444444444,
              "#bd3786"
             ],
             [
              0.5555555555555556,
              "#d8576b"
             ],
             [
              0.6666666666666666,
              "#ed7953"
             ],
             [
              0.7777777777777778,
              "#fb9f3a"
             ],
             [
              0.8888888888888888,
              "#fdca26"
             ],
             [
              1,
              "#f0f921"
             ]
            ],
            "type": "histogram2dcontour"
           }
          ],
          "mesh3d": [
           {
            "colorbar": {
             "outlinewidth": 0,
             "ticks": ""
            },
            "type": "mesh3d"
           }
          ],
          "parcoords": [
           {
            "line": {
             "colorbar": {
              "outlinewidth": 0,
              "ticks": ""
             }
            },
            "type": "parcoords"
           }
          ],
          "pie": [
           {
            "automargin": true,
            "type": "pie"
           }
          ],
          "scatter": [
           {
            "fillpattern": {
             "fillmode": "overlay",
             "size": 10,
             "solidity": 0.2
            },
            "type": "scatter"
           }
          ],
          "scatter3d": [
           {
            "line": {
             "colorbar": {
              "outlinewidth": 0,
              "ticks": ""
             }
            },
            "marker": {
             "colorbar": {
              "outlinewidth": 0,
              "ticks": ""
             }
            },
            "type": "scatter3d"
           }
          ],
          "scattercarpet": [
           {
            "marker": {
             "colorbar": {
              "outlinewidth": 0,
              "ticks": ""
             }
            },
            "type": "scattercarpet"
           }
          ],
          "scattergeo": [
           {
            "marker": {
             "colorbar": {
              "outlinewidth": 0,
              "ticks": ""
             }
            },
            "type": "scattergeo"
           }
          ],
          "scattergl": [
           {
            "marker": {
             "colorbar": {
              "outlinewidth": 0,
              "ticks": ""
             }
            },
            "type": "scattergl"
           }
          ],
          "scattermap": [
           {
            "marker": {
             "colorbar": {
              "outlinewidth": 0,
              "ticks": ""
             }
            },
            "type": "scattermap"
           }
          ],
          "scattermapbox": [
           {
            "marker": {
             "colorbar": {
              "outlinewidth": 0,
              "ticks": ""
             }
            },
            "type": "scattermapbox"
           }
          ],
          "scatterpolar": [
           {
            "marker": {
             "colorbar": {
              "outlinewidth": 0,
              "ticks": ""
             }
            },
            "type": "scatterpolar"
           }
          ],
          "scatterpolargl": [
           {
            "marker": {
             "colorbar": {
              "outlinewidth": 0,
              "ticks": ""
             }
            },
            "type": "scatterpolargl"
           }
          ],
          "scatterternary": [
           {
            "marker": {
             "colorbar": {
              "outlinewidth": 0,
              "ticks": ""
             }
            },
            "type": "scatterternary"
           }
          ],
          "surface": [
           {
            "colorbar": {
             "outlinewidth": 0,
             "ticks": ""
            },
            "colorscale": [
             [
              0,
              "#0d0887"
             ],
             [
              0.1111111111111111,
              "#46039f"
             ],
             [
              0.2222222222222222,
              "#7201a8"
             ],
             [
              0.3333333333333333,
              "#9c179e"
             ],
             [
              0.4444444444444444,
              "#bd3786"
             ],
             [
              0.5555555555555556,
              "#d8576b"
             ],
             [
              0.6666666666666666,
              "#ed7953"
             ],
             [
              0.7777777777777778,
              "#fb9f3a"
             ],
             [
              0.8888888888888888,
              "#fdca26"
             ],
             [
              1,
              "#f0f921"
             ]
            ],
            "type": "surface"
           }
          ],
          "table": [
           {
            "cells": {
             "fill": {
              "color": "#EBF0F8"
             },
             "line": {
              "color": "white"
             }
            },
            "header": {
             "fill": {
              "color": "#C8D4E3"
             },
             "line": {
              "color": "white"
             }
            },
            "type": "table"
           }
          ]
         },
         "layout": {
          "annotationdefaults": {
           "arrowcolor": "#2a3f5f",
           "arrowhead": 0,
           "arrowwidth": 1
          },
          "autotypenumbers": "strict",
          "coloraxis": {
           "colorbar": {
            "outlinewidth": 0,
            "ticks": ""
           }
          },
          "colorscale": {
           "diverging": [
            [
             0,
             "#8e0152"
            ],
            [
             0.1,
             "#c51b7d"
            ],
            [
             0.2,
             "#de77ae"
            ],
            [
             0.3,
             "#f1b6da"
            ],
            [
             0.4,
             "#fde0ef"
            ],
            [
             0.5,
             "#f7f7f7"
            ],
            [
             0.6,
             "#e6f5d0"
            ],
            [
             0.7,
             "#b8e186"
            ],
            [
             0.8,
             "#7fbc41"
            ],
            [
             0.9,
             "#4d9221"
            ],
            [
             1,
             "#276419"
            ]
           ],
           "sequential": [
            [
             0,
             "#0d0887"
            ],
            [
             0.1111111111111111,
             "#46039f"
            ],
            [
             0.2222222222222222,
             "#7201a8"
            ],
            [
             0.3333333333333333,
             "#9c179e"
            ],
            [
             0.4444444444444444,
             "#bd3786"
            ],
            [
             0.5555555555555556,
             "#d8576b"
            ],
            [
             0.6666666666666666,
             "#ed7953"
            ],
            [
             0.7777777777777778,
             "#fb9f3a"
            ],
            [
             0.8888888888888888,
             "#fdca26"
            ],
            [
             1,
             "#f0f921"
            ]
           ],
           "sequentialminus": [
            [
             0,
             "#0d0887"
            ],
            [
             0.1111111111111111,
             "#46039f"
            ],
            [
             0.2222222222222222,
             "#7201a8"
            ],
            [
             0.3333333333333333,
             "#9c179e"
            ],
            [
             0.4444444444444444,
             "#bd3786"
            ],
            [
             0.5555555555555556,
             "#d8576b"
            ],
            [
             0.6666666666666666,
             "#ed7953"
            ],
            [
             0.7777777777777778,
             "#fb9f3a"
            ],
            [
             0.8888888888888888,
             "#fdca26"
            ],
            [
             1,
             "#f0f921"
            ]
           ]
          },
          "colorway": [
           "#636efa",
           "#EF553B",
           "#00cc96",
           "#ab63fa",
           "#FFA15A",
           "#19d3f3",
           "#FF6692",
           "#B6E880",
           "#FF97FF",
           "#FECB52"
          ],
          "font": {
           "color": "#2a3f5f"
          },
          "geo": {
           "bgcolor": "white",
           "lakecolor": "white",
           "landcolor": "#E5ECF6",
           "showlakes": true,
           "showland": true,
           "subunitcolor": "white"
          },
          "hoverlabel": {
           "align": "left"
          },
          "hovermode": "closest",
          "mapbox": {
           "style": "light"
          },
          "paper_bgcolor": "white",
          "plot_bgcolor": "#E5ECF6",
          "polar": {
           "angularaxis": {
            "gridcolor": "white",
            "linecolor": "white",
            "ticks": ""
           },
           "bgcolor": "#E5ECF6",
           "radialaxis": {
            "gridcolor": "white",
            "linecolor": "white",
            "ticks": ""
           }
          },
          "scene": {
           "xaxis": {
            "backgroundcolor": "#E5ECF6",
            "gridcolor": "white",
            "gridwidth": 2,
            "linecolor": "white",
            "showbackground": true,
            "ticks": "",
            "zerolinecolor": "white"
           },
           "yaxis": {
            "backgroundcolor": "#E5ECF6",
            "gridcolor": "white",
            "gridwidth": 2,
            "linecolor": "white",
            "showbackground": true,
            "ticks": "",
            "zerolinecolor": "white"
           },
           "zaxis": {
            "backgroundcolor": "#E5ECF6",
            "gridcolor": "white",
            "gridwidth": 2,
            "linecolor": "white",
            "showbackground": true,
            "ticks": "",
            "zerolinecolor": "white"
           }
          },
          "shapedefaults": {
           "line": {
            "color": "#2a3f5f"
           }
          },
          "ternary": {
           "aaxis": {
            "gridcolor": "white",
            "linecolor": "white",
            "ticks": ""
           },
           "baxis": {
            "gridcolor": "white",
            "linecolor": "white",
            "ticks": ""
           },
           "bgcolor": "#E5ECF6",
           "caxis": {
            "gridcolor": "white",
            "linecolor": "white",
            "ticks": ""
           }
          },
          "title": {
           "x": 0.05
          },
          "xaxis": {
           "automargin": true,
           "gridcolor": "white",
           "linecolor": "white",
           "ticks": "",
           "title": {
            "standoff": 15
           },
           "zerolinecolor": "white",
           "zerolinewidth": 2
          },
          "yaxis": {
           "automargin": true,
           "gridcolor": "white",
           "linecolor": "white",
           "ticks": "",
           "title": {
            "standoff": 15
           },
           "zerolinecolor": "white",
           "zerolinewidth": 2
          }
         }
        }
       }
      }
     },
     "metadata": {},
     "output_type": "display_data"
    }
   ],
   "source": [
    "vecs, labels = reduce_dimensions(w2v_model,3)\n",
    "\n",
    "MAX_WORDS=200\n",
    "plot_embeddings(w2v_model, vecs, labels, MAX_WORDS, highlight_words=[\"grail\",\"ark\",\"sankara\"])"
   ]
  }
 ],
 "metadata": {
  "kernelspec": {
   "display_name": "venv",
   "language": "python",
   "name": "python3"
  },
  "language_info": {
   "codemirror_mode": {
    "name": "ipython",
    "version": 3
   },
   "file_extension": ".py",
   "mimetype": "text/x-python",
   "name": "python",
   "nbconvert_exporter": "python",
   "pygments_lexer": "ipython3",
   "version": "3.12.10"
  }
 },
 "nbformat": 4,
 "nbformat_minor": 5
}
