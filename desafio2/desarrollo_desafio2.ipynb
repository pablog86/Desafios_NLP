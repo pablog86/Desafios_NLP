{
 "cells": [
  {
   "cell_type": "markdown",
   "id": "8b16d688",
   "metadata": {},
   "source": [
    "# Desafio 2 - NLP\n",
    "\n",
    "- Crear sus propios vectores con Gensim basado en lo visto en clase con otro dataset.\n",
    "- Probar términos de interés y explicar similitudes en el espacio de embeddings.\n",
    "- Intentar plantear y probar tests de analogías. \n",
    "- Graficar los embeddings resultantes.\n",
    "- Sacar conclusiones."
   ]
  },
  {
   "cell_type": "markdown",
   "id": "cd8bb8c1",
   "metadata": {},
   "source": [
    "## Imports"
   ]
  },
  {
   "cell_type": "code",
   "execution_count": 659,
   "id": "eda5d6ce",
   "metadata": {},
   "outputs": [],
   "source": [
    "import pandas as pd\n",
    "import matplotlib.pyplot as plt\n",
    "import seaborn as sns\n",
    "import multiprocessing\n",
    "from gensim.models import Word2Vec\n",
    "import os\n",
    "from tensorflow.keras.preprocessing.text import text_to_word_sequence\n",
    "from nltk.corpus import stopwords\n",
    "import nltk\n",
    "from gensim.models.callbacks import CallbackAny2Vec\n",
    "from sklearn.metrics.pairwise import cosine_similarity\n",
    "\n",
    "from sklearn.decomposition import IncrementalPCA    \n",
    "from sklearn.manifold import TSNE                   \n",
    "import numpy as np\n",
    "import plotly.graph_objects as go\n",
    "import plotly.express as px                   "
   ]
  },
  {
   "cell_type": "markdown",
   "id": "298aeb29",
   "metadata": {},
   "source": [
    "## Funciones generales"
   ]
  },
  {
   "cell_type": "code",
   "execution_count": 660,
   "id": "bdea8400",
   "metadata": {},
   "outputs": [],
   "source": [
    "# Durante el entrenamiento gensim por defecto no informa el \"loss\" en cada época\n",
    "# Sobrecargamos el callback para poder tener esta información\n",
    "class callback(CallbackAny2Vec):\n",
    "    \"\"\"\n",
    "    Callback to print loss after each epoch\n",
    "    \"\"\"\n",
    "    def __init__(self):\n",
    "        self.epoch = 0\n",
    "\n",
    "    def on_epoch_end(self, model):\n",
    "        loss = model.get_latest_training_loss()\n",
    "        if self.epoch == 0:\n",
    "            print('Loss after epoch {}: {}'.format(self.epoch, loss))\n",
    "        else:\n",
    "            print('Loss after epoch {}: {}'.format(self.epoch, loss- self.loss_previous_step))\n",
    "        self.epoch += 1\n",
    "        self.loss_previous_step = loss"
   ]
  },
  {
   "cell_type": "code",
   "execution_count": 661,
   "id": "f174c202",
   "metadata": {},
   "outputs": [],
   "source": [
    "def reduce_dimensions(model, num_dimensions = 2 ):\n",
    "     \n",
    "    vectors = np.asarray(model.wv.vectors)\n",
    "    labels = np.asarray(model.wv.index_to_key)  \n",
    "\n",
    "    tsne = TSNE(n_components=num_dimensions, random_state=0)\n",
    "    vectors = tsne.fit_transform(vectors)\n",
    "\n",
    "    return vectors, labels"
   ]
  },
  {
   "cell_type": "code",
   "execution_count": 662,
   "id": "aed1521d",
   "metadata": {},
   "outputs": [],
   "source": [
    "def max_words (model, vecs, labels, highlight_words, MAX_WORDS, topn=10):\n",
    "    all_words = list(labels)\n",
    "    selected_words = set(highlight_words)\n",
    "\n",
    "    for word in highlight_words:\n",
    "        if word in model.wv:\n",
    "            try:\n",
    "                similar = model.wv.most_similar(word, topn=topn)\n",
    "                selected_words.update([w for w, _ in similar])\n",
    "            except KeyError:\n",
    "                pass  # por si alguna palabra no está en vocabulario\n",
    "\n",
    "    for word in all_words:\n",
    "        if len(selected_words) >= MAX_WORDS:\n",
    "            break\n",
    "        if word not in selected_words:\n",
    "            selected_words.add(word)\n",
    "\n",
    "    selected_words = list(selected_words)\n",
    "    indices = [all_words.index(w) for w in selected_words if w in all_words]\n",
    "    filtered_vecs = vecs[indices]\n",
    "    filtered_labels = [all_words[i] for i in indices]\n",
    "    return filtered_vecs, filtered_labels"
   ]
  },
  {
   "cell_type": "code",
   "execution_count": 663,
   "id": "da8137cb",
   "metadata": {},
   "outputs": [],
   "source": [
    "def plot_embeddings(model, vecs, labels, MAX_WORDS=200, highlight_words=None):\n",
    "    assert vecs.shape[0] == len(labels), \"Vecs y labels deben tener la misma longitud\"\n",
    "    vecs, labels = max_words(model, vecs, labels, highlight_words, MAX_WORDS)\n",
    "    # Colores: rojo si está en highlight, azul si no\n",
    "    highlight_words = set(highlight_words) if highlight_words else set()\n",
    "    colors = ['red' if word in highlight_words else 'blue' for word in labels]\n",
    "\n",
    "    if vecs.shape[1] == 2:\n",
    "        fig = px.scatter(\n",
    "            x=vecs[:, 0],\n",
    "            y=vecs[:, 1],\n",
    "            text=labels,\n",
    "            color=colors,\n",
    "            labels={\"color\": \"Tipo de palabra\"}\n",
    "        )\n",
    "    elif vecs.shape[1] == 3:\n",
    "        fig = px.scatter_3d(\n",
    "            x=vecs[:, 0],\n",
    "            y=vecs[:, 1],\n",
    "            z=vecs[:, 2],\n",
    "            text=labels,\n",
    "            color=colors,\n",
    "            labels={\"color\": \"Tipo de palabra\"}\n",
    "        )\n",
    "        fig.update_traces(marker_size = 2)\n",
    "    else:\n",
    "        raise ValueError(\"Los vectores deben ser de dimensión 2 o 3\")\n",
    "\n",
    "    fig.update_traces(textposition='top center')\n",
    "    fig.show()"
   ]
  },
  {
   "cell_type": "code",
   "execution_count": 664,
   "id": "53675d0b",
   "metadata": {},
   "outputs": [],
   "source": [
    "def embeddings_matrix_distance(model, words, extra_vector=None, extra_label=\"nuevo\"):\n",
    "    emb = np.array([model.wv.get_vector(word) for word in words])\n",
    "    if extra_vector is not None:\n",
    "        emb = np.vstack([emb, extra_vector])\n",
    "        words = words + [extra_label]\n",
    "    dist = cosine_similarity(emb, emb)\n",
    "    plot_matrix_distance(words, dist)\n",
    "\n",
    "\n",
    "def plot_matrix_distance(words, dist):\n",
    "    fig = plt.figure(figsize=(16,9))\n",
    "    ax = fig.add_subplot()\n",
    "    sns.heatmap(dist, xticklabels=words, yticklabels=words, \n",
    "                annot=True, fmt=\".2f\", cmap=\"YlGnBu\", ax=ax, mask=np.triu(dist))\n",
    "    plt.show()"
   ]
  },
  {
   "cell_type": "markdown",
   "id": "055a0a3c",
   "metadata": {},
   "source": [
    "## Preprocesamiento"
   ]
  },
  {
   "cell_type": "code",
   "execution_count": 665,
   "id": "45b0047f",
   "metadata": {},
   "outputs": [
    {
     "data": {
      "text/plain": [
       "['Indiana_Jones_And_The_Last_Crusade.txt',\n",
       " 'Indiana_Jones_And_The_Temple_Of_Doom.txt',\n",
       " 'Raiders_Of_The_Lost_Ark.txt']"
      ]
     },
     "execution_count": 665,
     "metadata": {},
     "output_type": "execute_result"
    }
   ],
   "source": [
    "os.listdir(\"corpus\")"
   ]
  },
  {
   "cell_type": "code",
   "execution_count": 666,
   "id": "dac7130d",
   "metadata": {},
   "outputs": [
    {
     "data": {
      "application/vnd.microsoft.datawrangler.viewer.v0+json": {
       "columns": [
        {
         "name": "index",
         "rawType": "int64",
         "type": "integer"
        },
        {
         "name": "0",
         "rawType": "object",
         "type": "string"
        }
       ],
       "conversionMethod": "pd.DataFrame",
       "ref": "11772c89-7b9b-46b4-94da-d1f8f069e09c",
       "rows": [
        [
         "0",
         "\"INDIANA JONES AND THE LAST CRUSADE\""
        ],
        [
         "1",
         "Screenplay by"
        ],
        [
         "2",
         "Jeffrey Boam"
        ],
        [
         "3",
         "FADE IN:"
        ],
        [
         "4",
         "EXT. DESERT OF THE AMERICAN SOUTHWEST - DAY"
        ]
       ],
       "shape": {
        "columns": 1,
        "rows": 5
       }
      },
      "text/html": [
       "<div>\n",
       "<style scoped>\n",
       "    .dataframe tbody tr th:only-of-type {\n",
       "        vertical-align: middle;\n",
       "    }\n",
       "\n",
       "    .dataframe tbody tr th {\n",
       "        vertical-align: top;\n",
       "    }\n",
       "\n",
       "    .dataframe thead th {\n",
       "        text-align: right;\n",
       "    }\n",
       "</style>\n",
       "<table border=\"1\" class=\"dataframe\">\n",
       "  <thead>\n",
       "    <tr style=\"text-align: right;\">\n",
       "      <th></th>\n",
       "      <th>0</th>\n",
       "    </tr>\n",
       "  </thead>\n",
       "  <tbody>\n",
       "    <tr>\n",
       "      <th>0</th>\n",
       "      <td>\"INDIANA JONES AND THE LAST CRUSADE\"</td>\n",
       "    </tr>\n",
       "    <tr>\n",
       "      <th>1</th>\n",
       "      <td>Screenplay by</td>\n",
       "    </tr>\n",
       "    <tr>\n",
       "      <th>2</th>\n",
       "      <td>Jeffrey Boam</td>\n",
       "    </tr>\n",
       "    <tr>\n",
       "      <th>3</th>\n",
       "      <td>FADE IN:</td>\n",
       "    </tr>\n",
       "    <tr>\n",
       "      <th>4</th>\n",
       "      <td>EXT. DESERT OF THE AMERICAN SOUTHWEST - DAY</td>\n",
       "    </tr>\n",
       "  </tbody>\n",
       "</table>\n",
       "</div>"
      ],
      "text/plain": [
       "                                             0\n",
       "0         \"INDIANA JONES AND THE LAST CRUSADE\"\n",
       "1                                Screenplay by\n",
       "2                                 Jeffrey Boam\n",
       "3                                     FADE IN:\n",
       "4  EXT. DESERT OF THE AMERICAN SOUTHWEST - DAY"
      ]
     },
     "metadata": {},
     "output_type": "display_data"
    },
    {
     "data": {
      "text/plain": [
       "'Cantidad de documentos:'"
      ]
     },
     "metadata": {},
     "output_type": "display_data"
    },
    {
     "data": {
      "text/plain": [
       "13504"
      ]
     },
     "metadata": {},
     "output_type": "display_data"
    }
   ],
   "source": [
    "df1 = pd.read_csv('corpus/Indiana_Jones_And_The_Last_Crusade.txt', sep='/n', header=None, engine='python')\n",
    "df2 = pd.read_csv('corpus/Raiders_Of_The_Lost_Ark.txt', sep='/n', header=None, engine='python')\n",
    "df3 = pd.read_csv('corpus/Indiana_Jones_And_The_Temple_Of_Doom.txt', sep='/n', header=None, engine='python')\n",
    "df = pd.concat([df1, df2, df3], ignore_index=True)\n",
    "display(df.head())\n",
    "display(\"Cantidad de documentos:\", df.shape[0])"
   ]
  },
  {
   "cell_type": "code",
   "execution_count": 667,
   "id": "e043b19d",
   "metadata": {},
   "outputs": [
    {
     "name": "stderr",
     "output_type": "stream",
     "text": [
      "[nltk_data] Downloading package stopwords to\n",
      "[nltk_data]     C:\\Users\\Pablo/nltk_data...\n",
      "[nltk_data]   Package stopwords is already up-to-date!\n"
     ]
    }
   ],
   "source": [
    "nltk.download('stopwords')\n",
    "stop_words = set(stopwords.words('english')) \n",
    "\n",
    "sentence_tokens = []\n",
    "for _, row in df[:None].iterrows():\n",
    "    tokens = text_to_word_sequence(row[0])  # Tokenizar con Keras\n",
    "    filtered_tokens = [word for word in tokens if word not in stop_words]\n",
    "    sentence_tokens.append(filtered_tokens)"
   ]
  },
  {
   "cell_type": "markdown",
   "id": "5f2e1b73",
   "metadata": {},
   "source": [
    "## Crear los vectores (word2vec)"
   ]
  },
  {
   "cell_type": "code",
   "execution_count": 668,
   "id": "c652e22a",
   "metadata": {},
   "outputs": [],
   "source": [
    "w2v_model = Word2Vec(min_count=4,    # frecuencia mínima de palabra para incluirla en el vocabulario\n",
    "                     window=10,       # cant de palabras antes y desp de la predicha\n",
    "                     vector_size=384, # dimensionalidad de los vectores \n",
    "                     negative=25,    # cantidad de negative samples... 0 es no se usa\n",
    "                     workers=4,      # si tienen más cores pueden cambiar este valor\n",
    "                     sg=1)           # modelo 0:CBOW  1:skipgram"
   ]
  },
  {
   "cell_type": "code",
   "execution_count": 669,
   "id": "d49e19f0",
   "metadata": {},
   "outputs": [
    {
     "data": {
      "text/plain": [
       "'Cantidad de docs en el corpus:'"
      ]
     },
     "metadata": {},
     "output_type": "display_data"
    },
    {
     "data": {
      "text/plain": [
       "13504"
      ]
     },
     "metadata": {},
     "output_type": "display_data"
    },
    {
     "data": {
      "text/plain": [
       "'Cantidad de words distintas en el corpus:'"
      ]
     },
     "metadata": {},
     "output_type": "display_data"
    },
    {
     "data": {
      "text/plain": [
       "2214"
      ]
     },
     "metadata": {},
     "output_type": "display_data"
    }
   ],
   "source": [
    "w2v_model.build_vocab(sentence_tokens)\n",
    "display(\"Cantidad de docs en el corpus:\", w2v_model.corpus_count)\n",
    "display(\"Cantidad de words distintas en el corpus:\", len(w2v_model.wv.index_to_key))"
   ]
  },
  {
   "cell_type": "code",
   "execution_count": 670,
   "id": "cc351ba3",
   "metadata": {},
   "outputs": [
    {
     "name": "stdout",
     "output_type": "stream",
     "text": [
      "Loss after epoch 0: 249454.828125\n",
      "Loss after epoch 1: 156733.296875\n",
      "Loss after epoch 2: 149225.6875\n",
      "Loss after epoch 3: 147198.5\n",
      "Loss after epoch 4: 146100.0625\n",
      "Loss after epoch 5: 143444.875\n",
      "Loss after epoch 6: 131428.75\n",
      "Loss after epoch 7: 123197.375\n",
      "Loss after epoch 8: 125485.0\n",
      "Loss after epoch 9: 118460.25\n",
      "Loss after epoch 10: 117426.625\n",
      "Loss after epoch 11: 115814.25\n",
      "Loss after epoch 12: 112132.0\n",
      "Loss after epoch 13: 110374.25\n",
      "Loss after epoch 14: 107018.125\n",
      "Loss after epoch 15: 100967.375\n",
      "Loss after epoch 16: 94553.5\n",
      "Loss after epoch 17: 93438.75\n",
      "Loss after epoch 18: 91549.5\n",
      "Loss after epoch 19: 89957.5\n",
      "Loss after epoch 20: 89218.25\n",
      "Loss after epoch 21: 86787.75\n",
      "Loss after epoch 22: 85857.25\n",
      "Loss after epoch 23: 82931.0\n",
      "Loss after epoch 24: 83248.5\n",
      "Loss after epoch 25: 81437.25\n",
      "Loss after epoch 26: 80368.0\n",
      "Loss after epoch 27: 78384.25\n",
      "Loss after epoch 28: 77795.0\n",
      "Loss after epoch 29: 76838.5\n",
      "Loss after epoch 30: 75096.0\n",
      "Loss after epoch 31: 75069.75\n",
      "Loss after epoch 32: 73622.25\n",
      "Loss after epoch 33: 73748.5\n",
      "Loss after epoch 34: 73223.75\n",
      "Loss after epoch 35: 72382.0\n",
      "Loss after epoch 36: 72695.75\n",
      "Loss after epoch 37: 71068.0\n",
      "Loss after epoch 38: 70635.5\n",
      "Loss after epoch 39: 69547.75\n",
      "Loss after epoch 40: 70409.5\n",
      "Loss after epoch 41: 68907.5\n",
      "Loss after epoch 42: 64591.0\n",
      "Loss after epoch 43: 64833.5\n",
      "Loss after epoch 44: 64419.5\n",
      "Loss after epoch 45: 63861.5\n",
      "Loss after epoch 46: 64055.5\n",
      "Loss after epoch 47: 64016.5\n",
      "Loss after epoch 48: 62533.5\n",
      "Loss after epoch 49: 63496.0\n",
      "Loss after epoch 50: 63476.5\n",
      "Loss after epoch 51: 62758.5\n",
      "Loss after epoch 52: 62274.0\n",
      "Loss after epoch 53: 62745.5\n",
      "Loss after epoch 54: 62729.5\n",
      "Loss after epoch 55: 63380.0\n",
      "Loss after epoch 56: 62306.0\n",
      "Loss after epoch 57: 62826.0\n",
      "Loss after epoch 58: 61246.0\n",
      "Loss after epoch 59: 61860.5\n",
      "Loss after epoch 60: 60929.5\n",
      "Loss after epoch 61: 61281.5\n",
      "Loss after epoch 62: 59965.5\n",
      "Loss after epoch 63: 60390.0\n",
      "Loss after epoch 64: 60780.5\n",
      "Loss after epoch 65: 61117.5\n",
      "Loss after epoch 66: 59429.5\n",
      "Loss after epoch 67: 60811.0\n",
      "Loss after epoch 68: 60542.5\n",
      "Loss after epoch 69: 60129.0\n"
     ]
    },
    {
     "data": {
      "text/plain": [
       "(2518786, 3386040)"
      ]
     },
     "execution_count": 670,
     "metadata": {},
     "output_type": "execute_result"
    }
   ],
   "source": [
    "w2v_model.train(sentence_tokens,\n",
    "                 total_examples=w2v_model.corpus_count,\n",
    "                 epochs=70,\n",
    "                 compute_loss = True,\n",
    "                 callbacks=[callback()]\n",
    "                 )"
   ]
  },
  {
   "cell_type": "markdown",
   "id": "26286f5b",
   "metadata": {},
   "source": [
    "## Pruebas"
   ]
  },
  {
   "cell_type": "code",
   "execution_count": 671,
   "id": "bab345fd",
   "metadata": {},
   "outputs": [
    {
     "data": {
      "text/plain": [
       "[('diary', 0.5241427421569824),\n",
       " ('attempt', 0.5012202262878418),\n",
       " ('pages', 0.4930433928966522),\n",
       " ('sinister', 0.4870297610759735),\n",
       " ('knight', 0.4811377227306366),\n",
       " ('page', 0.4804885685443878),\n",
       " ('forget', 0.47650742530822754),\n",
       " ('seal', 0.4636004865169525),\n",
       " ('complete', 0.456119179725647),\n",
       " ('america', 0.44103026390075684)]"
      ]
     },
     "execution_count": 671,
     "metadata": {},
     "output_type": "execute_result"
    }
   ],
   "source": [
    "w2v_model.wv.most_similar(positive=[\"grail\"], topn=10)"
   ]
  },
  {
   "cell_type": "markdown",
   "id": "c50130a4",
   "metadata": {},
   "source": [
    "En este caso podemos ver como la palabra que mas correlación tiene con Grial es Diario, en la pelicula \"Indiana Jones y la última cruzada\", se menciona varias veces al diario del grial donde estaba la información de como encontrarlo. "
   ]
  },
  {
   "cell_type": "code",
   "execution_count": 672,
   "id": "ed107869",
   "metadata": {},
   "outputs": [
    {
     "data": {
      "text/plain": [
       "[('covenant', 0.553375780582428),\n",
       " ('poles', 0.5010483860969543),\n",
       " ('crated', 0.49781620502471924),\n",
       " ('lid', 0.4494187533855438),\n",
       " ('rod', 0.4197686016559601),\n",
       " ('message', 0.38662293553352356),\n",
       " ('shut', 0.38425305485725403),\n",
       " ('arrives', 0.3800394833087921),\n",
       " ('tightly', 0.37859854102134705),\n",
       " ('means', 0.3718227446079254)]"
      ]
     },
     "execution_count": 672,
     "metadata": {},
     "output_type": "execute_result"
    }
   ],
   "source": [
    "w2v_model.wv.most_similar(positive=[\"ark\"], topn=10)"
   ]
  },
  {
   "cell_type": "markdown",
   "id": "f8667c76",
   "metadata": {},
   "source": [
    "En \"Indiana Jones y los cazadores del arca perdida\" la famosa arca se llama \"el arca de la alianza\" por eso la mejor correlación es con esa palabra."
   ]
  },
  {
   "cell_type": "code",
   "execution_count": 673,
   "id": "81dace33",
   "metadata": {},
   "outputs": [
    {
     "data": {
      "text/plain": [
       "[('stones', 0.718417763710022),\n",
       " ('stolen', 0.6519231796264648),\n",
       " ('sacred', 0.6461431980133057),\n",
       " ('bag', 0.604703426361084),\n",
       " ('magical', 0.5736081004142761),\n",
       " ('jai', 0.5678609609603882),\n",
       " ('brothers', 0.5602326393127441),\n",
       " ('gave', 0.5539853572845459),\n",
       " ('goddess', 0.5538668632507324),\n",
       " ('stole', 0.531678318977356)]"
      ]
     },
     "execution_count": 673,
     "metadata": {},
     "output_type": "execute_result"
    }
   ],
   "source": [
    "w2v_model.wv.most_similar(positive=[\"sankara\"], topn=10)"
   ]
  },
  {
   "cell_type": "markdown",
   "id": "a6e4bfd6",
   "metadata": {},
   "source": [
    "En \"Indiana Jones y el templo de la pedición\" el objeto que Indy debe rescatar era la Piedra de Sankara, que eran unas piedras sagradas."
   ]
  },
  {
   "cell_type": "code",
   "execution_count": 674,
   "id": "dae127db",
   "metadata": {},
   "outputs": [
    {
     "data": {
      "text/plain": [
       "[('interrupting', 0.05359134078025818),\n",
       " ('makes', 0.048473015427589417),\n",
       " ('overlapping', 0.041112739592790604),\n",
       " ('subtitled', 0.040371742099523544),\n",
       " ('maybe', 0.020450284704566002),\n",
       " ('matter', 0.01541290245950222),\n",
       " ('drinks', 0.004645785316824913),\n",
       " ('sinister', -0.002820732071995735),\n",
       " ('mail', -0.003089320380240679),\n",
       " ('opening', -0.007235695142298937)]"
      ]
     },
     "execution_count": 674,
     "metadata": {},
     "output_type": "execute_result"
    }
   ],
   "source": [
    "w2v_model.wv.most_similar(negative=[\"boulder\"], topn=10)"
   ]
  },
  {
   "cell_type": "markdown",
   "id": "54aead4b",
   "metadata": {},
   "source": [
    "Para la relación inversa no es que se detecten antonimos, sino palabras que no estan muy relacionadas en el espacio del embedding. No podemos sacar mucha conclusión del ejemplo."
   ]
  },
  {
   "cell_type": "code",
   "execution_count": 679,
   "id": "857e1420",
   "metadata": {},
   "outputs": [
    {
     "data": {
      "text/plain": [
       "'snakes'"
      ]
     },
     "execution_count": 679,
     "metadata": {},
     "output_type": "execute_result"
    }
   ],
   "source": [
    "w2v_model.wv.doesnt_match([\"Indiana\",\"Jones\",\"Indy\",\"snakes\"])"
   ]
  },
  {
   "cell_type": "markdown",
   "id": "1c14a205",
   "metadata": {},
   "source": [
    "## Visualizar agrupación de vectores"
   ]
  },
  {
   "cell_type": "code",
   "execution_count": 675,
   "id": "138886b6",
   "metadata": {},
   "outputs": [
    {
     "data": {
      "application/vnd.plotly.v1+json": {
       "config": {
        "plotlyServerURL": "https://plot.ly"
       },
       "data": [
        {
         "hovertemplate": "Tipo de palabra=blue<br>x=%{x}<br>y=%{y}<br>text=%{text}<extra></extra>",
         "legendgroup": "blue",
         "marker": {
          "color": "#636efa",
          "symbol": "circle"
         },
         "mode": "markers+text",
         "name": "blue",
         "orientation": "v",
         "showlegend": true,
         "text": [
          "crashes",
          "even",
          "forget",
          "wind",
          "smashes",
          "glass",
          "picks",
          "periscope",
          "breaks",
          "hard",
          "black",
          "behind",
          "puts",
          "full",
          "walls",
          "pankot",
          "exchange",
          "marcus",
          "sallah",
          "lifts",
          "bag",
          "hands",
          "suddenly",
          "pushes",
          "water",
          "donovan",
          "comes",
          "pull",
          "goes",
          "beyond",
          "see",
          "ram's",
          "fingers",
          "follow",
          "seal",
          "lal",
          "hat",
          "hears",
          "finds",
          "finally",
          "means",
          "death",
          "hits",
          "flame",
          "shoulder",
          "shut",
          "kazim",
          "seen",
          "thank",
          "kali",
          "mine",
          "want",
          "nothing",
          "seems",
          "that's",
          "covenant",
          "captain",
          "worried",
          "palace",
          "talk",
          "something",
          "much",
          "old",
          "kill",
          "face",
          "temple",
          "head",
          "stares",
          "suite",
          "almost",
          "plane",
          "village",
          "tell",
          "got",
          "leather",
          "going",
          "torch",
          "ram",
          "rushes",
          "father",
          "rear",
          "shoots",
          "inside",
          "machine",
          "crated",
          "lid",
          "make",
          "toward",
          "time",
          "there's",
          "arab",
          "driver",
          "hit",
          "enters",
          "around",
          "onto",
          "truck",
          "train",
          "mouth",
          "stones",
          "entrance",
          "day",
          "falls",
          "city",
          "control",
          "children",
          "room",
          "keep",
          "belzig",
          "knew",
          "blood",
          "neck",
          "belloq",
          "ground",
          "elephants",
          "bullwhip",
          "looks",
          "lights",
          "desert",
          "let's",
          "can't",
          "henry",
          "move",
          "burning",
          "said",
          "three",
          "indy",
          "men",
          "closer",
          "made",
          "air",
          "small",
          "foot",
          "leaps",
          "life",
          "soldier",
          "floor",
          "away",
          "climbs",
          "priest",
          "swings",
          "stop",
          "slips",
          "kicks",
          "rock",
          "magical",
          "way",
          "dead",
          "step",
          "direction",
          "tunnel",
          "still",
          "arm",
          "gong",
          "frame",
          "shaman",
          "doctor",
          "yes",
          "pages",
          "roof",
          "right",
          "rod",
          "rolls",
          "together",
          "help",
          "knocks",
          "page",
          "ahead",
          "jumps",
          "let",
          "break",
          "sound",
          "tracks",
          "feet",
          "trying",
          "people",
          "across",
          "glances",
          "gives",
          "slides",
          "indy's",
          "years",
          "boat",
          "sword",
          "gave",
          "get",
          "spot",
          "moving",
          "drops",
          "hey",
          "pulls",
          "museum",
          "light",
          "fall",
          "sinister",
          "bullets",
          "wrong",
          "holds",
          "fire",
          "halfbreed",
          "big",
          "platform",
          "holding",
          "would",
          "tabernacle",
          "ext",
          "tightly",
          "goddess",
          "box",
          "must",
          "cut",
          "place",
          "castle",
          "walks",
          "america",
          "nazi",
          "eaton",
          "dust",
          "spins",
          "okay",
          "center",
          "fedora",
          "reaches",
          "yells",
          "knows",
          "notices",
          "bar",
          "last",
          "thuggee",
          "take",
          "believe",
          "hole",
          "watch",
          "approaches",
          "steps",
          "car",
          "find",
          "work",
          "along",
          "stands",
          "close",
          "shakes",
          "marion",
          "monkey",
          "smoke",
          "cars",
          "half",
          "fast",
          "indiana",
          "wheel",
          "clear",
          "street",
          "side",
          "god",
          "arrives",
          "meanwhile",
          "attempt",
          "brody",
          "whip",
          "slowly",
          "armed",
          "map",
          "oh",
          "open",
          "dad",
          "diary",
          "guard",
          "forward",
          "seat",
          "attention",
          "say",
          "white",
          "lost",
          "gun",
          "think",
          "huge",
          "mountain",
          "moves",
          "good",
          "night",
          "explodes",
          "horse",
          "flames",
          "brought",
          "cliff",
          "strange",
          "others",
          "deck",
          "what's",
          "sees",
          "bad",
          "statue",
          "leave",
          "tank",
          "man",
          "sits",
          "brothers",
          "turns",
          "beat",
          "runs",
          "jones",
          "smiling",
          "stole",
          "elsa",
          "int",
          "vogel",
          "hold",
          "watches",
          "altar",
          "giant",
          "wait",
          "ceiling",
          "oil",
          "table",
          "smile",
          "lava",
          "walk",
          "hok's",
          "new",
          "stolen",
          "dr",
          "bottom",
          "little",
          "square",
          "tries",
          "staff",
          "smiles",
          "door",
          "stops",
          "raises",
          "coming",
          "willie",
          "tall",
          "start",
          "window",
          "moment",
          "wide",
          "past",
          "sight",
          "evil",
          "snakes",
          "could",
          "grabs",
          "sun",
          "roscoe",
          "stand",
          "disappears",
          "points",
          "takes",
          "turn",
          "lao",
          "cockpit",
          "venice",
          "left",
          "ever",
          "rocks",
          "know",
          "book",
          "nazis",
          "well",
          "maharajah",
          "appears",
          "river",
          "screams",
          "shouts",
          "empty",
          "follows",
          "round",
          "already",
          "line",
          "several",
          "raft",
          "wall",
          "message",
          "looking",
          "end",
          "crevasse",
          "back",
          "flying",
          "front",
          "junior",
          "top",
          "flies",
          "directly",
          "eyes",
          "nods",
          "thought",
          "never",
          "sacred",
          "pilot",
          "like",
          "pistol",
          "go",
          "five",
          "first",
          "two",
          "poles",
          "long",
          "boy",
          "hanging",
          "starts",
          "please",
          "heads",
          "rope",
          "lead",
          "running",
          "run",
          "road",
          "leans",
          "body",
          "willie's",
          "quickly",
          "dives",
          "immediately",
          "begins",
          "cavern",
          "piece",
          "give",
          "satipo",
          "snake",
          "tent",
          "chamber",
          "show",
          "stone",
          "far",
          "short",
          "makes",
          "taking",
          "shorty",
          "cross",
          "beneath",
          "blumburtt",
          "throws",
          "arms",
          "next",
          "wooden",
          "pulling",
          "begin",
          "hall",
          "belt",
          "put",
          "speaks",
          "shliemann",
          "pocket",
          "guns",
          "pain",
          "narrow",
          "gobler",
          "pass",
          "mola",
          "chattar",
          "enough",
          "large",
          "hand",
          "jacket",
          "guards",
          "gold",
          "near",
          "another",
          "kid",
          "come",
          "us",
          "four",
          "reach",
          "shot",
          "corner",
          "high",
          "drink",
          "fires",
          "one",
          "dark",
          "look",
          "rush",
          "knight",
          "complete",
          "bridge",
          "edge",
          "brake",
          "gets",
          "elephant",
          "yet",
          "enormous",
          "soldiers",
          "quick",
          "capt",
          "friend",
          "continues",
          "found",
          "view",
          "chinese",
          "ten",
          "hear",
          "german",
          "heavy",
          "jai",
          "second",
          "opens"
         ],
         "textposition": "top center",
         "type": "scatter",
         "x": {
          "bdata": "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",
          "dtype": "f4"
         },
         "xaxis": "x",
         "y": {
          "bdata": "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",
          "dtype": "f4"
         },
         "yaxis": "y"
        },
        {
         "hovertemplate": "Tipo de palabra=red<br>x=%{x}<br>y=%{y}<br>text=%{text}<extra></extra>",
         "legendgroup": "red",
         "marker": {
          "color": "#EF553B",
          "symbol": "circle"
         },
         "mode": "markers+text",
         "name": "red",
         "orientation": "v",
         "showlegend": true,
         "text": [
          "sankara",
          "grail",
          "ark"
         ],
         "textposition": "top center",
         "type": "scatter",
         "x": {
          "bdata": "SO63wZwxfMDCmWzA",
          "dtype": "f4"
         },
         "xaxis": "x",
         "y": {
          "bdata": "rMNgwFtwEUG9J6RB",
          "dtype": "f4"
         },
         "yaxis": "y"
        }
       ],
       "layout": {
        "legend": {
         "title": {
          "text": "Tipo de palabra"
         },
         "tracegroupgap": 0
        },
        "margin": {
         "t": 60
        },
        "template": {
         "data": {
          "bar": [
           {
            "error_x": {
             "color": "#2a3f5f"
            },
            "error_y": {
             "color": "#2a3f5f"
            },
            "marker": {
             "line": {
              "color": "#E5ECF6",
              "width": 0.5
             },
             "pattern": {
              "fillmode": "overlay",
              "size": 10,
              "solidity": 0.2
             }
            },
            "type": "bar"
           }
          ],
          "barpolar": [
           {
            "marker": {
             "line": {
              "color": "#E5ECF6",
              "width": 0.5
             },
             "pattern": {
              "fillmode": "overlay",
              "size": 10,
              "solidity": 0.2
             }
            },
            "type": "barpolar"
           }
          ],
          "carpet": [
           {
            "aaxis": {
             "endlinecolor": "#2a3f5f",
             "gridcolor": "white",
             "linecolor": "white",
             "minorgridcolor": "white",
             "startlinecolor": "#2a3f5f"
            },
            "baxis": {
             "endlinecolor": "#2a3f5f",
             "gridcolor": "white",
             "linecolor": "white",
             "minorgridcolor": "white",
             "startlinecolor": "#2a3f5f"
            },
            "type": "carpet"
           }
          ],
          "choropleth": [
           {
            "colorbar": {
             "outlinewidth": 0,
             "ticks": ""
            },
            "type": "choropleth"
           }
          ],
          "contour": [
           {
            "colorbar": {
             "outlinewidth": 0,
             "ticks": ""
            },
            "colorscale": [
             [
              0,
              "#0d0887"
             ],
             [
              0.1111111111111111,
              "#46039f"
             ],
             [
              0.2222222222222222,
              "#7201a8"
             ],
             [
              0.3333333333333333,
              "#9c179e"
             ],
             [
              0.4444444444444444,
              "#bd3786"
             ],
             [
              0.5555555555555556,
              "#d8576b"
             ],
             [
              0.6666666666666666,
              "#ed7953"
             ],
             [
              0.7777777777777778,
              "#fb9f3a"
             ],
             [
              0.8888888888888888,
              "#fdca26"
             ],
             [
              1,
              "#f0f921"
             ]
            ],
            "type": "contour"
           }
          ],
          "contourcarpet": [
           {
            "colorbar": {
             "outlinewidth": 0,
             "ticks": ""
            },
            "type": "contourcarpet"
           }
          ],
          "heatmap": [
           {
            "colorbar": {
             "outlinewidth": 0,
             "ticks": ""
            },
            "colorscale": [
             [
              0,
              "#0d0887"
             ],
             [
              0.1111111111111111,
              "#46039f"
             ],
             [
              0.2222222222222222,
              "#7201a8"
             ],
             [
              0.3333333333333333,
              "#9c179e"
             ],
             [
              0.4444444444444444,
              "#bd3786"
             ],
             [
              0.5555555555555556,
              "#d8576b"
             ],
             [
              0.6666666666666666,
              "#ed7953"
             ],
             [
              0.7777777777777778,
              "#fb9f3a"
             ],
             [
              0.8888888888888888,
              "#fdca26"
             ],
             [
              1,
              "#f0f921"
             ]
            ],
            "type": "heatmap"
           }
          ],
          "histogram": [
           {
            "marker": {
             "pattern": {
              "fillmode": "overlay",
              "size": 10,
              "solidity": 0.2
             }
            },
            "type": "histogram"
           }
          ],
          "histogram2d": [
           {
            "colorbar": {
             "outlinewidth": 0,
             "ticks": ""
            },
            "colorscale": [
             [
              0,
              "#0d0887"
             ],
             [
              0.1111111111111111,
              "#46039f"
             ],
             [
              0.2222222222222222,
              "#7201a8"
             ],
             [
              0.3333333333333333,
              "#9c179e"
             ],
             [
              0.4444444444444444,
              "#bd3786"
             ],
             [
              0.5555555555555556,
              "#d8576b"
             ],
             [
              0.6666666666666666,
              "#ed7953"
             ],
             [
              0.7777777777777778,
              "#fb9f3a"
             ],
             [
              0.8888888888888888,
              "#fdca26"
             ],
             [
              1,
              "#f0f921"
             ]
            ],
            "type": "histogram2d"
           }
          ],
          "histogram2dcontour": [
           {
            "colorbar": {
             "outlinewidth": 0,
             "ticks": ""
            },
            "colorscale": [
             [
              0,
              "#0d0887"
             ],
             [
              0.1111111111111111,
              "#46039f"
             ],
             [
              0.2222222222222222,
              "#7201a8"
             ],
             [
              0.3333333333333333,
              "#9c179e"
             ],
             [
              0.4444444444444444,
              "#bd3786"
             ],
             [
              0.5555555555555556,
              "#d8576b"
             ],
             [
              0.6666666666666666,
              "#ed7953"
             ],
             [
              0.7777777777777778,
              "#fb9f3a"
             ],
             [
              0.8888888888888888,
              "#fdca26"
             ],
             [
              1,
              "#f0f921"
             ]
            ],
            "type": "histogram2dcontour"
           }
          ],
          "mesh3d": [
           {
            "colorbar": {
             "outlinewidth": 0,
             "ticks": ""
            },
            "type": "mesh3d"
           }
          ],
          "parcoords": [
           {
            "line": {
             "colorbar": {
              "outlinewidth": 0,
              "ticks": ""
             }
            },
            "type": "parcoords"
           }
          ],
          "pie": [
           {
            "automargin": true,
            "type": "pie"
           }
          ],
          "scatter": [
           {
            "fillpattern": {
             "fillmode": "overlay",
             "size": 10,
             "solidity": 0.2
            },
            "type": "scatter"
           }
          ],
          "scatter3d": [
           {
            "line": {
             "colorbar": {
              "outlinewidth": 0,
              "ticks": ""
             }
            },
            "marker": {
             "colorbar": {
              "outlinewidth": 0,
              "ticks": ""
             }
            },
            "type": "scatter3d"
           }
          ],
          "scattercarpet": [
           {
            "marker": {
             "colorbar": {
              "outlinewidth": 0,
              "ticks": ""
             }
            },
            "type": "scattercarpet"
           }
          ],
          "scattergeo": [
           {
            "marker": {
             "colorbar": {
              "outlinewidth": 0,
              "ticks": ""
             }
            },
            "type": "scattergeo"
           }
          ],
          "scattergl": [
           {
            "marker": {
             "colorbar": {
              "outlinewidth": 0,
              "ticks": ""
             }
            },
            "type": "scattergl"
           }
          ],
          "scattermap": [
           {
            "marker": {
             "colorbar": {
              "outlinewidth": 0,
              "ticks": ""
             }
            },
            "type": "scattermap"
           }
          ],
          "scattermapbox": [
           {
            "marker": {
             "colorbar": {
              "outlinewidth": 0,
              "ticks": ""
             }
            },
            "type": "scattermapbox"
           }
          ],
          "scatterpolar": [
           {
            "marker": {
             "colorbar": {
              "outlinewidth": 0,
              "ticks": ""
             }
            },
            "type": "scatterpolar"
           }
          ],
          "scatterpolargl": [
           {
            "marker": {
             "colorbar": {
              "outlinewidth": 0,
              "ticks": ""
             }
            },
            "type": "scatterpolargl"
           }
          ],
          "scatterternary": [
           {
            "marker": {
             "colorbar": {
              "outlinewidth": 0,
              "ticks": ""
             }
            },
            "type": "scatterternary"
           }
          ],
          "surface": [
           {
            "colorbar": {
             "outlinewidth": 0,
             "ticks": ""
            },
            "colorscale": [
             [
              0,
              "#0d0887"
             ],
             [
              0.1111111111111111,
              "#46039f"
             ],
             [
              0.2222222222222222,
              "#7201a8"
             ],
             [
              0.3333333333333333,
              "#9c179e"
             ],
             [
              0.4444444444444444,
              "#bd3786"
             ],
             [
              0.5555555555555556,
              "#d8576b"
             ],
             [
              0.6666666666666666,
              "#ed7953"
             ],
             [
              0.7777777777777778,
              "#fb9f3a"
             ],
             [
              0.8888888888888888,
              "#fdca26"
             ],
             [
              1,
              "#f0f921"
             ]
            ],
            "type": "surface"
           }
          ],
          "table": [
           {
            "cells": {
             "fill": {
              "color": "#EBF0F8"
             },
             "line": {
              "color": "white"
             }
            },
            "header": {
             "fill": {
              "color": "#C8D4E3"
             },
             "line": {
              "color": "white"
             }
            },
            "type": "table"
           }
          ]
         },
         "layout": {
          "annotationdefaults": {
           "arrowcolor": "#2a3f5f",
           "arrowhead": 0,
           "arrowwidth": 1
          },
          "autotypenumbers": "strict",
          "coloraxis": {
           "colorbar": {
            "outlinewidth": 0,
            "ticks": ""
           }
          },
          "colorscale": {
           "diverging": [
            [
             0,
             "#8e0152"
            ],
            [
             0.1,
             "#c51b7d"
            ],
            [
             0.2,
             "#de77ae"
            ],
            [
             0.3,
             "#f1b6da"
            ],
            [
             0.4,
             "#fde0ef"
            ],
            [
             0.5,
             "#f7f7f7"
            ],
            [
             0.6,
             "#e6f5d0"
            ],
            [
             0.7,
             "#b8e186"
            ],
            [
             0.8,
             "#7fbc41"
            ],
            [
             0.9,
             "#4d9221"
            ],
            [
             1,
             "#276419"
            ]
           ],
           "sequential": [
            [
             0,
             "#0d0887"
            ],
            [
             0.1111111111111111,
             "#46039f"
            ],
            [
             0.2222222222222222,
             "#7201a8"
            ],
            [
             0.3333333333333333,
             "#9c179e"
            ],
            [
             0.4444444444444444,
             "#bd3786"
            ],
            [
             0.5555555555555556,
             "#d8576b"
            ],
            [
             0.6666666666666666,
             "#ed7953"
            ],
            [
             0.7777777777777778,
             "#fb9f3a"
            ],
            [
             0.8888888888888888,
             "#fdca26"
            ],
            [
             1,
             "#f0f921"
            ]
           ],
           "sequentialminus": [
            [
             0,
             "#0d0887"
            ],
            [
             0.1111111111111111,
             "#46039f"
            ],
            [
             0.2222222222222222,
             "#7201a8"
            ],
            [
             0.3333333333333333,
             "#9c179e"
            ],
            [
             0.4444444444444444,
             "#bd3786"
            ],
            [
             0.5555555555555556,
             "#d8576b"
            ],
            [
             0.6666666666666666,
             "#ed7953"
            ],
            [
             0.7777777777777778,
             "#fb9f3a"
            ],
            [
             0.8888888888888888,
             "#fdca26"
            ],
            [
             1,
             "#f0f921"
            ]
           ]
          },
          "colorway": [
           "#636efa",
           "#EF553B",
           "#00cc96",
           "#ab63fa",
           "#FFA15A",
           "#19d3f3",
           "#FF6692",
           "#B6E880",
           "#FF97FF",
           "#FECB52"
          ],
          "font": {
           "color": "#2a3f5f"
          },
          "geo": {
           "bgcolor": "white",
           "lakecolor": "white",
           "landcolor": "#E5ECF6",
           "showlakes": true,
           "showland": true,
           "subunitcolor": "white"
          },
          "hoverlabel": {
           "align": "left"
          },
          "hovermode": "closest",
          "mapbox": {
           "style": "light"
          },
          "paper_bgcolor": "white",
          "plot_bgcolor": "#E5ECF6",
          "polar": {
           "angularaxis": {
            "gridcolor": "white",
            "linecolor": "white",
            "ticks": ""
           },
           "bgcolor": "#E5ECF6",
           "radialaxis": {
            "gridcolor": "white",
            "linecolor": "white",
            "ticks": ""
           }
          },
          "scene": {
           "xaxis": {
            "backgroundcolor": "#E5ECF6",
            "gridcolor": "white",
            "gridwidth": 2,
            "linecolor": "white",
            "showbackground": true,
            "ticks": "",
            "zerolinecolor": "white"
           },
           "yaxis": {
            "backgroundcolor": "#E5ECF6",
            "gridcolor": "white",
            "gridwidth": 2,
            "linecolor": "white",
            "showbackground": true,
            "ticks": "",
            "zerolinecolor": "white"
           },
           "zaxis": {
            "backgroundcolor": "#E5ECF6",
            "gridcolor": "white",
            "gridwidth": 2,
            "linecolor": "white",
            "showbackground": true,
            "ticks": "",
            "zerolinecolor": "white"
           }
          },
          "shapedefaults": {
           "line": {
            "color": "#2a3f5f"
           }
          },
          "ternary": {
           "aaxis": {
            "gridcolor": "white",
            "linecolor": "white",
            "ticks": ""
           },
           "baxis": {
            "gridcolor": "white",
            "linecolor": "white",
            "ticks": ""
           },
           "bgcolor": "#E5ECF6",
           "caxis": {
            "gridcolor": "white",
            "linecolor": "white",
            "ticks": ""
           }
          },
          "title": {
           "x": 0.05
          },
          "xaxis": {
           "automargin": true,
           "gridcolor": "white",
           "linecolor": "white",
           "ticks": "",
           "title": {
            "standoff": 15
           },
           "zerolinecolor": "white",
           "zerolinewidth": 2
          },
          "yaxis": {
           "automargin": true,
           "gridcolor": "white",
           "linecolor": "white",
           "ticks": "",
           "title": {
            "standoff": 15
           },
           "zerolinecolor": "white",
           "zerolinewidth": 2
          }
         }
        },
        "xaxis": {
         "anchor": "y",
         "domain": [
          0,
          1
         ],
         "title": {
          "text": "x"
         }
        },
        "yaxis": {
         "anchor": "x",
         "domain": [
          0,
          1
         ],
         "title": {
          "text": "y"
         }
        }
       }
      }
     },
     "metadata": {},
     "output_type": "display_data"
    }
   ],
   "source": [
    "vecs, labels = reduce_dimensions(w2v_model)\n",
    "\n",
    "MAX_WORDS=500\n",
    "plot_embeddings(w2v_model, vecs, labels, MAX_WORDS, highlight_words=[\"grail\",\"ark\",\"sankara\"])"
   ]
  },
  {
   "cell_type": "code",
   "execution_count": 680,
   "id": "4374bc39",
   "metadata": {},
   "outputs": [
    {
     "data": {
      "application/vnd.plotly.v1+json": {
       "config": {
        "plotlyServerURL": "https://plot.ly"
       },
       "data": [
        {
         "hovertemplate": "Tipo de palabra=blue<br>x=%{x}<br>y=%{y}<br>z=%{z}<br>text=%{text}<extra></extra>",
         "legendgroup": "blue",
         "marker": {
          "color": "#636efa",
          "size": 2,
          "symbol": "circle"
         },
         "mode": "markers+text",
         "name": "blue",
         "scene": "scene",
         "showlegend": true,
         "text": [
          "dad",
          "diary",
          "forget",
          "like",
          "wind",
          "life",
          "floor",
          "away",
          "guard",
          "forward",
          "go",
          "behind",
          "rock",
          "magical",
          "puts",
          "way",
          "gun",
          "first",
          "think",
          "two",
          "poles",
          "long",
          "huge",
          "moves",
          "starts",
          "night",
          "tunnel",
          "still",
          "sallah",
          "run",
          "road",
          "bag",
          "hands",
          "suddenly",
          "quickly",
          "water",
          "donovan",
          "begins",
          "pages",
          "sees",
          "right",
          "comes",
          "satipo",
          "rod",
          "see",
          "seal",
          "page",
          "man",
          "tank",
          "jumps",
          "brothers",
          "turns",
          "lal",
          "runs",
          "hat",
          "jones",
          "feet",
          "chamber",
          "stole",
          "finally",
          "across",
          "stone",
          "means",
          "elsa",
          "short",
          "indy's",
          "shorty",
          "shut",
          "cross",
          "int",
          "vogel",
          "gave",
          "watches",
          "altar",
          "hold",
          "giant",
          "table",
          "get",
          "mine",
          "want",
          "next",
          "pulls",
          "that's",
          "covenant",
          "palace",
          "something",
          "old",
          "light",
          "face",
          "sinister",
          "temple",
          "head",
          "stolen",
          "shliemann",
          "holds",
          "fire",
          "plane",
          "little",
          "got",
          "would",
          "ext",
          "tightly",
          "smiles",
          "door",
          "goddess",
          "going",
          "cut",
          "ram",
          "stops",
          "mola",
          "chattar",
          "walks",
          "inside",
          "willie",
          "america",
          "crated",
          "nazi",
          "hand",
          "lid",
          "guards",
          "start",
          "toward",
          "another",
          "time",
          "window",
          "moment",
          "past",
          "come",
          "grabs",
          "around",
          "us",
          "fedora",
          "reaches",
          "onto",
          "truck",
          "air",
          "stones",
          "last",
          "day",
          "falls",
          "take",
          "hole",
          "takes",
          "high",
          "steps",
          "children",
          "car",
          "one",
          "lao",
          "room",
          "dark",
          "know",
          "nazis",
          "along",
          "belzig",
          "well",
          "stands",
          "look",
          "maharajah",
          "knight",
          "belloq",
          "complete",
          "bridge",
          "marion",
          "gets",
          "screams",
          "opens",
          "looks",
          "henry",
          "indiana",
          "move",
          "round",
          "side",
          "wall",
          "message",
          "looking",
          "end",
          "god",
          "arrives",
          "attempt",
          "back",
          "brody",
          "indy",
          "whip",
          "three",
          "men",
          "slowly",
          "front",
          "german",
          "top",
          "jai",
          "oh",
          "second",
          "small",
          "eyes",
          "open",
          "sacred"
         ],
         "textposition": "top center",
         "type": "scatter3d",
         "x": {
          "bdata": "QPSMwUQ13sEkD+DB9uSaweJpt8D4BKdBI9b8QfrpDcKBNvZBJMYTQQSeF8LFR9lBQxA1QqT6eUCjMbXB12y8wY0Ey0HZuBnBA/X9wTtVR0F5RmlAkBe0QTGqLkJ4HCZBm2txQQPfB0FuhHBBa+b3QUuN5L+63llBugMnQFCn10CzduvBU6EFQghOk0BWGwBCwXRTws0DVkEvZgvCAbRJQBV+xcFikzhCzNDnQEl3NEEqchLCuxNewkDrB8LCoQjC/xS/wfAJksDudyHBC+N+QSKUAkFQAGhBgrvuwVl7LsJ5bRtBcKhUQWyiVsCP8ZJBKaeFQbxqYkGjiv3Bb/sKwrxPy0FJxRtCnviuQcuphsFj9TLCbznsP1Vst0Er3IXAtXMzQCqnMEHXLadBwNUnQhkDaMEtnDjBSEhpQRxzTMIFKok/9j5EQT+XNcL8h+M/jA0QwRnChMGIH77BOazdQOa/dEE8fSbCxcEOwP/R9UE8azS/u3JCwT7dnMGlqD1BLPdgwTWUWkHlLQPCJqIAwo+hXD+6Jr1Bg7FdQWplBUJzEG1BgoQewrDlL8LRmwRCGD6JQfe68kEm/CtBA/BKQdcoBsF2tsRBI5wKwptfBr+V8b5BATf1wdH8N0HmXAdC7gULQMylYz/0XElBMRYZwUEU98GevlZAVgE4QoB7bMHdrrFBZ+sfQoaPzcEIFrnBsiatwXT4TELACgrB118xQrGbN0C61A/BQVTlP8/6TUL5JgRABOMnQiCL28G9XFtBq8YIwb8+8kEwZMlBO3nOwcbQir1yV5lA5otvQXXrDcLR1kFCeEqOwbTWbr9SgYpAhESGQQNMF8BX1rBBuFriwQ20Xz5X1A3AP/DAQDvcUkD4JNDB2DHqQYbBmcFGtOhBvkswwrTtpUEytVXBhAXWQYCxWkJ4nFRCcyZMwtxFPsIfandB/NM4wiKF7kBYQQDCH8tcwsscz8G4kIrAr9AOQs3TQcFlG2zCTSvvQfSagMEwIGc9nbu2wAMYbEGByCTCb6p7wY2iw8HgXHRBMG+XwfJTVr8=",
          "dtype": "f4"
         },
         "y": {
          "bdata": "rI6HQUP3z8HK3b1A9/GaQXNWEkKGj4RBxcb+QUJ8o8H5E1zB34K6wd7+fcACYvRBL76QQEOVJ0B4hwPCIFwYQadZqMGRUi9AMQggQWY2LUGBQWFCSYRDQvF9P0HOv1nB8i0ZwkiNvEGsjwtC8keVwSypBEHYLYJBeIIRQgAdOEB8Nd7BcYS6wMOfpsEKxuxAImGlwa5NgkE11NbBVWmkwcnynkDsm+bBept8QDRb60GghZxBnuTWv9p72MEw1D1CVgiqvxRTRULdhvk/gUoZwkXLSsJ5hKTBE2xIwt0YqsCDogJCPYTXQa8okUCVeYjB9NWNv0vuDr65wddBNiqYwYGqBUKYrwrC/Ha6wXOlZEGX5YbAXAwBQrOxxsETEIhADN7kwVvY6UEu3GQ/2LmaP8KcGMI4ctRBVDQCQq/jFEFP+gLC6wH2wZikqMAMSGpCS6nwQbVvBUFNE6lB23mDQYIQysEw+4TBCawoQr0B2L7A0Y5AXbNNwJsMA8IO6MRBxjlTwbh2E8L/CI5BCo8BwVDG3kGUDEzBbTM3wobE48E/69u/8GDJQRRi1UHvzg3CYsAFwmpJEMKQaULCegUcwrmpakFODw7CbygzQEeNZkKGI/dBhXS3wZ4bv0GdTjPCMTsOwqFO5cEwgq/BevxiQQM6EsJik4xAx1yCwTaH5kH9pQTCck4YQhPKIsF7I+HBdoMywhK78sHBo1NCk2hjQTKkH8CiS8dAYQjIQVebvj++ZgVCUYe3Qdig/sEcVsrBWxrFwX2mMcL5nZRBnSRNwqMGxsH9n/5BXwgwQfHuqsDLM7VB3EPRQSRRu8EcvQhCaW5VwtY8KkGAdy7CSgqlwbIBcsA//jpBOA0cQZ3kaUHQsjhCbeLFwTQdKcLVkU7CON0VwpSsE8KVCC9BkvkOQsssnUGhto1B8p8hwYNzyMEOyz1B3DSoQEhqqEC1uaLBf3+/wOjDs8G9007CrgePwe3jkT9CjQlAXQm1wSy500Bx5DpChtMAwmJrJb80X0NB6F4/QvLuZ0GWZdTAmwopwF0fjj4=",
          "dtype": "f4"
         },
         "z": {
          "bdata": "EIeiwf6GJcH0SGzBIZ5MwshJucE0xRdB3fyjwSIQFUIm0wpCGXc5QhQ/xMFpH/hAv4tfwSHcOUFilgrArxg+wv3InUFLaRNBv7/jwGm2XUEQa62/xsTTQE76/cCoPj5BzNMAQtyjrEGO0o5A8QGmQFLJCEJYyy1CATr0QXiPgkEuzTc/jFRHwgJKiEDF3wPBDIMEwdOH9cGGNxjB+p1dQvWYlkGqXaNBRTEZQuSGE8KgXdxAYg9nwbfQYcElQZw/m8T3QTvi7kE5hFtBUBEuQoDZqEAlQ/ZBwWSTwDCNiL6l9EHCdhnoQOtvjUGSSijAQxMoQVsvCMI6E8JBmC2dQewu+MG/OXZBHKs+vhw/08GfjwdCUXuCQXL37EGtCTxBrIzVQOXsKj++p83BN8evQQvQtcHQZObBOWA5QtqvC0DM6cU/haUhQkqqOMFuDnFAvU62QZvzBsKrDybC0t2DvXwBG8EfUT3BuisrwljP3cCHLHFBpwsuQmeICcGoTbTB84OGQZX0kcEvb8LBuG0fwaW9sEF/SgJBrxhOwH1DHMLfyJo+pUcyQev42j+jg+bBPEaEwBwA4cFVScVAR6ApP1QLRUIfQBJBUaTQP+yDcsCeVrlBvosHwm36EMLVXdm/O3kkwmu5SkKB3bdB2AyzwdXeccG0NPXBkITKQWWl2L8cmdNBiB1/wVnhYMG38ZhAWGqyQQV7LkCyrbLBBWiDQUMGmUHm53xBsWrAQep5hEBQT7jBFMeWQUkxGcKJ5OrBl/VHQjjUA8HHkj1CRIGJwcKiAEDJO+a+s5XZQOQr+L8Xxw+/H7zMQSfPM8Kj8DzBZUmuQSn6BMKpm27BVceOwWpr4MHWzR5AjiA1QgI9U8F4ZY7BvPw0wbYE+8FbGzBBUbP4QMzE6D+NrF/CcUwBwi4yfEGuiD7BuU4Qv1udx8HQxY7BWJokwQUAL0CKravBuPJuQeihsUFFz4nBOk0gPpuJlUEdKFc9UwahwQ2gLELFE96+r9pDwo/VMMBQkJTAt3URQU9THkLxjTrCApk7wg4KUUE=",
          "dtype": "f4"
         }
        },
        {
         "hovertemplate": "Tipo de palabra=red<br>x=%{x}<br>y=%{y}<br>z=%{z}<br>text=%{text}<extra></extra>",
         "legendgroup": "red",
         "marker": {
          "color": "#EF553B",
          "size": 2,
          "symbol": "circle"
         },
         "mode": "markers+text",
         "name": "red",
         "scene": "scene",
         "showlegend": true,
         "text": [
          "ark",
          "sankara",
          "grail"
         ],
         "textposition": "top center",
         "type": "scatter3d",
         "x": {
          "bdata": "nKy+vgQ/wD/erg/C",
          "dtype": "f4"
         },
         "y": {
          "bdata": "UMd1QvJi0z6UQZrB",
          "dtype": "f4"
         },
         "z": {
          "bdata": "sHrXPxY7jEFKCpLB",
          "dtype": "f4"
         }
        }
       ],
       "layout": {
        "legend": {
         "title": {
          "text": "Tipo de palabra"
         },
         "tracegroupgap": 0
        },
        "margin": {
         "t": 60
        },
        "scene": {
         "domain": {
          "x": [
           0,
           1
          ],
          "y": [
           0,
           1
          ]
         },
         "xaxis": {
          "title": {
           "text": "x"
          }
         },
         "yaxis": {
          "title": {
           "text": "y"
          }
         },
         "zaxis": {
          "title": {
           "text": "z"
          }
         }
        },
        "template": {
         "data": {
          "bar": [
           {
            "error_x": {
             "color": "#2a3f5f"
            },
            "error_y": {
             "color": "#2a3f5f"
            },
            "marker": {
             "line": {
              "color": "#E5ECF6",
              "width": 0.5
             },
             "pattern": {
              "fillmode": "overlay",
              "size": 10,
              "solidity": 0.2
             }
            },
            "type": "bar"
           }
          ],
          "barpolar": [
           {
            "marker": {
             "line": {
              "color": "#E5ECF6",
              "width": 0.5
             },
             "pattern": {
              "fillmode": "overlay",
              "size": 10,
              "solidity": 0.2
             }
            },
            "type": "barpolar"
           }
          ],
          "carpet": [
           {
            "aaxis": {
             "endlinecolor": "#2a3f5f",
             "gridcolor": "white",
             "linecolor": "white",
             "minorgridcolor": "white",
             "startlinecolor": "#2a3f5f"
            },
            "baxis": {
             "endlinecolor": "#2a3f5f",
             "gridcolor": "white",
             "linecolor": "white",
             "minorgridcolor": "white",
             "startlinecolor": "#2a3f5f"
            },
            "type": "carpet"
           }
          ],
          "choropleth": [
           {
            "colorbar": {
             "outlinewidth": 0,
             "ticks": ""
            },
            "type": "choropleth"
           }
          ],
          "contour": [
           {
            "colorbar": {
             "outlinewidth": 0,
             "ticks": ""
            },
            "colorscale": [
             [
              0,
              "#0d0887"
             ],
             [
              0.1111111111111111,
              "#46039f"
             ],
             [
              0.2222222222222222,
              "#7201a8"
             ],
             [
              0.3333333333333333,
              "#9c179e"
             ],
             [
              0.4444444444444444,
              "#bd3786"
             ],
             [
              0.5555555555555556,
              "#d8576b"
             ],
             [
              0.6666666666666666,
              "#ed7953"
             ],
             [
              0.7777777777777778,
              "#fb9f3a"
             ],
             [
              0.8888888888888888,
              "#fdca26"
             ],
             [
              1,
              "#f0f921"
             ]
            ],
            "type": "contour"
           }
          ],
          "contourcarpet": [
           {
            "colorbar": {
             "outlinewidth": 0,
             "ticks": ""
            },
            "type": "contourcarpet"
           }
          ],
          "heatmap": [
           {
            "colorbar": {
             "outlinewidth": 0,
             "ticks": ""
            },
            "colorscale": [
             [
              0,
              "#0d0887"
             ],
             [
              0.1111111111111111,
              "#46039f"
             ],
             [
              0.2222222222222222,
              "#7201a8"
             ],
             [
              0.3333333333333333,
              "#9c179e"
             ],
             [
              0.4444444444444444,
              "#bd3786"
             ],
             [
              0.5555555555555556,
              "#d8576b"
             ],
             [
              0.6666666666666666,
              "#ed7953"
             ],
             [
              0.7777777777777778,
              "#fb9f3a"
             ],
             [
              0.8888888888888888,
              "#fdca26"
             ],
             [
              1,
              "#f0f921"
             ]
            ],
            "type": "heatmap"
           }
          ],
          "histogram": [
           {
            "marker": {
             "pattern": {
              "fillmode": "overlay",
              "size": 10,
              "solidity": 0.2
             }
            },
            "type": "histogram"
           }
          ],
          "histogram2d": [
           {
            "colorbar": {
             "outlinewidth": 0,
             "ticks": ""
            },
            "colorscale": [
             [
              0,
              "#0d0887"
             ],
             [
              0.1111111111111111,
              "#46039f"
             ],
             [
              0.2222222222222222,
              "#7201a8"
             ],
             [
              0.3333333333333333,
              "#9c179e"
             ],
             [
              0.4444444444444444,
              "#bd3786"
             ],
             [
              0.5555555555555556,
              "#d8576b"
             ],
             [
              0.6666666666666666,
              "#ed7953"
             ],
             [
              0.7777777777777778,
              "#fb9f3a"
             ],
             [
              0.8888888888888888,
              "#fdca26"
             ],
             [
              1,
              "#f0f921"
             ]
            ],
            "type": "histogram2d"
           }
          ],
          "histogram2dcontour": [
           {
            "colorbar": {
             "outlinewidth": 0,
             "ticks": ""
            },
            "colorscale": [
             [
              0,
              "#0d0887"
             ],
             [
              0.1111111111111111,
              "#46039f"
             ],
             [
              0.2222222222222222,
              "#7201a8"
             ],
             [
              0.3333333333333333,
              "#9c179e"
             ],
             [
              0.4444444444444444,
              "#bd3786"
             ],
             [
              0.5555555555555556,
              "#d8576b"
             ],
             [
              0.6666666666666666,
              "#ed7953"
             ],
             [
              0.7777777777777778,
              "#fb9f3a"
             ],
             [
              0.8888888888888888,
              "#fdca26"
             ],
             [
              1,
              "#f0f921"
             ]
            ],
            "type": "histogram2dcontour"
           }
          ],
          "mesh3d": [
           {
            "colorbar": {
             "outlinewidth": 0,
             "ticks": ""
            },
            "type": "mesh3d"
           }
          ],
          "parcoords": [
           {
            "line": {
             "colorbar": {
              "outlinewidth": 0,
              "ticks": ""
             }
            },
            "type": "parcoords"
           }
          ],
          "pie": [
           {
            "automargin": true,
            "type": "pie"
           }
          ],
          "scatter": [
           {
            "fillpattern": {
             "fillmode": "overlay",
             "size": 10,
             "solidity": 0.2
            },
            "type": "scatter"
           }
          ],
          "scatter3d": [
           {
            "line": {
             "colorbar": {
              "outlinewidth": 0,
              "ticks": ""
             }
            },
            "marker": {
             "colorbar": {
              "outlinewidth": 0,
              "ticks": ""
             }
            },
            "type": "scatter3d"
           }
          ],
          "scattercarpet": [
           {
            "marker": {
             "colorbar": {
              "outlinewidth": 0,
              "ticks": ""
             }
            },
            "type": "scattercarpet"
           }
          ],
          "scattergeo": [
           {
            "marker": {
             "colorbar": {
              "outlinewidth": 0,
              "ticks": ""
             }
            },
            "type": "scattergeo"
           }
          ],
          "scattergl": [
           {
            "marker": {
             "colorbar": {
              "outlinewidth": 0,
              "ticks": ""
             }
            },
            "type": "scattergl"
           }
          ],
          "scattermap": [
           {
            "marker": {
             "colorbar": {
              "outlinewidth": 0,
              "ticks": ""
             }
            },
            "type": "scattermap"
           }
          ],
          "scattermapbox": [
           {
            "marker": {
             "colorbar": {
              "outlinewidth": 0,
              "ticks": ""
             }
            },
            "type": "scattermapbox"
           }
          ],
          "scatterpolar": [
           {
            "marker": {
             "colorbar": {
              "outlinewidth": 0,
              "ticks": ""
             }
            },
            "type": "scatterpolar"
           }
          ],
          "scatterpolargl": [
           {
            "marker": {
             "colorbar": {
              "outlinewidth": 0,
              "ticks": ""
             }
            },
            "type": "scatterpolargl"
           }
          ],
          "scatterternary": [
           {
            "marker": {
             "colorbar": {
              "outlinewidth": 0,
              "ticks": ""
             }
            },
            "type": "scatterternary"
           }
          ],
          "surface": [
           {
            "colorbar": {
             "outlinewidth": 0,
             "ticks": ""
            },
            "colorscale": [
             [
              0,
              "#0d0887"
             ],
             [
              0.1111111111111111,
              "#46039f"
             ],
             [
              0.2222222222222222,
              "#7201a8"
             ],
             [
              0.3333333333333333,
              "#9c179e"
             ],
             [
              0.4444444444444444,
              "#bd3786"
             ],
             [
              0.5555555555555556,
              "#d8576b"
             ],
             [
              0.6666666666666666,
              "#ed7953"
             ],
             [
              0.7777777777777778,
              "#fb9f3a"
             ],
             [
              0.8888888888888888,
              "#fdca26"
             ],
             [
              1,
              "#f0f921"
             ]
            ],
            "type": "surface"
           }
          ],
          "table": [
           {
            "cells": {
             "fill": {
              "color": "#EBF0F8"
             },
             "line": {
              "color": "white"
             }
            },
            "header": {
             "fill": {
              "color": "#C8D4E3"
             },
             "line": {
              "color": "white"
             }
            },
            "type": "table"
           }
          ]
         },
         "layout": {
          "annotationdefaults": {
           "arrowcolor": "#2a3f5f",
           "arrowhead": 0,
           "arrowwidth": 1
          },
          "autotypenumbers": "strict",
          "coloraxis": {
           "colorbar": {
            "outlinewidth": 0,
            "ticks": ""
           }
          },
          "colorscale": {
           "diverging": [
            [
             0,
             "#8e0152"
            ],
            [
             0.1,
             "#c51b7d"
            ],
            [
             0.2,
             "#de77ae"
            ],
            [
             0.3,
             "#f1b6da"
            ],
            [
             0.4,
             "#fde0ef"
            ],
            [
             0.5,
             "#f7f7f7"
            ],
            [
             0.6,
             "#e6f5d0"
            ],
            [
             0.7,
             "#b8e186"
            ],
            [
             0.8,
             "#7fbc41"
            ],
            [
             0.9,
             "#4d9221"
            ],
            [
             1,
             "#276419"
            ]
           ],
           "sequential": [
            [
             0,
             "#0d0887"
            ],
            [
             0.1111111111111111,
             "#46039f"
            ],
            [
             0.2222222222222222,
             "#7201a8"
            ],
            [
             0.3333333333333333,
             "#9c179e"
            ],
            [
             0.4444444444444444,
             "#bd3786"
            ],
            [
             0.5555555555555556,
             "#d8576b"
            ],
            [
             0.6666666666666666,
             "#ed7953"
            ],
            [
             0.7777777777777778,
             "#fb9f3a"
            ],
            [
             0.8888888888888888,
             "#fdca26"
            ],
            [
             1,
             "#f0f921"
            ]
           ],
           "sequentialminus": [
            [
             0,
             "#0d0887"
            ],
            [
             0.1111111111111111,
             "#46039f"
            ],
            [
             0.2222222222222222,
             "#7201a8"
            ],
            [
             0.3333333333333333,
             "#9c179e"
            ],
            [
             0.4444444444444444,
             "#bd3786"
            ],
            [
             0.5555555555555556,
             "#d8576b"
            ],
            [
             0.6666666666666666,
             "#ed7953"
            ],
            [
             0.7777777777777778,
             "#fb9f3a"
            ],
            [
             0.8888888888888888,
             "#fdca26"
            ],
            [
             1,
             "#f0f921"
            ]
           ]
          },
          "colorway": [
           "#636efa",
           "#EF553B",
           "#00cc96",
           "#ab63fa",
           "#FFA15A",
           "#19d3f3",
           "#FF6692",
           "#B6E880",
           "#FF97FF",
           "#FECB52"
          ],
          "font": {
           "color": "#2a3f5f"
          },
          "geo": {
           "bgcolor": "white",
           "lakecolor": "white",
           "landcolor": "#E5ECF6",
           "showlakes": true,
           "showland": true,
           "subunitcolor": "white"
          },
          "hoverlabel": {
           "align": "left"
          },
          "hovermode": "closest",
          "mapbox": {
           "style": "light"
          },
          "paper_bgcolor": "white",
          "plot_bgcolor": "#E5ECF6",
          "polar": {
           "angularaxis": {
            "gridcolor": "white",
            "linecolor": "white",
            "ticks": ""
           },
           "bgcolor": "#E5ECF6",
           "radialaxis": {
            "gridcolor": "white",
            "linecolor": "white",
            "ticks": ""
           }
          },
          "scene": {
           "xaxis": {
            "backgroundcolor": "#E5ECF6",
            "gridcolor": "white",
            "gridwidth": 2,
            "linecolor": "white",
            "showbackground": true,
            "ticks": "",
            "zerolinecolor": "white"
           },
           "yaxis": {
            "backgroundcolor": "#E5ECF6",
            "gridcolor": "white",
            "gridwidth": 2,
            "linecolor": "white",
            "showbackground": true,
            "ticks": "",
            "zerolinecolor": "white"
           },
           "zaxis": {
            "backgroundcolor": "#E5ECF6",
            "gridcolor": "white",
            "gridwidth": 2,
            "linecolor": "white",
            "showbackground": true,
            "ticks": "",
            "zerolinecolor": "white"
           }
          },
          "shapedefaults": {
           "line": {
            "color": "#2a3f5f"
           }
          },
          "ternary": {
           "aaxis": {
            "gridcolor": "white",
            "linecolor": "white",
            "ticks": ""
           },
           "baxis": {
            "gridcolor": "white",
            "linecolor": "white",
            "ticks": ""
           },
           "bgcolor": "#E5ECF6",
           "caxis": {
            "gridcolor": "white",
            "linecolor": "white",
            "ticks": ""
           }
          },
          "title": {
           "x": 0.05
          },
          "xaxis": {
           "automargin": true,
           "gridcolor": "white",
           "linecolor": "white",
           "ticks": "",
           "title": {
            "standoff": 15
           },
           "zerolinecolor": "white",
           "zerolinewidth": 2
          },
          "yaxis": {
           "automargin": true,
           "gridcolor": "white",
           "linecolor": "white",
           "ticks": "",
           "title": {
            "standoff": 15
           },
           "zerolinecolor": "white",
           "zerolinewidth": 2
          }
         }
        }
       }
      }
     },
     "metadata": {},
     "output_type": "display_data"
    }
   ],
   "source": [
    "vecs, labels = reduce_dimensions(w2v_model,3)\n",
    "\n",
    "MAX_WORDS=200\n",
    "plot_embeddings(w2v_model, vecs, labels, MAX_WORDS, highlight_words=[\"grail\",\"ark\",\"sankara\"])"
   ]
  },
  {
   "cell_type": "markdown",
   "id": "6541be06",
   "metadata": {},
   "source": [
    "### Test de analogía"
   ]
  },
  {
   "cell_type": "code",
   "execution_count": 677,
   "id": "a3d053dd",
   "metadata": {},
   "outputs": [
    {
     "data": {
      "text/plain": [
       "[('christ', 0.43132275342941284),\n",
       " ('complete', 0.42349615693092346),\n",
       " ('glory', 0.4203645586967468),\n",
       " ('somewhere', 0.3896515667438507),\n",
       " ('fortune', 0.376832515001297),\n",
       " ('knee', 0.3557438254356384),\n",
       " ('america', 0.3541530966758728),\n",
       " ('embrace', 0.3423731327056885)]"
      ]
     },
     "metadata": {},
     "output_type": "display_data"
    },
    {
     "data": {
      "text/plain": [
       "0.43132272"
      ]
     },
     "metadata": {},
     "output_type": "display_data"
    },
    {
     "data": {
      "image/png": "[encoded data removed]",
      "text/plain": [
       "<Figure size 1600x900 with 2 Axes>"
      ]
     },
     "metadata": {},
     "output_type": "display_data"
    }
   ],
   "source": [
    "words = [\"grail\",\"diary\",\"cup\"]\n",
    "vector1 = w2v_model.wv.get_vector(words[0])\n",
    "vector2 = w2v_model.wv.get_vector(words[1])\n",
    "vector3 = w2v_model.wv.get_vector(words[2])\n",
    "\n",
    "new_vector = vector1 - vector2 + vector3\n",
    "\n",
    "display(w2v_model.wv.most_similar(new_vector)[2:])\n",
    "display(cosine_similarity([new_vector], [w2v_model.wv.get_vector(\"christ\")])[0][0])\n",
    "words.append(\"christ\")\n",
    "embeddings_matrix_distance(w2v_model, words, new_vector, \"new_vector\")"
   ]
  },
  {
   "cell_type": "markdown",
   "id": "460bb76b",
   "metadata": {},
   "source": [
    "Se intentó hacer el test de analogía con referirise al Santo Grial como la copa y no como el diario, la correlación no es muy fuerte, pero dentro de lo mas próximo tenemos a Cristo."
   ]
  },
  {
   "cell_type": "code",
   "execution_count": null,
   "id": "e99f9a8b",
   "metadata": {},
   "outputs": [
    {
     "data": {
      "text/plain": [
       "[('christ', 0.4667717218399048),\n",
       " ('glory', 0.4564523696899414),\n",
       " ('complete', 0.43824461102485657),\n",
       " ('somewhere', 0.4177197813987732),\n",
       " ('fortune', 0.3977448642253876),\n",
       " ('knee', 0.37022218108177185),\n",
       " ('america', 0.3701187074184418),\n",
       " ('embrace', 0.36896124482154846),\n",
       " ('country', 0.36145535111427307),\n",
       " ('caught', 0.359525203704834)]"
      ]
     },
     "execution_count": 682,
     "metadata": {},
     "output_type": "execute_result"
    }
   ],
   "source": [
    "# Otro metodo\n",
    "w2v_model.wv.most_similar(positive=[\"grail\",\"cup\"], negative=[\"diary\"])"
   ]
  }
 ],
 "metadata": {
  "kernelspec": {
   "display_name": "venv",
   "language": "python",
   "name": "python3"
  },
  "language_info": {
   "codemirror_mode": {
    "name": "ipython",
    "version": 3
   },
   "file_extension": ".py",
   "mimetype": "text/x-python",
   "name": "python",
   "nbconvert_exporter": "python",
   "pygments_lexer": "ipython3",
   "version": "3.12.10"
  }
 },
 "nbformat": 4,
 "nbformat_minor": 5
}
