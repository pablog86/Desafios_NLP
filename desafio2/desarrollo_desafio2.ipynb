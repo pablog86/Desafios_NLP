{
 "cells": [
  {
   "cell_type": "markdown",
   "id": "8b16d688",
   "metadata": {},
   "source": [
    "# Desafio 2 - NLP\n",
    "\n",
    "- Crear sus propios vectores con Gensim basado en lo visto en clase con otro dataset.\n",
    "- Probar términos de interés y explicar similitudes en el espacio de embeddings.\n",
    "- Intentar plantear y probar tests de analogías. \n",
    "- Graficar los embeddings resultantes.\n",
    "- Sacar conclusiones."
   ]
  },
  {
   "cell_type": "markdown",
   "id": "cd8bb8c1",
   "metadata": {},
   "source": [
    "## Imports"
   ]
  },
  {
   "cell_type": "code",
   "execution_count": 240,
   "id": "eda5d6ce",
   "metadata": {},
   "outputs": [],
   "source": [
    "import pandas as pd\n",
    "import matplotlib.pyplot as plt\n",
    "import seaborn as sns\n",
    "import multiprocessing\n",
    "from gensim.models import Word2Vec\n",
    "import os\n",
    "from tensorflow.keras.preprocessing.text import text_to_word_sequence\n",
    "from nltk.corpus import stopwords\n",
    "import nltk\n",
    "from gensim.models.callbacks import CallbackAny2Vec\n",
    "from sklearn.metrics.pairwise import cosine_similarity\n",
    "\n",
    "from sklearn.decomposition import IncrementalPCA    \n",
    "from sklearn.manifold import TSNE                   \n",
    "import numpy as np\n",
    "import plotly.graph_objects as go\n",
    "import plotly.express as px                   "
   ]
  },
  {
   "cell_type": "markdown",
   "id": "298aeb29",
   "metadata": {},
   "source": [
    "## Funciones generales"
   ]
  },
  {
   "cell_type": "code",
   "execution_count": 20,
   "id": "bdea8400",
   "metadata": {},
   "outputs": [],
   "source": [
    "# Durante el entrenamiento gensim por defecto no informa el \"loss\" en cada época\n",
    "# Sobrecargamos el callback para poder tener esta información\n",
    "class callback(CallbackAny2Vec):\n",
    "    \"\"\"\n",
    "    Callback to print loss after each epoch\n",
    "    \"\"\"\n",
    "    def __init__(self):\n",
    "        self.epoch = 0\n",
    "\n",
    "    def on_epoch_end(self, model):\n",
    "        loss = model.get_latest_training_loss()\n",
    "        if self.epoch == 0:\n",
    "            print('Loss after epoch {}: {}'.format(self.epoch, loss))\n",
    "        else:\n",
    "            print('Loss after epoch {}: {}'.format(self.epoch, loss- self.loss_previous_step))\n",
    "        self.epoch += 1\n",
    "        self.loss_previous_step = loss"
   ]
  },
  {
   "cell_type": "code",
   "execution_count": 199,
   "id": "f174c202",
   "metadata": {},
   "outputs": [],
   "source": [
    "def reduce_dimensions(model, num_dimensions = 2 ):\n",
    "     \n",
    "    vectors = np.asarray(model.wv.vectors)\n",
    "    labels = np.asarray(model.wv.index_to_key)  \n",
    "\n",
    "    tsne = TSNE(n_components=num_dimensions, random_state=0)\n",
    "    vectors = tsne.fit_transform(vectors)\n",
    "\n",
    "    return vectors, labels"
   ]
  },
  {
   "cell_type": "code",
   "execution_count": 124,
   "id": "aed1521d",
   "metadata": {},
   "outputs": [],
   "source": [
    "def max_words (model, vecs, labels, highlight_words, MAX_WORDS, topn=10):\n",
    "    all_words = list(labels)\n",
    "    selected_words = set(highlight_words)\n",
    "\n",
    "    for word in highlight_words:\n",
    "        if word in model.wv:\n",
    "            try:\n",
    "                similar = model.wv.most_similar(word, topn=topn)\n",
    "                selected_words.update([w for w, _ in similar])\n",
    "            except KeyError:\n",
    "                pass  # por si alguna palabra no está en vocabulario\n",
    "\n",
    "    for word in all_words:\n",
    "        if len(selected_words) >= MAX_WORDS:\n",
    "            break\n",
    "        if word not in selected_words:\n",
    "            selected_words.add(word)\n",
    "\n",
    "    selected_words = list(selected_words)\n",
    "    indices = [all_words.index(w) for w in selected_words if w in all_words]\n",
    "    filtered_vecs = vecs[indices]\n",
    "    filtered_labels = [all_words[i] for i in indices]\n",
    "    return filtered_vecs, filtered_labels"
   ]
  },
  {
   "cell_type": "code",
   "execution_count": null,
   "id": "da8137cb",
   "metadata": {},
   "outputs": [],
   "source": [
    "def plot_embeddings(model, vecs, labels, MAX_WORDS=200, highlight_words=None):\n",
    "    assert vecs.shape[0] == len(labels), \"Vecs y labels deben tener la misma longitud\"\n",
    "    vecs, labels = max_words(model, vecs, labels, highlight_words, MAX_WORDS)\n",
    "    # Colores: rojo si está en highlight, azul si no\n",
    "    highlight_words = set(highlight_words) if highlight_words else set()\n",
    "    colors = ['red' if word in highlight_words else 'blue' for word in labels]\n",
    "\n",
    "    if vecs.shape[1] == 2:\n",
    "        fig = px.scatter(\n",
    "            x=vecs[:, 0],\n",
    "            y=vecs[:, 1],\n",
    "            text=labels,\n",
    "            color=colors,\n",
    "            labels={\"color\": \"Tipo de palabra\"}\n",
    "        )\n",
    "    elif vecs.shape[1] == 3:\n",
    "        fig = px.scatter_3d(\n",
    "            x=vecs[:, 0],\n",
    "            y=vecs[:, 1],\n",
    "            z=vecs[:, 2],\n",
    "            text=labels,\n",
    "            color=colors,\n",
    "            labels={\"color\": \"Tipo de palabra\"}\n",
    "        )\n",
    "        fig.update_traces(marker_size = 2)\n",
    "    else:\n",
    "        raise ValueError(\"Los vectores deben ser de dimensión 2 o 3\")\n",
    "\n",
    "    fig.update_traces(textposition='top center')\n",
    "    fig.show()"
   ]
  },
  {
   "cell_type": "code",
   "execution_count": 273,
   "id": "53675d0b",
   "metadata": {},
   "outputs": [],
   "source": [
    "# def embeddings_matrix_distance(model, words):\n",
    "#     print(\"Cantidad de palabras:\", len(words))\n",
    "#     emb = np.array([model.wv.get_vector(word) for word in words])\n",
    "#     print(\"Dimensiones de los embeddings:\", emb.shape)\n",
    "#     dist = cosine_similarity(emb, emb)\n",
    "#     plot_matrix_distance(words, dist)\n",
    "\n",
    "def embeddings_matrix_distance(model, words, extra_vector=None, extra_label=\"nuevo\"):\n",
    "    emb = np.array([model.wv.get_vector(word) for word in words])\n",
    "    if extra_vector is not None:\n",
    "        emb = np.vstack([emb, extra_vector])\n",
    "        words = words + [extra_label]\n",
    "    dist = cosine_similarity(emb, emb)\n",
    "    plot_matrix_distance(words, dist)\n",
    "\n",
    "\n",
    "def plot_matrix_distance(words, dist):\n",
    "    fig = plt.figure(figsize=(16,9))\n",
    "    ax = fig.add_subplot()\n",
    "    sns.heatmap(dist, xticklabels=words, yticklabels=words, \n",
    "                annot=True, fmt=\".2f\", cmap=\"YlGnBu\", ax=ax, mask=np.triu(dist))\n",
    "    plt.show()"
   ]
  },
  {
   "cell_type": "markdown",
   "id": "055a0a3c",
   "metadata": {},
   "source": [
    "## Preprocesamiento"
   ]
  },
  {
   "cell_type": "code",
   "execution_count": 6,
   "id": "45b0047f",
   "metadata": {},
   "outputs": [
    {
     "data": {
      "text/plain": [
       "['Indiana_Jones_And_The_Last_Crusade.txt',\n",
       " 'Indiana_Jones_And_The_Temple_Of_Doom.txt',\n",
       " 'Raiders_Of_The_Lost_Ark.txt']"
      ]
     },
     "execution_count": 6,
     "metadata": {},
     "output_type": "execute_result"
    }
   ],
   "source": [
    "os.listdir(\"corpus\")"
   ]
  },
  {
   "cell_type": "code",
   "execution_count": 39,
   "id": "dac7130d",
   "metadata": {},
   "outputs": [
    {
     "data": {
      "application/vnd.microsoft.datawrangler.viewer.v0+json": {
       "columns": [
        {
         "name": "index",
         "rawType": "int64",
         "type": "integer"
        },
        {
         "name": "0",
         "rawType": "object",
         "type": "string"
        }
       ],
       "conversionMethod": "pd.DataFrame",
       "ref": "5d20068f-68f6-464a-8c76-ada729fed689",
       "rows": [
        [
         "0",
         "\"INDIANA JONES AND THE LAST CRUSADE\""
        ],
        [
         "1",
         "Screenplay by"
        ],
        [
         "2",
         "Jeffrey Boam"
        ],
        [
         "3",
         "FADE IN:"
        ],
        [
         "4",
         "EXT. DESERT OF THE AMERICAN SOUTHWEST - DAY"
        ]
       ],
       "shape": {
        "columns": 1,
        "rows": 5
       }
      },
      "text/html": [
       "<div>\n",
       "<style scoped>\n",
       "    .dataframe tbody tr th:only-of-type {\n",
       "        vertical-align: middle;\n",
       "    }\n",
       "\n",
       "    .dataframe tbody tr th {\n",
       "        vertical-align: top;\n",
       "    }\n",
       "\n",
       "    .dataframe thead th {\n",
       "        text-align: right;\n",
       "    }\n",
       "</style>\n",
       "<table border=\"1\" class=\"dataframe\">\n",
       "  <thead>\n",
       "    <tr style=\"text-align: right;\">\n",
       "      <th></th>\n",
       "      <th>0</th>\n",
       "    </tr>\n",
       "  </thead>\n",
       "  <tbody>\n",
       "    <tr>\n",
       "      <th>0</th>\n",
       "      <td>\"INDIANA JONES AND THE LAST CRUSADE\"</td>\n",
       "    </tr>\n",
       "    <tr>\n",
       "      <th>1</th>\n",
       "      <td>Screenplay by</td>\n",
       "    </tr>\n",
       "    <tr>\n",
       "      <th>2</th>\n",
       "      <td>Jeffrey Boam</td>\n",
       "    </tr>\n",
       "    <tr>\n",
       "      <th>3</th>\n",
       "      <td>FADE IN:</td>\n",
       "    </tr>\n",
       "    <tr>\n",
       "      <th>4</th>\n",
       "      <td>EXT. DESERT OF THE AMERICAN SOUTHWEST - DAY</td>\n",
       "    </tr>\n",
       "  </tbody>\n",
       "</table>\n",
       "</div>"
      ],
      "text/plain": [
       "                                             0\n",
       "0         \"INDIANA JONES AND THE LAST CRUSADE\"\n",
       "1                                Screenplay by\n",
       "2                                 Jeffrey Boam\n",
       "3                                     FADE IN:\n",
       "4  EXT. DESERT OF THE AMERICAN SOUTHWEST - DAY"
      ]
     },
     "metadata": {},
     "output_type": "display_data"
    },
    {
     "data": {
      "text/plain": [
       "'Cantidad de documentos:'"
      ]
     },
     "metadata": {},
     "output_type": "display_data"
    },
    {
     "data": {
      "text/plain": [
       "13504"
      ]
     },
     "metadata": {},
     "output_type": "display_data"
    }
   ],
   "source": [
    "df1 = pd.read_csv('corpus/Indiana_Jones_And_The_Last_Crusade.txt', sep='/n', header=None, engine='python')\n",
    "df2 = pd.read_csv('corpus/Raiders_Of_The_Lost_Ark.txt', sep='/n', header=None, engine='python')\n",
    "df3 = pd.read_csv('corpus/Indiana_Jones_And_The_Temple_Of_Doom.txt', sep='/n', header=None, engine='python')\n",
    "df = pd.concat([df1, df2, df3], ignore_index=True)\n",
    "display(df.head())\n",
    "display(\"Cantidad de documentos:\", df.shape[0])"
   ]
  },
  {
   "cell_type": "code",
   "execution_count": 205,
   "id": "e043b19d",
   "metadata": {},
   "outputs": [
    {
     "name": "stderr",
     "output_type": "stream",
     "text": [
      "[nltk_data] Downloading package stopwords to\n",
      "[nltk_data]     C:\\Users\\Pablo/nltk_data...\n",
      "[nltk_data]   Package stopwords is already up-to-date!\n"
     ]
    }
   ],
   "source": [
    "nltk.download('stopwords')\n",
    "stop_words = set(stopwords.words('english')) \n",
    "\n",
    "sentence_tokens = []\n",
    "for _, row in df[:None].iterrows():\n",
    "    tokens = text_to_word_sequence(row[0])  # Tokenizar con Keras\n",
    "    filtered_tokens = [word for word in tokens if word not in stop_words]\n",
    "    sentence_tokens.append(filtered_tokens)"
   ]
  },
  {
   "cell_type": "markdown",
   "id": "5f2e1b73",
   "metadata": {},
   "source": [
    "## Crear los vectores (word2vec)"
   ]
  },
  {
   "cell_type": "code",
   "execution_count": 206,
   "id": "c652e22a",
   "metadata": {},
   "outputs": [],
   "source": [
    "w2v_model = Word2Vec(min_count=10,    # frecuencia mínima de palabra para incluirla en el vocabulario\n",
    "                     window=10,       # cant de palabras antes y desp de la predicha\n",
    "                     vector_size=500,       # dimensionalidad de los vectores \n",
    "                     negative=30,    # cantidad de negative samples... 0 es no se usa\n",
    "                     workers=4,      # si tienen más cores pueden cambiar este valor\n",
    "                     sg=1)           # modelo 0:CBOW  1:skipgram"
   ]
  },
  {
   "cell_type": "code",
   "execution_count": 207,
   "id": "d49e19f0",
   "metadata": {},
   "outputs": [
    {
     "data": {
      "text/plain": [
       "'Cantidad de docs en el corpus:'"
      ]
     },
     "metadata": {},
     "output_type": "display_data"
    },
    {
     "data": {
      "text/plain": [
       "13504"
      ]
     },
     "metadata": {},
     "output_type": "display_data"
    },
    {
     "data": {
      "text/plain": [
       "'Cantidad de words distintas en el corpus:'"
      ]
     },
     "metadata": {},
     "output_type": "display_data"
    },
    {
     "data": {
      "text/plain": [
       "990"
      ]
     },
     "metadata": {},
     "output_type": "display_data"
    }
   ],
   "source": [
    "w2v_model.build_vocab(sentence_tokens)\n",
    "display(\"Cantidad de docs en el corpus:\", w2v_model.corpus_count)\n",
    "display(\"Cantidad de words distintas en el corpus:\", len(w2v_model.wv.index_to_key))"
   ]
  },
  {
   "cell_type": "code",
   "execution_count": 208,
   "id": "cc351ba3",
   "metadata": {},
   "outputs": [
    {
     "name": "stdout",
     "output_type": "stream",
     "text": [
      "Loss after epoch 0: 154288.90625\n",
      "Loss after epoch 1: 97721.390625\n",
      "Loss after epoch 2: 98792.859375\n",
      "Loss after epoch 3: 99053.0625\n",
      "Loss after epoch 4: 96750.59375\n",
      "Loss after epoch 5: 94396.5625\n",
      "Loss after epoch 6: 92101.3125\n",
      "Loss after epoch 7: 90969.1875\n",
      "Loss after epoch 8: 88754.0625\n",
      "Loss after epoch 9: 87610.9375\n",
      "Loss after epoch 10: 84622.375\n",
      "Loss after epoch 11: 75722.0\n",
      "Loss after epoch 12: 75123.0\n",
      "Loss after epoch 13: 74329.125\n",
      "Loss after epoch 14: 73109.0\n",
      "Loss after epoch 15: 72240.625\n",
      "Loss after epoch 16: 72839.5\n",
      "Loss after epoch 17: 71133.875\n",
      "Loss after epoch 18: 69160.0\n",
      "Loss after epoch 19: 69323.25\n",
      "Loss after epoch 20: 67874.75\n",
      "Loss after epoch 21: 67360.0\n",
      "Loss after epoch 22: 66315.75\n",
      "Loss after epoch 23: 65884.125\n",
      "Loss after epoch 24: 66699.5\n",
      "Loss after epoch 25: 61567.5\n",
      "Loss after epoch 26: 59978.5\n",
      "Loss after epoch 27: 59182.25\n",
      "Loss after epoch 28: 58739.75\n",
      "Loss after epoch 29: 59569.5\n",
      "Loss after epoch 30: 59407.25\n",
      "Loss after epoch 31: 57212.0\n",
      "Loss after epoch 32: 57181.25\n",
      "Loss after epoch 33: 57746.75\n",
      "Loss after epoch 34: 58014.5\n",
      "Loss after epoch 35: 57303.25\n",
      "Loss after epoch 36: 56586.75\n",
      "Loss after epoch 37: 56129.75\n",
      "Loss after epoch 38: 57224.25\n",
      "Loss after epoch 39: 55851.25\n",
      "Loss after epoch 40: 55583.75\n",
      "Loss after epoch 41: 55325.0\n",
      "Loss after epoch 42: 55691.25\n",
      "Loss after epoch 43: 54621.25\n",
      "Loss after epoch 44: 55307.5\n",
      "Loss after epoch 45: 54357.0\n",
      "Loss after epoch 46: 55698.75\n",
      "Loss after epoch 47: 54973.25\n",
      "Loss after epoch 48: 54121.75\n",
      "Loss after epoch 49: 53526.75\n",
      "Loss after epoch 50: 54230.75\n",
      "Loss after epoch 51: 53688.5\n",
      "Loss after epoch 52: 53838.75\n",
      "Loss after epoch 53: 53615.75\n",
      "Loss after epoch 54: 53801.25\n",
      "Loss after epoch 55: 53839.5\n",
      "Loss after epoch 56: 53178.25\n",
      "Loss after epoch 57: 53243.75\n",
      "Loss after epoch 58: 54011.75\n",
      "Loss after epoch 59: 52834.25\n"
     ]
    },
    {
     "data": {
      "text/plain": [
       "(1686916, 2902320)"
      ]
     },
     "execution_count": 208,
     "metadata": {},
     "output_type": "execute_result"
    }
   ],
   "source": [
    "w2v_model.train(sentence_tokens,\n",
    "                 total_examples=w2v_model.corpus_count,\n",
    "                 epochs=60,\n",
    "                 compute_loss = True,\n",
    "                 callbacks=[callback()]\n",
    "                 )"
   ]
  },
  {
   "cell_type": "markdown",
   "id": "26286f5b",
   "metadata": {},
   "source": [
    "## Pruebas"
   ]
  },
  {
   "cell_type": "code",
   "execution_count": 209,
   "id": "bab345fd",
   "metadata": {},
   "outputs": [
    {
     "data": {
      "text/plain": [
       "[('diary', 0.5332461595535278),\n",
       " ('pages', 0.5312174558639526),\n",
       " ('trust', 0.4954497516155243),\n",
       " ('knight', 0.4864693880081177),\n",
       " ('professor', 0.4787396192550659),\n",
       " ('junior', 0.46190860867500305),\n",
       " ('marcus', 0.45974332094192505),\n",
       " ('coat', 0.44637638330459595),\n",
       " ('schneider', 0.4399339258670807),\n",
       " ('vial', 0.4300266206264496)]"
      ]
     },
     "execution_count": 209,
     "metadata": {},
     "output_type": "execute_result"
    }
   ],
   "source": [
    "w2v_model.wv.most_similar(positive=[\"grail\"], topn=10)"
   ]
  },
  {
   "cell_type": "markdown",
   "id": "c50130a4",
   "metadata": {},
   "source": [
    "En este caso podemos ver como la palabra que mas correlación tiene con Grial es Diario, en la pelicula \"Indiana Jones y la última cruzada\", se menciona varias veces al diario del grial donde estaba la información de como encontrarlo. "
   ]
  },
  {
   "cell_type": "code",
   "execution_count": 210,
   "id": "ed107869",
   "metadata": {},
   "outputs": [
    {
     "data": {
      "text/plain": [
       "[('covenant', 0.5793530941009521),\n",
       " ('lid', 0.4429241120815277),\n",
       " ('wrong', 0.3930796980857849),\n",
       " ('shut', 0.37625813484191895),\n",
       " ('crate', 0.36264994740486145),\n",
       " ('understand', 0.362205445766449),\n",
       " ('silver', 0.3599340319633484),\n",
       " (\"let's\", 0.35932326316833496),\n",
       " ('lost', 0.3553633689880371),\n",
       " (\"what're\", 0.3481566905975342)]"
      ]
     },
     "execution_count": 210,
     "metadata": {},
     "output_type": "execute_result"
    }
   ],
   "source": [
    "w2v_model.wv.most_similar(positive=[\"ark\"], topn=10)"
   ]
  },
  {
   "cell_type": "markdown",
   "id": "f8667c76",
   "metadata": {},
   "source": [
    "En \"Indiana Jones y los cazadores del arca perdida\" la famosa arca se llama \"el arca de la alianza\" por eso la mejor correlación es con esa palabra."
   ]
  },
  {
   "cell_type": "code",
   "execution_count": 211,
   "id": "81dace33",
   "metadata": {},
   "outputs": [
    {
     "data": {
      "text/plain": [
       "[('sacred', 0.7281187176704407),\n",
       " ('stones', 0.697074294090271),\n",
       " ('bag', 0.6572084426879883),\n",
       " ('hovitos', 0.4998118281364441),\n",
       " ('stuff', 0.48205769062042236),\n",
       " ('shoulder', 0.4643664062023163),\n",
       " ('glowing', 0.45551595091819763),\n",
       " ('priests', 0.45092666149139404),\n",
       " ('places', 0.44913291931152344),\n",
       " ('mola', 0.448670893907547)]"
      ]
     },
     "execution_count": 211,
     "metadata": {},
     "output_type": "execute_result"
    }
   ],
   "source": [
    "w2v_model.wv.most_similar(positive=[\"sankara\"], topn=10)"
   ]
  },
  {
   "cell_type": "markdown",
   "id": "a6e4bfd6",
   "metadata": {},
   "source": [
    "En \"Indiana Jones y el templo de la pedición\" el objeto que Indy debe rescatar era la Piedra de Sankara, que eran unas piedras sagradas."
   ]
  },
  {
   "cell_type": "code",
   "execution_count": 214,
   "id": "dae127db",
   "metadata": {},
   "outputs": [
    {
     "data": {
      "text/plain": [
       "[('makes', 0.03682318329811096),\n",
       " ('years', -0.007765495218336582),\n",
       " ('really', -0.01459940429776907),\n",
       " ('waves', -0.02998247556388378),\n",
       " ('thought', -0.035482265055179596),\n",
       " ('got', -0.03925870731472969),\n",
       " ('exchange', -0.04014201462268829),\n",
       " ('walls', -0.04143352061510086),\n",
       " ('stay', -0.04492140933871269),\n",
       " ('hate', -0.046065110713243484)]"
      ]
     },
     "execution_count": 214,
     "metadata": {},
     "output_type": "execute_result"
    }
   ],
   "source": [
    "w2v_model.wv.most_similar(negative=[\"boulder\"], topn=10)"
   ]
  },
  {
   "cell_type": "markdown",
   "id": "54aead4b",
   "metadata": {},
   "source": [
    "Para la relación inversa no es que se detecten antonimos, sino palabras que no estan muy relacionadas en el espacio del embedding. No podemos sacar mucha conclusión del ejemplo."
   ]
  },
  {
   "cell_type": "markdown",
   "id": "1c14a205",
   "metadata": {},
   "source": [
    "## Visualizar agrupación de vectores"
   ]
  },
  {
   "cell_type": "code",
   "execution_count": 376,
   "id": "138886b6",
   "metadata": {},
   "outputs": [
    {
     "data": {
      "application/vnd.plotly.v1+json": {
       "config": {
        "plotlyServerURL": "https://plot.ly"
       },
       "data": [
        {
         "hovertemplate": "Tipo de palabra=blue<br>x=%{x}<br>y=%{y}<br>text=%{text}<extra></extra>",
         "legendgroup": "blue",
         "marker": {
          "color": "#636efa",
          "symbol": "circle"
         },
         "mode": "markers+text",
         "name": "blue",
         "orientation": "v",
         "showlegend": true,
         "text": [
          "crashes",
          "even",
          "manages",
          "wind",
          "smashes",
          "glass",
          "picks",
          "periscope",
          "breaks",
          "hard",
          "black",
          "behind",
          "puts",
          "full",
          "walls",
          "pankot",
          "exchange",
          "marcus",
          "sallah",
          "lifts",
          "bag",
          "hands",
          "suddenly",
          "pushes",
          "water",
          "donovan",
          "comes",
          "pull",
          "goes",
          "beyond",
          "see",
          "ram's",
          "fingers",
          "follow",
          "lal",
          "hat",
          "hears",
          "finds",
          "finally",
          "death",
          "hits",
          "flame",
          "shoulder",
          "shut",
          "kazim",
          "seen",
          "thank",
          "house",
          "kali",
          "mine",
          "want",
          "nothing",
          "seems",
          "that's",
          "covenant",
          "captain",
          "worried",
          "palace",
          "something",
          "much",
          "rolling",
          "old",
          "kill",
          "face",
          "glowing",
          "temple",
          "head",
          "stares",
          "suite",
          "almost",
          "plane",
          "village",
          "tell",
          "got",
          "leather",
          "cab",
          "going",
          "torch",
          "ram",
          "rushes",
          "father",
          "rear",
          "carrying",
          "vial",
          "shoots",
          "inside",
          "machine",
          "silver",
          "lid",
          "understand",
          "make",
          "toward",
          "time",
          "there's",
          "arab",
          "driver",
          "hit",
          "enters",
          "around",
          "onto",
          "truck",
          "train",
          "mouth",
          "stones",
          "entrance",
          "day",
          "falls",
          "city",
          "children",
          "coat",
          "room",
          "keep",
          "belzig",
          "knew",
          "blood",
          "neck",
          "belloq",
          "ground",
          "elephants",
          "looks",
          "lights",
          "desert",
          "let's",
          "can't",
          "henry",
          "move",
          "burning",
          "said",
          "three",
          "indy",
          "men",
          "closer",
          "made",
          "air",
          "small",
          "foot",
          "leaps",
          "life",
          "soldier",
          "floor",
          "away",
          "climbs",
          "priest",
          "swings",
          "stop",
          "slips",
          "kicks",
          "rock",
          "way",
          "dead",
          "step",
          "direction",
          "tunnel",
          "still",
          "arm",
          "gong",
          "herman",
          "bring",
          "frame",
          "shaman",
          "doctor",
          "yes",
          "pages",
          "roof",
          "right",
          "rolls",
          "crate",
          "together",
          "help",
          "knocks",
          "ahead",
          "jumps",
          "let",
          "break",
          "sound",
          "tracks",
          "feet",
          "trying",
          "people",
          "across",
          "glances",
          "gives",
          "slides",
          "indy's",
          "years",
          "boat",
          "sword",
          "get",
          "spot",
          "moving",
          "drops",
          "hey",
          "pulls",
          "museum",
          "light",
          "fall",
          "bullets",
          "wrong",
          "holds",
          "fire",
          "halfbreed",
          "big",
          "platform",
          "holding",
          "would",
          "tabernacle",
          "ext",
          "box",
          "must",
          "cut",
          "place",
          "castle",
          "walks",
          "nazi",
          "eaton",
          "dust",
          "okay",
          "center",
          "fedora",
          "reaches",
          "yells",
          "knows",
          "notices",
          "bar",
          "last",
          "thuggee",
          "take",
          "believe",
          "hole",
          "watch",
          "submachine",
          "approaches",
          "steps",
          "car",
          "find",
          "work",
          "along",
          "stands",
          "close",
          "sky",
          "shakes",
          "marion",
          "monkey",
          "smoke",
          "cars",
          "half",
          "fast",
          "indiana",
          "wheel",
          "clear",
          "street",
          "side",
          "god",
          "meanwhile",
          "brody",
          "whip",
          "slowly",
          "armed",
          "map",
          "oh",
          "open",
          "dad",
          "diary",
          "guard",
          "forward",
          "seat",
          "say",
          "attention",
          "white",
          "lost",
          "gun",
          "think",
          "huge",
          "mountain",
          "moves",
          "good",
          "night",
          "explodes",
          "horse",
          "flames",
          "brought",
          "cliff",
          "strange",
          "others",
          "deck",
          "what's",
          "sees",
          "bad",
          "statue",
          "leave",
          "tank",
          "man",
          "sits",
          "turns",
          "beat",
          "runs",
          "jones",
          "smiling",
          "priests",
          "elsa",
          "int",
          "vogel",
          "hold",
          "watches",
          "altar",
          "giant",
          "wait",
          "ceiling",
          "oil",
          "table",
          "smile",
          "lava",
          "walk",
          "hok's",
          "new",
          "dr",
          "bottom",
          "little",
          "square",
          "tries",
          "staff",
          "smiles",
          "door",
          "stops",
          "raises",
          "coming",
          "willie",
          "tall",
          "start",
          "window",
          "moment",
          "wide",
          "stuff",
          "past",
          "sight",
          "snakes",
          "evil",
          "what're",
          "grabs",
          "sun",
          "roscoe",
          "disappears",
          "stand",
          "points",
          "takes",
          "turn",
          "lao",
          "cockpit",
          "venice",
          "left",
          "ever",
          "rocks",
          "know",
          "book",
          "nazis",
          "well",
          "maharajah",
          "appears",
          "river",
          "woman",
          "screams",
          "shouts",
          "empty",
          "follows",
          "round",
          "already",
          "line",
          "several",
          "raft",
          "wall",
          "crevasse",
          "looking",
          "end",
          "back",
          "flying",
          "front",
          "junior",
          "top",
          "flies",
          "directly",
          "eyes",
          "nods",
          "thought",
          "never",
          "sacred",
          "pilot",
          "like",
          "pistol",
          "trust",
          "go",
          "five",
          "first",
          "two",
          "long",
          "boy",
          "starts",
          "please",
          "heads",
          "rope",
          "lead",
          "running",
          "run",
          "road",
          "leans",
          "body",
          "willie's",
          "quickly",
          "dives",
          "immediately",
          "begins",
          "cavern",
          "piece",
          "give",
          "satipo",
          "command",
          "snake",
          "tent",
          "listen",
          "chamber",
          "show",
          "stone",
          "far",
          "short",
          "makes",
          "taking",
          "shorty",
          "cross",
          "beneath",
          "blumburtt",
          "throws",
          "arms",
          "schneider",
          "next",
          "wooden",
          "pulling",
          "indiana's",
          "begin",
          "professor",
          "hall",
          "rising",
          "belt",
          "put",
          "speaks",
          "shliemann",
          "pocket",
          "guns",
          "pain",
          "narrow",
          "gobler",
          "pass",
          "mola",
          "chattar",
          "enough",
          "large",
          "hand",
          "places",
          "guards",
          "gold",
          "jacket",
          "near",
          "another",
          "kid",
          "come",
          "us",
          "four",
          "reach",
          "shot",
          "corner",
          "high",
          "drink",
          "fires",
          "one",
          "dark",
          "look",
          "rush",
          "knight",
          "bridge",
          "edge",
          "brake",
          "gets",
          "elephant",
          "yet",
          "enormous",
          "soldiers",
          "quick",
          "capt",
          "friend",
          "continues",
          "found",
          "view",
          "chinese",
          "ten",
          "hear",
          "hovitos",
          "german",
          "second",
          "opens"
         ],
         "textposition": "top center",
         "type": "scatter",
         "x": {
          "bdata": "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",
          "dtype": "f4"
         },
         "xaxis": "x",
         "y": {
          "bdata": "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",
          "dtype": "f4"
         },
         "yaxis": "y"
        },
        {
         "hovertemplate": "Tipo de palabra=red<br>x=%{x}<br>y=%{y}<br>text=%{text}<extra></extra>",
         "legendgroup": "red",
         "marker": {
          "color": "#EF553B",
          "symbol": "circle"
         },
         "mode": "markers+text",
         "name": "red",
         "orientation": "v",
         "showlegend": true,
         "text": [
          "sankara",
          "grail",
          "ark"
         ],
         "textposition": "top center",
         "type": "scatter",
         "x": {
          "bdata": "umewwEE8RMDI5KZA",
          "dtype": "f4"
         },
         "xaxis": "x",
         "y": {
          "bdata": "ymqrv4qoMb/r/jo+",
          "dtype": "f4"
         },
         "yaxis": "y"
        }
       ],
       "layout": {
        "legend": {
         "title": {
          "text": "Tipo de palabra"
         },
         "tracegroupgap": 0
        },
        "margin": {
         "t": 60
        },
        "template": {
         "data": {
          "bar": [
           {
            "error_x": {
             "color": "#2a3f5f"
            },
            "error_y": {
             "color": "#2a3f5f"
            },
            "marker": {
             "line": {
              "color": "#E5ECF6",
              "width": 0.5
             },
             "pattern": {
              "fillmode": "overlay",
              "size": 10,
              "solidity": 0.2
             }
            },
            "type": "bar"
           }
          ],
          "barpolar": [
           {
            "marker": {
             "line": {
              "color": "#E5ECF6",
              "width": 0.5
             },
             "pattern": {
              "fillmode": "overlay",
              "size": 10,
              "solidity": 0.2
             }
            },
            "type": "barpolar"
           }
          ],
          "carpet": [
           {
            "aaxis": {
             "endlinecolor": "#2a3f5f",
             "gridcolor": "white",
             "linecolor": "white",
             "minorgridcolor": "white",
             "startlinecolor": "#2a3f5f"
            },
            "baxis": {
             "endlinecolor": "#2a3f5f",
             "gridcolor": "white",
             "linecolor": "white",
             "minorgridcolor": "white",
             "startlinecolor": "#2a3f5f"
            },
            "type": "carpet"
           }
          ],
          "choropleth": [
           {
            "colorbar": {
             "outlinewidth": 0,
             "ticks": ""
            },
            "type": "choropleth"
           }
          ],
          "contour": [
           {
            "colorbar": {
             "outlinewidth": 0,
             "ticks": ""
            },
            "colorscale": [
             [
              0,
              "#0d0887"
             ],
             [
              0.1111111111111111,
              "#46039f"
             ],
             [
              0.2222222222222222,
              "#7201a8"
             ],
             [
              0.3333333333333333,
              "#9c179e"
             ],
             [
              0.4444444444444444,
              "#bd3786"
             ],
             [
              0.5555555555555556,
              "#d8576b"
             ],
             [
              0.6666666666666666,
              "#ed7953"
             ],
             [
              0.7777777777777778,
              "#fb9f3a"
             ],
             [
              0.8888888888888888,
              "#fdca26"
             ],
             [
              1,
              "#f0f921"
             ]
            ],
            "type": "contour"
           }
          ],
          "contourcarpet": [
           {
            "colorbar": {
             "outlinewidth": 0,
             "ticks": ""
            },
            "type": "contourcarpet"
           }
          ],
          "heatmap": [
           {
            "colorbar": {
             "outlinewidth": 0,
             "ticks": ""
            },
            "colorscale": [
             [
              0,
              "#0d0887"
             ],
             [
              0.1111111111111111,
              "#46039f"
             ],
             [
              0.2222222222222222,
              "#7201a8"
             ],
             [
              0.3333333333333333,
              "#9c179e"
             ],
             [
              0.4444444444444444,
              "#bd3786"
             ],
             [
              0.5555555555555556,
              "#d8576b"
             ],
             [
              0.6666666666666666,
              "#ed7953"
             ],
             [
              0.7777777777777778,
              "#fb9f3a"
             ],
             [
              0.8888888888888888,
              "#fdca26"
             ],
             [
              1,
              "#f0f921"
             ]
            ],
            "type": "heatmap"
           }
          ],
          "histogram": [
           {
            "marker": {
             "pattern": {
              "fillmode": "overlay",
              "size": 10,
              "solidity": 0.2
             }
            },
            "type": "histogram"
           }
          ],
          "histogram2d": [
           {
            "colorbar": {
             "outlinewidth": 0,
             "ticks": ""
            },
            "colorscale": [
             [
              0,
              "#0d0887"
             ],
             [
              0.1111111111111111,
              "#46039f"
             ],
             [
              0.2222222222222222,
              "#7201a8"
             ],
             [
              0.3333333333333333,
              "#9c179e"
             ],
             [
              0.4444444444444444,
              "#bd3786"
             ],
             [
              0.5555555555555556,
              "#d8576b"
             ],
             [
              0.6666666666666666,
              "#ed7953"
             ],
             [
              0.7777777777777778,
              "#fb9f3a"
             ],
             [
              0.8888888888888888,
              "#fdca26"
             ],
             [
              1,
              "#f0f921"
             ]
            ],
            "type": "histogram2d"
           }
          ],
          "histogram2dcontour": [
           {
            "colorbar": {
             "outlinewidth": 0,
             "ticks": ""
            },
            "colorscale": [
             [
              0,
              "#0d0887"
             ],
             [
              0.1111111111111111,
              "#46039f"
             ],
             [
              0.2222222222222222,
              "#7201a8"
             ],
             [
              0.3333333333333333,
              "#9c179e"
             ],
             [
              0.4444444444444444,
              "#bd3786"
             ],
             [
              0.5555555555555556,
              "#d8576b"
             ],
             [
              0.6666666666666666,
              "#ed7953"
             ],
             [
              0.7777777777777778,
              "#fb9f3a"
             ],
             [
              0.8888888888888888,
              "#fdca26"
             ],
             [
              1,
              "#f0f921"
             ]
            ],
            "type": "histogram2dcontour"
           }
          ],
          "mesh3d": [
           {
            "colorbar": {
             "outlinewidth": 0,
             "ticks": ""
            },
            "type": "mesh3d"
           }
          ],
          "parcoords": [
           {
            "line": {
             "colorbar": {
              "outlinewidth": 0,
              "ticks": ""
             }
            },
            "type": "parcoords"
           }
          ],
          "pie": [
           {
            "automargin": true,
            "type": "pie"
           }
          ],
          "scatter": [
           {
            "fillpattern": {
             "fillmode": "overlay",
             "size": 10,
             "solidity": 0.2
            },
            "type": "scatter"
           }
          ],
          "scatter3d": [
           {
            "line": {
             "colorbar": {
              "outlinewidth": 0,
              "ticks": ""
             }
            },
            "marker": {
             "colorbar": {
              "outlinewidth": 0,
              "ticks": ""
             }
            },
            "type": "scatter3d"
           }
          ],
          "scattercarpet": [
           {
            "marker": {
             "colorbar": {
              "outlinewidth": 0,
              "ticks": ""
             }
            },
            "type": "scattercarpet"
           }
          ],
          "scattergeo": [
           {
            "marker": {
             "colorbar": {
              "outlinewidth": 0,
              "ticks": ""
             }
            },
            "type": "scattergeo"
           }
          ],
          "scattergl": [
           {
            "marker": {
             "colorbar": {
              "outlinewidth": 0,
              "ticks": ""
             }
            },
            "type": "scattergl"
           }
          ],
          "scattermap": [
           {
            "marker": {
             "colorbar": {
              "outlinewidth": 0,
              "ticks": ""
             }
            },
            "type": "scattermap"
           }
          ],
          "scattermapbox": [
           {
            "marker": {
             "colorbar": {
              "outlinewidth": 0,
              "ticks": ""
             }
            },
            "type": "scattermapbox"
           }
          ],
          "scatterpolar": [
           {
            "marker": {
             "colorbar": {
              "outlinewidth": 0,
              "ticks": ""
             }
            },
            "type": "scatterpolar"
           }
          ],
          "scatterpolargl": [
           {
            "marker": {
             "colorbar": {
              "outlinewidth": 0,
              "ticks": ""
             }
            },
            "type": "scatterpolargl"
           }
          ],
          "scatterternary": [
           {
            "marker": {
             "colorbar": {
              "outlinewidth": 0,
              "ticks": ""
             }
            },
            "type": "scatterternary"
           }
          ],
          "surface": [
           {
            "colorbar": {
             "outlinewidth": 0,
             "ticks": ""
            },
            "colorscale": [
             [
              0,
              "#0d0887"
             ],
             [
              0.1111111111111111,
              "#46039f"
             ],
             [
              0.2222222222222222,
              "#7201a8"
             ],
             [
              0.3333333333333333,
              "#9c179e"
             ],
             [
              0.4444444444444444,
              "#bd3786"
             ],
             [
              0.5555555555555556,
              "#d8576b"
             ],
             [
              0.6666666666666666,
              "#ed7953"
             ],
             [
              0.7777777777777778,
              "#fb9f3a"
             ],
             [
              0.8888888888888888,
              "#fdca26"
             ],
             [
              1,
              "#f0f921"
             ]
            ],
            "type": "surface"
           }
          ],
          "table": [
           {
            "cells": {
             "fill": {
              "color": "#EBF0F8"
             },
             "line": {
              "color": "white"
             }
            },
            "header": {
             "fill": {
              "color": "#C8D4E3"
             },
             "line": {
              "color": "white"
             }
            },
            "type": "table"
           }
          ]
         },
         "layout": {
          "annotationdefaults": {
           "arrowcolor": "#2a3f5f",
           "arrowhead": 0,
           "arrowwidth": 1
          },
          "autotypenumbers": "strict",
          "coloraxis": {
           "colorbar": {
            "outlinewidth": 0,
            "ticks": ""
           }
          },
          "colorscale": {
           "diverging": [
            [
             0,
             "#8e0152"
            ],
            [
             0.1,
             "#c51b7d"
            ],
            [
             0.2,
             "#de77ae"
            ],
            [
             0.3,
             "#f1b6da"
            ],
            [
             0.4,
             "#fde0ef"
            ],
            [
             0.5,
             "#f7f7f7"
            ],
            [
             0.6,
             "#e6f5d0"
            ],
            [
             0.7,
             "#b8e186"
            ],
            [
             0.8,
             "#7fbc41"
            ],
            [
             0.9,
             "#4d9221"
            ],
            [
             1,
             "#276419"
            ]
           ],
           "sequential": [
            [
             0,
             "#0d0887"
            ],
            [
             0.1111111111111111,
             "#46039f"
            ],
            [
             0.2222222222222222,
             "#7201a8"
            ],
            [
             0.3333333333333333,
             "#9c179e"
            ],
            [
             0.4444444444444444,
             "#bd3786"
            ],
            [
             0.5555555555555556,
             "#d8576b"
            ],
            [
             0.6666666666666666,
             "#ed7953"
            ],
            [
             0.7777777777777778,
             "#fb9f3a"
            ],
            [
             0.8888888888888888,
             "#fdca26"
            ],
            [
             1,
             "#f0f921"
            ]
           ],
           "sequentialminus": [
            [
             0,
             "#0d0887"
            ],
            [
             0.1111111111111111,
             "#46039f"
            ],
            [
             0.2222222222222222,
             "#7201a8"
            ],
            [
             0.3333333333333333,
             "#9c179e"
            ],
            [
             0.4444444444444444,
             "#bd3786"
            ],
            [
             0.5555555555555556,
             "#d8576b"
            ],
            [
             0.6666666666666666,
             "#ed7953"
            ],
            [
             0.7777777777777778,
             "#fb9f3a"
            ],
            [
             0.8888888888888888,
             "#fdca26"
            ],
            [
             1,
             "#f0f921"
            ]
           ]
          },
          "colorway": [
           "#636efa",
           "#EF553B",
           "#00cc96",
           "#ab63fa",
           "#FFA15A",
           "#19d3f3",
           "#FF6692",
           "#B6E880",
           "#FF97FF",
           "#FECB52"
          ],
          "font": {
           "color": "#2a3f5f"
          },
          "geo": {
           "bgcolor": "white",
           "lakecolor": "white",
           "landcolor": "#E5ECF6",
           "showlakes": true,
           "showland": true,
           "subunitcolor": "white"
          },
          "hoverlabel": {
           "align": "left"
          },
          "hovermode": "closest",
          "mapbox": {
           "style": "light"
          },
          "paper_bgcolor": "white",
          "plot_bgcolor": "#E5ECF6",
          "polar": {
           "angularaxis": {
            "gridcolor": "white",
            "linecolor": "white",
            "ticks": ""
           },
           "bgcolor": "#E5ECF6",
           "radialaxis": {
            "gridcolor": "white",
            "linecolor": "white",
            "ticks": ""
           }
          },
          "scene": {
           "xaxis": {
            "backgroundcolor": "#E5ECF6",
            "gridcolor": "white",
            "gridwidth": 2,
            "linecolor": "white",
            "showbackground": true,
            "ticks": "",
            "zerolinecolor": "white"
           },
           "yaxis": {
            "backgroundcolor": "#E5ECF6",
            "gridcolor": "white",
            "gridwidth": 2,
            "linecolor": "white",
            "showbackground": true,
            "ticks": "",
            "zerolinecolor": "white"
           },
           "zaxis": {
            "backgroundcolor": "#E5ECF6",
            "gridcolor": "white",
            "gridwidth": 2,
            "linecolor": "white",
            "showbackground": true,
            "ticks": "",
            "zerolinecolor": "white"
           }
          },
          "shapedefaults": {
           "line": {
            "color": "#2a3f5f"
           }
          },
          "ternary": {
           "aaxis": {
            "gridcolor": "white",
            "linecolor": "white",
            "ticks": ""
           },
           "baxis": {
            "gridcolor": "white",
            "linecolor": "white",
            "ticks": ""
           },
           "bgcolor": "#E5ECF6",
           "caxis": {
            "gridcolor": "white",
            "linecolor": "white",
            "ticks": ""
           }
          },
          "title": {
           "x": 0.05
          },
          "xaxis": {
           "automargin": true,
           "gridcolor": "white",
           "linecolor": "white",
           "ticks": "",
           "title": {
            "standoff": 15
           },
           "zerolinecolor": "white",
           "zerolinewidth": 2
          },
          "yaxis": {
           "automargin": true,
           "gridcolor": "white",
           "linecolor": "white",
           "ticks": "",
           "title": {
            "standoff": 15
           },
           "zerolinecolor": "white",
           "zerolinewidth": 2
          }
         }
        },
        "xaxis": {
         "anchor": "y",
         "domain": [
          0,
          1
         ],
         "title": {
          "text": "x"
         }
        },
        "yaxis": {
         "anchor": "x",
         "domain": [
          0,
          1
         ],
         "title": {
          "text": "y"
         }
        }
       }
      }
     },
     "metadata": {},
     "output_type": "display_data"
    }
   ],
   "source": [
    "vecs, labels = reduce_dimensions(w2v_model)\n",
    "\n",
    "MAX_WORDS=500\n",
    "plot_embeddings(w2v_model, vecs, labels, MAX_WORDS, highlight_words=[\"grail\",\"ark\",\"sankara\"])"
   ]
  },
  {
   "cell_type": "code",
   "execution_count": 217,
   "id": "4374bc39",
   "metadata": {},
   "outputs": [
    {
     "data": {
      "application/vnd.plotly.v1+json": {
       "config": {
        "plotlyServerURL": "https://plot.ly"
       },
       "data": [
        {
         "hovertemplate": "Tipo de palabra=blue<br>x=%{x}<br>y=%{y}<br>z=%{z}<br>text=%{text}<extra></extra>",
         "legendgroup": "blue",
         "marker": {
          "color": "#636efa",
          "size": 2,
          "symbol": "circle"
         },
         "mode": "markers+text",
         "name": "blue",
         "scene": "scene",
         "showlegend": true,
         "text": [
          "dad",
          "diary",
          "like",
          "wind",
          "life",
          "floor",
          "away",
          "guard",
          "forward",
          "trust",
          "go",
          "behind",
          "rock",
          "puts",
          "lost",
          "way",
          "gun",
          "first",
          "think",
          "two",
          "long",
          "huge",
          "moves",
          "starts",
          "night",
          "tunnel",
          "still",
          "marcus",
          "sallah",
          "run",
          "road",
          "bag",
          "hands",
          "suddenly",
          "quickly",
          "water",
          "donovan",
          "begins",
          "pages",
          "sees",
          "right",
          "comes",
          "satipo",
          "crate",
          "see",
          "tank",
          "man",
          "jumps",
          "turns",
          "lal",
          "runs",
          "hat",
          "jones",
          "feet",
          "chamber",
          "priests",
          "finally",
          "across",
          "stone",
          "elsa",
          "short",
          "indy's",
          "shorty",
          "shoulder",
          "shut",
          "cross",
          "int",
          "vogel",
          "hold",
          "watches",
          "altar",
          "giant",
          "table",
          "get",
          "mine",
          "want",
          "schneider",
          "next",
          "pulls",
          "that's",
          "covenant",
          "palace",
          "something",
          "professor",
          "old",
          "light",
          "face",
          "glowing",
          "temple",
          "head",
          "wrong",
          "shliemann",
          "dr",
          "holds",
          "fire",
          "plane",
          "little",
          "got",
          "would",
          "ext",
          "smiles",
          "door",
          "going",
          "cut",
          "ram",
          "stops",
          "mola",
          "vial",
          "chattar",
          "walks",
          "inside",
          "willie",
          "nazi",
          "silver",
          "hand",
          "lid",
          "understand",
          "places",
          "guards",
          "start",
          "toward",
          "another",
          "time",
          "window",
          "moment",
          "stuff",
          "past",
          "come",
          "what're",
          "grabs",
          "around",
          "us",
          "fedora",
          "reaches",
          "onto",
          "truck",
          "air",
          "stones",
          "last",
          "day",
          "falls",
          "take",
          "hole",
          "takes",
          "high",
          "steps",
          "children",
          "car",
          "one",
          "lao",
          "coat",
          "room",
          "dark",
          "know",
          "nazis",
          "along",
          "belzig",
          "well",
          "stands",
          "look",
          "maharajah",
          "knight",
          "belloq",
          "bridge",
          "marion",
          "gets",
          "screams",
          "opens",
          "looks",
          "let's",
          "henry",
          "indiana",
          "move",
          "round",
          "side",
          "wall",
          "god",
          "looking",
          "end",
          "back",
          "brody",
          "indy",
          "whip",
          "three",
          "men",
          "hovitos",
          "front",
          "german",
          "slowly",
          "junior",
          "top",
          "oh",
          "second",
          "small",
          "eyes",
          "open",
          "sacred"
         ],
         "textposition": "top center",
         "type": "scatter3d",
         "x": {
          "bdata": "hBrnP8ohPEINWz3CV1qFQoJmNsLCu2DCM7MiQqbyYMHpby5CwDKfQYPSY0J455NCIpnCQSbudEKMhBRCRk/6QdLhlz6VZA9CO7Y6QkPCf0JUKVpC/cqAwolqkz+JFy3CHqmewJ4ZHsJFCTLBErnJQVFw5UHqM05C/Ko7whM8iEKXqVtClrSUweGkSUFCKkLCgKtHQmpUjsLbcSpCPjGzwWNPz8Dk3eu+qgsgwi7VdcK+Et4/lWpfwbASTUIQli3CyU8lQhNomEGML6LCIzASQitfPkIXyJPCVXYBwFtJb8GgvdzB8ssywu/LgUK5vRJAGL3yQTkMIUKs++zB5FyLQLQ9h0Hmdt1BPLkbwQ9LpcAzsKPCN4e9QS2LtEE3wxzC1ptTQYXYwUEO6h/C1J05wcxvPEK2uH7CgVj0wJBJiEHqI/tBNowAQfjvFcKaFBpCOFHUQUwIjUFT92hCENMPQl2V/MFDPSJBAnqrQZN6s0EPHxJC8pxswq1uzUDVKz3CNsohQvXYjkEa5QNC4l7xwMm10kHDklrCriA8PxK7oMJkRGlCuqsFws8qcEJ6UgPBGFA7QQUIJEJePwjCTqGJwTD28b/KsIRBaElaQh+dE0LyAKVBWUf7QbQeeMJIdC+/Nqc8wgYiMEJXt1tABZ2HQmA4hUL+Rx9Ba3GQwvNCx0FQUgVBltDWwWHUqMEFKcdBFOZLQvULV0Ia6U9BOM8XwcBJE8Lw13JCqo6ewShAO8GlopPCJCuvwTqkg8LgzyBC3WqlwTXWeMKSWIrBgdslwukZG0LY3m5AulRkQoigasHuK0tBseEMP4aOeMGpaZQ9iN+TwZ55sUEdW2VC4kvEwQgVrsFAdWxCfGAHQsmjl8BtTGG/7Y/WQZCoKMLMB55BZMJWwfVdnj98vYm/GDUCwRJP9EF1/91BKa+IQYW1icJ4C+1BciBbwSiH/j+rYBTCXDocwatjQcBiNWrBAp4pQr2fNEIjTHDBSrciQpIIUryApqRAbOjjQQ0t+ECs6N5BlqaNwr5bG8L4az5Ca8DzwWL+XEI=",
          "dtype": "f4"
         },
         "y": {
          "bdata": "7hQjQZOAhUENVETC6l4eQut1g8AYcVLC190uQiMmgkLbAI/A/7ACQIlk3cEc6Zo/8P+KQj5hKsF0AupBWPVPQs0ckUKvEvDBoqyjQSt+RML3WEtCxt4iwbgYu0G8TLnBLaTIQZ5MPkHODYPBIwNJwCY5iMFuRTnA9DYjQtVYRsHF4c/B5QQtwp5bL8Jcp21CS4CHQcR5hMGJ9BZB62aRws+AYcLOxuNBDElvwi/UaECQAp/Ck3ewQUBN6EAdY4DBV60GwnNOyUE2m0dBSwiawRamFMBOivBBEMbYQZpThUDa9UXC4z1Nwnj7E0BiLOxBph35wdr8IEInFaTB1jCNwsZxKsJEXgHBiNMwQkgYi0GWXP7AZcteQaFnJ0JKICpC9jRlwvIZUsGMi7pBPaWnwaUzw0BffBPC/6QmwqjL7cCSWR/CjmQBQgqZ+MFl4E1BrlogwsUIlcKr2EjCbhROwlke1MH/k4FB0xXYwEOVEUCrtZxAoa3GQUzKREHKSohBkughQZTgj8EDQ4BBQtMsQjUlJ8K+kBrCA3GUwEZNHsG/RuZBqhBkwgm7zkEkpnXCtYXDQeUIhMJVttq/qFX8wREbMkKxa0DCemwRwhANKMI3kDrBzq+BwRhVz8FIkSLCKZTjwXHZfEKTnSlARFQewn4ZmUE8/XHBazCgwT7g2kBaKYXA0NqgwQfVRMAWehRBrrmLwZl7Zz98cCZCIrWGQrAxA0KtMdnAox8FwrDpFUJNrsdBhhyZQkZSC8KFRTfCg8uNwugwssGwCBjCxLPLQUfxVEIe+oDCTlLlvxNk70HFb6JCh1HEwRtv/kDeLEZCKH+DQczu9EFGwQjC35tmwsP/ysGMmjpBQT1NQExYk0L47RTCksHEwTQ8IsHVw5DCKDRqwk1CwcGUhL9BfEbjwWWYkkIe2xDCqbGDQjsLGkJAAITByPonQbJLisK/Jg/C8RFowvBIbUFWE8y/TezhwNktJMJ7E5zBCosOwjIgDEL/iKLBEoAuPDtGQULUSag/+AvTwUtTgsLNglnCKW9yQWdjgsE=",
          "dtype": "f4"
         },
         "z": {
          "bdata": "4tlQwr0mcsCo5AlBxhtbQap0I8HRb8PBZ9z9QQqlwEH3I7FBKxScwV56RsKWDRdCLMXTQUsVB0KMZoNCur5BwsZYg8FTEjfCSeYCwnFYhsDj4sjA/KR4QeX3E0JkwxlC7x4pwk8fF8Bq6mxBEywkwZIztEF8c+BALE1bwgozS8HDJxdCKBEoQpC6MkKgbfnBnF8UQqua80GGZQLBjKhnQeokXsIFRpZCjKvgwRFi4cHOYp7B3hIrQarIv0HaMYZCW7h9QkiT9UFrfhfAc+cCQhB1pMH2YAxB3afiwJBFFUIBcFVC+QEtQt3yGMJ5Fm1C2ZLoQXr1VEJ6LNVBzJgrQjPVBMLhmxdCB2m7wQYzbELGrA3Bu/mTQpsID8EePE1CB8pQv2aPiMKZX67AyiaUwg1emMFoCgtADwziQXC8d8Ge/czBT8BawpwIPMIq6GzBel6SQayaosGO1IxBcBWSQH+incFZVoNCikNdwik0bUFHbMrBJJlGQowOoEKwFXfCU5GLQqTJmMGYx+rBt7UEwqirMULKsYTBYWlSwsEGF0HzftRBtfapv3zKqUHv8kY+3mH9QS4JgUF1FF9BgVfEQUObn0E+is/BonxDQnynq8HRkwDCeiI5Qnc8K8F1qWDCZltYQrGlPb/lQJ3ADyO2wegGFkLE0MDBkYyxwRN/+8HnYCjCfBONQl3rnEL1w2DCVkXQQX1UdELQjRhCEOwQwJDxSEEw/4jAvbWswTMy/cFHchzBRSEtQcZj7UHReUtCT5ImwYWtM0IjdN6/bbiEwZOFLUJ+ozzBwSsMQkLej8IJszbBf1V6wsQ/A8GiOMs/dEZoQkfL6sGSjB/B0xC1wdVbC0K1xKI/EbV5QRb/CEKSRodCaCaPQmlA/kFi1789tpM7QlHMA8Ifa0pC5DDtQdYAxkBcNwJCG9BUQRcKkcFIP0bCd5GNQLijA8JwZn9COP34wYzOxkE0lIFCfL6Hwj12SsLXajHC6bqVQRUk7kEsbHVC/JqxwS9QUEImBznCMrRbQZd/S0HMdpxA0+WBwpI+HcE=",
          "dtype": "f4"
         }
        },
        {
         "hovertemplate": "Tipo de palabra=red<br>x=%{x}<br>y=%{y}<br>z=%{z}<br>text=%{text}<extra></extra>",
         "legendgroup": "red",
         "marker": {
          "color": "#EF553B",
          "size": 2,
          "symbol": "circle"
         },
         "mode": "markers+text",
         "name": "red",
         "scene": "scene",
         "showlegend": true,
         "text": [
          "ark",
          "sankara",
          "grail"
         ],
         "textposition": "top center",
         "type": "scatter3d",
         "x": {
          "bdata": "KLj8QUPgckKqo0tC",
          "dtype": "f4"
         },
         "y": {
          "bdata": "nDwvwheQQMEBH5RA",
          "dtype": "f4"
         },
         "z": {
          "bdata": "JAADwvh3HcHVxLDA",
          "dtype": "f4"
         }
        }
       ],
       "layout": {
        "legend": {
         "title": {
          "text": "Tipo de palabra"
         },
         "tracegroupgap": 0
        },
        "margin": {
         "t": 60
        },
        "scene": {
         "domain": {
          "x": [
           0,
           1
          ],
          "y": [
           0,
           1
          ]
         },
         "xaxis": {
          "title": {
           "text": "x"
          }
         },
         "yaxis": {
          "title": {
           "text": "y"
          }
         },
         "zaxis": {
          "title": {
           "text": "z"
          }
         }
        },
        "template": {
         "data": {
          "bar": [
           {
            "error_x": {
             "color": "#2a3f5f"
            },
            "error_y": {
             "color": "#2a3f5f"
            },
            "marker": {
             "line": {
              "color": "#E5ECF6",
              "width": 0.5
             },
             "pattern": {
              "fillmode": "overlay",
              "size": 10,
              "solidity": 0.2
             }
            },
            "type": "bar"
           }
          ],
          "barpolar": [
           {
            "marker": {
             "line": {
              "color": "#E5ECF6",
              "width": 0.5
             },
             "pattern": {
              "fillmode": "overlay",
              "size": 10,
              "solidity": 0.2
             }
            },
            "type": "barpolar"
           }
          ],
          "carpet": [
           {
            "aaxis": {
             "endlinecolor": "#2a3f5f",
             "gridcolor": "white",
             "linecolor": "white",
             "minorgridcolor": "white",
             "startlinecolor": "#2a3f5f"
            },
            "baxis": {
             "endlinecolor": "#2a3f5f",
             "gridcolor": "white",
             "linecolor": "white",
             "minorgridcolor": "white",
             "startlinecolor": "#2a3f5f"
            },
            "type": "carpet"
           }
          ],
          "choropleth": [
           {
            "colorbar": {
             "outlinewidth": 0,
             "ticks": ""
            },
            "type": "choropleth"
           }
          ],
          "contour": [
           {
            "colorbar": {
             "outlinewidth": 0,
             "ticks": ""
            },
            "colorscale": [
             [
              0,
              "#0d0887"
             ],
             [
              0.1111111111111111,
              "#46039f"
             ],
             [
              0.2222222222222222,
              "#7201a8"
             ],
             [
              0.3333333333333333,
              "#9c179e"
             ],
             [
              0.4444444444444444,
              "#bd3786"
             ],
             [
              0.5555555555555556,
              "#d8576b"
             ],
             [
              0.6666666666666666,
              "#ed7953"
             ],
             [
              0.7777777777777778,
              "#fb9f3a"
             ],
             [
              0.8888888888888888,
              "#fdca26"
             ],
             [
              1,
              "#f0f921"
             ]
            ],
            "type": "contour"
           }
          ],
          "contourcarpet": [
           {
            "colorbar": {
             "outlinewidth": 0,
             "ticks": ""
            },
            "type": "contourcarpet"
           }
          ],
          "heatmap": [
           {
            "colorbar": {
             "outlinewidth": 0,
             "ticks": ""
            },
            "colorscale": [
             [
              0,
              "#0d0887"
             ],
             [
              0.1111111111111111,
              "#46039f"
             ],
             [
              0.2222222222222222,
              "#7201a8"
             ],
             [
              0.3333333333333333,
              "#9c179e"
             ],
             [
              0.4444444444444444,
              "#bd3786"
             ],
             [
              0.5555555555555556,
              "#d8576b"
             ],
             [
              0.6666666666666666,
              "#ed7953"
             ],
             [
              0.7777777777777778,
              "#fb9f3a"
             ],
             [
              0.8888888888888888,
              "#fdca26"
             ],
             [
              1,
              "#f0f921"
             ]
            ],
            "type": "heatmap"
           }
          ],
          "histogram": [
           {
            "marker": {
             "pattern": {
              "fillmode": "overlay",
              "size": 10,
              "solidity": 0.2
             }
            },
            "type": "histogram"
           }
          ],
          "histogram2d": [
           {
            "colorbar": {
             "outlinewidth": 0,
             "ticks": ""
            },
            "colorscale": [
             [
              0,
              "#0d0887"
             ],
             [
              0.1111111111111111,
              "#46039f"
             ],
             [
              0.2222222222222222,
              "#7201a8"
             ],
             [
              0.3333333333333333,
              "#9c179e"
             ],
             [
              0.4444444444444444,
              "#bd3786"
             ],
             [
              0.5555555555555556,
              "#d8576b"
             ],
             [
              0.6666666666666666,
              "#ed7953"
             ],
             [
              0.7777777777777778,
              "#fb9f3a"
             ],
             [
              0.8888888888888888,
              "#fdca26"
             ],
             [
              1,
              "#f0f921"
             ]
            ],
            "type": "histogram2d"
           }
          ],
          "histogram2dcontour": [
           {
            "colorbar": {
             "outlinewidth": 0,
             "ticks": ""
            },
            "colorscale": [
             [
              0,
              "#0d0887"
             ],
             [
              0.1111111111111111,
              "#46039f"
             ],
             [
              0.2222222222222222,
              "#7201a8"
             ],
             [
              0.3333333333333333,
              "#9c179e"
             ],
             [
              0.4444444444444444,
              "#bd3786"
             ],
             [
              0.5555555555555556,
              "#d8576b"
             ],
             [
              0.6666666666666666,
              "#ed7953"
             ],
             [
              0.7777777777777778,
              "#fb9f3a"
             ],
             [
              0.8888888888888888,
              "#fdca26"
             ],
             [
              1,
              "#f0f921"
             ]
            ],
            "type": "histogram2dcontour"
           }
          ],
          "mesh3d": [
           {
            "colorbar": {
             "outlinewidth": 0,
             "ticks": ""
            },
            "type": "mesh3d"
           }
          ],
          "parcoords": [
           {
            "line": {
             "colorbar": {
              "outlinewidth": 0,
              "ticks": ""
             }
            },
            "type": "parcoords"
           }
          ],
          "pie": [
           {
            "automargin": true,
            "type": "pie"
           }
          ],
          "scatter": [
           {
            "fillpattern": {
             "fillmode": "overlay",
             "size": 10,
             "solidity": 0.2
            },
            "type": "scatter"
           }
          ],
          "scatter3d": [
           {
            "line": {
             "colorbar": {
              "outlinewidth": 0,
              "ticks": ""
             }
            },
            "marker": {
             "colorbar": {
              "outlinewidth": 0,
              "ticks": ""
             }
            },
            "type": "scatter3d"
           }
          ],
          "scattercarpet": [
           {
            "marker": {
             "colorbar": {
              "outlinewidth": 0,
              "ticks": ""
             }
            },
            "type": "scattercarpet"
           }
          ],
          "scattergeo": [
           {
            "marker": {
             "colorbar": {
              "outlinewidth": 0,
              "ticks": ""
             }
            },
            "type": "scattergeo"
           }
          ],
          "scattergl": [
           {
            "marker": {
             "colorbar": {
              "outlinewidth": 0,
              "ticks": ""
             }
            },
            "type": "scattergl"
           }
          ],
          "scattermap": [
           {
            "marker": {
             "colorbar": {
              "outlinewidth": 0,
              "ticks": ""
             }
            },
            "type": "scattermap"
           }
          ],
          "scattermapbox": [
           {
            "marker": {
             "colorbar": {
              "outlinewidth": 0,
              "ticks": ""
             }
            },
            "type": "scattermapbox"
           }
          ],
          "scatterpolar": [
           {
            "marker": {
             "colorbar": {
              "outlinewidth": 0,
              "ticks": ""
             }
            },
            "type": "scatterpolar"
           }
          ],
          "scatterpolargl": [
           {
            "marker": {
             "colorbar": {
              "outlinewidth": 0,
              "ticks": ""
             }
            },
            "type": "scatterpolargl"
           }
          ],
          "scatterternary": [
           {
            "marker": {
             "colorbar": {
              "outlinewidth": 0,
              "ticks": ""
             }
            },
            "type": "scatterternary"
           }
          ],
          "surface": [
           {
            "colorbar": {
             "outlinewidth": 0,
             "ticks": ""
            },
            "colorscale": [
             [
              0,
              "#0d0887"
             ],
             [
              0.1111111111111111,
              "#46039f"
             ],
             [
              0.2222222222222222,
              "#7201a8"
             ],
             [
              0.3333333333333333,
              "#9c179e"
             ],
             [
              0.4444444444444444,
              "#bd3786"
             ],
             [
              0.5555555555555556,
              "#d8576b"
             ],
             [
              0.6666666666666666,
              "#ed7953"
             ],
             [
              0.7777777777777778,
              "#fb9f3a"
             ],
             [
              0.8888888888888888,
              "#fdca26"
             ],
             [
              1,
              "#f0f921"
             ]
            ],
            "type": "surface"
           }
          ],
          "table": [
           {
            "cells": {
             "fill": {
              "color": "#EBF0F8"
             },
             "line": {
              "color": "white"
             }
            },
            "header": {
             "fill": {
              "color": "#C8D4E3"
             },
             "line": {
              "color": "white"
             }
            },
            "type": "table"
           }
          ]
         },
         "layout": {
          "annotationdefaults": {
           "arrowcolor": "#2a3f5f",
           "arrowhead": 0,
           "arrowwidth": 1
          },
          "autotypenumbers": "strict",
          "coloraxis": {
           "colorbar": {
            "outlinewidth": 0,
            "ticks": ""
           }
          },
          "colorscale": {
           "diverging": [
            [
             0,
             "#8e0152"
            ],
            [
             0.1,
             "#c51b7d"
            ],
            [
             0.2,
             "#de77ae"
            ],
            [
             0.3,
             "#f1b6da"
            ],
            [
             0.4,
             "#fde0ef"
            ],
            [
             0.5,
             "#f7f7f7"
            ],
            [
             0.6,
             "#e6f5d0"
            ],
            [
             0.7,
             "#b8e186"
            ],
            [
             0.8,
             "#7fbc41"
            ],
            [
             0.9,
             "#4d9221"
            ],
            [
             1,
             "#276419"
            ]
           ],
           "sequential": [
            [
             0,
             "#0d0887"
            ],
            [
             0.1111111111111111,
             "#46039f"
            ],
            [
             0.2222222222222222,
             "#7201a8"
            ],
            [
             0.3333333333333333,
             "#9c179e"
            ],
            [
             0.4444444444444444,
             "#bd3786"
            ],
            [
             0.5555555555555556,
             "#d8576b"
            ],
            [
             0.6666666666666666,
             "#ed7953"
            ],
            [
             0.7777777777777778,
             "#fb9f3a"
            ],
            [
             0.8888888888888888,
             "#fdca26"
            ],
            [
             1,
             "#f0f921"
            ]
           ],
           "sequentialminus": [
            [
             0,
             "#0d0887"
            ],
            [
             0.1111111111111111,
             "#46039f"
            ],
            [
             0.2222222222222222,
             "#7201a8"
            ],
            [
             0.3333333333333333,
             "#9c179e"
            ],
            [
             0.4444444444444444,
             "#bd3786"
            ],
            [
             0.5555555555555556,
             "#d8576b"
            ],
            [
             0.6666666666666666,
             "#ed7953"
            ],
            [
             0.7777777777777778,
             "#fb9f3a"
            ],
            [
             0.8888888888888888,
             "#fdca26"
            ],
            [
             1,
             "#f0f921"
            ]
           ]
          },
          "colorway": [
           "#636efa",
           "#EF553B",
           "#00cc96",
           "#ab63fa",
           "#FFA15A",
           "#19d3f3",
           "#FF6692",
           "#B6E880",
           "#FF97FF",
           "#FECB52"
          ],
          "font": {
           "color": "#2a3f5f"
          },
          "geo": {
           "bgcolor": "white",
           "lakecolor": "white",
           "landcolor": "#E5ECF6",
           "showlakes": true,
           "showland": true,
           "subunitcolor": "white"
          },
          "hoverlabel": {
           "align": "left"
          },
          "hovermode": "closest",
          "mapbox": {
           "style": "light"
          },
          "paper_bgcolor": "white",
          "plot_bgcolor": "#E5ECF6",
          "polar": {
           "angularaxis": {
            "gridcolor": "white",
            "linecolor": "white",
            "ticks": ""
           },
           "bgcolor": "#E5ECF6",
           "radialaxis": {
            "gridcolor": "white",
            "linecolor": "white",
            "ticks": ""
           }
          },
          "scene": {
           "xaxis": {
            "backgroundcolor": "#E5ECF6",
            "gridcolor": "white",
            "gridwidth": 2,
            "linecolor": "white",
            "showbackground": true,
            "ticks": "",
            "zerolinecolor": "white"
           },
           "yaxis": {
            "backgroundcolor": "#E5ECF6",
            "gridcolor": "white",
            "gridwidth": 2,
            "linecolor": "white",
            "showbackground": true,
            "ticks": "",
            "zerolinecolor": "white"
           },
           "zaxis": {
            "backgroundcolor": "#E5ECF6",
            "gridcolor": "white",
            "gridwidth": 2,
            "linecolor": "white",
            "showbackground": true,
            "ticks": "",
            "zerolinecolor": "white"
           }
          },
          "shapedefaults": {
           "line": {
            "color": "#2a3f5f"
           }
          },
          "ternary": {
           "aaxis": {
            "gridcolor": "white",
            "linecolor": "white",
            "ticks": ""
           },
           "baxis": {
            "gridcolor": "white",
            "linecolor": "white",
            "ticks": ""
           },
           "bgcolor": "#E5ECF6",
           "caxis": {
            "gridcolor": "white",
            "linecolor": "white",
            "ticks": ""
           }
          },
          "title": {
           "x": 0.05
          },
          "xaxis": {
           "automargin": true,
           "gridcolor": "white",
           "linecolor": "white",
           "ticks": "",
           "title": {
            "standoff": 15
           },
           "zerolinecolor": "white",
           "zerolinewidth": 2
          },
          "yaxis": {
           "automargin": true,
           "gridcolor": "white",
           "linecolor": "white",
           "ticks": "",
           "title": {
            "standoff": 15
           },
           "zerolinecolor": "white",
           "zerolinewidth": 2
          }
         }
        }
       }
      }
     },
     "metadata": {},
     "output_type": "display_data"
    }
   ],
   "source": [
    "vecs, labels = reduce_dimensions(w2v_model,3)\n",
    "\n",
    "MAX_WORDS=200\n",
    "plot_embeddings(w2v_model, vecs, labels, MAX_WORDS, highlight_words=[\"grail\",\"ark\",\"sankara\"])"
   ]
  },
  {
   "cell_type": "markdown",
   "id": "6541be06",
   "metadata": {},
   "source": [
    "### Test de analogía"
   ]
  },
  {
   "cell_type": "code",
   "execution_count": 297,
   "id": "a3d053dd",
   "metadata": {},
   "outputs": [
    {
     "data": {
      "text/plain": [
       "[('grail', 0.4463427662849426),\n",
       " ('book', 0.4154148995876312),\n",
       " ('piece', 0.40629443526268005),\n",
       " ('knight', 0.394082248210907),\n",
       " ('dad', 0.38516494631767273),\n",
       " ('slips', 0.3780818283557892),\n",
       " ('every', 0.37736085057258606),\n",
       " ('within', 0.36377525329589844)]"
      ]
     },
     "metadata": {},
     "output_type": "display_data"
    },
    {
     "data": {
      "text/plain": [
       "0.4463427"
      ]
     },
     "metadata": {},
     "output_type": "display_data"
    },
    {
     "data": {
      "image/png": "[encoded data removed]",
      "text/plain": [
       "<Figure size 1600x900 with 2 Axes>"
      ]
     },
     "metadata": {},
     "output_type": "display_data"
    }
   ],
   "source": [
    "words = [\"diary\",\"books\",\"nazi\"]\n",
    "vector1 = w2v_model.wv.get_vector(words[0])\n",
    "vector2 = w2v_model.wv.get_vector(words[1])\n",
    "vector3 = w2v_model.wv.get_vector(words[2])\n",
    "\n",
    "new_vector = vector1 + vector2 - vector3\n",
    "\n",
    "display(w2v_model.wv.most_similar(new_vector)[2:])\n",
    "display(cosine_similarity([new_vector], [w2v_model.wv.get_vector(\"grail\")])[0][0])\n",
    "words.append(\"grail\")\n",
    "embeddings_matrix_distance(w2v_model, words, new_vector, \"new_vector\")"
   ]
  },
  {
   "cell_type": "markdown",
   "id": "460bb76b",
   "metadata": {},
   "source": [
    "Salvar el diario de la quema de libros lleva al grial. La correlación no es fuerte pero si es la palabra más próxima al nuevo vector."
   ]
  }
 ],
 "metadata": {
  "kernelspec": {
   "display_name": "venv",
   "language": "python",
   "name": "python3"
  },
  "language_info": {
   "codemirror_mode": {
    "name": "ipython",
    "version": 3
   },
   "file_extension": ".py",
   "mimetype": "text/x-python",
   "name": "python",
   "nbconvert_exporter": "python",
   "pygments_lexer": "ipython3",
   "version": "3.12.10"
  }
 },
 "nbformat": 4,
 "nbformat_minor": 5
}
