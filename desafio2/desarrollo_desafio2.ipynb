{
 "cells": [
  {
   "cell_type": "markdown",
   "id": "8b16d688",
   "metadata": {},
   "source": [
    "# Desafio 2 - NLP\n",
    "\n",
    "- Crear sus propios vectores con Gensim basado en lo visto en clase con otro dataset.\n",
    "- Probar términos de interés y explicar similitudes en el espacio de embeddings.\n",
    "- Intentar plantear y probar tests de analogías. \n",
    "- Graficar los embeddings resultantes.\n",
    "- Sacar conclusiones."
   ]
  },
  {
   "cell_type": "markdown",
   "id": "cd8bb8c1",
   "metadata": {},
   "source": [
    "## Imports"
   ]
  },
  {
   "cell_type": "code",
   "execution_count": 92,
   "id": "eda5d6ce",
   "metadata": {},
   "outputs": [],
   "source": [
    "import pandas as pd\n",
    "import matplotlib.pyplot as plt\n",
    "import seaborn as sns\n",
    "import multiprocessing\n",
    "from gensim.models import Word2Vec\n",
    "import os\n",
    "from tensorflow.keras.preprocessing.text import text_to_word_sequence\n",
    "from gensim.models.callbacks import CallbackAny2Vec\n",
    "\n",
    "from sklearn.decomposition import IncrementalPCA    \n",
    "from sklearn.manifold import TSNE                   \n",
    "import numpy as np\n",
    "import plotly.graph_objects as go\n",
    "import plotly.express as px                   "
   ]
  },
  {
   "cell_type": "markdown",
   "id": "298aeb29",
   "metadata": {},
   "source": [
    "## Funciones generales"
   ]
  },
  {
   "cell_type": "code",
   "execution_count": 20,
   "id": "bdea8400",
   "metadata": {},
   "outputs": [],
   "source": [
    "# Durante el entrenamiento gensim por defecto no informa el \"loss\" en cada época\n",
    "# Sobrecargamos el callback para poder tener esta información\n",
    "class callback(CallbackAny2Vec):\n",
    "    \"\"\"\n",
    "    Callback to print loss after each epoch\n",
    "    \"\"\"\n",
    "    def __init__(self):\n",
    "        self.epoch = 0\n",
    "\n",
    "    def on_epoch_end(self, model):\n",
    "        loss = model.get_latest_training_loss()\n",
    "        if self.epoch == 0:\n",
    "            print('Loss after epoch {}: {}'.format(self.epoch, loss))\n",
    "        else:\n",
    "            print('Loss after epoch {}: {}'.format(self.epoch, loss- self.loss_previous_step))\n",
    "        self.epoch += 1\n",
    "        self.loss_previous_step = loss"
   ]
  },
  {
   "cell_type": "code",
   "execution_count": null,
   "id": "f174c202",
   "metadata": {},
   "outputs": [],
   "source": [
    "def reduce_dimensions(model, num_dimensions = 2 ):\n",
    "     \n",
    "    vectors = np.asarray(model.wv.vectors)\n",
    "    labels = np.asarray(model.wv.index_to_key)  \n",
    "\n",
    "    tsne = TSNE(n_components=num_dimensions, random_state=0)\n",
    "    vectors = tsne.fit_transform(vectors)\n",
    "\n",
    "    return vectors, labels"
   ]
  },
  {
   "cell_type": "code",
   "execution_count": 124,
   "id": "aed1521d",
   "metadata": {},
   "outputs": [],
   "source": [
    "def max_words (model, vecs, labels, highlight_words, MAX_WORDS, topn=10):\n",
    "    all_words = list(labels)\n",
    "    selected_words = set(highlight_words)\n",
    "\n",
    "    for word in highlight_words:\n",
    "        if word in model.wv:\n",
    "            try:\n",
    "                similar = model.wv.most_similar(word, topn=topn)\n",
    "                selected_words.update([w for w, _ in similar])\n",
    "            except KeyError:\n",
    "                pass  # por si alguna palabra no está en vocabulario\n",
    "\n",
    "    for word in all_words:\n",
    "        if len(selected_words) >= MAX_WORDS:\n",
    "            break\n",
    "        if word not in selected_words:\n",
    "            selected_words.add(word)\n",
    "\n",
    "    selected_words = list(selected_words)\n",
    "    indices = [all_words.index(w) for w in selected_words if w in all_words]\n",
    "    filtered_vecs = vecs[indices]\n",
    "    filtered_labels = [all_words[i] for i in indices]\n",
    "    return filtered_vecs, filtered_labels"
   ]
  },
  {
   "cell_type": "code",
   "execution_count": 114,
   "id": "da8137cb",
   "metadata": {},
   "outputs": [],
   "source": [
    "def plot_embeddings(model, vecs, labels, MAX_WORDS=200, highlight_words=None):\n",
    "    assert vecs.shape[0] == len(labels), \"Vecs y labels deben tener la misma longitud\"\n",
    "    #labels = np.asarray(labels)[:MAX_WORDS]\n",
    "    #vecs = vecs[:MAX_WORDS]\n",
    "    vecs, labels = max_words(model, vecs, labels, highlight_words, MAX_WORDS)\n",
    "    # Colores: rojo si está en highlight, azul si no\n",
    "    highlight_words = set(highlight_words) if highlight_words else set()\n",
    "    colors = ['red' if word in highlight_words else 'blue' for word in labels]\n",
    "\n",
    "    if vecs.shape[1] == 2:\n",
    "        fig = px.scatter(\n",
    "            x=vecs[:, 0],\n",
    "            y=vecs[:, 1],\n",
    "            text=labels,\n",
    "            color=colors,\n",
    "            labels={\"color\": \"Tipo de palabra\"}\n",
    "        )\n",
    "    elif vecs.shape[1] == 3:\n",
    "        fig = px.scatter_3d(\n",
    "            x=vecs[:, 0],\n",
    "            y=vecs[:, 1],\n",
    "            z=vecs[:, 2],\n",
    "            text=labels,\n",
    "            color=colors,\n",
    "            labels={\"color\": \"Tipo de palabra\"}\n",
    "        )\n",
    "        fig.update_traces(marker_size = 2)\n",
    "    else:\n",
    "        raise ValueError(\"Los vectores deben ser de dimensión 2 o 3\")\n",
    "\n",
    "    fig.update_traces(textposition='top center')\n",
    "    fig.show()"
   ]
  },
  {
   "cell_type": "markdown",
   "id": "055a0a3c",
   "metadata": {},
   "source": [
    "## Preprocesamiento"
   ]
  },
  {
   "cell_type": "code",
   "execution_count": 6,
   "id": "45b0047f",
   "metadata": {},
   "outputs": [
    {
     "data": {
      "text/plain": [
       "['Indiana_Jones_And_The_Last_Crusade.txt',\n",
       " 'Indiana_Jones_And_The_Temple_Of_Doom.txt',\n",
       " 'Raiders_Of_The_Lost_Ark.txt']"
      ]
     },
     "execution_count": 6,
     "metadata": {},
     "output_type": "execute_result"
    }
   ],
   "source": [
    "os.listdir(\"corpus\")"
   ]
  },
  {
   "cell_type": "code",
   "execution_count": 39,
   "id": "dac7130d",
   "metadata": {},
   "outputs": [
    {
     "data": {
      "application/vnd.microsoft.datawrangler.viewer.v0+json": {
       "columns": [
        {
         "name": "index",
         "rawType": "int64",
         "type": "integer"
        },
        {
         "name": "0",
         "rawType": "object",
         "type": "string"
        }
       ],
       "conversionMethod": "pd.DataFrame",
       "ref": "5d20068f-68f6-464a-8c76-ada729fed689",
       "rows": [
        [
         "0",
         "\"INDIANA JONES AND THE LAST CRUSADE\""
        ],
        [
         "1",
         "Screenplay by"
        ],
        [
         "2",
         "Jeffrey Boam"
        ],
        [
         "3",
         "FADE IN:"
        ],
        [
         "4",
         "EXT. DESERT OF THE AMERICAN SOUTHWEST - DAY"
        ]
       ],
       "shape": {
        "columns": 1,
        "rows": 5
       }
      },
      "text/html": [
       "<div>\n",
       "<style scoped>\n",
       "    .dataframe tbody tr th:only-of-type {\n",
       "        vertical-align: middle;\n",
       "    }\n",
       "\n",
       "    .dataframe tbody tr th {\n",
       "        vertical-align: top;\n",
       "    }\n",
       "\n",
       "    .dataframe thead th {\n",
       "        text-align: right;\n",
       "    }\n",
       "</style>\n",
       "<table border=\"1\" class=\"dataframe\">\n",
       "  <thead>\n",
       "    <tr style=\"text-align: right;\">\n",
       "      <th></th>\n",
       "      <th>0</th>\n",
       "    </tr>\n",
       "  </thead>\n",
       "  <tbody>\n",
       "    <tr>\n",
       "      <th>0</th>\n",
       "      <td>\"INDIANA JONES AND THE LAST CRUSADE\"</td>\n",
       "    </tr>\n",
       "    <tr>\n",
       "      <th>1</th>\n",
       "      <td>Screenplay by</td>\n",
       "    </tr>\n",
       "    <tr>\n",
       "      <th>2</th>\n",
       "      <td>Jeffrey Boam</td>\n",
       "    </tr>\n",
       "    <tr>\n",
       "      <th>3</th>\n",
       "      <td>FADE IN:</td>\n",
       "    </tr>\n",
       "    <tr>\n",
       "      <th>4</th>\n",
       "      <td>EXT. DESERT OF THE AMERICAN SOUTHWEST - DAY</td>\n",
       "    </tr>\n",
       "  </tbody>\n",
       "</table>\n",
       "</div>"
      ],
      "text/plain": [
       "                                             0\n",
       "0         \"INDIANA JONES AND THE LAST CRUSADE\"\n",
       "1                                Screenplay by\n",
       "2                                 Jeffrey Boam\n",
       "3                                     FADE IN:\n",
       "4  EXT. DESERT OF THE AMERICAN SOUTHWEST - DAY"
      ]
     },
     "metadata": {},
     "output_type": "display_data"
    },
    {
     "data": {
      "text/plain": [
       "'Cantidad de documentos:'"
      ]
     },
     "metadata": {},
     "output_type": "display_data"
    },
    {
     "data": {
      "text/plain": [
       "13504"
      ]
     },
     "metadata": {},
     "output_type": "display_data"
    }
   ],
   "source": [
    "df1 = pd.read_csv('corpus/Indiana_Jones_And_The_Last_Crusade.txt', sep='/n', header=None, engine='python')\n",
    "df2 = pd.read_csv('corpus/Raiders_Of_The_Lost_Ark.txt', sep='/n', header=None, engine='python')\n",
    "df3 = pd.read_csv('corpus/Indiana_Jones_And_The_Temple_Of_Doom.txt', sep='/n', header=None, engine='python')\n",
    "df = pd.concat([df1, df2, df3], ignore_index=True)\n",
    "display(df.head())\n",
    "display(\"Cantidad de documentos:\", df.shape[0])"
   ]
  },
  {
   "cell_type": "code",
   "execution_count": 40,
   "id": "e043b19d",
   "metadata": {},
   "outputs": [],
   "source": [
    "sentence_tokens = []\n",
    "# Recorrer todas las filas y transformar las oraciones\n",
    "# en una secuencia de palabras (esto podría realizarse con NLTK o spaCy también)\n",
    "for _, row in df[:None].iterrows():\n",
    "    sentence_tokens.append(text_to_word_sequence(row[0]))"
   ]
  },
  {
   "cell_type": "markdown",
   "id": "5f2e1b73",
   "metadata": {},
   "source": [
    "## Crear los vectores (word2vec)"
   ]
  },
  {
   "cell_type": "code",
   "execution_count": 75,
   "id": "c652e22a",
   "metadata": {},
   "outputs": [],
   "source": [
    "# En este caso utilizaremos la estructura modelo Skipgram\n",
    "w2v_model = Word2Vec(min_count=10,    # frecuencia mínima de palabra para incluirla en el vocabulario\n",
    "                     window=5,       # cant de palabras antes y desp de la predicha\n",
    "                     vector_size=500,       # dimensionalidad de los vectores \n",
    "                     negative=20,    # cantidad de negative samples... 0 es no se usa\n",
    "                     workers=4,      # si tienen más cores pueden cambiar este valor\n",
    "                     sg=0)           # modelo 0:CBOW  1:skipgram"
   ]
  },
  {
   "cell_type": "code",
   "execution_count": 76,
   "id": "d49e19f0",
   "metadata": {},
   "outputs": [
    {
     "data": {
      "text/plain": [
       "'Cantidad de docs en el corpus:'"
      ]
     },
     "metadata": {},
     "output_type": "display_data"
    },
    {
     "data": {
      "text/plain": [
       "13504"
      ]
     },
     "metadata": {},
     "output_type": "display_data"
    },
    {
     "data": {
      "text/plain": [
       "'Cantidad de words distintas en el corpus:'"
      ]
     },
     "metadata": {},
     "output_type": "display_data"
    },
    {
     "data": {
      "text/plain": [
       "1122"
      ]
     },
     "metadata": {},
     "output_type": "display_data"
    }
   ],
   "source": [
    "w2v_model.build_vocab(sentence_tokens)\n",
    "display(\"Cantidad de docs en el corpus:\", w2v_model.corpus_count)\n",
    "display(\"Cantidad de words distintas en el corpus:\", len(w2v_model.wv.index_to_key))"
   ]
  },
  {
   "cell_type": "code",
   "execution_count": 79,
   "id": "cc351ba3",
   "metadata": {},
   "outputs": [
    {
     "name": "stdout",
     "output_type": "stream",
     "text": [
      "Loss after epoch 0: 47842.10546875\n",
      "Loss after epoch 1: 38177.33203125\n",
      "Loss after epoch 2: 47550.828125\n",
      "Loss after epoch 3: 47062.125\n",
      "Loss after epoch 4: 36538.328125\n",
      "Loss after epoch 5: 45938.0625\n",
      "Loss after epoch 6: 38373.53125\n",
      "Loss after epoch 7: 45495.96875\n",
      "Loss after epoch 8: 45045.28125\n",
      "Loss after epoch 9: 44888.84375\n",
      "Loss after epoch 10: 44333.0625\n",
      "Loss after epoch 11: 43566.03125\n",
      "Loss after epoch 12: 42328.75\n",
      "Loss after epoch 13: 32974.625\n",
      "Loss after epoch 14: 32979.75\n",
      "Loss after epoch 15: 41711.0\n",
      "Loss after epoch 16: 40965.0\n",
      "Loss after epoch 17: 40443.75\n",
      "Loss after epoch 18: 40809.5\n",
      "Loss after epoch 19: 40101.5625\n",
      "Loss after epoch 20: 41755.3125\n",
      "Loss after epoch 21: 42286.3125\n",
      "Loss after epoch 22: 39695.5\n",
      "Loss after epoch 23: 42692.1875\n",
      "Loss after epoch 24: 33951.25\n",
      "Loss after epoch 25: 39260.0\n",
      "Loss after epoch 26: 37755.75\n",
      "Loss after epoch 27: 38370.375\n",
      "Loss after epoch 28: 38524.125\n",
      "Loss after epoch 29: 38380.375\n",
      "Loss after epoch 30: 32723.75\n",
      "Loss after epoch 31: 37969.125\n",
      "Loss after epoch 32: 30580.625\n",
      "Loss after epoch 33: 39504.125\n",
      "Loss after epoch 34: 37701.5\n",
      "Loss after epoch 35: 29927.875\n",
      "Loss after epoch 36: 37071.875\n",
      "Loss after epoch 37: 37355.25\n",
      "Loss after epoch 38: 36723.625\n",
      "Loss after epoch 39: 31649.0\n",
      "Loss after epoch 40: 28878.0\n",
      "Loss after epoch 41: 37114.375\n",
      "Loss after epoch 42: 36113.375\n",
      "Loss after epoch 43: 36457.625\n",
      "Loss after epoch 44: 29231.875\n",
      "Loss after epoch 45: 31005.375\n",
      "Loss after epoch 46: 28410.25\n",
      "Loss after epoch 47: 36034.875\n",
      "Loss after epoch 48: 36120.125\n",
      "Loss after epoch 49: 27793.375\n",
      "Loss after epoch 50: 28755.75\n",
      "Loss after epoch 51: 35322.875\n",
      "Loss after epoch 52: 28679.875\n",
      "Loss after epoch 53: 34977.375\n",
      "Loss after epoch 54: 35239.75\n",
      "Loss after epoch 55: 34903.25\n",
      "Loss after epoch 56: 32964.25\n",
      "Loss after epoch 57: 25822.75\n",
      "Loss after epoch 58: 32868.0\n",
      "Loss after epoch 59: 28670.5\n"
     ]
    },
    {
     "data": {
      "text/plain": [
       "(2857968, 5101560)"
      ]
     },
     "execution_count": 79,
     "metadata": {},
     "output_type": "execute_result"
    }
   ],
   "source": [
    "w2v_model.train(sentence_tokens,\n",
    "                 total_examples=w2v_model.corpus_count,\n",
    "                 epochs=60,\n",
    "                 compute_loss = True,\n",
    "                 callbacks=[callback()]\n",
    "                 )"
   ]
  },
  {
   "cell_type": "markdown",
   "id": "26286f5b",
   "metadata": {},
   "source": [
    "## Pruebas"
   ]
  },
  {
   "cell_type": "code",
   "execution_count": 80,
   "id": "bab345fd",
   "metadata": {},
   "outputs": [
    {
     "data": {
      "text/plain": [
       "[('vial', 0.32271936535835266),\n",
       " ('piece', 0.31661638617515564),\n",
       " ('breath', 0.30926579236984253),\n",
       " ('book', 0.29943010210990906),\n",
       " ('highness', 0.2666929066181183),\n",
       " ('pocket', 0.25716638565063477),\n",
       " ('lighter', 0.25180700421333313),\n",
       " ('cockpit', 0.2496134638786316),\n",
       " ('dad', 0.24548287689685822),\n",
       " ('mouth', 0.24481654167175293)]"
      ]
     },
     "execution_count": 80,
     "metadata": {},
     "output_type": "execute_result"
    }
   ],
   "source": [
    "w2v_model.wv.most_similar(positive=[\"grail\"], topn=10)"
   ]
  },
  {
   "cell_type": "code",
   "execution_count": null,
   "id": "ed107869",
   "metadata": {},
   "outputs": [
    {
     "data": {
      "text/plain": [
       "[('pages', 0.369402676820755),\n",
       " ('indians', 0.3191428780555725),\n",
       " ('pieces', 0.29997438192367554),\n",
       " ('covenant', 0.2840358018875122),\n",
       " (\"we're\", 0.28078508377075195),\n",
       " ('lid', 0.28059902787208557),\n",
       " ('world', 0.2795999348163605),\n",
       " ('place', 0.2715905010700226),\n",
       " ('beam', 0.2548985779285431),\n",
       " ('cab', 0.25403445959091187)]"
      ]
     },
     "execution_count": 81,
     "metadata": {},
     "output_type": "execute_result"
    }
   ],
   "source": [
    "w2v_model.wv.most_similar(positive=[\"ark\"], topn=10)"
   ]
  },
  {
   "cell_type": "code",
   "execution_count": 84,
   "id": "81dace33",
   "metadata": {},
   "outputs": [
    {
     "data": {
      "text/plain": [
       "[('stones', 0.5401177406311035),\n",
       " ('sacred', 0.49849429726600647),\n",
       " ('bag', 0.4511288106441498),\n",
       " ('pieces', 0.3865293860435486),\n",
       " ('chest', 0.34016749262809753),\n",
       " ('shoulder', 0.29628708958625793),\n",
       " ('american', 0.27513179183006287),\n",
       " ('shaman', 0.2644558548927307),\n",
       " ('priest', 0.26418304443359375),\n",
       " ('ma', 0.26349884271621704)]"
      ]
     },
     "execution_count": 84,
     "metadata": {},
     "output_type": "execute_result"
    }
   ],
   "source": [
    "w2v_model.wv.most_similar(positive=[\"sankara\"], topn=10)"
   ]
  },
  {
   "cell_type": "code",
   "execution_count": 89,
   "id": "dae127db",
   "metadata": {},
   "outputs": [
    {
     "data": {
      "text/plain": [
       "[('fires', 0.2919274568557739),\n",
       " ('across', 0.28768402338027954),\n",
       " ('smiling', 0.28071507811546326),\n",
       " ('boulder', 0.2559468448162079),\n",
       " ('and', 0.25493016839027405),\n",
       " ('runs', 0.24979250133037567),\n",
       " ('toward', 0.24632732570171356),\n",
       " ('pilot', 0.24283920228481293),\n",
       " ('kicks', 0.24029484391212463),\n",
       " ('hurries', 0.23977002501487732)]"
      ]
     },
     "execution_count": 89,
     "metadata": {},
     "output_type": "execute_result"
    }
   ],
   "source": [
    "w2v_model.wv.most_similar(negative=[\"good\"], topn=10)"
   ]
  },
  {
   "cell_type": "markdown",
   "id": "1c14a205",
   "metadata": {},
   "source": [
    "## Visualizar agrupación de vectores"
   ]
  },
  {
   "cell_type": "code",
   "execution_count": 125,
   "id": "138886b6",
   "metadata": {},
   "outputs": [
    {
     "data": {
      "application/vnd.plotly.v1+json": {
       "config": {
        "plotlyServerURL": "https://plot.ly"
       },
       "data": [
        {
         "hovertemplate": "Tipo de palabra=blue<br>x=%{x}<br>y=%{y}<br>text=%{text}<extra></extra>",
         "legendgroup": "blue",
         "marker": {
          "color": "#636efa",
          "symbol": "circle"
         },
         "mode": "markers+text",
         "name": "blue",
         "orientation": "v",
         "showlegend": true,
         "text": [
          "crashes",
          "even",
          "wind",
          "smashes",
          "glass",
          "picks",
          "periscope",
          "between",
          "world",
          "there",
          "breaks",
          "hard",
          "black",
          "behind",
          "puts",
          "own",
          "only",
          "full",
          "walls",
          "exchange",
          "marcus",
          "sallah",
          "lifts",
          "bag",
          "again",
          "hands",
          "suddenly",
          "pushes",
          "water",
          "donovan",
          "above",
          "comes",
          "pull",
          "goes",
          "your",
          "see",
          "he",
          "lal",
          "hat",
          "hears",
          "finally",
          "death",
          "hits",
          "me",
          "shoulder",
          "kazim",
          "breath",
          "kali",
          "mine",
          "want",
          "nothing",
          "seems",
          "were",
          "that's",
          "covenant",
          "captain",
          "palace",
          "something",
          "much",
          "old",
          "so",
          "face",
          "over",
          "temple",
          "head",
          "stares",
          "almost",
          "plane",
          "village",
          "tell",
          "got",
          "cab",
          "going",
          "my",
          "torch",
          "ram",
          "rushes",
          "father",
          "rear",
          "vial",
          "inside",
          "machine",
          "lid",
          "make",
          "toward",
          "time",
          "there's",
          "arab",
          "enters",
          "around",
          "we're",
          "onto",
          "truck",
          "train",
          "mouth",
          "stones",
          "entrance",
          "day",
          "falls",
          "children",
          "room",
          "keep",
          "to",
          "belzig",
          "blood",
          "neck",
          "belloq",
          "will",
          "it's",
          "highness",
          "ground",
          "looks",
          "desert",
          "can't",
          "henry",
          "move",
          "up",
          "beam",
          "burning",
          "said",
          "three",
          "indy",
          "men",
          "now",
          "air",
          "small",
          "foot",
          "life",
          "soldier",
          "floor",
          "away",
          "climbs",
          "priest",
          "swings",
          "stop",
          "kicks",
          "rock",
          "way",
          "which",
          "some",
          "dead",
          "step",
          "tunnel",
          "still",
          "arm",
          "gong",
          "all",
          "can",
          "frame",
          "shaman",
          "doctor",
          "yes",
          "i",
          "pages",
          "right",
          "rolls",
          "before",
          "help",
          "knocks",
          "ahead",
          "jumps",
          "let",
          "our",
          "himself",
          "with",
          "sound",
          "feet",
          "trying",
          "has",
          "across",
          "gives",
          "glances",
          "their",
          "slides",
          "we",
          "doing",
          "indy's",
          "years",
          "boat",
          "sword",
          "these",
          "get",
          "spot",
          "moving",
          "drops",
          "pulls",
          "museum",
          "light",
          "out",
          "fall",
          "bullets",
          "too",
          "holds",
          "fire",
          "big",
          "platform",
          "other",
          "holding",
          "down",
          "would",
          "ext",
          "why",
          "once",
          "lighter",
          "box",
          "must",
          "cut",
          "place",
          "him",
          "had",
          "being",
          "you're",
          "walks",
          "nazi",
          "pieces",
          "below",
          "okay",
          "doesn't",
          "center",
          "fedora",
          "reaches",
          "yells",
          "bar",
          "then",
          "last",
          "thuggee",
          "they",
          "take",
          "off",
          "hole",
          "believe",
          "watch",
          "approaches",
          "steps",
          "car",
          "it",
          "find",
          "along",
          "stands",
          "close",
          "shakes",
          "marion",
          "monkey",
          "smoke",
          "cars",
          "half",
          "fast",
          "indiana",
          "street",
          "and",
          "side",
          "of",
          "god",
          "meanwhile",
          "brody",
          "whip",
          "slowly",
          "armed",
          "be",
          "map",
          "oh",
          "open",
          "dad",
          "diary",
          "guard",
          "forward",
          "seat",
          "attention",
          "white",
          "lost",
          "gun",
          "think",
          "its",
          "huge",
          "mountain",
          "moves",
          "good",
          "the",
          "night",
          "horse",
          "she",
          "a",
          "s",
          "they're",
          "any",
          "cliff",
          "what's",
          "sees",
          "bad",
          "until",
          "he's",
          "i'll",
          "statue",
          "here",
          "tank",
          "man",
          "sits",
          "is",
          "turns",
          "runs",
          "jones",
          "smiling",
          "elsa",
          "for",
          "int",
          "vogel",
          "hold",
          "watches",
          "altar",
          "giant",
          "ceiling",
          "her",
          "oil",
          "table",
          "walk",
          "against",
          "have",
          "just",
          "dr",
          "bottom",
          "little",
          "square",
          "tries",
          "more",
          "staff",
          "very",
          "smiles",
          "door",
          "american",
          "stops",
          "you",
          "through",
          "coming",
          "willie",
          "tall",
          "if",
          "start",
          "window",
          "moment",
          "wide",
          "past",
          "did",
          "what",
          "snakes",
          "indians",
          "i've",
          "grabs",
          "are",
          "i'm",
          "sun",
          "at",
          "roscoe",
          "disappears",
          "stand",
          "points",
          "takes",
          "turn",
          "lao",
          "cockpit",
          "left",
          "rocks",
          "book",
          "know",
          "nazis",
          "well",
          "maharajah",
          "appears",
          "river",
          "been",
          "both",
          "screams",
          "o",
          "round",
          "chest",
          "where",
          "several",
          "wall",
          "looking",
          "but",
          "end",
          "back",
          "flying",
          "front",
          "top",
          "flies",
          "them",
          "directly",
          "eyes",
          "nods",
          "never",
          "sacred",
          "pilot",
          "like",
          "into",
          "this",
          "go",
          "five",
          "first",
          "two",
          "long",
          "starts",
          "please",
          "heads",
          "rope",
          "running",
          "run",
          "road",
          "leans",
          "body",
          "willie's",
          "ma",
          "quickly",
          "dives",
          "immediately",
          "begins",
          "cavern",
          "no",
          "piece",
          "give",
          "satipo",
          "from",
          "an",
          "than",
          "snake",
          "when",
          "chamber",
          "does",
          "stone",
          "far",
          "short",
          "makes",
          "taking",
          "shorty",
          "cross",
          "blumburtt",
          "how",
          "about",
          "throws",
          "arms",
          "next",
          "wooden",
          "that",
          "pulling",
          "begin",
          "hall",
          "don't",
          "belt",
          "not",
          "speaks",
          "shliemann",
          "pocket",
          "by",
          "his",
          "as",
          "under",
          "each",
          "mola",
          "chattar",
          "on",
          "enough",
          "large",
          "hand",
          "jacket",
          "guards",
          "after",
          "gold",
          "near",
          "another",
          "kid",
          "come",
          "us",
          "reach",
          "shot",
          "corner",
          "high",
          "one",
          "dark",
          "do",
          "look",
          "knight",
          "bridge",
          "edge",
          "brake",
          "gets",
          "elephant",
          "enormous",
          "soldiers",
          "in",
          "continues",
          "found",
          "or",
          "who",
          "was",
          "hear",
          "german",
          "second",
          "opens"
         ],
         "textposition": "top center",
         "type": "scatter",
         "x": {
          "bdata": "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",
          "dtype": "f4"
         },
         "xaxis": "x",
         "y": {
          "bdata": "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",
          "dtype": "f4"
         },
         "yaxis": "y"
        },
        {
         "hovertemplate": "Tipo de palabra=red<br>x=%{x}<br>y=%{y}<br>text=%{text}<extra></extra>",
         "legendgroup": "red",
         "marker": {
          "color": "#EF553B",
          "symbol": "circle"
         },
         "mode": "markers+text",
         "name": "red",
         "orientation": "v",
         "showlegend": true,
         "text": [
          "sankara",
          "grail",
          "ark"
         ],
         "textposition": "top center",
         "type": "scatter",
         "x": {
          "bdata": "CNhpv9AyID/2ihzA",
          "dtype": "f4"
         },
         "xaxis": "x",
         "y": {
          "bdata": "Sb24QDt2N0AIU+g7",
          "dtype": "f4"
         },
         "yaxis": "y"
        }
       ],
       "layout": {
        "legend": {
         "title": {
          "text": "Tipo de palabra"
         },
         "tracegroupgap": 0
        },
        "margin": {
         "t": 60
        },
        "template": {
         "data": {
          "bar": [
           {
            "error_x": {
             "color": "#2a3f5f"
            },
            "error_y": {
             "color": "#2a3f5f"
            },
            "marker": {
             "line": {
              "color": "#E5ECF6",
              "width": 0.5
             },
             "pattern": {
              "fillmode": "overlay",
              "size": 10,
              "solidity": 0.2
             }
            },
            "type": "bar"
           }
          ],
          "barpolar": [
           {
            "marker": {
             "line": {
              "color": "#E5ECF6",
              "width": 0.5
             },
             "pattern": {
              "fillmode": "overlay",
              "size": 10,
              "solidity": 0.2
             }
            },
            "type": "barpolar"
           }
          ],
          "carpet": [
           {
            "aaxis": {
             "endlinecolor": "#2a3f5f",
             "gridcolor": "white",
             "linecolor": "white",
             "minorgridcolor": "white",
             "startlinecolor": "#2a3f5f"
            },
            "baxis": {
             "endlinecolor": "#2a3f5f",
             "gridcolor": "white",
             "linecolor": "white",
             "minorgridcolor": "white",
             "startlinecolor": "#2a3f5f"
            },
            "type": "carpet"
           }
          ],
          "choropleth": [
           {
            "colorbar": {
             "outlinewidth": 0,
             "ticks": ""
            },
            "type": "choropleth"
           }
          ],
          "contour": [
           {
            "colorbar": {
             "outlinewidth": 0,
             "ticks": ""
            },
            "colorscale": [
             [
              0,
              "#0d0887"
             ],
             [
              0.1111111111111111,
              "#46039f"
             ],
             [
              0.2222222222222222,
              "#7201a8"
             ],
             [
              0.3333333333333333,
              "#9c179e"
             ],
             [
              0.4444444444444444,
              "#bd3786"
             ],
             [
              0.5555555555555556,
              "#d8576b"
             ],
             [
              0.6666666666666666,
              "#ed7953"
             ],
             [
              0.7777777777777778,
              "#fb9f3a"
             ],
             [
              0.8888888888888888,
              "#fdca26"
             ],
             [
              1,
              "#f0f921"
             ]
            ],
            "type": "contour"
           }
          ],
          "contourcarpet": [
           {
            "colorbar": {
             "outlinewidth": 0,
             "ticks": ""
            },
            "type": "contourcarpet"
           }
          ],
          "heatmap": [
           {
            "colorbar": {
             "outlinewidth": 0,
             "ticks": ""
            },
            "colorscale": [
             [
              0,
              "#0d0887"
             ],
             [
              0.1111111111111111,
              "#46039f"
             ],
             [
              0.2222222222222222,
              "#7201a8"
             ],
             [
              0.3333333333333333,
              "#9c179e"
             ],
             [
              0.4444444444444444,
              "#bd3786"
             ],
             [
              0.5555555555555556,
              "#d8576b"
             ],
             [
              0.6666666666666666,
              "#ed7953"
             ],
             [
              0.7777777777777778,
              "#fb9f3a"
             ],
             [
              0.8888888888888888,
              "#fdca26"
             ],
             [
              1,
              "#f0f921"
             ]
            ],
            "type": "heatmap"
           }
          ],
          "histogram": [
           {
            "marker": {
             "pattern": {
              "fillmode": "overlay",
              "size": 10,
              "solidity": 0.2
             }
            },
            "type": "histogram"
           }
          ],
          "histogram2d": [
           {
            "colorbar": {
             "outlinewidth": 0,
             "ticks": ""
            },
            "colorscale": [
             [
              0,
              "#0d0887"
             ],
             [
              0.1111111111111111,
              "#46039f"
             ],
             [
              0.2222222222222222,
              "#7201a8"
             ],
             [
              0.3333333333333333,
              "#9c179e"
             ],
             [
              0.4444444444444444,
              "#bd3786"
             ],
             [
              0.5555555555555556,
              "#d8576b"
             ],
             [
              0.6666666666666666,
              "#ed7953"
             ],
             [
              0.7777777777777778,
              "#fb9f3a"
             ],
             [
              0.8888888888888888,
              "#fdca26"
             ],
             [
              1,
              "#f0f921"
             ]
            ],
            "type": "histogram2d"
           }
          ],
          "histogram2dcontour": [
           {
            "colorbar": {
             "outlinewidth": 0,
             "ticks": ""
            },
            "colorscale": [
             [
              0,
              "#0d0887"
             ],
             [
              0.1111111111111111,
              "#46039f"
             ],
             [
              0.2222222222222222,
              "#7201a8"
             ],
             [
              0.3333333333333333,
              "#9c179e"
             ],
             [
              0.4444444444444444,
              "#bd3786"
             ],
             [
              0.5555555555555556,
              "#d8576b"
             ],
             [
              0.6666666666666666,
              "#ed7953"
             ],
             [
              0.7777777777777778,
              "#fb9f3a"
             ],
             [
              0.8888888888888888,
              "#fdca26"
             ],
             [
              1,
              "#f0f921"
             ]
            ],
            "type": "histogram2dcontour"
           }
          ],
          "mesh3d": [
           {
            "colorbar": {
             "outlinewidth": 0,
             "ticks": ""
            },
            "type": "mesh3d"
           }
          ],
          "parcoords": [
           {
            "line": {
             "colorbar": {
              "outlinewidth": 0,
              "ticks": ""
             }
            },
            "type": "parcoords"
           }
          ],
          "pie": [
           {
            "automargin": true,
            "type": "pie"
           }
          ],
          "scatter": [
           {
            "fillpattern": {
             "fillmode": "overlay",
             "size": 10,
             "solidity": 0.2
            },
            "type": "scatter"
           }
          ],
          "scatter3d": [
           {
            "line": {
             "colorbar": {
              "outlinewidth": 0,
              "ticks": ""
             }
            },
            "marker": {
             "colorbar": {
              "outlinewidth": 0,
              "ticks": ""
             }
            },
            "type": "scatter3d"
           }
          ],
          "scattercarpet": [
           {
            "marker": {
             "colorbar": {
              "outlinewidth": 0,
              "ticks": ""
             }
            },
            "type": "scattercarpet"
           }
          ],
          "scattergeo": [
           {
            "marker": {
             "colorbar": {
              "outlinewidth": 0,
              "ticks": ""
             }
            },
            "type": "scattergeo"
           }
          ],
          "scattergl": [
           {
            "marker": {
             "colorbar": {
              "outlinewidth": 0,
              "ticks": ""
             }
            },
            "type": "scattergl"
           }
          ],
          "scattermap": [
           {
            "marker": {
             "colorbar": {
              "outlinewidth": 0,
              "ticks": ""
             }
            },
            "type": "scattermap"
           }
          ],
          "scattermapbox": [
           {
            "marker": {
             "colorbar": {
              "outlinewidth": 0,
              "ticks": ""
             }
            },
            "type": "scattermapbox"
           }
          ],
          "scatterpolar": [
           {
            "marker": {
             "colorbar": {
              "outlinewidth": 0,
              "ticks": ""
             }
            },
            "type": "scatterpolar"
           }
          ],
          "scatterpolargl": [
           {
            "marker": {
             "colorbar": {
              "outlinewidth": 0,
              "ticks": ""
             }
            },
            "type": "scatterpolargl"
           }
          ],
          "scatterternary": [
           {
            "marker": {
             "colorbar": {
              "outlinewidth": 0,
              "ticks": ""
             }
            },
            "type": "scatterternary"
           }
          ],
          "surface": [
           {
            "colorbar": {
             "outlinewidth": 0,
             "ticks": ""
            },
            "colorscale": [
             [
              0,
              "#0d0887"
             ],
             [
              0.1111111111111111,
              "#46039f"
             ],
             [
              0.2222222222222222,
              "#7201a8"
             ],
             [
              0.3333333333333333,
              "#9c179e"
             ],
             [
              0.4444444444444444,
              "#bd3786"
             ],
             [
              0.5555555555555556,
              "#d8576b"
             ],
             [
              0.6666666666666666,
              "#ed7953"
             ],
             [
              0.7777777777777778,
              "#fb9f3a"
             ],
             [
              0.8888888888888888,
              "#fdca26"
             ],
             [
              1,
              "#f0f921"
             ]
            ],
            "type": "surface"
           }
          ],
          "table": [
           {
            "cells": {
             "fill": {
              "color": "#EBF0F8"
             },
             "line": {
              "color": "white"
             }
            },
            "header": {
             "fill": {
              "color": "#C8D4E3"
             },
             "line": {
              "color": "white"
             }
            },
            "type": "table"
           }
          ]
         },
         "layout": {
          "annotationdefaults": {
           "arrowcolor": "#2a3f5f",
           "arrowhead": 0,
           "arrowwidth": 1
          },
          "autotypenumbers": "strict",
          "coloraxis": {
           "colorbar": {
            "outlinewidth": 0,
            "ticks": ""
           }
          },
          "colorscale": {
           "diverging": [
            [
             0,
             "#8e0152"
            ],
            [
             0.1,
             "#c51b7d"
            ],
            [
             0.2,
             "#de77ae"
            ],
            [
             0.3,
             "#f1b6da"
            ],
            [
             0.4,
             "#fde0ef"
            ],
            [
             0.5,
             "#f7f7f7"
            ],
            [
             0.6,
             "#e6f5d0"
            ],
            [
             0.7,
             "#b8e186"
            ],
            [
             0.8,
             "#7fbc41"
            ],
            [
             0.9,
             "#4d9221"
            ],
            [
             1,
             "#276419"
            ]
           ],
           "sequential": [
            [
             0,
             "#0d0887"
            ],
            [
             0.1111111111111111,
             "#46039f"
            ],
            [
             0.2222222222222222,
             "#7201a8"
            ],
            [
             0.3333333333333333,
             "#9c179e"
            ],
            [
             0.4444444444444444,
             "#bd3786"
            ],
            [
             0.5555555555555556,
             "#d8576b"
            ],
            [
             0.6666666666666666,
             "#ed7953"
            ],
            [
             0.7777777777777778,
             "#fb9f3a"
            ],
            [
             0.8888888888888888,
             "#fdca26"
            ],
            [
             1,
             "#f0f921"
            ]
           ],
           "sequentialminus": [
            [
             0,
             "#0d0887"
            ],
            [
             0.1111111111111111,
             "#46039f"
            ],
            [
             0.2222222222222222,
             "#7201a8"
            ],
            [
             0.3333333333333333,
             "#9c179e"
            ],
            [
             0.4444444444444444,
             "#bd3786"
            ],
            [
             0.5555555555555556,
             "#d8576b"
            ],
            [
             0.6666666666666666,
             "#ed7953"
            ],
            [
             0.7777777777777778,
             "#fb9f3a"
            ],
            [
             0.8888888888888888,
             "#fdca26"
            ],
            [
             1,
             "#f0f921"
            ]
           ]
          },
          "colorway": [
           "#636efa",
           "#EF553B",
           "#00cc96",
           "#ab63fa",
           "#FFA15A",
           "#19d3f3",
           "#FF6692",
           "#B6E880",
           "#FF97FF",
           "#FECB52"
          ],
          "font": {
           "color": "#2a3f5f"
          },
          "geo": {
           "bgcolor": "white",
           "lakecolor": "white",
           "landcolor": "#E5ECF6",
           "showlakes": true,
           "showland": true,
           "subunitcolor": "white"
          },
          "hoverlabel": {
           "align": "left"
          },
          "hovermode": "closest",
          "mapbox": {
           "style": "light"
          },
          "paper_bgcolor": "white",
          "plot_bgcolor": "#E5ECF6",
          "polar": {
           "angularaxis": {
            "gridcolor": "white",
            "linecolor": "white",
            "ticks": ""
           },
           "bgcolor": "#E5ECF6",
           "radialaxis": {
            "gridcolor": "white",
            "linecolor": "white",
            "ticks": ""
           }
          },
          "scene": {
           "xaxis": {
            "backgroundcolor": "#E5ECF6",
            "gridcolor": "white",
            "gridwidth": 2,
            "linecolor": "white",
            "showbackground": true,
            "ticks": "",
            "zerolinecolor": "white"
           },
           "yaxis": {
            "backgroundcolor": "#E5ECF6",
            "gridcolor": "white",
            "gridwidth": 2,
            "linecolor": "white",
            "showbackground": true,
            "ticks": "",
            "zerolinecolor": "white"
           },
           "zaxis": {
            "backgroundcolor": "#E5ECF6",
            "gridcolor": "white",
            "gridwidth": 2,
            "linecolor": "white",
            "showbackground": true,
            "ticks": "",
            "zerolinecolor": "white"
           }
          },
          "shapedefaults": {
           "line": {
            "color": "#2a3f5f"
           }
          },
          "ternary": {
           "aaxis": {
            "gridcolor": "white",
            "linecolor": "white",
            "ticks": ""
           },
           "baxis": {
            "gridcolor": "white",
            "linecolor": "white",
            "ticks": ""
           },
           "bgcolor": "#E5ECF6",
           "caxis": {
            "gridcolor": "white",
            "linecolor": "white",
            "ticks": ""
           }
          },
          "title": {
           "x": 0.05
          },
          "xaxis": {
           "automargin": true,
           "gridcolor": "white",
           "linecolor": "white",
           "ticks": "",
           "title": {
            "standoff": 15
           },
           "zerolinecolor": "white",
           "zerolinewidth": 2
          },
          "yaxis": {
           "automargin": true,
           "gridcolor": "white",
           "linecolor": "white",
           "ticks": "",
           "title": {
            "standoff": 15
           },
           "zerolinecolor": "white",
           "zerolinewidth": 2
          }
         }
        },
        "xaxis": {
         "anchor": "y",
         "domain": [
          0,
          1
         ],
         "title": {
          "text": "x"
         }
        },
        "yaxis": {
         "anchor": "x",
         "domain": [
          0,
          1
         ],
         "title": {
          "text": "y"
         }
        }
       }
      }
     },
     "metadata": {},
     "output_type": "display_data"
    }
   ],
   "source": [
    "vecs, labels = reduce_dimensions(w2v_model)\n",
    "\n",
    "MAX_WORDS=500\n",
    "plot_embeddings(w2v_model, vecs, labels, MAX_WORDS, highlight_words=[\"grail\",\"ark\",\"sankara\"])"
   ]
  },
  {
   "cell_type": "code",
   "execution_count": 127,
   "id": "4374bc39",
   "metadata": {},
   "outputs": [
    {
     "data": {
      "application/vnd.plotly.v1+json": {
       "config": {
        "plotlyServerURL": "https://plot.ly"
       },
       "data": [
        {
         "hovertemplate": "Tipo de palabra=blue<br>x=%{x}<br>y=%{y}<br>z=%{z}<br>text=%{text}<extra></extra>",
         "legendgroup": "blue",
         "marker": {
          "color": "#636efa",
          "size": 2,
          "symbol": "circle"
         },
         "mode": "markers+text",
         "name": "blue",
         "scene": "scene",
         "showlegend": true,
         "text": [
          "dad",
          "like",
          "floor",
          "into",
          "away",
          "guard",
          "world",
          "there",
          "priest",
          "this",
          "behind",
          "go",
          "way",
          "gun",
          "two",
          "which",
          "only",
          "some",
          "its",
          "moves",
          "the",
          "starts",
          "tunnel",
          "still",
          "she",
          "sallah",
          "a",
          "all",
          "can",
          "bag",
          "again",
          "ma",
          "hands",
          "suddenly",
          "shaman",
          "i",
          "water",
          "donovan",
          "pages",
          "sees",
          "right",
          "no",
          "piece",
          "your",
          "he's",
          "from",
          "see",
          "an",
          "here",
          "tank",
          "man",
          "he",
          "is",
          "turns",
          "when",
          "runs",
          "with",
          "jones",
          "feet",
          "finally",
          "has",
          "across",
          "their",
          "we",
          "elsa",
          "short",
          "indy's",
          "me",
          "shoulder",
          "for",
          "int",
          "vogel",
          "breath",
          "her",
          "get",
          "about",
          "mine",
          "pulls",
          "covenant",
          "that",
          "something",
          "don't",
          "against",
          "out",
          "so",
          "face",
          "have",
          "not",
          "over",
          "head",
          "just",
          "shliemann",
          "pocket",
          "by",
          "little",
          "got",
          "cab",
          "more",
          "other",
          "his",
          "down",
          "very",
          "ext",
          "door",
          "as",
          "lighter",
          "my",
          "going",
          "ram",
          "place",
          "american",
          "you",
          "him",
          "through",
          "mola",
          "vial",
          "chattar",
          "willie",
          "on",
          "nazi",
          "pieces",
          "hand",
          "lid",
          "if",
          "toward",
          "another",
          "time",
          "come",
          "what",
          "indians",
          "grabs",
          "around",
          "we're",
          "are",
          "i'm",
          "reaches",
          "onto",
          "truck",
          "mouth",
          "stones",
          "at",
          "then",
          "day",
          "they",
          "take",
          "off",
          "takes",
          "car",
          "one",
          "cockpit",
          "it",
          "room",
          "do",
          "book",
          "know",
          "nazis",
          "to",
          "well",
          "look",
          "maharajah",
          "belloq",
          "will",
          "it's",
          "been",
          "highness",
          "marion",
          "looks",
          "in",
          "henry",
          "indiana",
          "round",
          "chest",
          "up",
          "where",
          "and",
          "beam",
          "side",
          "of",
          "wall",
          "who",
          "but",
          "was",
          "looking",
          "back",
          "brody",
          "indy",
          "whip",
          "three",
          "men",
          "now",
          "front",
          "be",
          "them",
          "small",
          "eyes",
          "open",
          "sacred"
         ],
         "textposition": "top center",
         "type": "scatter3d",
         "x": {
          "bdata": "rLaKwd9S3UHONjHCamM9QrYmB0JO+EtAYAgywSkMucBIDxBCoEA4wkiKKkJ90THBC74jQUhnGEKGMMfBOqTcwRUjnEH2WXPBiC3EQAY3MEDMuho/qs7GP9JoHML36DJBiRyKQhXwGMLxLLhBCzshQL44fMGN2UlAAmCEQYc6IMEGZKtA7EV+Qo2T7UG3ZC9ADn+PwU4afEIgJS3CObELQhpil0HjhoxAU1B4wrStmcFodcFBg882QpPqo0H6fn5C/wOywaRGxsE2vgxChJd7QjYd68H/VChCyOH/QdOqCEFdFyNCA24Mwjh4i8DB7n9C6UtQQsyQHUJHLBbCVVQlPwqNZUKV6/fAd/oNQg1+D8DAuxlCNh+1QY5CScKnH4BCXm3lQZ/VU0K4VUTBsJcMQgb1ecHqBOFBL29ewXIVLMIhrnxCEWpnQPoD2kGYLcfBmLYFwnzlRUI+L9dAOjT5wc/3ZUIZ3otB53Vswsa68UF1tD9CXAqQwoG0XkJ6nI+/oe3IwRrd+cGF3KhAqGc/QuI7lEIFcyTA0OVYwk07AcIRtEhCIjXqQXCSJsE3xhDCrHZ0QYwbasJ2PqZAlt0APq9kcUIDl7lBf1kWwDTMKELtlj1CloiEQrS5JUIjb3FBIbSowdDvBUKhnETB43UYQs6jDEIRwWtB7UsQwsc5+sG1BedAdSuBQcw6OkIC3RNCjwHKwTTQ478fQKzBF/wCQskYHkJ3b7zBPwEtQvxVKsF5YfJBkNZhQgBAQ8KnWlXBy3g5QUebaUKUFgVCXg1CwoZJgMJwBULCJtSWQYDjTsLkKJ0/9suyQW5SeEEg1glBPyNXQUQ/HsKyRLhBFOaOQpigW0KxTpBBgU3AwXWd9cBO4gTBcoSFQlAsXUJ8xj1CrV+qQV+gW0JZjRhB2Vg5wlBwjUL/+1jCUWxMQp2VqMHyFPTBkLzwwMf/yEHSuotCauAuQWMh5EFNsmRBmvtgQsBcAUKyhmVCMW0yQh/4xcF3dKHAdJwDQqTSq8D8p3HBTKYtQqkZgsJy1QRCqeyPwonSucA=",
          "dtype": "f4"
         },
         "y": {
          "bdata": "I925QZZow0FAFDbA7B6lP9yRm0GWtuc/KatMQTtItsGp/NHB1Po7QrfTIcHuu35CsfJKwvezLUKs0Ky+AwM8wkJh5cFTzE3CxP2yQKwtKEIcjoG+EUKOQviRmsGglUfB5bIGQDn0LMI+cjTC13kTwp7TLUGcWHtC05uzwUp9EcB0l2BCjNdhwcdnUcEH+AhB8079QTV0G8HDw3vB0PIOwFwzVsBp0ktBOtIXwnShxEFkag9A7Pi3wYC+O0I8ciTCUvEAQkFAYcIucUi/WAyBP7Vl+EFeJyNBLOAbQSab6EEeRUTCYFs5QksTZkLyLRdCNc1wQbIcVMHIZn3CWEmRwBfqiMFtIUxCwAsowk4MgUEzEiRCRSvDwe8LRcH8ycO/5x4QwqXmCsHQKQJCEWTFQJFhCb+lJr1BPJ8XwroXFEDQHjBCkuc/QVjg20BgIYVCR6JTQSIfR0Iw9S9Ce9jSQQ6j8EEMl11CdKqQQc2rL8JL4CdCHMi3wcMx30GlQSRC7fEYwnfPJ8HOcjRCiuCKv2PFG0HNkgzC5MqNwMdMvkGb5nfA1i8PQtXCoUHTBDVBw9xPwvD2AMIpf77BEHtNQLvxAkFAAkvCa2huwianZ0Hk6GDB8wd7Qbz3iUFEYjxC4pdiP68PT0L7bQHCCjCuQQZBTsFNSHbAjZwNwe3uHUJ7A89BhU7wwcOOu0GAnBRASogfQkmVXUKKmPNBI94aQsoBxEGPnjLCLuNbQrsicUJ2aAPCUE5OwSj2I7/HR5fC0McSQuBS6EHuAghCHQUuQOkTh8FrwzRCk1WLQlY9jEFBggNC7OPpwV+B+kG3tafBfjEcwrmA/b+SsI/C5EXqwO3F38HI7IZAEKhhv1wEsUFUGPRB+a7RweUzN8EsRgPBOFkGQnMeMkGO5DxCRIsrQsPmrUG44w6+Nk20PgWrLUGwgo6/MfLjwTXMpkFBntfBoqIrQJ6/HkLaZaLAhyRhQZxOX8KSwnFAlFJaQsGgAUIYXlxC1IduwS0EGcKH9ThCxwuBwkTcTcAddz9Chz2bQHROSUI=",
          "dtype": "f4"
         },
         "z": {
          "bdata": "ctIhQiGeM0Ia6HzC+Zc1wrgR2MGXJU3CmIe0QZgNxEErqwrCF1INQpbOkME+hgdCxCzewbVW7cGgi2NBsMo9wqm5gUI8Dv5BRfJfwVPKeMF/PP/BTfq1wWizcMIcVQZAnFnLwa2xecGhMU7CIWU2Qn2ei0LM331BNpv+QemPn0G+VKm/m60WwuyzwUHFfZRCvlgswt/ioMHfSK9BT1K1wUFulkJ7PtlBj39yQDeOjULnbipCves9whKBGkJKzY1A3kkbQqYg+cHSmLJBzmn0watvsMBsP4VBVON8QlmpE8KkCgfAwEq5QQ8ZdcE7B9JAcHjYQBtP+cERaWLAfW+WQlpipMFFl0DApOQvQUrkHkJjabA/QL2rQXJdSsFOrC/BkIZXQlLz5cFm6wFCe05EQh+lksJsGQrB1WVAQaz3/kEItp/Bbh1vQvkn3cGp9trB2X6JQtiMzkHpgAdChmo/Qt1PoMFhCpZAAOsOQheY+MHG1yNB7NZxQS/gBUJ34GdCXVFPwZaQGUKyvTPCKdP1weYvEcHb5rRB6Fw4wZtRgcFSbE/B9nTCwIGYBELprVZChyA2QmPyEEIJqGVAzp+TQhaRiMG/XazBTdkHQlNyDkIilDdCm9wBwis5TcI2FJvBR3rDQev/yT9WFYlAjapaQrruK8JGwJrCoxniQQ35wECtvYtCAcavwTBWXMH23BPCAI9IQqAfH0IGKmtCQz4rwoqaN8L5S4jBVS0wQXygiEG/MkrAZL/NwJw4lL/0CYFBMyzMQUefuMAZbHxB9oMmwmGc/kGSoRvCCzCNQc4CccFgALZBtqYrQo5VLULR67TBN25cQjPAiEHU/K5BikaAQRwSKEAjQFpCL/YNQj3bu0DpOblBFpvEwWoZ+kCNwi3C3BJywYvQ88Ek9P3B0KW9QOvdesE43StCFOucwZAYSsHfxIrCTiKSwYm1ZsJmVG27RhXNQWZMTkIn6KzATUk5wjvHL8E22dTBbFGpwfsOrMF3XE/CyI6DQuDkAMIGzbdBsCcGvxrKMsIOv1BB/XQbQMWVLkE=",
          "dtype": "f4"
         }
        },
        {
         "hovertemplate": "Tipo de palabra=red<br>x=%{x}<br>y=%{y}<br>z=%{z}<br>text=%{text}<extra></extra>",
         "legendgroup": "red",
         "marker": {
          "color": "#EF553B",
          "size": 2,
          "symbol": "circle"
         },
         "mode": "markers+text",
         "name": "red",
         "scene": "scene",
         "showlegend": true,
         "text": [
          "ark",
          "sankara",
          "grail"
         ],
         "textposition": "top center",
         "type": "scatter3d",
         "x": {
          "bdata": "4LkSwtEFwcB8WCNC",
          "dtype": "f4"
         },
         "y": {
          "bdata": "ezShwbVqZkKT9LZB",
          "dtype": "f4"
         },
         "z": {
          "bdata": "KymlQfHxREFqiBpC",
          "dtype": "f4"
         }
        }
       ],
       "layout": {
        "legend": {
         "title": {
          "text": "Tipo de palabra"
         },
         "tracegroupgap": 0
        },
        "margin": {
         "t": 60
        },
        "scene": {
         "domain": {
          "x": [
           0,
           1
          ],
          "y": [
           0,
           1
          ]
         },
         "xaxis": {
          "title": {
           "text": "x"
          }
         },
         "yaxis": {
          "title": {
           "text": "y"
          }
         },
         "zaxis": {
          "title": {
           "text": "z"
          }
         }
        },
        "template": {
         "data": {
          "bar": [
           {
            "error_x": {
             "color": "#2a3f5f"
            },
            "error_y": {
             "color": "#2a3f5f"
            },
            "marker": {
             "line": {
              "color": "#E5ECF6",
              "width": 0.5
             },
             "pattern": {
              "fillmode": "overlay",
              "size": 10,
              "solidity": 0.2
             }
            },
            "type": "bar"
           }
          ],
          "barpolar": [
           {
            "marker": {
             "line": {
              "color": "#E5ECF6",
              "width": 0.5
             },
             "pattern": {
              "fillmode": "overlay",
              "size": 10,
              "solidity": 0.2
             }
            },
            "type": "barpolar"
           }
          ],
          "carpet": [
           {
            "aaxis": {
             "endlinecolor": "#2a3f5f",
             "gridcolor": "white",
             "linecolor": "white",
             "minorgridcolor": "white",
             "startlinecolor": "#2a3f5f"
            },
            "baxis": {
             "endlinecolor": "#2a3f5f",
             "gridcolor": "white",
             "linecolor": "white",
             "minorgridcolor": "white",
             "startlinecolor": "#2a3f5f"
            },
            "type": "carpet"
           }
          ],
          "choropleth": [
           {
            "colorbar": {
             "outlinewidth": 0,
             "ticks": ""
            },
            "type": "choropleth"
           }
          ],
          "contour": [
           {
            "colorbar": {
             "outlinewidth": 0,
             "ticks": ""
            },
            "colorscale": [
             [
              0,
              "#0d0887"
             ],
             [
              0.1111111111111111,
              "#46039f"
             ],
             [
              0.2222222222222222,
              "#7201a8"
             ],
             [
              0.3333333333333333,
              "#9c179e"
             ],
             [
              0.4444444444444444,
              "#bd3786"
             ],
             [
              0.5555555555555556,
              "#d8576b"
             ],
             [
              0.6666666666666666,
              "#ed7953"
             ],
             [
              0.7777777777777778,
              "#fb9f3a"
             ],
             [
              0.8888888888888888,
              "#fdca26"
             ],
             [
              1,
              "#f0f921"
             ]
            ],
            "type": "contour"
           }
          ],
          "contourcarpet": [
           {
            "colorbar": {
             "outlinewidth": 0,
             "ticks": ""
            },
            "type": "contourcarpet"
           }
          ],
          "heatmap": [
           {
            "colorbar": {
             "outlinewidth": 0,
             "ticks": ""
            },
            "colorscale": [
             [
              0,
              "#0d0887"
             ],
             [
              0.1111111111111111,
              "#46039f"
             ],
             [
              0.2222222222222222,
              "#7201a8"
             ],
             [
              0.3333333333333333,
              "#9c179e"
             ],
             [
              0.4444444444444444,
              "#bd3786"
             ],
             [
              0.5555555555555556,
              "#d8576b"
             ],
             [
              0.6666666666666666,
              "#ed7953"
             ],
             [
              0.7777777777777778,
              "#fb9f3a"
             ],
             [
              0.8888888888888888,
              "#fdca26"
             ],
             [
              1,
              "#f0f921"
             ]
            ],
            "type": "heatmap"
           }
          ],
          "histogram": [
           {
            "marker": {
             "pattern": {
              "fillmode": "overlay",
              "size": 10,
              "solidity": 0.2
             }
            },
            "type": "histogram"
           }
          ],
          "histogram2d": [
           {
            "colorbar": {
             "outlinewidth": 0,
             "ticks": ""
            },
            "colorscale": [
             [
              0,
              "#0d0887"
             ],
             [
              0.1111111111111111,
              "#46039f"
             ],
             [
              0.2222222222222222,
              "#7201a8"
             ],
             [
              0.3333333333333333,
              "#9c179e"
             ],
             [
              0.4444444444444444,
              "#bd3786"
             ],
             [
              0.5555555555555556,
              "#d8576b"
             ],
             [
              0.6666666666666666,
              "#ed7953"
             ],
             [
              0.7777777777777778,
              "#fb9f3a"
             ],
             [
              0.8888888888888888,
              "#fdca26"
             ],
             [
              1,
              "#f0f921"
             ]
            ],
            "type": "histogram2d"
           }
          ],
          "histogram2dcontour": [
           {
            "colorbar": {
             "outlinewidth": 0,
             "ticks": ""
            },
            "colorscale": [
             [
              0,
              "#0d0887"
             ],
             [
              0.1111111111111111,
              "#46039f"
             ],
             [
              0.2222222222222222,
              "#7201a8"
             ],
             [
              0.3333333333333333,
              "#9c179e"
             ],
             [
              0.4444444444444444,
              "#bd3786"
             ],
             [
              0.5555555555555556,
              "#d8576b"
             ],
             [
              0.6666666666666666,
              "#ed7953"
             ],
             [
              0.7777777777777778,
              "#fb9f3a"
             ],
             [
              0.8888888888888888,
              "#fdca26"
             ],
             [
              1,
              "#f0f921"
             ]
            ],
            "type": "histogram2dcontour"
           }
          ],
          "mesh3d": [
           {
            "colorbar": {
             "outlinewidth": 0,
             "ticks": ""
            },
            "type": "mesh3d"
           }
          ],
          "parcoords": [
           {
            "line": {
             "colorbar": {
              "outlinewidth": 0,
              "ticks": ""
             }
            },
            "type": "parcoords"
           }
          ],
          "pie": [
           {
            "automargin": true,
            "type": "pie"
           }
          ],
          "scatter": [
           {
            "fillpattern": {
             "fillmode": "overlay",
             "size": 10,
             "solidity": 0.2
            },
            "type": "scatter"
           }
          ],
          "scatter3d": [
           {
            "line": {
             "colorbar": {
              "outlinewidth": 0,
              "ticks": ""
             }
            },
            "marker": {
             "colorbar": {
              "outlinewidth": 0,
              "ticks": ""
             }
            },
            "type": "scatter3d"
           }
          ],
          "scattercarpet": [
           {
            "marker": {
             "colorbar": {
              "outlinewidth": 0,
              "ticks": ""
             }
            },
            "type": "scattercarpet"
           }
          ],
          "scattergeo": [
           {
            "marker": {
             "colorbar": {
              "outlinewidth": 0,
              "ticks": ""
             }
            },
            "type": "scattergeo"
           }
          ],
          "scattergl": [
           {
            "marker": {
             "colorbar": {
              "outlinewidth": 0,
              "ticks": ""
             }
            },
            "type": "scattergl"
           }
          ],
          "scattermap": [
           {
            "marker": {
             "colorbar": {
              "outlinewidth": 0,
              "ticks": ""
             }
            },
            "type": "scattermap"
           }
          ],
          "scattermapbox": [
           {
            "marker": {
             "colorbar": {
              "outlinewidth": 0,
              "ticks": ""
             }
            },
            "type": "scattermapbox"
           }
          ],
          "scatterpolar": [
           {
            "marker": {
             "colorbar": {
              "outlinewidth": 0,
              "ticks": ""
             }
            },
            "type": "scatterpolar"
           }
          ],
          "scatterpolargl": [
           {
            "marker": {
             "colorbar": {
              "outlinewidth": 0,
              "ticks": ""
             }
            },
            "type": "scatterpolargl"
           }
          ],
          "scatterternary": [
           {
            "marker": {
             "colorbar": {
              "outlinewidth": 0,
              "ticks": ""
             }
            },
            "type": "scatterternary"
           }
          ],
          "surface": [
           {
            "colorbar": {
             "outlinewidth": 0,
             "ticks": ""
            },
            "colorscale": [
             [
              0,
              "#0d0887"
             ],
             [
              0.1111111111111111,
              "#46039f"
             ],
             [
              0.2222222222222222,
              "#7201a8"
             ],
             [
              0.3333333333333333,
              "#9c179e"
             ],
             [
              0.4444444444444444,
              "#bd3786"
             ],
             [
              0.5555555555555556,
              "#d8576b"
             ],
             [
              0.6666666666666666,
              "#ed7953"
             ],
             [
              0.7777777777777778,
              "#fb9f3a"
             ],
             [
              0.8888888888888888,
              "#fdca26"
             ],
             [
              1,
              "#f0f921"
             ]
            ],
            "type": "surface"
           }
          ],
          "table": [
           {
            "cells": {
             "fill": {
              "color": "#EBF0F8"
             },
             "line": {
              "color": "white"
             }
            },
            "header": {
             "fill": {
              "color": "#C8D4E3"
             },
             "line": {
              "color": "white"
             }
            },
            "type": "table"
           }
          ]
         },
         "layout": {
          "annotationdefaults": {
           "arrowcolor": "#2a3f5f",
           "arrowhead": 0,
           "arrowwidth": 1
          },
          "autotypenumbers": "strict",
          "coloraxis": {
           "colorbar": {
            "outlinewidth": 0,
            "ticks": ""
           }
          },
          "colorscale": {
           "diverging": [
            [
             0,
             "#8e0152"
            ],
            [
             0.1,
             "#c51b7d"
            ],
            [
             0.2,
             "#de77ae"
            ],
            [
             0.3,
             "#f1b6da"
            ],
            [
             0.4,
             "#fde0ef"
            ],
            [
             0.5,
             "#f7f7f7"
            ],
            [
             0.6,
             "#e6f5d0"
            ],
            [
             0.7,
             "#b8e186"
            ],
            [
             0.8,
             "#7fbc41"
            ],
            [
             0.9,
             "#4d9221"
            ],
            [
             1,
             "#276419"
            ]
           ],
           "sequential": [
            [
             0,
             "#0d0887"
            ],
            [
             0.1111111111111111,
             "#46039f"
            ],
            [
             0.2222222222222222,
             "#7201a8"
            ],
            [
             0.3333333333333333,
             "#9c179e"
            ],
            [
             0.4444444444444444,
             "#bd3786"
            ],
            [
             0.5555555555555556,
             "#d8576b"
            ],
            [
             0.6666666666666666,
             "#ed7953"
            ],
            [
             0.7777777777777778,
             "#fb9f3a"
            ],
            [
             0.8888888888888888,
             "#fdca26"
            ],
            [
             1,
             "#f0f921"
            ]
           ],
           "sequentialminus": [
            [
             0,
             "#0d0887"
            ],
            [
             0.1111111111111111,
             "#46039f"
            ],
            [
             0.2222222222222222,
             "#7201a8"
            ],
            [
             0.3333333333333333,
             "#9c179e"
            ],
            [
             0.4444444444444444,
             "#bd3786"
            ],
            [
             0.5555555555555556,
             "#d8576b"
            ],
            [
             0.6666666666666666,
             "#ed7953"
            ],
            [
             0.7777777777777778,
             "#fb9f3a"
            ],
            [
             0.8888888888888888,
             "#fdca26"
            ],
            [
             1,
             "#f0f921"
            ]
           ]
          },
          "colorway": [
           "#636efa",
           "#EF553B",
           "#00cc96",
           "#ab63fa",
           "#FFA15A",
           "#19d3f3",
           "#FF6692",
           "#B6E880",
           "#FF97FF",
           "#FECB52"
          ],
          "font": {
           "color": "#2a3f5f"
          },
          "geo": {
           "bgcolor": "white",
           "lakecolor": "white",
           "landcolor": "#E5ECF6",
           "showlakes": true,
           "showland": true,
           "subunitcolor": "white"
          },
          "hoverlabel": {
           "align": "left"
          },
          "hovermode": "closest",
          "mapbox": {
           "style": "light"
          },
          "paper_bgcolor": "white",
          "plot_bgcolor": "#E5ECF6",
          "polar": {
           "angularaxis": {
            "gridcolor": "white",
            "linecolor": "white",
            "ticks": ""
           },
           "bgcolor": "#E5ECF6",
           "radialaxis": {
            "gridcolor": "white",
            "linecolor": "white",
            "ticks": ""
           }
          },
          "scene": {
           "xaxis": {
            "backgroundcolor": "#E5ECF6",
            "gridcolor": "white",
            "gridwidth": 2,
            "linecolor": "white",
            "showbackground": true,
            "ticks": "",
            "zerolinecolor": "white"
           },
           "yaxis": {
            "backgroundcolor": "#E5ECF6",
            "gridcolor": "white",
            "gridwidth": 2,
            "linecolor": "white",
            "showbackground": true,
            "ticks": "",
            "zerolinecolor": "white"
           },
           "zaxis": {
            "backgroundcolor": "#E5ECF6",
            "gridcolor": "white",
            "gridwidth": 2,
            "linecolor": "white",
            "showbackground": true,
            "ticks": "",
            "zerolinecolor": "white"
           }
          },
          "shapedefaults": {
           "line": {
            "color": "#2a3f5f"
           }
          },
          "ternary": {
           "aaxis": {
            "gridcolor": "white",
            "linecolor": "white",
            "ticks": ""
           },
           "baxis": {
            "gridcolor": "white",
            "linecolor": "white",
            "ticks": ""
           },
           "bgcolor": "#E5ECF6",
           "caxis": {
            "gridcolor": "white",
            "linecolor": "white",
            "ticks": ""
           }
          },
          "title": {
           "x": 0.05
          },
          "xaxis": {
           "automargin": true,
           "gridcolor": "white",
           "linecolor": "white",
           "ticks": "",
           "title": {
            "standoff": 15
           },
           "zerolinecolor": "white",
           "zerolinewidth": 2
          },
          "yaxis": {
           "automargin": true,
           "gridcolor": "white",
           "linecolor": "white",
           "ticks": "",
           "title": {
            "standoff": 15
           },
           "zerolinecolor": "white",
           "zerolinewidth": 2
          }
         }
        }
       }
      }
     },
     "metadata": {},
     "output_type": "display_data"
    }
   ],
   "source": [
    "vecs, labels = reduce_dimensions(w2v_model,3)\n",
    "\n",
    "MAX_WORDS=200\n",
    "plot_embeddings(w2v_model, vecs, labels, MAX_WORDS, highlight_words=[\"grail\",\"ark\",\"sankara\"])"
   ]
  }
 ],
 "metadata": {
  "kernelspec": {
   "display_name": "venv",
   "language": "python",
   "name": "python3"
  },
  "language_info": {
   "codemirror_mode": {
    "name": "ipython",
    "version": 3
   },
   "file_extension": ".py",
   "mimetype": "text/x-python",
   "name": "python",
   "nbconvert_exporter": "python",
   "pygments_lexer": "ipython3",
   "version": "3.12.10"
  }
 },
 "nbformat": 4,
 "nbformat_minor": 5
}
